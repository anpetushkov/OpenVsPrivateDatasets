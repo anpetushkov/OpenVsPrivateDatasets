{
 "cells": [
  {
   "cell_type": "markdown",
   "metadata": {},
   "source": [
    "# 0. Prepare Environment "
   ]
  },
  {
   "cell_type": "code",
   "execution_count": 2,
   "metadata": {},
   "outputs": [
    {
     "name": "stderr",
     "output_type": "stream",
     "text": [
      "/Users/chenyuli/anaconda3/envs/py3/lib/python3.11/site-packages/fuzzywuzzy/fuzz.py:11: UserWarning: Using slow pure-python SequenceMatcher. Install python-Levenshtein to remove this warning\n",
      "  warnings.warn('Using slow pure-python SequenceMatcher. Install python-Levenshtein to remove this warning')\n"
     ]
    }
   ],
   "source": [
    "import dimcli\n",
    "import numpy as np\n",
    "import pandas as pd\n",
    "\n",
    "import country_converter as coco \n",
    "import pycountry\n",
    "\n",
    "import re\n",
    "import typing\n",
    "from ast import literal_eval\n",
    "from typing import Iterable\n",
    "\n",
    "# import dataframe_image as dfi\n",
    "import dimcli\n",
    "import matplotlib.pyplot as plt\n",
    "import numpy as np\n",
    "import pandas as pd\n",
    "import pycountry\n",
    "import seaborn as sns\n",
    "from scipy.stats import ttest_ind\n",
    "from sklearn.impute import SimpleImputer\n",
    "\n",
    "from fuzzywuzzy import fuzz"
   ]
  },
  {
   "cell_type": "code",
   "execution_count": 3,
   "metadata": {},
   "outputs": [
    {
     "name": "stderr",
     "output_type": "stream",
     "text": [
      "Warning: you are not logged in. Please use `dimcli.login(key, endpoint)` before querying.\u001b[0m\n"
     ]
    }
   ],
   "source": [
    "# dimcli.login(\n",
    "#     key=\"\", endpoint=\"https://app.dimensions.ai\"\n",
    "# )\n",
    "dsl = dimcli.Dsl()\n",
    "\n",
    "get_new_data = False"
   ]
  },
  {
   "cell_type": "markdown",
   "metadata": {},
   "source": [
    "# 1. Data Pre-processing "
   ]
  },
  {
   "cell_type": "markdown",
   "metadata": {},
   "source": [
    "### Get Data "
   ]
  },
  {
   "cell_type": "code",
   "execution_count": 5,
   "metadata": {},
   "outputs": [],
   "source": [
    "def get_split(ser: pd.Series):\n",
    "    return np.array_split(ser, ser.shape[0] / 400)\n",
    "\n",
    "\n",
    "def get_data():\n",
    "    if get_new_data:\n",
    "        control = pd.read_csv(\"control-pmid.csv\")\n",
    "        \"\"\"Query:\n",
    "        https://pubmed.ncbi.nlm.nih.gov/?term=%28%28%22machine+learning%22%5BMajr%5D+OR+%28%22machine%22%5Bti%5D+AND+%22learning%22%5Bti%5D%29+OR+%22machine+learning%22%5Bti%5D+OR+%22AI%22%5Bti%5D+OR+%22Artificial+Intelligence%22%5Bti%5D+OR+%22artificially+intelligent%22%5Bti%5D+OR+%22Artificial+Intelligence%22%5BMeSH%5D+OR+%22Algorithms%22%5BMeSH%5D+OR+%22algorithm*%22%5Bti%5D+OR+%22deep+learning%22%5Bti%5D+OR+%22computer+vision%22%5Bti%5D+OR+%22natural+language+processing%22%5Bti%5D+OR+%22neural+network*%22%5Bti%5D+OR+%22neural+networks%2C+computer%22%5BMeSH%5D+OR+%22intelligent+machine*%22%5Bti%5D%29+AND+%28exp+%22Intensive+Care+Units%22%2F+OR+exp+%22Critical+Care%22%2F+OR+%28ICU+OR+IC+OR+%28%28intensive+OR+critical%29+ADJ3+%28care+OR+therapy+OR+unit*+OR+patient*+OR+department%5C*%29%29%29%29%29&filter=years.2010-2023\n",
    "        \"\"\"\n",
    "        df_pubs_control = pd.DataFrame()\n",
    "        df_auths_control = pd.DataFrame()\n",
    "        df_affils_control = pd.DataFrame()\n",
    "\n",
    "        for pmid_list in get_split(control.PMID):\n",
    "            query = fr\"\"\"search publications where pmid in {list(pmid_list)} and year in [2010:2022]\n",
    "            return publications[basics+abstract+authors_count+doi+concepts_scores+times_cited+mesh_terms\n",
    "            +journal+editors+field_citation_ratio+funder_countries+funders+open_access\n",
    "            +relative_citation_ratio+publisher+pmid+supporting_grant_ids+research_org_cities+pmid\n",
    "            +research_org_countries+research_org_country_names+research_org_names+research_org_state_codes\n",
    "            +research_org_state_names+research_orgs+researchers+category_bra+category_for+category_hra+category_hrcs_hc+\n",
    "            category_hrcs_rac+category_icrp_cso+category_icrp_ct+category_rcdc+category_sdg+category_uoa]\"\"\"\n",
    "            data = dsl.query_iterative(query)\n",
    "            df_pubs_control = pd.concat([df_pubs_control, data.as_dataframe()])\n",
    "            df_auths_control = pd.concat(\n",
    "                [df_auths_control, data.as_dataframe_authors()]\n",
    "            )\n",
    "            df_affils_control = pd.concat(\n",
    "                [df_affils_control, data.as_dataframe_authors_affiliations()]\n",
    "            )\n",
    "\n",
    "        df_pubs_control.to_csv(\"control_group_pubs.csv\")\n",
    "        df_auths_control.to_csv(\"control_group_auths.csv\")\n",
    "        df_affils_control.to_csv(\"control_group_affils.csv\")\n",
    "\n",
    "        compare_query = fr\"\"\"search publications where year in [2010:2022] for \"\\\"datamed org display item php\\\" OR \\\"physionet mimic ii database\\\" \n",
    "        OR \\\"mimic iii medical information mart for intensive care\\\" OR\n",
    "        \\\"10.13026 s6n6 xd98\\\" OR \\\"mimic iv\\\" OR \\\"physionet org content mimiciv\\\" OR\n",
    "        \\\"eicu crd\\\" OR \\\"mimic cxr\\\"\" return publications[basics+abstract+authors_count+doi+concepts_scores+times_cited\n",
    "            +mesh_terms+journal+editors+field_citation_ratio+funder_countries+funders+open_access\n",
    "            +relative_citation_ratio+publisher+pmid+supporting_grant_ids+research_org_cities+pmid\n",
    "            +research_org_countries+research_org_country_names+research_org_names+research_org_state_codes\n",
    "            +research_org_state_names+research_orgs+researchers+category_bra+category_for+category_hra+category_hrcs_hc+\n",
    "            category_hrcs_rac+category_icrp_cso+category_icrp_ct+category_rcdc+category_sdg+category_uoa]\"\"\"\n",
    "        compare = dsl.query_iterative(compare_query)\n",
    "\n",
    "        df_pubs_compare = compare.as_dataframe()\n",
    "        df_auths_compare = compare.as_dataframe_authors()\n",
    "        df_affils_compare = compare.as_dataframe_authors_affiliations()\n",
    "\n",
    "        df_pubs_compare.to_csv(\"mimic_pubs.csv\")\n",
    "        df_auths_compare.to_csv(\"mimic_auths.csv\")\n",
    "        df_affils_compare.to_csv(\"mimic_affils.csv\")\n",
    "\n",
    "    else:\n",
    "        df_pubs_compare = pd.read_csv(\"./MIMIC_Files/mimic_pubs.csv\")\n",
    "        df_auths_compare = pd.read_csv(\"./MIMIC_Files/mimic_auths.csv\")\n",
    "        df_affils_compare = pd.read_csv(\"./MIMIC_Files/mimic_affils.csv\")\n",
    "\n",
    "        df_pubs_control = pd.read_csv(\"./MIMIC_Files/control_group_pubs.csv\")\n",
    "        df_auths_control = pd.read_csv(\"./MIMIC_Files/control_group_auths.csv\")\n",
    "        df_affils_control = pd.read_csv(\"./MIMIC_Files/control_group_affils.csv\")\n",
    "\n",
    "    return (\n",
    "        df_pubs_compare,\n",
    "        df_auths_compare,\n",
    "        df_affils_compare,\n",
    "        df_pubs_control,\n",
    "        df_auths_control,\n",
    "        df_affils_control,\n",
    "    )"
   ]
  },
  {
   "cell_type": "code",
   "execution_count": 6,
   "metadata": {},
   "outputs": [],
   "source": [
    "(\n",
    "    df_pubs_compare,\n",
    "    df_auths_compare,\n",
    "    df_affils_compare,\n",
    "    df_pubs_control,\n",
    "    df_auths_control,\n",
    "    df_affils_control,\n",
    ") = get_data()"
   ]
  },
  {
   "cell_type": "code",
   "execution_count": 7,
   "metadata": {},
   "outputs": [
    {
     "name": "stdout",
     "output_type": "stream",
     "text": [
      "2307\n",
      "2912\n",
      "13879\n",
      "20539\n",
      "13967\n",
      "25676\n"
     ]
    }
   ],
   "source": [
    "print(len(df_pubs_compare))\n",
    "print(len(df_pubs_control))\n",
    "print(len(df_auths_compare))\n",
    "print(len(df_auths_control))\n",
    "print(len(df_affils_compare))\n",
    "print(len(df_affils_control))"
   ]
  },
  {
   "cell_type": "markdown",
   "metadata": {},
   "source": [
    "#### preprocessing pipeline\n",
    "need data _name_genderize_output (1).csv "
   ]
  },
  {
   "cell_type": "code",
   "execution_count": 6,
   "metadata": {},
   "outputs": [
    {
     "ename": "FileNotFoundError",
     "evalue": "[Errno 2] No such file or directory: '_name_genderize_output (1).csv'",
     "output_type": "error",
     "traceback": [
      "\u001b[0;31m---------------------------------------------------------------------------\u001b[0m",
      "\u001b[0;31mFileNotFoundError\u001b[0m                         Traceback (most recent call last)",
      "\u001b[1;32m/Users/chenyuli/OpenScience/Code/OpenVsPrivateDatasets/OpenVsPrivateDataMaster.ipynb Cell 10\u001b[0m line \u001b[0;36m1\n\u001b[0;32m----> <a href='vscode-notebook-cell:/Users/chenyuli/OpenScience/Code/OpenVsPrivateDatasets/OpenVsPrivateDataMaster.ipynb#X12sZmlsZQ%3D%3D?line=0'>1</a>\u001b[0m df_gender_dictionary \u001b[39m=\u001b[39m pd\u001b[39m.\u001b[39;49mread_csv(\u001b[39m\"\u001b[39;49m\u001b[39m_name_genderize_output (1).csv\u001b[39;49m\u001b[39m\"\u001b[39;49m) \u001b[39m### check dataset \u001b[39;00m\n\u001b[1;32m      <a href='vscode-notebook-cell:/Users/chenyuli/OpenScience/Code/OpenVsPrivateDatasets/OpenVsPrivateDataMaster.ipynb#X12sZmlsZQ%3D%3D?line=1'>2</a>\u001b[0m df_gender_dictionary\u001b[39m.\u001b[39mdrop_duplicates(\u001b[39m\"\u001b[39m\u001b[39mga_first_name\u001b[39m\u001b[39m\"\u001b[39m, inplace\u001b[39m=\u001b[39m\u001b[39mTrue\u001b[39;00m)\n\u001b[1;32m      <a href='vscode-notebook-cell:/Users/chenyuli/OpenScience/Code/OpenVsPrivateDatasets/OpenVsPrivateDataMaster.ipynb#X12sZmlsZQ%3D%3D?line=2'>3</a>\u001b[0m df_gender_dictionary\u001b[39m.\u001b[39mset_index(\u001b[39m\"\u001b[39m\u001b[39mga_first_name\u001b[39m\u001b[39m\"\u001b[39m, inplace\u001b[39m=\u001b[39m\u001b[39mTrue\u001b[39;00m)\n",
      "File \u001b[0;32m~/anaconda3/envs/py3/lib/python3.11/site-packages/pandas/io/parsers/readers.py:948\u001b[0m, in \u001b[0;36mread_csv\u001b[0;34m(filepath_or_buffer, sep, delimiter, header, names, index_col, usecols, dtype, engine, converters, true_values, false_values, skipinitialspace, skiprows, skipfooter, nrows, na_values, keep_default_na, na_filter, verbose, skip_blank_lines, parse_dates, infer_datetime_format, keep_date_col, date_parser, date_format, dayfirst, cache_dates, iterator, chunksize, compression, thousands, decimal, lineterminator, quotechar, quoting, doublequote, escapechar, comment, encoding, encoding_errors, dialect, on_bad_lines, delim_whitespace, low_memory, memory_map, float_precision, storage_options, dtype_backend)\u001b[0m\n\u001b[1;32m    935\u001b[0m kwds_defaults \u001b[39m=\u001b[39m _refine_defaults_read(\n\u001b[1;32m    936\u001b[0m     dialect,\n\u001b[1;32m    937\u001b[0m     delimiter,\n\u001b[0;32m   (...)\u001b[0m\n\u001b[1;32m    944\u001b[0m     dtype_backend\u001b[39m=\u001b[39mdtype_backend,\n\u001b[1;32m    945\u001b[0m )\n\u001b[1;32m    946\u001b[0m kwds\u001b[39m.\u001b[39mupdate(kwds_defaults)\n\u001b[0;32m--> 948\u001b[0m \u001b[39mreturn\u001b[39;00m _read(filepath_or_buffer, kwds)\n",
      "File \u001b[0;32m~/anaconda3/envs/py3/lib/python3.11/site-packages/pandas/io/parsers/readers.py:611\u001b[0m, in \u001b[0;36m_read\u001b[0;34m(filepath_or_buffer, kwds)\u001b[0m\n\u001b[1;32m    608\u001b[0m _validate_names(kwds\u001b[39m.\u001b[39mget(\u001b[39m\"\u001b[39m\u001b[39mnames\u001b[39m\u001b[39m\"\u001b[39m, \u001b[39mNone\u001b[39;00m))\n\u001b[1;32m    610\u001b[0m \u001b[39m# Create the parser.\u001b[39;00m\n\u001b[0;32m--> 611\u001b[0m parser \u001b[39m=\u001b[39m TextFileReader(filepath_or_buffer, \u001b[39m*\u001b[39;49m\u001b[39m*\u001b[39;49mkwds)\n\u001b[1;32m    613\u001b[0m \u001b[39mif\u001b[39;00m chunksize \u001b[39mor\u001b[39;00m iterator:\n\u001b[1;32m    614\u001b[0m     \u001b[39mreturn\u001b[39;00m parser\n",
      "File \u001b[0;32m~/anaconda3/envs/py3/lib/python3.11/site-packages/pandas/io/parsers/readers.py:1448\u001b[0m, in \u001b[0;36mTextFileReader.__init__\u001b[0;34m(self, f, engine, **kwds)\u001b[0m\n\u001b[1;32m   1445\u001b[0m     \u001b[39mself\u001b[39m\u001b[39m.\u001b[39moptions[\u001b[39m\"\u001b[39m\u001b[39mhas_index_names\u001b[39m\u001b[39m\"\u001b[39m] \u001b[39m=\u001b[39m kwds[\u001b[39m\"\u001b[39m\u001b[39mhas_index_names\u001b[39m\u001b[39m\"\u001b[39m]\n\u001b[1;32m   1447\u001b[0m \u001b[39mself\u001b[39m\u001b[39m.\u001b[39mhandles: IOHandles \u001b[39m|\u001b[39m \u001b[39mNone\u001b[39;00m \u001b[39m=\u001b[39m \u001b[39mNone\u001b[39;00m\n\u001b[0;32m-> 1448\u001b[0m \u001b[39mself\u001b[39m\u001b[39m.\u001b[39m_engine \u001b[39m=\u001b[39m \u001b[39mself\u001b[39;49m\u001b[39m.\u001b[39;49m_make_engine(f, \u001b[39mself\u001b[39;49m\u001b[39m.\u001b[39;49mengine)\n",
      "File \u001b[0;32m~/anaconda3/envs/py3/lib/python3.11/site-packages/pandas/io/parsers/readers.py:1705\u001b[0m, in \u001b[0;36mTextFileReader._make_engine\u001b[0;34m(self, f, engine)\u001b[0m\n\u001b[1;32m   1703\u001b[0m     \u001b[39mif\u001b[39;00m \u001b[39m\"\u001b[39m\u001b[39mb\u001b[39m\u001b[39m\"\u001b[39m \u001b[39mnot\u001b[39;00m \u001b[39min\u001b[39;00m mode:\n\u001b[1;32m   1704\u001b[0m         mode \u001b[39m+\u001b[39m\u001b[39m=\u001b[39m \u001b[39m\"\u001b[39m\u001b[39mb\u001b[39m\u001b[39m\"\u001b[39m\n\u001b[0;32m-> 1705\u001b[0m \u001b[39mself\u001b[39m\u001b[39m.\u001b[39mhandles \u001b[39m=\u001b[39m get_handle(\n\u001b[1;32m   1706\u001b[0m     f,\n\u001b[1;32m   1707\u001b[0m     mode,\n\u001b[1;32m   1708\u001b[0m     encoding\u001b[39m=\u001b[39;49m\u001b[39mself\u001b[39;49m\u001b[39m.\u001b[39;49moptions\u001b[39m.\u001b[39;49mget(\u001b[39m\"\u001b[39;49m\u001b[39mencoding\u001b[39;49m\u001b[39m\"\u001b[39;49m, \u001b[39mNone\u001b[39;49;00m),\n\u001b[1;32m   1709\u001b[0m     compression\u001b[39m=\u001b[39;49m\u001b[39mself\u001b[39;49m\u001b[39m.\u001b[39;49moptions\u001b[39m.\u001b[39;49mget(\u001b[39m\"\u001b[39;49m\u001b[39mcompression\u001b[39;49m\u001b[39m\"\u001b[39;49m, \u001b[39mNone\u001b[39;49;00m),\n\u001b[1;32m   1710\u001b[0m     memory_map\u001b[39m=\u001b[39;49m\u001b[39mself\u001b[39;49m\u001b[39m.\u001b[39;49moptions\u001b[39m.\u001b[39;49mget(\u001b[39m\"\u001b[39;49m\u001b[39mmemory_map\u001b[39;49m\u001b[39m\"\u001b[39;49m, \u001b[39mFalse\u001b[39;49;00m),\n\u001b[1;32m   1711\u001b[0m     is_text\u001b[39m=\u001b[39;49mis_text,\n\u001b[1;32m   1712\u001b[0m     errors\u001b[39m=\u001b[39;49m\u001b[39mself\u001b[39;49m\u001b[39m.\u001b[39;49moptions\u001b[39m.\u001b[39;49mget(\u001b[39m\"\u001b[39;49m\u001b[39mencoding_errors\u001b[39;49m\u001b[39m\"\u001b[39;49m, \u001b[39m\"\u001b[39;49m\u001b[39mstrict\u001b[39;49m\u001b[39m\"\u001b[39;49m),\n\u001b[1;32m   1713\u001b[0m     storage_options\u001b[39m=\u001b[39;49m\u001b[39mself\u001b[39;49m\u001b[39m.\u001b[39;49moptions\u001b[39m.\u001b[39;49mget(\u001b[39m\"\u001b[39;49m\u001b[39mstorage_options\u001b[39;49m\u001b[39m\"\u001b[39;49m, \u001b[39mNone\u001b[39;49;00m),\n\u001b[1;32m   1714\u001b[0m )\n\u001b[1;32m   1715\u001b[0m \u001b[39massert\u001b[39;00m \u001b[39mself\u001b[39m\u001b[39m.\u001b[39mhandles \u001b[39mis\u001b[39;00m \u001b[39mnot\u001b[39;00m \u001b[39mNone\u001b[39;00m\n\u001b[1;32m   1716\u001b[0m f \u001b[39m=\u001b[39m \u001b[39mself\u001b[39m\u001b[39m.\u001b[39mhandles\u001b[39m.\u001b[39mhandle\n",
      "File \u001b[0;32m~/anaconda3/envs/py3/lib/python3.11/site-packages/pandas/io/common.py:863\u001b[0m, in \u001b[0;36mget_handle\u001b[0;34m(path_or_buf, mode, encoding, compression, memory_map, is_text, errors, storage_options)\u001b[0m\n\u001b[1;32m    858\u001b[0m \u001b[39melif\u001b[39;00m \u001b[39misinstance\u001b[39m(handle, \u001b[39mstr\u001b[39m):\n\u001b[1;32m    859\u001b[0m     \u001b[39m# Check whether the filename is to be opened in binary mode.\u001b[39;00m\n\u001b[1;32m    860\u001b[0m     \u001b[39m# Binary mode does not support 'encoding' and 'newline'.\u001b[39;00m\n\u001b[1;32m    861\u001b[0m     \u001b[39mif\u001b[39;00m ioargs\u001b[39m.\u001b[39mencoding \u001b[39mand\u001b[39;00m \u001b[39m\"\u001b[39m\u001b[39mb\u001b[39m\u001b[39m\"\u001b[39m \u001b[39mnot\u001b[39;00m \u001b[39min\u001b[39;00m ioargs\u001b[39m.\u001b[39mmode:\n\u001b[1;32m    862\u001b[0m         \u001b[39m# Encoding\u001b[39;00m\n\u001b[0;32m--> 863\u001b[0m         handle \u001b[39m=\u001b[39m \u001b[39mopen\u001b[39;49m(\n\u001b[1;32m    864\u001b[0m             handle,\n\u001b[1;32m    865\u001b[0m             ioargs\u001b[39m.\u001b[39;49mmode,\n\u001b[1;32m    866\u001b[0m             encoding\u001b[39m=\u001b[39;49mioargs\u001b[39m.\u001b[39;49mencoding,\n\u001b[1;32m    867\u001b[0m             errors\u001b[39m=\u001b[39;49merrors,\n\u001b[1;32m    868\u001b[0m             newline\u001b[39m=\u001b[39;49m\u001b[39m\"\u001b[39;49m\u001b[39m\"\u001b[39;49m,\n\u001b[1;32m    869\u001b[0m         )\n\u001b[1;32m    870\u001b[0m     \u001b[39melse\u001b[39;00m:\n\u001b[1;32m    871\u001b[0m         \u001b[39m# Binary mode\u001b[39;00m\n\u001b[1;32m    872\u001b[0m         handle \u001b[39m=\u001b[39m \u001b[39mopen\u001b[39m(handle, ioargs\u001b[39m.\u001b[39mmode)\n",
      "\u001b[0;31mFileNotFoundError\u001b[0m: [Errno 2] No such file or directory: '_name_genderize_output (1).csv'"
     ]
    }
   ],
   "source": [
    "df_gender_dictionary = pd.read_csv(\"_name_genderize_output (1).csv\") ### check dataset \n",
    "df_gender_dictionary.drop_duplicates(\"ga_first_name\", inplace=True)\n",
    "df_gender_dictionary.set_index(\"ga_first_name\", inplace=True)\n",
    "\n",
    "\n",
    "CountryClass = pd.read_excel(\"CountryClassWordBank (1).xlsx\")\n",
    "CountryClass_2 = CountryClass.copy()\n",
    "CountryClass_2.set_index(\"Code\", inplace=True)\n",
    "missing_codes = []\n",
    "\n",
    "\n",
    "gender_dict = dict(zip(df_gender_dictionary.index, df_gender_dictionary.ga_gender))\n",
    "country_dict = dict(zip(CountryClass_2.index, CountryClass_2[\"Income group\"]))\n",
    "gender_map = {\"male\": 0, \"female\": 1, \"unknown\": np.nan}\n",
    "income_map = {\n",
    "    \"High income\": 4,\n",
    "    \"Upper middle income\": 3,\n",
    "    \"Lower middle income\": 2,\n",
    "    \"Low income\": 1,\n",
    "}\n",
    "\n",
    "\n",
    "def get_gender(name):\n",
    "    if pd.isna(name):\n",
    "        return np.nan\n",
    "    name = name.strip()\n",
    "    name = name.split(sep=\" \")[0]\n",
    "    if name in gender_dict:\n",
    "        return gender_dict[name]\n",
    "    else:\n",
    "        return np.nan\n",
    "\n",
    "\n",
    "def get_gender_ints(gender):\n",
    "    if gender in gender_map:\n",
    "        return gender_map[gender]\n",
    "    else:\n",
    "        return np.nan\n",
    "\n",
    "\n",
    "def get_country_income(country_code):\n",
    "    if pd.isna(country_code):\n",
    "        return np.nan\n",
    "    country_ISO3 = pycountry.countries.get(alpha_2=country_code)\n",
    "    if country_ISO3 is None:\n",
    "        missing_codes.append(country_code)\n",
    "        return np.nan\n",
    "    elif country_ISO3.alpha_3 in country_dict:\n",
    "        return country_dict[country_ISO3.alpha_3]\n",
    "    else:\n",
    "        missing_codes.append(country_code)\n",
    "        return np.nan\n",
    "\n",
    "\n",
    "def map_country_income(income_group):\n",
    "    if income_group in income_map:\n",
    "        return income_map[income_group]\n",
    "    else:\n",
    "        return np.nan\n",
    "\n",
    "\n",
    "def get_pub_year(pub_id, df_pubs):\n",
    "    return df_pubs.at[pub_id, \"year\"]\n",
    "\n",
    "\n",
    "def categorize_author_counts(num_authors):\n",
    "    if pd.isna(num_authors) or num_authors == 0:\n",
    "        return np.nan\n",
    "    if num_authors == 1:\n",
    "        return \"1\"\n",
    "    if num_authors == 2:\n",
    "        return \"2\"\n",
    "    if num_authors >= 3 and num_authors <= 5:\n",
    "        return \"3-5\"\n",
    "    if num_authors >= 6:\n",
    "        return \"6+\"\n",
    "    return np.nan\n",
    "\n",
    "\n",
    "def pipeline(list_of_dataframes: list):\n",
    "    df_pubs, df_auths, df_affils = list_of_dataframes\n",
    "    df_pubs_copy = df_pubs.copy()\n",
    "    df_pubs_copy.set_index(\"id\", inplace=True)\n",
    "\n",
    "    df_auths[\"year\"] = df_auths[\"pub_id\"].apply(\n",
    "        lambda pid: get_pub_year(pid, df_pubs_copy)\n",
    "    )\n",
    "    df_affils[\"year\"] = df_affils[\"pub_id\"].apply(\n",
    "        lambda pid: get_pub_year(pid, df_pubs_copy)\n",
    "    )\n",
    "\n",
    "    df_auths[\"first_name\"] = df_auths[\"first_name\"].str.title()\n",
    "    df_affils[\"first_name\"] = df_affils[\"first_name\"].str.title()\n",
    "\n",
    "    df_auths[\"gender\"] = df_auths[\"first_name\"].map(get_gender)\n",
    "    df_affils[\"gender\"] = df_affils[\"first_name\"].map(get_gender)\n",
    "\n",
    "    df_auths[\"gender_ints\"] = df_auths[\"gender\"].map(get_gender_ints)\n",
    "    df_affils[\"gender_ints\"] = df_affils[\"gender\"].map(get_gender_ints)\n",
    "\n",
    "    df_pubs[\"author_count_categories\"] = df_pubs[\"authors_count\"].apply(\n",
    "        categorize_author_counts\n",
    "    )\n",
    "\n",
    "    lfirstnames = dict.fromkeys(df_pubs.id, np.nan)\n",
    "    lgenders = dict.fromkeys(df_pubs.id, np.nan)\n",
    "    lpctfemale = dict.fromkeys(df_pubs.id, np.nan)\n",
    "    lffirst = dict.fromkeys(df_pubs.id, np.nan)\n",
    "    lflast = dict.fromkeys(df_pubs.id, np.nan)\n",
    "    lnfemale = dict.fromkeys(df_pubs.id, np.nan)\n",
    "    lnmale = dict.fromkeys(df_pubs.id, np.nan)\n",
    "    lnnan = dict.fromkeys(df_pubs.id, np.nan)\n",
    "\n",
    "    for pub_id, df_info in df_auths.groupby(\"pub_id\"):\n",
    "        lfirstnames[pub_id] = df_info[\"first_name\"]\n",
    "        lgenders[pub_id] = df_info[\"gender_ints\"]\n",
    "\n",
    "        genders = df_info[\"gender_ints\"]\n",
    "\n",
    "        lffirst[pub_id] = genders.iloc[0]\n",
    "        lflast[pub_id] = genders.iloc[-1]\n",
    "\n",
    "        num_female = (genders == 1).sum()\n",
    "        num_male = (genders == 0).sum()\n",
    "        num_missing = genders.isna().sum()\n",
    "        lnfemale[pub_id] = num_female  \n",
    "        lnmale[pub_id] = num_male \n",
    "        lnnan[pub_id] = num_missing  \n",
    "        total = num_male + num_female\n",
    "        if total == 0:\n",
    "            lpctfemale[pub_id] = np.nan\n",
    "        else:\n",
    "            lpctfemale[pub_id] = num_female / total\n",
    "\n",
    "    df_pubs[\"first_names\"] = lfirstnames.values()\n",
    "    df_pubs[\"genders\"] = lgenders.values()\n",
    "    df_pubs[\"num_female\"] = lnfemale.values()\n",
    "    df_pubs[\"num_male\"] = lnmale.values()\n",
    "    df_pubs[\"num_na\"] = lnnan.values()\n",
    "    df_pubs[\"pct_female_real\"] = lpctfemale.values()\n",
    "    df_pubs[\"female_first\"] = lffirst.values()\n",
    "    df_pubs[\"female_last\"] = lflast.values()\n",
    "\n",
    "    cols = [\"num_female\", \"num_male\", \"num_na\"]\n",
    "    total = df_pubs[cols[0]] + df_pubs[cols[1]] + df_pubs[cols[2]]\n",
    "    df_pubs[\"pct_female_pessimistic\"] = df_pubs[cols[0]] / total\n",
    "    df_pubs[\"pct_female_optimistic\"] = (df_pubs[cols[0]] + df_pubs[cols[2]]) / total\n",
    "    df_pubs[\"female_first_pessimistic\"] = df_pubs[\"female_first\"].apply(\n",
    "        lambda x: 0 if pd.isna(x) else x\n",
    "    )\n",
    "    df_pubs[\"female_first_optimistic\"] = df_pubs[\"female_first\"].apply(\n",
    "        lambda x: 1 if pd.isna(x) else x\n",
    "    )\n",
    "    df_pubs[\"female_last_pessimistic\"] = df_pubs[\"female_last\"].apply(\n",
    "        lambda x: 0 if pd.isna(x) else x\n",
    "    )\n",
    "    df_pubs[\"female_last_optimistic\"] = df_pubs[\"female_last\"].apply(\n",
    "        lambda x: 1 if pd.isna(x) else x\n",
    "    )\n",
    "\n",
    "    df_affils[\"income_class\"] = df_affils[\"aff_country_code\"].apply(get_country_income)\n",
    "    df_affils[\"income_class_num\"] = df_affils[\"income_class\"].map(map_country_income)\n",
    "\n",
    "    return [df_pubs, df_auths, df_affils]"
   ]
  },
  {
   "cell_type": "markdown",
   "metadata": {},
   "source": [
    "# 1. Gender Analysis"
   ]
  },
  {
   "cell_type": "code",
   "execution_count": 8,
   "metadata": {},
   "outputs": [
    {
     "data": {
      "text/html": [
       "<div>\n",
       "<style scoped>\n",
       "    .dataframe tbody tr th:only-of-type {\n",
       "        vertical-align: middle;\n",
       "    }\n",
       "\n",
       "    .dataframe tbody tr th {\n",
       "        vertical-align: top;\n",
       "    }\n",
       "\n",
       "    .dataframe thead th {\n",
       "        text-align: right;\n",
       "    }\n",
       "</style>\n",
       "<table border=\"1\" class=\"dataframe\">\n",
       "  <thead>\n",
       "    <tr style=\"text-align: right;\">\n",
       "      <th></th>\n",
       "      <th>Unnamed: 0</th>\n",
       "      <th>affiliations</th>\n",
       "      <th>corresponding</th>\n",
       "      <th>current_organization_id</th>\n",
       "      <th>first_name</th>\n",
       "      <th>last_name</th>\n",
       "      <th>orcid</th>\n",
       "      <th>raw_affiliation</th>\n",
       "      <th>researcher_id</th>\n",
       "      <th>pub_id</th>\n",
       "      <th>year</th>\n",
       "      <th>gender</th>\n",
       "      <th>gender_ints</th>\n",
       "    </tr>\n",
       "  </thead>\n",
       "  <tbody>\n",
       "    <tr>\n",
       "      <th>0</th>\n",
       "      <td>0</td>\n",
       "      <td>[]</td>\n",
       "      <td>NaN</td>\n",
       "      <td>NaN</td>\n",
       "      <td>Feng</td>\n",
       "      <td>Shen</td>\n",
       "      <td>[]</td>\n",
       "      <td>[]</td>\n",
       "      <td>NaN</td>\n",
       "      <td>pub.1154752616</td>\n",
       "      <td>2022</td>\n",
       "      <td>male</td>\n",
       "      <td>0.0</td>\n",
       "    </tr>\n",
       "    <tr>\n",
       "      <th>1</th>\n",
       "      <td>1</td>\n",
       "      <td>[]</td>\n",
       "      <td>NaN</td>\n",
       "      <td>NaN</td>\n",
       "      <td>Qimin</td>\n",
       "      <td>CHEN</td>\n",
       "      <td>[]</td>\n",
       "      <td>[]</td>\n",
       "      <td>NaN</td>\n",
       "      <td>pub.1154752616</td>\n",
       "      <td>2022</td>\n",
       "      <td>female</td>\n",
       "      <td>1.0</td>\n",
       "    </tr>\n",
       "    <tr>\n",
       "      <th>2</th>\n",
       "      <td>2</td>\n",
       "      <td>[]</td>\n",
       "      <td>NaN</td>\n",
       "      <td>NaN</td>\n",
       "      <td>Wei</td>\n",
       "      <td>Li</td>\n",
       "      <td>[]</td>\n",
       "      <td>[]</td>\n",
       "      <td>NaN</td>\n",
       "      <td>pub.1154752616</td>\n",
       "      <td>2022</td>\n",
       "      <td>male</td>\n",
       "      <td>0.0</td>\n",
       "    </tr>\n",
       "    <tr>\n",
       "      <th>3</th>\n",
       "      <td>3</td>\n",
       "      <td>[]</td>\n",
       "      <td>NaN</td>\n",
       "      <td>NaN</td>\n",
       "      <td>Ying</td>\n",
       "      <td>Wang</td>\n",
       "      <td>[]</td>\n",
       "      <td>[]</td>\n",
       "      <td>NaN</td>\n",
       "      <td>pub.1154752616</td>\n",
       "      <td>2022</td>\n",
       "      <td>female</td>\n",
       "      <td>1.0</td>\n",
       "    </tr>\n",
       "    <tr>\n",
       "      <th>4</th>\n",
       "      <td>4</td>\n",
       "      <td>[]</td>\n",
       "      <td>NaN</td>\n",
       "      <td>NaN</td>\n",
       "      <td>Xianjun</td>\n",
       "      <td>CHEN</td>\n",
       "      <td>[]</td>\n",
       "      <td>[]</td>\n",
       "      <td>NaN</td>\n",
       "      <td>pub.1154752616</td>\n",
       "      <td>2022</td>\n",
       "      <td>male</td>\n",
       "      <td>0.0</td>\n",
       "    </tr>\n",
       "  </tbody>\n",
       "</table>\n",
       "</div>"
      ],
      "text/plain": [
       "   Unnamed: 0 affiliations corresponding current_organization_id first_name  \\\n",
       "0           0           []           NaN                     NaN       Feng   \n",
       "1           1           []           NaN                     NaN      Qimin   \n",
       "2           2           []           NaN                     NaN        Wei   \n",
       "3           3           []           NaN                     NaN       Ying   \n",
       "4           4           []           NaN                     NaN    Xianjun   \n",
       "\n",
       "  last_name orcid raw_affiliation researcher_id          pub_id  year  gender  \\\n",
       "0      Shen    []              []           NaN  pub.1154752616  2022    male   \n",
       "1      CHEN    []              []           NaN  pub.1154752616  2022  female   \n",
       "2        Li    []              []           NaN  pub.1154752616  2022    male   \n",
       "3      Wang    []              []           NaN  pub.1154752616  2022  female   \n",
       "4      CHEN    []              []           NaN  pub.1154752616  2022    male   \n",
       "\n",
       "   gender_ints  \n",
       "0          0.0  \n",
       "1          1.0  \n",
       "2          0.0  \n",
       "3          1.0  \n",
       "4          0.0  "
      ]
     },
     "execution_count": 8,
     "metadata": {},
     "output_type": "execute_result"
    }
   ],
   "source": [
    "df_auths_compare.head()"
   ]
  },
  {
   "cell_type": "code",
   "execution_count": 9,
   "metadata": {},
   "outputs": [],
   "source": [
    "# Filter the DataFrame to show only non-duplicated records based on 'first_name' and 'last_name'.\n",
    "non_duplicated_authors_compare = df_auths_compare[~df_auths_compare[['first_name', 'last_name','researcher_id']].duplicated()]\n",
    "non_duplicated_authors_control = df_auths_control[~df_auths_control[['first_name', 'last_name','researcher_id']].duplicated()]\n"
   ]
  },
  {
   "cell_type": "code",
   "execution_count": 10,
   "metadata": {},
   "outputs": [
    {
     "name": "stdout",
     "output_type": "stream",
     "text": [
      "Compare distinct author names  9959\n",
      "Control distinct author names  17999\n",
      "Compare distinct author names with gender not none  8758\n",
      "Control distinct author names with gender not none 15285\n",
      "Compare distinct author names -female 2438\n",
      "Control distinct author names -female 4710\n",
      "0.2783740580041105\n",
      "0.30814524043179586\n"
     ]
    }
   ],
   "source": [
    "print(\"Compare distinct author names \",len(non_duplicated_authors_compare))\n",
    "print(\"Control distinct author names \",len(non_duplicated_authors_control))\n",
    "print(\"Compare distinct author names with gender not none \",len(non_duplicated_authors_compare[non_duplicated_authors_compare.gender.notna()]))\n",
    "print(\"Control distinct author names with gender not none\",len(non_duplicated_authors_control[non_duplicated_authors_control.gender.notna()]))\n",
    "print(\"Compare distinct author names -female\",len(non_duplicated_authors_compare[non_duplicated_authors_compare.gender=='female']))\n",
    "print(\"Control distinct author names -female\",len(non_duplicated_authors_control[(non_duplicated_authors_control.gender=='female')]))\n",
    "print(2438/8758)\n",
    "print(4710/15285)\n",
    "\n"
   ]
  },
  {
   "cell_type": "code",
   "execution_count": 11,
   "metadata": {},
   "outputs": [
    {
     "name": "stdout",
     "output_type": "stream",
     "text": [
      "Compare\n",
      "Total numbers of publications:   2307\n",
      "Papers w/ Missing Publications:   0\n",
      "Papers w/ Missing Authors:        110\n",
      "Papers w/ Missing Affiliations:   635\n",
      "\n",
      "Control\n",
      "Total numbers of publications:   2912\n",
      "Papers w/ Missing Publications:   0\n",
      "Papers w/ Missing Authors:        2\n",
      "Papers w/ Missing Affiliations:   35\n"
     ]
    }
   ],
   "source": [
    "def get_missingness(df_pubs, df_auths, df_affils):\n",
    "    df_completeness = pd.DataFrame()\n",
    "    df_completeness[\"id\"] = df_pubs[\"id\"]\n",
    "\n",
    "    df_completeness[\"Publications\"] = True\n",
    "    df_completeness[\"Authors\"] = df_pubs.id.isin(df_auths.pub_id)\n",
    "    df_completeness[\"Affiliations\"] = df_pubs.id.isin(df_affils.pub_id)\n",
    "\n",
    "    df_completeness.head()\n",
    "    print(f\"Total numbers of publications:   {len(df_completeness)}\")\n",
    "    print(f\"Papers w/ Missing Publications:   0\")\n",
    "    print(\n",
    "        f\"Papers w/ Missing Authors:        {df_completeness.Authors.value_counts()[False]}\"\n",
    "    )\n",
    "    print(\n",
    "        f\"Papers w/ Missing Affiliations:   {df_completeness.Affiliations.value_counts()[False]}\"\n",
    "    )\n",
    "\n",
    "    return None  # df_completeness\n",
    "\n",
    "\n",
    "print(\"Compare\")\n",
    "get_missingness(df_pubs_compare, df_auths_compare, df_affils_compare)\n",
    "print()\n",
    "print(\"Control\")\n",
    "get_missingness(df_pubs_control, df_auths_control, df_affils_control)"
   ]
  },
  {
   "cell_type": "code",
   "execution_count": 12,
   "metadata": {},
   "outputs": [
    {
     "name": "stdout",
     "output_type": "stream",
     "text": [
      "Compare missing Affiliation percentage 0.2752492414390984\n",
      "Control missing Affiliation percentage 0.01201923076923077\n"
     ]
    }
   ],
   "source": [
    "print(\"Compare missing Affiliation percentage\",635/2307)\n",
    "print(\"Control missing Affiliation percentage\",35/2912)\n",
    "\n"
   ]
  },
  {
   "cell_type": "code",
   "execution_count": 13,
   "metadata": {},
   "outputs": [
    {
     "name": "stdout",
     "output_type": "stream",
     "text": [
      "Compare group authors: 13879. Pct: 0.40324830030797837\n",
      "Control group authors: 20539. Pct: 0.5967516996920216\n",
      "Total:                 34418\n"
     ]
    }
   ],
   "source": [
    "num_compare_auths = df_auths_compare.shape[0]\n",
    "num_control_auths = df_auths_control.shape[0]\n",
    "num_total_auths = num_compare_auths + num_control_auths\n",
    "\n",
    "print(\n",
    "    f\"Compare group authors: {num_compare_auths}. Pct: {num_compare_auths / num_total_auths}\"\n",
    ")\n",
    "print(\n",
    "    f\"Control group authors: {num_control_auths}. Pct: {num_control_auths / num_total_auths}\"\n",
    ")\n",
    "print(f\"Total:                 {num_total_auths}\")"
   ]
  },
  {
   "cell_type": "code",
   "execution_count": 14,
   "metadata": {},
   "outputs": [
    {
     "name": "stdout",
     "output_type": "stream",
     "text": [
      "Compare group papers: 2307. Pct: 0.4420387047327074\n",
      "Control group papers: 2912. Pct: 0.5579612952672925\n",
      "Total:                5219\n"
     ]
    }
   ],
   "source": [
    "num_compare = df_pubs_compare.shape[0]\n",
    "num_control = df_pubs_control.shape[0]\n",
    "num_total = num_compare + num_control\n",
    "\n",
    "print(f\"Compare group papers: {num_compare}. Pct: {num_compare / num_total}\")\n",
    "print(f\"Control group papers: {num_control}. Pct: {num_control / num_total}\")\n",
    "print(f\"Total:                {num_total}\")"
   ]
  },
  {
   "cell_type": "code",
   "execution_count": 15,
   "metadata": {},
   "outputs": [
    {
     "name": "stdout",
     "output_type": "stream",
     "text": [
      "Compare group authors: 13879. Pct: 0.40324830030797837\n",
      "Control group authors: 20539. Pct: 0.5967516996920216\n",
      "Total:                 34418\n"
     ]
    }
   ],
   "source": [
    "num_compare_auths = df_auths_compare.shape[0]\n",
    "num_control_auths = df_auths_control.shape[0]\n",
    "num_total_auths = num_compare_auths + num_control_auths\n",
    "\n",
    "print(\n",
    "    f\"Compare group authors: {num_compare_auths}. Pct: {num_compare_auths / num_total_auths}\"\n",
    ")\n",
    "print(\n",
    "    f\"Control group authors: {num_control_auths}. Pct: {num_control_auths / num_total_auths}\"\n",
    ")\n",
    "print(f\"Total:                 {num_total_auths}\")"
   ]
  },
  {
   "cell_type": "code",
   "execution_count": 16,
   "metadata": {},
   "outputs": [
    {
     "name": "stdout",
     "output_type": "stream",
     "text": [
      "pct_female_real\n",
      "\n",
      "Compare:\n",
      "count    1426.000000\n",
      "mean        0.261378\n",
      "std         0.230498\n",
      "min         0.000000\n",
      "25%         0.000000\n",
      "50%         0.250000\n",
      "75%         0.400000\n",
      "max         1.000000\n",
      "Name: pct_female_real, dtype: float64\n",
      "\n",
      "Control:\n",
      "count    1823.000000\n",
      "mean        0.290255\n",
      "std         0.252795\n",
      "min         0.000000\n",
      "25%         0.000000\n",
      "50%         0.250000\n",
      "75%         0.500000\n",
      "max         1.000000\n",
      "Name: pct_female_real, dtype: float64\n",
      "\n",
      "female_first\n",
      "\n",
      "Compare:\n",
      "count    1426.000000\n",
      "mean        0.281206\n",
      "std         0.449746\n",
      "min         0.000000\n",
      "25%         0.000000\n",
      "50%         0.000000\n",
      "75%         1.000000\n",
      "max         1.000000\n",
      "Name: female_first, dtype: float64\n",
      "\n",
      "Control:\n",
      "count    1823.000000\n",
      "mean        0.309380\n",
      "std         0.462365\n",
      "min         0.000000\n",
      "25%         0.000000\n",
      "50%         0.000000\n",
      "75%         1.000000\n",
      "max         1.000000\n",
      "Name: female_first, dtype: float64\n",
      "\n",
      "female_last\n",
      "\n",
      "Compare:\n",
      "count    1426.000000\n",
      "mean        0.235624\n",
      "std         0.424537\n",
      "min         0.000000\n",
      "25%         0.000000\n",
      "50%         0.000000\n",
      "75%         0.000000\n",
      "max         1.000000\n",
      "Name: female_last, dtype: float64\n",
      "\n",
      "Control:\n",
      "count    1823.000000\n",
      "mean        0.216676\n",
      "std         0.412093\n",
      "min         0.000000\n",
      "25%         0.000000\n",
      "50%         0.000000\n",
      "75%         0.000000\n",
      "max         1.000000\n",
      "Name: female_last, dtype: float64\n",
      "\n"
     ]
    }
   ],
   "source": [
    "def process(df_pubs, df_auths, df_affils):\n",
    "    # Get rid of papers with missing genders\n",
    "    pubs = df_pubs[df_pubs.num_na == 0]\n",
    "    auths = df_auths[df_auths.pub_id.isin(pubs.id)]\n",
    "    affils = df_affils[df_affils.pub_id.isin(pubs.id)]\n",
    "    return pubs, auths, affils\n",
    "\n",
    "\n",
    "def print_col(col):\n",
    "    print(col)\n",
    "    print()\n",
    "    print(\"Compare:\")\n",
    "    print(df_pubs_compare[col].describe())\n",
    "    print()\n",
    "    print(\"Control:\")\n",
    "    print(df_pubs_control[col].describe())\n",
    "    print()\n",
    "\n",
    "\n",
    "df_pubs_compare, df_auths_compare, df_affils_compare = process(\n",
    "    df_pubs_compare, df_auths_compare, df_affils_compare\n",
    ")\n",
    "\n",
    "df_pubs_control, df_auths_control, df_affils_control = process(\n",
    "    df_pubs_control, df_auths_control, df_affils_control\n",
    ")\n",
    "\n",
    "print_col(\"pct_female_real\")\n",
    "print_col(\"female_first\")\n",
    "print_col(\"female_last\")"
   ]
  },
  {
   "cell_type": "code",
   "execution_count": 17,
   "metadata": {},
   "outputs": [
    {
     "name": "stdout",
     "output_type": "stream",
     "text": [
      "Compare group:\n",
      "Any female author: 1024  /  0.7180925666199158\n",
      "No female authors: 402   /  0.28190743338008417\n",
      "Total:  1426\n",
      "\n",
      "Control group:\n",
      "Any female author: 1330  /  0.7295666483817883\n",
      "No female authors: 493   /  0.27043335161821175\n",
      "Total:  1823\n"
     ]
    }
   ],
   "source": [
    "def get_female_any(df_auths):\n",
    "    atleast_one = (\n",
    "        df_auths.groupby(\"pub_id\")[\"gender_ints\"].any().value_counts()[True]\n",
    "    )\n",
    "    none = df_auths.groupby(\"pub_id\")[\"gender_ints\"].any().value_counts()[False]\n",
    "    total = df_auths[\"pub_id\"].nunique()\n",
    "\n",
    "    print(f\"Any female author: {atleast_one}  /  {atleast_one / total}\")\n",
    "    print(f\"No female authors: {none}   /  {none / total}\")\n",
    "    print(f\"Total:  {total}\")\n",
    "\n",
    "\n",
    "print(\"Compare group:\")\n",
    "get_female_any(df_auths_compare)\n",
    "print()\n",
    "print(\"Control group:\")\n",
    "get_female_any(df_auths_control)"
   ]
  },
  {
   "cell_type": "code",
   "execution_count": 18,
   "metadata": {},
   "outputs": [
    {
     "name": "stdout",
     "output_type": "stream",
     "text": [
      "Compare group:\n",
      "Female first author: 401  /  0.2812061711079944\n",
      "Male first author  : 1025   /  0.7187938288920056\n",
      "Total:  1426\n",
      "\n",
      "Control group:\n",
      "Female first author: 564  /  0.30938014262205155\n",
      "Male first author  : 1259   /  0.6906198573779484\n",
      "Total:  1823\n"
     ]
    }
   ],
   "source": [
    "def get_female_first(df_pubs):\n",
    "    female_first = df_pubs[\"female_first\"].value_counts()[1]\n",
    "    male_first = df_pubs[\"female_first\"].value_counts()[0]\n",
    "    total = female_first + male_first\n",
    "\n",
    "    print(f\"Female first author: {female_first}  /  {female_first / total}\")\n",
    "    print(f\"Male first author  : {male_first}   /  {male_first / total}\")\n",
    "    print(f\"Total:  {total}\")\n",
    "\n",
    "\n",
    "print(\"Compare group:\")\n",
    "get_female_first(df_pubs_compare)\n",
    "print()\n",
    "print(\"Control group:\")\n",
    "get_female_first(df_pubs_control)"
   ]
  },
  {
   "cell_type": "code",
   "execution_count": 19,
   "metadata": {},
   "outputs": [
    {
     "data": {
      "text/plain": [
       "0.29701446598953524"
      ]
     },
     "execution_count": 19,
     "metadata": {},
     "output_type": "execute_result"
    }
   ],
   "source": [
    "(401+564)/(1426+1823)"
   ]
  },
  {
   "cell_type": "code",
   "execution_count": 19,
   "metadata": {},
   "outputs": [
    {
     "name": "stdout",
     "output_type": "stream",
     "text": [
      "Compare group:\n",
      "Female last author: 336  /  0.23562412342215988\n",
      "Male last author  : 1090   /  0.7643758765778401\n",
      "Total:  1426\n",
      "\n",
      "Control group:\n",
      "Female last author: 395  /  0.21667580910586945\n",
      "Male last author  : 1428   /  0.7833241908941305\n",
      "Total:  1823\n"
     ]
    }
   ],
   "source": [
    "def get_female_last(df_pubs):\n",
    "    female_last = df_pubs[\"female_last\"].value_counts()[1]\n",
    "    male_last = df_pubs[\"female_last\"].value_counts()[0]\n",
    "    total = female_last + male_last\n",
    "\n",
    "    print(f\"Female last author: {female_last}  /  {female_last / total}\")\n",
    "    print(f\"Male last author  : {male_last}   /  {male_last / total}\")\n",
    "    print(f\"Total:  {total}\")\n",
    "\n",
    "\n",
    "print(\"Compare group:\")\n",
    "get_female_last(df_pubs_compare)\n",
    "print()\n",
    "print(\"Control group:\")\n",
    "get_female_last(df_pubs_control)"
   ]
  },
  {
   "cell_type": "code",
   "execution_count": 20,
   "metadata": {},
   "outputs": [
    {
     "data": {
      "text/plain": [
       "0.22499230532471529"
      ]
     },
     "execution_count": 20,
     "metadata": {},
     "output_type": "execute_result"
    }
   ],
   "source": [
    "(336+395)/(1426+1823)"
   ]
  },
  {
   "cell_type": "code",
   "execution_count": 21,
   "metadata": {},
   "outputs": [
    {
     "name": "stdout",
     "output_type": "stream",
     "text": [
      "t-test: female any TtestResult(statistic=-0.72632787627375, pvalue=0.7661549263237633, df=3247.0)\n",
      "t-test: female first TtestResult(statistic=-1.7443514853693605, pvalue=0.959403780265583, df=3247.0)\n",
      "t-test: female last TtestResult(statistic=1.2834779402615775, pvalue=0.09970813645867084, df=3247.0)\n"
     ]
    }
   ],
   "source": [
    "from scipy.stats import ttest_ind\n",
    "\n",
    "\n",
    "def get_female_any(df):\n",
    "    return df.groupby(\"pub_id\").gender_ints.any()\n",
    "\n",
    "\n",
    "def get_without_na(df):\n",
    "    return df.dropna()\n",
    "\n",
    "\n",
    "print(\n",
    "    f\"t-test: female any {ttest_ind(get_female_any(df_auths_compare), get_female_any(df_auths_control), nan_policy='omit', alternative='greater')}\"\n",
    ")\n",
    "print(\n",
    "    f\"t-test: female first {ttest_ind(df_pubs_compare.female_first.dropna(), df_pubs_control.female_first.dropna(), alternative='greater')}\"\n",
    ")\n",
    "print(\n",
    "    f\"t-test: female last {ttest_ind(df_pubs_compare.female_last.dropna(), df_pubs_control.female_last.dropna(), nan_policy='omit', alternative='greater')}\"\n",
    ")"
   ]
  },
  {
   "cell_type": "code",
   "execution_count": 22,
   "metadata": {},
   "outputs": [
    {
     "name": "stdout",
     "output_type": "stream",
     "text": [
      "Z-test: female any - Z statistic: -0.7265, p-value: 0.7662\n",
      "Z-test: female first - Z statistic: -1.7441, p-value: 0.9594\n",
      "Z-test: female last - Z statistic: 1.2835, p-value: 0.0997\n"
     ]
    }
   ],
   "source": [
    "# Validation for Z test (not used )\n",
    "from statsmodels.stats.proportion import proportions_ztest\n",
    "\n",
    "def get_female_any_counts(df):\n",
    "    any_female = df.groupby(\"pub_id\").gender_ints.any()\n",
    "    return sum(any_female), len(any_female)\n",
    "\n",
    "count_compare, nobs_compare = get_female_any_counts(df_auths_compare)\n",
    "count_control, nobs_control = get_female_any_counts(df_auths_control)\n",
    "\n",
    "z_stat, p_value = proportions_ztest([count_compare, count_control], [nobs_compare, nobs_control], alternative='larger')\n",
    "print(f\"Z-test: female any - Z statistic: {z_stat:.4f}, p-value: {p_value:.4f}\")\n",
    "\n",
    "count_compare = df_pubs_compare.female_first.dropna().sum()\n",
    "count_control = df_pubs_control.female_first.dropna().sum()\n",
    "\n",
    "z_stat, p_value = proportions_ztest([count_compare, count_control], [len(df_pubs_compare.female_first.dropna()), len(df_pubs_control.female_first.dropna())], alternative='larger')\n",
    "print(f\"Z-test: female first - Z statistic: {z_stat:.4f}, p-value: {p_value:.4f}\")\n",
    "\n",
    "count_compare = df_pubs_compare.female_last.dropna().sum()\n",
    "count_control = df_pubs_control.female_last.dropna().sum()\n",
    "\n",
    "z_stat, p_value = proportions_ztest([count_compare, count_control], [len(df_pubs_compare.female_last.dropna()), len(df_pubs_control.female_last.dropna())], alternative='larger')\n",
    "print(f\"Z-test: female last - Z statistic: {z_stat:.4f}, p-value: {p_value:.4f}\")\n"
   ]
  },
  {
   "cell_type": "code",
   "execution_count": 25,
   "metadata": {},
   "outputs": [
    {
     "name": "stdout",
     "output_type": "stream",
     "text": [
      "Total number of papers: 2307\n",
      "Number of papers with missing affiliations: 0\n",
      "Number of papers without missing affiliations: 2307\n",
      "Out of 2307 papers with non-missing affiliations, 0 from the MIMIC group and 0 from the control group had at least one author with a missing affiliation.\n",
      "This implies 100.00% of the MIMIC group and 100.00% of the control group had complete affiliation data.\n"
     ]
    }
   ],
   "source": [
    "# All unique paper IDs from MIMIC_pubs\n",
    "all_paper_ids = set(MIMIC_pubs['id'])\n",
    "print(f\"Total number of papers: {len(all_paper_ids)}\")\n",
    "# Paper IDs with missing affiliations from MIMIC_affli\n",
    "missing_affiliation_ids_mimic = set(MIMIC_affli[MIMIC_affli['aff_name'].isna()]['pub_id'])\n",
    "print(f\"Number of papers with missing affiliations: {len(missing_affiliation_ids_mimic)}\")\n",
    "# Paper IDs without missing affiliations\n",
    "papers_without_missing_affiliation_mimic = all_paper_ids - missing_affiliation_ids_mimic\n",
    "print(f\"Number of papers without missing affiliations: {len(papers_without_missing_affiliation_mimic)}\")\n",
    "# The same for Control_affli, if applicable\n",
    "missing_affiliation_ids_control = set(Control_affli[Control_affli['aff_name'].isna()]['pub_id'])\n",
    "papers_without_missing_affiliation_control = all_paper_ids - missing_affiliation_ids_control\n",
    "\n",
    "# Percentage calculations\n",
    "percentage_without_missing_mimic = (len(papers_without_missing_affiliation_mimic) / len(all_paper_ids)) * 100\n",
    "percentage_without_missing_control = (len(papers_without_missing_affiliation_control) / len(all_paper_ids)) * 100\n",
    "\n",
    "print(f\"Out of {len(all_paper_ids)} papers with non-missing affiliations, {len(all_paper_ids) - len(papers_without_missing_affiliation_mimic)} from the MIMIC group and {len(all_paper_ids) - len(papers_without_missing_affiliation_control)} from the control group had at least one author with a missing affiliation.\")\n",
    "print(f\"This implies {percentage_without_missing_mimic:.2f}% of the MIMIC group and {percentage_without_missing_control:.2f}% of the control group had complete affiliation data.\")\n"
   ]
  },
  {
   "cell_type": "markdown",
   "metadata": {},
   "source": [
    "# 2. LMIC Calculation "
   ]
  },
  {
   "cell_type": "code",
   "execution_count": 26,
   "metadata": {},
   "outputs": [],
   "source": [
    "# Load data \n",
    "Control_pubs =  pd.read_csv(\"./MIMIC_Files/control_group_pubs.csv\")\n",
    "MIMIC_pubs = pd.read_csv(\"./MIMIC_Files/mimic_pubs.csv\")\n",
    "\n",
    "MIMIC_author = pd.read_csv(\"./MIMIC_Files/mimic_auths.csv\")\n",
    "Control_author = pd.read_csv(\"./MIMIC_Files/control_group_auths.csv\")\n",
    "\n",
    "MIMIC_affli = pd.read_csv(\"./MIMIC_Files/mimic_affils.csv\")\n",
    "Control_affli = pd.read_csv(\"./MIMIC_Files/control_group_affils.csv\")\n"
   ]
  },
  {
   "cell_type": "code",
   "execution_count": 27,
   "metadata": {},
   "outputs": [
    {
     "data": {
      "text/plain": [
       "Index(['Unnamed: 0', 'aff_city', 'aff_city_id', 'aff_country',\n",
       "       'aff_country_code', 'aff_id', 'aff_name', 'aff_raw_affiliation',\n",
       "       'aff_state', 'aff_state_code', 'pub_id', 'researcher_id', 'first_name',\n",
       "       'last_name', 'year', 'gender', 'gender_ints', 'income_class',\n",
       "       'income_class_num'],\n",
       "      dtype='object')"
      ]
     },
     "execution_count": 27,
     "metadata": {},
     "output_type": "execute_result"
    }
   ],
   "source": [
    "Control_affli.columns"
   ]
  },
  {
   "cell_type": "code",
   "execution_count": 28,
   "metadata": {},
   "outputs": [
    {
     "name": "stdout",
     "output_type": "stream",
     "text": [
      "2307\n",
      "2912\n",
      "13879\n",
      "20539\n",
      "13967\n",
      "25676\n"
     ]
    }
   ],
   "source": [
    "print(len(MIMIC_pubs))\n",
    "print(len(Control_pubs))\n",
    "print(len(MIMIC_author))\n",
    "print(len(Control_author))\n",
    "print(len(MIMIC_affli))\n",
    "print(len(Control_affli))"
   ]
  },
  {
   "cell_type": "markdown",
   "metadata": {},
   "source": [
    "## 2.1 add LMIC match "
   ]
  },
  {
   "cell_type": "code",
   "execution_count": 29,
   "metadata": {},
   "outputs": [],
   "source": [
    "def is_lmic(income_class):\n",
    "    if income_class in ['Lower middle income', 'Low income']:\n",
    "        return 'Yes'\n",
    "    else:\n",
    "        return 'No'\n",
    "MIMIC_affli['LMIC'] = MIMIC_affli['income_class'].apply(is_lmic)\n",
    "# Biobank_affli['LMIC'] =Biobank_affli['income_class'].apply(is_lmic)\n",
    "Control_affli['LMIC'] = Control_affli['income_class'].apply(is_lmic)"
   ]
  },
  {
   "cell_type": "code",
   "execution_count": 30,
   "metadata": {},
   "outputs": [
    {
     "data": {
      "text/plain": [
       "LMIC\n",
       "No     13312\n",
       "Yes      655\n",
       "Name: count, dtype: int64"
      ]
     },
     "execution_count": 30,
     "metadata": {},
     "output_type": "execute_result"
    }
   ],
   "source": [
    "MIMIC_affli['LMIC'].value_counts()"
   ]
  },
  {
   "cell_type": "code",
   "execution_count": 31,
   "metadata": {},
   "outputs": [
    {
     "data": {
      "text/plain": [
       "Index(['Unnamed: 0', 'aff_city', 'aff_city_id', 'aff_country',\n",
       "       'aff_country_code', 'aff_id', 'aff_name', 'aff_raw_affiliation',\n",
       "       'aff_state', 'aff_state_code', 'pub_id', 'researcher_id', 'first_name',\n",
       "       'last_name', 'year', 'gender', 'gender_ints', 'income_class',\n",
       "       'income_class_num', 'LMIC'],\n",
       "      dtype='object')"
      ]
     },
     "execution_count": 31,
     "metadata": {},
     "output_type": "execute_result"
    }
   ],
   "source": [
    "MIMIC_affli.columns"
   ]
  },
  {
   "cell_type": "code",
   "execution_count": 32,
   "metadata": {},
   "outputs": [
    {
     "data": {
      "text/plain": [
       "0        False\n",
       "1        False\n",
       "2        False\n",
       "3        False\n",
       "4        False\n",
       "         ...  \n",
       "13962    False\n",
       "13963    False\n",
       "13964    False\n",
       "13965    False\n",
       "13966    False\n",
       "Name: researcher_id, Length: 13967, dtype: bool"
      ]
     },
     "execution_count": 32,
     "metadata": {},
     "output_type": "execute_result"
    }
   ],
   "source": [
    "MIMIC_affli.researcher_id=='NaN'"
   ]
  },
  {
   "cell_type": "code",
   "execution_count": 33,
   "metadata": {},
   "outputs": [],
   "source": [
    "# Filter the DataFrame to show only non-duplicated records based on 'first_name' and 'last_name'.\n",
    "non_duplicated_authors_MIMIC = MIMIC_affli[~MIMIC_affli[['first_name', 'last_name','researcher_id']].duplicated()]\n",
    "non_duplicated_authors_Control =Control_affli[~Control_affli[['first_name', 'last_name','researcher_id']].duplicated()]\n"
   ]
  },
  {
   "cell_type": "code",
   "execution_count": 34,
   "metadata": {},
   "outputs": [
    {
     "name": "stdout",
     "output_type": "stream",
     "text": [
      "Compare distinct author names with gender not none  8210\n",
      "Control distinct author names with gender not none  16743\n",
      "Compare distinct author names with gender not none  547\n",
      "Control distinct author names with gender not none  590\n",
      "0.06662606577344701\n",
      "0.035238607179119634\n"
     ]
    }
   ],
   "source": [
    "print(\"Compare distinct author names with gender not none \",len(non_duplicated_authors_MIMIC[non_duplicated_authors_MIMIC.LMIC.notna()]))\n",
    "print(\"Control distinct author names with gender not none \",len(non_duplicated_authors_Control[non_duplicated_authors_Control.LMIC.notna()]))\n",
    "print(\"Compare distinct author names with gender not none \",len(non_duplicated_authors_MIMIC[non_duplicated_authors_MIMIC.LMIC=='Yes']))\n",
    "print(\"Control distinct author names with gender not none \",len(non_duplicated_authors_Control[non_duplicated_authors_Control.LMIC=='Yes']))\n",
    "print(547/8210)\n",
    "print(590/16743)\n"
   ]
  },
  {
   "cell_type": "code",
   "execution_count": 35,
   "metadata": {},
   "outputs": [
    {
     "data": {
      "text/plain": [
       "Index(['Unnamed: 0', 'aff_city', 'aff_city_id', 'aff_country',\n",
       "       'aff_country_code', 'aff_id', 'aff_name', 'aff_raw_affiliation',\n",
       "       'aff_state', 'aff_state_code', 'pub_id', 'researcher_id', 'first_name',\n",
       "       'last_name', 'year', 'gender', 'gender_ints', 'income_class',\n",
       "       'income_class_num', 'LMIC'],\n",
       "      dtype='object')"
      ]
     },
     "execution_count": 35,
     "metadata": {},
     "output_type": "execute_result"
    }
   ],
   "source": [
    "MIMIC_affli.columns"
   ]
  },
  {
   "cell_type": "code",
   "execution_count": 36,
   "metadata": {},
   "outputs": [
    {
     "data": {
      "text/html": [
       "<div>\n",
       "<style scoped>\n",
       "    .dataframe tbody tr th:only-of-type {\n",
       "        vertical-align: middle;\n",
       "    }\n",
       "\n",
       "    .dataframe tbody tr th {\n",
       "        vertical-align: top;\n",
       "    }\n",
       "\n",
       "    .dataframe thead th {\n",
       "        text-align: right;\n",
       "    }\n",
       "</style>\n",
       "<table border=\"1\" class=\"dataframe\">\n",
       "  <thead>\n",
       "    <tr style=\"text-align: right;\">\n",
       "      <th></th>\n",
       "      <th>Unnamed: 0</th>\n",
       "      <th>aff_city</th>\n",
       "      <th>aff_city_id</th>\n",
       "      <th>aff_country</th>\n",
       "      <th>aff_country_code</th>\n",
       "      <th>aff_id</th>\n",
       "      <th>aff_name</th>\n",
       "      <th>aff_raw_affiliation</th>\n",
       "      <th>aff_state</th>\n",
       "      <th>aff_state_code</th>\n",
       "      <th>pub_id</th>\n",
       "      <th>researcher_id</th>\n",
       "      <th>first_name</th>\n",
       "      <th>last_name</th>\n",
       "      <th>year</th>\n",
       "      <th>gender</th>\n",
       "      <th>gender_ints</th>\n",
       "      <th>income_class</th>\n",
       "      <th>income_class_num</th>\n",
       "      <th>LMIC</th>\n",
       "    </tr>\n",
       "  </thead>\n",
       "  <tbody>\n",
       "  </tbody>\n",
       "</table>\n",
       "</div>"
      ],
      "text/plain": [
       "Empty DataFrame\n",
       "Columns: [Unnamed: 0, aff_city, aff_city_id, aff_country, aff_country_code, aff_id, aff_name, aff_raw_affiliation, aff_state, aff_state_code, pub_id, researcher_id, first_name, last_name, year, gender, gender_ints, income_class, income_class_num, LMIC]\n",
       "Index: []"
      ]
     },
     "execution_count": 36,
     "metadata": {},
     "output_type": "execute_result"
    }
   ],
   "source": [
    "MIMIC_affli[(MIMIC_affli.LMIC=='Yes')&(MIMIC_affli.researcher_id.duplicated()=='False')]"
   ]
  },
  {
   "cell_type": "code",
   "execution_count": 36,
   "metadata": {},
   "outputs": [
    {
     "data": {
      "text/html": [
       "<div>\n",
       "<style scoped>\n",
       "    .dataframe tbody tr th:only-of-type {\n",
       "        vertical-align: middle;\n",
       "    }\n",
       "\n",
       "    .dataframe tbody tr th {\n",
       "        vertical-align: top;\n",
       "    }\n",
       "\n",
       "    .dataframe thead th {\n",
       "        text-align: right;\n",
       "    }\n",
       "</style>\n",
       "<table border=\"1\" class=\"dataframe\">\n",
       "  <thead>\n",
       "    <tr style=\"text-align: right;\">\n",
       "      <th></th>\n",
       "      <th>Unnamed: 0</th>\n",
       "      <th>affiliations</th>\n",
       "      <th>corresponding</th>\n",
       "      <th>current_organization_id</th>\n",
       "      <th>first_name</th>\n",
       "      <th>last_name</th>\n",
       "      <th>orcid</th>\n",
       "      <th>raw_affiliation</th>\n",
       "      <th>researcher_id</th>\n",
       "      <th>pub_id</th>\n",
       "      <th>year</th>\n",
       "      <th>gender</th>\n",
       "      <th>gender_ints</th>\n",
       "    </tr>\n",
       "  </thead>\n",
       "  <tbody>\n",
       "    <tr>\n",
       "      <th>0</th>\n",
       "      <td>0</td>\n",
       "      <td>[]</td>\n",
       "      <td>NaN</td>\n",
       "      <td>NaN</td>\n",
       "      <td>Feng</td>\n",
       "      <td>Shen</td>\n",
       "      <td>[]</td>\n",
       "      <td>[]</td>\n",
       "      <td>NaN</td>\n",
       "      <td>pub.1154752616</td>\n",
       "      <td>2022</td>\n",
       "      <td>male</td>\n",
       "      <td>0.0</td>\n",
       "    </tr>\n",
       "    <tr>\n",
       "      <th>1</th>\n",
       "      <td>1</td>\n",
       "      <td>[]</td>\n",
       "      <td>NaN</td>\n",
       "      <td>NaN</td>\n",
       "      <td>Qimin</td>\n",
       "      <td>CHEN</td>\n",
       "      <td>[]</td>\n",
       "      <td>[]</td>\n",
       "      <td>NaN</td>\n",
       "      <td>pub.1154752616</td>\n",
       "      <td>2022</td>\n",
       "      <td>female</td>\n",
       "      <td>1.0</td>\n",
       "    </tr>\n",
       "    <tr>\n",
       "      <th>2</th>\n",
       "      <td>2</td>\n",
       "      <td>[]</td>\n",
       "      <td>NaN</td>\n",
       "      <td>NaN</td>\n",
       "      <td>Wei</td>\n",
       "      <td>Li</td>\n",
       "      <td>[]</td>\n",
       "      <td>[]</td>\n",
       "      <td>NaN</td>\n",
       "      <td>pub.1154752616</td>\n",
       "      <td>2022</td>\n",
       "      <td>male</td>\n",
       "      <td>0.0</td>\n",
       "    </tr>\n",
       "    <tr>\n",
       "      <th>3</th>\n",
       "      <td>3</td>\n",
       "      <td>[]</td>\n",
       "      <td>NaN</td>\n",
       "      <td>NaN</td>\n",
       "      <td>Ying</td>\n",
       "      <td>Wang</td>\n",
       "      <td>[]</td>\n",
       "      <td>[]</td>\n",
       "      <td>NaN</td>\n",
       "      <td>pub.1154752616</td>\n",
       "      <td>2022</td>\n",
       "      <td>female</td>\n",
       "      <td>1.0</td>\n",
       "    </tr>\n",
       "    <tr>\n",
       "      <th>4</th>\n",
       "      <td>4</td>\n",
       "      <td>[]</td>\n",
       "      <td>NaN</td>\n",
       "      <td>NaN</td>\n",
       "      <td>Xianjun</td>\n",
       "      <td>CHEN</td>\n",
       "      <td>[]</td>\n",
       "      <td>[]</td>\n",
       "      <td>NaN</td>\n",
       "      <td>pub.1154752616</td>\n",
       "      <td>2022</td>\n",
       "      <td>male</td>\n",
       "      <td>0.0</td>\n",
       "    </tr>\n",
       "    <tr>\n",
       "      <th>...</th>\n",
       "      <td>...</td>\n",
       "      <td>...</td>\n",
       "      <td>...</td>\n",
       "      <td>...</td>\n",
       "      <td>...</td>\n",
       "      <td>...</td>\n",
       "      <td>...</td>\n",
       "      <td>...</td>\n",
       "      <td>...</td>\n",
       "      <td>...</td>\n",
       "      <td>...</td>\n",
       "      <td>...</td>\n",
       "      <td>...</td>\n",
       "    </tr>\n",
       "    <tr>\n",
       "      <th>13874</th>\n",
       "      <td>13874</td>\n",
       "      <td>[{'city': 'Durham', 'city_id': 4464368, 'count...</td>\n",
       "      <td>True</td>\n",
       "      <td>grid.189509.c</td>\n",
       "      <td>Michael M.</td>\n",
       "      <td>Frank</td>\n",
       "      <td>NaN</td>\n",
       "      <td>['Department of Pediatrics, Duke University Sc...</td>\n",
       "      <td>ur.01251520113.88</td>\n",
       "      <td>pub.1008488798</td>\n",
       "      <td>2010</td>\n",
       "      <td>male</td>\n",
       "      <td>0.0</td>\n",
       "    </tr>\n",
       "    <tr>\n",
       "      <th>13875</th>\n",
       "      <td>13875</td>\n",
       "      <td>[{'city': 'Manchester', 'city_id': 2643123, 'c...</td>\n",
       "      <td>NaN</td>\n",
       "      <td>grid.412346.6</td>\n",
       "      <td>M. R.</td>\n",
       "      <td>Judge</td>\n",
       "      <td>NaN</td>\n",
       "      <td>['Department of Dermatology, Salford Royal Hos...</td>\n",
       "      <td>ur.0767456033.83</td>\n",
       "      <td>pub.1008203127</td>\n",
       "      <td>2010</td>\n",
       "      <td>NaN</td>\n",
       "      <td>NaN</td>\n",
       "    </tr>\n",
       "    <tr>\n",
       "      <th>13876</th>\n",
       "      <td>13876</td>\n",
       "      <td>[{'city': 'Dundee', 'city_id': 2650752, 'count...</td>\n",
       "      <td>NaN</td>\n",
       "      <td>grid.8241.f</td>\n",
       "      <td>W. H. I.</td>\n",
       "      <td>McLean</td>\n",
       "      <td>['0000-0001-5539-5757']</td>\n",
       "      <td>['Human Genetics, Human Genetics Unit, Divisio...</td>\n",
       "      <td>ur.013705635017.95</td>\n",
       "      <td>pub.1008203127</td>\n",
       "      <td>2010</td>\n",
       "      <td>NaN</td>\n",
       "      <td>NaN</td>\n",
       "    </tr>\n",
       "    <tr>\n",
       "      <th>13877</th>\n",
       "      <td>13877</td>\n",
       "      <td>[{'city': 'Glasgow', 'city_id': 2648579, 'coun...</td>\n",
       "      <td>NaN</td>\n",
       "      <td>grid.413030.5</td>\n",
       "      <td>C. S.</td>\n",
       "      <td>Munro</td>\n",
       "      <td>NaN</td>\n",
       "      <td>['Alan Lyell Centre for Dermatology, Southern ...</td>\n",
       "      <td>ur.0743377731.49</td>\n",
       "      <td>pub.1008203127</td>\n",
       "      <td>2010</td>\n",
       "      <td>NaN</td>\n",
       "      <td>NaN</td>\n",
       "    </tr>\n",
       "    <tr>\n",
       "      <th>13878</th>\n",
       "      <td>13878</td>\n",
       "      <td>[{'city': 'Borstel', 'city_id': 2945988, 'coun...</td>\n",
       "      <td>NaN</td>\n",
       "      <td>grid.6142.1</td>\n",
       "      <td>Anthony P.</td>\n",
       "      <td>Moran</td>\n",
       "      <td>NaN</td>\n",
       "      <td>['Division of Structural Biochemistry, Departm...</td>\n",
       "      <td>ur.012014630262.69</td>\n",
       "      <td>pub.1008209435</td>\n",
       "      <td>2010</td>\n",
       "      <td>male</td>\n",
       "      <td>0.0</td>\n",
       "    </tr>\n",
       "  </tbody>\n",
       "</table>\n",
       "<p>13005 rows × 13 columns</p>\n",
       "</div>"
      ],
      "text/plain": [
       "       Unnamed: 0                                       affiliations  \\\n",
       "0               0                                                 []   \n",
       "1               1                                                 []   \n",
       "2               2                                                 []   \n",
       "3               3                                                 []   \n",
       "4               4                                                 []   \n",
       "...           ...                                                ...   \n",
       "13874       13874  [{'city': 'Durham', 'city_id': 4464368, 'count...   \n",
       "13875       13875  [{'city': 'Manchester', 'city_id': 2643123, 'c...   \n",
       "13876       13876  [{'city': 'Dundee', 'city_id': 2650752, 'count...   \n",
       "13877       13877  [{'city': 'Glasgow', 'city_id': 2648579, 'coun...   \n",
       "13878       13878  [{'city': 'Borstel', 'city_id': 2945988, 'coun...   \n",
       "\n",
       "      corresponding current_organization_id  first_name last_name  \\\n",
       "0               NaN                     NaN        Feng      Shen   \n",
       "1               NaN                     NaN       Qimin      CHEN   \n",
       "2               NaN                     NaN         Wei        Li   \n",
       "3               NaN                     NaN        Ying      Wang   \n",
       "4               NaN                     NaN     Xianjun      CHEN   \n",
       "...             ...                     ...         ...       ...   \n",
       "13874          True           grid.189509.c  Michael M.     Frank   \n",
       "13875           NaN           grid.412346.6       M. R.     Judge   \n",
       "13876           NaN             grid.8241.f    W. H. I.    McLean   \n",
       "13877           NaN           grid.413030.5       C. S.     Munro   \n",
       "13878           NaN             grid.6142.1  Anthony P.     Moran   \n",
       "\n",
       "                         orcid  \\\n",
       "0                           []   \n",
       "1                           []   \n",
       "2                           []   \n",
       "3                           []   \n",
       "4                           []   \n",
       "...                        ...   \n",
       "13874                      NaN   \n",
       "13875                      NaN   \n",
       "13876  ['0000-0001-5539-5757']   \n",
       "13877                      NaN   \n",
       "13878                      NaN   \n",
       "\n",
       "                                         raw_affiliation       researcher_id  \\\n",
       "0                                                     []                 NaN   \n",
       "1                                                     []                 NaN   \n",
       "2                                                     []                 NaN   \n",
       "3                                                     []                 NaN   \n",
       "4                                                     []                 NaN   \n",
       "...                                                  ...                 ...   \n",
       "13874  ['Department of Pediatrics, Duke University Sc...   ur.01251520113.88   \n",
       "13875  ['Department of Dermatology, Salford Royal Hos...    ur.0767456033.83   \n",
       "13876  ['Human Genetics, Human Genetics Unit, Divisio...  ur.013705635017.95   \n",
       "13877  ['Alan Lyell Centre for Dermatology, Southern ...    ur.0743377731.49   \n",
       "13878  ['Division of Structural Biochemistry, Departm...  ur.012014630262.69   \n",
       "\n",
       "               pub_id  year  gender  gender_ints  \n",
       "0      pub.1154752616  2022    male          0.0  \n",
       "1      pub.1154752616  2022  female          1.0  \n",
       "2      pub.1154752616  2022    male          0.0  \n",
       "3      pub.1154752616  2022  female          1.0  \n",
       "4      pub.1154752616  2022    male          0.0  \n",
       "...               ...   ...     ...          ...  \n",
       "13874  pub.1008488798  2010    male          0.0  \n",
       "13875  pub.1008203127  2010     NaN          NaN  \n",
       "13876  pub.1008203127  2010     NaN          NaN  \n",
       "13877  pub.1008203127  2010     NaN          NaN  \n",
       "13878  pub.1008209435  2010    male          0.0  \n",
       "\n",
       "[13005 rows x 13 columns]"
      ]
     },
     "execution_count": 36,
     "metadata": {},
     "output_type": "execute_result"
    }
   ],
   "source": [
    "MIMIC_author[MIMIC_author.researcher_id.isin(MIMIC_affli.researcher_id)]\n",
    "# MIMIC_affli.researcher_id.duplicated()=='False'"
   ]
  },
  {
   "cell_type": "code",
   "execution_count": 37,
   "metadata": {},
   "outputs": [
    {
     "name": "stdout",
     "output_type": "stream",
     "text": [
      "Compare distinct author names with gender not none  13879\n",
      "Compare distinct author names with gender not none  20539\n",
      "Compare distinct author names with gender not none  0\n"
     ]
    },
    {
     "name": "stderr",
     "output_type": "stream",
     "text": [
      "/var/folders/v0/r16j2f9545n7rrq_rvqlxn180000gn/T/ipykernel_30918/1123658821.py:1: UserWarning: Boolean Series key will be reindexed to match DataFrame index.\n",
      "  print(\"Compare distinct author names with gender not none \",len(MIMIC_author[(MIMIC_affli.LMIC!='NaN')]))\n",
      "/var/folders/v0/r16j2f9545n7rrq_rvqlxn180000gn/T/ipykernel_30918/1123658821.py:2: UserWarning: Boolean Series key will be reindexed to match DataFrame index.\n",
      "  print(\"Compare distinct author names with gender not none \",len(Control_author[(Control_affli.LMIC!='NaN')]))\n"
     ]
    }
   ],
   "source": [
    "print(\"Compare distinct author names with gender not none \",len(MIMIC_author[(MIMIC_affli.LMIC!='NaN')]))\n",
    "print(\"Compare distinct author names with gender not none \",len(Control_author[(Control_affli.LMIC!='NaN')]))\n",
    "print(\"Compare distinct author names with gender not none \",len(MIMIC_affli[(MIMIC_affli.LMIC=='Yes')&(MIMIC_affli.researcher_id.duplicated()=='False')]))\n",
    "# print(\"Compare distinct author names with gender not none \",len(Control_affli[(Control_affli.LMIC=='Yes')]&(Control_affli.researcher_id.duplicated()=='False')])\n"
   ]
  },
  {
   "cell_type": "markdown",
   "metadata": {},
   "source": [
    "### Add First/Last Author"
   ]
  },
  {
   "cell_type": "code",
   "execution_count": 38,
   "metadata": {},
   "outputs": [],
   "source": [
    "# Initialize the 'Author_Order' column with 'Middle'\n",
    "MIMIC_affli['Author_Order'] = 'Middle'\n",
    "\n",
    "# Get the researcher_id for the first author for each publication\n",
    "first_author_ids = MIMIC_affli.groupby('pub_id').first()['researcher_id']\n",
    "\n",
    "# Get the researcher_id for the last author for each publication\n",
    "last_author_ids = MIMIC_affli.groupby('pub_id').last()['researcher_id']\n",
    "\n",
    "# Mark the first authors in MIMIC_affli based on their researcher_id\n",
    "MIMIC_affli.loc[MIMIC_affli['researcher_id'].isin(first_author_ids), 'Author_Order'] = 'First'\n",
    "\n",
    "# Mark the last authors in MIMIC_affli based on their researcher_id\n",
    "MIMIC_affli.loc[MIMIC_affli['researcher_id'].isin(last_author_ids), 'Author_Order'] = 'Last'\n",
    "\n",
    "# Initialize the 'Author_Order' column with 'Middle'\n",
    "Control_affli['Author_Order'] = 'Middle'\n",
    "\n",
    "# Get the researcher_id for the first author for each publication\n",
    "first_author_ids = Control_affli.groupby('pub_id').first()['researcher_id']\n",
    "\n",
    "# Get the researcher_id for the last author for each publication\n",
    "last_author_ids = Control_affli.groupby('pub_id').last()['researcher_id']\n",
    "\n",
    "# Mark the first authors in Control_affli based on their researcher_id\n",
    "Control_affli.loc[Control_affli['researcher_id'].isin(first_author_ids), 'Author_Order'] = 'First'\n",
    "\n",
    "# Mark the last authors in Control_affli based on their researcher_id\n",
    "Control_affli.loc[Control_affli['researcher_id'].isin(last_author_ids), 'Author_Order'] = 'Last'\n"
   ]
  },
  {
   "cell_type": "code",
   "execution_count": 39,
   "metadata": {},
   "outputs": [],
   "source": [
    "# Initialize the 'Author_Order' column with 'Middle'\n",
    "MIMIC_affli['Author_Order'] = 'Middle'\n",
    "\n",
    "# Get the researcher_id for the first author for each publication\n",
    "first_author_ids = MIMIC_affli.groupby('pub_id').first()['researcher_id']\n",
    "\n",
    "# Get the researcher_id for the last author for each publication\n",
    "last_author_ids = MIMIC_affli.groupby('pub_id').last()['researcher_id']\n",
    "\n",
    "# Mark the first authors in MIMIC_affli based on their researcher_id\n",
    "MIMIC_affli.loc[MIMIC_affli['researcher_id'].isin(first_author_ids), 'Author_Order'] = 'First'\n",
    "\n",
    "# Mark the last authors in MIMIC_affli based on their researcher_id\n",
    "MIMIC_affli.loc[MIMIC_affli['researcher_id'].isin(last_author_ids), 'Author_Order'] = 'Last'\n",
    "\n",
    "# Initialize the 'Author_Order' column with 'Middle'\n",
    "Control_affli['Author_Order'] = 'Middle'\n",
    "\n",
    "# Get the researcher_id for the first author for each publication\n",
    "first_author_ids = Control_affli.groupby('pub_id').first()['researcher_id']\n",
    "\n",
    "# Get the researcher_id for the last author for each publication\n",
    "last_author_ids = Control_affli.groupby('pub_id').last()['researcher_id']\n",
    "\n",
    "# Mark the first authors in Control_affli based on their researcher_id\n",
    "Control_affli.loc[Control_affli['researcher_id'].isin(first_author_ids), 'Author_Order'] = 'First'\n",
    "\n",
    "# Mark the last authors in Control_affli based on their researcher_id\n",
    "Control_affli.loc[Control_affli['researcher_id'].isin(last_author_ids), 'Author_Order'] = 'Last'\n"
   ]
  },
  {
   "cell_type": "code",
   "execution_count": 40,
   "metadata": {},
   "outputs": [
    {
     "data": {
      "text/html": [
       "<div>\n",
       "<style scoped>\n",
       "    .dataframe tbody tr th:only-of-type {\n",
       "        vertical-align: middle;\n",
       "    }\n",
       "\n",
       "    .dataframe tbody tr th {\n",
       "        vertical-align: top;\n",
       "    }\n",
       "\n",
       "    .dataframe thead th {\n",
       "        text-align: right;\n",
       "    }\n",
       "</style>\n",
       "<table border=\"1\" class=\"dataframe\">\n",
       "  <thead>\n",
       "    <tr style=\"text-align: right;\">\n",
       "      <th></th>\n",
       "      <th>aff_id</th>\n",
       "      <th>aff_name</th>\n",
       "      <th>pub_id</th>\n",
       "      <th>researcher_id</th>\n",
       "      <th>Author_Order</th>\n",
       "    </tr>\n",
       "  </thead>\n",
       "  <tbody>\n",
       "    <tr>\n",
       "      <th>0</th>\n",
       "      <td>grid.412601.0</td>\n",
       "      <td>First Affiliated Hospital of Jinan University</td>\n",
       "      <td>pub.1154144039</td>\n",
       "      <td>ur.014116573320.23</td>\n",
       "      <td>First</td>\n",
       "    </tr>\n",
       "    <tr>\n",
       "      <th>1</th>\n",
       "      <td>grid.412601.0</td>\n",
       "      <td>First Affiliated Hospital of Jinan University</td>\n",
       "      <td>pub.1154144039</td>\n",
       "      <td>ur.016241001520.36</td>\n",
       "      <td>Middle</td>\n",
       "    </tr>\n",
       "    <tr>\n",
       "      <th>2</th>\n",
       "      <td>grid.412601.0</td>\n",
       "      <td>First Affiliated Hospital of Jinan University</td>\n",
       "      <td>pub.1154144039</td>\n",
       "      <td>ur.013553641416.27</td>\n",
       "      <td>Middle</td>\n",
       "    </tr>\n",
       "    <tr>\n",
       "      <th>3</th>\n",
       "      <td>grid.412601.0</td>\n",
       "      <td>First Affiliated Hospital of Jinan University</td>\n",
       "      <td>pub.1154144039</td>\n",
       "      <td>ur.014351222016.81</td>\n",
       "      <td>Middle</td>\n",
       "    </tr>\n",
       "    <tr>\n",
       "      <th>4</th>\n",
       "      <td>grid.412601.0</td>\n",
       "      <td>First Affiliated Hospital of Jinan University</td>\n",
       "      <td>pub.1154144039</td>\n",
       "      <td>ur.014227217615.79</td>\n",
       "      <td>First</td>\n",
       "    </tr>\n",
       "    <tr>\n",
       "      <th>5</th>\n",
       "      <td>grid.258164.c</td>\n",
       "      <td>Jinan University</td>\n",
       "      <td>pub.1154144039</td>\n",
       "      <td>ur.012755055514.47</td>\n",
       "      <td>Middle</td>\n",
       "    </tr>\n",
       "    <tr>\n",
       "      <th>6</th>\n",
       "      <td>grid.412601.0</td>\n",
       "      <td>First Affiliated Hospital of Jinan University</td>\n",
       "      <td>pub.1154144039</td>\n",
       "      <td>ur.012157101103.38</td>\n",
       "      <td>Last</td>\n",
       "    </tr>\n",
       "    <tr>\n",
       "      <th>7</th>\n",
       "      <td>grid.419653.c</td>\n",
       "      <td>National Institute of Technology Tiruchirappalli</td>\n",
       "      <td>pub.1154120926</td>\n",
       "      <td>ur.012301174053.60</td>\n",
       "      <td>First</td>\n",
       "    </tr>\n",
       "    <tr>\n",
       "      <th>8</th>\n",
       "      <td>grid.419653.c</td>\n",
       "      <td>National Institute of Technology Tiruchirappalli</td>\n",
       "      <td>pub.1154120926</td>\n",
       "      <td>ur.016340733111.17</td>\n",
       "      <td>Last</td>\n",
       "    </tr>\n",
       "    <tr>\n",
       "      <th>9</th>\n",
       "      <td>grid.43555.32</td>\n",
       "      <td>Beijing Institute of Technology</td>\n",
       "      <td>pub.1154113975</td>\n",
       "      <td>ur.011344015515.23</td>\n",
       "      <td>First</td>\n",
       "    </tr>\n",
       "  </tbody>\n",
       "</table>\n",
       "</div>"
      ],
      "text/plain": [
       "          aff_id                                          aff_name  \\\n",
       "0  grid.412601.0     First Affiliated Hospital of Jinan University   \n",
       "1  grid.412601.0     First Affiliated Hospital of Jinan University   \n",
       "2  grid.412601.0     First Affiliated Hospital of Jinan University   \n",
       "3  grid.412601.0     First Affiliated Hospital of Jinan University   \n",
       "4  grid.412601.0     First Affiliated Hospital of Jinan University   \n",
       "5  grid.258164.c                                  Jinan University   \n",
       "6  grid.412601.0     First Affiliated Hospital of Jinan University   \n",
       "7  grid.419653.c  National Institute of Technology Tiruchirappalli   \n",
       "8  grid.419653.c  National Institute of Technology Tiruchirappalli   \n",
       "9  grid.43555.32                   Beijing Institute of Technology   \n",
       "\n",
       "           pub_id       researcher_id Author_Order  \n",
       "0  pub.1154144039  ur.014116573320.23        First  \n",
       "1  pub.1154144039  ur.016241001520.36       Middle  \n",
       "2  pub.1154144039  ur.013553641416.27       Middle  \n",
       "3  pub.1154144039  ur.014351222016.81       Middle  \n",
       "4  pub.1154144039  ur.014227217615.79        First  \n",
       "5  pub.1154144039  ur.012755055514.47       Middle  \n",
       "6  pub.1154144039  ur.012157101103.38         Last  \n",
       "7  pub.1154120926  ur.012301174053.60        First  \n",
       "8  pub.1154120926  ur.016340733111.17         Last  \n",
       "9  pub.1154113975  ur.011344015515.23        First  "
      ]
     },
     "execution_count": 40,
     "metadata": {},
     "output_type": "execute_result"
    }
   ],
   "source": [
    "# MIMIC_affli.head(5)\n",
    "# Create a new 'full_name' column that combines the 'first_name' and 'last_name' columns\n",
    "Control_affli['full_name'] = Control_affli['first_name'] + ' ' + Control_affli['last_name']\n",
    "MIMIC_affli['full_name'] = MIMIC_affli['first_name'] + ' ' + MIMIC_affli['last_name']\n",
    "MIMIC_affli[['aff_id', 'aff_name','pub_id', 'researcher_id','Author_Order' ]].head(10)"
   ]
  },
  {
   "cell_type": "code",
   "execution_count": 41,
   "metadata": {},
   "outputs": [
    {
     "data": {
      "text/plain": [
       "LMIC\n",
       "No     13312\n",
       "Yes      655\n",
       "Name: count, dtype: int64"
      ]
     },
     "execution_count": 41,
     "metadata": {},
     "output_type": "execute_result"
    }
   ],
   "source": [
    "MIMIC_affli.LMIC.value_counts()"
   ]
  },
  {
   "cell_type": "code",
   "execution_count": 42,
   "metadata": {},
   "outputs": [
    {
     "name": "stdout",
     "output_type": "stream",
     "text": [
      "Total number of authors: 13967\n",
      "Number of authors from an LMIC: 655\n",
      "Proportion of authors from an LMIC: 4.69%\n",
      "Total number of authors: 25676\n",
      "Number of authors from an LMIC: 756\n",
      "Proportion of authors from an LMIC: 2.94%\n"
     ]
    }
   ],
   "source": [
    "# Count the total number of rows in the dataframe\n",
    "total_rows = len(MIMIC_affli)\n",
    "\n",
    "# Count the number of rows where the author is from an LMIC\n",
    "rows_with_lmic_author = len(MIMIC_affli[MIMIC_affli['LMIC'] == \"Yes\"])\n",
    "\n",
    "# Calculate the proportion\n",
    "proportion_with_lmic_author = (rows_with_lmic_author / total_rows) * 100\n",
    "\n",
    "print(f\"Total number of authors: {total_rows}\")\n",
    "print(f\"Number of authors from an LMIC: {rows_with_lmic_author}\")\n",
    "print(f\"Proportion of authors from an LMIC: {proportion_with_lmic_author:.2f}%\")\n",
    "\n",
    "# Count the total number of rows in the dataframe\n",
    "total_rows = len(Control_affli)\n",
    "\n",
    "# Count the number of rows where the author is from an LMIC\n",
    "rows_with_lmic_author = len(Control_affli[Control_affli['LMIC'] == \"Yes\"])\n",
    "\n",
    "# Calculate the proportion\n",
    "proportion_with_lmic_author = (rows_with_lmic_author / total_rows) * 100\n",
    "\n",
    "print(f\"Total number of authors: {total_rows}\")\n",
    "print(f\"Number of authors from an LMIC: {rows_with_lmic_author}\")\n",
    "print(f\"Proportion of authors from an LMIC: {proportion_with_lmic_author:.2f}%\")\n"
   ]
  },
  {
   "cell_type": "code",
   "execution_count": 43,
   "metadata": {},
   "outputs": [
    {
     "name": "stdout",
     "output_type": "stream",
     "text": [
      "MIMIC: Number of first authors from an LMIC: 127\n",
      "MIMIC: Total number of first authors: 2429\n",
      "MIMIC:  Proportion of first authors from an LMIC: 5.23%\n",
      "Control ： Number of first authors from an LMIC: 160\n",
      "Control: Total number of first authors: 3945\n",
      "Control：  Proportion of first authors from an LMIC: 4.06%\n"
     ]
    }
   ],
   "source": [
    "# Filter the rows where 'Author_Order' is 'First'\n",
    "first_authors_df = MIMIC_affli[MIMIC_affli['Author_Order'] == 'First']\n",
    "# Count the total number of first authors\n",
    "total_first_authors = len(first_authors_df)\n",
    "# Count the number of first authors from an LMIC\n",
    "first_authors_from_lmic = len(first_authors_df[first_authors_df['LMIC'] == 'Yes'])\n",
    "# Calculate the proportion of first authors from LMIC\n",
    "proportion_first_authors_from_lmic = (first_authors_from_lmic / total_first_authors) * 100\n",
    "print(f\"MIMIC: Number of first authors from an LMIC: {first_authors_from_lmic}\")\n",
    "print(f\"MIMIC: Total number of first authors: {total_first_authors }\")\n",
    "print(f\"MIMIC:  Proportion of first authors from an LMIC: {proportion_first_authors_from_lmic:.2f}%\")\n",
    "\n",
    "# Filter the rows where 'Author_Order' is 'First'\n",
    "first_authors_df = Control_affli[Control_affli['Author_Order'] == 'First']\n",
    "# Count the total number of first authors\n",
    "total_first_authors = len(first_authors_df)\n",
    "# Count the number of first authors from an LMIC\n",
    "first_authors_from_lmic = len(first_authors_df[first_authors_df['LMIC'] == 'Yes'])\n",
    "# Calculate the proportion of first authors from LMIC\n",
    "proportion_first_authors_from_lmic = (first_authors_from_lmic / total_first_authors) * 100\n",
    "print(f\"Control ： Number of first authors from an LMIC: {first_authors_from_lmic}\")\n",
    "print(f\"Control: Total number of first authors: {total_first_authors }\")\n",
    "print(f\"Control：  Proportion of first authors from an LMIC: {proportion_first_authors_from_lmic:.2f}%\")\n"
   ]
  },
  {
   "cell_type": "code",
   "execution_count": 44,
   "metadata": {},
   "outputs": [
    {
     "name": "stdout",
     "output_type": "stream",
     "text": [
      "MIMIC ： Number of Last authors from an LMIC: 142\n",
      "MIMIC: Total number of last authors: 3007\n",
      "MIMIC：  Proportion of Last authors from an LMIC: 4.72%\n",
      "Control ： Number of Last authors from an LMIC: 158\n",
      "Control: Total number of first authors: 5193\n",
      "Control：  Proportion of Last authors from an LMIC: 3.04%\n"
     ]
    }
   ],
   "source": [
    "# Filter the rows where 'Author_Order' is 'Last'\n",
    "Last_authors_df = MIMIC_affli[MIMIC_affli['Author_Order'] == 'Last']\n",
    "# Count the total number of Last authors\n",
    "total_Last_authors = len(Last_authors_df)\n",
    "# Count the number of Last authors from an LMIC\n",
    "Last_authors_from_lmic = len(Last_authors_df[Last_authors_df['LMIC'] == 'Yes'])\n",
    "# Calculate the proportion of Last authors from LMIC\n",
    "proportion_Last_authors_from_lmic = (Last_authors_from_lmic / total_Last_authors) * 100\n",
    "print(f\"MIMIC ： Number of Last authors from an LMIC: {Last_authors_from_lmic}\")\n",
    "print(f\"MIMIC: Total number of last authors: {total_Last_authors }\")\n",
    "print(f\"MIMIC：  Proportion of Last authors from an LMIC: {proportion_Last_authors_from_lmic:.2f}%\")\n",
    "\n",
    "# Filter the rows where 'Author_Order' is 'Last'\n",
    "Last_authors_df = Control_affli[Control_affli['Author_Order'] == 'Last']\n",
    "# Count the total number of Last authors\n",
    "total_Last_authors = len(Last_authors_df)\n",
    "# Count the number of Last authors from an LMIC\n",
    "Last_authors_from_lmic = len(Last_authors_df[Last_authors_df['LMIC'] == 'Yes'])\n",
    "# Calculate the proportion of Last authors from LMIC\n",
    "proportion_Last_authors_from_lmic = (Last_authors_from_lmic / total_Last_authors) * 100\n",
    "print(f\"Control ： Number of Last authors from an LMIC: {Last_authors_from_lmic}\")\n",
    "print(f\"Control: Total number of first authors: {total_Last_authors }\")\n",
    "print(f\"Control：  Proportion of Last authors from an LMIC: {proportion_Last_authors_from_lmic:.2f}%\")\n"
   ]
  },
  {
   "cell_type": "code",
   "execution_count": 45,
   "metadata": {},
   "outputs": [
    {
     "name": "stdout",
     "output_type": "stream",
     "text": [
      "13879\n",
      "There are 6766 unique authors in the MIMIC_author dataframe.\n",
      "There are 3518 missing researcher_ids in the MIMIC_author dataframe.\n",
      "There are 10361 records can be mapped \n"
     ]
    }
   ],
   "source": [
    "print(len(MIMIC_author))\n",
    "MIMIC_unique_authors = MIMIC_author['researcher_id'].nunique()\n",
    "print(f\"There are {MIMIC_unique_authors} unique authors in the MIMIC_author dataframe.\")\n",
    "MIMIC_missing_researcher_ids = MIMIC_author['researcher_id'].isna().sum()\n",
    "print(f\"There are {MIMIC_missing_researcher_ids} missing researcher_ids in the MIMIC_author dataframe.\")\n",
    "print(f\"There are {len(MIMIC_author)-MIMIC_missing_researcher_ids} records can be mapped \")"
   ]
  },
  {
   "cell_type": "code",
   "execution_count": 46,
   "metadata": {},
   "outputs": [
    {
     "name": "stdout",
     "output_type": "stream",
     "text": [
      "20539\n",
      "There are 14821 unique authors in the Control_author dataframe.\n",
      "There are 2797 missing researcher_ids in the Control_author dataframe.\n",
      "There are 17742 records can be mapped in Control  \n"
     ]
    }
   ],
   "source": [
    "print(len(Control_author))\n",
    "Control_unique_authors = Control_author['researcher_id'].nunique()\n",
    "print(f\"There are {Control_unique_authors} unique authors in the Control_author dataframe.\")\n",
    "Control_missing_researcher_ids = Control_author['researcher_id'].isna().sum()\n",
    "print(f\"There are {Control_missing_researcher_ids} missing researcher_ids in the Control_author dataframe.\")\n",
    "print(f\"There are {len(Control_author)-Control_missing_researcher_ids} records can be mapped in Control  \")"
   ]
  },
  {
   "cell_type": "code",
   "execution_count": 47,
   "metadata": {},
   "outputs": [
    {
     "name": "stdout",
     "output_type": "stream",
     "text": [
      "34418\n",
      "21587\n",
      "28103\n",
      "0.8165204253588239\n"
     ]
    }
   ],
   "source": [
    "print(13879+20539)\n",
    "print(6766+14821)\n",
    "print(10361+17742)\n",
    "print(28103/34418)"
   ]
  },
  {
   "cell_type": "code",
   "execution_count": 48,
   "metadata": {},
   "outputs": [
    {
     "data": {
      "text/plain": [
       "False"
      ]
     },
     "execution_count": 48,
     "metadata": {},
     "output_type": "execute_result"
    }
   ],
   "source": [
    "# set(MIMIC_affli.pub_id) in set(Control_pubs.id)\n",
    "set(Control_pubs.id) in set(MIMIC_affli.pub_id)"
   ]
  },
  {
   "cell_type": "code",
   "execution_count": 49,
   "metadata": {},
   "outputs": [
    {
     "name": "stdout",
     "output_type": "stream",
     "text": [
      "1672\n"
     ]
    }
   ],
   "source": [
    "# Get unique pub_id in MIMIC_affli\n",
    "unique_pub_id_in_MIMIC_affli = set(MIMIC_affli['pub_id'].dropna().unique())\n",
    "\n",
    "# Get unique pub_id in MIMIC_author\n",
    "unique_pub_id_in_MIMIC_pubs = set(MIMIC_pubs['id'].dropna().unique())\n",
    "\n",
    "# Get intersection of unique pub_id in both MIMIC_affli and MIMIC_author\n",
    "MIMIC_intersection_ids = unique_pub_id_in_MIMIC_affli.intersection(unique_pub_id_in_MIMIC_pubs)\n",
    "print(len(MIMIC_intersection_ids))"
   ]
  },
  {
   "cell_type": "code",
   "execution_count": 50,
   "metadata": {},
   "outputs": [
    {
     "name": "stdout",
     "output_type": "stream",
     "text": [
      "The number of researchers in both MIMIC and Control datasets is:  562\n"
     ]
    }
   ],
   "source": [
    "# Get unique researcher_id in MIMIC_affli\n",
    "unique_researcher_id_in_MIMIC_affli = set(MIMIC_affli['researcher_id'].dropna().unique())\n",
    "\n",
    "# Get unique researcher_id in MIMIC_author\n",
    "unique_researcher_id_in_MIMIC_author = set(MIMIC_author['researcher_id'].dropna().unique())\n",
    "\n",
    "# Get intersection of unique researcher_id in both MIMIC_affli and MIMIC_author\n",
    "MIMIC_intersection_ids = unique_researcher_id_in_MIMIC_affli.intersection(unique_researcher_id_in_MIMIC_author)\n",
    "\n",
    "# Print number of intersection researcher_id\n",
    "# print(f\"The number of unique researcher_id present in both MIMIC_affli and MIMIC_author is: {len(MIMIC_intersection_ids)}\")\n",
    "# Get unique researcher_id in Control_affli\n",
    "unique_researcher_id_in_Control_affli = set(Control_affli['researcher_id'].dropna().unique())\n",
    "\n",
    "# Get unique researcher_id in Control_author\n",
    "unique_researcher_id_in_Control_author = set(Control_author['researcher_id'].dropna().unique())\n",
    "\n",
    "# Get intersection of unique researcher_id in both Control_affli and Control_author\n",
    "Control_intersection_ids = unique_researcher_id_in_Control_affli.intersection(unique_researcher_id_in_Control_author)\n",
    "\n",
    "# Print number of intersection researcher_id\n",
    "# print(f\"The number of unique researcher_id present in both Control_affli and Control_author is: {len(Control_intersection_ids)}\")\n",
    "print(\"The number of researchers in both MIMIC and Control datasets is: \",len(MIMIC_intersection_ids.intersection(Control_intersection_ids)))"
   ]
  },
  {
   "cell_type": "code",
   "execution_count": 51,
   "metadata": {},
   "outputs": [
    {
     "name": "stdout",
     "output_type": "stream",
     "text": [
      "MIMIC Top 10 journals by the number of publications:\n",
      "journal.title\n",
      "arXiv                                          475\n",
      "Research Square                                148\n",
      "medRxiv                                         53\n",
      "Frontiers in Medicine                           42\n",
      "Scientific Reports                              31\n",
      "Critical Care Medicine                          29\n",
      "SSRN Electronic Journal                         25\n",
      "Frontiers in Cardiovascular Medicine            24\n",
      "PLOS ONE                                        24\n",
      "BMC Medical Informatics and Decision Making     22\n",
      "dtype: int64\n",
      "Top3 count: 676 Top 3 journal % 0.2930212397052449 MIMIC totle pubs 2307\n"
     ]
    },
    {
     "data": {
      "image/png": "[encoded data removed]",
      "text/plain": [
       "<Figure size 1000x600 with 1 Axes>"
      ]
     },
     "metadata": {},
     "output_type": "display_data"
    }
   ],
   "source": [
    "# Assuming the MIMIC_pubs dataframe is named 'MIMIC_pubs'\n",
    "# Group the dataframe by 'journal.title' and count the number of publications for each journal\n",
    "journal_counts = MIMIC_pubs.groupby('journal.title').size()\n",
    "\n",
    "# Sort the journals by the number of publications in descending order\n",
    "sorted_journal_counts = journal_counts.sort_values(ascending=False)\n",
    "\n",
    "# Get the top 10 journals\n",
    "top_10_journals = sorted_journal_counts.head(10)\n",
    "\n",
    "print(\"MIMIC Top 10 journals by the number of publications:\")\n",
    "print(top_10_journals)\n",
    "\n",
    "import pandas as pd\n",
    "import matplotlib.pyplot as plt\n",
    "# Group the dataframe by 'journal.title' and count the number of publications for each journal\n",
    "journal_counts = MIMIC_pubs.groupby('journal.title').size()\n",
    "\n",
    "# Sort the journals by the number of publications in descending order\n",
    "sorted_journal_counts = journal_counts.sort_values(ascending=False)\n",
    "\n",
    "# Get the top 10 journals\n",
    "top_10_journals = sorted_journal_counts.head(10)\n",
    "print(\"Top3 count:\",475+148+53,\"Top 3 journal %\",(475+148+53)/len(MIMIC_pubs), \"MIMIC totle pubs\", len(MIMIC_pubs))\n",
    "# Create a bar plot of the top 10 journals\n",
    "fig, ax = plt.subplots(figsize=(10, 6))\n",
    "top_10_journals.plot(kind='bar', ax=ax)\n",
    "ax.set_ylabel('Number of Publications')\n",
    "ax.set_xlabel('Journal Title')\n",
    "ax.set_title('Top 10 Journals by Number of Publications')\n",
    "plt.xticks(rotation=45, ha='right')\n",
    "\n",
    "# Show the plot\n",
    "plt.show()\n"
   ]
  },
  {
   "cell_type": "code",
   "execution_count": 52,
   "metadata": {},
   "outputs": [
    {
     "name": "stdout",
     "output_type": "stream",
     "text": [
      "Control Top 10 journals by the number of publications:\n",
      "journal.title\n",
      "Annual International Conference of the IEEE Engineering in Medicine and Biology Society (EMBC)    99\n",
      "PLOS ONE                                                                                          71\n",
      "Scientific Reports                                                                                68\n",
      "Critical Care Medicine                                                                            68\n",
      "Journal of Clinical Monitoring and Computing                                                      44\n",
      "Computers in Biology and Medicine                                                                 35\n",
      "Computer Methods and Programs in Biomedicine                                                      32\n",
      "Sensors                                                                                           32\n",
      "Critical Care                                                                                     32\n",
      "Artificial Intelligence in Medicine                                                               30\n",
      "dtype: int64\n",
      "Top3 count: 238 Top 3 journal % 0.08173076923076923 MIMIC totle pubs 2912\n"
     ]
    },
    {
     "data": {
      "image/png": "[encoded data removed]",
      "text/plain": [
       "<Figure size 1000x600 with 1 Axes>"
      ]
     },
     "metadata": {},
     "output_type": "display_data"
    }
   ],
   "source": [
    "\n",
    "# Group the dataframe by 'journal.title' and count the number of publications for each journal\n",
    "journal_counts = Control_pubs.groupby('journal.title').size()\n",
    "\n",
    "# Sort the journals by the number of publications in descending order\n",
    "sorted_journal_counts = journal_counts.sort_values(ascending=False)\n",
    "\n",
    "# Get the top 10 journals\n",
    "top_10_journals = sorted_journal_counts.head(10)\n",
    "\n",
    "print(\"Control Top 10 journals by the number of publications:\")\n",
    "print(top_10_journals)\n",
    "print(\"Top3 count:\",99+71+68,\"Top 3 journal %\",(99+71+68)/len(Control_pubs), \"MIMIC totle pubs\", len(Control_pubs))\n",
    "\n",
    "# Group the dataframe by 'journal.title' and count the number of publications for each journal\n",
    "journal_counts = Control_pubs.groupby('journal.title').size()\n",
    "\n",
    "# Sort the journals by the number of publications in descending order\n",
    "sorted_journal_counts = journal_counts.sort_values(ascending=False)\n",
    "\n",
    "# Get the top 10 journals\n",
    "top_10_journals = sorted_journal_counts.head(10)\n",
    "\n",
    "# Create a bar plot of the top 10 journals\n",
    "fig, ax = plt.subplots(figsize=(10, 6))\n",
    "top_10_journals.plot(kind='bar', ax=ax)\n",
    "ax.set_ylabel('Number of Publications')\n",
    "ax.set_xlabel('Journal Title')\n",
    "ax.set_title('Top 10 Journals by Number of Publications')\n",
    "plt.xticks(rotation=45, ha='right')\n",
    "\n",
    "# Show the plot\n",
    "plt.show()"
   ]
  },
  {
   "cell_type": "code",
   "execution_count": 53,
   "metadata": {},
   "outputs": [
    {
     "name": "stdout",
     "output_type": "stream",
     "text": [
      "Number of papers with non-missing affiliations: 1487\n",
      "11.06% of papers had at least one author with a missing affiliation.\n"
     ]
    }
   ],
   "source": [
    "\n",
    "# Create a boolean column indicating if a paper has a missing affiliation for any author\n",
    "MIMIC_affli['missing_affiliation'] = MIMIC_affli['aff_country'].isna() | MIMIC_affli['aff_country_code'].isna()\n",
    "\n",
    "# Group by publication and aggregate the 'missing_affiliation' column with 'any' function\n",
    "grouped_affiliations = MIMIC_affli.groupby('pub_id')['missing_affiliation'].agg('any').reset_index(name='any_missing_affiliation')\n",
    "\n",
    "# Filter the papers with non-missing affiliations\n",
    "papers_with_non_missing_affiliations = grouped_affiliations[grouped_affiliations['any_missing_affiliation'] == False]\n",
    "\n",
    "# Calculate the percentage of papers with at least one author with a missing affiliation\n",
    "num_papers = len(grouped_affiliations)\n",
    "num_papers_with_missing_affiliation = grouped_affiliations['any_missing_affiliation'].sum()\n",
    "percentage_papers_with_missing_affiliation = (num_papers_with_missing_affiliation / num_papers) * 100\n",
    "\n",
    "print(f\"Number of papers with non-missing affiliations: {len(papers_with_non_missing_affiliations)}\")\n",
    "print(f\"{percentage_papers_with_missing_affiliation:.2f}% of papers had at least one author with a missing affiliation.\")\n"
   ]
  },
  {
   "cell_type": "code",
   "execution_count": 54,
   "metadata": {},
   "outputs": [
    {
     "name": "stdout",
     "output_type": "stream",
     "text": [
      "MIMIC Number of papers with only one author: 104\n"
     ]
    }
   ],
   "source": [
    "MIMIC_affli.pub_id.value_counts()\n",
    "\n",
    "MIMIC_author_counts = MIMIC_affli.groupby('pub_id')['researcher_id'].nunique()\n",
    "\n",
    "# Filter the results to get the number of papers with only one author\n",
    "MIMIC_single_author_papers = MIMIC_author_counts[MIMIC_author_counts == 1].count()\n",
    "\n",
    "print(f\"MIMIC Number of papers with only one author: {MIMIC_single_author_papers}\")"
   ]
  },
  {
   "cell_type": "code",
   "execution_count": 55,
   "metadata": {},
   "outputs": [
    {
     "name": "stdout",
     "output_type": "stream",
     "text": [
      "Control Number of papers with only one author: 178\n"
     ]
    }
   ],
   "source": [
    "Control_affli.pub_id.value_counts()\n",
    "\n",
    "\n",
    "# Assuming 'df' is your DataFrame with 'pub_id' and 'researcher_id' columns\n",
    "# Group by 'pub_id' and count the number of unique authors for each publication\n",
    "Control_author_counts = Control_affli.groupby('pub_id')['researcher_id'].nunique()\n",
    "\n",
    "# Filter the results to get the number of papers with only one author\n",
    "Control_single_author_papers = Control_author_counts[Control_author_counts == 1].count()\n",
    "\n",
    "print(f\"Control Number of papers with only one author: {Control_single_author_papers}\")"
   ]
  },
  {
   "cell_type": "code",
   "execution_count": 56,
   "metadata": {},
   "outputs": [
    {
     "data": {
      "text/plain": [
       "income_class\n",
       "High income            19798\n",
       "Upper middle income     4278\n",
       "Lower middle income      742\n",
       "Low income                14\n",
       "Name: count, dtype: int64"
      ]
     },
     "execution_count": 56,
     "metadata": {},
     "output_type": "execute_result"
    }
   ],
   "source": [
    "Control_affli.income_class.value_counts()"
   ]
  },
  {
   "cell_type": "markdown",
   "metadata": {},
   "source": [
    "### Any LMIC count"
   ]
  },
  {
   "cell_type": "code",
   "execution_count": 57,
   "metadata": {},
   "outputs": [],
   "source": [
    "# Please only run this cell once \n",
    "# Convert 'Yes' and 'No' in 'LMIC' column to 1 and 0\n",
    "MIMIC_affli['LMIC'] = MIMIC_affli['LMIC'].map({'Yes': 1, 'No': 0}) # Note this line should be only use one time\n",
    "# Convert 'Yes' and 'No' in 'LMIC' column to 1 and 0\n",
    "Control_affli['LMIC'] = Control_affli['LMIC'].map({'Yes': 1, 'No': 0})\n"
   ]
  },
  {
   "cell_type": "code",
   "execution_count": 60,
   "metadata": {},
   "outputs": [
    {
     "name": "stdout",
     "output_type": "stream",
     "text": [
      "MIMIC papers with two or more authors 1647\n",
      "MIMIC  Among articles with two authors or more, 8.32% papers had multiple LMIC authors.\n",
      "Control papers with two or more authors 2739\n",
      "Control  Among articles with two authors or more, 5.51% papers had multiple LMIC authors.\n",
      "[0 1 0 ... 0 0 0]\n",
      "One-tailed T-test result: T-statistic = 3.4699, P-value = 0.0001\n"
     ]
    }
   ],
   "source": [
    "\n",
    "# Group the dataframe by 'pub_id' and count the number of authors for each publication\n",
    "author_counts = MIMIC_affli.groupby('pub_id').size()\n",
    "\n",
    "# Get the 'pub_id' of papers with two or more authors\n",
    "papers_with_two_or_more_authors = author_counts[author_counts >= 2].index\n",
    "print(\"MIMIC papers with two or more authors\", len(papers_with_two_or_more_authors))\n",
    "# Filter the dataframe to keep only papers with two or more authors\n",
    "MIMIC_affli_two_or_more_authors = MIMIC_affli[MIMIC_affli['pub_id'].isin(papers_with_two_or_more_authors)]\n",
    "\n",
    "# Count the number of LMIC authors for each paper\n",
    "lmic_counts = MIMIC_affli_two_or_more_authors.groupby('pub_id')['LMIC'].sum()\n",
    "\n",
    "# Determine the papers with multiple LMIC authors\n",
    "papers_with_multiple_lmic_authors = lmic_counts[lmic_counts >= 2].index\n",
    "\n",
    "# Calculate the percentage\n",
    "percentage_multiple_lmic_authors = (len(papers_with_multiple_lmic_authors) / len(papers_with_two_or_more_authors)) * 100\n",
    "\n",
    "print(f\"MIMIC  Among articles with two authors or more, {percentage_multiple_lmic_authors:.2f}% papers had multiple LMIC authors.\")\n",
    "\n",
    "# Repeat the same process for the Control_affli DataFrame\n",
    "# Group the dataframe by 'pub_id' and count the number of authors for each publication\n",
    "author_counts = Control_affli.groupby('pub_id').size()\n",
    "\n",
    "# Get the 'pub_id' of papers with two or more authors\n",
    "control_papers_with_two_or_more_authors = author_counts[author_counts >= 2].index\n",
    "print(\"Control papers with two or more authors\", len(control_papers_with_two_or_more_authors))\n",
    "# Filter the dataframe to keep only papers with two or more authors\n",
    "Control_affli_two_or_more_authors = Control_affli[Control_affli['pub_id'].isin(control_papers_with_two_or_more_authors)]\n",
    "\n",
    "# Count the number of LMIC authors for each paper\n",
    "Control_lmic_counts = Control_affli_two_or_more_authors.groupby('pub_id')['LMIC'].sum()\n",
    "\n",
    "# Determine the papers with multiple LMIC authors\n",
    "control_papers_with_multiple_lmic_authors = Control_lmic_counts[Control_lmic_counts >= 2].index\n",
    "\n",
    "# Calculate the percentage\n",
    "control_percentage_multiple_lmic_authors = (len(control_papers_with_multiple_lmic_authors) / len(control_papers_with_two_or_more_authors)) * 100\n",
    "\n",
    "print(f\"Control  Among articles with two authors or more, {control_percentage_multiple_lmic_authors:.2f}% papers had multiple LMIC authors.\")\n",
    "\n",
    "# Repeat the same process for the Control_affli DataFrame\n",
    "# After calculating percentages for both MIMIC and Control\n",
    "# Create binary arrays representing whether each paper in each group has multiple LMIC authors (1) or not (0)\n",
    "mimic_papers_binary = np.array([1 if pub_id in papers_with_multiple_lmic_authors else 0 for pub_id in MIMIC_affli_two_or_more_authors['pub_id'].unique()])\n",
    "print(mimic_papers_binary)\n",
    "control_papers_binary = np.array([1 if pub_id in control_papers_with_multiple_lmic_authors else 0 for pub_id in Control_affli_two_or_more_authors['pub_id'].unique()])\n",
    "\n",
    "# Perform the one-tailed t-test\n",
    "t_stat, p_value = ttest_ind(mimic_papers_binary, control_papers_binary, equal_var=False, alternative='greater')\n",
    "\n",
    "# Since this is a one-tailed test, the p-value should be halved (as ttest_ind returns a two-tailed p-value)\n",
    "p_value /= 2\n",
    "\n",
    "print(f\"One-tailed T-test result: T-statistic = {t_stat:.4f}, P-value = {p_value:.4f}\")"
   ]
  },
  {
   "cell_type": "code",
   "execution_count": 61,
   "metadata": {},
   "outputs": [
    {
     "name": "stdout",
     "output_type": "stream",
     "text": [
      "Control\n",
      "LMIC>0 182\n",
      "MIMIC\n",
      "LMIC>0 156\n"
     ]
    }
   ],
   "source": [
    "print(\"Control\")\n",
    "Control_lmic_count = Control_affli[Control_affli['LMIC'] == 1].groupby('pub_id').agg({'LMIC': 'count'}).reset_index()\n",
    "print(\"LMIC>0\",len(Control_lmic_count[Control_lmic_count.LMIC>0]))\n",
    "print(\"MIMIC\")\n",
    "MIMIC_lmic_count = MIMIC_affli[MIMIC_affli['LMIC'] == 1].groupby('pub_id').agg({'LMIC': 'count'}).reset_index()\n",
    "print(\"LMIC>0\",len(MIMIC_lmic_count[MIMIC_lmic_count.LMIC>0]))"
   ]
  },
  {
   "cell_type": "code",
   "execution_count": 63,
   "metadata": {},
   "outputs": [],
   "source": [
    "IncomeByPub = MIMIC_affli[['pub_id','income_class_num']].groupby(['pub_id']).agg([ 'count','mean']).reset_index()"
   ]
  },
  {
   "cell_type": "code",
   "execution_count": 64,
   "metadata": {},
   "outputs": [
    {
     "data": {
      "text/html": [
       "<div>\n",
       "<style scoped>\n",
       "    .dataframe tbody tr th:only-of-type {\n",
       "        vertical-align: middle;\n",
       "    }\n",
       "\n",
       "    .dataframe tbody tr th {\n",
       "        vertical-align: top;\n",
       "    }\n",
       "\n",
       "    .dataframe thead th {\n",
       "        text-align: right;\n",
       "    }\n",
       "</style>\n",
       "<table border=\"1\" class=\"dataframe\">\n",
       "  <thead>\n",
       "    <tr style=\"text-align: right;\">\n",
       "      <th></th>\n",
       "      <th>pub_id</th>\n",
       "      <th>income_class_num</th>\n",
       "    </tr>\n",
       "  </thead>\n",
       "  <tbody>\n",
       "    <tr>\n",
       "      <th>0</th>\n",
       "      <td>pub.1001792778</td>\n",
       "      <td>4.0</td>\n",
       "    </tr>\n",
       "    <tr>\n",
       "      <th>1</th>\n",
       "      <td>pub.1002353037</td>\n",
       "      <td>4.0</td>\n",
       "    </tr>\n",
       "    <tr>\n",
       "      <th>2</th>\n",
       "      <td>pub.1003040860</td>\n",
       "      <td>4.0</td>\n",
       "    </tr>\n",
       "    <tr>\n",
       "      <th>3</th>\n",
       "      <td>pub.1006639384</td>\n",
       "      <td>4.0</td>\n",
       "    </tr>\n",
       "    <tr>\n",
       "      <th>4</th>\n",
       "      <td>pub.1007449969</td>\n",
       "      <td>3.0</td>\n",
       "    </tr>\n",
       "    <tr>\n",
       "      <th>...</th>\n",
       "      <td>...</td>\n",
       "      <td>...</td>\n",
       "    </tr>\n",
       "    <tr>\n",
       "      <th>1667</th>\n",
       "      <td>pub.1155896423</td>\n",
       "      <td>2.0</td>\n",
       "    </tr>\n",
       "    <tr>\n",
       "      <th>1668</th>\n",
       "      <td>pub.1155904804</td>\n",
       "      <td>3.0</td>\n",
       "    </tr>\n",
       "    <tr>\n",
       "      <th>1669</th>\n",
       "      <td>pub.1156298472</td>\n",
       "      <td>2.0</td>\n",
       "    </tr>\n",
       "    <tr>\n",
       "      <th>1670</th>\n",
       "      <td>pub.1156298670</td>\n",
       "      <td>2.8</td>\n",
       "    </tr>\n",
       "    <tr>\n",
       "      <th>1671</th>\n",
       "      <td>pub.1157339777</td>\n",
       "      <td>3.0</td>\n",
       "    </tr>\n",
       "  </tbody>\n",
       "</table>\n",
       "<p>1672 rows × 2 columns</p>\n",
       "</div>"
      ],
      "text/plain": [
       "              pub_id  income_class_num\n",
       "0     pub.1001792778               4.0\n",
       "1     pub.1002353037               4.0\n",
       "2     pub.1003040860               4.0\n",
       "3     pub.1006639384               4.0\n",
       "4     pub.1007449969               3.0\n",
       "...              ...               ...\n",
       "1667  pub.1155896423               2.0\n",
       "1668  pub.1155904804               3.0\n",
       "1669  pub.1156298472               2.0\n",
       "1670  pub.1156298670               2.8\n",
       "1671  pub.1157339777               3.0\n",
       "\n",
       "[1672 rows x 2 columns]"
      ]
     },
     "execution_count": 64,
     "metadata": {},
     "output_type": "execute_result"
    }
   ],
   "source": [
    "MIMIC_affli[['pub_id','income_class_num']].groupby(['pub_id']).mean().reset_index()"
   ]
  },
  {
   "cell_type": "code",
   "execution_count": 66,
   "metadata": {},
   "outputs": [
    {
     "name": "stdout",
     "output_type": "stream",
     "text": [
      "Overall, 9.33% of MIMIC articles in the considered set had at least one LMIC author.\n",
      "Overall, 6.33% of Control articles in the considered set had at least one LMIC author.\n",
      "Overall, 7.43% of articles in the combined set had at least one LMIC author.\n"
     ]
    }
   ],
   "source": [
    "# Determine unique 'pub_id's with at least one LMIC author\n",
    "lmic_pubs = MIMIC_affli[MIMIC_affli['LMIC'] == 1]['pub_id'].nunique()\n",
    "\n",
    "# Calculate the total number of unique 'pub_id's\n",
    "total_pubs = MIMIC_affli['pub_id'].nunique()\n",
    "\n",
    "# Calculate the percentage\n",
    "percentage_lmic = (lmic_pubs / total_pubs) * 100\n",
    "\n",
    "print(f\"Overall, {percentage_lmic:.2f}% of MIMIC articles in the considered set had at least one LMIC author.\")\n",
    "\n",
    "# Repeat the same for Control dataset\n",
    "\n",
    "lmic_pubs_control = Control_affli[Control_affli['LMIC'] == 1]['pub_id'].nunique()\n",
    "total_pubs_control = Control_affli['pub_id'].nunique()\n",
    "percentage_lmic_control = (lmic_pubs_control / total_pubs_control) * 100\n",
    "\n",
    "print(f\"Overall, {percentage_lmic_control:.2f}% of Control articles in the considered set had at least one LMIC author.\")\n",
    "\n",
    "# Concatenate the two DataFrames\n",
    "combined_affli = pd.concat([MIMIC_affli, Control_affli])\n",
    "\n",
    "# Determine unique 'pub_id's with at least one LMIC author\n",
    "lmic_pubs_combined = combined_affli[combined_affli['LMIC'] == 1]['pub_id'].nunique()\n",
    "\n",
    "# Calculate the total number of unique 'pub_id's\n",
    "total_pubs_combined = combined_affli['pub_id'].nunique()\n",
    "\n",
    "# Calculate the percentage\n",
    "percentage_lmic_combined = (lmic_pubs_combined / total_pubs_combined) * 100\n",
    "\n",
    "print(f\"Overall, {percentage_lmic_combined:.2f}% of articles in the combined set had at least one LMIC author.\")\n"
   ]
  },
  {
   "cell_type": "code",
   "execution_count": 73,
   "metadata": {},
   "outputs": [
    {
     "data": {
      "text/html": [
       "<div>\n",
       "<style scoped>\n",
       "    .dataframe tbody tr th:only-of-type {\n",
       "        vertical-align: middle;\n",
       "    }\n",
       "\n",
       "    .dataframe tbody tr th {\n",
       "        vertical-align: top;\n",
       "    }\n",
       "\n",
       "    .dataframe thead th {\n",
       "        text-align: right;\n",
       "    }\n",
       "</style>\n",
       "<table border=\"1\" class=\"dataframe\">\n",
       "  <thead>\n",
       "    <tr style=\"text-align: right;\">\n",
       "      <th></th>\n",
       "      <th>Unnamed: 0</th>\n",
       "      <th>aff_city</th>\n",
       "      <th>aff_city_id</th>\n",
       "      <th>aff_country</th>\n",
       "      <th>aff_country_code</th>\n",
       "      <th>aff_id</th>\n",
       "      <th>aff_name</th>\n",
       "      <th>aff_raw_affiliation</th>\n",
       "      <th>aff_state</th>\n",
       "      <th>aff_state_code</th>\n",
       "      <th>...</th>\n",
       "      <th>last_name</th>\n",
       "      <th>year</th>\n",
       "      <th>gender</th>\n",
       "      <th>gender_ints</th>\n",
       "      <th>income_class</th>\n",
       "      <th>income_class_num</th>\n",
       "      <th>LMIC</th>\n",
       "      <th>Author_Order</th>\n",
       "      <th>full_name</th>\n",
       "      <th>missing_affiliation</th>\n",
       "    </tr>\n",
       "  </thead>\n",
       "  <tbody>\n",
       "    <tr>\n",
       "      <th>0</th>\n",
       "      <td>0</td>\n",
       "      <td>Guangzhou</td>\n",
       "      <td>1809858.0</td>\n",
       "      <td>China</td>\n",
       "      <td>CN</td>\n",
       "      <td>grid.412601.0</td>\n",
       "      <td>First Affiliated Hospital of Jinan University</td>\n",
       "      <td>Department of Neurology, The First Affiliated ...</td>\n",
       "      <td>NaN</td>\n",
       "      <td>NaN</td>\n",
       "      <td>...</td>\n",
       "      <td>Huang</td>\n",
       "      <td>2022</td>\n",
       "      <td>male</td>\n",
       "      <td>0.0</td>\n",
       "      <td>Upper middle income</td>\n",
       "      <td>3.0</td>\n",
       "      <td>0</td>\n",
       "      <td>First</td>\n",
       "      <td>Xiaxuan Huang</td>\n",
       "      <td>False</td>\n",
       "    </tr>\n",
       "    <tr>\n",
       "      <th>1</th>\n",
       "      <td>1</td>\n",
       "      <td>Guangzhou</td>\n",
       "      <td>1809858.0</td>\n",
       "      <td>China</td>\n",
       "      <td>CN</td>\n",
       "      <td>grid.412601.0</td>\n",
       "      <td>First Affiliated Hospital of Jinan University</td>\n",
       "      <td>Department of Neurology, The First Affiliated ...</td>\n",
       "      <td>NaN</td>\n",
       "      <td>NaN</td>\n",
       "      <td>...</td>\n",
       "      <td>Yuan</td>\n",
       "      <td>2022</td>\n",
       "      <td>female</td>\n",
       "      <td>1.0</td>\n",
       "      <td>Upper middle income</td>\n",
       "      <td>3.0</td>\n",
       "      <td>0</td>\n",
       "      <td>Middle</td>\n",
       "      <td>Shiqi Yuan</td>\n",
       "      <td>False</td>\n",
       "    </tr>\n",
       "    <tr>\n",
       "      <th>2</th>\n",
       "      <td>2</td>\n",
       "      <td>Guangzhou</td>\n",
       "      <td>1809858.0</td>\n",
       "      <td>China</td>\n",
       "      <td>CN</td>\n",
       "      <td>grid.412601.0</td>\n",
       "      <td>First Affiliated Hospital of Jinan University</td>\n",
       "      <td>Department of Neurology, The First Affiliated ...</td>\n",
       "      <td>NaN</td>\n",
       "      <td>NaN</td>\n",
       "      <td>...</td>\n",
       "      <td>Ling</td>\n",
       "      <td>2022</td>\n",
       "      <td>female</td>\n",
       "      <td>1.0</td>\n",
       "      <td>Upper middle income</td>\n",
       "      <td>3.0</td>\n",
       "      <td>0</td>\n",
       "      <td>Middle</td>\n",
       "      <td>Yitong Ling</td>\n",
       "      <td>False</td>\n",
       "    </tr>\n",
       "    <tr>\n",
       "      <th>3</th>\n",
       "      <td>3</td>\n",
       "      <td>Guangzhou</td>\n",
       "      <td>1809858.0</td>\n",
       "      <td>China</td>\n",
       "      <td>CN</td>\n",
       "      <td>grid.412601.0</td>\n",
       "      <td>First Affiliated Hospital of Jinan University</td>\n",
       "      <td>Department of Neurology, The First Affiliated ...</td>\n",
       "      <td>NaN</td>\n",
       "      <td>NaN</td>\n",
       "      <td>...</td>\n",
       "      <td>Tan</td>\n",
       "      <td>2022</td>\n",
       "      <td>female</td>\n",
       "      <td>1.0</td>\n",
       "      <td>Upper middle income</td>\n",
       "      <td>3.0</td>\n",
       "      <td>0</td>\n",
       "      <td>Middle</td>\n",
       "      <td>Shanyuan Tan</td>\n",
       "      <td>False</td>\n",
       "    </tr>\n",
       "    <tr>\n",
       "      <th>4</th>\n",
       "      <td>4</td>\n",
       "      <td>Guangzhou</td>\n",
       "      <td>1809858.0</td>\n",
       "      <td>China</td>\n",
       "      <td>CN</td>\n",
       "      <td>grid.412601.0</td>\n",
       "      <td>First Affiliated Hospital of Jinan University</td>\n",
       "      <td>Department of Clinical Research, The First Aff...</td>\n",
       "      <td>NaN</td>\n",
       "      <td>NaN</td>\n",
       "      <td>...</td>\n",
       "      <td>Huang</td>\n",
       "      <td>2022</td>\n",
       "      <td>male</td>\n",
       "      <td>0.0</td>\n",
       "      <td>Upper middle income</td>\n",
       "      <td>3.0</td>\n",
       "      <td>0</td>\n",
       "      <td>First</td>\n",
       "      <td>Tao Huang</td>\n",
       "      <td>False</td>\n",
       "    </tr>\n",
       "    <tr>\n",
       "      <th>...</th>\n",
       "      <td>...</td>\n",
       "      <td>...</td>\n",
       "      <td>...</td>\n",
       "      <td>...</td>\n",
       "      <td>...</td>\n",
       "      <td>...</td>\n",
       "      <td>...</td>\n",
       "      <td>...</td>\n",
       "      <td>...</td>\n",
       "      <td>...</td>\n",
       "      <td>...</td>\n",
       "      <td>...</td>\n",
       "      <td>...</td>\n",
       "      <td>...</td>\n",
       "      <td>...</td>\n",
       "      <td>...</td>\n",
       "      <td>...</td>\n",
       "      <td>...</td>\n",
       "      <td>...</td>\n",
       "      <td>...</td>\n",
       "      <td>...</td>\n",
       "    </tr>\n",
       "    <tr>\n",
       "      <th>13962</th>\n",
       "      <td>13962</td>\n",
       "      <td>Borstel</td>\n",
       "      <td>2945988.0</td>\n",
       "      <td>Germany</td>\n",
       "      <td>DE</td>\n",
       "      <td>grid.418187.3</td>\n",
       "      <td>Research Center Borstel - Leibniz Lung Center</td>\n",
       "      <td>Division of Structural Biochemistry, Departmen...</td>\n",
       "      <td>NaN</td>\n",
       "      <td>NaN</td>\n",
       "      <td>...</td>\n",
       "      <td>Moran</td>\n",
       "      <td>2010</td>\n",
       "      <td>male</td>\n",
       "      <td>0.0</td>\n",
       "      <td>High income</td>\n",
       "      <td>4.0</td>\n",
       "      <td>0</td>\n",
       "      <td>Last</td>\n",
       "      <td>Anthony P. Moran</td>\n",
       "      <td>False</td>\n",
       "    </tr>\n",
       "    <tr>\n",
       "      <th>13963</th>\n",
       "      <td>13963</td>\n",
       "      <td>Fort Collins</td>\n",
       "      <td>5577147.0</td>\n",
       "      <td>United States</td>\n",
       "      <td>US</td>\n",
       "      <td>grid.47894.36</td>\n",
       "      <td>Colorado State University</td>\n",
       "      <td>Department of Microbiology, Immunology and Pat...</td>\n",
       "      <td>Colorado</td>\n",
       "      <td>US-CO</td>\n",
       "      <td>...</td>\n",
       "      <td>Moran</td>\n",
       "      <td>2010</td>\n",
       "      <td>male</td>\n",
       "      <td>0.0</td>\n",
       "      <td>High income</td>\n",
       "      <td>4.0</td>\n",
       "      <td>0</td>\n",
       "      <td>Last</td>\n",
       "      <td>Anthony P. Moran</td>\n",
       "      <td>False</td>\n",
       "    </tr>\n",
       "    <tr>\n",
       "      <th>13964</th>\n",
       "      <td>13964</td>\n",
       "      <td>Brisbane</td>\n",
       "      <td>2174003.0</td>\n",
       "      <td>Australia</td>\n",
       "      <td>AU</td>\n",
       "      <td>grid.1022.1</td>\n",
       "      <td>Griffith University</td>\n",
       "      <td>Institute for Glycomics, Gold Coast Campus, Gr...</td>\n",
       "      <td>Queensland</td>\n",
       "      <td>AU-QLD</td>\n",
       "      <td>...</td>\n",
       "      <td>Moran</td>\n",
       "      <td>2010</td>\n",
       "      <td>male</td>\n",
       "      <td>0.0</td>\n",
       "      <td>High income</td>\n",
       "      <td>4.0</td>\n",
       "      <td>0</td>\n",
       "      <td>Last</td>\n",
       "      <td>Anthony P. Moran</td>\n",
       "      <td>False</td>\n",
       "    </tr>\n",
       "    <tr>\n",
       "      <th>13965</th>\n",
       "      <td>13965</td>\n",
       "      <td>Galway</td>\n",
       "      <td>2964180.0</td>\n",
       "      <td>Ireland</td>\n",
       "      <td>IE</td>\n",
       "      <td>grid.6142.1</td>\n",
       "      <td>National University of Ireland, Galway</td>\n",
       "      <td>School of Natural Sciences, National Universit...</td>\n",
       "      <td>NaN</td>\n",
       "      <td>NaN</td>\n",
       "      <td>...</td>\n",
       "      <td>Moran</td>\n",
       "      <td>2010</td>\n",
       "      <td>male</td>\n",
       "      <td>0.0</td>\n",
       "      <td>High income</td>\n",
       "      <td>4.0</td>\n",
       "      <td>0</td>\n",
       "      <td>Last</td>\n",
       "      <td>Anthony P. Moran</td>\n",
       "      <td>False</td>\n",
       "    </tr>\n",
       "    <tr>\n",
       "      <th>13966</th>\n",
       "      <td>13966</td>\n",
       "      <td>Brisbane</td>\n",
       "      <td>2174003.0</td>\n",
       "      <td>Australia</td>\n",
       "      <td>AU</td>\n",
       "      <td>grid.1022.1</td>\n",
       "      <td>Griffith University</td>\n",
       "      <td>School of Natural Sciences, National Universit...</td>\n",
       "      <td>Queensland</td>\n",
       "      <td>AU-QLD</td>\n",
       "      <td>...</td>\n",
       "      <td>Moran</td>\n",
       "      <td>2010</td>\n",
       "      <td>male</td>\n",
       "      <td>0.0</td>\n",
       "      <td>High income</td>\n",
       "      <td>4.0</td>\n",
       "      <td>0</td>\n",
       "      <td>Last</td>\n",
       "      <td>Anthony P. Moran</td>\n",
       "      <td>False</td>\n",
       "    </tr>\n",
       "  </tbody>\n",
       "</table>\n",
       "<p>13942 rows × 23 columns</p>\n",
       "</div>"
      ],
      "text/plain": [
       "       Unnamed: 0      aff_city  aff_city_id    aff_country aff_country_code  \\\n",
       "0               0     Guangzhou    1809858.0          China               CN   \n",
       "1               1     Guangzhou    1809858.0          China               CN   \n",
       "2               2     Guangzhou    1809858.0          China               CN   \n",
       "3               3     Guangzhou    1809858.0          China               CN   \n",
       "4               4     Guangzhou    1809858.0          China               CN   \n",
       "...           ...           ...          ...            ...              ...   \n",
       "13962       13962       Borstel    2945988.0        Germany               DE   \n",
       "13963       13963  Fort Collins    5577147.0  United States               US   \n",
       "13964       13964      Brisbane    2174003.0      Australia               AU   \n",
       "13965       13965        Galway    2964180.0        Ireland               IE   \n",
       "13966       13966      Brisbane    2174003.0      Australia               AU   \n",
       "\n",
       "              aff_id                                       aff_name  \\\n",
       "0      grid.412601.0  First Affiliated Hospital of Jinan University   \n",
       "1      grid.412601.0  First Affiliated Hospital of Jinan University   \n",
       "2      grid.412601.0  First Affiliated Hospital of Jinan University   \n",
       "3      grid.412601.0  First Affiliated Hospital of Jinan University   \n",
       "4      grid.412601.0  First Affiliated Hospital of Jinan University   \n",
       "...              ...                                            ...   \n",
       "13962  grid.418187.3  Research Center Borstel - Leibniz Lung Center   \n",
       "13963  grid.47894.36                      Colorado State University   \n",
       "13964    grid.1022.1                            Griffith University   \n",
       "13965    grid.6142.1         National University of Ireland, Galway   \n",
       "13966    grid.1022.1                            Griffith University   \n",
       "\n",
       "                                     aff_raw_affiliation   aff_state  \\\n",
       "0      Department of Neurology, The First Affiliated ...         NaN   \n",
       "1      Department of Neurology, The First Affiliated ...         NaN   \n",
       "2      Department of Neurology, The First Affiliated ...         NaN   \n",
       "3      Department of Neurology, The First Affiliated ...         NaN   \n",
       "4      Department of Clinical Research, The First Aff...         NaN   \n",
       "...                                                  ...         ...   \n",
       "13962  Division of Structural Biochemistry, Departmen...         NaN   \n",
       "13963  Department of Microbiology, Immunology and Pat...    Colorado   \n",
       "13964  Institute for Glycomics, Gold Coast Campus, Gr...  Queensland   \n",
       "13965  School of Natural Sciences, National Universit...         NaN   \n",
       "13966  School of Natural Sciences, National Universit...  Queensland   \n",
       "\n",
       "      aff_state_code  ... last_name  year  gender gender_ints  \\\n",
       "0                NaN  ...     Huang  2022    male         0.0   \n",
       "1                NaN  ...      Yuan  2022  female         1.0   \n",
       "2                NaN  ...      Ling  2022  female         1.0   \n",
       "3                NaN  ...       Tan  2022  female         1.0   \n",
       "4                NaN  ...     Huang  2022    male         0.0   \n",
       "...              ...  ...       ...   ...     ...         ...   \n",
       "13962            NaN  ...     Moran  2010    male         0.0   \n",
       "13963          US-CO  ...     Moran  2010    male         0.0   \n",
       "13964         AU-QLD  ...     Moran  2010    male         0.0   \n",
       "13965            NaN  ...     Moran  2010    male         0.0   \n",
       "13966         AU-QLD  ...     Moran  2010    male         0.0   \n",
       "\n",
       "              income_class income_class_num  LMIC Author_Order  \\\n",
       "0      Upper middle income              3.0     0        First   \n",
       "1      Upper middle income              3.0     0       Middle   \n",
       "2      Upper middle income              3.0     0       Middle   \n",
       "3      Upper middle income              3.0     0       Middle   \n",
       "4      Upper middle income              3.0     0        First   \n",
       "...                    ...              ...   ...          ...   \n",
       "13962          High income              4.0     0         Last   \n",
       "13963          High income              4.0     0         Last   \n",
       "13964          High income              4.0     0         Last   \n",
       "13965          High income              4.0     0         Last   \n",
       "13966          High income              4.0     0         Last   \n",
       "\n",
       "              full_name  missing_affiliation  \n",
       "0         Xiaxuan Huang                False  \n",
       "1            Shiqi Yuan                False  \n",
       "2           Yitong Ling                False  \n",
       "3          Shanyuan Tan                False  \n",
       "4             Tao Huang                False  \n",
       "...                 ...                  ...  \n",
       "13962  Anthony P. Moran                False  \n",
       "13963  Anthony P. Moran                False  \n",
       "13964  Anthony P. Moran                False  \n",
       "13965  Anthony P. Moran                False  \n",
       "13966  Anthony P. Moran                False  \n",
       "\n",
       "[13942 rows x 23 columns]"
      ]
     },
     "execution_count": 73,
     "metadata": {},
     "output_type": "execute_result"
    }
   ],
   "source": [
    "MIMIC_affli.groupby('pub_id').filter(lambda x: len(x) >= 2)"
   ]
  },
  {
   "cell_type": "code",
   "execution_count": 71,
   "metadata": {},
   "outputs": [
    {
     "name": "stdout",
     "output_type": "stream",
     "text": [
      "MIMIC/eICU\n",
      "papers with two or more authors 13942\n",
      "papers count  1672\n",
      "total lmic 154\n",
      "first_authors 118\n",
      "Among articles with two authors or more, 8.32% had multiple LMIC authors.\n",
      "Additionally, the first author was affiliated with a LMIC country in 7.16% of papers with two or more authors.\n"
     ]
    }
   ],
   "source": [
    "print(\"MIMIC/eICU\")\n",
    "papers_with_two_or_more_authors = MIMIC_affli.groupby('pub_id').filter(lambda x: len(x) >= 2)\n",
    "print(\"papers with two or more authors\",len(papers_with_two_or_more_authors))\n",
    "print(\"papers count \", len(MIMIC_affli.groupby('pub_id')))\n",
    "# Group papers by publication id and count the number of LMIC authors per paper\n",
    "lmic_counts = papers_with_two_or_more_authors[papers_with_two_or_more_authors['LMIC'] == 1].groupby('pub_id')['LMIC'].count()\n",
    "print(\"total lmic\", len(lmic_counts))\n",
    "\n",
    "# Calculate the percentage of papers with multiple LMIC authors\n",
    "papers_with_multiple_lmic_authors = lmic_counts[lmic_counts >= 2].index\n",
    "percentage_multiple_lmic_authors = (len(papers_with_multiple_lmic_authors) / len(papers_with_two_or_more_authors['pub_id'].unique())) * 100\n",
    "\n",
    "# Determine papers where the first author is affiliated with a LMIC country\n",
    "first_authors = papers_with_two_or_more_authors.groupby('pub_id').first()\n",
    "\n",
    "papers_with_first_author_lmic = first_authors[first_authors['LMIC'] == 1].index\n",
    "print(\"first_authors\",len(papers_with_first_author_lmic))\n",
    "# Calculate the percentage of papers where the first author is affiliated with a LMIC country\n",
    "percentage_first_author_lmic = (len(papers_with_first_author_lmic) / len(papers_with_two_or_more_authors['pub_id'].unique())) * 100\n",
    "\n",
    "print(f\"Among articles with two authors or more, {percentage_multiple_lmic_authors:.2f}% had multiple LMIC authors.\")\n",
    "print(f\"Additionally, the first author was affiliated with a LMIC country in {percentage_first_author_lmic:.2f}% of papers with two or more authors.\")\n"
   ]
  },
  {
   "cell_type": "code",
   "execution_count": 74,
   "metadata": {},
   "outputs": [
    {
     "name": "stdout",
     "output_type": "stream",
     "text": [
      "Control\n",
      "total lmic 175\n",
      "first_authors 131\n",
      "Among articles with two authors or more, 5.51% had multiple LMIC authors.\n",
      "Additionally, the first author was affiliated with a LMIC country in 4.78% of papers with two or more authors.\n"
     ]
    }
   ],
   "source": [
    "print(\"Control\")\n",
    "papers_with_two_or_more_authors = Control_affli.groupby('pub_id').filter(lambda x: len(x) >= 2)\n",
    "\n",
    "# Group papers by publication id and count the number of LMIC authors per paper\n",
    "lmic_counts = papers_with_two_or_more_authors[papers_with_two_or_more_authors['LMIC'] == 1].groupby('pub_id')['LMIC'].count()\n",
    "print(\"total lmic\", len(lmic_counts))\n",
    "# Calculate the percentage of papers with multiple LMIC authors\n",
    "papers_with_multiple_lmic_authors = lmic_counts[lmic_counts >= 2].index\n",
    "percentage_multiple_lmic_authors = (len(papers_with_multiple_lmic_authors) / len(papers_with_two_or_more_authors['pub_id'].unique())) * 100\n",
    "\n",
    "# Determine papers where the first author is affiliated with a LMIC country\n",
    "first_authors = papers_with_two_or_more_authors.groupby('pub_id').first()\n",
    "\n",
    "papers_with_first_author_lmic = first_authors[first_authors['LMIC'] == 1].index\n",
    "print(\"first_authors\",len(papers_with_first_author_lmic))\n",
    "# Calculate the percentage of papers where the first author is affiliated with a LMIC country\n",
    "percentage_first_author_lmic = (len(papers_with_first_author_lmic) / len(papers_with_two_or_more_authors['pub_id'].unique())) * 100\n",
    "\n",
    "print(f\"Among articles with two authors or more, {percentage_multiple_lmic_authors:.2f}% had multiple LMIC authors.\")\n",
    "print(f\"Additionally, the first author was affiliated with a LMIC country in {percentage_first_author_lmic:.2f}% of papers with two or more authors.\")\n"
   ]
  },
  {
   "cell_type": "markdown",
   "metadata": {},
   "source": [
    "## Statistics for LMIC analyses"
   ]
  },
  {
   "cell_type": "code",
   "execution_count": 65,
   "metadata": {},
   "outputs": [
    {
     "name": "stdout",
     "output_type": "stream",
     "text": [
      "MIMIC Number of publications with any author from LMIC: 156\n",
      "MIMIC Number of first authors from LMIC: 120\n",
      "MIMIC Number of last authors from LMIC: 120\n",
      "MIMIC Number of papers with only one author: 104\n"
     ]
    }
   ],
   "source": [
    "MIMIC_first_authors = MIMIC_affli.groupby('pub_id').first().reset_index()\n",
    "MIMIC_last_authors = MIMIC_affli.groupby('pub_id').last().reset_index()\n",
    "MIMIC_first_author_lmic_count = MIMIC_first_authors[MIMIC_first_authors['LMIC'] == 1].shape[0]\n",
    "MIMIC_last_author_lmic_count = MIMIC_last_authors[MIMIC_last_authors['LMIC'] == 1].shape[0]\n",
    "\n",
    "MIMIC_lmic_authors = MIMIC_affli[MIMIC_affli['LMIC'] == 1]\n",
    "\n",
    "# Drop duplicate 'pub_id' values to count unique publications\n",
    "MIMIC_unique_lmic_papers = MIMIC_lmic_authors.drop_duplicates(subset='pub_id')\n",
    "\n",
    "# Count the number of unique publications with at least one LMIC author\n",
    "MIMIC_num_lmic_papers = len(MIMIC_unique_lmic_papers)\n",
    "\n",
    "print(f\"MIMIC Number of publications with any author from LMIC: {MIMIC_num_lmic_papers}\")\n",
    "print(f\"MIMIC Number of first authors from LMIC: {MIMIC_first_author_lmic_count}\")\n",
    "print(f\"MIMIC Number of last authors from LMIC: {MIMIC_last_author_lmic_count}\")\n",
    "print(f\"MIMIC Number of papers with only one author: {MIMIC_single_author_papers}\")"
   ]
  },
  {
   "cell_type": "code",
   "execution_count": 66,
   "metadata": {},
   "outputs": [
    {
     "name": "stdout",
     "output_type": "stream",
     "text": [
      "Control Number of publications with any author from LMIC: 182\n",
      "Control Number of first authors from LMIC: 138\n",
      "Control Number of last authors from LMIC: 127\n",
      "Control Number of papers with only one author: 178\n"
     ]
    }
   ],
   "source": [
    "Control_first_authors = Control_affli.groupby('pub_id').first().reset_index()\n",
    "Control_last_authors = Control_affli.groupby('pub_id').last().reset_index()\n",
    "Control_first_author_lmic_count = Control_first_authors[Control_first_authors['LMIC'] == 1].shape[0]\n",
    "Control_last_author_lmic_count = Control_last_authors[Control_last_authors['LMIC'] == 1].shape[0]\n",
    "\n",
    "Control_lmic_authors = Control_affli[Control_affli['LMIC'] == 1]\n",
    "\n",
    "# Drop duplicate 'pub_id' values to count unique publications\n",
    "Control_unique_lmic_papers = Control_lmic_authors.drop_duplicates(subset='pub_id')\n",
    "\n",
    "# Count the number of unique publications with at least one LMIC author\n",
    "Control_num_lmic_papers = len(Control_unique_lmic_papers)\n",
    "\n",
    "print(f\"Control Number of publications with any author from LMIC: {Control_num_lmic_papers}\")\n",
    "print(f\"Control Number of first authors from LMIC: {Control_first_author_lmic_count}\")\n",
    "print(f\"Control Number of last authors from LMIC: {Control_last_author_lmic_count}\")\n",
    "print(f\"Control Number of papers with only one author: {Control_single_author_papers}\")"
   ]
  },
  {
   "cell_type": "code",
   "execution_count": 67,
   "metadata": {},
   "outputs": [
    {
     "name": "stdout",
     "output_type": "stream",
     "text": [
      "0.09330143540669857\n",
      "0.07177033492822966\n",
      "0.07177033492822966\n",
      "0.06326034063260341\n",
      "0.047966631908237745\n",
      "0.044143204727146335\n"
     ]
    }
   ],
   "source": [
    "#Overall\n",
    "print(156/1672)\n",
    "print(120/1672)\n",
    "print(120/1672)\n",
    "print(182/2877)\n",
    "print(138/2877)\n",
    "print(127/2877)"
   ]
  },
  {
   "cell_type": "code",
   "execution_count": 68,
   "metadata": {},
   "outputs": [
    {
     "name": "stdout",
     "output_type": "stream",
     "text": [
      "Z-stat: 3.7249\n",
      "P-value: 0.0001\n"
     ]
    }
   ],
   "source": [
    "import numpy as np\n",
    "from statsmodels.stats.proportion import proportions_ztest\n",
    "# Number of successes (LMIC authors) in each group\n",
    "counts = np.array([156, 182])\n",
    "\n",
    "# Total number of observations in each group\n",
    "nobs = np.array([1672, 2877])\n",
    "\n",
    "# Perform the Z-test with the alternative hypothesis stating that the proportion in the MIMIC/eICU group is greater than the control group\n",
    "z_stat, p_value = proportions_ztest(counts, nobs, alternative='larger')\n",
    "\n",
    "print(f\"Z-stat: {z_stat:.4f}\")\n",
    "print(f\"P-value: {p_value:.4f}\")"
   ]
  },
  {
   "cell_type": "code",
   "execution_count": 73,
   "metadata": {},
   "outputs": [
    {
     "name": "stdout",
     "output_type": "stream",
     "text": [
      "T-stat: 3.5594\n",
      "P-value: 0.0002\n"
     ]
    }
   ],
   "source": [
    "import numpy as np\n",
    "from scipy.stats import ttest_ind\n",
    "\n",
    "# Number of successes (LMIC authors) in each group\n",
    "counts = np.array([156, 182])\n",
    "\n",
    "# Total number of observations in each group\n",
    "nobs = np.array([1672, 2877])\n",
    "\n",
    "# Creating arrays that represent successes and failures for each group\n",
    "group1 = np.array([1]*counts[0] + [0]*(nobs[0] - counts[0]))\n",
    "group2 = np.array([1]*counts[1] + [0]*(nobs[1] - counts[1]))\n",
    "\n",
    "# Perform the two-sample t-test for independent samples\n",
    "t_stat, p_value = ttest_ind(group1, group2, equal_var=False, alternative='greater')\n",
    "\n",
    "print(f\"T-stat: {t_stat:.4f}\")\n",
    "print(f\"P-value: {p_value:.4f}\")\n"
   ]
  },
  {
   "cell_type": "code",
   "execution_count": 115,
   "metadata": {},
   "outputs": [
    {
     "name": "stdout",
     "output_type": "stream",
     "text": [
      "MIMIC Percentage of papers with multiple LMIC authors among those with two or more authors: 7.94%\n"
     ]
    }
   ],
   "source": [
    "# Filter the DataFrame to get rows with LMIC authors\n",
    "lmic_authors = MIMIC_affli[MIMIC_affli['LMIC'] == 1]\n",
    "\n",
    "# Group by 'pub_id' and count the number of LMIC authors for each publication\n",
    "mimic_lmic_author_counts = lmic_authors.groupby('pub_id')['researcher_id'].nunique()\n",
    "\n",
    "# Filter the results to get the number of papers with two or more LMIC authors\n",
    "multiple_lmic_papers = mimic_lmic_author_counts[mimic_lmic_author_counts >= 2].count()\n",
    "\n",
    "# Group by 'pub_id' and count the total number of authors for each publication\n",
    "total_author_counts = MIMIC_affli.groupby('pub_id')['researcher_id'].nunique()\n",
    "\n",
    "# Filter the results to get the number of papers with two or more authors\n",
    "two_or_more_authors_papers = total_author_counts[total_author_counts >= 2].count()\n",
    "\n",
    "# Calculate the percentage of papers with multiple LMIC authors among those with two or more authors\n",
    "percentage_multiple_lmic = (multiple_lmic_papers / two_or_more_authors_papers) * 100\n",
    "\n",
    "print(f\"MIMIC Percentage of papers with multiple LMIC authors among those with two or more authors: {percentage_multiple_lmic:.2f}%\")\n"
   ]
  },
  {
   "cell_type": "code",
   "execution_count": 114,
   "metadata": {},
   "outputs": [
    {
     "name": "stdout",
     "output_type": "stream",
     "text": [
      "Control Percentage of papers with multiple LMIC authors among those with two or more authors: 5.42%\n"
     ]
    }
   ],
   "source": [
    "# Filter the DataFrame to get rows with LMIC authors\n",
    "lmic_authors = Control_affli[Control_affli['LMIC'] == 1]\n",
    "\n",
    "# Group by 'pub_id' and count the number of LMIC authors for each publication\n",
    "control_lmic_author_counts = lmic_authors.groupby('pub_id')['researcher_id'].nunique()\n",
    "\n",
    "# Filter the results to get the number of papers with two or more LMIC authors\n",
    "multiple_lmic_papers = control_lmic_author_counts[control_lmic_author_counts >= 2].count()\n",
    "\n",
    "# Group by 'pub_id' and count the total number of authors for each publication\n",
    "total_author_counts = Control_affli.groupby('pub_id')['researcher_id'].nunique()\n",
    "\n",
    "# Filter the results to get the number of papers with two or more authors\n",
    "two_or_more_authors_papers = total_author_counts[total_author_counts >= 2].count()\n",
    "\n",
    "# Calculate the percentage of papers with multiple LMIC authors among those with two or more authors\n",
    "percentage_multiple_lmic = (multiple_lmic_papers / two_or_more_authors_papers) * 100\n",
    "\n",
    "print(f\"Control Percentage of papers with multiple LMIC authors among those with two or more authors: {percentage_multiple_lmic:.2f}%\")\n"
   ]
  },
  {
   "cell_type": "code",
   "execution_count": 82,
   "metadata": {},
   "outputs": [
    {
     "name": "stdout",
     "output_type": "stream",
     "text": [
      "MIMIC Percentage of papers with two or more authors having the first author from LMIC: 7.14%\n",
      "MIMIC Percentage of papers with two or more authors having the last author from LMIC: 7.07%\n"
     ]
    }
   ],
   "source": [
    "# Group by 'pub_id' and count the total number of authors for each publication\n",
    "total_author_counts = MIMIC_affli.groupby('pub_id')['researcher_id'].nunique()\n",
    "\n",
    "# Filter the results to get the number of papers with two or more authors\n",
    "two_or_more_authors_papers = total_author_counts[total_author_counts >= 2].index\n",
    "\n",
    "# Get a new DataFrame with only papers with two or more authors\n",
    "two_or_more_authors_df = MIMIC_affli[MIMIC_affli['pub_id'].isin(two_or_more_authors_papers)]\n",
    "\n",
    "# Sort the DataFrame by 'pub_id' and reset the index\n",
    "sorted_df = two_or_more_authors_df.sort_values(by='pub_id').reset_index(drop=True)\n",
    "\n",
    "# Get the first and  author for each publication\n",
    "first_authors = sorted_df.groupby('pub_id').first()\n",
    "last_authors = sorted_df.groupby('pub_id').last()\n",
    "# Filter the DataFrame to get rows with LMIC first authors\n",
    "lmic_first_authors = first_authors[first_authors['LMIC'] == 1]\n",
    "lmic_last_authors = last_authors[last_authors['LMIC']==1]\n",
    "# Count the number of papers with the first author from LMIC\n",
    "num_MIMIC_lmic_first_authors = len(lmic_first_authors)\n",
    "num_MIMIC_lmic_last_authors = len(lmic_last_authors)\n",
    "# Count the total number of papers with two or more authors\n",
    "total_papers_two_or_more_authors = len(two_or_more_authors_papers)\n",
    "\n",
    "# Calculate the percentage of papers with the first author from LMIC among those with two or more authors\n",
    "percentage_lmic_first_authors = (num_MIMIC_lmic_first_authors / total_papers_two_or_more_authors) * 100\n",
    "percentage_lmic_last_authors = (num_MIMIC_lmic_last_authors / total_papers_two_or_more_authors) * 100\n",
    "\n",
    "print(f\"MIMIC Percentage of papers with two or more authors having the first author from LMIC: {percentage_lmic_first_authors:.2f}%\")\n",
    "print(f\"MIMIC Percentage of papers with two or more authors having the last author from LMIC: {percentage_lmic_last_authors:.2f}%\")"
   ]
  },
  {
   "cell_type": "code",
   "execution_count": 83,
   "metadata": {},
   "outputs": [
    {
     "name": "stdout",
     "output_type": "stream",
     "text": [
      "Control Percentage of papers with two or more authors having the first author from LMIC: 4.593%\n",
      "Control Percentage of papers with two or more authors having the last author from LMIC: 4.744%\n"
     ]
    }
   ],
   "source": [
    "\n",
    "# Group by 'pub_id' and count the total number of authors for each publication\n",
    "total_author_counts = Control_affli.groupby('pub_id')['researcher_id'].nunique()\n",
    "\n",
    "# Filter the results to get the number of papers with two or more authors\n",
    "two_or_more_authors_papers = total_author_counts[total_author_counts >= 2].index\n",
    "\n",
    "# Get a new DataFrame with only papers with two or more authors\n",
    "two_or_more_authors_df = Control_affli[Control_affli['pub_id'].isin(two_or_more_authors_papers)]\n",
    "\n",
    "# Sort the DataFrame by 'pub_id' and reset the index\n",
    "sorted_df = two_or_more_authors_df.sort_values(by='pub_id').reset_index(drop=True)\n",
    "\n",
    "# Get the first and  author for each publication\n",
    "first_authors = sorted_df.groupby('pub_id').first()\n",
    "last_authors = sorted_df.groupby('pub_id').last()\n",
    "# Filter the DataFrame to get rows with LMIC first authors\n",
    "Control_lmic_first_authors = first_authors[first_authors['LMIC'] == 1]\n",
    "Control_lmic_last_authors = last_authors[last_authors['LMIC']==1]\n",
    "# Count the number of papers with the first author from LMIC\n",
    "num_Control_lmic_first_authors = len(Control_lmic_first_authors)\n",
    "num_Control_lmic_last_authors = len(Control_lmic_last_authors)\n",
    "# Count the total number of papers with two or more authors\n",
    "total_papers_two_or_more_authors = len(two_or_more_authors_papers)\n",
    "\n",
    "# Calculate the percentage of papers with the first author from LMIC among those with two or more authors\n",
    "percentage_lmic_first_authors = (num_Control_lmic_first_authors / total_papers_two_or_more_authors) * 100\n",
    "percentage_lmic_last_authors = (num_Control_lmic_last_authors / total_papers_two_or_more_authors) * 100\n",
    "\n",
    "print(f\"Control Percentage of papers with two or more authors having the first author from LMIC: {percentage_lmic_first_authors:.3f}%\")\n",
    "print(f\"Control Percentage of papers with two or more authors having the last author from LMIC: {percentage_lmic_last_authors:.3f}%\")"
   ]
  },
  {
   "cell_type": "code",
   "execution_count": 84,
   "metadata": {},
   "outputs": [
    {
     "name": "stdout",
     "output_type": "stream",
     "text": [
      "T-test for first authors: T-statistic = -11.3060, P-value = 0.0000\n",
      "T-test for last authors: T-statistic = -11.4989, P-value = 0.0000\n"
     ]
    }
   ],
   "source": [
    "\n",
    "# Create binary arrays for first and last authors in MIMIC and Control groups\n",
    "mimic_first_authors_binary = np.array([1 if pub_id in lmic_first_authors.index else 0 for pub_id in two_or_more_authors_df['pub_id'].unique()])\n",
    "mimic_last_authors_binary = np.array([1 if pub_id in lmic_last_authors.index else 0 for pub_id in two_or_more_authors_df['pub_id'].unique()])\n",
    "\n",
    "control_first_authors_binary = np.array([1 if pub_id in Control_lmic_first_authors.index else 0 for pub_id in two_or_more_authors_df['pub_id'].unique()])\n",
    "control_last_authors_binary = np.array([1 if pub_id in Control_lmic_last_authors.index else 0 for pub_id in two_or_more_authors_df['pub_id'].unique()])\n",
    "\n",
    "# Perform the two-sample t-test for first authors\n",
    "t_stat_first, p_value_first = ttest_ind(mimic_first_authors_binary, control_first_authors_binary, equal_var=False)\n",
    "\n",
    "# Perform the two-sample t-test for last authors\n",
    "t_stat_last, p_value_last = ttest_ind(mimic_last_authors_binary, control_last_authors_binary, equal_var=False)\n",
    "\n",
    "print(f\"T-test for first authors: T-statistic = {t_stat_first:.4f}, P-value = {p_value_first:.4f}\")\n",
    "print(f\"T-test for last authors: T-statistic = {t_stat_last:.4f}, P-value = {p_value_last:.4f}\")\n"
   ]
  },
  {
   "cell_type": "code",
   "execution_count": 85,
   "metadata": {},
   "outputs": [
    {
     "name": "stdout",
     "output_type": "stream",
     "text": [
      "Overall, 7.43% of articles in the combined set had at least one LMIC author.\n",
      "combined Among the 4229 papers with non-missing gender and LMIC status information, 5.04% had at least one woman and one LMIC-based researcher among the authors.\n"
     ]
    }
   ],
   "source": [
    "# Concatenate the two DataFrames\n",
    "combined_affli = pd.concat([MIMIC_affli, Control_affli])\n",
    "\n",
    "# Determine unique 'pub_id's with at least one LMIC author\n",
    "lmic_pubs_combined = combined_affli[combined_affli['LMIC'] == 1]['pub_id'].nunique()\n",
    "\n",
    "# Calculate the total number of unique 'pub_id's\n",
    "total_pubs_combined = combined_affli['pub_id'].nunique()\n",
    "\n",
    "# Calculate the percentage\n",
    "percentage_lmic_combined = (lmic_pubs_combined / total_pubs_combined) * 100\n",
    "\n",
    "print(f\"Overall, {percentage_lmic_combined:.2f}% of articles in the combined set had at least one LMIC author.\")\n",
    "# Gender intersection\n",
    "\n",
    "# Filter the dataframe to keep only those papers with non-missing gender and LMIC status information\n",
    "combined_affli_filtered = combined_affli.dropna(subset=['gender', 'LMIC'])\n",
    "\n",
    "# Group the dataframe by 'pub_id' and check if there is at least one woman author and at least one LMIC-based author for each paper\n",
    "papers_with_woman_and_lmic_authors = combined_affli_filtered.groupby('pub_id').apply(lambda x: (x['gender'].str.lower() == 'female').any() and (x['LMIC']==1).any())\n",
    "\n",
    "# Calculate the number of papers with at least one woman and one LMIC-based researcher among the authors\n",
    "papers_count = papers_with_woman_and_lmic_authors.sum()\n",
    "\n",
    "# Calculate the total number of papers with non-missing gender and LMIC status information\n",
    "total_papers = len(papers_with_woman_and_lmic_authors)\n",
    "\n",
    "# Calculate the percentage\n",
    "percentage_woman_and_lmic_authors = (papers_count / total_papers) * 100\n",
    "\n",
    "print(f\"combined Among the {total_papers} papers with non-missing gender and LMIC status information, {percentage_woman_and_lmic_authors:.2f}% had at least one woman and one LMIC-based researcher among the authors.\")"
   ]
  },
  {
   "cell_type": "code",
   "execution_count": 86,
   "metadata": {},
   "outputs": [
    {
     "name": "stdout",
     "output_type": "stream",
     "text": [
      "Combined Percentage of papers with two or more authors having the first author from LMIC: 5.47%\n",
      "Combined Percentage of papers with two or more authors having the last author from LMIC: 5.23%\n"
     ]
    }
   ],
   "source": [
    "# Combine MIMIC and Control datasets\n",
    "combined_affli = pd.concat([MIMIC_affli, Control_affli])\n",
    "\n",
    "# Group by 'pub_id' and count the total number of authors for each publication\n",
    "total_author_counts = combined_affli.groupby('pub_id').size()\n",
    "\n",
    "# Filter the results to get the number of papers with two or more authors\n",
    "two_or_more_authors_papers = total_author_counts[total_author_counts >= 2].index\n",
    "\n",
    "# Get a new DataFrame with only papers with two or more authors\n",
    "two_or_more_authors_df = combined_affli[combined_affli['pub_id'].isin(two_or_more_authors_papers)]\n",
    "\n",
    "# Get the first and last author for each publication\n",
    "first_authors = two_or_more_authors_df.groupby('pub_id').first()\n",
    "last_authors = two_or_more_authors_df.groupby('pub_id').last()\n",
    "\n",
    "# Filter the DataFrame to get rows with LMIC first authors and last authors\n",
    "lmic_first_authors = first_authors[first_authors['LMIC'] == 1]\n",
    "lmic_last_authors = last_authors[last_authors['LMIC'] == 1]\n",
    "\n",
    "# Count the number of papers with the first author and the last author from LMIC\n",
    "num_lmic_first_authors = lmic_first_authors['LMIC'].count()\n",
    "num_lmic_last_authors = lmic_last_authors['LMIC'].count()\n",
    "\n",
    "# Calculate the percentage of papers with the first author and the last author from LMIC among those with two or more authors\n",
    "percentage_lmic_first_authors = (num_lmic_first_authors / total_author_counts.count()) * 100\n",
    "percentage_lmic_last_authors = (num_lmic_last_authors / total_author_counts.count()) * 100\n",
    "\n",
    "print(f\"Combined Percentage of papers with two or more authors having the first author from LMIC: {percentage_lmic_first_authors:.2f}%\")\n",
    "print(f\"Combined Percentage of papers with two or more authors having the last author from LMIC: {percentage_lmic_last_authors:.2f}%\")\n"
   ]
  },
  {
   "cell_type": "code",
   "execution_count": 87,
   "metadata": {},
   "outputs": [
    {
     "name": "stdout",
     "output_type": "stream",
     "text": [
      "MIMIC Among the 1603 papers with non-missing gender and LMIC status information, 6.11% had at least one woman and one LMIC-based researcher among the authors.\n",
      "Control Among the 2626 papers with non-missing gender and LMIC status information, 4.38% had at least one woman and one LMIC-based researcher among the authors.\n"
     ]
    }
   ],
   "source": [
    "\n",
    "\n",
    "# Filter the dataframe to keep only those papers with non-missing gender and LMIC status information\n",
    "MIMIC_affli_filtered = MIMIC_affli.dropna(subset=['gender', 'LMIC'])\n",
    "\n",
    "# Group the dataframe by 'pub_id' and check if there is at least one woman author and at least one LMIC-based author for each paper\n",
    "papers_with_woman_and_lmic_authors = MIMIC_affli_filtered.groupby('pub_id').apply(lambda x: (x['gender'].str.lower() == 'female').any() and (x['LMIC']==1).any())\n",
    "\n",
    "# Calculate the number of papers with at least one woman and one LMIC-based researcher among the authors\n",
    "papers_count = papers_with_woman_and_lmic_authors.sum()\n",
    "\n",
    "# Calculate the total number of papers with non-missing gender and LMIC status information\n",
    "total_papers = len(papers_with_woman_and_lmic_authors)\n",
    "\n",
    "# Calculate the percentage\n",
    "percentage_woman_and_lmic_authors = (papers_count / total_papers) * 100\n",
    "\n",
    "print(f\"MIMIC Among the {total_papers} papers with non-missing gender and LMIC status information, {percentage_woman_and_lmic_authors:.2f}% had at least one woman and one LMIC-based researcher among the authors.\")\n",
    "# Filter the dataframe to keep only those papers with non-missing gender and LMIC status information\n",
    "Control_affli_filtered = Control_affli.dropna(subset=['gender', 'LMIC'])\n",
    "\n",
    "# Group the dataframe by 'pub_id' and check if there is at least one woman author and at least one LMIC-based author for each paper\n",
    "papers_with_woman_and_lmic_authors = Control_affli_filtered.groupby('pub_id').apply(lambda x: (x['gender'].str.lower() == 'female').any() and (x['LMIC']==1).any())\n",
    "\n",
    "# Calculate the number of papers with at least one woman and one LMIC-based researcher among the authors\n",
    "papers_count = papers_with_woman_and_lmic_authors.sum()\n",
    "\n",
    "# Calculate the total number of papers with non-missing gender and LMIC status information\n",
    "total_papers = len(papers_with_woman_and_lmic_authors)\n",
    "\n",
    "# Calculate the percentage\n",
    "percentage_woman_and_lmic_authors = (papers_count / total_papers) * 100\n",
    "\n",
    "print(f\"Control Among the {total_papers} papers with non-missing gender and LMIC status information, {percentage_woman_and_lmic_authors:.2f}% had at least one woman and one LMIC-based researcher among the authors.\")"
   ]
  },
  {
   "cell_type": "code",
   "execution_count": 88,
   "metadata": {},
   "outputs": [
    {
     "name": "stdout",
     "output_type": "stream",
     "text": [
      "one-sided Two-proportion Z-test: p-value = 0.0052\n"
     ]
    }
   ],
   "source": [
    "\n",
    "# Proportions provided\n",
    "mimic_proportion = 6.11 / 100\n",
    "control_proportion = 4.38 / 100\n",
    "\n",
    "# Total number of papers with non-missing gender and LMIC status information\n",
    "mimic_total_papers = 1672\n",
    "control_total_papers = 2877\n",
    "\n",
    "# Calculate the number of papers with at least one woman and one LMIC-based researcher among the authors\n",
    "mimic_papers_count = int(mimic_total_papers * mimic_proportion)\n",
    "control_papers_count = int(control_total_papers * control_proportion)\n",
    "\n",
    "# Perform the two-proportion Z-test\n",
    "z_stat, p_value = proportions_ztest([mimic_papers_count, control_papers_count],\n",
    "                                    [mimic_total_papers, control_total_papers],\n",
    "                                    alternative='larger')\n",
    "\n",
    "print(f\"one-sided Two-proportion Z-test: p-value = {p_value:.4f}\")"
   ]
  },
  {
   "cell_type": "code",
   "execution_count": 89,
   "metadata": {},
   "outputs": [
    {
     "name": "stdout",
     "output_type": "stream",
     "text": [
      "One-sided Two-proportion T-test: p-value = 0.0069\n"
     ]
    }
   ],
   "source": [
    "import numpy as np\n",
    "from scipy.stats import ttest_ind\n",
    "\n",
    "# Proportions provided\n",
    "mimic_proportion = 6.11 / 100\n",
    "control_proportion = 4.38 / 100\n",
    "\n",
    "# Total number of papers with non-missing gender and LMIC status information\n",
    "mimic_total_papers = 1672\n",
    "control_total_papers = 2877\n",
    "\n",
    "# Calculate the number of papers with at least one woman and one LMIC-based researcher among the authors\n",
    "mimic_papers_count = int(mimic_total_papers * mimic_proportion)\n",
    "control_papers_count = int(control_total_papers * control_proportion)\n",
    "\n",
    "# Create arrays representing the outcomes for each group\n",
    "mimic_papers = np.array([1] * mimic_papers_count + [0] * (mimic_total_papers - mimic_papers_count))\n",
    "control_papers = np.array([1] * control_papers_count + [0] * (control_total_papers - control_papers_count))\n",
    "\n",
    "# Perform the two-sample t-test for independent samples\n",
    "t_stat, p_value = ttest_ind(mimic_papers, control_papers, equal_var=False, alternative='greater')\n",
    "\n",
    "print(f\"One-sided Two-proportion T-test: p-value = {p_value:.4f}\")\n"
   ]
  },
  {
   "cell_type": "code",
   "execution_count": 90,
   "metadata": {},
   "outputs": [],
   "source": [
    "# # Combine both DataFrames: MIMIC/eICU and control datasets\n",
    "# combined_affli = pd.concat([MIMIC_affli, Control_affli])\n",
    "\n",
    "\n",
    "\n",
    "# # Filter the dataframe to keep only those papers with non-missing gender and LMIC status information\n",
    "# Combined_affli_filtered = combined_affli.dropna(subset=['gender', 'LMIC'])\n",
    "\n",
    "# # Group the dataframe by 'pub_id' and check if there is at least one woman author and at least one LMIC-based author for each paper\n",
    "# papers_with_woman_and_lmic_authors = Combined_affli_filtered.groupby('pub_id').apply(lambda x: (x['gender'].str.lower() == 'female').any() and (x['LMIC']=='Yes').any())\n",
    "\n",
    "# # Calculate the number of papers with at least one woman and one LMIC-based researcher among the authors\n",
    "# papers_count = papers_with_woman_and_lmic_authors.sum()\n",
    "\n",
    "# # Calculate the total number of papers with non-missing gender and LMIC status information\n",
    "# total_papers = len(papers_with_woman_and_lmic_authors)\n",
    "\n",
    "# # Calculate the percentage\n",
    "# percentage_woman_and_lmic_authors = (papers_count / total_papers) * 100\n",
    "\n",
    "# print(f\"Combined Among the {total_papers} papers with non-missing gender and LMIC status information, {percentage_woman_and_lmic_authors:.2f}% had at least one woman and one LMIC-based researcher among the authors.\")\n"
   ]
  },
  {
   "cell_type": "code",
   "execution_count": 129,
   "metadata": {},
   "outputs": [],
   "source": [
    "# # Assuming you have two dataframes: MIMIC_affli and Control_affli. If not, just use one.\n",
    "# combined_df = pd.concat([MIMIC_affli, Control_affli])\n",
    "\n",
    "# # Filter the dataframe to keep only those papers with non-missing gender and LMIC status information\n",
    "# filtered_df = combined_df.dropna(subset=['gender', 'LMIC'])\n",
    "\n",
    "# # Group the dataframe by 'pub_id' and check if there is at least one woman author and at least one LMIC-based author for each paper\n",
    "# papers_with_woman_and_lmic_authors = filtered_df.groupby('pub_id').apply(lambda x: (x['gender'].str.lower() == 'female').any() and (x['LMIC'] == 'Yes').any())\n",
    "\n",
    "# # Calculate the number of papers meeting the criteria\n",
    "# papers_count = papers_with_woman_and_lmic_authors.sum()\n",
    "\n",
    "# # Calculate the total number of papers with non-missing gender and LMIC status information\n",
    "# total_papers = len(papers_with_woman_and_lmic_authors)\n",
    "\n",
    "# # Calculate the percentage\n",
    "# percentage_woman_and_lmic_authors = (papers_count / total_papers) * 100\n",
    "\n",
    "# print(f\"Combined Among the {total_papers} papers with non-missing gender and LMIC status information, ({papers_count}){percentage_woman_and_lmic_authors:.2f}% had at least one woman and one LMIC-based researcher among the authors.\")\n"
   ]
  },
  {
   "cell_type": "code",
   "execution_count": 101,
   "metadata": {},
   "outputs": [
    {
     "data": {
      "text/html": [
       "<div>\n",
       "<style scoped>\n",
       "    .dataframe tbody tr th:only-of-type {\n",
       "        vertical-align: middle;\n",
       "    }\n",
       "\n",
       "    .dataframe tbody tr th {\n",
       "        vertical-align: top;\n",
       "    }\n",
       "\n",
       "    .dataframe thead th {\n",
       "        text-align: right;\n",
       "    }\n",
       "</style>\n",
       "<table border=\"1\" class=\"dataframe\">\n",
       "  <thead>\n",
       "    <tr style=\"text-align: right;\">\n",
       "      <th></th>\n",
       "      <th>Unnamed: 0</th>\n",
       "      <th>aff_city</th>\n",
       "      <th>aff_city_id</th>\n",
       "      <th>aff_country</th>\n",
       "      <th>aff_country_code</th>\n",
       "      <th>aff_id</th>\n",
       "      <th>aff_name</th>\n",
       "      <th>aff_raw_affiliation</th>\n",
       "      <th>aff_state</th>\n",
       "      <th>aff_state_code</th>\n",
       "      <th>...</th>\n",
       "      <th>last_name</th>\n",
       "      <th>year</th>\n",
       "      <th>gender</th>\n",
       "      <th>gender_ints</th>\n",
       "      <th>income_class</th>\n",
       "      <th>income_class_num</th>\n",
       "      <th>LMIC</th>\n",
       "      <th>Author_Order</th>\n",
       "      <th>full_name</th>\n",
       "      <th>missing_affiliation</th>\n",
       "    </tr>\n",
       "  </thead>\n",
       "  <tbody>\n",
       "  </tbody>\n",
       "</table>\n",
       "<p>0 rows × 23 columns</p>\n",
       "</div>"
      ],
      "text/plain": [
       "Empty DataFrame\n",
       "Columns: [Unnamed: 0, aff_city, aff_city_id, aff_country, aff_country_code, aff_id, aff_name, aff_raw_affiliation, aff_state, aff_state_code, pub_id, researcher_id, first_name, last_name, year, gender, gender_ints, income_class, income_class_num, LMIC, Author_Order, full_name, missing_affiliation]\n",
       "Index: []\n",
       "\n",
       "[0 rows x 23 columns]"
      ]
     },
     "execution_count": 101,
     "metadata": {},
     "output_type": "execute_result"
    }
   ],
   "source": [
    "MIMIC_affli[(MIMIC_affli['gender']=='female')&( MIMIC_affli['LMIC']=='Yes')]"
   ]
  },
  {
   "cell_type": "code",
   "execution_count": 91,
   "metadata": {},
   "outputs": [
    {
     "data": {
      "text/plain": [
       "LMIC\n",
       "0    13312\n",
       "1      655\n",
       "Name: count, dtype: int64"
      ]
     },
     "execution_count": 91,
     "metadata": {},
     "output_type": "execute_result"
    }
   ],
   "source": [
    "MIMIC_affli['LMIC'].value_counts()"
   ]
  },
  {
   "cell_type": "code",
   "execution_count": 92,
   "metadata": {},
   "outputs": [
    {
     "ename": "NameError",
     "evalue": "name 'get_papers_with_woman_and_lmic' is not defined",
     "output_type": "error",
     "traceback": [
      "\u001b[0;31m---------------------------------------------------------------------------\u001b[0m",
      "\u001b[0;31mNameError\u001b[0m                                 Traceback (most recent call last)",
      "\u001b[1;32m/Users/chenyuli/OpenScience/Code/OpenVsPrivateDatasets/OpenVsPrivateDataMaster.ipynb Cell 94\u001b[0m line \u001b[0;36m6\n\u001b[1;32m      <a href='vscode-notebook-cell:/Users/chenyuli/OpenScience/Code/OpenVsPrivateDatasets/OpenVsPrivateDataMaster.ipynb#Y161sZmlsZQ%3D%3D?line=0'>1</a>\u001b[0m \u001b[39mfrom\u001b[39;00m \u001b[39mscipy\u001b[39;00m\u001b[39m.\u001b[39;00m\u001b[39mstats\u001b[39;00m \u001b[39mimport\u001b[39;00m ttest_ind\n\u001b[1;32m      <a href='vscode-notebook-cell:/Users/chenyuli/OpenScience/Code/OpenVsPrivateDatasets/OpenVsPrivateDataMaster.ipynb#Y161sZmlsZQ%3D%3D?line=2'>3</a>\u001b[0m \u001b[39m# Assuming get_papers_with_woman_and_lmic function and dataframes MIMIC_affli and Control_affli are already defined\u001b[39;00m\n\u001b[1;32m      <a href='vscode-notebook-cell:/Users/chenyuli/OpenScience/Code/OpenVsPrivateDatasets/OpenVsPrivateDataMaster.ipynb#Y161sZmlsZQ%3D%3D?line=3'>4</a>\u001b[0m \n\u001b[1;32m      <a href='vscode-notebook-cell:/Users/chenyuli/OpenScience/Code/OpenVsPrivateDatasets/OpenVsPrivateDataMaster.ipynb#Y161sZmlsZQ%3D%3D?line=4'>5</a>\u001b[0m \u001b[39m# Calculate for the MIMIC dataset\u001b[39;00m\n\u001b[0;32m----> <a href='vscode-notebook-cell:/Users/chenyuli/OpenScience/Code/OpenVsPrivateDatasets/OpenVsPrivateDataMaster.ipynb#Y161sZmlsZQ%3D%3D?line=5'>6</a>\u001b[0m mimic_papers \u001b[39m=\u001b[39m get_papers_with_woman_and_lmic(MIMIC_affli)\n\u001b[1;32m      <a href='vscode-notebook-cell:/Users/chenyuli/OpenScience/Code/OpenVsPrivateDatasets/OpenVsPrivateDataMaster.ipynb#Y161sZmlsZQ%3D%3D?line=6'>7</a>\u001b[0m mimic_total \u001b[39m=\u001b[39m mimic_papers\u001b[39m.\u001b[39mshape[\u001b[39m0\u001b[39m]\n\u001b[1;32m      <a href='vscode-notebook-cell:/Users/chenyuli/OpenScience/Code/OpenVsPrivateDatasets/OpenVsPrivateDataMaster.ipynb#Y161sZmlsZQ%3D%3D?line=7'>8</a>\u001b[0m mimic_count \u001b[39m=\u001b[39m mimic_papers\u001b[39m.\u001b[39msum()\n",
      "\u001b[0;31mNameError\u001b[0m: name 'get_papers_with_woman_and_lmic' is not defined"
     ]
    }
   ],
   "source": [
    "from scipy.stats import ttest_ind\n",
    "\n",
    "# Assuming get_papers_with_woman_and_lmic function and dataframes MIMIC_affli and Control_affli are already defined\n",
    "\n",
    "# Calculate for the MIMIC dataset\n",
    "mimic_papers = get_papers_with_woman_and_lmic(MIMIC_affli)\n",
    "mimic_total = mimic_papers.shape[0]\n",
    "mimic_count = mimic_papers.sum()\n",
    "\n",
    "# Calculate for the control group\n",
    "control_papers = get_papers_with_woman_and_lmic(Control_affli)  # Replace with the name of your control group dataframe\n",
    "control_total = control_papers.shape[0]\n",
    "control_count = control_papers.sum()\n",
    "\n",
    "# Create arrays representing the outcomes for each group\n",
    "mimic_outcomes = np.array([1]*mimic_count + [0]*(mimic_total - mimic_count))\n",
    "control_outcomes = np.array([1]*control_count + [0]*(control_total - control_count))\n",
    "\n",
    "# Perform the two-sample t-test for independent samples\n",
    "t_stat, p_value = ttest_ind(mimic_outcomes, control_outcomes, equal_var=False)\n",
    "\n",
    "mimic_percentage = (mimic_count / mimic_total) * 100\n",
    "control_percentage = (control_count / control_total) * 100\n",
    "\n",
    "print(f\"In the MIMIC dataset comprising {mimic_total} papers, {mimic_count} ({mimic_percentage:.2f}%) featured at least one woman and at least one LMIC-based researcher among the authors. In contrast, in the control group comprising {control_total} papers, only {control_count} ({control_percentage:.2f}%) included both a woman and an LMIC-based researcher. This difference, as determined by a t-test, is statistically significant (p={p_value:.4f}).\")\n"
   ]
  },
  {
   "cell_type": "code",
   "execution_count": 93,
   "metadata": {},
   "outputs": [
    {
     "name": "stdout",
     "output_type": "stream",
     "text": [
      "Number of common pubs:  0\n"
     ]
    }
   ],
   "source": [
    "# Count the number of unique pubs in both dataframes\n",
    "num_common_pubs = len(set(MIMIC_affli['pub_id']).intersection(Control_affli['pub_id']))\n",
    "\n",
    "print(\"Number of common pubs: \", num_common_pubs)\n"
   ]
  },
  {
   "cell_type": "code",
   "execution_count": 94,
   "metadata": {},
   "outputs": [
    {
     "name": "stdout",
     "output_type": "stream",
     "text": [
      "The difference between the two groups is 1.73 percentage points.\n"
     ]
    }
   ],
   "source": [
    "# Calculate the difference between the two groups\n",
    "percentage_difference = (mimic_proportion - control_proportion) * 100\n",
    "\n",
    "print(f\"The difference between the two groups is {percentage_difference:.2f} percentage points.\")\n"
   ]
  },
  {
   "cell_type": "markdown",
   "metadata": {},
   "source": [
    "### Sensitivity Analyses"
   ]
  },
  {
   "cell_type": "code",
   "execution_count": 95,
   "metadata": {},
   "outputs": [],
   "source": [
    "from statsmodels.stats.proportion import proportions_ztest\n",
    "def sensitivity_analysis(total_treatment_papers, known_treatment_papers, treatment_counts, control_counts, num_scenarios=10):\n",
    "    # Calculate the proportion of LMIC authors in the known data for each group\n",
    "    treatment_proportion = treatment_counts[0] / sum(treatment_counts)\n",
    "    control_proportion = control_counts[0] / sum(control_counts)\n",
    "\n",
    "    # Calculate the number of papers with missing author information for each group\n",
    "    missing_treatment_papers = total_treatment_papers - known_treatment_papers\n",
    "    missing_control_papers = total_control_papers - known_control_papers\n",
    "    missing_papers = missing_treatment_papers + missing_control_papers\n",
    "\n",
    "    p_values = []\n",
    "\n",
    "    for i in range(num_scenarios + 1):\n",
    "        # Vary the proportion of LMIC authors in the missing data\n",
    "        treatment_missing = int(missing_papers * treatment_proportion * i / num_scenarios)\n",
    "        control_missing = int(missing_papers * control_proportion * i / num_scenarios)\n",
    "\n",
    "        # Calculate the adjusted counts of LMIC authors for each group\n",
    "        adjusted_treatment_counts = treatment_counts[0] + treatment_missing\n",
    "        adjusted_control_counts = control_counts[0] + control_missing\n",
    "\n",
    "        # Perform the one-sided Z-test with the alternative hypothesis stating that the proportion in the MIMIC/eICU group is greater than the control group\n",
    "        z_stat, p_value = proportions_ztest([adjusted_treatment_counts, adjusted_control_counts],\n",
    "                                            [known_treatment_papers + missing_treatment_papers, known_control_papers + missing_control_papers],\n",
    "                                            alternative='larger')\n",
    "\n",
    "        p_values.append(p_value)\n",
    "\n",
    "    return p_values\n"
   ]
  },
  {
   "cell_type": "code",
   "execution_count": 96,
   "metadata": {},
   "outputs": [
    {
     "data": {
      "text/plain": [
       "1672"
      ]
     },
     "execution_count": 96,
     "metadata": {},
     "output_type": "execute_result"
    }
   ],
   "source": [
    "MIMIC_affli.pub_id.nunique()\n",
    "# Control_pubs.id.nunique()"
   ]
  },
  {
   "cell_type": "code",
   "execution_count": 97,
   "metadata": {},
   "outputs": [
    {
     "name": "stdout",
     "output_type": "stream",
     "text": [
      "Scenario 0: p-value = 0.2277\n",
      "Scenario 1: p-value = 0.2231\n",
      "Scenario 2: p-value = 0.2187\n",
      "Scenario 3: p-value = 0.2143\n",
      "Scenario 4: p-value = 0.2071\n",
      "Scenario 5: p-value = 0.2031\n",
      "Scenario 6: p-value = 0.1991\n",
      "Scenario 7: p-value = 0.2080\n",
      "Scenario 8: p-value = 0.1888\n",
      "Scenario 9: p-value = 0.1851\n",
      "Scenario 10: p-value = 0.1816\n"
     ]
    }
   ],
   "source": [
    "total_treatment_papers = MIMIC_pubs.id.nunique()\n",
    "total_control_papers = Control_pubs.id.nunique()\n",
    "known_treatment_papers = MIMIC_affli.pub_id.nunique()\n",
    "known_control_papers = Control_affli.pub_id.nunique()\n",
    "n_MIMIC_lmic = len(MIMIC_lmic_count)\n",
    "n_Control_lmic = len(Control_lmic_count)\n",
    "treatment_counts = (n_MIMIC_lmic, known_treatment_papers - n_MIMIC_lmic)\n",
    "control_counts = (n_Control_lmic, known_treatment_papers - n_Control_lmic)\n",
    "\n",
    "p_values = sensitivity_analysis(total_treatment_papers, known_treatment_papers,\n",
    "                                treatment_counts, control_counts)\n",
    "\n",
    "for i, p_value in enumerate(p_values):\n",
    "    print(f\"Scenario {i}: p-value = {p_value:.4f}\")\n"
   ]
  },
  {
   "cell_type": "code",
   "execution_count": 98,
   "metadata": {},
   "outputs": [],
   "source": [
    "#  Set data\n",
    "# Replace these values with your data\n",
    "total_treatment_papers = len(MIMIC_pubs)\n",
    "total_control_papers = len(Control_pubs)\n",
    "known_treatment_papers = MIMIC_affli.pub_id.nunique()\n",
    "known_control_papers = Control_affli.pub_id.nunique()\n",
    "first_treatment_counts = (num_MIMIC_lmic_first_authors, known_treatment_papers - num_MIMIC_lmic_first_authors)\n",
    "first_control_counts = (num_Control_lmic_first_authors, known_control_papers - num_Control_lmic_first_authors)\n",
    "last_treatment_counts = (num_MIMIC_lmic_last_authors, known_treatment_papers - num_MIMIC_lmic_last_authors)\n",
    "last_control_counts = (num_Control_lmic_last_authors , known_control_papers - num_Control_lmic_last_authors)\n",
    "n_MIMIC_lmic = len(MIMIC_lmic_count)\n",
    "n_Control_lmic = len(Control_lmic_count)\n",
    "treatment_counts = (n_MIMIC_lmic, known_treatment_papers - n_MIMIC_lmic)\n",
    "control_counts = (n_Control_lmic, known_treatment_papers - n_Control_lmic)\n"
   ]
  },
  {
   "cell_type": "code",
   "execution_count": 99,
   "metadata": {},
   "outputs": [
    {
     "name": "stdout",
     "output_type": "stream",
     "text": [
      "adjusted treatment  count :  791\n",
      "adjusted treatment proportion %:  34.28695275249242\n",
      "adjusted control count % : 217\n",
      "adjusted control proportion:  9.4061551798873\n",
      "adjusted treatment  count :  742\n",
      "adjusted treatment proportion %:  32.16298222800174\n",
      "adjusted control count % : 157\n",
      "adjusted control proportion:  6.805374945817079\n",
      "adjusted treatment  count :  741\n",
      "adjusted treatment proportion %:  32.11963589076723\n",
      "adjusted control count % : 161\n",
      "adjusted control proportion:  6.978760294755093\n",
      "overall All missing authors from LMIC sensitivity analysis: p-value = 0.0000000000\n",
      "first author All missing authors from LMIC sensitivity analysis: p-value = 0.0000000000\n",
      "last author All missing authors from LMIC sensitivity analysis: p-value = 0.0000000000\n",
      "overall_z: 24.38890624121113\n",
      "first_z: 25.436894931166147\n",
      "last_z: 25.231906916459092\n"
     ]
    }
   ],
   "source": [
    "# from statsmodels.stats.proportion import proportions_ztest\n",
    "\n",
    "def sensitivity_analysis_all_missing_lmic(total_treatment_papers, known_treatment_papers, treatment_counts, control_counts):\n",
    "    # Calculate the number of papers with missing author information for each group\n",
    "    missing_treatment_papers = total_treatment_papers - known_treatment_papers\n",
    "    missing_control_papers = total_control_papers - known_control_papers\n",
    "\n",
    "    # Assume all the missing authors are from LMIC and add them to the known LMIC author counts\n",
    "    adjusted_treatment_counts = treatment_counts[0] + missing_treatment_papers\n",
    "    adjusted_control_counts = control_counts[0] + missing_control_papers\n",
    "    print(\"adjusted treatment  count : \",adjusted_treatment_counts)\n",
    "    print(\"adjusted treatment proportion %: \", adjusted_treatment_counts/total_treatment_papers*100)\n",
    "    print(\"adjusted control count % :\", adjusted_control_counts)\n",
    "    print(\"adjusted control proportion: \", adjusted_control_counts/total_treatment_papers*100)\n",
    "    # Perform the one-sided Z-test with the alternative hypothesis stating that the proportion in the treatment group is greater than the control group\n",
    "    z_stat, p_value = proportions_ztest([adjusted_treatment_counts, adjusted_control_counts],\n",
    "                                        [total_treatment_papers, total_control_papers],\n",
    "                                        alternative='larger')\n",
    "\n",
    "    return p_value, z_stat\n",
    "\n",
    "overall_p_value,overall_z_stat = sensitivity_analysis_all_missing_lmic(total_treatment_papers, known_treatment_papers,\n",
    "                                                treatment_counts, control_counts)\n",
    "\n",
    "first_p_value , first_z_stat= sensitivity_analysis_all_missing_lmic(total_treatment_papers, known_treatment_papers,\n",
    "                                                first_treatment_counts, first_control_counts)\n",
    "last_p_value, last_z_stat = sensitivity_analysis_all_missing_lmic(total_treatment_papers, known_treatment_papers,\n",
    "                                                last_treatment_counts, last_control_counts)\n",
    "\n",
    "print(f\"overall All missing authors from LMIC sensitivity analysis: p-value = {overall_p_value:.10f}\")\n",
    "print(f\"first author All missing authors from LMIC sensitivity analysis: p-value = {first_p_value:.10f}\")\n",
    "print(f\"last author All missing authors from LMIC sensitivity analysis: p-value = {last_p_value:.10f}\")\n",
    "print(\"overall_z:\", overall_z_stat)\n",
    "print(\"first_z:\", first_z_stat)\n",
    "print(\"last_z:\", last_z_stat)"
   ]
  },
  {
   "cell_type": "code",
   "execution_count": 101,
   "metadata": {},
   "outputs": [
    {
     "name": "stdout",
     "output_type": "stream",
     "text": [
      "adjusted treatment  count :  215\n",
      "adjusted treatment proportion %:  9.319462505418292\n",
      "adjusted control count % : 185\n",
      "adjusted control proportion:  8.019072388383181\n",
      "adjusted treatment  count :  147\n",
      "adjusted treatment proportion %:  6.371911573472041\n",
      "adjusted control count % : 123\n",
      "adjusted control proportion:  5.331599479843954\n",
      "adjusted treatment  count :  146\n",
      "adjusted treatment proportion %:  6.328565236237537\n",
      "adjusted control count % : 127\n",
      "adjusted control proportion:  5.504984828781968\n",
      "impute missing from distribution of auhtors from LMIC sensitivity analysis: p-value = 0.00003\n",
      "first author impute missing from distribution of auhtors from LMIC sensitivity analysis: p-value = 0.00025\n",
      "last author impute missing from distribution of auhtors from LMIC sensitivity analysis: p-value = 0.00076\n"
     ]
    }
   ],
   "source": [
    "def sensitivity_analysis_impute(total_treatment_papers, known_treatment_papers, treatment_counts, control_counts):\n",
    "    # Calculate the proportion of LMIC authors in the known data for each group\n",
    "    treatment_proportion = treatment_counts[0] / sum(treatment_counts)\n",
    "    control_proportion = control_counts[0] / sum(control_counts)\n",
    "\n",
    "    # Calculate the number of papers with missing author information for each group\n",
    "    missing_treatment_papers = total_treatment_papers - known_treatment_papers\n",
    "    missing_control_papers = total_control_papers - known_control_papers\n",
    "\n",
    "    # Impute the missing data by distributing the LMIC and non-LMIC authors based on the known proportions for both groups\n",
    "    imputed_treatment_counts = int(missing_treatment_papers * treatment_proportion)\n",
    "    imputed_control_counts = int(missing_control_papers * control_proportion)\n",
    "\n",
    "    # Calculate the adjusted counts of LMIC authors for each group\n",
    "    adjusted_treatment_counts = treatment_counts[0] + imputed_treatment_counts\n",
    "    adjusted_control_counts = control_counts[0] + imputed_control_counts\n",
    "    print(\"adjusted treatment  count : \",adjusted_treatment_counts)\n",
    "    print(\"adjusted treatment proportion %: \", adjusted_treatment_counts/total_treatment_papers*100)\n",
    "    print(\"adjusted control count % :\", adjusted_control_counts)\n",
    "    print(\"adjusted control proportion: \", adjusted_control_counts/total_treatment_papers*100)\n",
    "    # Perform the one-sided Z-test with the alternative hypothesis stating that the proportion in the treatment group is greater than the control group\n",
    "    z_stat, p_value = proportions_ztest([adjusted_treatment_counts, adjusted_control_counts],\n",
    "                                        [total_treatment_papers, total_control_papers],\n",
    "                                        alternative='larger')\n",
    "\n",
    "    return p_value\n",
    "\n",
    "overall_p_value = sensitivity_analysis_impute(total_treatment_papers, known_treatment_papers,\n",
    "                                                treatment_counts, control_counts)\n",
    "first_p_value = sensitivity_analysis_impute(total_treatment_papers, known_treatment_papers,\n",
    "                                                first_treatment_counts, first_control_counts)\n",
    "last_p_value = sensitivity_analysis_impute(total_treatment_papers, known_treatment_papers,\n",
    "                                                last_treatment_counts, last_control_counts)\n",
    "\n",
    "print(f\"impute missing from distribution of auhtors from LMIC sensitivity analysis: p-value = {overall_p_value:.5f}\")\n",
    "print(f\"first author impute missing from distribution of auhtors from LMIC sensitivity analysis: p-value = {first_p_value:.5f}\")\n",
    "print(f\"last author impute missing from distribution of auhtors from LMIC sensitivity analysis: p-value = {last_p_value:.5f}\")\n",
    "\n"
   ]
  },
  {
   "cell_type": "code",
   "execution_count": 102,
   "metadata": {},
   "outputs": [
    {
     "name": "stdout",
     "output_type": "stream",
     "text": [
      "adjusted treatment  count :  156\n",
      "adjusted treatment proportion %:  6.762028608582575\n",
      "adjusted control count % : 182\n",
      "adjusted control proportion:  7.88903337667967\n",
      "adjusted treatment  count :  107\n",
      "adjusted treatment proportion %:  4.638058084091894\n",
      "adjusted control count % : 122\n",
      "adjusted control proportion:  5.28825314260945\n",
      "adjusted treatment  count :  106\n",
      "adjusted treatment proportion %:  4.59471174685739\n",
      "adjusted control count % : 126\n",
      "adjusted control proportion:  5.461638491547465\n",
      "overall All missing authors not from LMIC sensitivity analysis: p-value = 0.22770\n",
      "first author All missing authors not from LMIC sensitivity analysis: p-value = 0.21605\n",
      "last author All missing authors not from LMIC sensitivity analysis: p-value = 0.32055\n"
     ]
    }
   ],
   "source": [
    "\n",
    "def sensitivity_analysis_all_missing_not_lmic(total_treatment_papers, known_treatment_papers, treatment_counts, control_counts):\n",
    "    # Since all missing authors are assumed to be not from LMIC, use the known LMIC author counts as they are\n",
    "    adjusted_treatment_counts = treatment_counts[0]\n",
    "    adjusted_control_counts = control_counts[0]\n",
    "    print(\"adjusted treatment  count : \",adjusted_treatment_counts)\n",
    "    print(\"adjusted treatment proportion %: \", adjusted_treatment_counts/total_treatment_papers*100)\n",
    "    print(\"adjusted control count % :\", adjusted_control_counts)\n",
    "    print(\"adjusted control proportion: \", adjusted_control_counts/total_treatment_papers*100)\n",
    "    # Perform the one-sided Z-test with the alternative hypothesis stating that the proportion in the treatment group is greater than the control group\n",
    "    z_stat, p_value = proportions_ztest([adjusted_treatment_counts, adjusted_control_counts],\n",
    "                                        [total_treatment_papers, total_control_papers],\n",
    "                                        alternative='larger')\n",
    "\n",
    "    return p_value\n",
    "\n",
    "overall_p_value = sensitivity_analysis_all_missing_not_lmic(total_treatment_papers, known_treatment_papers,\n",
    "                                                treatment_counts, control_counts)\n",
    "first_p_value = sensitivity_analysis_all_missing_not_lmic(total_treatment_papers, known_treatment_papers,\n",
    "                                                first_treatment_counts, first_control_counts)\n",
    "last_p_value = sensitivity_analysis_all_missing_not_lmic(total_treatment_papers, known_treatment_papers,\n",
    "                                                last_treatment_counts, last_control_counts)\n",
    "\n",
    "print(f\"overall All missing authors not from LMIC sensitivity analysis: p-value = {overall_p_value:.5f}\")\n",
    "print(f\"first author All missing authors not from LMIC sensitivity analysis: p-value = {first_p_value:.5f}\")\n",
    "print(f\"last author All missing authors not from LMIC sensitivity analysis: p-value = {last_p_value:.5f}\")"
   ]
  },
  {
   "cell_type": "code",
   "execution_count": 105,
   "metadata": {},
   "outputs": [
    {
     "name": "stdout",
     "output_type": "stream",
     "text": [
      "adjusted treatment count:  156\n",
      "adjusted treatment proportion %:  6.762028608582575\n",
      "adjusted control count:  182\n",
      "adjusted control proportion:  7.88903337667967\n",
      "adjusted treatment count:  107\n",
      "adjusted treatment proportion %:  4.638058084091894\n",
      "adjusted control count:  122\n",
      "adjusted control proportion:  5.28825314260945\n",
      "adjusted treatment count:  106\n",
      "adjusted treatment proportion %:  4.59471174685739\n",
      "adjusted control count:  126\n",
      "adjusted control proportion:  5.461638491547465\n",
      "Overall All missing authors not from LMIC sensitivity analysis: p-value = 0.00000\n",
      "First author All missing authors not from LMIC sensitivity analysis: p-value = 0.00000\n",
      "Last author All missing authors not from LMIC sensitivity analysis: p-value = 0.00000\n"
     ]
    },
    {
     "name": "stderr",
     "output_type": "stream",
     "text": [
      "/Users/chenyuli/anaconda3/envs/py3/lib/python3.11/site-packages/scipy/stats/_axis_nan_policy.py:523: RuntimeWarning: Precision loss occurred in moment calculation due to catastrophic cancellation. This occurs when the data are nearly identical. Results may be unreliable.\n",
      "  res = hypotest_fun_out(*samples, **kwds)\n"
     ]
    }
   ],
   "source": [
    "from scipy.stats import ttest_ind\n",
    "import numpy as np\n",
    "\n",
    "def sensitivity_analysis_all_missing_not_lmic(total_treatment_papers, known_treatment_papers, treatment_counts, control_counts):\n",
    "    # Since all missing authors are assumed to be not from LMIC, use the known LMIC author counts as they are\n",
    "    adjusted_treatment_counts = treatment_counts[0]\n",
    "    adjusted_control_counts = control_counts[0]\n",
    "    print(\"adjusted treatment count: \", adjusted_treatment_counts)\n",
    "    print(\"adjusted treatment proportion %: \", adjusted_treatment_counts / total_treatment_papers * 100)\n",
    "    print(\"adjusted control count: \", adjusted_control_counts)\n",
    "    print(\"adjusted control proportion: \", adjusted_control_counts / total_treatment_papers * 100)\n",
    "    \n",
    "    # Create arrays representing the counts for each group\n",
    "    treatment_array = np.full(total_treatment_papers, adjusted_treatment_counts / total_treatment_papers)\n",
    "    control_array = np.full(total_treatment_papers, adjusted_control_counts / total_treatment_papers)\n",
    "\n",
    "    # Perform the two-sided t-test\n",
    "    t_stat, p_value = ttest_ind(treatment_array, control_array, equal_var=False)  # Assuming unequal variance\n",
    "\n",
    "    return t_stat,p_value\n",
    "\n",
    "# Example usage\n",
    "overall_t,overall_p_value = sensitivity_analysis_all_missing_not_lmic(total_treatment_papers, known_treatment_papers, treatment_counts, control_counts)\n",
    "first_t,first_p_value = sensitivity_analysis_all_missing_not_lmic(total_treatment_papers, known_treatment_papers, first_treatment_counts, first_control_counts)\n",
    "last_t,last_p_value = sensitivity_analysis_all_missing_not_lmic(total_treatment_papers, known_treatment_papers, last_treatment_counts, last_control_counts)\n",
    "\n",
    "print(f\"Overall All missing authors not from LMIC sensitivity analysis: p-value = {overall_p_value:.5f}\")\n",
    "print(f\"First author All missing authors not from LMIC sensitivity analysis: p-value = {first_p_value:.5f}\")\n",
    "print(f\"Last author All missing authors not from LMIC sensitivity analysis: p-value = {last_p_value:.5f}\")\n"
   ]
  },
  {
   "cell_type": "code",
   "execution_count": 111,
   "metadata": {},
   "outputs": [
    {
     "name": "stdout",
     "output_type": "stream",
     "text": [
      "adjusted treatment count:  156\n",
      "adjusted treatment proportion %:  6.762028608582575\n",
      "adjusted control count:  182\n",
      "adjusted control proportion:  7.88903337667967\n",
      "adjusted treatment count:  107\n",
      "adjusted treatment proportion %:  4.638058084091894\n",
      "adjusted control count:  122\n",
      "adjusted control proportion:  5.28825314260945\n",
      "adjusted treatment count:  106\n",
      "adjusted treatment proportion %:  4.59471174685739\n",
      "adjusted control count:  126\n",
      "adjusted control proportion:  5.461638491547465\n",
      "overall All missing authors not from LMIC sensitivity analysis: p-value = 0.92906\n",
      "first author All missing authors not from LMIC sensitivity analysis: p-value = 0.84532\n",
      "last author All missing authors not from LMIC sensitivity analysis: p-value = 0.91103\n"
     ]
    }
   ],
   "source": [
    "import numpy as np\n",
    "from scipy.stats import ttest_ind\n",
    "\n",
    "def sensitivity_analysis_all_missing_not_lmic(total_treatment_papers, known_treatment_papers, treatment_counts, control_counts):\n",
    "    # Since all missing authors are assumed to be not from LMIC, use the known LMIC author counts as they are\n",
    "    adjusted_treatment_counts = treatment_counts[0]\n",
    "    adjusted_control_counts = control_counts[0]\n",
    "    print(\"adjusted treatment count: \", adjusted_treatment_counts)\n",
    "    print(\"adjusted treatment proportion %: \", adjusted_treatment_counts / total_treatment_papers * 100)\n",
    "    print(\"adjusted control count: \", adjusted_control_counts)\n",
    "    print(\"adjusted control proportion: \", adjusted_control_counts / total_treatment_papers * 100)\n",
    "\n",
    "    # Creating arrays that represent successes and failures for each group\n",
    "    treatment_group = np.array([1] * adjusted_treatment_counts + [0] * (total_treatment_papers - adjusted_treatment_counts))\n",
    "    control_group = np.array([1] * adjusted_control_counts + [0] * (total_treatment_papers - adjusted_control_counts))\n",
    "\n",
    "    # Perform the one-sided T-test with the alternative hypothesis stating that the mean in the treatment group is greater than the control group\n",
    "    t_stat, p_value = ttest_ind(treatment_group, control_group, equal_var=False, alternative='greater')\n",
    "\n",
    "    return p_value\n",
    "\n",
    "# Example usage of the function (You'll need to define the variables used here)\n",
    "overall_p_value = sensitivity_analysis_all_missing_not_lmic(total_treatment_papers, known_treatment_papers,\n",
    "                                                treatment_counts, control_counts)\n",
    "first_p_value = sensitivity_analysis_all_missing_not_lmic(total_treatment_papers, known_treatment_papers,\n",
    "                                                first_treatment_counts, first_control_counts)\n",
    "last_p_value = sensitivity_analysis_all_missing_not_lmic(total_treatment_papers, known_treatment_papers,\n",
    "                                                last_treatment_counts, last_control_counts)\n",
    "\n",
    "print(f\"overall All missing authors not from LMIC sensitivity analysis: p-value = {overall_p_value:.5f}\")\n",
    "print(f\"first author All missing authors not from LMIC sensitivity analysis: p-value = {first_p_value:.5f}\")\n",
    "print(f\"last author All missing authors not from LMIC sensitivity analysis: p-value = {last_p_value:.5f}\")\n"
   ]
  },
  {
   "cell_type": "markdown",
   "metadata": {},
   "source": [
    "### Intersection of Gender and LMIC "
   ]
  },
  {
   "cell_type": "code",
   "execution_count": 112,
   "metadata": {},
   "outputs": [
    {
     "name": "stdout",
     "output_type": "stream",
     "text": [
      "Percentage of MIMIC/eICU papers with at least one woman and one LMIC-based researcher among the authors: 2.74%\n"
     ]
    }
   ],
   "source": [
    "\n",
    "# Merge the DataFrames\n",
    "merged_df = pd.merge(MIMIC_affli, MIMIC_pubs, left_on='pub_id', right_on='id', how='left')\n",
    "\n",
    "# Filter the dataset\n",
    "filtered_df = merged_df.dropna(subset=['pct_female_real', 'LMIC'])\n",
    "\n",
    "# Count papers with at least one woman (using pct_female_real >= 0.5) and one LMIC-based researcher among the authors\n",
    "grouped = filtered_df.groupby('pub_id').agg({'pct_female_real': lambda x: (x >= 0.5).any(), 'LMIC': lambda x: (x == 1).any()})\n",
    "papers_with_woman_and_lmic = grouped[(grouped['pct_female_real']) & (grouped['LMIC'])].shape[0]\n",
    "\n",
    "# Calculate the percentage\n",
    "total_papers = filtered_df['pub_id'].nunique()\n",
    "percentage = (papers_with_woman_and_lmic / total_papers) * 100\n",
    "\n",
    "print(f\"Percentage of MIMIC/eICU papers with at least one woman and one LMIC-based researcher among the authors: {percentage:.2f}%\")\n"
   ]
  },
  {
   "cell_type": "code",
   "execution_count": 143,
   "metadata": {},
   "outputs": [
    {
     "name": "stdout",
     "output_type": "stream",
     "text": [
      "Percentage of MIMIC/eICU papers with at least one woman and one LMIC-based researcher among the authors: 0.00%\n"
     ]
    }
   ],
   "source": [
    "# Merge the DataFrames\n",
    "merged_df = pd.merge(MIMIC_affli, MIMIC_pubs, left_on='pub_id', right_on='id', how='left')\n",
    "\n",
    "# Filter the dataset\n",
    "filtered_df = merged_df.dropna(subset=['gender', 'LMIC'])\n",
    "\n",
    "# Count papers with at least one woman (using gender == 'F') and one LMIC-based researcher among the authors\n",
    "grouped = filtered_df.groupby('pub_id').agg({'gender': lambda x: (x == 'female').any(), 'LMIC': lambda x: (x == 'Yes').any()})\n",
    "papers_with_woman_and_lmic = grouped[(grouped['gender']) & (grouped['LMIC'])].shape[0]\n",
    "\n",
    "# Calculate the percentage\n",
    "total_papers = filtered_df['pub_id'].nunique()\n",
    "percentage = (papers_with_woman_and_lmic / total_papers) * 100\n",
    "\n",
    "print(f\"Percentage of MIMIC/eICU papers with at least one woman and one LMIC-based researcher among the authors: {percentage:.2f}%\")\n"
   ]
  },
  {
   "cell_type": "markdown",
   "metadata": {},
   "source": [
    "# 3. MSI analyses"
   ]
  },
  {
   "cell_type": "markdown",
   "metadata": {},
   "source": [
    "## Minority Serving Institutions Present in Affiliation Data\n",
    "\n",
    "* The fuzzy matching pipeline below was developed to discern the associations between authors and specific Minority Serving Institutions (MSIs)."
   ]
  },
  {
   "cell_type": "code",
   "execution_count": 5,
   "metadata": {},
   "outputs": [],
   "source": [
    "# author affiliation data for the compare and control datasets\n",
    "# controlData = pd.read_csv(\"GuruData/control_group_affils(7).csv\", encoding='utf-8')\n",
    "# compareData = pd.read_csv(\"GuruData/mimic_affils(7).csv\", encoding='utf-8') # checked the shape \n",
    "controlData = Control_affli.copy()\n",
    "compareData = MIMIC_affli.copy()\n",
    "# below are the datasets containing Minority Serving Institutions for the year 2020 and 2022\n",
    "minorityList2020 = pd.read_csv(\"GuruData/2020_Minority_Serving_Institutions-1.csv\")\n",
    "minorityList2022 = pd.read_csv(\"GuruData/2022 CMSI Eligibility Matrix .csv\")"
   ]
  },
  {
   "cell_type": "code",
   "execution_count": 6,
   "metadata": {},
   "outputs": [
    {
     "data": {
      "text/plain": [
       "0              Aaniiih Nakoda College\n",
       "1              Adams State University\n",
       "2                  Adelphi University\n",
       "3             AdventHealth University\n",
       "4            Alabama A & M University\n",
       "                    ...              \n",
       "858        Woodland Community College\n",
       "859          World Mission University\n",
       "860          World Mission University\n",
       "861    Xavier University of Louisiana\n",
       "862             Yakima Valley College\n",
       "Name: Institution Name, Length: 863, dtype: object"
      ]
     },
     "execution_count": 6,
     "metadata": {},
     "output_type": "execute_result"
    }
   ],
   "source": [
    "# dropping all the NA values\n",
    "minorityList2022['Institution Name'].dropna()"
   ]
  },
  {
   "cell_type": "code",
   "execution_count": 8,
   "metadata": {},
   "outputs": [],
   "source": [
    "def isfloat(num):\n",
    "    try:\n",
    "        float(num)\n",
    "        return True\n",
    "    except ValueError:\n",
    "        return False"
   ]
  },
  {
   "cell_type": "code",
   "execution_count": 9,
   "metadata": {},
   "outputs": [],
   "source": [
    "msi = []\n",
    "\n",
    "# compiling MSI type information for the 2022 list\n",
    "for i in range(865):\n",
    "        if(isfloat(minorityList2022.loc[i]['ANNH']) == False and minorityList2022.loc[i]['ANNH'] == 'Yes'):\n",
    "            msi.append('ANNH')\n",
    "        elif(isfloat(minorityList2022.loc[i]['AANAPISI']) == False and minorityList2022.loc[i]['AANAPISI'] == 'Yes'):\n",
    "            msi.append('AANAPISI')\n",
    "        elif(isfloat(minorityList2022.loc[i]['HSI']) == False and minorityList2022.loc[i]['HSI'] == 'Yes'):\n",
    "            msi.append('HSI')\n",
    "        elif(isfloat(minorityList2022.loc[i]['NASNTI']) == False and minorityList2022.loc[i]['NASNTI'] == 'Yes'):\n",
    "            msi.append('NASNTI')\n",
    "        elif(isfloat(minorityList2022.loc[i]['PBI']) == False and minorityList2022.loc[i]['PBI'] == 'Yes'):\n",
    "            msi.append('PBI')\n",
    "        elif(isfloat(minorityList2022.loc[i]['HBCU']) == False and minorityList2022.loc[i]['HBCU'] == 'Yes'):\n",
    "            msi.append('HBCU')\n",
    "        elif(isfloat(minorityList2022.loc[i]['TCU']) == False and minorityList2022.loc[i]['TCU'] == 'Yes'):\n",
    "            msi.append('TCU')\n",
    "        else:\n",
    "            msi.append('No MSI Type')\n",
    "    "
   ]
  },
  {
   "cell_type": "code",
   "execution_count": 10,
   "metadata": {},
   "outputs": [
    {
     "name": "stdout",
     "output_type": "stream",
     "text": [
      "{'College of Lake County', 'Reedley College', 'San Bernardino Valley College', 'South Louisiana Community College', 'Central Georgia Technical College', 'Nova Southeastern University', 'Bladen Community College', 'West Virginia State University', 'Northern Marianas College', 'Palomar College', 'San Joaquin Delta College', 'Bluefield State College', 'Phoenix College', 'Los Angeles Harbor College', 'Capital Community College', 'National University', 'McLennan Community College', 'Dine College', 'East Mississippi Community College', 'California College San Diego', 'Community College of Denver', 'Chaminade University of Honolulu', 'Los Angeles Mission College', 'Benedict College', 'University of Hawaii at Hilo', \"Saint Martin's University\", 'University of Alaska Southeast', 'Atlanta Metropolitan State College', 'Morton College', 'Shelton State Community College', 'Florida International University', 'Orange Coast College', 'Western Texas College', 'Nevada State College', \"St. Mary's University\", 'College of the Sequoias', 'Lamar Community College', 'Carl Albert State College', 'University of Houston', 'Claflin University', 'San Juan Bautista School of Medicine', 'Springfield Technical Community College', 'Tennessee State University', 'SUNY College at Old Westbury', 'SUNY Westchester Community College', 'Bowie State University', 'Alaska Pacific University', 'Century College', 'Mendocino College', 'North Carolina Wesleyan College', 'Northeastern Technical College', 'Houston Community College', 'Cuyamaca College', 'Aurora University', 'Morris College', 'CUNY Lehman College', 'Bergen Community College', 'Southern Crescent Technical College', 'CUNY LaGuardia Community College', \"Saint Peter's University\", 'Metropolitan State University of Denver', 'Woodland Community College', 'Texas Wesleyan University', 'Holy Names University', 'Cambridge College', 'Pillar College', 'Shoreline Community College', 'Jarvis Christian College', 'Benjamin Franklin Institute of Technology', 'Lincoln College', 'Berkeley City College', 'Coahoma Community College', 'Waubonsee Community College', 'South Mountain Community College', 'Edward Waters College', 'Chicago State University', 'Simmons College of Kentucky', 'Morgan State University', 'Cossatot Community College of the University of Arkansas', 'Oakwood University', 'Albany State University', \"Saint Augustine's University\", 'Seminole State College of Florida', 'Beulah Heights University', 'Green River College', 'Concordia University Texas', 'Community College of Aurora', 'Rockland Community College', 'Lone Star College System', 'Antelope Valley College', 'Southern University at New Orleans', 'University of West Alabama', 'College of Alameda', 'New York College of Health Professions', 'Oconee Fall Line Technical College', 'Fayetteville State University', 'Schreiner University', 'Livingstone College', 'Seminole State College', 'Saddleback College', 'University of the Pacific', 'Trinidad State Junior College', 'Sonoma State University', 'Northeast Texas Community College', 'Atenas College', 'East Los Angeles College', 'University of La Verne', 'Clovis Community College', 'New Jersey City University', 'Columbus Technical College', 'Haskell Indian Nations University', 'College of Mount Saint Vincent', 'Dodge City Community College', 'Stillman College', 'Atlanta Technical College', 'Barry University', 'Stone Child College', 'Kean University', 'Leeward Community College', 'Wilberforce University', 'Allan Hancock College', 'Adelphi University', 'Cisco College', 'William Paterson University of New Jersey', 'Passaic County Community College', 'University of Arkansas at Pine Bluff', 'Dillard University', 'Remington College-North Houston Campus', 'Hudson County Community College', 'Northern New Mexico College', 'Chowan University', 'North Carolina Central University', 'Lincoln University', 'University of Alaska Fairbanks', 'Adams State University', 'Blackfeet Community College', 'Chattahoochee Valley Community College', 'Shaw University', 'Texas College', 'Mesa Community College', 'Imperial Valley College', 'Sisseton Wahpeton College', 'Central State University', 'Miami Dade College', 'Georgia Piedmont Technical College', 'Dominican University', 'Tuskegee University', 'Saginaw Chippewa Tribal College', 'Wayne County Community College District', 'Sinte Gleska University', 'Fresno Pacific University', 'CUNY Hunter College', 'Hinds Community College', 'Langston University', 'Alabama State University', 'Nyack College', 'Bakersfield College', 'Estrella Mountain Community College', 'California Lutheran University', \"Prince George's Community College\", 'California Baptist University', 'Vernon College', 'United Tribes Technical College', 'Augusta Technical College', 'CUNY Brooklyn College', 'CUNY Queens College', 'Metropolitan State University', 'Colegio Universitario de San Juan', 'Oakton Community College', 'Napa Valley College', 'South Georgia Technical College', 'Marymount California University', 'Montgomery College', 'Northland Pioneer College', 'South Plains College', 'Moorpark College', 'Texas State Technical College', 'Navajo Technical University', 'Georgia Military College', 'Sacramento City College', 'Morgan Community College', 'University of the District of Columbia', 'Evergreen Valley College', 'Delaware State University', 'Alverno College', 'Mississippi Delta Community College', 'New York Institute of Technology', 'Pacific Union College', 'Hampton University', 'Little Priest Tribal College', 'College of San Mateo', 'Delgado Community College', 'Sitting Bull College', 'Pacific Rim Christian University', 'New Mexico Highlands University', 'Holyoke Community College', 'Humacao Community College', 'Glendale Community College', 'Hallmark University', 'Universidad Politecnica de Puerto Rico', 'Garden City Community College', 'Morehouse College', 'Norwalk Community College', 'Spelman College', 'Trinity Washington University', 'Hawaii Community College', 'Fort Peck Community College', 'Mercy College', 'Butte College', 'Florida Atlantic University', 'Atlantic University College', 'Northern Virginia Community College', 'Chemeketa Community College', 'San Jose City College', 'Texas Southern University', 'Voorhees College', 'University of Central Florida', 'Long Beach City College', 'Grambling State University', 'Mission College', 'Orange County Community College', 'Universidad Central de Bayamon', 'J. F. Drake State Community and Technical College', 'Northeastern State University', 'Monterey Peninsula College', 'CUNY John Jay College of Criminal Justice', 'Sul Ross State University', 'Cypress College', 'University of North Carolina at Pembroke', 'Vanguard University of Southern California', 'Gateway Community College', 'Irvine Valley College', 'University of Guam', 'Porterville College', 'Los Angeles Pierce College', 'Skyline College', 'Meridian Community College', 'Tougaloo College', 'Alaska Christian College', 'Union County College', 'Texas Lutheran University', 'Wenatchee Valley College', 'Palm Beach State College', 'Gavilan College', 'Angelina College', 'Florida Memorial University', 'Coastline Community College', 'Woodbury University', 'American Samoa Community College', 'Grace Mission University', 'Merritt College', 'Community College of Philadelphia', 'Frank Phillips College', 'Jackson State University', 'San Juan College', 'Denmark Technical College', 'Lane College', 'Bay Mills Community College', 'Yakima Valley College', 'Robeson Community College', \"Texas Woman's University\", 'Coppin State University', 'Vaughn College of Aeronautics and Technology', 'Chief Dull Knife College', 'Notre Dame de Namur University', 'Brazosport College', 'Peirce College', 'Hillsborough Community College', 'Odessa College', 'Southwestern Indian Polytechnic Institute', 'Donnelly College', 'Norco College', 'Pasadena City College', 'Fort Lewis College', 'Stevens-Henager College', 'Roosevelt University', 'Nebraska Indian Community College', 'East Georgia State College', 'Bishop State Community College', 'Georgia Gwinnett College', \"Tohono O'odham Community College\", 'Dalton State College', 'Sampson Community College', 'Rogers State University', 'Riverside City College', 'Temple College', 'University of the Virgin Islands', 'South Florida State College', 'Valencia College', 'Albany Technical College', 'GateWay Community College', 'Turtle Mountain Community College', 'Felician University', 'Savannah Technical College', 'Southwestern Christian College', 'Solano Community College', 'Allen University', 'Laney College', 'Calumet College of Saint Joseph', 'Faulkner University', 'Metropolitan College of New York', 'Columbia Basin College', 'Universal Technology College of Puerto Rico', 'Virginia University of Lynchburg', 'Big Bend Community College', 'Kentucky State University', 'Mississippi Valley State University', 'Salish Kootenai College', 'Virginia Union University', 'Baton Rouge Community College', 'Southwest Texas Junior College', 'Aaniiih Nakoda College', 'Azusa Pacific University', 'Winston-Salem State University', 'Andrews University', 'McMurry University', 'Cheyney University of Pennsylvania', 'Santa Rosa Junior College', 'Las Positas College', 'San Diego State University', 'Northwest Indian College', 'Georgia State University', 'Northern Essex Community College', 'Los Angeles City College', 'Cuesta College', 'Southeast Arkansas College', 'Boricua College', 'Bennett College', 'Pacific University', 'Fort Valley State University', 'Lake Tahoe Community College', 'Western Nevada College', 'CUNY Borough of Manhattan Community College', 'Rust College', 'College of Menominee Nation', 'Windward Community College', 'Hodges University', 'Arkansas State University Mid-South', 'Reading Area Community College', \"Mount Saint Mary's University\", 'Taft College', 'Connors State College', 'Grossmont College', 'White Earth Tribal and Community College', 'Shorter College', 'Talladega College', 'Philander Smith College', 'Paine College', 'Xavier University of Louisiana', 'Central Arizona College', 'Bloomfield College', 'Redlands Community College', 'College of the Muscogee Nation', 'Contra Costa College', 'Savannah State University', 'CUNY Bronx Community College', 'Lee College', 'College of the Mainland', 'San Jose State University', 'CUNY York College', 'Hope International University', 'Dominican College of Blauvelt', 'University of the Incarnate Word', 'Resurrection University', 'Alcorn State University', 'Heritage University', 'Little Big Horn College', 'Homestead Schools', 'Portland State University', 'Central New Mexico Community College', 'Howard University', 'Oglala Lakota College', 'Warner Pacific University', 'Palo Alto University', 'Arizona Western College', 'Houston Baptist University', 'Kapiolani Community College', 'Santa Monica College', 'Perry Technical Institute', 'Seattle Central College', 'San Diego City College', 'Santa Fe Community College', 'Saint Xavier University', 'Blue Mountain Community College', 'University of North Texas at Dallas', 'Galveston College', 'Paul Quinn College', 'Golden West College', 'Victoria College', 'Wiley College', 'Laredo College', 'Keweenaw Bay Ojibwa Community College', 'Lawson State Community College', 'Seward County Community College', 'Nueta Hidatsa Sahnish College', 'Fisk University', 'American River College', 'College of the Canyons', 'Palo Alto College', 'University of the Southwest', 'CUNY Medgar Evers College', 'City College of San Francisco', 'Trinity College of Puerto Rico', 'Belhaven University', 'Saint Augustine College', 'Santa Barbara City College', 'Virginia State University', 'Humboldt State University', 'Clark Atlanta University', 'Hawaii Pacific University', 'San Antonio College', 'Coastal Bend College', 'University of Hawaii Maui College', 'Cabrillo College', 'Oxnard College', 'South Carolina State University', 'Chabot College', 'Kauai Community College', 'Southeastern Oklahoma State University', 'National Louis University', 'Cerro Coso Community College', 'Honolulu Community College', 'North Hennepin Community College', 'University of Hawaii at Manoa', 'Long Island University', 'Bunker Hill Community College', 'Angelo State University', 'Essex County College', 'Southwest Mississippi Community College', 'Triton College', 'El Paso Community College', 'Bacone College', 'Gadsden State Community College', 'Ventura College', 'San Diego Mesa College', 'Santiago Canyon College', 'Leech Lake Tribal College', 'Western New Mexico University', 'Alvin Community College', 'Treasure Valley Community College', 'Texas Southmost College', 'Northern Oklahoma College', 'Northwest Vista College', 'Whittier College', 'Pacific Islands University', 'Southwestern Adventist University', 'Fresno City College', 'Texas State University', 'Middlesex Community College', 'Texas Tech University', 'Clinton College', 'Santa Ana College', 'Lake Washington Institute of Technology', 'Moreno Valley College', 'West Los Angeles College', 'Modesto Junior College', 'Arkansas Baptist College', 'Los Angeles Valley College', 'Oklahoma Panhandle State University', 'Del Mar College', \"Saint Mary's College of California\", 'Norfolk State University', 'Ilisagvik College', 'Elizabeth City State University', 'Cosumnes River College', 'Pueblo Community College', 'San Diego Christian College', 'Central Carolina Technical College', 'Miles College', 'Canada College', 'Wharton County Junior College', 'Holmes Community College', 'Amarillo College', 'Montclair State University', 'Johnson C Smith University', 'College of Southern Nevada', 'Southwest Tennessee Community College', 'Northeastern Illinois University', 'Halifax Community College', 'La Sierra University', 'University of Baltimore', 'American University of Puerto Rico', 'South Texas College', 'Edgecombe Community College', 'Folsom Lake College', 'San Francisco State University', 'Union Institute & University', 'Tarrant County College District', 'Presbyterian Theological Seminary in America', 'Broward College'}\n"
     ]
    },
    {
     "data": {
      "text/plain": [
       "Institution Name\n",
       "True     496\n",
       "False    369\n",
       "Name: count, dtype: int64"
      ]
     },
     "execution_count": 10,
     "metadata": {},
     "output_type": "execute_result"
    }
   ],
   "source": [
    "#appending the MSI type information to the 2022 file\n",
    "minorityList2022['MSI Type'] = msi\n",
    "#understanding the number of unique institutions (non-exact matches) in each respective file\n",
    "uniqueInstitutions = set(minorityList2020['Institution']).intersection(set(minorityList2022['Institution Name']))\n",
    "print(uniqueInstitutions)\n",
    "# print(minorityList2020['Institution'].isin(minorityList2022['Institution Name']).value_counts())\n",
    "minorityList2022['Institution Name'].isin(minorityList2020['Institution']).value_counts()"
   ]
  },
  {
   "cell_type": "markdown",
   "metadata": {},
   "source": [
    "### MSI List Similiarity Analysis (2020 vs 2022):\n",
    "* A total of 496 institutions were shared by the two sources (exact matches)\n",
    "    * Some more institutions are shared but their institution name is formatted differently"
   ]
  },
  {
   "cell_type": "markdown",
   "metadata": {},
   "source": [
    "#### Using fuzzy match (threshold value of 97) percent to guage a more accurate approximation"
   ]
  },
  {
   "cell_type": "code",
   "execution_count": 151,
   "metadata": {},
   "outputs": [],
   "source": [
    "def matchMSIFuzzy(x):\n",
    "    for i in range(862):\n",
    "        if(isfloat(x) == False and fuzz.partial_ratio(minorityList2022.loc[i]['Institution Name'], x) > 97):\n",
    "            return \"Yes\"\n",
    "    return \"No\""
   ]
  },
  {
   "cell_type": "code",
   "execution_count": 152,
   "metadata": {},
   "outputs": [],
   "source": [
    "minorityList2020['isIn2022'] = minorityList2020['Institution'].apply(matchMSIFuzzy)"
   ]
  },
  {
   "cell_type": "markdown",
   "metadata": {},
   "source": [
    "### MSI List Similiarity Analysis w/ Fuzzy Match (2020 vs 2022):\n",
    "* A total of 566 institutions were shared by the two sources"
   ]
  },
  {
   "cell_type": "code",
   "execution_count": 155,
   "metadata": {},
   "outputs": [
    {
     "data": {
      "text/plain": [
       "6        United States\n",
       "38       United States\n",
       "39       United States\n",
       "40       United States\n",
       "41       United States\n",
       "             ...      \n",
       "25660    United States\n",
       "25661    United States\n",
       "25662    United States\n",
       "25663    United States\n",
       "25664    United States\n",
       "Name: aff_country, Length: 7654, dtype: object"
      ]
     },
     "execution_count": 155,
     "metadata": {},
     "output_type": "execute_result"
    }
   ],
   "source": [
    "# dropping all the affiliation data that doesn't originate within the United States or has no country affilation\n",
    "comparI = compareData[compareData['aff_country'] != 'United States'].index\n",
    "compareData = compareData.drop(comparI)\n",
    "controlI = controlData[controlData['aff_country'] != 'United States'].index\n",
    "controlData = controlData.drop(controlI)\n",
    "compareData['aff_country'].dropna()\n",
    "controlData['aff_country'].dropna()"
   ]
  },
  {
   "cell_type": "markdown",
   "metadata": {},
   "source": [
    "#### Fuzzy Matching Affiliation Data for Compare and Control Groups with MSI Lists"
   ]
  },
  {
   "cell_type": "code",
   "execution_count": 156,
   "metadata": {},
   "outputs": [],
   "source": [
    "# fuzzy matching methods for both 2020 and 2022 lists\n",
    "\n",
    "def fuzzTest(x):\n",
    "    for i in range(774):\n",
    "        if(isfloat(x) == False and fuzz.partial_ratio(minorityList2020.loc[i]['Institution'], x) > 97):\n",
    "            return minorityList2020.loc[i]['Institution']\n",
    "    return \"Not Minority\"\n",
    "\n",
    "def fuzzTest2(x):\n",
    "    for i in range(862):\n",
    "        if(isfloat(x) == False and fuzz.partial_ratio(minorityList2022.loc[i]['Institution Name'], x) > 97):\n",
    "            return minorityList2022.loc[i]['Institution Name']\n",
    "    return \"Not Minority\"\n",
    "\n"
   ]
  },
  {
   "cell_type": "code",
   "execution_count": 157,
   "metadata": {},
   "outputs": [],
   "source": [
    "# applying the method to the affiliation name column\n",
    "compareData['isMinority_2020'] = compareData['aff_name'].apply(fuzzTest)\n",
    "controlData['isMinority_2020'] = controlData['aff_name'].apply(fuzzTest)\n",
    "compareData['isMinority_2022'] = compareData['aff_name'].apply(fuzzTest2)\n",
    "controlData['isMinority_2022'] = controlData['aff_name'].apply(fuzzTest2)"
   ]
  },
  {
   "cell_type": "markdown",
   "metadata": {},
   "source": [
    "#### Understand the distribution "
   ]
  },
  {
   "cell_type": "code",
   "execution_count": 158,
   "metadata": {},
   "outputs": [],
   "source": [
    "\n",
    "compareMinorityValues2020 = compareData['isMinority_2020'].value_counts().to_frame()\n",
    "controlMinorityValues2020 = controlData['isMinority_2020'].value_counts().to_frame()\n",
    "compareMinorityValues2022 = compareData['isMinority_2022'].value_counts().to_frame()\n",
    "controlMinorityValues2022 = controlData['isMinority_2022'].value_counts().to_frame()"
   ]
  },
  {
   "cell_type": "code",
   "execution_count": 159,
   "metadata": {},
   "outputs": [
    {
     "name": "stdout",
     "output_type": "stream",
     "text": [
      "isMinority_2020\n",
      "Not Minority                                                              7031\n",
      "Cheyney University of Pennsylvania                                         173\n",
      "Vanguard University of Southern California                                  87\n",
      "University of Washington - Seattle                                          77\n",
      "University of Minnesota - Twin Cities                                       40\n",
      "University of Arizona (The)                                                 39\n",
      "University of California, Davis                                             34\n",
      "University of California, Irvine                                            28\n",
      "University of Texas Health Science Center at San Antonio                    27\n",
      "University of Connecticut - Hartford Campus                                 14\n",
      "Rutgers, the State University of New Jersey                                 13\n",
      "Pennsylvania State University - Penn State Abington                         11\n",
      "Georgia State University                                                    10\n",
      "University of Illinois at Chicago                                            9\n",
      "Texas Tech University                                                        9\n",
      "University of Central Florida                                                6\n",
      "Texas A&M University - Corpus Christi                                        6\n",
      "San Diego State University                                                   5\n",
      "University of New Mexico                                                     5\n",
      "University of Houston                                                        5\n",
      "University of Texas at San Antonio                                           4\n",
      "Arizona State University                                                     4\n",
      "University of Texas at Arlington                                             3\n",
      "Tennessee State University                                                   2\n",
      "Colorado State University - Pueblo                                           2\n",
      "Florida Atlantic University                                                  2\n",
      "University of California, Riverside                                          2\n",
      "City College                                                                 1\n",
      "Florida International University                                             1\n",
      "California State University, San Bernardino                                  1\n",
      "New York City College of Technology of the City University of New York       1\n",
      "University of California, Santa Barbara                                      1\n",
      "CUNY Hunter College                                                          1\n",
      "Name: count, dtype: int64\n",
      "isMinority_2022\n",
      "Not Minority                                                    3377\n",
      "University of Washington-Tacoma Campus                            70\n",
      "Cheyney University of Pennsylvania                                59\n",
      "The University of Texas at Austin                                 44\n",
      "University of Minnesota-Morris                                    41\n",
      "Vanguard University of Southern California                        16\n",
      "Texas A&M University-Central Texas                                 8\n",
      "University of Connecticut-Hartford Campus                          7\n",
      "Colorado State University Pueblo                                   7\n",
      "University of Arizona                                              6\n",
      "The University of Texas at Arlington                               6\n",
      "Winston-Salem State University                                     5\n",
      "University of Houston                                              4\n",
      "Loma Linda University                                              4\n",
      "Florida International University                                   4\n",
      "St. John's University-New York                                     3\n",
      "CUNY Borough of Manhattan Community College                        1\n",
      "University of Central Florida                                      1\n",
      "Georgia State University                                           1\n",
      "University of New Mexico-Gallup Campus                             1\n",
      "Louisiana State University-Alexandria                              1\n",
      "Meharry Medical College                                            1\n",
      "The University of Texas Health Science Center at San Antonio       1\n",
      "Texas Tech University                                              1\n",
      "Howard University                                                  1\n",
      "Name: count, dtype: int64\n"
     ]
    }
   ],
   "source": [
    "print(controlData['isMinority_2020'].value_counts())\n",
    "print(compareData['isMinority_2022'].value_counts())"
   ]
  },
  {
   "cell_type": "markdown",
   "metadata": {},
   "source": [
    "### Understanding MSI types \n",
    "* The OIC supports colleges and universities designated as minority serving institutions:\n",
    "\n",
    "    * Asian American Native American Pacific Islander-Serving Institutions (ANNAPISIs)\n",
    "    * Alaska Native and Native Hawaiian Serving Institutions (ANNHs)\n",
    "    * Historically Black Colleges & Universities (HBCUs)\n",
    "    * Hispanic Serving institutions (HSIs)\n",
    "    * Native American-Serving Non-Tribal Institutions (NASNTIs)\n",
    "    * Predominantly Black Institutions (PBIs)\n",
    "    * Tribal Colleges and Universities (TCUs)\n"
   ]
  },
  {
   "cell_type": "code",
   "execution_count": 160,
   "metadata": {},
   "outputs": [],
   "source": [
    "# Type\n",
    "def typeInfo(x):\n",
    "    if (x != 'Not Minority'):\n",
    "        indexArray = minorityList2020[minorityList2020['Institution']== x].index.values\n",
    "        index = indexArray[0]\n",
    "        return minorityList2020.loc[index]['Type']\n",
    "    return 'Not Minority'\n",
    "def typeInfo2(x):\n",
    "    if (x != 'Not Minority'):\n",
    "        indexArray = minorityList2022[minorityList2022['Institution Name']== x].index.values\n",
    "        index = indexArray[0]\n",
    "        return minorityList2022.loc[index]['Type']\n",
    "    return 'Not Minority'"
   ]
  },
  {
   "cell_type": "code",
   "execution_count": 161,
   "metadata": {},
   "outputs": [],
   "source": [
    "compareData['Type2020'] = compareData['isMinority_2020'].apply(typeInfo)\n",
    "controlData['Type2020'] = controlData['isMinority_2020'].apply(typeInfo)\n",
    "compareData['Type2022'] = compareData['isMinority_2022'].apply(typeInfo2)\n",
    "controlData['Type2022'] = controlData['isMinority_2022'].apply(typeInfo2)\n"
   ]
  },
  {
   "cell_type": "code",
   "execution_count": 162,
   "metadata": {},
   "outputs": [],
   "source": [
    "# MSI Type\n",
    "def msiInfo(x):\n",
    "    if (x != 'Not Minority'):\n",
    "        indexArray = minorityList2020[minorityList2020['Institution'] == x].index.values\n",
    "        index = indexArray[0]\n",
    "        return minorityList2020.loc[index]['MSI Type']\n",
    "    return 'Not Minority'\n",
    "def msiInfo2(x):\n",
    "    if (x != 'Not Minority'):\n",
    "        indexArray = minorityList2022[minorityList2022['Institution Name'] == x].index.values\n",
    "        index = indexArray[0]\n",
    "        return minorityList2022.loc[index]['MSI Type']\n",
    "    return 'Not Minority'"
   ]
  },
  {
   "cell_type": "code",
   "execution_count": 163,
   "metadata": {},
   "outputs": [],
   "source": [
    "compareData['MSI Type2020'] = compareData['isMinority_2020'].apply(msiInfo)\n",
    "controlData['MSI Type2020'] = controlData['isMinority_2020'].apply(msiInfo)\n",
    "compareData['MSI Type2022'] = compareData['isMinority_2022'].apply(msiInfo2)\n",
    "controlData['MSI Type2022'] = controlData['isMinority_2022'].apply(msiInfo2)"
   ]
  },
  {
   "cell_type": "markdown",
   "metadata": {},
   "source": [
    "### Cleaning Process\n",
    "* To confirm the accuracy of the mapping between institutional affiliations and their potential MSI status, we performed manual verification on a subset of the results yielded by the aforementioned fuzzy-matching process. In cases when an author’s institutional affiliation was incorrectly mapped to an MSI, we rectified the mistake manually. Verification was limited to reducing false positives, i.e., we only determined institutional affiliations that were erroneously linked with MSIs.\n",
    "* This allowed us to understand which MSIs appeared in the datasets \n",
    "    * Used this information in gender and first vs last author pipelines"
   ]
  },
  {
   "cell_type": "markdown",
   "metadata": {},
   "source": [
    "## Gender Distributions of Authors Affiliated w/ MSIs"
   ]
  },
  {
   "cell_type": "code",
   "execution_count": 28,
   "metadata": {},
   "outputs": [],
   "source": [
    "remControl = pd.read_csv(\"./GuruData/controlUnionType.csv\")\n",
    "remMIMIC= pd.read_csv(\"./GuruData/mimicUnionType.csv\")\n",
    "mimic20 = pd.read_csv(\"./GuruData/minorityMimiccorrectx(d).csv\")\n",
    "mimic22 = pd.read_csv(\"./GuruData/minorityMimiccorrectx(d).csv\")\n",
    "control20 = pd.read_csv(\"./GuruData/minoritycontolcorrectx(d).csv\")\n",
    "control22 = pd.read_csv(\"./GuruData/minoritycontolcorrectx(d).csv\")\n",
    "# mimicaffils = pd.read_csv(\"./GuruData/mimic_affils(7).csv\") # checked\n",
    "mimicaffils = MIMIC_affli.copy()\n",
    "# controlaffils = pd.read_csv(\"./GuruData/control_group_affils(7).csv\") # checked with Control_affli\n",
    "# controlGender = pd.read_csv(\"./GuruData/control_group_affils_v2.csv\") #  wasn't used in later analysis "
   ]
  },
  {
   "cell_type": "markdown",
   "metadata": {},
   "source": [
    "#### Data Cleaning "
   ]
  },
  {
   "cell_type": "code",
   "execution_count": 165,
   "metadata": {},
   "outputs": [],
   "source": [
    "def filter_rows_by_values(df, col, values):\n",
    "    return df[~df[col].isin(values)]"
   ]
  },
  {
   "cell_type": "code",
   "execution_count": 166,
   "metadata": {},
   "outputs": [
    {
     "data": {
      "text/html": [
       "<div>\n",
       "<style scoped>\n",
       "    .dataframe tbody tr th:only-of-type {\n",
       "        vertical-align: middle;\n",
       "    }\n",
       "\n",
       "    .dataframe tbody tr th {\n",
       "        vertical-align: top;\n",
       "    }\n",
       "\n",
       "    .dataframe thead th {\n",
       "        text-align: right;\n",
       "    }\n",
       "</style>\n",
       "<table border=\"1\" class=\"dataframe\">\n",
       "  <thead>\n",
       "    <tr style=\"text-align: right;\">\n",
       "      <th></th>\n",
       "      <th>controlUnion</th>\n",
       "      <th>Unnamed: 1</th>\n",
       "      <th>Unnamed: 2</th>\n",
       "      <th>Unnamed: 3</th>\n",
       "    </tr>\n",
       "  </thead>\n",
       "  <tbody>\n",
       "    <tr>\n",
       "      <th>0</th>\n",
       "      <td>NaN</td>\n",
       "      <td>Institution</td>\n",
       "      <td>isMinority_Union</td>\n",
       "      <td>MSI_Type</td>\n",
       "    </tr>\n",
       "    <tr>\n",
       "      <th>1</th>\n",
       "      <td>0.0</td>\n",
       "      <td>Not Minority</td>\n",
       "      <td>7750</td>\n",
       "      <td>No MSI Type</td>\n",
       "    </tr>\n",
       "    <tr>\n",
       "      <th>2</th>\n",
       "      <td>1.0</td>\n",
       "      <td>University of Washington - Seattle</td>\n",
       "      <td>66</td>\n",
       "      <td>AANAPISI</td>\n",
       "    </tr>\n",
       "    <tr>\n",
       "      <th>3</th>\n",
       "      <td>2.0</td>\n",
       "      <td>University of Minnesota - Twin Cities</td>\n",
       "      <td>48</td>\n",
       "      <td>AANAPISI</td>\n",
       "    </tr>\n",
       "    <tr>\n",
       "      <th>4</th>\n",
       "      <td>3.0</td>\n",
       "      <td>The University of Texas at Austin</td>\n",
       "      <td>35</td>\n",
       "      <td>AANAPISI</td>\n",
       "    </tr>\n",
       "  </tbody>\n",
       "</table>\n",
       "</div>"
      ],
      "text/plain": [
       "   controlUnion                             Unnamed: 1        Unnamed: 2  \\\n",
       "0           NaN                            Institution  isMinority_Union   \n",
       "1           0.0                           Not Minority              7750   \n",
       "2           1.0     University of Washington - Seattle                66   \n",
       "3           2.0  University of Minnesota - Twin Cities                48   \n",
       "4           3.0      The University of Texas at Austin                35   \n",
       "\n",
       "    Unnamed: 3  \n",
       "0     MSI_Type  \n",
       "1  No MSI Type  \n",
       "2     AANAPISI  \n",
       "3     AANAPISI  \n",
       "4     AANAPISI  "
      ]
     },
     "execution_count": 166,
     "metadata": {},
     "output_type": "execute_result"
    }
   ],
   "source": [
    "remControl.head()"
   ]
  },
  {
   "cell_type": "code",
   "execution_count": 167,
   "metadata": {},
   "outputs": [],
   "source": [
    "remMIMIC = remMIMIC.iloc[: , 1:]\n",
    "remMIMIC = remMIMIC.rename(columns=remMIMIC.iloc[0])\n",
    "remControl = remControl.iloc[: , 1:]\n",
    "remControl = remControl.rename(columns=remControl.iloc[0])\n",
    "remMIMIC = remMIMIC.iloc[1: , :]\n",
    "remControl = remControl.iloc[1: , :]\n",
    "remMIMIC = remMIMIC.iloc[1: , :]\n",
    "remControl = remControl.iloc[1: , :]"
   ]
  },
  {
   "cell_type": "markdown",
   "metadata": {},
   "source": [
    "#### below is MSI value counts for the control and compare datasets (union of 2020 and 2022) after manual cleaning process"
   ]
  },
  {
   "cell_type": "code",
   "execution_count": 168,
   "metadata": {},
   "outputs": [
    {
     "name": "stdout",
     "output_type": "stream",
     "text": [
      "compare group not duplicate  2245\n",
      "control group not duplicated 4930\n",
      "3670\n",
      "7654\n"
     ]
    }
   ],
   "source": [
    "# Filter the DataFrame to show only non-duplicated records based on 'first_name' and 'last_name'.\n",
    "non_duplicated_compareData = mimic22[~mimic22[['first_name', 'last_name','researcher_id']].duplicated()]\n",
    "non_duplicated_controlData = control22[~control22[['first_name', 'last_name','researcher_id']].duplicated()]\n",
    "# print(\"Compare distinct author names with gender not none \",len(non_duplicated_authors_MIMIC[non_duplicated_authors_MIMIC.LMIC.notna()]))\n",
    "# print(\"Control distinct author names with gender not none \",len(non_duplicated_authors_Control[non_duplicated_authors_Control.LMIC.notna()]))\n",
    "# print(\"Compare distinct author names with gender not none \",len(non_duplicated_authors_MIMIC[non_duplicated_authors_MIMIC.LMIC=='Yes']))\n",
    "# print(\"Control distinct author names with gender not none \",len(non_duplicated_authors_Control[non_duplicated_authors_Control.LMIC=='Yes']))\n",
    "# print(547/8210)\n",
    "# print(590/16743)\n",
    "print(\"compare group not duplicate \",len(non_duplicated_compareData))\n",
    "print(\"control group not duplicated\", len(non_duplicated_controlData))\n",
    "print(len(mimic22[mimic22['MSI Type2022'].notna()]))\n",
    "print(len(control22[control22['MSI Type2022'].notna()]))"
   ]
  },
  {
   "cell_type": "code",
   "execution_count": 169,
   "metadata": {},
   "outputs": [],
   "source": [
    "#removing the authors and their corresoponding data if they are not affiliated with a MSI\n",
    "#the following datasets are outputs of the previous MSI identification pipline\n",
    "mimic20 = mimic20[mimic20.Type2020 != \"Not Minority\"]\n",
    "mimic22 = mimic22[mimic22.Type2022 != \"Not Minority\"]\n",
    "control20 = control20[control20.Type2020 != \"Not Minority\"]\n",
    "control22 = control22[control22.Type2022 != \"Not Minority\"]"
   ]
  },
  {
   "cell_type": "markdown",
   "metadata": {},
   "source": [
    "#### the following is used to find which insititutions are affiliated MSIs (after cleaning)"
   ]
  },
  {
   "cell_type": "code",
   "execution_count": 170,
   "metadata": {},
   "outputs": [],
   "source": [
    "mimicList = remMIMIC.Institution.values.tolist()\n",
    "controlList = remControl.Institution.values.tolist()\n",
    "mimInsti = mimic20.loc[mimic20['isMinority_2020'].isin(mimicList)]\n",
    "mimInsti2 = mimic22.loc[mimic22['isMinority_2022'].isin(mimicList)]\n",
    "controlInsti = control20.loc[control20['isMinority_2020'].isin(controlList)]\n",
    "controlInsti2 = control22.loc[control22['isMinority_2022'].isin(controlList)]"
   ]
  },
  {
   "cell_type": "code",
   "execution_count": 171,
   "metadata": {},
   "outputs": [
    {
     "name": "stdout",
     "output_type": "stream",
     "text": [
      "Number of unique MSI inst in mimic 198\n",
      "MIMIC percentage 0.08971454463072044\n",
      "Number of unique MSI inst in control 288\n",
      "Control percentage  0.05860805860805861\n"
     ]
    }
   ],
   "source": [
    "print(\"Number of unique MSI inst in mimic\",len(mimInsti ))\n",
    "print(\"MIMIC percentage\",198 / 2207)\n",
    "print(\"Number of unique MSI inst in control\",len(controlInsti))\n",
    "print(\"Control percentage \", 288 / 4914)"
   ]
  },
  {
   "cell_type": "code",
   "execution_count": 172,
   "metadata": {},
   "outputs": [],
   "source": [
    "# concatenating the 2020 and 2022 lists for control and compare\n",
    "controlMaster = pd.concat([controlInsti, controlInsti2], ignore_index = True)\n",
    "mimicMaster = pd.concat([mimInsti, mimInsti2], ignore_index = True)"
   ]
  },
  {
   "cell_type": "code",
   "execution_count": 173,
   "metadata": {},
   "outputs": [],
   "source": [
    "mimicMaster['full_name'] = mimicMaster[['first_name', 'last_name']].apply(lambda x: ' '.join(x), axis=1)\n",
    "controlMaster['full_name'] = controlMaster[['first_name', 'last_name']].astype(str).apply(lambda x: ' '.join(x), axis=1)"
   ]
  },
  {
   "cell_type": "code",
   "execution_count": 174,
   "metadata": {},
   "outputs": [],
   "source": [
    "#dropping duplicates to find distinct authors affiliated with MSIs\n",
    "controlMaster = controlMaster.drop_duplicates(subset = 'full_name', keep = 'first')\n",
    "mimicMaster = mimicMaster.drop_duplicates(subset = 'full_name', keep = 'first')"
   ]
  },
  {
   "cell_type": "code",
   "execution_count": 175,
   "metadata": {},
   "outputs": [
    {
     "data": {
      "text/plain": [
       "gender\n",
       "male      135\n",
       "female     35\n",
       "Name: count, dtype: int64"
      ]
     },
     "execution_count": 175,
     "metadata": {},
     "output_type": "execute_result"
    }
   ],
   "source": [
    "mimicMaster['gender'].value_counts()"
   ]
  },
  {
   "cell_type": "code",
   "execution_count": 176,
   "metadata": {},
   "outputs": [
    {
     "data": {
      "text/plain": [
       "gender\n",
       "male      163\n",
       "female     86\n",
       "Name: count, dtype: int64"
      ]
     },
     "execution_count": 176,
     "metadata": {},
     "output_type": "execute_result"
    }
   ],
   "source": [
    "controlMaster['gender'].value_counts()"
   ]
  },
  {
   "cell_type": "code",
   "execution_count": 177,
   "metadata": {},
   "outputs": [],
   "source": [
    "controlMaster.to_csv('./GuruData/controlAuthors(d).csv')\n",
    "mimicMaster.to_csv('./GuruData/mimicAuthors(d).csv')"
   ]
  },
  {
   "cell_type": "code",
   "execution_count": 178,
   "metadata": {},
   "outputs": [],
   "source": [
    "MIMIC_MSI = pd.read_csv('./GuruData/mimicAuthors(d).csv')\n",
    "Control_MSI = pd.read_csv('./GuruData/controlAuthors(d).csv')"
   ]
  },
  {
   "cell_type": "code",
   "execution_count": 180,
   "metadata": {},
   "outputs": [
    {
     "name": "stdout",
     "output_type": "stream",
     "text": [
      "MSI Type2022\n",
      "AANAPISI        88\n",
      "Not Minority    47\n",
      "NASNTI          31\n",
      "HSI             21\n",
      "HBCU             3\n",
      "Name: count, dtype: int64\n",
      "190\n",
      "MSI Type2022\n",
      "AANAPISI        104\n",
      "Not Minority     91\n",
      "HSI              48\n",
      "NASNTI           34\n",
      "Name: count, dtype: int64\n",
      "277\n"
     ]
    }
   ],
   "source": [
    "\n",
    "print(MIMIC_MSI['MSI Type2022'].value_counts())\n",
    "print(len(MIMIC_MSI))\n",
    "print(Control_MSI['MSI Type2022'].value_counts())\n",
    "print(len(Control_MSI))"
   ]
  },
  {
   "cell_type": "code",
   "execution_count": 181,
   "metadata": {},
   "outputs": [],
   "source": [
    "def isfloat(num):\n",
    "    try:\n",
    "        float(num)\n",
    "        return True\n",
    "    except ValueError:\n",
    "        return False\n",
    "\n",
    "def genderFind (x):\n",
    "    try:\n",
    "        gender = controlGender.loc[controlGender['full_name'] == x, 'gender'].iloc[0]\n",
    "    except IndexError:\n",
    "        gender = 'None'\n",
    "    return gender"
   ]
  },
  {
   "cell_type": "code",
   "execution_count": 57,
   "metadata": {},
   "outputs": [],
   "source": [
    "# controlGender['full_name'] = controlGender[['first_name', 'last_name']].astype(str).apply(lambda x: ' '.join(x), axis=1)\n",
    "# controlGender['gender'].dropna()\n",
    "# controlMaster['gender'] = controlMaster['full_name'].apply(genderFind)"
   ]
  },
  {
   "cell_type": "code",
   "execution_count": 182,
   "metadata": {},
   "outputs": [
    {
     "data": {
      "text/plain": [
       "gender\n",
       "male      163\n",
       "female     86\n",
       "Name: count, dtype: int64"
      ]
     },
     "execution_count": 182,
     "metadata": {},
     "output_type": "execute_result"
    }
   ],
   "source": [
    "# the control affil dataset I originially used didn't have genders so I used another dataset \n",
    "# which had the genders of the authors\n",
    "\n",
    "controlMaster['gender'].value_counts()"
   ]
  },
  {
   "cell_type": "markdown",
   "metadata": {},
   "source": [
    "## 3.2 First vs Last Authors Affiliated w/ MSIs"
   ]
  },
  {
   "cell_type": "code",
   "execution_count": 50,
   "metadata": {},
   "outputs": [],
   "source": [
    "#list of authors affiliated with MSIs (after manual verification)\n",
    "mimic = pd.read_csv(\"./GuruData/mimicauthors(d).csv\")\n",
    "control = pd.read_csv(\"./GuruData/controlauthors(d).csv\")\n",
    "\n",
    "#these lists are used to find the author sequence (by research paper) \n",
    "# conAuth = pd.read_csv(\"./GuruData/control_group_auths_v2.csv\")\n",
    "# mimAuth = pd.read_csv(\"./GuruData/mimic_auths_v2.csv\")\n",
    "conAuth = Control_author.copy()\n",
    "mimAuth = MIMIC_author.copy()"
   ]
  },
  {
   "cell_type": "code",
   "execution_count": 51,
   "metadata": {},
   "outputs": [],
   "source": [
    "mimAuth['authorSeq'] = 'Any'\n",
    "conAuth['authorSeq'] = 'Any'\n",
    "#adding sequence of authors for control\n",
    "# for i in range(21364): edited to length\n",
    "for i in range(len(conAuth)):\n",
    "    if i == 0:\n",
    "        conAuth.loc[0, 'authorSeq'] = 'First' \n",
    "    elif i == len(conAuth)-1:\n",
    "        conAuth.loc[len(conAuth), 'authorSeq'] = 'Last'\n",
    "    else:\n",
    "        if(conAuth.loc[i - 1, 'pub_id'] != conAuth.loc[i, 'pub_id']):\n",
    "            conAuth.loc[i, 'authorSeq'] = 'First'\n",
    "        elif(conAuth.loc[i + 1, 'pub_id'] != conAuth.loc[i, 'pub_id']):\n",
    "            conAuth.loc[i, 'authorSeq'] = 'Last'"
   ]
  },
  {
   "cell_type": "code",
   "execution_count": 52,
   "metadata": {},
   "outputs": [],
   "source": [
    "#adding sequence of authors for compare\n",
    "# for i in range(13838): # edited to length\n",
    "for i in range(len(mimAuth)):\n",
    "    if i == 0:\n",
    "        mimAuth.loc[0, 'authorSeq'] = 'First' \n",
    "    elif i == len(mimAuth)-1:\n",
    "        mimAuth.loc[len(mimAuth), 'authorSeq'] = 'First'\n",
    "    else:\n",
    "        if(mimAuth.loc[i - 1, 'pub_id'] != mimAuth.loc[i, 'pub_id']):\n",
    "            mimAuth.loc[i, 'authorSeq'] = 'First'\n",
    "        elif(mimAuth.loc[i + 1, 'pub_id'] != mimAuth.loc[i, 'pub_id']):\n",
    "            mimAuth.loc[i, 'authorSeq'] = 'Last'\n"
   ]
  },
  {
   "cell_type": "code",
   "execution_count": 57,
   "metadata": {},
   "outputs": [],
   "source": [
    "#adding rows for full names\n",
    "#some authors don't have a unique research id associated with them so this allows for a more accurate mapping\n",
    "conAuth['full_name'] = conAuth[['first_name', 'last_name']].astype(str).apply(lambda x: ' '.join(x), axis=1)\n",
    "mimAuth['full_name'] = mimAuth[['first_name', 'last_name']].astype(str).apply(lambda x: ' '.join(x), axis=1)"
   ]
  },
  {
   "cell_type": "code",
   "execution_count": 56,
   "metadata": {},
   "outputs": [],
   "source": [
    "#function for mapping MSI affiliated authors with their correct position\n",
    "def authFindC (x):\n",
    "    try:\n",
    "        seq = conAuth.loc[conAuth['full_name'] == x, 'authorSeq'].iloc[0]\n",
    "    except IndexError:\n",
    "        seq = 'Any'\n",
    "    return seq\n",
    "\n",
    "def authFindM (x):\n",
    "    try:\n",
    "        seq = mimAuth.loc[mimAuth['full_name'] == x, 'authorSeq'].iloc[0]\n",
    "    except IndexError:\n",
    "        seq = 'Any'\n",
    "    return seq"
   ]
  },
  {
   "cell_type": "markdown",
   "metadata": {},
   "source": [
    "## 3.3  Results"
   ]
  },
  {
   "cell_type": "code",
   "execution_count": 13,
   "metadata": {},
   "outputs": [],
   "source": [
    "controlT = Control_affli.copy()\n",
    "mimicT = MIMIC_affli.copy()\n",
    "mimic = pd.read_csv(\"./GuruData/mimicAuthors(d).csv\")\n",
    "control = pd.read_csv(\"./GuruData/controlAuthors(d).csv\")"
   ]
  },
  {
   "cell_type": "code",
   "execution_count": 14,
   "metadata": {},
   "outputs": [
    {
     "data": {
      "text/plain": [
       "249"
      ]
     },
     "execution_count": 14,
     "metadata": {},
     "output_type": "execute_result"
    }
   ],
   "source": [
    "len(control[control['gender'].notna()])"
   ]
  },
  {
   "cell_type": "code",
   "execution_count": 15,
   "metadata": {},
   "outputs": [
    {
     "name": "stdout",
     "output_type": "stream",
     "text": [
      "control group affiliated with an MSI: 277\n",
      "control group MSI with none missing gener: 249\n",
      "compare group affiliated with an MSI: 190\n",
      "compare group MSI with none missing gener: 170\n"
     ]
    },
    {
     "data": {
      "text/plain": [
       "gender\n",
       "male      135\n",
       "female     35\n",
       "Name: count, dtype: int64"
      ]
     },
     "execution_count": 15,
     "metadata": {},
     "output_type": "execute_result"
    }
   ],
   "source": [
    "print(\"control group affiliated with an MSI:\",len(control))\n",
    "print(\"control group MSI with none missing gener:\",len(control[control['gender'].notna()]))\n",
    "control['gender'].value_counts()\n",
    "print(\"compare group affiliated with an MSI:\",len(mimic))\n",
    "print(\"compare group MSI with none missing gener:\",len(mimic[mimic['gender'].notna()]))\n",
    "mimic['gender'].value_counts()"
   ]
  },
  {
   "cell_type": "code",
   "execution_count": 62,
   "metadata": {},
   "outputs": [
    {
     "data": {
      "text/plain": [
       "authorSeq\n",
       "Any      175\n",
       "Last      55\n",
       "First     47\n",
       "Name: count, dtype: int64"
      ]
     },
     "execution_count": 62,
     "metadata": {},
     "output_type": "execute_result"
    }
   ],
   "source": [
    "\n",
    "control['authorSeq'] = control['full_name'].apply(authFindC)\n",
    "control['authorSeq'].value_counts()"
   ]
  },
  {
   "cell_type": "code",
   "execution_count": 63,
   "metadata": {},
   "outputs": [
    {
     "data": {
      "text/plain": [
       "authorSeq\n",
       "Any      126\n",
       "First     36\n",
       "Last      28\n",
       "Name: count, dtype: int64"
      ]
     },
     "execution_count": 63,
     "metadata": {},
     "output_type": "execute_result"
    }
   ],
   "source": [
    "mimic['authorSeq'] = mimic['full_name'].apply(authFindM)\n",
    "mimic['authorSeq'].value_counts()"
   ]
  },
  {
   "cell_type": "code",
   "execution_count": 78,
   "metadata": {},
   "outputs": [],
   "source": [
    "control['full_name'] = control[['first_name', 'last_name']].astype(str).apply(lambda x: ' '.join(x), axis=1)\n",
    "mimic['full_name'] = mimic[['first_name', 'last_name']].astype(str).apply(lambda x: ' '.join(x), axis=1)"
   ]
  },
  {
   "cell_type": "code",
   "execution_count": 29,
   "metadata": {},
   "outputs": [],
   "source": [
    "controlList = control.full_name.values.tolist()\n",
    "mimicList = mimic.full_name.values.tolist()"
   ]
  },
  {
   "cell_type": "code",
   "execution_count": 31,
   "metadata": {},
   "outputs": [],
   "source": [
    "controlT['full_name'] = controlT[['first_name', 'last_name']].astype(str).apply(lambda x: ' '.join(x), axis=1)\n",
    "mimicT['full_name'] = mimicT[['first_name', 'last_name']].astype(str).apply(lambda x: ' '.join(x), axis=1)"
   ]
  },
  {
   "cell_type": "code",
   "execution_count": 32,
   "metadata": {},
   "outputs": [],
   "source": [
    "#mapping the list of authors affiliated with MSIs to the overall datasets in order to do t-tests on the entire author population\n",
    "def isMinCon (x):\n",
    "    if x in controlList:\n",
    "        return 1\n",
    "    else:\n",
    "        return 0\n",
    "def isMinMim (x):\n",
    "    if x in mimicList:\n",
    "        return 1\n",
    "    else:\n",
    "        return 0"
   ]
  },
  {
   "cell_type": "code",
   "execution_count": 33,
   "metadata": {},
   "outputs": [],
   "source": [
    "controlT['minority'] = controlT['full_name'].apply(isMinCon)\n",
    "mimicT['minority'] = mimicT['full_name'].apply(isMinMim)"
   ]
  },
  {
   "cell_type": "markdown",
   "metadata": {},
   "source": [
    "### T-Test for First vs Last Author Distribution"
   ]
  },
  {
   "cell_type": "code",
   "execution_count": 34,
   "metadata": {},
   "outputs": [],
   "source": [
    "controlT['authorSeq'] = 'Any'\n",
    "mimicT['authorSeq'] = 'Any'"
   ]
  },
  {
   "cell_type": "code",
   "execution_count": 35,
   "metadata": {},
   "outputs": [],
   "source": [
    "#adding author sequence to overall datastes\n",
    "for i in range(mimicT.shape[0]):\n",
    "    if i == 0:\n",
    "        mimicT.loc[0, 'authorSeq'] = 'First' \n",
    "    elif i == mimicT.shape[0] - 1:\n",
    "        mimicT.loc[mimicT.shape[0] - 1, 'authorSeq'] = 'First'\n",
    "    else:\n",
    "        if(mimicT.loc[i - 1, 'pub_id'] != mimicT.loc[i, 'pub_id']):\n",
    "            mimicT.loc[i, 'authorSeq'] = 'First'\n",
    "        elif(mimicT.loc[i + 1, 'pub_id'] != mimicT.loc[i, 'pub_id']):\n",
    "            mimicT.loc[i, 'authorSeq'] = 'Last'\n",
    "\n",
    "for i in range(controlT.shape[0]):\n",
    "    if i == 0:\n",
    "        controlT.loc[0, 'authorSeq'] = 'First' \n",
    "    elif i == controlT.shape[0] - 1:\n",
    "        controlT.loc[controlT.shape[0] - 1, 'authorSeq'] = 'First'\n",
    "    else:\n",
    "        if(controlT.loc[i - 1, 'pub_id'] != controlT.loc[i, 'pub_id']):\n",
    "            controlT.loc[i, 'authorSeq'] = 'First'\n",
    "        elif(controlT.loc[i + 1, 'pub_id'] != controlT.loc[i, 'pub_id']):\n",
    "            controlT.loc[i, 'authorSeq'] = 'Last'\n",
    "\n",
    "        "
   ]
  },
  {
   "cell_type": "code",
   "execution_count": 36,
   "metadata": {},
   "outputs": [],
   "source": [
    "mimicT['firstSeq'] = (mimicT['minority'] == 1) & (mimicT['authorSeq'] == 'First')\n",
    "mimicT['firstSeq'] = mimicT['firstSeq'].astype(int)\n",
    "controlT['firstSeq'] = (controlT['minority'] == 1) & (controlT['authorSeq'] == 'First')\n",
    "controlT['firstSeq'] = controlT['firstSeq'].astype(int)"
   ]
  },
  {
   "cell_type": "code",
   "execution_count": 37,
   "metadata": {},
   "outputs": [],
   "source": [
    "mimicT['lastSeq'] = (mimicT['minority'] == 1) & (mimicT['authorSeq'] == 'Last')\n",
    "controlT['lastSeq'] = (controlT['minority'] == 1) & (controlT['authorSeq'] == 'Last')\n",
    "mimicT['lastSeq'] = mimicT['lastSeq'].astype(int)\n",
    "controlT['lastSeq'] = controlT['lastSeq'].astype(int)"
   ]
  },
  {
   "cell_type": "code",
   "execution_count": 38,
   "metadata": {},
   "outputs": [
    {
     "name": "stdout",
     "output_type": "stream",
     "text": [
      "proportion MIMIC 0.27631578947368424\n",
      "proportion control 0.17658930373360243\n",
      "Any author Z-test: any MSI - Z statistic: 4.3420, p-value: 0.0000\n",
      "proportion MIMIC 0.07894736842105263\n",
      "proportion control 0.04742684157416751\n",
      "First author Z-test: MSI-first - Z statistic: 2.3955, p-value: 0.0083\n",
      "proportion MIMIC 0.06140350877192982\n",
      "proportion control 0.055499495459132187\n",
      "Last author Z-test: MSI-last - Z statistic: 0.4487, p-value: 0.3268\n",
      "First-Last author Z-test for Control: Z statistic: -0.8133, p-value: 0.2080\n",
      "First-Last author Z-test for Compare: Z statistic: 1.0370, p-value: 0.1499\n",
      "control compare MSI-gender differences: -3.0939, p-value: 0.9990\n"
     ]
    }
   ],
   "source": [
    "from statsmodels.stats.proportion import proportions_ztest\n",
    "len_all_MSI_mimic  = 456\n",
    "len_all_MSI_control = 991\n",
    "\n",
    "count_compare = 126\n",
    "count_control = 175\n",
    "print(\"proportion MIMIC\", count_compare/len_all_MSI_mimic)\n",
    "print(\"proportion control\", count_control/len_all_MSI_control)\n",
    "\n",
    "z_stat, p_value = proportions_ztest([count_compare, count_control], [len_all_MSI_mimic, len_all_MSI_control ], alternative='larger')\n",
    "print(f\"Any author Z-test: any MSI - Z statistic: {z_stat:.4f}, p-value: {p_value:.4f}\")\n",
    "\n",
    "count_compare = 36\n",
    "count_control = 47\n",
    "print(\"proportion MIMIC\", count_compare/len_all_MSI_mimic)\n",
    "print(\"proportion control\", count_control/len_all_MSI_control)\n",
    "\n",
    "z_stat, p_value = proportions_ztest([count_compare, count_control], [len_all_MSI_mimic, len_all_MSI_control ], alternative='larger')\n",
    "print(f\"First author Z-test: MSI-first - Z statistic: {z_stat:.4f}, p-value: {p_value:.4f}\")\n",
    "\n",
    "count_compare = 28\n",
    "count_control = 55\n",
    "print(\"proportion MIMIC\", count_compare/len_all_MSI_mimic)\n",
    "print(\"proportion control\", count_control/len_all_MSI_control)\n",
    "\n",
    "z_stat, p_value = proportions_ztest([count_compare, count_control], [len_all_MSI_mimic, len_all_MSI_control ], alternative='larger')\n",
    "print(f\"Last author Z-test: MSI-last - Z statistic: {z_stat:.4f}, p-value: {p_value:.4f}\")\n",
    "\n",
    "### test first vs last for control  \n",
    "any_first = 47\n",
    "any_last = 55\n",
    "z_stat, p_value = proportions_ztest([any_first, any_last], [len_all_MSI_control, len_all_MSI_control ], alternative='smaller')\n",
    "print(f\"First-Last author Z-test for Control: Z statistic: {z_stat:.4f}, p-value: {p_value:.4f}\")\n",
    "### test first vs last for Compare  \n",
    "any_first = 36\n",
    "any_last = 28\n",
    "z_stat, p_value = proportions_ztest([any_first, any_last], [len_all_MSI_mimic, len_all_MSI_mimic ], alternative='larger')\n",
    "print(f\"First-Last author Z-test for Compare: Z statistic: {z_stat:.4f}, p-value: {p_value:.4f}\")\n",
    "\n",
    "compare_female = 35\n",
    "compare_gender_nomissing = 170\n",
    "control_female = 86\n",
    "control_gender_nomissing = 249\n",
    "\n",
    "z_stat, p_value = proportions_ztest([compare_female, control_female], [compare_gender_nomissing, control_gender_nomissing ], alternative='larger')\n",
    "print(f\"control compare MSI-gender differences: {z_stat:.4f}, p-value: {p_value:.4f}\")\n"
   ]
  },
  {
   "cell_type": "code",
   "execution_count": 88,
   "metadata": {},
   "outputs": [
    {
     "data": {
      "text/plain": [
       "0.17658930373360243"
      ]
     },
     "execution_count": 88,
     "metadata": {},
     "output_type": "execute_result"
    }
   ],
   "source": [
    "175/991"
   ]
  },
  {
   "cell_type": "code",
   "execution_count": 83,
   "metadata": {},
   "outputs": [
    {
     "data": {
      "text/plain": [
       "pandas.core.series.Series"
      ]
     },
     "execution_count": 83,
     "metadata": {},
     "output_type": "execute_result"
    }
   ],
   "source": [
    "# Test Ztest\n",
    "type(mimicT[['pub_id','minority','firstSeq','lastSeq']].groupby(['pub_id']).minority.any())"
   ]
  },
  {
   "cell_type": "code",
   "execution_count": 81,
   "metadata": {},
   "outputs": [
    {
     "name": "stdout",
     "output_type": "stream",
     "text": [
      "pub_id\n",
      "pub.1001792778     3\n",
      "pub.1002353037    10\n",
      "pub.1003040860     1\n",
      "pub.1006639384     3\n",
      "pub.1007449969     4\n",
      "                  ..\n",
      "pub.1155896423     4\n",
      "pub.1155904804     6\n",
      "pub.1156298472     6\n",
      "pub.1156298670     5\n",
      "pub.1157339777     6\n",
      "Name: minority, Length: 1672, dtype: int64\n",
      "pub_id\n",
      "pub.1000003099     2\n",
      "pub.1000014492     2\n",
      "pub.1000030383     5\n",
      "pub.1000030696     3\n",
      "pub.1000065329     6\n",
      "                  ..\n",
      "pub.1154058524    11\n",
      "pub.1154091236     6\n",
      "pub.1154105023    10\n",
      "pub.1154599396    33\n",
      "pub.1155066768    17\n",
      "Name: minority, Length: 2877, dtype: int64\n",
      "Z-test: minority, Z-statistic: 2.5817395692048124, P-value: 0.004915186802182418\n"
     ]
    }
   ],
   "source": [
    "from statsmodels.stats.weightstats import ztest\n",
    "\n",
    "def get_ztest_any(df):\n",
    "    # print(df.groupby(\"pub_id\").minority!=0)\n",
    "    print(df.groupby(\"pub_id\").minority.count())\n",
    "    proportion = df.groupby(\"pub_id\").minority.any()/df.groupby(\"pub_id\").minority.count()\n",
    "    # print(proportion)\n",
    "    return proportion\n",
    "\n",
    "z_stat, p_value = ztest(get_ztest_any(mimicT), get_ztest_any(controlT), alternative='larger')\n",
    "\n",
    "print(f\"Z-test: minority, Z-statistic: {z_stat}, P-value: {p_value}\")"
   ]
  },
  {
   "cell_type": "code",
   "execution_count": 49,
   "metadata": {},
   "outputs": [
    {
     "name": "stdout",
     "output_type": "stream",
     "text": [
      "Z-test: minority, Z-statistic: 1.8171649984815597, P-value: 0.034595926314173624\n"
     ]
    }
   ],
   "source": [
    "#first authors\n",
    "def get_ztest_any2(df):\n",
    "    proportion = df.groupby(\"pub_id\").firstSeq.any()/df.groupby(\"pub_id\").firstSeq.count()\n",
    "    return proportion\n",
    "\n",
    "z_stat, p_value = ztest(get_ztest_any2(mimicT), get_ztest_any2(controlT), alternative='larger')\n",
    "print(f\"Z-test: minority, Z-statistic: {z_stat}, P-value: {p_value}\")"
   ]
  },
  {
   "cell_type": "code",
   "execution_count": 53,
   "metadata": {},
   "outputs": [
    {
     "name": "stdout",
     "output_type": "stream",
     "text": [
      "Z-test: minority, Z-statistic: -0.21800115396298034, P-value: 0.5862858938414642\n"
     ]
    }
   ],
   "source": [
    "#last authors\n",
    "def get_ztest_any3(df):\n",
    "    proportion = df.groupby(\"pub_id\").lastSeq.any()/df.groupby(\"pub_id\").lastSeq.count()\n",
    "    return proportion\n",
    "\n",
    "z_stat, p_value = ztest(get_ztest_any3(mimicT), get_ztest_any3(controlT), alternative='larger')\n",
    "print(f\"Z-test: minority, Z-statistic: {z_stat}, P-value: {p_value}\")"
   ]
  },
  {
   "cell_type": "markdown",
   "metadata": {},
   "source": [
    "# 4. More plots"
   ]
  },
  {
   "cell_type": "code",
   "execution_count": 86,
   "metadata": {},
   "outputs": [
    {
     "data": {
      "text/html": [
       "<div>\n",
       "<style scoped>\n",
       "    .dataframe tbody tr th:only-of-type {\n",
       "        vertical-align: middle;\n",
       "    }\n",
       "\n",
       "    .dataframe tbody tr th {\n",
       "        vertical-align: top;\n",
       "    }\n",
       "\n",
       "    .dataframe thead th {\n",
       "        text-align: right;\n",
       "    }\n",
       "</style>\n",
       "<table border=\"1\" class=\"dataframe\">\n",
       "  <thead>\n",
       "    <tr style=\"text-align: right;\">\n",
       "      <th></th>\n",
       "      <th>Unnamed: 0</th>\n",
       "      <th>affiliations</th>\n",
       "      <th>corresponding</th>\n",
       "      <th>current_organization_id</th>\n",
       "      <th>first_name</th>\n",
       "      <th>last_name</th>\n",
       "      <th>orcid</th>\n",
       "      <th>raw_affiliation</th>\n",
       "      <th>researcher_id</th>\n",
       "      <th>pub_id</th>\n",
       "      <th>year</th>\n",
       "      <th>gender_ints</th>\n",
       "    </tr>\n",
       "    <tr>\n",
       "      <th>gender</th>\n",
       "      <th></th>\n",
       "      <th></th>\n",
       "      <th></th>\n",
       "      <th></th>\n",
       "      <th></th>\n",
       "      <th></th>\n",
       "      <th></th>\n",
       "      <th></th>\n",
       "      <th></th>\n",
       "      <th></th>\n",
       "      <th></th>\n",
       "      <th></th>\n",
       "    </tr>\n",
       "  </thead>\n",
       "  <tbody>\n",
       "    <tr>\n",
       "      <th>female</th>\n",
       "      <td>3319</td>\n",
       "      <td>3319</td>\n",
       "      <td>385</td>\n",
       "      <td>2239</td>\n",
       "      <td>3319</td>\n",
       "      <td>3319</td>\n",
       "      <td>1845</td>\n",
       "      <td>3319</td>\n",
       "      <td>2384</td>\n",
       "      <td>3319</td>\n",
       "      <td>3319</td>\n",
       "      <td>3319</td>\n",
       "    </tr>\n",
       "    <tr>\n",
       "      <th>male</th>\n",
       "      <td>9004</td>\n",
       "      <td>9004</td>\n",
       "      <td>1113</td>\n",
       "      <td>6373</td>\n",
       "      <td>9004</td>\n",
       "      <td>9004</td>\n",
       "      <td>5471</td>\n",
       "      <td>9004</td>\n",
       "      <td>6814</td>\n",
       "      <td>9004</td>\n",
       "      <td>9004</td>\n",
       "      <td>9004</td>\n",
       "    </tr>\n",
       "  </tbody>\n",
       "</table>\n",
       "</div>"
      ],
      "text/plain": [
       "        Unnamed: 0  affiliations  corresponding  current_organization_id  \\\n",
       "gender                                                                     \n",
       "female        3319          3319            385                     2239   \n",
       "male          9004          9004           1113                     6373   \n",
       "\n",
       "        first_name  last_name  orcid  raw_affiliation  researcher_id  pub_id  \\\n",
       "gender                                                                         \n",
       "female        3319       3319   1845             3319           2384    3319   \n",
       "male          9004       9004   5471             9004           6814    9004   \n",
       "\n",
       "        year  gender_ints  \n",
       "gender                     \n",
       "female  3319         3319  \n",
       "male    9004         9004  "
      ]
     },
     "execution_count": 86,
     "metadata": {},
     "output_type": "execute_result"
    }
   ],
   "source": [
    "MIMIC_author.groupby('gender').count()"
   ]
  },
  {
   "cell_type": "code",
   "execution_count": 98,
   "metadata": {},
   "outputs": [
    {
     "data": {
      "image/png": "[encoded data removed]",
      "text/plain": [
       "<Figure size 1200x600 with 1 Axes>"
      ]
     },
     "metadata": {},
     "output_type": "display_data"
    }
   ],
   "source": [
    "\n",
    "# Create a 'has_woman' column indicating if a paper has at least one female author\n",
    "MIMIC_affli['has_woman'] = (MIMIC_affli['gender'] == 'female').astype(int)\n",
    "\n",
    "# Create a 'has_LMIC' column indicating if a paper has at least one LMIC author\n",
    "MIMIC_affli['has_LMIC'] = (MIMIC_affli['LMIC'] == 'Yes').astype(int)  # Assuming 'Yes' and 'No' values for LMIC\n",
    "\n",
    "# Group by year and paper_id\n",
    "grouped_df = MIMIC_affli.groupby(['year', 'pub_id'])\n",
    "\n",
    "# Calculate the metric for each paper: \n",
    "# If at least one author is a woman or from LMIC for a given paper\n",
    "papers_diversity = grouped_df[['has_woman', 'has_LMIC']].max()\n",
    "papers_diversity = papers_diversity.reset_index()\n",
    "\n",
    "# Calculate the yearly average for each metric\n",
    "yearly_woman_metric = papers_diversity.groupby('year')['has_woman'].mean()\n",
    "yearly_LMIC_metric = papers_diversity.groupby('year')['has_LMIC'].mean()\n",
    "\n",
    "# Plotting\n",
    "plt.figure(figsize=(12,6))\n",
    "yearly_woman_metric.plot(label='Papers with at least one woman author')\n",
    "yearly_LMIC_metric.plot(label='Papers with at least one LMIC-based author')\n",
    "plt.title('Diversity Over Time')\n",
    "plt.xlabel('Year')\n",
    "plt.ylabel('Proportion of Papers')\n",
    "plt.legend()\n",
    "plt.grid(True)\n",
    "plt.show()\n"
   ]
  },
  {
   "cell_type": "code",
   "execution_count": 101,
   "metadata": {},
   "outputs": [
    {
     "name": "stdout",
     "output_type": "stream",
     "text": [
      "Proportion of papers in 2011 with at least one female author: 1.00\n",
      "\n",
      "Number of papers in 2011: 3\n",
      "Number of papers with at least one female author: 3\n"
     ]
    }
   ],
   "source": [
    "# Filter for the year 2011\n",
    "df_2011 = MIMIC_affli[MIMIC_affli['year'] == 2011]\n",
    "\n",
    "# Group by paper_id and check for female authors\n",
    "grouped_2011 = df_2011.groupby('pub_id')['gender'].apply(lambda x: (x == 'female').any())\n",
    "\n",
    "# Check the proportion of papers in 2011 with at least one female author\n",
    "proportion_female_authors_2011 = grouped_2011.mean()\n",
    "\n",
    "print(f\"Proportion of papers in 2011 with at least one female author: {proportion_female_authors_2011:.2f}\")\n",
    "print(\"\\nNumber of papers in 2011:\", grouped_2011.size)\n",
    "print(\"Number of papers with at least one female author:\", grouped_2011.sum())\n"
   ]
  },
  {
   "cell_type": "code",
   "execution_count": 97,
   "metadata": {},
   "outputs": [
    {
     "data": {
      "image/png": "[encoded data removed]",
      "text/plain": [
       "<Figure size 1200x600 with 1 Axes>"
      ]
     },
     "metadata": {},
     "output_type": "display_data"
    }
   ],
   "source": [
    "\n",
    "# Create a 'has_woman' column indicating if a paper has at least one female author\n",
    "Control_affli['has_woman'] = (Control_affli['gender'] == 'female').astype(int)\n",
    "\n",
    "# Create a 'has_LMIC' column indicating if a paper has at least one LMIC author\n",
    "Control_affli['has_LMIC'] = (Control_affli['LMIC'] == 'Yes').astype(int)  # Assuming 'Yes' and 'No' values for LMIC\n",
    "\n",
    "# Group by year and paper_id, then calculate the diversity metric\n",
    "grouped_df = Control_affli.groupby(['year', 'pub_id'])\n",
    "diversity_metric = grouped_df[['has_woman', 'has_LMIC']].max()  # max function will ensure if at least one is present\n",
    "diversity_metric = diversity_metric.reset_index()\n",
    "\n",
    "# Now group by year and calculate the average metric\n",
    "yearly_metric = diversity_metric.groupby('year').apply(lambda x: (x['has_woman'] & x['has_LMIC']).mean())\n",
    "\n",
    "# Plotting\n",
    "plt.figure(figsize=(12,6))\n",
    "yearly_metric.plot()\n",
    "plt.title('Control Diversity Metric Over Time')\n",
    "plt.xlabel('Year')\n",
    "plt.ylabel('Proportion of Papers with Diversity')\n",
    "plt.grid(True)\n",
    "plt.show()\n"
   ]
  }
 ],
 "metadata": {
  "kernelspec": {
   "display_name": "py3",
   "language": "python",
   "name": "python3"
  },
  "language_info": {
   "codemirror_mode": {
    "name": "ipython",
    "version": 3
   },
   "file_extension": ".py",
   "mimetype": "text/x-python",
   "name": "python",
   "nbconvert_exporter": "python",
   "pygments_lexer": "ipython3",
   "version": "3.11.4"
  },
  "orig_nbformat": 4
 },
 "nbformat": 4,
 "nbformat_minor": 2
}
