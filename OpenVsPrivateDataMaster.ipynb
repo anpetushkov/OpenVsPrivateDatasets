{
 "cells": [
  {
   "cell_type": "markdown",
   "metadata": {},
   "source": [
    "# 0. Prepare Environment "
   ]
  },
  {
   "cell_type": "code",
   "execution_count": 8,
   "metadata": {},
   "outputs": [],
   "source": [
    "import dimcli\n",
    "import numpy as np\n",
    "import pandas as pd"
   ]
  },
  {
   "cell_type": "code",
   "execution_count": 9,
   "metadata": {},
   "outputs": [
    {
     "name": "stderr",
     "output_type": "stream",
     "text": [
      "\u001b[2mSearching config file credentials for 'https://app.dimensions.ai' endpoint..\u001b[0m\n",
      "\u001b[31mERROR: `dsl.ini` credentials file not found.\u001b[0m\n",
      "\u001b[31mHowTo: https://digital-science.github.io/dimcli/getting-started.html#authentication\u001b[0m\n"
     ]
    },
    {
     "ename": "AttributeError",
     "evalue": "'tuple' object has no attribute 'tb_frame'",
     "output_type": "error",
     "traceback": [
      "\u001b[0;31m---------------------------------------------------------------------------\u001b[0m",
      "\u001b[0;31mTypeError\u001b[0m                                 Traceback (most recent call last)",
      "File \u001b[0;32m~/anaconda3/envs/py3/lib/python3.11/site-packages/dimcli/core/auth.py:332\u001b[0m, in \u001b[0;36mread_init_file\u001b[0;34m(fpath, instance_name, endpoint)\u001b[0m\n\u001b[1;32m    331\u001b[0m \u001b[39mtry\u001b[39;00m:\n\u001b[0;32m--> 332\u001b[0m     config\u001b[39m.\u001b[39;49mread(fpath)\n\u001b[1;32m    333\u001b[0m \u001b[39mexcept\u001b[39;00m:\n",
      "File \u001b[0;32m~/anaconda3/envs/py3/lib/python3.11/configparser.py:710\u001b[0m, in \u001b[0;36mRawConfigParser.read\u001b[0;34m(self, filenames, encoding)\u001b[0m\n\u001b[1;32m    709\u001b[0m read_ok \u001b[39m=\u001b[39m []\n\u001b[0;32m--> 710\u001b[0m \u001b[39mfor\u001b[39;00m filename \u001b[39min\u001b[39;00m filenames:\n\u001b[1;32m    711\u001b[0m     \u001b[39mtry\u001b[39;00m:\n",
      "\u001b[0;31mTypeError\u001b[0m: 'NoneType' object is not iterable",
      "\nDuring handling of the above exception, another exception occurred:\n",
      "\u001b[0;31mSystemExit\u001b[0m                                Traceback (most recent call last)",
      "    \u001b[0;31m[... skipping hidden 1 frame]\u001b[0m\n",
      "\u001b[1;32m/Users/chenyuli/OpenScience/Code/OpenVsPrivateDatasets/OpenVsPrivateDataMaster.ipynb Cell 3\u001b[0m line \u001b[0;36m1\n\u001b[0;32m----> <a href='vscode-notebook-cell:/Users/chenyuli/OpenScience/Code/OpenVsPrivateDatasets/OpenVsPrivateDataMaster.ipynb#W3sZmlsZQ%3D%3D?line=0'>1</a>\u001b[0m dimcli\u001b[39m.\u001b[39;49mlogin(\n\u001b[1;32m      <a href='vscode-notebook-cell:/Users/chenyuli/OpenScience/Code/OpenVsPrivateDatasets/OpenVsPrivateDataMaster.ipynb#W3sZmlsZQ%3D%3D?line=1'>2</a>\u001b[0m     key\u001b[39m=\u001b[39;49m\u001b[39m\"\u001b[39;49m\u001b[39m\"\u001b[39;49m, endpoint\u001b[39m=\u001b[39;49m\u001b[39m\"\u001b[39;49m\u001b[39mhttps://app.dimensions.ai\u001b[39;49m\u001b[39m\"\u001b[39;49m\n\u001b[1;32m      <a href='vscode-notebook-cell:/Users/chenyuli/OpenScience/Code/OpenVsPrivateDatasets/OpenVsPrivateDataMaster.ipynb#W3sZmlsZQ%3D%3D?line=2'>3</a>\u001b[0m )\n\u001b[1;32m      <a href='vscode-notebook-cell:/Users/chenyuli/OpenScience/Code/OpenVsPrivateDatasets/OpenVsPrivateDataMaster.ipynb#W3sZmlsZQ%3D%3D?line=3'>4</a>\u001b[0m dsl \u001b[39m=\u001b[39m dimcli\u001b[39m.\u001b[39mDsl()\n",
      "File \u001b[0;32m~/anaconda3/envs/py3/lib/python3.11/site-packages/dimcli/__init__.py:119\u001b[0m, in \u001b[0;36mlogin\u001b[0;34m(username, password, endpoint, instance, key, verify_ssl, verbose)\u001b[0m\n\u001b[1;32m    118\u001b[0m \u001b[39mtry\u001b[39;00m:\n\u001b[0;32m--> 119\u001b[0m     do_global_login(instance, username, password, key, endpoint, verify_ssl)\n\u001b[1;32m    120\u001b[0m \u001b[39mexcept\u001b[39;00m \u001b[39mException\u001b[39;00m \u001b[39mas\u001b[39;00m e:\n",
      "File \u001b[0;32m~/anaconda3/envs/py3/lib/python3.11/site-packages/dimcli/core/auth.py:260\u001b[0m, in \u001b[0;36mdo_global_login\u001b[0;34m(instance, username, password, key, url, verify_ssl)\u001b[0m\n\u001b[1;32m    259\u001b[0m \u001b[39mglobal\u001b[39;00m CONNECTION\n\u001b[0;32m--> 260\u001b[0m CONNECTION\u001b[39m.\u001b[39;49mlogin(instance, username, password, key, url, verify_ssl)\n",
      "File \u001b[0;32m~/anaconda3/envs/py3/lib/python3.11/site-packages/dimcli/core/auth.py:129\u001b[0m, in \u001b[0;36mAPISession.login\u001b[0;34m(self, instance, username, password, key, endpoint, verify_ssl, verbose)\u001b[0m\n\u001b[1;32m    128\u001b[0m     \u001b[39mif\u001b[39;00m verbose: printDebug(\u001b[39mf\u001b[39m\u001b[39m\"\u001b[39m\u001b[39mSearching config file credentials for \u001b[39m\u001b[39m'\u001b[39m\u001b[39m{\u001b[39;00mendpoint\u001b[39m}\u001b[39;00m\u001b[39m'\u001b[39m\u001b[39m endpoint..\u001b[39m\u001b[39m\"\u001b[39m, \u001b[39m\"\u001b[39m\u001b[39mcomment\u001b[39m\u001b[39m\"\u001b[39m)\n\u001b[0;32m--> 129\u001b[0m     config_section \u001b[39m=\u001b[39m read_init_file(fpath, endpoint\u001b[39m=\u001b[39;49mendpoint)\n\u001b[1;32m    130\u001b[0m \u001b[39melse\u001b[39;00m:\n",
      "File \u001b[0;32m~/anaconda3/envs/py3/lib/python3.11/site-packages/dimcli/core/auth.py:336\u001b[0m, in \u001b[0;36mread_init_file\u001b[0;34m(fpath, instance_name, endpoint)\u001b[0m\n\u001b[1;32m    335\u001b[0m     printDebug(\u001b[39m\"\u001b[39m\u001b[39mHowTo: https://digital-science.github.io/dimcli/getting-started.html#authentication\u001b[39m\u001b[39m\"\u001b[39m, fg\u001b[39m=\u001b[39m\u001b[39m\"\u001b[39m\u001b[39mred\u001b[39m\u001b[39m\"\u001b[39m)\n\u001b[0;32m--> 336\u001b[0m     sys\u001b[39m.\u001b[39;49mexit(\u001b[39m0\u001b[39;49m)\n\u001b[1;32m    337\u001b[0m \u001b[39m# we have a good config file\u001b[39;00m\n",
      "\u001b[0;31mSystemExit\u001b[0m: 0",
      "\nDuring handling of the above exception, another exception occurred:\n",
      "\u001b[0;31mAttributeError\u001b[0m                            Traceback (most recent call last)",
      "    \u001b[0;31m[... skipping hidden 1 frame]\u001b[0m\n",
      "File \u001b[0;32m~/anaconda3/envs/py3/lib/python3.11/site-packages/IPython/core/interactiveshell.py:2095\u001b[0m, in \u001b[0;36mshowtraceback\u001b[0;34m(self, exc_tuple, filename, tb_offset, exception_only, running_compiled_code)\u001b[0m\n\u001b[1;32m   2093\u001b[0m \u001b[39melse\u001b[39;00m:\n\u001b[1;32m   2094\u001b[0m     \u001b[39mif\u001b[39;00m exception_only:\n\u001b[0;32m-> 2095\u001b[0m         stb \u001b[39m=\u001b[39m [\u001b[39m'\u001b[39m\u001b[39mAn exception has occurred, use \u001b[39m\u001b[39m%\u001b[39m\u001b[39mtb to see \u001b[39m\u001b[39m'\u001b[39m\n\u001b[1;32m   2096\u001b[0m                \u001b[39m'\u001b[39m\u001b[39mthe full traceback.\u001b[39m\u001b[39m\\n\u001b[39;00m\u001b[39m'\u001b[39m]\n\u001b[1;32m   2097\u001b[0m         stb\u001b[39m.\u001b[39mextend(\u001b[39mself\u001b[39m\u001b[39m.\u001b[39mInteractiveTB\u001b[39m.\u001b[39mget_exception_only(etype,\n\u001b[1;32m   2098\u001b[0m                                                          value))\n\u001b[1;32m   2099\u001b[0m     \u001b[39melse\u001b[39;00m:\n",
      "File \u001b[0;32m~/anaconda3/envs/py3/lib/python3.11/site-packages/IPython/core/ultratb.py:710\u001b[0m, in \u001b[0;36mListTB.get_exception_only\u001b[0;34m(self, etype, value)\u001b[0m\n\u001b[1;32m    702\u001b[0m \u001b[39mdef\u001b[39;00m \u001b[39mget_exception_only\u001b[39m(\u001b[39mself\u001b[39m, etype, value):\n\u001b[1;32m    703\u001b[0m \u001b[39m    \u001b[39m\u001b[39m\"\"\"Only print the exception type and message, without a traceback.\u001b[39;00m\n\u001b[1;32m    704\u001b[0m \n\u001b[1;32m    705\u001b[0m \u001b[39m    Parameters\u001b[39;00m\n\u001b[0;32m   (...)\u001b[0m\n\u001b[1;32m    708\u001b[0m \u001b[39m    value : exception value\u001b[39;00m\n\u001b[1;32m    709\u001b[0m \u001b[39m    \"\"\"\u001b[39;00m\n\u001b[0;32m--> 710\u001b[0m     \u001b[39mreturn\u001b[39;00m ListTB\u001b[39m.\u001b[39;49mstructured_traceback(\u001b[39mself\u001b[39;49m, etype, value)\n",
      "File \u001b[0;32m~/anaconda3/envs/py3/lib/python3.11/site-packages/IPython/core/ultratb.py:568\u001b[0m, in \u001b[0;36mListTB.structured_traceback\u001b[0;34m(self, etype, evalue, etb, tb_offset, context)\u001b[0m\n\u001b[1;32m    565\u001b[0m     chained_exc_ids\u001b[39m.\u001b[39madd(\u001b[39mid\u001b[39m(exception[\u001b[39m1\u001b[39m]))\n\u001b[1;32m    566\u001b[0m     chained_exceptions_tb_offset \u001b[39m=\u001b[39m \u001b[39m0\u001b[39m\n\u001b[1;32m    567\u001b[0m     out_list \u001b[39m=\u001b[39m (\n\u001b[0;32m--> 568\u001b[0m         \u001b[39mself\u001b[39;49m\u001b[39m.\u001b[39;49mstructured_traceback(\n\u001b[1;32m    569\u001b[0m             etype,\n\u001b[1;32m    570\u001b[0m             evalue,\n\u001b[1;32m    571\u001b[0m             (etb, chained_exc_ids),  \u001b[39m# type: ignore\u001b[39;49;00m\n\u001b[1;32m    572\u001b[0m             chained_exceptions_tb_offset,\n\u001b[1;32m    573\u001b[0m             context,\n\u001b[1;32m    574\u001b[0m         )\n\u001b[1;32m    575\u001b[0m         \u001b[39m+\u001b[39m chained_exception_message\n\u001b[1;32m    576\u001b[0m         \u001b[39m+\u001b[39m out_list)\n\u001b[1;32m    578\u001b[0m \u001b[39mreturn\u001b[39;00m out_list\n",
      "File \u001b[0;32m~/anaconda3/envs/py3/lib/python3.11/site-packages/IPython/core/ultratb.py:1428\u001b[0m, in \u001b[0;36mstructured_traceback\u001b[0;34m(self, etype, evalue, etb, tb_offset, number_of_lines_of_context)\u001b[0m\n\u001b[1;32m   1419\u001b[0m \u001b[39mdef\u001b[39;00m \u001b[39mstructured_traceback\u001b[39m(\n\u001b[1;32m   1420\u001b[0m     \u001b[39mself\u001b[39m,\n\u001b[1;32m   1421\u001b[0m     etype: \u001b[39mtype\u001b[39m,\n\u001b[0;32m   (...)\u001b[0m\n\u001b[1;32m   1426\u001b[0m ):\n\u001b[1;32m   1427\u001b[0m     \u001b[39m# tb: TracebackType or tupleof tb types ?\u001b[39;00m\n\u001b[0;32m-> 1428\u001b[0m     \u001b[39mif\u001b[39;00m etype \u001b[39mis\u001b[39;00m \u001b[39mNone\u001b[39;00m:\n\u001b[1;32m   1429\u001b[0m         etype, evalue, etb \u001b[39m=\u001b[39m sys\u001b[39m.\u001b[39mexc_info()\n\u001b[1;32m   1430\u001b[0m     \u001b[39mif\u001b[39;00m \u001b[39misinstance\u001b[39m(etb, \u001b[39mtuple\u001b[39m):\n\u001b[1;32m   1431\u001b[0m         \u001b[39m# tb is a tuple if this is a chained exception.\u001b[39;00m\n",
      "File \u001b[0;32m~/anaconda3/envs/py3/lib/python3.11/site-packages/IPython/core/ultratb.py:1319\u001b[0m, in \u001b[0;36mstructured_traceback\u001b[0;34m(self, etype, value, tb, tb_offset, number_of_lines_of_context)\u001b[0m\n\u001b[1;32m   1316\u001b[0m \u001b[39mself\u001b[39m\u001b[39m.\u001b[39m_join_chars \u001b[39m=\u001b[39m \u001b[39mdict\u001b[39m(Plain\u001b[39m=\u001b[39m\u001b[39m'\u001b[39m\u001b[39m'\u001b[39m, Context\u001b[39m=\u001b[39m\u001b[39m'\u001b[39m\u001b[39m\\n\u001b[39;00m\u001b[39m'\u001b[39m, Verbose\u001b[39m=\u001b[39m\u001b[39m'\u001b[39m\u001b[39m\\n\u001b[39;00m\u001b[39m'\u001b[39m,\n\u001b[1;32m   1317\u001b[0m                         Minimal\u001b[39m=\u001b[39m\u001b[39m'\u001b[39m\u001b[39m'\u001b[39m)\n\u001b[1;32m   1318\u001b[0m \u001b[39m# set_mode also sets the tb_join_char attribute\u001b[39;00m\n\u001b[0;32m-> 1319\u001b[0m \u001b[39mself\u001b[39m\u001b[39m.\u001b[39mset_mode(mode)\n",
      "File \u001b[0;32m~/anaconda3/envs/py3/lib/python3.11/site-packages/IPython/core/ultratb.py:1172\u001b[0m, in \u001b[0;36mstructured_traceback\u001b[0;34m(self, etype, evalue, etb, tb_offset, number_of_lines_of_context)\u001b[0m\n\u001b[1;32m   1164\u001b[0m \u001b[39mdef\u001b[39;00m \u001b[39mstructured_traceback\u001b[39m(\n\u001b[1;32m   1165\u001b[0m     \u001b[39mself\u001b[39m,\n\u001b[1;32m   1166\u001b[0m     etype: \u001b[39mtype\u001b[39m,\n\u001b[0;32m   (...)\u001b[0m\n\u001b[1;32m   1170\u001b[0m     number_of_lines_of_context: \u001b[39mint\u001b[39m \u001b[39m=\u001b[39m \u001b[39m5\u001b[39m,\n\u001b[1;32m   1171\u001b[0m ):\n\u001b[0;32m-> 1172\u001b[0m \u001b[39m    \u001b[39m\u001b[39m\"\"\"Return a nice text document describing the traceback.\"\"\"\u001b[39;00m\n\u001b[1;32m   1173\u001b[0m     formatted_exception \u001b[39m=\u001b[39m \u001b[39mself\u001b[39m\u001b[39m.\u001b[39mformat_exception_as_a_whole(etype, evalue, etb, number_of_lines_of_context,\n\u001b[1;32m   1174\u001b[0m                                                            tb_offset)\n\u001b[1;32m   1176\u001b[0m     colors \u001b[39m=\u001b[39m \u001b[39mself\u001b[39m\u001b[39m.\u001b[39mColors  \u001b[39m# just a shorthand + quicker name lookup\u001b[39;00m\n",
      "File \u001b[0;32m~/anaconda3/envs/py3/lib/python3.11/site-packages/IPython/core/ultratb.py:1062\u001b[0m, in \u001b[0;36mformat_exception_as_a_whole\u001b[0;34m(self, etype, evalue, etb, number_of_lines_of_context, tb_offset)\u001b[0m\n\u001b[1;32m   1060\u001b[0m \u001b[39massert\u001b[39;00m \u001b[39misinstance\u001b[39m(tb_offset, \u001b[39mint\u001b[39m)\n\u001b[1;32m   1061\u001b[0m head \u001b[39m=\u001b[39m \u001b[39mself\u001b[39m\u001b[39m.\u001b[39mprepare_header(\u001b[39mstr\u001b[39m(etype), \u001b[39mself\u001b[39m\u001b[39m.\u001b[39mlong_header)\n\u001b[0;32m-> 1062\u001b[0m records \u001b[39m=\u001b[39m (\n\u001b[1;32m   1063\u001b[0m     \u001b[39mself\u001b[39m\u001b[39m.\u001b[39mget_records(etb, number_of_lines_of_context, tb_offset) \u001b[39mif\u001b[39;00m etb \u001b[39melse\u001b[39;00m []\n\u001b[1;32m   1064\u001b[0m )\n\u001b[1;32m   1066\u001b[0m frames \u001b[39m=\u001b[39m []\n\u001b[1;32m   1067\u001b[0m skipped \u001b[39m=\u001b[39m \u001b[39m0\u001b[39m\n",
      "File \u001b[0;32m~/anaconda3/envs/py3/lib/python3.11/site-packages/IPython/core/ultratb.py:1130\u001b[0m, in \u001b[0;36mget_records\u001b[0;34m(self, etb, number_of_lines_of_context, tb_offset)\u001b[0m\n\u001b[1;32m   1128\u001b[0m tbs \u001b[39m=\u001b[39m []\n\u001b[1;32m   1129\u001b[0m \u001b[39mwhile\u001b[39;00m cf \u001b[39mis\u001b[39;00m \u001b[39mnot\u001b[39;00m \u001b[39mNone\u001b[39;00m:\n\u001b[0;32m-> 1130\u001b[0m     \u001b[39mtry\u001b[39;00m:\n\u001b[1;32m   1131\u001b[0m         mod \u001b[39m=\u001b[39m inspect\u001b[39m.\u001b[39mgetmodule(cf\u001b[39m.\u001b[39mtb_frame)\n\u001b[1;32m   1132\u001b[0m         \u001b[39mif\u001b[39;00m mod \u001b[39mis\u001b[39;00m \u001b[39mnot\u001b[39;00m \u001b[39mNone\u001b[39;00m:\n",
      "\u001b[0;31mAttributeError\u001b[0m: 'tuple' object has no attribute 'tb_frame'"
     ]
    }
   ],
   "source": [
    "dimcli.login(\n",
    "    key=\"\", endpoint=\"https://app.dimensions.ai\"\n",
    ")\n",
    "dsl = dimcli.Dsl()\n",
    "\n",
    "get_new_data = False"
   ]
  },
  {
   "cell_type": "code",
   "execution_count": 10,
   "metadata": {},
   "outputs": [],
   "source": [
    "def get_split(ser: pd.Series):\n",
    "    return np.array_split(ser, ser.shape[0] / 400)\n",
    "\n",
    "\n",
    "def get_data():\n",
    "    if get_new_data:\n",
    "        control = pd.read_csv(\"control-pmid.csv\")\n",
    "        \"\"\"Query:\n",
    "        https://pubmed.ncbi.nlm.nih.gov/?term=%28%28%22machine+learning%22%5BMajr%5D+OR+%28%22machine%22%5Bti%5D+AND+%22learning%22%5Bti%5D%29+OR+%22machine+learning%22%5Bti%5D+OR+%22AI%22%5Bti%5D+OR+%22Artificial+Intelligence%22%5Bti%5D+OR+%22artificially+intelligent%22%5Bti%5D+OR+%22Artificial+Intelligence%22%5BMeSH%5D+OR+%22Algorithms%22%5BMeSH%5D+OR+%22algorithm*%22%5Bti%5D+OR+%22deep+learning%22%5Bti%5D+OR+%22computer+vision%22%5Bti%5D+OR+%22natural+language+processing%22%5Bti%5D+OR+%22neural+network*%22%5Bti%5D+OR+%22neural+networks%2C+computer%22%5BMeSH%5D+OR+%22intelligent+machine*%22%5Bti%5D%29+AND+%28exp+%22Intensive+Care+Units%22%2F+OR+exp+%22Critical+Care%22%2F+OR+%28ICU+OR+IC+OR+%28%28intensive+OR+critical%29+ADJ3+%28care+OR+therapy+OR+unit*+OR+patient*+OR+department%5C*%29%29%29%29%29&filter=years.2010-2023\n",
    "        \"\"\"\n",
    "        df_pubs_control = pd.DataFrame()\n",
    "        df_auths_control = pd.DataFrame()\n",
    "        df_affils_control = pd.DataFrame()\n",
    "\n",
    "        for pmid_list in get_split(control.PMID):\n",
    "            query = fr\"\"\"search publications where pmid in {list(pmid_list)} and year in [2010:2022]\n",
    "            return publications[basics+abstract+authors_count+doi+concepts_scores+times_cited+mesh_terms\n",
    "            +journal+editors+field_citation_ratio+funder_countries+funders+open_access\n",
    "            +relative_citation_ratio+publisher+pmid+supporting_grant_ids+research_org_cities+pmid\n",
    "            +research_org_countries+research_org_country_names+research_org_names+research_org_state_codes\n",
    "            +research_org_state_names+research_orgs+researchers+category_bra+category_for+category_hra+category_hrcs_hc+\n",
    "            category_hrcs_rac+category_icrp_cso+category_icrp_ct+category_rcdc+category_sdg+category_uoa]\"\"\"\n",
    "            data = dsl.query_iterative(query)\n",
    "            df_pubs_control = pd.concat([df_pubs_control, data.as_dataframe()])\n",
    "            df_auths_control = pd.concat(\n",
    "                [df_auths_control, data.as_dataframe_authors()]\n",
    "            )\n",
    "            df_affils_control = pd.concat(\n",
    "                [df_affils_control, data.as_dataframe_authors_affiliations()]\n",
    "            )\n",
    "\n",
    "        df_pubs_control.to_csv(\"control_group_pubs.csv\")\n",
    "        df_auths_control.to_csv(\"control_group_auths.csv\")\n",
    "        df_affils_control.to_csv(\"control_group_affils.csv\")\n",
    "\n",
    "        compare_query = fr\"\"\"search publications where year in [2010:2022] for \"\\\"datamed org display item php\\\" OR \\\"physionet mimic ii database\\\" \n",
    "        OR \\\"mimic iii medical information mart for intensive care\\\" OR\n",
    "        \\\"10.13026 s6n6 xd98\\\" OR \\\"mimic iv\\\" OR \\\"physionet org content mimiciv\\\" OR\n",
    "        \\\"eicu crd\\\" OR \\\"mimic cxr\\\"\" return publications[basics+abstract+authors_count+doi+concepts_scores+times_cited\n",
    "            +mesh_terms+journal+editors+field_citation_ratio+funder_countries+funders+open_access\n",
    "            +relative_citation_ratio+publisher+pmid+supporting_grant_ids+research_org_cities+pmid\n",
    "            +research_org_countries+research_org_country_names+research_org_names+research_org_state_codes\n",
    "            +research_org_state_names+research_orgs+researchers+category_bra+category_for+category_hra+category_hrcs_hc+\n",
    "            category_hrcs_rac+category_icrp_cso+category_icrp_ct+category_rcdc+category_sdg+category_uoa]\"\"\"\n",
    "        compare = dsl.query_iterative(compare_query)\n",
    "\n",
    "        df_pubs_compare = compare.as_dataframe()\n",
    "        df_auths_compare = compare.as_dataframe_authors()\n",
    "        df_affils_compare = compare.as_dataframe_authors_affiliations()\n",
    "\n",
    "        df_pubs_compare.to_csv(\"mimic_pubs.csv\")\n",
    "        df_auths_compare.to_csv(\"mimic_auths.csv\")\n",
    "        df_affils_compare.to_csv(\"mimic_affils.csv\")\n",
    "\n",
    "    else:\n",
    "        df_pubs_compare = pd.read_csv(\"MIMIC Files/mimic_pubs.csv\")\n",
    "        df_auths_compare = pd.read_csv(\"MIMIC Files/mimic_auths.csv\")\n",
    "        df_affils_compare = pd.read_csv(\"MIMIC Files/mimic_affils.csv\")\n",
    "\n",
    "        df_pubs_control = pd.read_csv(\"MIMIC Files/control_group_pubs.csv\")\n",
    "        df_auths_control = pd.read_csv(\"MIMIC Files/control_group_auths.csv\")\n",
    "        df_affils_control = pd.read_csv(\"MIMIC Files/control_group_affils.csv\")\n",
    "\n",
    "    return (\n",
    "        df_pubs_compare,\n",
    "        df_auths_compare,\n",
    "        df_affils_compare,\n",
    "        df_pubs_control,\n",
    "        df_auths_control,\n",
    "        df_affils_control,\n",
    "    )"
   ]
  }
 ],
 "metadata": {
  "kernelspec": {
   "display_name": "py3",
   "language": "python",
   "name": "python3"
  },
  "language_info": {
   "codemirror_mode": {
    "name": "ipython",
    "version": 3
   },
   "file_extension": ".py",
   "mimetype": "text/x-python",
   "name": "python",
   "nbconvert_exporter": "python",
   "pygments_lexer": "ipython3",
   "version": "3.11.4"
  },
  "orig_nbformat": 4
 },
 "nbformat": 4,
 "nbformat_minor": 2
}
