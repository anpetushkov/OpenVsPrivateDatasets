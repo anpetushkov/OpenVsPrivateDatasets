{
 "cells": [
  {
   "cell_type": "markdown",
   "metadata": {},
   "source": [
    "# 0. Prepare Environment "
   ]
  },
  {
   "cell_type": "code",
   "execution_count": 238,
   "metadata": {},
   "outputs": [],
   "source": [
    "import dimcli\n",
    "import numpy as np\n",
    "import pandas as pd\n",
    "\n",
    "import country_converter as coco \n",
    "import pycountry\n",
    "\n",
    "import re\n",
    "import typing\n",
    "from ast import literal_eval\n",
    "from typing import Iterable\n",
    "\n",
    "# import dataframe_image as dfi\n",
    "import dimcli\n",
    "import matplotlib.pyplot as plt\n",
    "import numpy as np\n",
    "import pandas as pd\n",
    "import pycountry\n",
    "import seaborn as sns\n",
    "from scipy.stats import ttest_ind\n",
    "from sklearn.impute import SimpleImputer\n",
    "\n",
    "from fuzzywuzzy import fuzz"
   ]
  },
  {
   "cell_type": "code",
   "execution_count": 239,
   "metadata": {},
   "outputs": [
    {
     "name": "stderr",
     "output_type": "stream",
     "text": [
      "Warning: you are not logged in. Please use `dimcli.login(key, endpoint)` before querying.\u001b[0m\n"
     ]
    }
   ],
   "source": [
    "# dimcli.login(\n",
    "#     key=\"\", endpoint=\"https://app.dimensions.ai\"\n",
    "# )\n",
    "dsl = dimcli.Dsl()\n",
    "\n",
    "get_new_data = False"
   ]
  },
  {
   "cell_type": "markdown",
   "metadata": {},
   "source": [
    "# 1. Data Pre-processing "
   ]
  },
  {
   "cell_type": "markdown",
   "metadata": {},
   "source": [
    "### Get Data "
   ]
  },
  {
   "cell_type": "code",
   "execution_count": 240,
   "metadata": {},
   "outputs": [
    {
     "name": "stdout",
     "output_type": "stream",
     "text": [
      "100_compare_pubs_sample.csv\n",
      "100_control_pubs_sample.csv\n",
      "\u001b[34mData\u001b[m\u001b[m/\n",
      "Data.zip\n",
      "\u001b[34mGuru\u001b[m\u001b[m/\n",
      "\u001b[34mOpenVsPrivateDatasets\u001b[m\u001b[m/\n",
      "Step1_AffiliationExtractionFromGoogleApi_20220406.ipynb\n"
     ]
    }
   ],
   "source": [
    "ls"
   ]
  },
  {
   "cell_type": "code",
   "execution_count": 241,
   "metadata": {},
   "outputs": [],
   "source": [
    "def get_split(ser: pd.Series):\n",
    "    return np.array_split(ser, ser.shape[0] / 400)\n",
    "\n",
    "\n",
    "def get_data():\n",
    "    if get_new_data:\n",
    "        control = pd.read_csv(\"control-pmid.csv\")\n",
    "        \"\"\"Query:\n",
    "        https://pubmed.ncbi.nlm.nih.gov/?term=%28%28%22machine+learning%22%5BMajr%5D+OR+%28%22machine%22%5Bti%5D+AND+%22learning%22%5Bti%5D%29+OR+%22machine+learning%22%5Bti%5D+OR+%22AI%22%5Bti%5D+OR+%22Artificial+Intelligence%22%5Bti%5D+OR+%22artificially+intelligent%22%5Bti%5D+OR+%22Artificial+Intelligence%22%5BMeSH%5D+OR+%22Algorithms%22%5BMeSH%5D+OR+%22algorithm*%22%5Bti%5D+OR+%22deep+learning%22%5Bti%5D+OR+%22computer+vision%22%5Bti%5D+OR+%22natural+language+processing%22%5Bti%5D+OR+%22neural+network*%22%5Bti%5D+OR+%22neural+networks%2C+computer%22%5BMeSH%5D+OR+%22intelligent+machine*%22%5Bti%5D%29+AND+%28exp+%22Intensive+Care+Units%22%2F+OR+exp+%22Critical+Care%22%2F+OR+%28ICU+OR+IC+OR+%28%28intensive+OR+critical%29+ADJ3+%28care+OR+therapy+OR+unit*+OR+patient*+OR+department%5C*%29%29%29%29%29&filter=years.2010-2023\n",
    "        \"\"\"\n",
    "        df_pubs_control = pd.DataFrame()\n",
    "        df_auths_control = pd.DataFrame()\n",
    "        df_affils_control = pd.DataFrame()\n",
    "\n",
    "        for pmid_list in get_split(control.PMID):\n",
    "            query = fr\"\"\"search publications where pmid in {list(pmid_list)} and year in [2010:2022]\n",
    "            return publications[basics+abstract+authors_count+doi+concepts_scores+times_cited+mesh_terms\n",
    "            +journal+editors+field_citation_ratio+funder_countries+funders+open_access\n",
    "            +relative_citation_ratio+publisher+pmid+supporting_grant_ids+research_org_cities+pmid\n",
    "            +research_org_countries+research_org_country_names+research_org_names+research_org_state_codes\n",
    "            +research_org_state_names+research_orgs+researchers+category_bra+category_for+category_hra+category_hrcs_hc+\n",
    "            category_hrcs_rac+category_icrp_cso+category_icrp_ct+category_rcdc+category_sdg+category_uoa]\"\"\"\n",
    "            data = dsl.query_iterative(query)\n",
    "            df_pubs_control = pd.concat([df_pubs_control, data.as_dataframe()])\n",
    "            df_auths_control = pd.concat(\n",
    "                [df_auths_control, data.as_dataframe_authors()]\n",
    "            )\n",
    "            df_affils_control = pd.concat(\n",
    "                [df_affils_control, data.as_dataframe_authors_affiliations()]\n",
    "            )\n",
    "\n",
    "        df_pubs_control.to_csv(\"control_group_pubs.csv\")\n",
    "        df_auths_control.to_csv(\"control_group_auths.csv\")\n",
    "        df_affils_control.to_csv(\"control_group_affils.csv\")\n",
    "\n",
    "        compare_query = fr\"\"\"search publications where year in [2010:2022] for \"\\\"datamed org display item php\\\" OR \\\"physionet mimic ii database\\\" \n",
    "        OR \\\"mimic iii medical information mart for intensive care\\\" OR\n",
    "        \\\"10.13026 s6n6 xd98\\\" OR \\\"mimic iv\\\" OR \\\"physionet org content mimiciv\\\" OR\n",
    "        \\\"eicu crd\\\" OR \\\"mimic cxr\\\"\" return publications[basics+abstract+authors_count+doi+concepts_scores+times_cited\n",
    "            +mesh_terms+journal+editors+field_citation_ratio+funder_countries+funders+open_access\n",
    "            +relative_citation_ratio+publisher+pmid+supporting_grant_ids+research_org_cities+pmid\n",
    "            +research_org_countries+research_org_country_names+research_org_names+research_org_state_codes\n",
    "            +research_org_state_names+research_orgs+researchers+category_bra+category_for+category_hra+category_hrcs_hc+\n",
    "            category_hrcs_rac+category_icrp_cso+category_icrp_ct+category_rcdc+category_sdg+category_uoa]\"\"\"\n",
    "        compare = dsl.query_iterative(compare_query)\n",
    "\n",
    "        df_pubs_compare = compare.as_dataframe()\n",
    "        df_auths_compare = compare.as_dataframe_authors()\n",
    "        df_affils_compare = compare.as_dataframe_authors_affiliations()\n",
    "\n",
    "        df_pubs_compare.to_csv(\"mimic_pubs.csv\")\n",
    "        df_auths_compare.to_csv(\"mimic_auths.csv\")\n",
    "        df_affils_compare.to_csv(\"mimic_affils.csv\")\n",
    "\n",
    "    else:\n",
    "        df_pubs_compare = pd.read_csv(\"./Data/MIMIC_Files/mimic_pubs.csv\")\n",
    "        df_auths_compare = pd.read_csv(\"./Data/MIMIC_Files/mimic_auths.csv\")\n",
    "        df_affils_compare = pd.read_csv(\"./Data/MIMIC_Files/mimic_affils.csv\")\n",
    "\n",
    "        df_pubs_control = pd.read_csv(\"./Data/MIMIC_Files/control_group_pubs.csv\")\n",
    "        df_auths_control = pd.read_csv(\"./Data/MIMIC_Files/control_group_auths.csv\")\n",
    "        df_affils_control = pd.read_csv(\"./Data/MIMIC_Files/control_group_affils.csv\")\n",
    "\n",
    "    return (\n",
    "        df_pubs_compare,\n",
    "        df_auths_compare,\n",
    "        df_affils_compare,\n",
    "        df_pubs_control,\n",
    "        df_auths_control,\n",
    "        df_affils_control,\n",
    "    )"
   ]
  },
  {
   "cell_type": "code",
   "execution_count": 242,
   "metadata": {},
   "outputs": [],
   "source": [
    "(\n",
    "    df_pubs_compare,\n",
    "    df_auths_compare,\n",
    "    df_affils_compare,\n",
    "    df_pubs_control,\n",
    "    df_auths_control,\n",
    "    df_affils_control,\n",
    ") = get_data()"
   ]
  },
  {
   "cell_type": "code",
   "execution_count": 243,
   "metadata": {},
   "outputs": [
    {
     "name": "stdout",
     "output_type": "stream",
     "text": [
      "2307\n"
     ]
    }
   ],
   "source": [
    "test_compare_pubs = pd.read_csv(\"./Data/MIMIC_Files/mimic_pubs.csv\")\n",
    "print(len(test_compare_pubs))"
   ]
  },
  {
   "cell_type": "code",
   "execution_count": 244,
   "metadata": {},
   "outputs": [],
   "source": [
    "# compare_sample_papers = df_pubs_compare.sample(n=100, random_state=42)\n",
    "# control_sample_papers = df_pubs_control.sample(n=100, random_state =42)\n",
    "# compare_sample_papers.to_csv('100_compare_pubs_sample.csv')\n",
    "# control_sample_papers.to_csv('100_control_pubs_sample.csv')"
   ]
  },
  {
   "cell_type": "markdown",
   "metadata": {},
   "source": [
    "#### preprocessing pipeline\n",
    "need data _name_genderize_output (1).csv "
   ]
  },
  {
   "cell_type": "code",
   "execution_count": 245,
   "metadata": {},
   "outputs": [
    {
     "ename": "FileNotFoundError",
     "evalue": "[Errno 2] No such file or directory: '_name_genderize_output (1).csv'",
     "output_type": "error",
     "traceback": [
      "\u001b[0;31m---------------------------------------------------------------------------\u001b[0m",
      "\u001b[0;31mFileNotFoundError\u001b[0m                         Traceback (most recent call last)",
      "Cell \u001b[0;32mIn[245], line 1\u001b[0m\n\u001b[0;32m----> 1\u001b[0m df_gender_dictionary \u001b[38;5;241m=\u001b[39m \u001b[43mpd\u001b[49m\u001b[38;5;241;43m.\u001b[39;49m\u001b[43mread_csv\u001b[49m\u001b[43m(\u001b[49m\u001b[38;5;124;43m\"\u001b[39;49m\u001b[38;5;124;43m_name_genderize_output (1).csv\u001b[39;49m\u001b[38;5;124;43m\"\u001b[39;49m\u001b[43m)\u001b[49m \u001b[38;5;66;03m### check dataset \u001b[39;00m\n\u001b[1;32m      2\u001b[0m df_gender_dictionary\u001b[38;5;241m.\u001b[39mdrop_duplicates(\u001b[38;5;124m\"\u001b[39m\u001b[38;5;124mga_first_name\u001b[39m\u001b[38;5;124m\"\u001b[39m, inplace\u001b[38;5;241m=\u001b[39m\u001b[38;5;28;01mTrue\u001b[39;00m)\n\u001b[1;32m      3\u001b[0m df_gender_dictionary\u001b[38;5;241m.\u001b[39mset_index(\u001b[38;5;124m\"\u001b[39m\u001b[38;5;124mga_first_name\u001b[39m\u001b[38;5;124m\"\u001b[39m, inplace\u001b[38;5;241m=\u001b[39m\u001b[38;5;28;01mTrue\u001b[39;00m)\n",
      "File \u001b[0;32m~/anaconda3/envs/py311/lib/python3.11/site-packages/pandas/io/parsers/readers.py:948\u001b[0m, in \u001b[0;36mread_csv\u001b[0;34m(filepath_or_buffer, sep, delimiter, header, names, index_col, usecols, dtype, engine, converters, true_values, false_values, skipinitialspace, skiprows, skipfooter, nrows, na_values, keep_default_na, na_filter, verbose, skip_blank_lines, parse_dates, infer_datetime_format, keep_date_col, date_parser, date_format, dayfirst, cache_dates, iterator, chunksize, compression, thousands, decimal, lineterminator, quotechar, quoting, doublequote, escapechar, comment, encoding, encoding_errors, dialect, on_bad_lines, delim_whitespace, low_memory, memory_map, float_precision, storage_options, dtype_backend)\u001b[0m\n\u001b[1;32m    935\u001b[0m kwds_defaults \u001b[38;5;241m=\u001b[39m _refine_defaults_read(\n\u001b[1;32m    936\u001b[0m     dialect,\n\u001b[1;32m    937\u001b[0m     delimiter,\n\u001b[0;32m   (...)\u001b[0m\n\u001b[1;32m    944\u001b[0m     dtype_backend\u001b[38;5;241m=\u001b[39mdtype_backend,\n\u001b[1;32m    945\u001b[0m )\n\u001b[1;32m    946\u001b[0m kwds\u001b[38;5;241m.\u001b[39mupdate(kwds_defaults)\n\u001b[0;32m--> 948\u001b[0m \u001b[38;5;28;01mreturn\u001b[39;00m \u001b[43m_read\u001b[49m\u001b[43m(\u001b[49m\u001b[43mfilepath_or_buffer\u001b[49m\u001b[43m,\u001b[49m\u001b[43m \u001b[49m\u001b[43mkwds\u001b[49m\u001b[43m)\u001b[49m\n",
      "File \u001b[0;32m~/anaconda3/envs/py311/lib/python3.11/site-packages/pandas/io/parsers/readers.py:611\u001b[0m, in \u001b[0;36m_read\u001b[0;34m(filepath_or_buffer, kwds)\u001b[0m\n\u001b[1;32m    608\u001b[0m _validate_names(kwds\u001b[38;5;241m.\u001b[39mget(\u001b[38;5;124m\"\u001b[39m\u001b[38;5;124mnames\u001b[39m\u001b[38;5;124m\"\u001b[39m, \u001b[38;5;28;01mNone\u001b[39;00m))\n\u001b[1;32m    610\u001b[0m \u001b[38;5;66;03m# Create the parser.\u001b[39;00m\n\u001b[0;32m--> 611\u001b[0m parser \u001b[38;5;241m=\u001b[39m \u001b[43mTextFileReader\u001b[49m\u001b[43m(\u001b[49m\u001b[43mfilepath_or_buffer\u001b[49m\u001b[43m,\u001b[49m\u001b[43m \u001b[49m\u001b[38;5;241;43m*\u001b[39;49m\u001b[38;5;241;43m*\u001b[39;49m\u001b[43mkwds\u001b[49m\u001b[43m)\u001b[49m\n\u001b[1;32m    613\u001b[0m \u001b[38;5;28;01mif\u001b[39;00m chunksize \u001b[38;5;129;01mor\u001b[39;00m iterator:\n\u001b[1;32m    614\u001b[0m     \u001b[38;5;28;01mreturn\u001b[39;00m parser\n",
      "File \u001b[0;32m~/anaconda3/envs/py311/lib/python3.11/site-packages/pandas/io/parsers/readers.py:1448\u001b[0m, in \u001b[0;36mTextFileReader.__init__\u001b[0;34m(self, f, engine, **kwds)\u001b[0m\n\u001b[1;32m   1445\u001b[0m     \u001b[38;5;28mself\u001b[39m\u001b[38;5;241m.\u001b[39moptions[\u001b[38;5;124m\"\u001b[39m\u001b[38;5;124mhas_index_names\u001b[39m\u001b[38;5;124m\"\u001b[39m] \u001b[38;5;241m=\u001b[39m kwds[\u001b[38;5;124m\"\u001b[39m\u001b[38;5;124mhas_index_names\u001b[39m\u001b[38;5;124m\"\u001b[39m]\n\u001b[1;32m   1447\u001b[0m \u001b[38;5;28mself\u001b[39m\u001b[38;5;241m.\u001b[39mhandles: IOHandles \u001b[38;5;241m|\u001b[39m \u001b[38;5;28;01mNone\u001b[39;00m \u001b[38;5;241m=\u001b[39m \u001b[38;5;28;01mNone\u001b[39;00m\n\u001b[0;32m-> 1448\u001b[0m \u001b[38;5;28mself\u001b[39m\u001b[38;5;241m.\u001b[39m_engine \u001b[38;5;241m=\u001b[39m \u001b[38;5;28;43mself\u001b[39;49m\u001b[38;5;241;43m.\u001b[39;49m\u001b[43m_make_engine\u001b[49m\u001b[43m(\u001b[49m\u001b[43mf\u001b[49m\u001b[43m,\u001b[49m\u001b[43m \u001b[49m\u001b[38;5;28;43mself\u001b[39;49m\u001b[38;5;241;43m.\u001b[39;49m\u001b[43mengine\u001b[49m\u001b[43m)\u001b[49m\n",
      "File \u001b[0;32m~/anaconda3/envs/py311/lib/python3.11/site-packages/pandas/io/parsers/readers.py:1705\u001b[0m, in \u001b[0;36mTextFileReader._make_engine\u001b[0;34m(self, f, engine)\u001b[0m\n\u001b[1;32m   1703\u001b[0m     \u001b[38;5;28;01mif\u001b[39;00m \u001b[38;5;124m\"\u001b[39m\u001b[38;5;124mb\u001b[39m\u001b[38;5;124m\"\u001b[39m \u001b[38;5;129;01mnot\u001b[39;00m \u001b[38;5;129;01min\u001b[39;00m mode:\n\u001b[1;32m   1704\u001b[0m         mode \u001b[38;5;241m+\u001b[39m\u001b[38;5;241m=\u001b[39m \u001b[38;5;124m\"\u001b[39m\u001b[38;5;124mb\u001b[39m\u001b[38;5;124m\"\u001b[39m\n\u001b[0;32m-> 1705\u001b[0m \u001b[38;5;28mself\u001b[39m\u001b[38;5;241m.\u001b[39mhandles \u001b[38;5;241m=\u001b[39m \u001b[43mget_handle\u001b[49m\u001b[43m(\u001b[49m\n\u001b[1;32m   1706\u001b[0m \u001b[43m    \u001b[49m\u001b[43mf\u001b[49m\u001b[43m,\u001b[49m\n\u001b[1;32m   1707\u001b[0m \u001b[43m    \u001b[49m\u001b[43mmode\u001b[49m\u001b[43m,\u001b[49m\n\u001b[1;32m   1708\u001b[0m \u001b[43m    \u001b[49m\u001b[43mencoding\u001b[49m\u001b[38;5;241;43m=\u001b[39;49m\u001b[38;5;28;43mself\u001b[39;49m\u001b[38;5;241;43m.\u001b[39;49m\u001b[43moptions\u001b[49m\u001b[38;5;241;43m.\u001b[39;49m\u001b[43mget\u001b[49m\u001b[43m(\u001b[49m\u001b[38;5;124;43m\"\u001b[39;49m\u001b[38;5;124;43mencoding\u001b[39;49m\u001b[38;5;124;43m\"\u001b[39;49m\u001b[43m,\u001b[49m\u001b[43m \u001b[49m\u001b[38;5;28;43;01mNone\u001b[39;49;00m\u001b[43m)\u001b[49m\u001b[43m,\u001b[49m\n\u001b[1;32m   1709\u001b[0m \u001b[43m    \u001b[49m\u001b[43mcompression\u001b[49m\u001b[38;5;241;43m=\u001b[39;49m\u001b[38;5;28;43mself\u001b[39;49m\u001b[38;5;241;43m.\u001b[39;49m\u001b[43moptions\u001b[49m\u001b[38;5;241;43m.\u001b[39;49m\u001b[43mget\u001b[49m\u001b[43m(\u001b[49m\u001b[38;5;124;43m\"\u001b[39;49m\u001b[38;5;124;43mcompression\u001b[39;49m\u001b[38;5;124;43m\"\u001b[39;49m\u001b[43m,\u001b[49m\u001b[43m \u001b[49m\u001b[38;5;28;43;01mNone\u001b[39;49;00m\u001b[43m)\u001b[49m\u001b[43m,\u001b[49m\n\u001b[1;32m   1710\u001b[0m \u001b[43m    \u001b[49m\u001b[43mmemory_map\u001b[49m\u001b[38;5;241;43m=\u001b[39;49m\u001b[38;5;28;43mself\u001b[39;49m\u001b[38;5;241;43m.\u001b[39;49m\u001b[43moptions\u001b[49m\u001b[38;5;241;43m.\u001b[39;49m\u001b[43mget\u001b[49m\u001b[43m(\u001b[49m\u001b[38;5;124;43m\"\u001b[39;49m\u001b[38;5;124;43mmemory_map\u001b[39;49m\u001b[38;5;124;43m\"\u001b[39;49m\u001b[43m,\u001b[49m\u001b[43m \u001b[49m\u001b[38;5;28;43;01mFalse\u001b[39;49;00m\u001b[43m)\u001b[49m\u001b[43m,\u001b[49m\n\u001b[1;32m   1711\u001b[0m \u001b[43m    \u001b[49m\u001b[43mis_text\u001b[49m\u001b[38;5;241;43m=\u001b[39;49m\u001b[43mis_text\u001b[49m\u001b[43m,\u001b[49m\n\u001b[1;32m   1712\u001b[0m \u001b[43m    \u001b[49m\u001b[43merrors\u001b[49m\u001b[38;5;241;43m=\u001b[39;49m\u001b[38;5;28;43mself\u001b[39;49m\u001b[38;5;241;43m.\u001b[39;49m\u001b[43moptions\u001b[49m\u001b[38;5;241;43m.\u001b[39;49m\u001b[43mget\u001b[49m\u001b[43m(\u001b[49m\u001b[38;5;124;43m\"\u001b[39;49m\u001b[38;5;124;43mencoding_errors\u001b[39;49m\u001b[38;5;124;43m\"\u001b[39;49m\u001b[43m,\u001b[49m\u001b[43m \u001b[49m\u001b[38;5;124;43m\"\u001b[39;49m\u001b[38;5;124;43mstrict\u001b[39;49m\u001b[38;5;124;43m\"\u001b[39;49m\u001b[43m)\u001b[49m\u001b[43m,\u001b[49m\n\u001b[1;32m   1713\u001b[0m \u001b[43m    \u001b[49m\u001b[43mstorage_options\u001b[49m\u001b[38;5;241;43m=\u001b[39;49m\u001b[38;5;28;43mself\u001b[39;49m\u001b[38;5;241;43m.\u001b[39;49m\u001b[43moptions\u001b[49m\u001b[38;5;241;43m.\u001b[39;49m\u001b[43mget\u001b[49m\u001b[43m(\u001b[49m\u001b[38;5;124;43m\"\u001b[39;49m\u001b[38;5;124;43mstorage_options\u001b[39;49m\u001b[38;5;124;43m\"\u001b[39;49m\u001b[43m,\u001b[49m\u001b[43m \u001b[49m\u001b[38;5;28;43;01mNone\u001b[39;49;00m\u001b[43m)\u001b[49m\u001b[43m,\u001b[49m\n\u001b[1;32m   1714\u001b[0m \u001b[43m\u001b[49m\u001b[43m)\u001b[49m\n\u001b[1;32m   1715\u001b[0m \u001b[38;5;28;01massert\u001b[39;00m \u001b[38;5;28mself\u001b[39m\u001b[38;5;241m.\u001b[39mhandles \u001b[38;5;129;01mis\u001b[39;00m \u001b[38;5;129;01mnot\u001b[39;00m \u001b[38;5;28;01mNone\u001b[39;00m\n\u001b[1;32m   1716\u001b[0m f \u001b[38;5;241m=\u001b[39m \u001b[38;5;28mself\u001b[39m\u001b[38;5;241m.\u001b[39mhandles\u001b[38;5;241m.\u001b[39mhandle\n",
      "File \u001b[0;32m~/anaconda3/envs/py311/lib/python3.11/site-packages/pandas/io/common.py:863\u001b[0m, in \u001b[0;36mget_handle\u001b[0;34m(path_or_buf, mode, encoding, compression, memory_map, is_text, errors, storage_options)\u001b[0m\n\u001b[1;32m    858\u001b[0m \u001b[38;5;28;01melif\u001b[39;00m \u001b[38;5;28misinstance\u001b[39m(handle, \u001b[38;5;28mstr\u001b[39m):\n\u001b[1;32m    859\u001b[0m     \u001b[38;5;66;03m# Check whether the filename is to be opened in binary mode.\u001b[39;00m\n\u001b[1;32m    860\u001b[0m     \u001b[38;5;66;03m# Binary mode does not support 'encoding' and 'newline'.\u001b[39;00m\n\u001b[1;32m    861\u001b[0m     \u001b[38;5;28;01mif\u001b[39;00m ioargs\u001b[38;5;241m.\u001b[39mencoding \u001b[38;5;129;01mand\u001b[39;00m \u001b[38;5;124m\"\u001b[39m\u001b[38;5;124mb\u001b[39m\u001b[38;5;124m\"\u001b[39m \u001b[38;5;129;01mnot\u001b[39;00m \u001b[38;5;129;01min\u001b[39;00m ioargs\u001b[38;5;241m.\u001b[39mmode:\n\u001b[1;32m    862\u001b[0m         \u001b[38;5;66;03m# Encoding\u001b[39;00m\n\u001b[0;32m--> 863\u001b[0m         handle \u001b[38;5;241m=\u001b[39m \u001b[38;5;28mopen\u001b[39m(\n\u001b[1;32m    864\u001b[0m             handle,\n\u001b[1;32m    865\u001b[0m             ioargs\u001b[38;5;241m.\u001b[39mmode,\n\u001b[1;32m    866\u001b[0m             encoding\u001b[38;5;241m=\u001b[39mioargs\u001b[38;5;241m.\u001b[39mencoding,\n\u001b[1;32m    867\u001b[0m             errors\u001b[38;5;241m=\u001b[39merrors,\n\u001b[1;32m    868\u001b[0m             newline\u001b[38;5;241m=\u001b[39m\u001b[38;5;124m\"\u001b[39m\u001b[38;5;124m\"\u001b[39m,\n\u001b[1;32m    869\u001b[0m         )\n\u001b[1;32m    870\u001b[0m     \u001b[38;5;28;01melse\u001b[39;00m:\n\u001b[1;32m    871\u001b[0m         \u001b[38;5;66;03m# Binary mode\u001b[39;00m\n\u001b[1;32m    872\u001b[0m         handle \u001b[38;5;241m=\u001b[39m \u001b[38;5;28mopen\u001b[39m(handle, ioargs\u001b[38;5;241m.\u001b[39mmode)\n",
      "\u001b[0;31mFileNotFoundError\u001b[0m: [Errno 2] No such file or directory: '_name_genderize_output (1).csv'"
     ]
    }
   ],
   "source": [
    "df_gender_dictionary = pd.read_csv(\"_name_genderize_output (1).csv\") ### check dataset \n",
    "df_gender_dictionary.drop_duplicates(\"ga_first_name\", inplace=True)\n",
    "df_gender_dictionary.set_index(\"ga_first_name\", inplace=True)\n",
    "\n",
    "\n",
    "CountryClass = pd.read_excel(\"CountryClassWordBank (1).xlsx\")\n",
    "CountryClass_2 = CountryClass.copy()\n",
    "CountryClass_2.set_index(\"Code\", inplace=True)\n",
    "missing_codes = []\n",
    "\n",
    "\n",
    "gender_dict = dict(zip(df_gender_dictionary.index, df_gender_dictionary.ga_gender))\n",
    "country_dict = dict(zip(CountryClass_2.index, CountryClass_2[\"Income group\"]))\n",
    "gender_map = {\"male\": 0, \"female\": 1, \"unknown\": np.nan}\n",
    "income_map = {\n",
    "    \"High income\": 4,\n",
    "    \"Upper middle income\": 3,\n",
    "    \"Lower middle income\": 2,\n",
    "    \"Low income\": 1,\n",
    "}\n",
    "\n",
    "\n",
    "def get_gender(name):\n",
    "    if pd.isna(name):\n",
    "        return np.nan\n",
    "    name = name.strip()\n",
    "    name = name.split(sep=\" \")[0]\n",
    "    if name in gender_dict:\n",
    "        return gender_dict[name]\n",
    "    else:\n",
    "        return np.nan\n",
    "\n",
    "\n",
    "def get_gender_ints(gender):\n",
    "    if gender in gender_map:\n",
    "        return gender_map[gender]\n",
    "    else:\n",
    "        return np.nan\n",
    "\n",
    "\n",
    "def get_country_income(country_code):\n",
    "    if pd.isna(country_code):\n",
    "        return np.nan\n",
    "    country_ISO3 = pycountry.countries.get(alpha_2=country_code)\n",
    "    if country_ISO3 is None:\n",
    "        missing_codes.append(country_code)\n",
    "        return np.nan\n",
    "    elif country_ISO3.alpha_3 in country_dict:\n",
    "        return country_dict[country_ISO3.alpha_3]\n",
    "    else:\n",
    "        missing_codes.append(country_code)\n",
    "        return np.nan\n",
    "\n",
    "\n",
    "def map_country_income(income_group):\n",
    "    if income_group in income_map:\n",
    "        return income_map[income_group]\n",
    "    else:\n",
    "        return np.nan\n",
    "\n",
    "\n",
    "def get_pub_year(pub_id, df_pubs):\n",
    "    return df_pubs.at[pub_id, \"year\"]\n",
    "\n",
    "\n",
    "def categorize_author_counts(num_authors):\n",
    "    if pd.isna(num_authors) or num_authors == 0:\n",
    "        return np.nan\n",
    "    if num_authors == 1:\n",
    "        return \"1\"\n",
    "    if num_authors == 2:\n",
    "        return \"2\"\n",
    "    if num_authors >= 3 and num_authors <= 5:\n",
    "        return \"3-5\"\n",
    "    if num_authors >= 6:\n",
    "        return \"6+\"\n",
    "    return np.nan\n",
    "\n",
    "\n",
    "def pipeline(list_of_dataframes: list):\n",
    "    df_pubs, df_auths, df_affils = list_of_dataframes\n",
    "    df_pubs_copy = df_pubs.copy()\n",
    "    df_pubs_copy.set_index(\"id\", inplace=True)\n",
    "\n",
    "    df_auths[\"year\"] = df_auths[\"pub_id\"].apply(\n",
    "        lambda pid: get_pub_year(pid, df_pubs_copy)\n",
    "    )\n",
    "    df_affils[\"year\"] = df_affils[\"pub_id\"].apply(\n",
    "        lambda pid: get_pub_year(pid, df_pubs_copy)\n",
    "    )\n",
    "\n",
    "    df_auths[\"first_name\"] = df_auths[\"first_name\"].str.title()\n",
    "    df_affils[\"first_name\"] = df_affils[\"first_name\"].str.title()\n",
    "\n",
    "    df_auths[\"gender\"] = df_auths[\"first_name\"].map(get_gender)\n",
    "    df_affils[\"gender\"] = df_affils[\"first_name\"].map(get_gender)\n",
    "\n",
    "    df_auths[\"gender_ints\"] = df_auths[\"gender\"].map(get_gender_ints)\n",
    "    df_affils[\"gender_ints\"] = df_affils[\"gender\"].map(get_gender_ints)\n",
    "\n",
    "    df_pubs[\"author_count_categories\"] = df_pubs[\"authors_count\"].apply(\n",
    "        categorize_author_counts\n",
    "    )\n",
    "\n",
    "    lfirstnames = dict.fromkeys(df_pubs.id, np.nan)\n",
    "    lgenders = dict.fromkeys(df_pubs.id, np.nan)\n",
    "    lpctfemale = dict.fromkeys(df_pubs.id, np.nan)\n",
    "    lffirst = dict.fromkeys(df_pubs.id, np.nan)\n",
    "    lflast = dict.fromkeys(df_pubs.id, np.nan)\n",
    "    lnfemale = dict.fromkeys(df_pubs.id, np.nan)\n",
    "    lnmale = dict.fromkeys(df_pubs.id, np.nan)\n",
    "    lnnan = dict.fromkeys(df_pubs.id, np.nan)\n",
    "\n",
    "    for pub_id, df_info in df_auths.groupby(\"pub_id\"):\n",
    "        lfirstnames[pub_id] = df_info[\"first_name\"]\n",
    "        lgenders[pub_id] = df_info[\"gender_ints\"]\n",
    "\n",
    "        genders = df_info[\"gender_ints\"]\n",
    "\n",
    "        lffirst[pub_id] = genders.iloc[0]\n",
    "        lflast[pub_id] = genders.iloc[-1]\n",
    "\n",
    "        num_female = (genders == 1).sum()\n",
    "        num_male = (genders == 0).sum()\n",
    "        num_missing = genders.isna().sum()\n",
    "        lnfemale[pub_id] = num_female  \n",
    "        lnmale[pub_id] = num_male \n",
    "        lnnan[pub_id] = num_missing  \n",
    "        total = num_male + num_female\n",
    "        if total == 0:\n",
    "            lpctfemale[pub_id] = np.nan\n",
    "        else:\n",
    "            lpctfemale[pub_id] = num_female / total\n",
    "\n",
    "    df_pubs[\"first_names\"] = lfirstnames.values()\n",
    "    df_pubs[\"genders\"] = lgenders.values()\n",
    "    df_pubs[\"num_female\"] = lnfemale.values()\n",
    "    df_pubs[\"num_male\"] = lnmale.values()\n",
    "    df_pubs[\"num_na\"] = lnnan.values()\n",
    "    df_pubs[\"pct_female_real\"] = lpctfemale.values()\n",
    "    df_pubs[\"female_first\"] = lffirst.values()\n",
    "    df_pubs[\"female_last\"] = lflast.values()\n",
    "\n",
    "    cols = [\"num_female\", \"num_male\", \"num_na\"]\n",
    "    total = df_pubs[cols[0]] + df_pubs[cols[1]] + df_pubs[cols[2]]\n",
    "    df_pubs[\"pct_female_pessimistic\"] = df_pubs[cols[0]] / total\n",
    "    df_pubs[\"pct_female_optimistic\"] = (df_pubs[cols[0]] + df_pubs[cols[2]]) / total\n",
    "    df_pubs[\"female_first_pessimistic\"] = df_pubs[\"female_first\"].apply(\n",
    "        lambda x: 0 if pd.isna(x) else x\n",
    "    )\n",
    "    df_pubs[\"female_first_optimistic\"] = df_pubs[\"female_first\"].apply(\n",
    "        lambda x: 1 if pd.isna(x) else x\n",
    "    )\n",
    "    df_pubs[\"female_last_pessimistic\"] = df_pubs[\"female_last\"].apply(\n",
    "        lambda x: 0 if pd.isna(x) else x\n",
    "    )\n",
    "    df_pubs[\"female_last_optimistic\"] = df_pubs[\"female_last\"].apply(\n",
    "        lambda x: 1 if pd.isna(x) else x\n",
    "    )\n",
    "\n",
    "    df_affils[\"income_class\"] = df_affils[\"aff_country_code\"].apply(get_country_income)\n",
    "    df_affils[\"income_class_num\"] = df_affils[\"income_class\"].map(map_country_income)\n",
    "\n",
    "    return [df_pubs, df_auths, df_affils]"
   ]
  },
  {
   "cell_type": "code",
   "execution_count": 356,
   "metadata": {},
   "outputs": [
    {
     "data": {
      "text/plain": [
       "Index(['Unnamed: 0', 'id', 'title', 'abstract', 'authors', 'authors_count',\n",
       "       'category_for', 'category_hra', 'category_hrcs_hc', 'category_hrcs_rac',\n",
       "       'category_rcdc', 'category_sdg', 'category_uoa', 'concepts_scores',\n",
       "       'doi', 'open_access', 'publisher', 'times_cited', 'type', 'year',\n",
       "       'journal.id', 'journal.title', 'editors', 'funder_countries', 'funders',\n",
       "       'mesh_terms', 'pages', 'pmid', 'research_org_cities',\n",
       "       'research_org_countries', 'research_org_country_names',\n",
       "       'research_org_names', 'research_orgs', 'researchers', 'volume', 'issue',\n",
       "       'supporting_grant_ids', 'category_bra', 'research_org_state_names',\n",
       "       'research_org_state_codes', 'category_icrp_ct', 'category_icrp_cso',\n",
       "       'field_citation_ratio', 'relative_citation_ratio',\n",
       "       'author_count_categories', 'first_names', 'genders', 'num_female',\n",
       "       'num_male', 'num_na', 'pct_female_real', 'female_first', 'female_last',\n",
       "       'pct_female_pessimistic', 'pct_female_optimistic',\n",
       "       'female_first_pessimistic', 'female_first_optimistic',\n",
       "       'female_last_pessimistic', 'female_last_optimistic'],\n",
       "      dtype='object')"
      ]
     },
     "execution_count": 356,
     "metadata": {},
     "output_type": "execute_result"
    }
   ],
   "source": [
    "df_pubs_compare.columns"
   ]
  },
  {
   "cell_type": "markdown",
   "metadata": {},
   "source": [
    "# 1. Gender Analysis"
   ]
  },
  {
   "cell_type": "code",
   "execution_count": null,
   "metadata": {},
   "outputs": [
    {
     "data": {
      "text/html": [
       "<div>\n",
       "<style scoped>\n",
       "    .dataframe tbody tr th:only-of-type {\n",
       "        vertical-align: middle;\n",
       "    }\n",
       "\n",
       "    .dataframe tbody tr th {\n",
       "        vertical-align: top;\n",
       "    }\n",
       "\n",
       "    .dataframe thead th {\n",
       "        text-align: right;\n",
       "    }\n",
       "</style>\n",
       "<table border=\"1\" class=\"dataframe\">\n",
       "  <thead>\n",
       "    <tr style=\"text-align: right;\">\n",
       "      <th></th>\n",
       "      <th>Unnamed: 0</th>\n",
       "      <th>affiliations</th>\n",
       "      <th>corresponding</th>\n",
       "      <th>current_organization_id</th>\n",
       "      <th>first_name</th>\n",
       "      <th>last_name</th>\n",
       "      <th>orcid</th>\n",
       "      <th>raw_affiliation</th>\n",
       "      <th>researcher_id</th>\n",
       "      <th>pub_id</th>\n",
       "      <th>year</th>\n",
       "      <th>gender</th>\n",
       "      <th>gender_ints</th>\n",
       "    </tr>\n",
       "  </thead>\n",
       "  <tbody>\n",
       "    <tr>\n",
       "      <th>0</th>\n",
       "      <td>0</td>\n",
       "      <td>[]</td>\n",
       "      <td>NaN</td>\n",
       "      <td>NaN</td>\n",
       "      <td>Feng</td>\n",
       "      <td>Shen</td>\n",
       "      <td>[]</td>\n",
       "      <td>[]</td>\n",
       "      <td>NaN</td>\n",
       "      <td>pub.1154752616</td>\n",
       "      <td>2022</td>\n",
       "      <td>male</td>\n",
       "      <td>0.0</td>\n",
       "    </tr>\n",
       "    <tr>\n",
       "      <th>1</th>\n",
       "      <td>1</td>\n",
       "      <td>[]</td>\n",
       "      <td>NaN</td>\n",
       "      <td>NaN</td>\n",
       "      <td>Qimin</td>\n",
       "      <td>CHEN</td>\n",
       "      <td>[]</td>\n",
       "      <td>[]</td>\n",
       "      <td>NaN</td>\n",
       "      <td>pub.1154752616</td>\n",
       "      <td>2022</td>\n",
       "      <td>female</td>\n",
       "      <td>1.0</td>\n",
       "    </tr>\n",
       "    <tr>\n",
       "      <th>2</th>\n",
       "      <td>2</td>\n",
       "      <td>[]</td>\n",
       "      <td>NaN</td>\n",
       "      <td>NaN</td>\n",
       "      <td>Wei</td>\n",
       "      <td>Li</td>\n",
       "      <td>[]</td>\n",
       "      <td>[]</td>\n",
       "      <td>NaN</td>\n",
       "      <td>pub.1154752616</td>\n",
       "      <td>2022</td>\n",
       "      <td>male</td>\n",
       "      <td>0.0</td>\n",
       "    </tr>\n",
       "    <tr>\n",
       "      <th>3</th>\n",
       "      <td>3</td>\n",
       "      <td>[]</td>\n",
       "      <td>NaN</td>\n",
       "      <td>NaN</td>\n",
       "      <td>Ying</td>\n",
       "      <td>Wang</td>\n",
       "      <td>[]</td>\n",
       "      <td>[]</td>\n",
       "      <td>NaN</td>\n",
       "      <td>pub.1154752616</td>\n",
       "      <td>2022</td>\n",
       "      <td>female</td>\n",
       "      <td>1.0</td>\n",
       "    </tr>\n",
       "    <tr>\n",
       "      <th>4</th>\n",
       "      <td>4</td>\n",
       "      <td>[]</td>\n",
       "      <td>NaN</td>\n",
       "      <td>NaN</td>\n",
       "      <td>Xianjun</td>\n",
       "      <td>CHEN</td>\n",
       "      <td>[]</td>\n",
       "      <td>[]</td>\n",
       "      <td>NaN</td>\n",
       "      <td>pub.1154752616</td>\n",
       "      <td>2022</td>\n",
       "      <td>male</td>\n",
       "      <td>0.0</td>\n",
       "    </tr>\n",
       "  </tbody>\n",
       "</table>\n",
       "</div>"
      ],
      "text/plain": [
       "   Unnamed: 0 affiliations corresponding current_organization_id first_name  \\\n",
       "0           0           []           NaN                     NaN       Feng   \n",
       "1           1           []           NaN                     NaN      Qimin   \n",
       "2           2           []           NaN                     NaN        Wei   \n",
       "3           3           []           NaN                     NaN       Ying   \n",
       "4           4           []           NaN                     NaN    Xianjun   \n",
       "\n",
       "  last_name orcid raw_affiliation researcher_id          pub_id  year  gender  \\\n",
       "0      Shen    []              []           NaN  pub.1154752616  2022    male   \n",
       "1      CHEN    []              []           NaN  pub.1154752616  2022  female   \n",
       "2        Li    []              []           NaN  pub.1154752616  2022    male   \n",
       "3      Wang    []              []           NaN  pub.1154752616  2022  female   \n",
       "4      CHEN    []              []           NaN  pub.1154752616  2022    male   \n",
       "\n",
       "   gender_ints  \n",
       "0          0.0  \n",
       "1          1.0  \n",
       "2          0.0  \n",
       "3          1.0  \n",
       "4          0.0  "
      ]
     },
     "execution_count": 38,
     "metadata": {},
     "output_type": "execute_result"
    }
   ],
   "source": [
    "df_auths_compare.head()"
   ]
  },
  {
   "cell_type": "code",
   "execution_count": null,
   "metadata": {},
   "outputs": [],
   "source": [
    "# Filter the DataFrame to show only non-duplicated records based on 'first_name' and 'last_name'.\n",
    "non_duplicated_authors_compare = df_auths_compare[~df_auths_compare[['first_name', 'last_name','researcher_id']].duplicated()]\n",
    "non_duplicated_authors_control = df_auths_control[~df_auths_control[['first_name', 'last_name','researcher_id']].duplicated()]\n"
   ]
  },
  {
   "cell_type": "code",
   "execution_count": null,
   "metadata": {},
   "outputs": [
    {
     "name": "stdout",
     "output_type": "stream",
     "text": [
      "Compare distinct author names  9959\n",
      "Control distinct author names  17999\n",
      "Compare distinct author names with gender not none  8758\n",
      "Control distinct author names with gender not none 15285\n",
      "Compare distinct author names -female 2438\n",
      "Control distinct author names -female 4710\n",
      "0.2783740580041105\n",
      "0.30814524043179586\n"
     ]
    }
   ],
   "source": [
    "print(\"Compare distinct author names \",len(non_duplicated_authors_compare))\n",
    "print(\"Control distinct author names \",len(non_duplicated_authors_control))\n",
    "print(\"Compare distinct author names with gender not none \",len(non_duplicated_authors_compare[non_duplicated_authors_compare.gender.notna()]))\n",
    "print(\"Control distinct author names with gender not none\",len(non_duplicated_authors_control[non_duplicated_authors_control.gender.notna()]))\n",
    "print(\"Compare distinct author names -female\",len(non_duplicated_authors_compare[non_duplicated_authors_compare.gender=='female']))\n",
    "print(\"Control distinct author names -female\",len(non_duplicated_authors_control[(non_duplicated_authors_control.gender=='female')]))\n",
    "print(2438/8758)\n",
    "print(4710/15285)\n",
    "\n"
   ]
  },
  {
   "cell_type": "code",
   "execution_count": null,
   "metadata": {},
   "outputs": [
    {
     "name": "stdout",
     "output_type": "stream",
     "text": [
      "2197\n",
      "2910\n"
     ]
    }
   ],
   "source": [
    "print(len(df_auths_compare.pub_id.unique()))\n",
    "print(len(df_auths_control.pub_id.unique()))"
   ]
  },
  {
   "cell_type": "code",
   "execution_count": null,
   "metadata": {},
   "outputs": [
    {
     "name": "stdout",
     "output_type": "stream",
     "text": [
      "Compare\n",
      "Total numbers of publications:   2307\n",
      "Papers w/ Missing Publications:   0\n",
      "Papers w/ Missing Authors:        110\n",
      "Papers w/ Missing Affiliations:   635\n",
      "\n",
      "Control\n",
      "Total numbers of publications:   2912\n",
      "Papers w/ Missing Publications:   0\n",
      "Papers w/ Missing Authors:        2\n",
      "Papers w/ Missing Affiliations:   35\n"
     ]
    }
   ],
   "source": [
    "def get_missingness(df_pubs, df_auths, df_affils):\n",
    "    df_completeness = pd.DataFrame()\n",
    "    df_completeness[\"id\"] = df_pubs[\"id\"]\n",
    "\n",
    "    df_completeness[\"Publications\"] = True\n",
    "    df_completeness[\"Authors\"] = df_pubs.id.isin(df_auths.pub_id)\n",
    "    df_completeness[\"Affiliations\"] = df_pubs.id.isin(df_affils.pub_id)\n",
    "\n",
    "    df_completeness.head()\n",
    "    print(f\"Total numbers of publications:   {len(df_completeness)}\")\n",
    "    print(f\"Papers w/ Missing Publications:   0\")\n",
    "    print(\n",
    "        f\"Papers w/ Missing Authors:        {df_completeness.Authors.value_counts()[False]}\"\n",
    "    )\n",
    "    print(\n",
    "        f\"Papers w/ Missing Affiliations:   {df_completeness.Affiliations.value_counts()[False]}\"\n",
    "    )\n",
    "\n",
    "    return df_completeness  # df_completeness\n",
    "\n",
    "\n",
    "print(\"Compare\")\n",
    "df_complete_compare = get_missingness(df_pubs_compare, df_auths_compare, df_affils_compare)\n",
    "print()\n",
    "print(\"Control\")\n",
    "df_complete_control = get_missingness(df_pubs_control, df_auths_control, df_affils_control)"
   ]
  },
  {
   "cell_type": "code",
   "execution_count": null,
   "metadata": {},
   "outputs": [
    {
     "data": {
      "text/plain": [
       "Authors\n",
       "True     2197\n",
       "False     110\n",
       "Name: count, dtype: int64"
      ]
     },
     "execution_count": 45,
     "metadata": {},
     "output_type": "execute_result"
    }
   ],
   "source": [
    "df_complete_compare.Authors.value_counts()"
   ]
  },
  {
   "cell_type": "code",
   "execution_count": null,
   "metadata": {},
   "outputs": [
    {
     "name": "stdout",
     "output_type": "stream",
     "text": [
      "Compare missing Affiliation percentage 0.2752492414390984\n",
      "Control missing Affiliation percentage 0.01201923076923077\n"
     ]
    }
   ],
   "source": [
    "print(\"Compare missing Affiliation percentage\",635/2307)\n",
    "print(\"Control missing Affiliation percentage\",35/2912)\n",
    "\n"
   ]
  },
  {
   "cell_type": "code",
   "execution_count": null,
   "metadata": {},
   "outputs": [
    {
     "name": "stdout",
     "output_type": "stream",
     "text": [
      "Compare group authors: 13879. Pct: 0.40324830030797837\n",
      "Control group authors: 20539. Pct: 0.5967516996920216\n",
      "Total:                 34418\n"
     ]
    }
   ],
   "source": [
    "num_compare_auths = df_auths_compare.shape[0]\n",
    "num_control_auths = df_auths_control.shape[0]\n",
    "num_total_auths = num_compare_auths + num_control_auths\n",
    "\n",
    "print(\n",
    "    f\"Compare group authors: {num_compare_auths}. Pct: {num_compare_auths / num_total_auths}\"\n",
    ")\n",
    "print(\n",
    "    f\"Control group authors: {num_control_auths}. Pct: {num_control_auths / num_total_auths}\"\n",
    ")\n",
    "print(f\"Total:                 {num_total_auths}\")"
   ]
  },
  {
   "cell_type": "code",
   "execution_count": null,
   "metadata": {},
   "outputs": [
    {
     "name": "stdout",
     "output_type": "stream",
     "text": [
      "0    0     0.0\\n1     1.0\\n2     0.0\\n3     1.0\\n4 ...\n",
      "1    11    0.0\\n12    1.0\\n13    1.0\\n14    1.0\\n15...\n",
      "2    18    1.0\\n19    NaN\\nName: gender_ints, dtype...\n",
      "3    20    0.0\\n21    0.0\\n22    0.0\\n23    1.0\\nNa...\n",
      "4                                                  NaN\n",
      "Name: genders, dtype: object\n"
     ]
    }
   ],
   "source": [
    "print(df_pubs_compare['genders'].head())"
   ]
  },
  {
   "cell_type": "code",
   "execution_count": null,
   "metadata": {},
   "outputs": [
    {
     "data": {
      "text/plain": [
       "\"[{'first_name': 'Xiaxuan', 'id': 'ur.014116573320.23', 'last_name': 'Huang', 'research_orgs': ['grid.412601.0']}, {'first_name': 'Shi-Qi', 'id': 'ur.016241001520.36', 'last_name': 'Yuan', 'orcid_id': ['0000-0002-2794-2546'], 'research_orgs': ['grid.484195.5', 'grid.413107.0', 'grid.412601.0']}, {'first_name': 'Yitong', 'id': 'ur.013553641416.27', 'last_name': 'Ling', 'research_orgs': ['grid.412601.0']}, {'first_name': 'Shanyuan', 'id': 'ur.014351222016.81', 'last_name': 'Tan', 'research_orgs': ['grid.412601.0']}, {'first_name': 'Tao', 'id': 'ur.014227217615.79', 'last_name': 'Huang', 'orcid_id': ['0000-0002-7645-4290'], 'research_orgs': ['grid.256922.8', 'grid.412601.0']}, {'first_name': 'Hongtao', 'id': 'ur.012755055514.47', 'last_name': 'Cheng', 'orcid_id': ['0000-0003-3739-9097'], 'research_orgs': ['grid.258164.c']}, {'first_name': 'Jun', 'id': 'ur.012157101103.38', 'last_name': 'Lyu', 'orcid_id': ['0000-0002-2237-8771'], 'research_orgs': ['grid.440588.5', 'grid.452438.c', 'grid.258164.c', 'grid.449637.b', 'grid.43169.39', 'grid.412601.0', 'grid.256922.8', 'grid.484195.5']}]\""
      ]
     },
     "execution_count": 49,
     "metadata": {},
     "output_type": "execute_result"
    }
   ],
   "source": [
    "df_pubs_compare.columns\n",
    "df_pubs_compare.researchers[1]"
   ]
  },
  {
   "cell_type": "code",
   "execution_count": null,
   "metadata": {},
   "outputs": [
    {
     "data": {
      "text/plain": [
       "0       0     0.0\\n1     1.0\\n2     0.0\\n3     1.0\\n4 ...\n",
       "1       11    0.0\\n12    1.0\\n13    1.0\\n14    1.0\\n15...\n",
       "2       18    1.0\\n19    NaN\\nName: gender_ints, dtype...\n",
       "3       20    0.0\\n21    0.0\\n22    0.0\\n23    1.0\\nNa...\n",
       "5       24    1.0\\n25    1.0\\n26    0.0\\n27    NaN\\n28...\n",
       "                              ...                        \n",
       "2302    13865   NaN\\n13866   NaN\\n13867   NaN\\n13868  ...\n",
       "2303    13870    0.0\\n13871    0.0\\nName: gender_ints,...\n",
       "2304    13872    0.0\\n13873    NaN\\n13874    0.0\\nName...\n",
       "2305    13875   NaN\\n13876   NaN\\n13877   NaN\\nName: g...\n",
       "2306      13878    0.0\\nName: gender_ints, dtype: float64\n",
       "Name: genders, Length: 2197, dtype: object"
      ]
     },
     "execution_count": 50,
     "metadata": {},
     "output_type": "execute_result"
    }
   ],
   "source": [
    "df_pubs_compare[df_pubs_compare['genders'].notna()]['genders']"
   ]
  },
  {
   "cell_type": "code",
   "execution_count": null,
   "metadata": {},
   "outputs": [
    {
     "name": "stdout",
     "output_type": "stream",
     "text": [
      "MIMIC paper/gender not missing  2197\n",
      "Control paperw/gender not missing 2910\n"
     ]
    }
   ],
   "source": [
    "print(\"MIMIC paper/gender not missing \",len(df_pubs_compare)-df_pubs_compare['genders'].isna().sum())\n",
    "print(\"Control paperw/gender not missing\", len(df_pubs_control)-df_pubs_control['genders'].isna().sum())\n"
   ]
  },
  {
   "cell_type": "code",
   "execution_count": null,
   "metadata": {},
   "outputs": [
    {
     "name": "stdout",
     "output_type": "stream",
     "text": [
      "Compare group papers: 2307. Pct: 0.4420387047327074\n",
      "Control group papers: 2912. Pct: 0.5579612952672925\n",
      "Total:                5219\n"
     ]
    }
   ],
   "source": [
    "num_compare = df_pubs_compare.shape[0]\n",
    "num_control = df_pubs_control.shape[0]\n",
    "num_total = num_compare + num_control\n",
    "\n",
    "print(f\"Compare group papers: {num_compare}. Pct: {num_compare / num_total}\")\n",
    "print(f\"Control group papers: {num_control}. Pct: {num_control / num_total}\")\n",
    "print(f\"Total:                {num_total}\")"
   ]
  },
  {
   "cell_type": "code",
   "execution_count": null,
   "metadata": {},
   "outputs": [
    {
     "name": "stdout",
     "output_type": "stream",
     "text": [
      "Compare group authors: 13879. Pct: 0.40324830030797837\n",
      "Control group authors: 20539. Pct: 0.5967516996920216\n",
      "Total:                 34418\n"
     ]
    }
   ],
   "source": [
    "num_compare_auths = df_auths_compare.shape[0]\n",
    "num_control_auths = df_auths_control.shape[0]\n",
    "num_total_auths = num_compare_auths + num_control_auths\n",
    "\n",
    "print(\n",
    "    f\"Compare group authors: {num_compare_auths}. Pct: {num_compare_auths / num_total_auths}\"\n",
    ")\n",
    "print(\n",
    "    f\"Control group authors: {num_control_auths}. Pct: {num_control_auths / num_total_auths}\"\n",
    ")\n",
    "print(f\"Total:                 {num_total_auths}\")"
   ]
  },
  {
   "cell_type": "code",
   "execution_count": null,
   "metadata": {},
   "outputs": [
    {
     "name": "stdout",
     "output_type": "stream",
     "text": [
      "pct_female_real\n",
      "\n",
      "Compare:\n",
      "count    2118.000000\n",
      "mean        0.262372\n",
      "std         0.233256\n",
      "min         0.000000\n",
      "25%         0.000000\n",
      "50%         0.250000\n",
      "75%         0.400000\n",
      "max         1.000000\n",
      "Name: pct_female_real, dtype: float64\n",
      "\n",
      "Control:\n",
      "count    2666.000000\n",
      "mean        0.281781\n",
      "std         0.252491\n",
      "min         0.000000\n",
      "25%         0.000000\n",
      "50%         0.250000\n",
      "75%         0.444444\n",
      "max         1.000000\n",
      "Name: pct_female_real, dtype: float64\n",
      "\n",
      "female_first\n",
      "\n",
      "Compare:\n",
      "count    1939.000000\n",
      "mean        0.279010\n",
      "std         0.448628\n",
      "min         0.000000\n",
      "25%         0.000000\n",
      "50%         0.000000\n",
      "75%         1.000000\n",
      "max         1.000000\n",
      "Name: female_first, dtype: float64\n",
      "\n",
      "Control:\n",
      "count    2449.000000\n",
      "mean        0.308289\n",
      "std         0.461881\n",
      "min         0.000000\n",
      "25%         0.000000\n",
      "50%         0.000000\n",
      "75%         1.000000\n",
      "max         1.000000\n",
      "Name: female_first, dtype: float64\n",
      "\n",
      "female_last\n",
      "\n",
      "Compare:\n",
      "count    1948.000000\n",
      "mean        0.232546\n",
      "std         0.422564\n",
      "min         0.000000\n",
      "25%         0.000000\n",
      "50%         0.000000\n",
      "75%         0.000000\n",
      "max         1.000000\n",
      "Name: female_last, dtype: float64\n",
      "\n",
      "Control:\n",
      "count    2430.000000\n",
      "mean        0.213169\n",
      "std         0.409630\n",
      "min         0.000000\n",
      "25%         0.000000\n",
      "50%         0.000000\n",
      "75%         0.000000\n",
      "max         1.000000\n",
      "Name: female_last, dtype: float64\n",
      "\n",
      "pct_female_real\n",
      "\n",
      "Compare:\n",
      "count    1426.000000\n",
      "mean        0.261378\n",
      "std         0.230498\n",
      "min         0.000000\n",
      "25%         0.000000\n",
      "50%         0.250000\n",
      "75%         0.400000\n",
      "max         1.000000\n",
      "Name: pct_female_real, dtype: float64\n",
      "\n",
      "Control:\n",
      "count    1823.000000\n",
      "mean        0.290255\n",
      "std         0.252795\n",
      "min         0.000000\n",
      "25%         0.000000\n",
      "50%         0.250000\n",
      "75%         0.500000\n",
      "max         1.000000\n",
      "Name: pct_female_real, dtype: float64\n",
      "\n",
      "female_first\n",
      "\n",
      "Compare:\n",
      "count    1426.000000\n",
      "mean        0.281206\n",
      "std         0.449746\n",
      "min         0.000000\n",
      "25%         0.000000\n",
      "50%         0.000000\n",
      "75%         1.000000\n",
      "max         1.000000\n",
      "Name: female_first, dtype: float64\n",
      "\n",
      "Control:\n",
      "count    1823.000000\n",
      "mean        0.309380\n",
      "std         0.462365\n",
      "min         0.000000\n",
      "25%         0.000000\n",
      "50%         0.000000\n",
      "75%         1.000000\n",
      "max         1.000000\n",
      "Name: female_first, dtype: float64\n",
      "\n",
      "female_last\n",
      "\n",
      "Compare:\n",
      "count    1426.000000\n",
      "mean        0.235624\n",
      "std         0.424537\n",
      "min         0.000000\n",
      "25%         0.000000\n",
      "50%         0.000000\n",
      "75%         0.000000\n",
      "max         1.000000\n",
      "Name: female_last, dtype: float64\n",
      "\n",
      "Control:\n",
      "count    1823.000000\n",
      "mean        0.216676\n",
      "std         0.412093\n",
      "min         0.000000\n",
      "25%         0.000000\n",
      "50%         0.000000\n",
      "75%         0.000000\n",
      "max         1.000000\n",
      "Name: female_last, dtype: float64\n",
      "\n"
     ]
    }
   ],
   "source": [
    "t def process(df_pubs, df_auths, df_affils):\n",
    "    # Get rid of papers with missing genders\n",
    "    pubs = df_pubs[df_pubs.num_na == 0]\n",
    "    auths = df_auths[df_auths.pub_id.isin(pubs.id)]  \n",
    "    ##### what if the author has multiple pub_ids and cannot be catched to one pubid? \n",
    "    affils = df_affils[df_affils.pub_id.isin(pubs.id)]\n",
    "    return pubs, auths, affils\n",
    "\n",
    "\n",
    "def print_col(col):\n",
    "    print(col)\n",
    "    print()\n",
    "    print(\"Compare:\")\n",
    "    print(df_pubs_compare[col].describe())\n",
    "    print()\n",
    "    print(\"Control:\")\n",
    "    print(df_pubs_control[col].describe())\n",
    "    print()\n",
    "def print_col_processed(col):\n",
    "    print(col)\n",
    "    print()\n",
    "    print(\"Compare:\")\n",
    "    print(df_pubs_compare_processed[col].describe())\n",
    "    print()\n",
    "    print(\"Control:\")\n",
    "    print(df_pubs_control_processed[col].describe())\n",
    "    print()\n",
    "\n",
    "df_pubs_compare_processed, df_auths_compare_processed, df_affils_compare_processed = process(\n",
    "    df_pubs_compare, df_auths_compare, df_affils_compare\n",
    ")\n",
    "\n",
    "df_pubs_control_processed, df_auths_control_processed, df_affils_control_processed = process(\n",
    "    df_pubs_control, df_auths_control, df_affils_control\n",
    ")\n",
    "\n",
    "print_col(\"pct_female_real\")\n",
    "print_col(\"female_first\")\n",
    "print_col(\"female_last\")\n",
    "print_col_processed(\"pct_female_real\")\n",
    "print_col_processed(\"female_first\")\n",
    "print_col_processed(\"female_last\")"
   ]
  },
  {
   "cell_type": "code",
   "execution_count": null,
   "metadata": {},
   "outputs": [
    {
     "data": {
      "text/html": [
       "<div>\n",
       "<style scoped>\n",
       "    .dataframe tbody tr th:only-of-type {\n",
       "        vertical-align: middle;\n",
       "    }\n",
       "\n",
       "    .dataframe tbody tr th {\n",
       "        vertical-align: top;\n",
       "    }\n",
       "\n",
       "    .dataframe thead th {\n",
       "        text-align: right;\n",
       "    }\n",
       "</style>\n",
       "<table border=\"1\" class=\"dataframe\">\n",
       "  <thead>\n",
       "    <tr style=\"text-align: right;\">\n",
       "      <th></th>\n",
       "      <th>Unnamed: 0</th>\n",
       "      <th>aff_city</th>\n",
       "      <th>aff_city_id</th>\n",
       "      <th>aff_country</th>\n",
       "      <th>aff_country_code</th>\n",
       "      <th>aff_id</th>\n",
       "      <th>aff_name</th>\n",
       "      <th>aff_raw_affiliation</th>\n",
       "      <th>aff_state</th>\n",
       "      <th>aff_state_code</th>\n",
       "      <th>researcher_id</th>\n",
       "      <th>first_name</th>\n",
       "      <th>last_name</th>\n",
       "      <th>year</th>\n",
       "      <th>gender</th>\n",
       "      <th>gender_ints</th>\n",
       "      <th>income_class</th>\n",
       "      <th>income_class_num</th>\n",
       "    </tr>\n",
       "    <tr>\n",
       "      <th>pub_id</th>\n",
       "      <th></th>\n",
       "      <th></th>\n",
       "      <th></th>\n",
       "      <th></th>\n",
       "      <th></th>\n",
       "      <th></th>\n",
       "      <th></th>\n",
       "      <th></th>\n",
       "      <th></th>\n",
       "      <th></th>\n",
       "      <th></th>\n",
       "      <th></th>\n",
       "      <th></th>\n",
       "      <th></th>\n",
       "      <th></th>\n",
       "      <th></th>\n",
       "      <th></th>\n",
       "      <th></th>\n",
       "    </tr>\n",
       "  </thead>\n",
       "  <tbody>\n",
       "    <tr>\n",
       "      <th>pub.1001792778</th>\n",
       "      <td>3</td>\n",
       "      <td>3</td>\n",
       "      <td>3</td>\n",
       "      <td>3</td>\n",
       "      <td>3</td>\n",
       "      <td>3</td>\n",
       "      <td>3</td>\n",
       "      <td>3</td>\n",
       "      <td>3</td>\n",
       "      <td>3</td>\n",
       "      <td>2</td>\n",
       "      <td>3</td>\n",
       "      <td>3</td>\n",
       "      <td>3</td>\n",
       "      <td>3</td>\n",
       "      <td>3</td>\n",
       "      <td>3</td>\n",
       "      <td>3</td>\n",
       "    </tr>\n",
       "    <tr>\n",
       "      <th>pub.1003040860</th>\n",
       "      <td>1</td>\n",
       "      <td>1</td>\n",
       "      <td>1</td>\n",
       "      <td>1</td>\n",
       "      <td>1</td>\n",
       "      <td>1</td>\n",
       "      <td>1</td>\n",
       "      <td>1</td>\n",
       "      <td>1</td>\n",
       "      <td>1</td>\n",
       "      <td>1</td>\n",
       "      <td>1</td>\n",
       "      <td>1</td>\n",
       "      <td>1</td>\n",
       "      <td>1</td>\n",
       "      <td>1</td>\n",
       "      <td>1</td>\n",
       "      <td>1</td>\n",
       "    </tr>\n",
       "    <tr>\n",
       "      <th>pub.1006639384</th>\n",
       "      <td>3</td>\n",
       "      <td>3</td>\n",
       "      <td>3</td>\n",
       "      <td>3</td>\n",
       "      <td>3</td>\n",
       "      <td>3</td>\n",
       "      <td>3</td>\n",
       "      <td>3</td>\n",
       "      <td>3</td>\n",
       "      <td>3</td>\n",
       "      <td>3</td>\n",
       "      <td>3</td>\n",
       "      <td>3</td>\n",
       "      <td>3</td>\n",
       "      <td>3</td>\n",
       "      <td>3</td>\n",
       "      <td>3</td>\n",
       "      <td>3</td>\n",
       "    </tr>\n",
       "    <tr>\n",
       "      <th>pub.1008209435</th>\n",
       "      <td>5</td>\n",
       "      <td>5</td>\n",
       "      <td>5</td>\n",
       "      <td>5</td>\n",
       "      <td>5</td>\n",
       "      <td>5</td>\n",
       "      <td>5</td>\n",
       "      <td>5</td>\n",
       "      <td>3</td>\n",
       "      <td>3</td>\n",
       "      <td>5</td>\n",
       "      <td>5</td>\n",
       "      <td>5</td>\n",
       "      <td>5</td>\n",
       "      <td>5</td>\n",
       "      <td>5</td>\n",
       "      <td>5</td>\n",
       "      <td>5</td>\n",
       "    </tr>\n",
       "    <tr>\n",
       "      <th>pub.1011872206</th>\n",
       "      <td>2</td>\n",
       "      <td>2</td>\n",
       "      <td>2</td>\n",
       "      <td>2</td>\n",
       "      <td>2</td>\n",
       "      <td>2</td>\n",
       "      <td>2</td>\n",
       "      <td>2</td>\n",
       "      <td>2</td>\n",
       "      <td>2</td>\n",
       "      <td>2</td>\n",
       "      <td>2</td>\n",
       "      <td>2</td>\n",
       "      <td>2</td>\n",
       "      <td>2</td>\n",
       "      <td>2</td>\n",
       "      <td>2</td>\n",
       "      <td>2</td>\n",
       "    </tr>\n",
       "    <tr>\n",
       "      <th>...</th>\n",
       "      <td>...</td>\n",
       "      <td>...</td>\n",
       "      <td>...</td>\n",
       "      <td>...</td>\n",
       "      <td>...</td>\n",
       "      <td>...</td>\n",
       "      <td>...</td>\n",
       "      <td>...</td>\n",
       "      <td>...</td>\n",
       "      <td>...</td>\n",
       "      <td>...</td>\n",
       "      <td>...</td>\n",
       "      <td>...</td>\n",
       "      <td>...</td>\n",
       "      <td>...</td>\n",
       "      <td>...</td>\n",
       "      <td>...</td>\n",
       "      <td>...</td>\n",
       "    </tr>\n",
       "    <tr>\n",
       "      <th>pub.1155035716</th>\n",
       "      <td>7</td>\n",
       "      <td>7</td>\n",
       "      <td>7</td>\n",
       "      <td>7</td>\n",
       "      <td>7</td>\n",
       "      <td>7</td>\n",
       "      <td>7</td>\n",
       "      <td>7</td>\n",
       "      <td>0</td>\n",
       "      <td>0</td>\n",
       "      <td>6</td>\n",
       "      <td>7</td>\n",
       "      <td>7</td>\n",
       "      <td>7</td>\n",
       "      <td>7</td>\n",
       "      <td>7</td>\n",
       "      <td>7</td>\n",
       "      <td>7</td>\n",
       "    </tr>\n",
       "    <tr>\n",
       "      <th>pub.1155035818</th>\n",
       "      <td>6</td>\n",
       "      <td>6</td>\n",
       "      <td>6</td>\n",
       "      <td>6</td>\n",
       "      <td>6</td>\n",
       "      <td>6</td>\n",
       "      <td>6</td>\n",
       "      <td>6</td>\n",
       "      <td>6</td>\n",
       "      <td>6</td>\n",
       "      <td>6</td>\n",
       "      <td>6</td>\n",
       "      <td>6</td>\n",
       "      <td>6</td>\n",
       "      <td>6</td>\n",
       "      <td>6</td>\n",
       "      <td>6</td>\n",
       "      <td>6</td>\n",
       "    </tr>\n",
       "    <tr>\n",
       "      <th>pub.1155035834</th>\n",
       "      <td>3</td>\n",
       "      <td>3</td>\n",
       "      <td>3</td>\n",
       "      <td>3</td>\n",
       "      <td>3</td>\n",
       "      <td>2</td>\n",
       "      <td>3</td>\n",
       "      <td>3</td>\n",
       "      <td>2</td>\n",
       "      <td>1</td>\n",
       "      <td>3</td>\n",
       "      <td>3</td>\n",
       "      <td>3</td>\n",
       "      <td>3</td>\n",
       "      <td>3</td>\n",
       "      <td>3</td>\n",
       "      <td>3</td>\n",
       "      <td>3</td>\n",
       "    </tr>\n",
       "    <tr>\n",
       "      <th>pub.1155856822</th>\n",
       "      <td>14</td>\n",
       "      <td>14</td>\n",
       "      <td>14</td>\n",
       "      <td>14</td>\n",
       "      <td>14</td>\n",
       "      <td>14</td>\n",
       "      <td>14</td>\n",
       "      <td>14</td>\n",
       "      <td>0</td>\n",
       "      <td>0</td>\n",
       "      <td>12</td>\n",
       "      <td>14</td>\n",
       "      <td>14</td>\n",
       "      <td>14</td>\n",
       "      <td>14</td>\n",
       "      <td>14</td>\n",
       "      <td>14</td>\n",
       "      <td>14</td>\n",
       "    </tr>\n",
       "    <tr>\n",
       "      <th>pub.1157339777</th>\n",
       "      <td>6</td>\n",
       "      <td>6</td>\n",
       "      <td>6</td>\n",
       "      <td>6</td>\n",
       "      <td>6</td>\n",
       "      <td>6</td>\n",
       "      <td>6</td>\n",
       "      <td>6</td>\n",
       "      <td>0</td>\n",
       "      <td>0</td>\n",
       "      <td>6</td>\n",
       "      <td>6</td>\n",
       "      <td>6</td>\n",
       "      <td>6</td>\n",
       "      <td>6</td>\n",
       "      <td>6</td>\n",
       "      <td>6</td>\n",
       "      <td>6</td>\n",
       "    </tr>\n",
       "  </tbody>\n",
       "</table>\n",
       "<p>1051 rows × 18 columns</p>\n",
       "</div>"
      ],
      "text/plain": [
       "                Unnamed: 0  aff_city  aff_city_id  aff_country  \\\n",
       "pub_id                                                           \n",
       "pub.1001792778           3         3            3            3   \n",
       "pub.1003040860           1         1            1            1   \n",
       "pub.1006639384           3         3            3            3   \n",
       "pub.1008209435           5         5            5            5   \n",
       "pub.1011872206           2         2            2            2   \n",
       "...                    ...       ...          ...          ...   \n",
       "pub.1155035716           7         7            7            7   \n",
       "pub.1155035818           6         6            6            6   \n",
       "pub.1155035834           3         3            3            3   \n",
       "pub.1155856822          14        14           14           14   \n",
       "pub.1157339777           6         6            6            6   \n",
       "\n",
       "                aff_country_code  aff_id  aff_name  aff_raw_affiliation  \\\n",
       "pub_id                                                                    \n",
       "pub.1001792778                 3       3         3                    3   \n",
       "pub.1003040860                 1       1         1                    1   \n",
       "pub.1006639384                 3       3         3                    3   \n",
       "pub.1008209435                 5       5         5                    5   \n",
       "pub.1011872206                 2       2         2                    2   \n",
       "...                          ...     ...       ...                  ...   \n",
       "pub.1155035716                 7       7         7                    7   \n",
       "pub.1155035818                 6       6         6                    6   \n",
       "pub.1155035834                 3       2         3                    3   \n",
       "pub.1155856822                14      14        14                   14   \n",
       "pub.1157339777                 6       6         6                    6   \n",
       "\n",
       "                aff_state  aff_state_code  researcher_id  first_name  \\\n",
       "pub_id                                                                 \n",
       "pub.1001792778          3               3              2           3   \n",
       "pub.1003040860          1               1              1           1   \n",
       "pub.1006639384          3               3              3           3   \n",
       "pub.1008209435          3               3              5           5   \n",
       "pub.1011872206          2               2              2           2   \n",
       "...                   ...             ...            ...         ...   \n",
       "pub.1155035716          0               0              6           7   \n",
       "pub.1155035818          6               6              6           6   \n",
       "pub.1155035834          2               1              3           3   \n",
       "pub.1155856822          0               0             12          14   \n",
       "pub.1157339777          0               0              6           6   \n",
       "\n",
       "                last_name  year  gender  gender_ints  income_class  \\\n",
       "pub_id                                                               \n",
       "pub.1001792778          3     3       3            3             3   \n",
       "pub.1003040860          1     1       1            1             1   \n",
       "pub.1006639384          3     3       3            3             3   \n",
       "pub.1008209435          5     5       5            5             5   \n",
       "pub.1011872206          2     2       2            2             2   \n",
       "...                   ...   ...     ...          ...           ...   \n",
       "pub.1155035716          7     7       7            7             7   \n",
       "pub.1155035818          6     6       6            6             6   \n",
       "pub.1155035834          3     3       3            3             3   \n",
       "pub.1155856822         14    14      14           14            14   \n",
       "pub.1157339777          6     6       6            6             6   \n",
       "\n",
       "                income_class_num  \n",
       "pub_id                            \n",
       "pub.1001792778                 3  \n",
       "pub.1003040860                 1  \n",
       "pub.1006639384                 3  \n",
       "pub.1008209435                 5  \n",
       "pub.1011872206                 2  \n",
       "...                          ...  \n",
       "pub.1155035716                 7  \n",
       "pub.1155035818                 6  \n",
       "pub.1155035834                 3  \n",
       "pub.1155856822                14  \n",
       "pub.1157339777                 6  \n",
       "\n",
       "[1051 rows x 18 columns]"
      ]
     },
     "execution_count": 57,
     "metadata": {},
     "output_type": "execute_result"
    }
   ],
   "source": [
    "df_affils_compare_processed.groupby(\"pub_id\").count()"
   ]
  },
  {
   "cell_type": "code",
   "execution_count": null,
   "metadata": {},
   "outputs": [
    {
     "data": {
      "text/html": [
       "<div>\n",
       "<style scoped>\n",
       "    .dataframe tbody tr th:only-of-type {\n",
       "        vertical-align: middle;\n",
       "    }\n",
       "\n",
       "    .dataframe tbody tr th {\n",
       "        vertical-align: top;\n",
       "    }\n",
       "\n",
       "    .dataframe thead th {\n",
       "        text-align: right;\n",
       "    }\n",
       "</style>\n",
       "<table border=\"1\" class=\"dataframe\">\n",
       "  <thead>\n",
       "    <tr style=\"text-align: right;\">\n",
       "      <th></th>\n",
       "      <th>Unnamed: 0</th>\n",
       "      <th>affiliations</th>\n",
       "      <th>corresponding</th>\n",
       "      <th>current_organization_id</th>\n",
       "      <th>first_name</th>\n",
       "      <th>last_name</th>\n",
       "      <th>orcid</th>\n",
       "      <th>raw_affiliation</th>\n",
       "      <th>researcher_id</th>\n",
       "      <th>year</th>\n",
       "      <th>gender</th>\n",
       "      <th>gender_ints</th>\n",
       "    </tr>\n",
       "    <tr>\n",
       "      <th>pub_id</th>\n",
       "      <th></th>\n",
       "      <th></th>\n",
       "      <th></th>\n",
       "      <th></th>\n",
       "      <th></th>\n",
       "      <th></th>\n",
       "      <th></th>\n",
       "      <th></th>\n",
       "      <th></th>\n",
       "      <th></th>\n",
       "      <th></th>\n",
       "      <th></th>\n",
       "    </tr>\n",
       "  </thead>\n",
       "  <tbody>\n",
       "    <tr>\n",
       "      <th>pub.1001792778</th>\n",
       "      <td>3</td>\n",
       "      <td>3</td>\n",
       "      <td>1</td>\n",
       "      <td>2</td>\n",
       "      <td>3</td>\n",
       "      <td>3</td>\n",
       "      <td>3</td>\n",
       "      <td>3</td>\n",
       "      <td>2</td>\n",
       "      <td>3</td>\n",
       "      <td>3</td>\n",
       "      <td>3</td>\n",
       "    </tr>\n",
       "    <tr>\n",
       "      <th>pub.1003040860</th>\n",
       "      <td>1</td>\n",
       "      <td>1</td>\n",
       "      <td>1</td>\n",
       "      <td>0</td>\n",
       "      <td>1</td>\n",
       "      <td>1</td>\n",
       "      <td>0</td>\n",
       "      <td>1</td>\n",
       "      <td>1</td>\n",
       "      <td>1</td>\n",
       "      <td>1</td>\n",
       "      <td>1</td>\n",
       "    </tr>\n",
       "    <tr>\n",
       "      <th>pub.1006639384</th>\n",
       "      <td>3</td>\n",
       "      <td>3</td>\n",
       "      <td>1</td>\n",
       "      <td>3</td>\n",
       "      <td>3</td>\n",
       "      <td>3</td>\n",
       "      <td>0</td>\n",
       "      <td>3</td>\n",
       "      <td>3</td>\n",
       "      <td>3</td>\n",
       "      <td>3</td>\n",
       "      <td>3</td>\n",
       "    </tr>\n",
       "    <tr>\n",
       "      <th>pub.1008209435</th>\n",
       "      <td>1</td>\n",
       "      <td>1</td>\n",
       "      <td>0</td>\n",
       "      <td>1</td>\n",
       "      <td>1</td>\n",
       "      <td>1</td>\n",
       "      <td>0</td>\n",
       "      <td>1</td>\n",
       "      <td>1</td>\n",
       "      <td>1</td>\n",
       "      <td>1</td>\n",
       "      <td>1</td>\n",
       "    </tr>\n",
       "    <tr>\n",
       "      <th>pub.1011872206</th>\n",
       "      <td>2</td>\n",
       "      <td>2</td>\n",
       "      <td>1</td>\n",
       "      <td>2</td>\n",
       "      <td>2</td>\n",
       "      <td>2</td>\n",
       "      <td>0</td>\n",
       "      <td>2</td>\n",
       "      <td>2</td>\n",
       "      <td>2</td>\n",
       "      <td>2</td>\n",
       "      <td>2</td>\n",
       "    </tr>\n",
       "    <tr>\n",
       "      <th>...</th>\n",
       "      <td>...</td>\n",
       "      <td>...</td>\n",
       "      <td>...</td>\n",
       "      <td>...</td>\n",
       "      <td>...</td>\n",
       "      <td>...</td>\n",
       "      <td>...</td>\n",
       "      <td>...</td>\n",
       "      <td>...</td>\n",
       "      <td>...</td>\n",
       "      <td>...</td>\n",
       "      <td>...</td>\n",
       "    </tr>\n",
       "    <tr>\n",
       "      <th>pub.1155035716</th>\n",
       "      <td>7</td>\n",
       "      <td>7</td>\n",
       "      <td>1</td>\n",
       "      <td>6</td>\n",
       "      <td>7</td>\n",
       "      <td>7</td>\n",
       "      <td>3</td>\n",
       "      <td>7</td>\n",
       "      <td>6</td>\n",
       "      <td>7</td>\n",
       "      <td>7</td>\n",
       "      <td>7</td>\n",
       "    </tr>\n",
       "    <tr>\n",
       "      <th>pub.1155035818</th>\n",
       "      <td>6</td>\n",
       "      <td>6</td>\n",
       "      <td>1</td>\n",
       "      <td>6</td>\n",
       "      <td>6</td>\n",
       "      <td>6</td>\n",
       "      <td>3</td>\n",
       "      <td>6</td>\n",
       "      <td>6</td>\n",
       "      <td>6</td>\n",
       "      <td>6</td>\n",
       "      <td>6</td>\n",
       "    </tr>\n",
       "    <tr>\n",
       "      <th>pub.1155035834</th>\n",
       "      <td>3</td>\n",
       "      <td>3</td>\n",
       "      <td>1</td>\n",
       "      <td>3</td>\n",
       "      <td>3</td>\n",
       "      <td>3</td>\n",
       "      <td>2</td>\n",
       "      <td>3</td>\n",
       "      <td>3</td>\n",
       "      <td>3</td>\n",
       "      <td>3</td>\n",
       "      <td>3</td>\n",
       "    </tr>\n",
       "    <tr>\n",
       "      <th>pub.1155856822</th>\n",
       "      <td>7</td>\n",
       "      <td>7</td>\n",
       "      <td>0</td>\n",
       "      <td>6</td>\n",
       "      <td>7</td>\n",
       "      <td>7</td>\n",
       "      <td>4</td>\n",
       "      <td>7</td>\n",
       "      <td>6</td>\n",
       "      <td>7</td>\n",
       "      <td>7</td>\n",
       "      <td>7</td>\n",
       "    </tr>\n",
       "    <tr>\n",
       "      <th>pub.1157339777</th>\n",
       "      <td>6</td>\n",
       "      <td>6</td>\n",
       "      <td>1</td>\n",
       "      <td>6</td>\n",
       "      <td>6</td>\n",
       "      <td>6</td>\n",
       "      <td>0</td>\n",
       "      <td>6</td>\n",
       "      <td>6</td>\n",
       "      <td>6</td>\n",
       "      <td>6</td>\n",
       "      <td>6</td>\n",
       "    </tr>\n",
       "  </tbody>\n",
       "</table>\n",
       "<p>1426 rows × 12 columns</p>\n",
       "</div>"
      ],
      "text/plain": [
       "                Unnamed: 0  affiliations  corresponding  \\\n",
       "pub_id                                                    \n",
       "pub.1001792778           3             3              1   \n",
       "pub.1003040860           1             1              1   \n",
       "pub.1006639384           3             3              1   \n",
       "pub.1008209435           1             1              0   \n",
       "pub.1011872206           2             2              1   \n",
       "...                    ...           ...            ...   \n",
       "pub.1155035716           7             7              1   \n",
       "pub.1155035818           6             6              1   \n",
       "pub.1155035834           3             3              1   \n",
       "pub.1155856822           7             7              0   \n",
       "pub.1157339777           6             6              1   \n",
       "\n",
       "                current_organization_id  first_name  last_name  orcid  \\\n",
       "pub_id                                                                  \n",
       "pub.1001792778                        2           3          3      3   \n",
       "pub.1003040860                        0           1          1      0   \n",
       "pub.1006639384                        3           3          3      0   \n",
       "pub.1008209435                        1           1          1      0   \n",
       "pub.1011872206                        2           2          2      0   \n",
       "...                                 ...         ...        ...    ...   \n",
       "pub.1155035716                        6           7          7      3   \n",
       "pub.1155035818                        6           6          6      3   \n",
       "pub.1155035834                        3           3          3      2   \n",
       "pub.1155856822                        6           7          7      4   \n",
       "pub.1157339777                        6           6          6      0   \n",
       "\n",
       "                raw_affiliation  researcher_id  year  gender  gender_ints  \n",
       "pub_id                                                                     \n",
       "pub.1001792778                3              2     3       3            3  \n",
       "pub.1003040860                1              1     1       1            1  \n",
       "pub.1006639384                3              3     3       3            3  \n",
       "pub.1008209435                1              1     1       1            1  \n",
       "pub.1011872206                2              2     2       2            2  \n",
       "...                         ...            ...   ...     ...          ...  \n",
       "pub.1155035716                7              6     7       7            7  \n",
       "pub.1155035818                6              6     6       6            6  \n",
       "pub.1155035834                3              3     3       3            3  \n",
       "pub.1155856822                7              6     7       7            7  \n",
       "pub.1157339777                6              6     6       6            6  \n",
       "\n",
       "[1426 rows x 12 columns]"
      ]
     },
     "execution_count": 58,
     "metadata": {},
     "output_type": "execute_result"
    }
   ],
   "source": [
    "df_auths_compare_processed.groupby(\"pub_id\").count()"
   ]
  },
  {
   "cell_type": "code",
   "execution_count": null,
   "metadata": {},
   "outputs": [
    {
     "name": "stdout",
     "output_type": "stream",
     "text": [
      "0       pub.1154752616\n",
      "1       pub.1154144039\n",
      "3       pub.1154113975\n",
      "8       pub.1154169122\n",
      "9       pub.1154026246\n",
      "             ...      \n",
      "2298    pub.1016021216\n",
      "2299    pub.1095060035\n",
      "2301    pub.1013870421\n",
      "2303    pub.1012760885\n",
      "2306    pub.1008209435\n",
      "Name: id, Length: 1426, dtype: object\n"
     ]
    }
   ],
   "source": [
    "# df_pubs_compare.num_na==NaN\n",
    "pub_ids_num0 = df_pubs_compare[df_pubs_compare.num_na==0].id\n",
    "print(pub_ids_num0)"
   ]
  },
  {
   "cell_type": "code",
   "execution_count": null,
   "metadata": {},
   "outputs": [
    {
     "name": "stdout",
     "output_type": "stream",
     "text": [
      "1    pub.1154144039\n",
      "Name: id, dtype: object\n",
      "1    [{'affiliations': [{'city': 'Guangzhou', 'city...\n",
      "Name: authors, dtype: object\n",
      "   Unnamed: 0   aff_city  aff_city_id aff_country aff_country_code  \\\n",
      "0           0  Guangzhou    1809858.0       China               CN   \n",
      "1           1  Guangzhou    1809858.0       China               CN   \n",
      "2           2  Guangzhou    1809858.0       China               CN   \n",
      "3           3  Guangzhou    1809858.0       China               CN   \n",
      "4           4  Guangzhou    1809858.0       China               CN   \n",
      "5           5  Guangzhou    1809858.0       China               CN   \n",
      "6           6  Guangzhou    1809858.0       China               CN   \n",
      "\n",
      "          aff_id                                       aff_name  \\\n",
      "0  grid.412601.0  First Affiliated Hospital of Jinan University   \n",
      "1  grid.412601.0  First Affiliated Hospital of Jinan University   \n",
      "2  grid.412601.0  First Affiliated Hospital of Jinan University   \n",
      "3  grid.412601.0  First Affiliated Hospital of Jinan University   \n",
      "4  grid.412601.0  First Affiliated Hospital of Jinan University   \n",
      "5  grid.258164.c                               Jinan University   \n",
      "6  grid.412601.0  First Affiliated Hospital of Jinan University   \n",
      "\n",
      "                                 aff_raw_affiliation aff_state aff_state_code  \\\n",
      "0  Department of Neurology, The First Affiliated ...       NaN            NaN   \n",
      "1  Department of Neurology, The First Affiliated ...       NaN            NaN   \n",
      "2  Department of Neurology, The First Affiliated ...       NaN            NaN   \n",
      "3  Department of Neurology, The First Affiliated ...       NaN            NaN   \n",
      "4  Department of Clinical Research, The First Aff...       NaN            NaN   \n",
      "5  School of Nursing, Jinan University, Guangzhou...       NaN            NaN   \n",
      "6  Department of Clinical Research, The First Aff...       NaN            NaN   \n",
      "\n",
      "           pub_id       researcher_id first_name last_name  year  gender  \\\n",
      "0  pub.1154144039  ur.014116573320.23    Xiaxuan     Huang  2022    male   \n",
      "1  pub.1154144039  ur.016241001520.36      Shiqi      Yuan  2022  female   \n",
      "2  pub.1154144039  ur.013553641416.27     Yitong      Ling  2022  female   \n",
      "3  pub.1154144039  ur.014351222016.81   Shanyuan       Tan  2022  female   \n",
      "4  pub.1154144039  ur.014227217615.79        Tao     Huang  2022    male   \n",
      "5  pub.1154144039  ur.012755055514.47    Hongtao     Cheng  2022    male   \n",
      "6  pub.1154144039  ur.012157101103.38        Jun       Lyu  2022    male   \n",
      "\n",
      "   gender_ints         income_class  income_class_num  \n",
      "0          0.0  Upper middle income               3.0  \n",
      "1          1.0  Upper middle income               3.0  \n",
      "2          1.0  Upper middle income               3.0  \n",
      "3          1.0  Upper middle income               3.0  \n",
      "4          0.0  Upper middle income               3.0  \n",
      "5          0.0  Upper middle income               3.0  \n",
      "6          0.0  Upper middle income               3.0  \n"
     ]
    }
   ],
   "source": [
    "df_pubs_compare['authors'] # 'pub.1154752616'\n",
    "# print(df_pubs_compare[df_pubs_compare.id =='pub.1154752616'].get('authors'))\n",
    "print(df_pubs_compare[df_pubs_compare['authors']==df_pubs_compare['authors'][1]].id)\n",
    "id = df_pubs_compare[df_pubs_compare['authors']==df_pubs_compare['authors'][1]].id.iloc[0]\n",
    "# print(id.iloc[0])\n",
    "print(df_pubs_compare[df_pubs_compare.id ==id].get('authors'))\n",
    "print(df_affils_compare[df_affils_compare.pub_id==id])"
   ]
  },
  {
   "cell_type": "code",
   "execution_count": null,
   "metadata": {},
   "outputs": [
    {
     "data": {
      "text/html": [
       "<div>\n",
       "<style scoped>\n",
       "    .dataframe tbody tr th:only-of-type {\n",
       "        vertical-align: middle;\n",
       "    }\n",
       "\n",
       "    .dataframe tbody tr th {\n",
       "        vertical-align: top;\n",
       "    }\n",
       "\n",
       "    .dataframe thead th {\n",
       "        text-align: right;\n",
       "    }\n",
       "</style>\n",
       "<table border=\"1\" class=\"dataframe\">\n",
       "  <thead>\n",
       "    <tr style=\"text-align: right;\">\n",
       "      <th></th>\n",
       "      <th>Unnamed: 0</th>\n",
       "      <th>id</th>\n",
       "      <th>title</th>\n",
       "      <th>abstract</th>\n",
       "      <th>authors</th>\n",
       "      <th>authors_count</th>\n",
       "      <th>category_for</th>\n",
       "      <th>category_hra</th>\n",
       "      <th>category_hrcs_hc</th>\n",
       "      <th>category_hrcs_rac</th>\n",
       "      <th>...</th>\n",
       "      <th>num_na</th>\n",
       "      <th>pct_female_real</th>\n",
       "      <th>female_first</th>\n",
       "      <th>female_last</th>\n",
       "      <th>pct_female_pessimistic</th>\n",
       "      <th>pct_female_optimistic</th>\n",
       "      <th>female_first_pessimistic</th>\n",
       "      <th>female_first_optimistic</th>\n",
       "      <th>female_last_pessimistic</th>\n",
       "      <th>female_last_optimistic</th>\n",
       "    </tr>\n",
       "  </thead>\n",
       "  <tbody>\n",
       "    <tr>\n",
       "      <th>0</th>\n",
       "      <td>0</td>\n",
       "      <td>pub.1154752616</td>\n",
       "      <td>The U-shaped impact of mean arterial pressure ...</td>\n",
       "      <td>&lt;sec&gt; BACKGROUND &lt;p&gt;Sepsis is a major cause of...</td>\n",
       "      <td>[{'affiliations': [], 'corresponding': '', 'cu...</td>\n",
       "      <td>11</td>\n",
       "      <td>[{'id': '80003', 'name': '32 Biomedical and Cl...</td>\n",
       "      <td>[{'id': '3901', 'name': 'Clinical'}]</td>\n",
       "      <td>[{'id': '903', 'name': 'Inflammatory and immun...</td>\n",
       "      <td>[{'id': '10204', 'name': '2.4 Surveillance and...</td>\n",
       "      <td>...</td>\n",
       "      <td>0.0</td>\n",
       "      <td>0.454545</td>\n",
       "      <td>0.0</td>\n",
       "      <td>1.0</td>\n",
       "      <td>0.454545</td>\n",
       "      <td>0.454545</td>\n",
       "      <td>0.0</td>\n",
       "      <td>0.0</td>\n",
       "      <td>1.0</td>\n",
       "      <td>1.0</td>\n",
       "    </tr>\n",
       "    <tr>\n",
       "      <th>1</th>\n",
       "      <td>1</td>\n",
       "      <td>pub.1154144039</td>\n",
       "      <td>The Hemoglobin-to-Red Cell Distribution Width ...</td>\n",
       "      <td>Objective: The hemoglobin-to-red cell distribu...</td>\n",
       "      <td>[{'affiliations': [{'city': 'Guangzhou', 'city...</td>\n",
       "      <td>7</td>\n",
       "      <td>[{'id': '80003', 'name': '32 Biomedical and Cl...</td>\n",
       "      <td>NaN</td>\n",
       "      <td>NaN</td>\n",
       "      <td>NaN</td>\n",
       "      <td>...</td>\n",
       "      <td>0.0</td>\n",
       "      <td>0.428571</td>\n",
       "      <td>0.0</td>\n",
       "      <td>0.0</td>\n",
       "      <td>0.428571</td>\n",
       "      <td>0.428571</td>\n",
       "      <td>0.0</td>\n",
       "      <td>0.0</td>\n",
       "      <td>0.0</td>\n",
       "      <td>0.0</td>\n",
       "    </tr>\n",
       "    <tr>\n",
       "      <th>3</th>\n",
       "      <td>3</td>\n",
       "      <td>pub.1154113975</td>\n",
       "      <td>Prediction and risk assessment of sepsis-assoc...</td>\n",
       "      <td>Sepsis-associated encephalopathy (SAE) is a ma...</td>\n",
       "      <td>[{'affiliations': [{'city': 'Beijing', 'city_i...</td>\n",
       "      <td>4</td>\n",
       "      <td>[{'id': '80017', 'name': '46 Information and C...</td>\n",
       "      <td>NaN</td>\n",
       "      <td>NaN</td>\n",
       "      <td>NaN</td>\n",
       "      <td>...</td>\n",
       "      <td>0.0</td>\n",
       "      <td>0.250000</td>\n",
       "      <td>0.0</td>\n",
       "      <td>1.0</td>\n",
       "      <td>0.250000</td>\n",
       "      <td>0.250000</td>\n",
       "      <td>0.0</td>\n",
       "      <td>0.0</td>\n",
       "      <td>1.0</td>\n",
       "      <td>1.0</td>\n",
       "    </tr>\n",
       "    <tr>\n",
       "      <th>8</th>\n",
       "      <td>8</td>\n",
       "      <td>pub.1154169122</td>\n",
       "      <td>Multimodal Explainability via Latent Shift app...</td>\n",
       "      <td>We are witnessing a widespread adoption of art...</td>\n",
       "      <td>[{'affiliations': [], 'corresponding': '', 'cu...</td>\n",
       "      <td>7</td>\n",
       "      <td>[{'id': '80017', 'name': '46 Information and C...</td>\n",
       "      <td>NaN</td>\n",
       "      <td>NaN</td>\n",
       "      <td>NaN</td>\n",
       "      <td>...</td>\n",
       "      <td>0.0</td>\n",
       "      <td>0.285714</td>\n",
       "      <td>0.0</td>\n",
       "      <td>0.0</td>\n",
       "      <td>0.285714</td>\n",
       "      <td>0.285714</td>\n",
       "      <td>0.0</td>\n",
       "      <td>0.0</td>\n",
       "      <td>0.0</td>\n",
       "      <td>0.0</td>\n",
       "    </tr>\n",
       "    <tr>\n",
       "      <th>9</th>\n",
       "      <td>9</td>\n",
       "      <td>pub.1154026246</td>\n",
       "      <td>The correlation study between blood urea nitro...</td>\n",
       "      <td>BackgroundSepsis is a common critical illness ...</td>\n",
       "      <td>[{'affiliations': [{'city': 'Huzhou', 'city_id...</td>\n",
       "      <td>5</td>\n",
       "      <td>[{'id': '80003', 'name': '32 Biomedical and Cl...</td>\n",
       "      <td>[{'id': '3901', 'name': 'Clinical'}]</td>\n",
       "      <td>[{'id': '903', 'name': 'Inflammatory and immun...</td>\n",
       "      <td>NaN</td>\n",
       "      <td>...</td>\n",
       "      <td>0.0</td>\n",
       "      <td>0.200000</td>\n",
       "      <td>0.0</td>\n",
       "      <td>1.0</td>\n",
       "      <td>0.200000</td>\n",
       "      <td>0.200000</td>\n",
       "      <td>0.0</td>\n",
       "      <td>0.0</td>\n",
       "      <td>1.0</td>\n",
       "      <td>1.0</td>\n",
       "    </tr>\n",
       "    <tr>\n",
       "      <th>...</th>\n",
       "      <td>...</td>\n",
       "      <td>...</td>\n",
       "      <td>...</td>\n",
       "      <td>...</td>\n",
       "      <td>...</td>\n",
       "      <td>...</td>\n",
       "      <td>...</td>\n",
       "      <td>...</td>\n",
       "      <td>...</td>\n",
       "      <td>...</td>\n",
       "      <td>...</td>\n",
       "      <td>...</td>\n",
       "      <td>...</td>\n",
       "      <td>...</td>\n",
       "      <td>...</td>\n",
       "      <td>...</td>\n",
       "      <td>...</td>\n",
       "      <td>...</td>\n",
       "      <td>...</td>\n",
       "      <td>...</td>\n",
       "      <td>...</td>\n",
       "    </tr>\n",
       "    <tr>\n",
       "      <th>2298</th>\n",
       "      <td>2298</td>\n",
       "      <td>pub.1016021216</td>\n",
       "      <td>Review of Rheumatology</td>\n",
       "      <td>Review of Rheumatology is a synopsis of key ar...</td>\n",
       "      <td>[{'affiliations': [{'city': 'Bethesda', 'city_...</td>\n",
       "      <td>1</td>\n",
       "      <td>[{'id': '80003', 'name': '32 Biomedical and Cl...</td>\n",
       "      <td>NaN</td>\n",
       "      <td>[{'id': '903', 'name': 'Inflammatory and immun...</td>\n",
       "      <td>NaN</td>\n",
       "      <td>...</td>\n",
       "      <td>0.0</td>\n",
       "      <td>1.000000</td>\n",
       "      <td>1.0</td>\n",
       "      <td>1.0</td>\n",
       "      <td>1.000000</td>\n",
       "      <td>1.000000</td>\n",
       "      <td>1.0</td>\n",
       "      <td>1.0</td>\n",
       "      <td>1.0</td>\n",
       "      <td>1.0</td>\n",
       "    </tr>\n",
       "    <tr>\n",
       "      <th>2299</th>\n",
       "      <td>2299</td>\n",
       "      <td>pub.1095060035</td>\n",
       "      <td>Towards context adaptive HMIs in process indus...</td>\n",
       "      <td>This paper presents the combination of two dis...</td>\n",
       "      <td>[{'affiliations': [{'city': 'Dresden', 'city_i...</td>\n",
       "      <td>5</td>\n",
       "      <td>[{'id': '80017', 'name': '46 Information and C...</td>\n",
       "      <td>NaN</td>\n",
       "      <td>NaN</td>\n",
       "      <td>NaN</td>\n",
       "      <td>...</td>\n",
       "      <td>0.0</td>\n",
       "      <td>0.200000</td>\n",
       "      <td>0.0</td>\n",
       "      <td>1.0</td>\n",
       "      <td>0.200000</td>\n",
       "      <td>0.200000</td>\n",
       "      <td>0.0</td>\n",
       "      <td>0.0</td>\n",
       "      <td>1.0</td>\n",
       "      <td>1.0</td>\n",
       "    </tr>\n",
       "    <tr>\n",
       "      <th>2301</th>\n",
       "      <td>2301</td>\n",
       "      <td>pub.1013870421</td>\n",
       "      <td>Chapter 6 Lymphomas of the Spleen</td>\n",
       "      <td>NaN</td>\n",
       "      <td>[{'affiliations': [{'city': 'Boston', 'city_id...</td>\n",
       "      <td>2</td>\n",
       "      <td>NaN</td>\n",
       "      <td>NaN</td>\n",
       "      <td>NaN</td>\n",
       "      <td>NaN</td>\n",
       "      <td>...</td>\n",
       "      <td>0.0</td>\n",
       "      <td>0.500000</td>\n",
       "      <td>1.0</td>\n",
       "      <td>0.0</td>\n",
       "      <td>0.500000</td>\n",
       "      <td>0.500000</td>\n",
       "      <td>1.0</td>\n",
       "      <td>1.0</td>\n",
       "      <td>0.0</td>\n",
       "      <td>0.0</td>\n",
       "    </tr>\n",
       "    <tr>\n",
       "      <th>2303</th>\n",
       "      <td>2303</td>\n",
       "      <td>pub.1012760885</td>\n",
       "      <td>ChemInform Abstract: A Boron‐Containing Estrog...</td>\n",
       "      <td>NaN</td>\n",
       "      <td>[{'affiliations': [{'city': 'Carbondale', 'cit...</td>\n",
       "      <td>2</td>\n",
       "      <td>NaN</td>\n",
       "      <td>NaN</td>\n",
       "      <td>NaN</td>\n",
       "      <td>NaN</td>\n",
       "      <td>...</td>\n",
       "      <td>0.0</td>\n",
       "      <td>0.000000</td>\n",
       "      <td>0.0</td>\n",
       "      <td>0.0</td>\n",
       "      <td>0.000000</td>\n",
       "      <td>0.000000</td>\n",
       "      <td>0.0</td>\n",
       "      <td>0.0</td>\n",
       "      <td>0.0</td>\n",
       "      <td>0.0</td>\n",
       "    </tr>\n",
       "    <tr>\n",
       "      <th>2306</th>\n",
       "      <td>2306</td>\n",
       "      <td>pub.1008209435</td>\n",
       "      <td>Chapter 43 Molecular mimicry of host glycosyla...</td>\n",
       "      <td>Molecular mimicry can be defined as the struct...</td>\n",
       "      <td>[{'affiliations': [{'city': 'Borstel', 'city_i...</td>\n",
       "      <td>1</td>\n",
       "      <td>[{'id': '80040', 'name': '3107 Microbiology'},...</td>\n",
       "      <td>[{'id': '3900', 'name': 'Biomedical'}]</td>\n",
       "      <td>[{'id': '898', 'name': 'Infection'}]</td>\n",
       "      <td>NaN</td>\n",
       "      <td>...</td>\n",
       "      <td>0.0</td>\n",
       "      <td>0.000000</td>\n",
       "      <td>0.0</td>\n",
       "      <td>0.0</td>\n",
       "      <td>0.000000</td>\n",
       "      <td>0.000000</td>\n",
       "      <td>0.0</td>\n",
       "      <td>0.0</td>\n",
       "      <td>0.0</td>\n",
       "      <td>0.0</td>\n",
       "    </tr>\n",
       "  </tbody>\n",
       "</table>\n",
       "<p>1426 rows × 59 columns</p>\n",
       "</div>"
      ],
      "text/plain": [
       "      Unnamed: 0              id  \\\n",
       "0              0  pub.1154752616   \n",
       "1              1  pub.1154144039   \n",
       "3              3  pub.1154113975   \n",
       "8              8  pub.1154169122   \n",
       "9              9  pub.1154026246   \n",
       "...          ...             ...   \n",
       "2298        2298  pub.1016021216   \n",
       "2299        2299  pub.1095060035   \n",
       "2301        2301  pub.1013870421   \n",
       "2303        2303  pub.1012760885   \n",
       "2306        2306  pub.1008209435   \n",
       "\n",
       "                                                  title  \\\n",
       "0     The U-shaped impact of mean arterial pressure ...   \n",
       "1     The Hemoglobin-to-Red Cell Distribution Width ...   \n",
       "3     Prediction and risk assessment of sepsis-assoc...   \n",
       "8     Multimodal Explainability via Latent Shift app...   \n",
       "9     The correlation study between blood urea nitro...   \n",
       "...                                                 ...   \n",
       "2298                             Review of Rheumatology   \n",
       "2299  Towards context adaptive HMIs in process indus...   \n",
       "2301                  Chapter 6 Lymphomas of the Spleen   \n",
       "2303  ChemInform Abstract: A Boron‐Containing Estrog...   \n",
       "2306  Chapter 43 Molecular mimicry of host glycosyla...   \n",
       "\n",
       "                                               abstract  \\\n",
       "0     <sec> BACKGROUND <p>Sepsis is a major cause of...   \n",
       "1     Objective: The hemoglobin-to-red cell distribu...   \n",
       "3     Sepsis-associated encephalopathy (SAE) is a ma...   \n",
       "8     We are witnessing a widespread adoption of art...   \n",
       "9     BackgroundSepsis is a common critical illness ...   \n",
       "...                                                 ...   \n",
       "2298  Review of Rheumatology is a synopsis of key ar...   \n",
       "2299  This paper presents the combination of two dis...   \n",
       "2301                                                NaN   \n",
       "2303                                                NaN   \n",
       "2306  Molecular mimicry can be defined as the struct...   \n",
       "\n",
       "                                                authors  authors_count  \\\n",
       "0     [{'affiliations': [], 'corresponding': '', 'cu...             11   \n",
       "1     [{'affiliations': [{'city': 'Guangzhou', 'city...              7   \n",
       "3     [{'affiliations': [{'city': 'Beijing', 'city_i...              4   \n",
       "8     [{'affiliations': [], 'corresponding': '', 'cu...              7   \n",
       "9     [{'affiliations': [{'city': 'Huzhou', 'city_id...              5   \n",
       "...                                                 ...            ...   \n",
       "2298  [{'affiliations': [{'city': 'Bethesda', 'city_...              1   \n",
       "2299  [{'affiliations': [{'city': 'Dresden', 'city_i...              5   \n",
       "2301  [{'affiliations': [{'city': 'Boston', 'city_id...              2   \n",
       "2303  [{'affiliations': [{'city': 'Carbondale', 'cit...              2   \n",
       "2306  [{'affiliations': [{'city': 'Borstel', 'city_i...              1   \n",
       "\n",
       "                                           category_for  \\\n",
       "0     [{'id': '80003', 'name': '32 Biomedical and Cl...   \n",
       "1     [{'id': '80003', 'name': '32 Biomedical and Cl...   \n",
       "3     [{'id': '80017', 'name': '46 Information and C...   \n",
       "8     [{'id': '80017', 'name': '46 Information and C...   \n",
       "9     [{'id': '80003', 'name': '32 Biomedical and Cl...   \n",
       "...                                                 ...   \n",
       "2298  [{'id': '80003', 'name': '32 Biomedical and Cl...   \n",
       "2299  [{'id': '80017', 'name': '46 Information and C...   \n",
       "2301                                                NaN   \n",
       "2303                                                NaN   \n",
       "2306  [{'id': '80040', 'name': '3107 Microbiology'},...   \n",
       "\n",
       "                                category_hra  \\\n",
       "0       [{'id': '3901', 'name': 'Clinical'}]   \n",
       "1                                        NaN   \n",
       "3                                        NaN   \n",
       "8                                        NaN   \n",
       "9       [{'id': '3901', 'name': 'Clinical'}]   \n",
       "...                                      ...   \n",
       "2298                                     NaN   \n",
       "2299                                     NaN   \n",
       "2301                                     NaN   \n",
       "2303                                     NaN   \n",
       "2306  [{'id': '3900', 'name': 'Biomedical'}]   \n",
       "\n",
       "                                       category_hrcs_hc  \\\n",
       "0     [{'id': '903', 'name': 'Inflammatory and immun...   \n",
       "1                                                   NaN   \n",
       "3                                                   NaN   \n",
       "8                                                   NaN   \n",
       "9     [{'id': '903', 'name': 'Inflammatory and immun...   \n",
       "...                                                 ...   \n",
       "2298  [{'id': '903', 'name': 'Inflammatory and immun...   \n",
       "2299                                                NaN   \n",
       "2301                                                NaN   \n",
       "2303                                                NaN   \n",
       "2306               [{'id': '898', 'name': 'Infection'}]   \n",
       "\n",
       "                                      category_hrcs_rac  ... num_na  \\\n",
       "0     [{'id': '10204', 'name': '2.4 Surveillance and...  ...    0.0   \n",
       "1                                                   NaN  ...    0.0   \n",
       "3                                                   NaN  ...    0.0   \n",
       "8                                                   NaN  ...    0.0   \n",
       "9                                                   NaN  ...    0.0   \n",
       "...                                                 ...  ...    ...   \n",
       "2298                                                NaN  ...    0.0   \n",
       "2299                                                NaN  ...    0.0   \n",
       "2301                                                NaN  ...    0.0   \n",
       "2303                                                NaN  ...    0.0   \n",
       "2306                                                NaN  ...    0.0   \n",
       "\n",
       "     pct_female_real female_first female_last pct_female_pessimistic  \\\n",
       "0           0.454545          0.0         1.0               0.454545   \n",
       "1           0.428571          0.0         0.0               0.428571   \n",
       "3           0.250000          0.0         1.0               0.250000   \n",
       "8           0.285714          0.0         0.0               0.285714   \n",
       "9           0.200000          0.0         1.0               0.200000   \n",
       "...              ...          ...         ...                    ...   \n",
       "2298        1.000000          1.0         1.0               1.000000   \n",
       "2299        0.200000          0.0         1.0               0.200000   \n",
       "2301        0.500000          1.0         0.0               0.500000   \n",
       "2303        0.000000          0.0         0.0               0.000000   \n",
       "2306        0.000000          0.0         0.0               0.000000   \n",
       "\n",
       "     pct_female_optimistic female_first_pessimistic  female_first_optimistic  \\\n",
       "0                 0.454545                      0.0                      0.0   \n",
       "1                 0.428571                      0.0                      0.0   \n",
       "3                 0.250000                      0.0                      0.0   \n",
       "8                 0.285714                      0.0                      0.0   \n",
       "9                 0.200000                      0.0                      0.0   \n",
       "...                    ...                      ...                      ...   \n",
       "2298              1.000000                      1.0                      1.0   \n",
       "2299              0.200000                      0.0                      0.0   \n",
       "2301              0.500000                      1.0                      1.0   \n",
       "2303              0.000000                      0.0                      0.0   \n",
       "2306              0.000000                      0.0                      0.0   \n",
       "\n",
       "     female_last_pessimistic  female_last_optimistic  \n",
       "0                        1.0                     1.0  \n",
       "1                        0.0                     0.0  \n",
       "3                        1.0                     1.0  \n",
       "8                        0.0                     0.0  \n",
       "9                        1.0                     1.0  \n",
       "...                      ...                     ...  \n",
       "2298                     1.0                     1.0  \n",
       "2299                     1.0                     1.0  \n",
       "2301                     0.0                     0.0  \n",
       "2303                     0.0                     0.0  \n",
       "2306                     0.0                     0.0  \n",
       "\n",
       "[1426 rows x 59 columns]"
      ]
     },
     "execution_count": 61,
     "metadata": {},
     "output_type": "execute_result"
    }
   ],
   "source": [
    "df_pubs_compare[df_pubs_compare.id.isin(pub_ids_num0)]"
   ]
  },
  {
   "cell_type": "code",
   "execution_count": null,
   "metadata": {},
   "outputs": [
    {
     "data": {
      "text/plain": [
       "gender\n",
       "male      8962\n",
       "female    3362\n",
       "Name: count, dtype: int64"
      ]
     },
     "execution_count": 62,
     "metadata": {},
     "output_type": "execute_result"
    }
   ],
   "source": [
    "df_affils_compare.gender.value_counts()"
   ]
  },
  {
   "cell_type": "code",
   "execution_count": null,
   "metadata": {},
   "outputs": [
    {
     "data": {
      "text/plain": [
       "gender\n",
       "male      9004\n",
       "female    3319\n",
       "Name: count, dtype: int64"
      ]
     },
     "execution_count": 63,
     "metadata": {},
     "output_type": "execute_result"
    }
   ],
   "source": [
    "df_auths_compare.gender.value_counts()"
   ]
  },
  {
   "cell_type": "code",
   "execution_count": 346,
   "metadata": {},
   "outputs": [
    {
     "name": "stdout",
     "output_type": "stream",
     "text": [
      "Compare group:\n",
      "Any female author: 1520  /  0.658864325964456\n",
      "No female authors: 677   /  0.2934547030775899\n",
      "Total:  2307\n",
      "\n",
      "Control group:\n",
      "Any female author: 1908  /  0.6552197802197802\n",
      "No female authors: 1002   /  0.3440934065934066\n",
      "Total:  2912\n",
      "Compare group delete all missing :\n",
      "Any female author: 1024  /  0.7180925666199158\n",
      "No female authors: 402   /  0.28190743338008417\n",
      "Total:  1426\n",
      "\n",
      "Control group delete all missing:\n",
      "Any female author: 1330  /  0.7295666483817883\n",
      "No female authors: 493   /  0.27043335161821175\n",
      "Total:  1823\n"
     ]
    },
    {
     "data": {
      "text/plain": [
       "1330"
      ]
     },
     "execution_count": 346,
     "metadata": {},
     "output_type": "execute_result"
    }
   ],
   "source": [
    "def get_female_any(df_pubs):\n",
    "    atleast_one = len(df_pubs[df_pubs.num_female > 0])\n",
    "    none = len(df_pubs[df_pubs.num_female == 0])\n",
    "    total = len(df_pubs)\n",
    "\n",
    "    print(f\"Any female author: {atleast_one}  /  {atleast_one / total}\")\n",
    "    print(f\"No female authors: {none}   /  {none / total}\")\n",
    "    print(f\"Total:  {total}\")\n",
    "    return atleast_one\n",
    "\n",
    "print(\"Compare group:\")\n",
    "get_female_any(df_pubs_compare)\n",
    "print()\n",
    "print(\"Control group:\")\n",
    "get_female_any(df_pubs_control)\n",
    "print(\"Compare group delete all missing :\")\n",
    "get_female_any(df_pubs_compare_processed)\n",
    "print()\n",
    "print(\"Control group delete all missing:\")\n",
    "get_female_any(df_pubs_control_processed)"
   ]
  },
  {
   "cell_type": "code",
   "execution_count": null,
   "metadata": {},
   "outputs": [
    {
     "data": {
      "text/html": [
       "<div>\n",
       "<style scoped>\n",
       "    .dataframe tbody tr th:only-of-type {\n",
       "        vertical-align: middle;\n",
       "    }\n",
       "\n",
       "    .dataframe tbody tr th {\n",
       "        vertical-align: top;\n",
       "    }\n",
       "\n",
       "    .dataframe thead th {\n",
       "        text-align: right;\n",
       "    }\n",
       "</style>\n",
       "<table border=\"1\" class=\"dataframe\">\n",
       "  <thead>\n",
       "    <tr style=\"text-align: right;\">\n",
       "      <th></th>\n",
       "      <th>num_female</th>\n",
       "      <th>genders</th>\n",
       "      <th>researchers</th>\n",
       "    </tr>\n",
       "  </thead>\n",
       "  <tbody>\n",
       "    <tr>\n",
       "      <th>0</th>\n",
       "      <td>5.0</td>\n",
       "      <td>0     0.0\\n1     1.0\\n2     0.0\\n3     1.0\\n4 ...</td>\n",
       "      <td>NaN</td>\n",
       "    </tr>\n",
       "    <tr>\n",
       "      <th>1</th>\n",
       "      <td>3.0</td>\n",
       "      <td>11    0.0\\n12    1.0\\n13    1.0\\n14    1.0\\n15...</td>\n",
       "      <td>[{'first_name': 'Xiaxuan', 'id': 'ur.014116573...</td>\n",
       "    </tr>\n",
       "    <tr>\n",
       "      <th>2</th>\n",
       "      <td>1.0</td>\n",
       "      <td>18    1.0\\n19    NaN\\nName: gender_ints, dtype...</td>\n",
       "      <td>[{'first_name': 'Aarthi', 'id': 'ur.0123011740...</td>\n",
       "    </tr>\n",
       "    <tr>\n",
       "      <th>3</th>\n",
       "      <td>1.0</td>\n",
       "      <td>20    0.0\\n21    0.0\\n22    0.0\\n23    1.0\\nNa...</td>\n",
       "      <td>[{'first_name': 'Xiao', 'id': 'ur.011344015515...</td>\n",
       "    </tr>\n",
       "    <tr>\n",
       "      <th>5</th>\n",
       "      <td>2.0</td>\n",
       "      <td>24    1.0\\n25    1.0\\n26    0.0\\n27    NaN\\n28...</td>\n",
       "      <td>[{'first_name': 'Lingyu', 'id': 'ur.0164572675...</td>\n",
       "    </tr>\n",
       "    <tr>\n",
       "      <th>...</th>\n",
       "      <td>...</td>\n",
       "      <td>...</td>\n",
       "      <td>...</td>\n",
       "    </tr>\n",
       "    <tr>\n",
       "      <th>2296</th>\n",
       "      <td>1.0</td>\n",
       "      <td>13136    0.0\\n13137    0.0\\n13138    0.0\\n1313...</td>\n",
       "      <td>[{'first_name': 'Bashar Chihada', 'id': 'ur.01...</td>\n",
       "    </tr>\n",
       "    <tr>\n",
       "      <th>2298</th>\n",
       "      <td>1.0</td>\n",
       "      <td>13146    1.0\\nName: gender_ints, dtype: float64</td>\n",
       "      <td>[{'first_name': 'Nona T', 'id': 'ur.0113752114...</td>\n",
       "    </tr>\n",
       "    <tr>\n",
       "      <th>2299</th>\n",
       "      <td>1.0</td>\n",
       "      <td>13147    0.0\\n13148    0.0\\n13149    0.0\\n1315...</td>\n",
       "      <td>[{'first_name': 'Leon', 'id': 'ur.013707330300...</td>\n",
       "    </tr>\n",
       "    <tr>\n",
       "      <th>2300</th>\n",
       "      <td>233.0</td>\n",
       "      <td>13152    0.0\\n13153    0.0\\n13154    NaN\\n1315...</td>\n",
       "      <td>[{'first_name': 'Daniel B', 'id': 'ur.06072106...</td>\n",
       "    </tr>\n",
       "    <tr>\n",
       "      <th>2301</th>\n",
       "      <td>1.0</td>\n",
       "      <td>13863    1.0\\n13864    0.0\\nName: gender_ints,...</td>\n",
       "      <td>[{'first_name': 'Aliyah R', 'id': 'ur.01171035...</td>\n",
       "    </tr>\n",
       "  </tbody>\n",
       "</table>\n",
       "<p>1520 rows × 3 columns</p>\n",
       "</div>"
      ],
      "text/plain": [
       "      num_female                                            genders  \\\n",
       "0            5.0  0     0.0\\n1     1.0\\n2     0.0\\n3     1.0\\n4 ...   \n",
       "1            3.0  11    0.0\\n12    1.0\\n13    1.0\\n14    1.0\\n15...   \n",
       "2            1.0  18    1.0\\n19    NaN\\nName: gender_ints, dtype...   \n",
       "3            1.0  20    0.0\\n21    0.0\\n22    0.0\\n23    1.0\\nNa...   \n",
       "5            2.0  24    1.0\\n25    1.0\\n26    0.0\\n27    NaN\\n28...   \n",
       "...          ...                                                ...   \n",
       "2296         1.0  13136    0.0\\n13137    0.0\\n13138    0.0\\n1313...   \n",
       "2298         1.0    13146    1.0\\nName: gender_ints, dtype: float64   \n",
       "2299         1.0  13147    0.0\\n13148    0.0\\n13149    0.0\\n1315...   \n",
       "2300       233.0  13152    0.0\\n13153    0.0\\n13154    NaN\\n1315...   \n",
       "2301         1.0  13863    1.0\\n13864    0.0\\nName: gender_ints,...   \n",
       "\n",
       "                                            researchers  \n",
       "0                                                   NaN  \n",
       "1     [{'first_name': 'Xiaxuan', 'id': 'ur.014116573...  \n",
       "2     [{'first_name': 'Aarthi', 'id': 'ur.0123011740...  \n",
       "3     [{'first_name': 'Xiao', 'id': 'ur.011344015515...  \n",
       "5     [{'first_name': 'Lingyu', 'id': 'ur.0164572675...  \n",
       "...                                                 ...  \n",
       "2296  [{'first_name': 'Bashar Chihada', 'id': 'ur.01...  \n",
       "2298  [{'first_name': 'Nona T', 'id': 'ur.0113752114...  \n",
       "2299  [{'first_name': 'Leon', 'id': 'ur.013707330300...  \n",
       "2300  [{'first_name': 'Daniel B', 'id': 'ur.06072106...  \n",
       "2301  [{'first_name': 'Aliyah R', 'id': 'ur.01171035...  \n",
       "\n",
       "[1520 rows x 3 columns]"
      ]
     },
     "execution_count": 65,
     "metadata": {},
     "output_type": "execute_result"
    }
   ],
   "source": [
    "df_pubs_compare[df_pubs_compare.num_female>0][[\"num_female\",\"genders\",'researchers']]"
   ]
  },
  {
   "cell_type": "code",
   "execution_count": null,
   "metadata": {},
   "outputs": [
    {
     "name": "stdout",
     "output_type": "stream",
     "text": [
      "Compare group:\n",
      "Female first author: 541  /  0.23450368443866493\n",
      "Male first author  : 1398   /  0.6059817945383615\n",
      "Missing first author: 368   /  0.15951452102297356\n",
      "Total:  2307\n",
      "\n",
      "Control group:\n",
      "Female first author: 755  /  0.25927197802197804\n",
      "Male first author  : 1694   /  0.5817307692307693\n",
      "Missing first author: 463   /  0.15899725274725274\n",
      "Total:  2912\n",
      "Compare group delete all missing :\n",
      "Female first author: 401  /  0.2812061711079944\n",
      "Male first author  : 1025   /  0.7187938288920056\n",
      "Missing first author: 0   /  0.0\n",
      "Total:  1426\n",
      "\n",
      "Control group delete all missing:\n",
      "Female first author: 564  /  0.30938014262205155\n",
      "Male first author  : 1259   /  0.6906198573779484\n",
      "Missing first author: 0   /  0.0\n",
      "Total:  1823\n"
     ]
    },
    {
     "data": {
      "text/plain": [
       "564"
      ]
     },
     "execution_count": 67,
     "metadata": {},
     "output_type": "execute_result"
    }
   ],
   "source": [
    "def get_female_first(df_pubs):\n",
    "    female_first = df_pubs[\"female_first\"].value_counts()[1]\n",
    "    male_first = df_pubs[\"female_first\"].value_counts()[0]\n",
    "    missing_first = df_pubs['female_first'].isna().sum()\n",
    "    total = female_first + male_first+missing_first\n",
    "\n",
    "    print(f\"Female first author: {female_first}  /  {female_first / total}\")\n",
    "    print(f\"Male first author  : {male_first}   /  {male_first / total}\")\n",
    "    print(f\"Missing first author: {missing_first}   /  {missing_first / total}\")\n",
    "    print(f\"Total:  {total}\")\n",
    "    return female_first\n",
    "\n",
    "\n",
    "print(\"Compare group:\")\n",
    "get_female_first(df_pubs_compare)\n",
    "print()\n",
    "print(\"Control group:\")\n",
    "get_female_first(df_pubs_control)\n",
    "\n",
    "print(\"Compare group delete all missing :\")\n",
    "get_female_first(df_pubs_compare_processed)\n",
    "print()\n",
    "print(\"Control group delete all missing:\")\n",
    "get_female_first(df_pubs_control_processed)"
   ]
  },
  {
   "cell_type": "code",
   "execution_count": null,
   "metadata": {},
   "outputs": [
    {
     "data": {
      "text/plain": [
       "368"
      ]
     },
     "execution_count": 68,
     "metadata": {},
     "output_type": "execute_result"
    }
   ],
   "source": [
    "df_pubs_compare[\"female_first\"].isna().sum()"
   ]
  },
  {
   "cell_type": "code",
   "execution_count": 337,
   "metadata": {},
   "outputs": [
    {
     "name": "stdout",
     "output_type": "stream",
     "text": [
      "453 1495 359\n",
      "518 1912 482\n",
      "541 1398 368\n",
      "755 1694 463\n"
     ]
    }
   ],
   "source": [
    "\n",
    "compare_female_last = df_pubs_compare[\"female_last\"].value_counts()[1]\n",
    "compare_male_last = df_pubs_compare[\"female_last\"].value_counts()[0]\n",
    "compare_missing_last = df_pubs_compare['female_last'].isna().sum()\n",
    "print(compare_female_last,compare_male_last,compare_missing_last)\n",
    "\n",
    "control_female_last = df_pubs_control[\"female_last\"].value_counts()[1]\n",
    "control_male_last = df_pubs_control[\"female_last\"].value_counts()[0]\n",
    "control_missing_last = df_pubs_control['female_last'].isna().sum()\n",
    "print(control_female_last,control_male_last,control_missing_last)\n",
    "\n",
    "\n",
    "compare_female_first = df_pubs_compare[\"female_first\"].value_counts()[1]\n",
    "compare_male_first = df_pubs_compare[\"female_first\"].value_counts()[0]\n",
    "compare_missing_first = df_pubs_compare['female_first'].isna().sum()\n",
    "print(compare_female_first,compare_male_first,compare_missing_first)\n",
    "\n",
    "control_female_first = df_pubs_control[\"female_first\"].value_counts()[1]\n",
    "control_male_first = df_pubs_control[\"female_first\"].value_counts()[0]\n",
    "control_missing_first = df_pubs_control['female_first'].isna().sum()\n",
    "print(control_female_first,control_male_first,control_missing_first) "
   ]
  },
  {
   "cell_type": "code",
   "execution_count": null,
   "metadata": {},
   "outputs": [
    {
     "name": "stdout",
     "output_type": "stream",
     "text": [
      "Compare group:\n",
      "Female last author: 453  /  0.19635890767230169\n",
      "Male last author  : 1495   /  0.6480277416558301\n",
      "Missing last author: 359   /  0.15561335067186824\n",
      "Total:  2307\n",
      "\n",
      "Control group:\n",
      "Female last author: 518  /  0.1778846153846154\n",
      "Male last author  : 1912   /  0.6565934065934066\n",
      "Missing last author: 482   /  0.16552197802197802\n",
      "Total:  2912\n",
      "Compare group delete all missing :\n",
      "Female last author: 336  /  0.23562412342215988\n",
      "Male last author  : 1090   /  0.7643758765778401\n",
      "Missing last author: 0   /  0.0\n",
      "Total:  1426\n",
      "\n",
      "Control group:\n",
      "Female last author: 395  /  0.21667580910586945\n",
      "Male last author  : 1428   /  0.7833241908941305\n",
      "Missing last author: 0   /  0.0\n",
      "Total:  1823\n"
     ]
    },
    {
     "data": {
      "text/plain": [
       "395"
      ]
     },
     "execution_count": 70,
     "metadata": {},
     "output_type": "execute_result"
    }
   ],
   "source": [
    "def get_female_last(df_pubs):\n",
    "    female_last = df_pubs[\"female_last\"].value_counts()[1]\n",
    "    male_last = df_pubs[\"female_last\"].value_counts()[0]\n",
    "    missing_last = df_pubs['female_last'].isna().sum()\n",
    "    total = female_last + male_last+missing_last\n",
    "\n",
    "    print(f\"Female last author: {female_last}  /  {female_last / total}\")\n",
    "    print(f\"Male last author  : {male_last}   /  {male_last / total}\")\n",
    "    print(f\"Missing last author: {missing_last}   /  {missing_last / total}\")\n",
    "    print(f\"Total:  {total}\")\n",
    "    return female_last\n",
    "\n",
    "print(\"Compare group:\")\n",
    "get_female_last(df_pubs_compare)\n",
    "print()\n",
    "print(\"Control group:\")\n",
    "get_female_last(df_pubs_control)\n",
    "print(\"Compare group delete all missing :\")\n",
    "get_female_last(df_pubs_compare_processed)\n",
    "print()\n",
    "print(\"Control group:\")\n",
    "get_female_last(df_pubs_control_processed)"
   ]
  },
  {
   "cell_type": "code",
   "execution_count": null,
   "metadata": {},
   "outputs": [
    {
     "data": {
      "text/plain": [
       "0.22499230532471529"
      ]
     },
     "execution_count": 71,
     "metadata": {},
     "output_type": "execute_result"
    }
   ],
   "source": [
    "(336+395)/(1426+1823)"
   ]
  },
  {
   "cell_type": "code",
   "execution_count": null,
   "metadata": {},
   "outputs": [
    {
     "name": "stdout",
     "output_type": "stream",
     "text": [
      "Any female author: 1520  /  0.658864325964456\n",
      "No female authors: 677   /  0.2934547030775899\n",
      "Total:  2307\n",
      "count_compare 1520 nobs_compare 2307\n",
      "Any female author: 1908  /  0.6552197802197802\n",
      "No female authors: 1002   /  0.3440934065934066\n",
      "Total:  2912\n",
      "Z-test: female any - Z statistic: 0.2754, p-value: 0.3915\n",
      "Female first author: 541  /  0.23450368443866493\n",
      "Male first author  : 1398   /  0.6059817945383615\n",
      "Missing first author: 368   /  0.15951452102297356\n",
      "Total:  2307\n",
      "Female first author: 755  /  0.25927197802197804\n",
      "Male first author  : 1694   /  0.5817307692307693\n",
      "Missing first author: 463   /  0.15899725274725274\n",
      "Total:  2912\n",
      "Z-test: female first - Z statistic: -2.1113, p-value: 0.9826\n",
      "Female last author: 453  /  0.19635890767230169\n",
      "Male last author  : 1495   /  0.6480277416558301\n",
      "Missing last author: 359   /  0.15561335067186824\n",
      "Total:  2307\n",
      "Female last author: 518  /  0.1778846153846154\n",
      "Male last author  : 1912   /  0.6565934065934066\n",
      "Missing last author: 482   /  0.16552197802197802\n",
      "Total:  2912\n",
      "Z-test: female last - Z statistic: 1.5337, p-value: 0.0626\n"
     ]
    }
   ],
   "source": [
    "# Validation for Z test (not used )\n",
    "from statsmodels.stats.proportion import proportions_ztest\n",
    "\n",
    "\n",
    "count_compare = get_female_any(df_pubs_compare)\n",
    "nobs_compare = len(df_pubs_compare)\n",
    "print(\"count_compare\",count_compare,\"nobs_compare\",nobs_compare)\n",
    "count_control = get_female_any(df_pubs_control)\n",
    "nobs_control = len(df_pubs_control)\n",
    "\n",
    "z_stat, p_value = proportions_ztest([count_compare, count_control], [nobs_compare, nobs_control], alternative='larger')\n",
    "print(f\"Z-test: female any - Z statistic: {z_stat:.4f}, p-value: {p_value:.4f}\")\n",
    "\n",
    "count_compare = get_female_first(df_pubs_compare)\n",
    "count_control = get_female_first(df_pubs_control)\n",
    "\n",
    "z_stat, p_value = proportions_ztest([count_compare, count_control], [len(df_pubs_compare.female_first.dropna()), len(df_pubs_control.female_first.dropna())], alternative='larger')\n",
    "print(f\"Z-test: female first - Z statistic: {z_stat:.4f}, p-value: {p_value:.4f}\")\n",
    "\n",
    "count_compare = get_female_last(df_pubs_compare)\n",
    "count_control = get_female_last(df_pubs_control)\n",
    "\n",
    "z_stat, p_value = proportions_ztest([count_compare, count_control], [len(df_pubs_compare.female_last.dropna()), len(df_pubs_control.female_last.dropna())], alternative='larger')\n",
    "print(f\"Z-test: female last - Z statistic: {z_stat:.4f}, p-value: {p_value:.4f}\")\n"
   ]
  },
  {
   "cell_type": "code",
   "execution_count": null,
   "metadata": {},
   "outputs": [
    {
     "name": "stdout",
     "output_type": "stream",
     "text": [
      "Any female author: 1024  /  0.7180925666199158\n",
      "No female authors: 402   /  0.28190743338008417\n",
      "Total:  1426\n",
      "count_compare 1024 nobs_compare 1426\n",
      "Any female author: 1908  /  0.6552197802197802\n",
      "No female authors: 1002   /  0.3440934065934066\n",
      "Total:  2912\n",
      "Z-test: female any - Z statistic: 4.1561, p-value: 0.0000\n",
      "Female first author: 401  /  0.2812061711079944\n",
      "Male first author  : 1025   /  0.7187938288920056\n",
      "Missing first author: 0   /  0.0\n",
      "Total:  1426\n",
      "Female first author: 564  /  0.30938014262205155\n",
      "Male first author  : 1259   /  0.6906198573779484\n",
      "Missing first author: 0   /  0.0\n",
      "Total:  1823\n",
      "Z-test: female first - Z statistic: -1.8657, p-value: 0.9690\n",
      "Female last author: 336  /  0.23562412342215988\n",
      "Male last author  : 1090   /  0.7643758765778401\n",
      "Missing last author: 0   /  0.0\n",
      "Total:  1426\n",
      "Female last author: 395  /  0.21667580910586945\n",
      "Male last author  : 1428   /  0.7833241908941305\n",
      "Missing last author: 0   /  0.0\n",
      "Total:  1823\n",
      "Z-test: female last - Z statistic: 0.8758, p-value: 0.1906\n"
     ]
    }
   ],
   "source": [
    "# Validation for Z test (not used )\n",
    "from statsmodels.stats.proportion import proportions_ztest\n",
    "\n",
    "############## for processed \n",
    "count_compare = get_female_any(df_pubs_compare_processed)\n",
    "nobs_compare = len(df_pubs_compare_processed)\n",
    "print(\"count_compare\",count_compare,\"nobs_compare\",nobs_compare)\n",
    "count_control = get_female_any(df_pubs_control)\n",
    "nobs_control = len(df_pubs_control)\n",
    "\n",
    "z_stat, p_value = proportions_ztest([count_compare, count_control], [nobs_compare, nobs_control], alternative='larger')\n",
    "print(f\"Z-test: female any - Z statistic: {z_stat:.4f}, p-value: {p_value:.4f}\")\n",
    "\n",
    "count_compare = get_female_first(df_pubs_compare_processed)\n",
    "count_control = get_female_first(df_pubs_control_processed)\n",
    "\n",
    "z_stat, p_value = proportions_ztest([count_compare, count_control], [len(df_pubs_compare.female_first.dropna()), len(df_pubs_control.female_first.dropna())], alternative='larger')\n",
    "print(f\"Z-test: female first - Z statistic: {z_stat:.4f}, p-value: {p_value:.4f}\")\n",
    "\n",
    "count_compare = get_female_last(df_pubs_compare_processed)\n",
    "count_control = get_female_last(df_pubs_control_processed)\n",
    "\n",
    "z_stat, p_value = proportions_ztest([count_compare, count_control], [len(df_pubs_compare.female_last.dropna()), len(df_pubs_control.female_last.dropna())], alternative='larger')\n",
    "print(f\"Z-test: female last - Z statistic: {z_stat:.4f}, p-value: {p_value:.4f}\")\n"
   ]
  },
  {
   "cell_type": "code",
   "execution_count": null,
   "metadata": {},
   "outputs": [
    {
     "name": "stdout",
     "output_type": "stream",
     "text": [
      "percentage of overall first female author  0.24832343360797088\n",
      "percentage of overall last female author   0.1860509676183177\n"
     ]
    }
   ],
   "source": [
    "print(\"percentage of overall first female author \",(541+755)/(2307+2912))\n",
    "print(\"percentage of overall last female author  \",(453+518)/(2307+2912))\n"
   ]
  },
  {
   "cell_type": "markdown",
   "metadata": {},
   "source": [
    "### Add sensitivity analyses for missing gender author_order  "
   ]
  },
  {
   "cell_type": "code",
   "execution_count": 331,
   "metadata": {},
   "outputs": [
    {
     "name": "stdout",
     "output_type": "stream",
     "text": [
      "Requirement already satisfied: scipy in /Users/chenyuli/anaconda3/envs/py311/lib/python3.11/site-packages (1.12.0)\n",
      "Requirement already satisfied: numpy<1.29.0,>=1.22.4 in /Users/chenyuli/anaconda3/envs/py311/lib/python3.11/site-packages (from scipy) (1.26.4)\n",
      "Note: you may need to restart the kernel to use updated packages.\n"
     ]
    }
   ],
   "source": [
    "pip install scipy"
   ]
  },
  {
   "cell_type": "code",
   "execution_count": 349,
   "metadata": {},
   "outputs": [
    {
     "name": "stdout",
     "output_type": "stream",
     "text": [
      "  Analysis Type  Adjusted Treatment Count  Adjusted Treatment Proportion (%)  \\\n",
      "0  First Author                       909                          39.401821   \n",
      "1   Last Author                       812                          35.197226   \n",
      "\n",
      "   Adjusted Control Count  Adjusted Control Proportion (%)  Z-Statistic  \\\n",
      "0                    1218                        41.826923    -1.770679   \n",
      "1                    1000                        34.340659     0.645519   \n",
      "\n",
      "    P-Value  \n",
      "0  0.961693  \n",
      "1  0.259295  \n"
     ]
    }
   ],
   "source": [
    "from statsmodels.stats.proportion import proportions_ztest\n",
    "import pandas as pd\n",
    "\n",
    "def sensitivity_analysis_all_missing_female(total_compare_papers, known_compare_papers, compare_female_count, total_control_papers, known_control_papers, control_female_count):\n",
    "    # Calculate the number of papers with missing gender information for each group\n",
    "    missing_compare_papers = total_compare_papers - known_compare_papers\n",
    "    missing_control_papers = total_control_papers - known_control_papers\n",
    "\n",
    "    # Assume all the missing authors are female and add them to the known female author counts\n",
    "    adjusted_compare_female_count = compare_female_count + missing_compare_papers\n",
    "    adjusted_control_female_count = control_female_count + missing_control_papers\n",
    "\n",
    "    # Calculate the adjusted proportions\n",
    "    adjusted_compare_female_proportion = adjusted_compare_female_count / total_compare_papers * 100\n",
    "    adjusted_control_female_proportion = adjusted_control_female_count / total_control_papers * 100\n",
    "\n",
    "    # Perform the one-sided Z-test with the alternative hypothesis stating that the proportion in the compare group is greater than the control group\n",
    "    z_stat, p_value = proportions_ztest([adjusted_compare_female_count, adjusted_control_female_count],\n",
    "                                        [total_compare_papers, total_control_papers],\n",
    "                                        alternative='larger')\n",
    "\n",
    "    return adjusted_compare_female_count, adjusted_compare_female_proportion, adjusted_control_female_count, adjusted_control_female_proportion, z_stat, p_value\n",
    "\n",
    "# Calculate the total number of papers and known papers for each group\n",
    "total_compare_papers = len(df_pubs_compare)\n",
    "total_control_papers = len(df_pubs_control)\n",
    "known_compare_papers_last = total_compare_papers - compare_missing_last\n",
    "known_control_papers_last = total_control_papers - control_missing_last\n",
    "known_compare_papers_first = total_compare_papers - compare_missing_first\n",
    "known_control_papers_first = total_control_papers - control_missing_first\n",
    "\n",
    "# Perform the sensitivity analysis for first and last authors\n",
    "first_results = sensitivity_analysis_all_missing_female(total_compare_papers, known_compare_papers_first, compare_female_first, total_control_papers, known_control_papers_first, control_female_first)\n",
    "last_results = sensitivity_analysis_all_missing_female(total_compare_papers, known_compare_papers_last, compare_female_last, total_control_papers, known_control_papers_last, control_female_last)\n",
    "\n",
    "# Create a DataFrame with the results\n",
    "results_df = pd.DataFrame({\n",
    "    'Analysis Type': ['First Author', 'Last Author'],\n",
    "    'Adjusted Treatment Count': [first_results[0], last_results[0]],\n",
    "    'Adjusted Treatment Proportion (%)': [first_results[1], last_results[1]],\n",
    "    'Adjusted Control Count': [first_results[2], last_results[2]],\n",
    "    'Adjusted Control Proportion (%)': [first_results[3], last_results[3]],\n",
    "    'Z-Statistic': [first_results[4], last_results[4]],\n",
    "    'P-Value': [first_results[5], last_results[5]]\n",
    "})\n",
    "\n",
    "print(results_df)"
   ]
  },
  {
   "cell_type": "code",
   "execution_count": 350,
   "metadata": {},
   "outputs": [
    {
     "data": {
      "text/html": [
       "<div>\n",
       "<style scoped>\n",
       "    .dataframe tbody tr th:only-of-type {\n",
       "        vertical-align: middle;\n",
       "    }\n",
       "\n",
       "    .dataframe tbody tr th {\n",
       "        vertical-align: top;\n",
       "    }\n",
       "\n",
       "    .dataframe thead th {\n",
       "        text-align: right;\n",
       "    }\n",
       "</style>\n",
       "<table border=\"1\" class=\"dataframe\">\n",
       "  <thead>\n",
       "    <tr style=\"text-align: right;\">\n",
       "      <th></th>\n",
       "      <th>Analysis Type</th>\n",
       "      <th>Adjusted Treatment Count</th>\n",
       "      <th>Adjusted Treatment Proportion (%)</th>\n",
       "      <th>Adjusted Control Count</th>\n",
       "      <th>Adjusted Control Proportion (%)</th>\n",
       "      <th>Z-Statistic</th>\n",
       "      <th>P-Value</th>\n",
       "    </tr>\n",
       "  </thead>\n",
       "  <tbody>\n",
       "    <tr>\n",
       "      <th>0</th>\n",
       "      <td>First Author</td>\n",
       "      <td>909</td>\n",
       "      <td>39.401821</td>\n",
       "      <td>1218</td>\n",
       "      <td>41.826923</td>\n",
       "      <td>-1.770679</td>\n",
       "      <td>0.961693</td>\n",
       "    </tr>\n",
       "    <tr>\n",
       "      <th>1</th>\n",
       "      <td>Last Author</td>\n",
       "      <td>812</td>\n",
       "      <td>35.197226</td>\n",
       "      <td>1000</td>\n",
       "      <td>34.340659</td>\n",
       "      <td>0.645519</td>\n",
       "      <td>0.259295</td>\n",
       "    </tr>\n",
       "  </tbody>\n",
       "</table>\n",
       "</div>"
      ],
      "text/plain": [
       "  Analysis Type  Adjusted Treatment Count  Adjusted Treatment Proportion (%)  \\\n",
       "0  First Author                       909                          39.401821   \n",
       "1   Last Author                       812                          35.197226   \n",
       "\n",
       "   Adjusted Control Count  Adjusted Control Proportion (%)  Z-Statistic  \\\n",
       "0                    1218                        41.826923    -1.770679   \n",
       "1                    1000                        34.340659     0.645519   \n",
       "\n",
       "    P-Value  \n",
       "0  0.961693  \n",
       "1  0.259295  "
      ]
     },
     "execution_count": 350,
     "metadata": {},
     "output_type": "execute_result"
    }
   ],
   "source": [
    "results_df"
   ]
  },
  {
   "cell_type": "code",
   "execution_count": 352,
   "metadata": {},
   "outputs": [
    {
     "data": {
      "text/html": [
       "<div>\n",
       "<style scoped>\n",
       "    .dataframe tbody tr th:only-of-type {\n",
       "        vertical-align: middle;\n",
       "    }\n",
       "\n",
       "    .dataframe tbody tr th {\n",
       "        vertical-align: top;\n",
       "    }\n",
       "\n",
       "    .dataframe thead th {\n",
       "        text-align: right;\n",
       "    }\n",
       "</style>\n",
       "<table border=\"1\" class=\"dataframe\">\n",
       "  <thead>\n",
       "    <tr style=\"text-align: right;\">\n",
       "      <th></th>\n",
       "      <th>Analysis Type</th>\n",
       "      <th>Adjusted Treatment Count</th>\n",
       "      <th>Adjusted Treatment Proportion (%)</th>\n",
       "      <th>Adjusted Control Count</th>\n",
       "      <th>Adjusted Control Proportion (%)</th>\n",
       "      <th>Z-Statistic</th>\n",
       "      <th>P-Value</th>\n",
       "    </tr>\n",
       "  </thead>\n",
       "  <tbody>\n",
       "    <tr>\n",
       "      <th>0</th>\n",
       "      <td>First Author</td>\n",
       "      <td>541</td>\n",
       "      <td>27.90098</td>\n",
       "      <td>755</td>\n",
       "      <td>30.828910</td>\n",
       "      <td>-2.111325</td>\n",
       "      <td>0.982628</td>\n",
       "    </tr>\n",
       "    <tr>\n",
       "      <th>1</th>\n",
       "      <td>Last Author</td>\n",
       "      <td>453</td>\n",
       "      <td>23.25462</td>\n",
       "      <td>518</td>\n",
       "      <td>21.316872</td>\n",
       "      <td>1.533688</td>\n",
       "      <td>0.062553</td>\n",
       "    </tr>\n",
       "  </tbody>\n",
       "</table>\n",
       "</div>"
      ],
      "text/plain": [
       "  Analysis Type  Adjusted Treatment Count  Adjusted Treatment Proportion (%)  \\\n",
       "0  First Author                       541                           27.90098   \n",
       "1   Last Author                       453                           23.25462   \n",
       "\n",
       "   Adjusted Control Count  Adjusted Control Proportion (%)  Z-Statistic  \\\n",
       "0                     755                        30.828910    -2.111325   \n",
       "1                     518                        21.316872     1.533688   \n",
       "\n",
       "    P-Value  \n",
       "0  0.982628  \n",
       "1  0.062553  "
      ]
     },
     "execution_count": 352,
     "metadata": {},
     "output_type": "execute_result"
    }
   ],
   "source": [
    "\n",
    "def sensitivity_analysis_all_missing_not_female(total_compare_papers, known_compare_papers, compare_female_count, total_control_papers, known_control_papers, control_female_count):\n",
    "    # Calculate the number of papers with missing gender information for each group\n",
    "    missing_compare_papers = total_compare_papers - known_compare_papers\n",
    "    missing_control_papers = total_control_papers - known_control_papers\n",
    "\n",
    "    # Assume all the missing authors are not female and subtract them from the total paper counts\n",
    "    adjusted_compare_total_papers = total_compare_papers - missing_compare_papers\n",
    "    adjusted_control_total_papers = total_control_papers - missing_control_papers\n",
    "\n",
    "    # Calculate the adjusted proportions\n",
    "    adjusted_compare_female_proportion = compare_female_count / adjusted_compare_total_papers * 100\n",
    "    adjusted_control_female_proportion = control_female_count / adjusted_control_total_papers * 100\n",
    "\n",
    "    # Perform the one-sided Z-test with the alternative hypothesis stating that the proportion in the compare group is greater than the control group\n",
    "    z_stat, p_value = proportions_ztest([compare_female_count, control_female_count],\n",
    "                                        [adjusted_compare_total_papers, adjusted_control_total_papers],\n",
    "                                        alternative='larger')\n",
    "\n",
    "    return compare_female_count, adjusted_compare_female_proportion, control_female_count, adjusted_control_female_proportion, z_stat, p_value\n",
    "\n",
    "# Calculate the total number of papers and known papers for each group\n",
    "total_compare_papers = len(df_pubs_compare)\n",
    "total_control_papers = len(df_pubs_control)\n",
    "known_compare_papers_last = total_compare_papers - compare_missing_last\n",
    "known_control_papers_last = total_control_papers - control_missing_last\n",
    "known_compare_papers_first = total_compare_papers - compare_missing_first\n",
    "known_control_papers_first = total_control_papers - control_missing_first\n",
    "\n",
    "# Perform the sensitivity analysis for first and last authors\n",
    "first_results = sensitivity_analysis_all_missing_not_female(total_compare_papers, known_compare_papers_first, compare_female_first, total_control_papers, known_control_papers_first, control_female_first)\n",
    "last_results = sensitivity_analysis_all_missing_not_female(total_compare_papers, known_compare_papers_last, compare_female_last, total_control_papers, known_control_papers_last, control_female_last)\n",
    "\n",
    "# Create a DataFrame with the results\n",
    "results_df = pd.DataFrame({\n",
    "    'Analysis Type': ['First Author', 'Last Author'],\n",
    "    'Adjusted Treatment Count': [first_results[0], last_results[0]],\n",
    "    'Adjusted Treatment Proportion (%)': [first_results[1], last_results[1]],\n",
    "    'Adjusted Control Count': [first_results[2], last_results[2]],\n",
    "    'Adjusted Control Proportion (%)': [first_results[3], last_results[3]],\n",
    "    'Z-Statistic': [first_results[4], last_results[4]],\n",
    "    'P-Value': [first_results[5], last_results[5]]\n",
    "})\n",
    "\n",
    "results_df"
   ]
  },
  {
   "cell_type": "code",
   "execution_count": 353,
   "metadata": {},
   "outputs": [
    {
     "data": {
      "text/html": [
       "<div>\n",
       "<style scoped>\n",
       "    .dataframe tbody tr th:only-of-type {\n",
       "        vertical-align: middle;\n",
       "    }\n",
       "\n",
       "    .dataframe tbody tr th {\n",
       "        vertical-align: top;\n",
       "    }\n",
       "\n",
       "    .dataframe thead th {\n",
       "        text-align: right;\n",
       "    }\n",
       "</style>\n",
       "<table border=\"1\" class=\"dataframe\">\n",
       "  <thead>\n",
       "    <tr style=\"text-align: right;\">\n",
       "      <th></th>\n",
       "      <th>Analysis Type</th>\n",
       "      <th>Adjusted Treatment Count</th>\n",
       "      <th>Adjusted Treatment Proportion (%)</th>\n",
       "      <th>Adjusted Control Count</th>\n",
       "      <th>Adjusted Control Proportion (%)</th>\n",
       "      <th>Z-Statistic</th>\n",
       "      <th>P-Value</th>\n",
       "    </tr>\n",
       "  </thead>\n",
       "  <tbody>\n",
       "    <tr>\n",
       "      <th>0</th>\n",
       "      <td>First Author</td>\n",
       "      <td>643</td>\n",
       "      <td>27.871695</td>\n",
       "      <td>897</td>\n",
       "      <td>30.803571</td>\n",
       "      <td>-2.306394</td>\n",
       "      <td>0.989456</td>\n",
       "    </tr>\n",
       "    <tr>\n",
       "      <th>1</th>\n",
       "      <td>Last Author</td>\n",
       "      <td>536</td>\n",
       "      <td>23.233637</td>\n",
       "      <td>620</td>\n",
       "      <td>21.291209</td>\n",
       "      <td>1.678246</td>\n",
       "      <td>0.046650</td>\n",
       "    </tr>\n",
       "  </tbody>\n",
       "</table>\n",
       "</div>"
      ],
      "text/plain": [
       "  Analysis Type  Adjusted Treatment Count  Adjusted Treatment Proportion (%)  \\\n",
       "0  First Author                       643                          27.871695   \n",
       "1   Last Author                       536                          23.233637   \n",
       "\n",
       "   Adjusted Control Count  Adjusted Control Proportion (%)  Z-Statistic  \\\n",
       "0                     897                        30.803571    -2.306394   \n",
       "1                     620                        21.291209     1.678246   \n",
       "\n",
       "    P-Value  \n",
       "0  0.989456  \n",
       "1  0.046650  "
      ]
     },
     "execution_count": 353,
     "metadata": {},
     "output_type": "execute_result"
    }
   ],
   "source": [
    "from statsmodels.stats.proportion import proportions_ztest\n",
    "import pandas as pd\n",
    "\n",
    "def sensitivity_analysis_impute_gender(total_compare_papers, known_compare_papers, compare_female_count, compare_male_count, total_control_papers, known_control_papers, control_female_count, control_male_count):\n",
    "    # Calculate the proportion of female authors in the known data for each group\n",
    "    compare_female_proportion = compare_female_count / known_compare_papers\n",
    "    control_female_proportion = control_female_count / known_control_papers\n",
    "\n",
    "    # Calculate the number of papers with missing author information for each group\n",
    "    missing_compare_papers = total_compare_papers - known_compare_papers\n",
    "    missing_control_papers = total_control_papers - known_control_papers\n",
    "\n",
    "    # Impute the missing data by distributing the female and non-female authors based on the known proportions for both groups\n",
    "    imputed_compare_female_count = int(missing_compare_papers * compare_female_proportion)\n",
    "    imputed_control_female_count = int(missing_control_papers * control_female_proportion)\n",
    "\n",
    "    # Calculate the adjusted counts of female authors for each group\n",
    "    adjusted_compare_female_count = compare_female_count + imputed_compare_female_count\n",
    "    adjusted_control_female_count = control_female_count + imputed_control_female_count\n",
    "\n",
    "    # Calculate the adjusted proportions\n",
    "    adjusted_compare_female_proportion = adjusted_compare_female_count / total_compare_papers * 100\n",
    "    adjusted_control_female_proportion = adjusted_control_female_count / total_control_papers * 100\n",
    "\n",
    "    # Perform the one-sided Z-test with the alternative hypothesis stating that the proportion in the compare group is greater than the control group\n",
    "    z_stat, p_value = proportions_ztest([adjusted_compare_female_count, adjusted_control_female_count],\n",
    "                                        [total_compare_papers, total_control_papers],\n",
    "                                        alternative='larger')\n",
    "\n",
    "    return adjusted_compare_female_count, adjusted_compare_female_proportion, adjusted_control_female_count, adjusted_control_female_proportion, z_stat, p_value\n",
    "\n",
    "# Calculate the total number of papers and known papers for each group\n",
    "total_compare_papers = len(df_pubs_compare)\n",
    "total_control_papers = len(df_pubs_control)\n",
    "known_compare_papers_last = total_compare_papers - compare_missing_last\n",
    "known_control_papers_last = total_control_papers - control_missing_last\n",
    "known_compare_papers_first = total_compare_papers - compare_missing_first\n",
    "known_control_papers_first = total_control_papers - control_missing_first\n",
    "\n",
    "# Perform the sensitivity analysis for first and last authors\n",
    "first_results = sensitivity_analysis_impute_gender(total_compare_papers, known_compare_papers_first, compare_female_first, compare_male_first, total_control_papers, known_control_papers_first, control_female_first, control_male_first)\n",
    "last_results = sensitivity_analysis_impute_gender(total_compare_papers, known_compare_papers_last, compare_female_last, compare_male_last, total_control_papers, known_control_papers_last, control_female_last, control_male_last)\n",
    "\n",
    "# Create a DataFrame with the results\n",
    "results_df = pd.DataFrame({\n",
    "    'Analysis Type': ['First Author', 'Last Author'],\n",
    "    'Adjusted Treatment Count': [first_results[0], last_results[0]],\n",
    "    'Adjusted Treatment Proportion (%)': [first_results[1], last_results[1]],\n",
    "    'Adjusted Control Count': [first_results[2], last_results[2]],\n",
    "    'Adjusted Control Proportion (%)': [first_results[3], last_results[3]],\n",
    "    'Z-Statistic': [first_results[4], last_results[4]],\n",
    "    'P-Value': [first_results[5], last_results[5]]\n",
    "})\n",
    "\n",
    "results_df"
   ]
  },
  {
   "cell_type": "markdown",
   "metadata": {},
   "source": [
    "# 2. LMIC Calculation "
   ]
  },
  {
   "cell_type": "code",
   "execution_count": null,
   "metadata": {},
   "outputs": [
    {
     "data": {
      "text/html": [
       "<div>\n",
       "<style scoped>\n",
       "    .dataframe tbody tr th:only-of-type {\n",
       "        vertical-align: middle;\n",
       "    }\n",
       "\n",
       "    .dataframe tbody tr th {\n",
       "        vertical-align: top;\n",
       "    }\n",
       "\n",
       "    .dataframe thead th {\n",
       "        text-align: right;\n",
       "    }\n",
       "</style>\n",
       "<table border=\"1\" class=\"dataframe\">\n",
       "  <thead>\n",
       "    <tr style=\"text-align: right;\">\n",
       "      <th></th>\n",
       "      <th>Unnamed: 0</th>\n",
       "      <th>aff_city</th>\n",
       "      <th>aff_city_id</th>\n",
       "      <th>aff_country</th>\n",
       "      <th>aff_country_code</th>\n",
       "      <th>aff_id</th>\n",
       "      <th>aff_name</th>\n",
       "      <th>aff_raw_affiliation</th>\n",
       "      <th>aff_state</th>\n",
       "      <th>aff_state_code</th>\n",
       "      <th>researcher_id</th>\n",
       "      <th>first_name</th>\n",
       "      <th>last_name</th>\n",
       "      <th>year</th>\n",
       "      <th>gender</th>\n",
       "      <th>gender_ints</th>\n",
       "      <th>income_class</th>\n",
       "      <th>income_class_num</th>\n",
       "    </tr>\n",
       "    <tr>\n",
       "      <th>pub_id</th>\n",
       "      <th></th>\n",
       "      <th></th>\n",
       "      <th></th>\n",
       "      <th></th>\n",
       "      <th></th>\n",
       "      <th></th>\n",
       "      <th></th>\n",
       "      <th></th>\n",
       "      <th></th>\n",
       "      <th></th>\n",
       "      <th></th>\n",
       "      <th></th>\n",
       "      <th></th>\n",
       "      <th></th>\n",
       "      <th></th>\n",
       "      <th></th>\n",
       "      <th></th>\n",
       "      <th></th>\n",
       "    </tr>\n",
       "  </thead>\n",
       "  <tbody>\n",
       "    <tr>\n",
       "      <th>pub.1001792778</th>\n",
       "      <td>3</td>\n",
       "      <td>3</td>\n",
       "      <td>3</td>\n",
       "      <td>3</td>\n",
       "      <td>3</td>\n",
       "      <td>3</td>\n",
       "      <td>3</td>\n",
       "      <td>3</td>\n",
       "      <td>3</td>\n",
       "      <td>3</td>\n",
       "      <td>2</td>\n",
       "      <td>3</td>\n",
       "      <td>3</td>\n",
       "      <td>3</td>\n",
       "      <td>3</td>\n",
       "      <td>3</td>\n",
       "      <td>3</td>\n",
       "      <td>3</td>\n",
       "    </tr>\n",
       "    <tr>\n",
       "      <th>pub.1002353037</th>\n",
       "      <td>10</td>\n",
       "      <td>10</td>\n",
       "      <td>10</td>\n",
       "      <td>10</td>\n",
       "      <td>10</td>\n",
       "      <td>9</td>\n",
       "      <td>10</td>\n",
       "      <td>10</td>\n",
       "      <td>9</td>\n",
       "      <td>8</td>\n",
       "      <td>10</td>\n",
       "      <td>10</td>\n",
       "      <td>10</td>\n",
       "      <td>10</td>\n",
       "      <td>0</td>\n",
       "      <td>0</td>\n",
       "      <td>10</td>\n",
       "      <td>10</td>\n",
       "    </tr>\n",
       "    <tr>\n",
       "      <th>pub.1003040860</th>\n",
       "      <td>1</td>\n",
       "      <td>1</td>\n",
       "      <td>1</td>\n",
       "      <td>1</td>\n",
       "      <td>1</td>\n",
       "      <td>1</td>\n",
       "      <td>1</td>\n",
       "      <td>1</td>\n",
       "      <td>1</td>\n",
       "      <td>1</td>\n",
       "      <td>1</td>\n",
       "      <td>1</td>\n",
       "      <td>1</td>\n",
       "      <td>1</td>\n",
       "      <td>1</td>\n",
       "      <td>1</td>\n",
       "      <td>1</td>\n",
       "      <td>1</td>\n",
       "    </tr>\n",
       "    <tr>\n",
       "      <th>pub.1006639384</th>\n",
       "      <td>3</td>\n",
       "      <td>3</td>\n",
       "      <td>3</td>\n",
       "      <td>3</td>\n",
       "      <td>3</td>\n",
       "      <td>3</td>\n",
       "      <td>3</td>\n",
       "      <td>3</td>\n",
       "      <td>3</td>\n",
       "      <td>3</td>\n",
       "      <td>3</td>\n",
       "      <td>3</td>\n",
       "      <td>3</td>\n",
       "      <td>3</td>\n",
       "      <td>3</td>\n",
       "      <td>3</td>\n",
       "      <td>3</td>\n",
       "      <td>3</td>\n",
       "    </tr>\n",
       "    <tr>\n",
       "      <th>pub.1007449969</th>\n",
       "      <td>4</td>\n",
       "      <td>4</td>\n",
       "      <td>4</td>\n",
       "      <td>4</td>\n",
       "      <td>4</td>\n",
       "      <td>4</td>\n",
       "      <td>4</td>\n",
       "      <td>4</td>\n",
       "      <td>0</td>\n",
       "      <td>0</td>\n",
       "      <td>4</td>\n",
       "      <td>4</td>\n",
       "      <td>4</td>\n",
       "      <td>4</td>\n",
       "      <td>3</td>\n",
       "      <td>3</td>\n",
       "      <td>4</td>\n",
       "      <td>4</td>\n",
       "    </tr>\n",
       "    <tr>\n",
       "      <th>...</th>\n",
       "      <td>...</td>\n",
       "      <td>...</td>\n",
       "      <td>...</td>\n",
       "      <td>...</td>\n",
       "      <td>...</td>\n",
       "      <td>...</td>\n",
       "      <td>...</td>\n",
       "      <td>...</td>\n",
       "      <td>...</td>\n",
       "      <td>...</td>\n",
       "      <td>...</td>\n",
       "      <td>...</td>\n",
       "      <td>...</td>\n",
       "      <td>...</td>\n",
       "      <td>...</td>\n",
       "      <td>...</td>\n",
       "      <td>...</td>\n",
       "      <td>...</td>\n",
       "    </tr>\n",
       "    <tr>\n",
       "      <th>pub.1155896423</th>\n",
       "      <td>4</td>\n",
       "      <td>4</td>\n",
       "      <td>4</td>\n",
       "      <td>4</td>\n",
       "      <td>4</td>\n",
       "      <td>0</td>\n",
       "      <td>4</td>\n",
       "      <td>4</td>\n",
       "      <td>4</td>\n",
       "      <td>0</td>\n",
       "      <td>2</td>\n",
       "      <td>4</td>\n",
       "      <td>4</td>\n",
       "      <td>4</td>\n",
       "      <td>2</td>\n",
       "      <td>2</td>\n",
       "      <td>4</td>\n",
       "      <td>4</td>\n",
       "    </tr>\n",
       "    <tr>\n",
       "      <th>pub.1155904804</th>\n",
       "      <td>6</td>\n",
       "      <td>6</td>\n",
       "      <td>6</td>\n",
       "      <td>6</td>\n",
       "      <td>6</td>\n",
       "      <td>6</td>\n",
       "      <td>6</td>\n",
       "      <td>6</td>\n",
       "      <td>0</td>\n",
       "      <td>0</td>\n",
       "      <td>2</td>\n",
       "      <td>6</td>\n",
       "      <td>6</td>\n",
       "      <td>6</td>\n",
       "      <td>4</td>\n",
       "      <td>4</td>\n",
       "      <td>6</td>\n",
       "      <td>6</td>\n",
       "    </tr>\n",
       "    <tr>\n",
       "      <th>pub.1156298472</th>\n",
       "      <td>6</td>\n",
       "      <td>4</td>\n",
       "      <td>4</td>\n",
       "      <td>4</td>\n",
       "      <td>4</td>\n",
       "      <td>4</td>\n",
       "      <td>6</td>\n",
       "      <td>6</td>\n",
       "      <td>0</td>\n",
       "      <td>0</td>\n",
       "      <td>1</td>\n",
       "      <td>6</td>\n",
       "      <td>6</td>\n",
       "      <td>6</td>\n",
       "      <td>4</td>\n",
       "      <td>4</td>\n",
       "      <td>4</td>\n",
       "      <td>4</td>\n",
       "    </tr>\n",
       "    <tr>\n",
       "      <th>pub.1156298670</th>\n",
       "      <td>5</td>\n",
       "      <td>5</td>\n",
       "      <td>5</td>\n",
       "      <td>5</td>\n",
       "      <td>5</td>\n",
       "      <td>5</td>\n",
       "      <td>5</td>\n",
       "      <td>5</td>\n",
       "      <td>0</td>\n",
       "      <td>0</td>\n",
       "      <td>3</td>\n",
       "      <td>5</td>\n",
       "      <td>5</td>\n",
       "      <td>5</td>\n",
       "      <td>4</td>\n",
       "      <td>4</td>\n",
       "      <td>5</td>\n",
       "      <td>5</td>\n",
       "    </tr>\n",
       "    <tr>\n",
       "      <th>pub.1157339777</th>\n",
       "      <td>6</td>\n",
       "      <td>6</td>\n",
       "      <td>6</td>\n",
       "      <td>6</td>\n",
       "      <td>6</td>\n",
       "      <td>6</td>\n",
       "      <td>6</td>\n",
       "      <td>6</td>\n",
       "      <td>0</td>\n",
       "      <td>0</td>\n",
       "      <td>6</td>\n",
       "      <td>6</td>\n",
       "      <td>6</td>\n",
       "      <td>6</td>\n",
       "      <td>6</td>\n",
       "      <td>6</td>\n",
       "      <td>6</td>\n",
       "      <td>6</td>\n",
       "    </tr>\n",
       "  </tbody>\n",
       "</table>\n",
       "<p>1672 rows × 18 columns</p>\n",
       "</div>"
      ],
      "text/plain": [
       "                Unnamed: 0  aff_city  aff_city_id  aff_country  \\\n",
       "pub_id                                                           \n",
       "pub.1001792778           3         3            3            3   \n",
       "pub.1002353037          10        10           10           10   \n",
       "pub.1003040860           1         1            1            1   \n",
       "pub.1006639384           3         3            3            3   \n",
       "pub.1007449969           4         4            4            4   \n",
       "...                    ...       ...          ...          ...   \n",
       "pub.1155896423           4         4            4            4   \n",
       "pub.1155904804           6         6            6            6   \n",
       "pub.1156298472           6         4            4            4   \n",
       "pub.1156298670           5         5            5            5   \n",
       "pub.1157339777           6         6            6            6   \n",
       "\n",
       "                aff_country_code  aff_id  aff_name  aff_raw_affiliation  \\\n",
       "pub_id                                                                    \n",
       "pub.1001792778                 3       3         3                    3   \n",
       "pub.1002353037                10       9        10                   10   \n",
       "pub.1003040860                 1       1         1                    1   \n",
       "pub.1006639384                 3       3         3                    3   \n",
       "pub.1007449969                 4       4         4                    4   \n",
       "...                          ...     ...       ...                  ...   \n",
       "pub.1155896423                 4       0         4                    4   \n",
       "pub.1155904804                 6       6         6                    6   \n",
       "pub.1156298472                 4       4         6                    6   \n",
       "pub.1156298670                 5       5         5                    5   \n",
       "pub.1157339777                 6       6         6                    6   \n",
       "\n",
       "                aff_state  aff_state_code  researcher_id  first_name  \\\n",
       "pub_id                                                                 \n",
       "pub.1001792778          3               3              2           3   \n",
       "pub.1002353037          9               8             10          10   \n",
       "pub.1003040860          1               1              1           1   \n",
       "pub.1006639384          3               3              3           3   \n",
       "pub.1007449969          0               0              4           4   \n",
       "...                   ...             ...            ...         ...   \n",
       "pub.1155896423          4               0              2           4   \n",
       "pub.1155904804          0               0              2           6   \n",
       "pub.1156298472          0               0              1           6   \n",
       "pub.1156298670          0               0              3           5   \n",
       "pub.1157339777          0               0              6           6   \n",
       "\n",
       "                last_name  year  gender  gender_ints  income_class  \\\n",
       "pub_id                                                               \n",
       "pub.1001792778          3     3       3            3             3   \n",
       "pub.1002353037         10    10       0            0            10   \n",
       "pub.1003040860          1     1       1            1             1   \n",
       "pub.1006639384          3     3       3            3             3   \n",
       "pub.1007449969          4     4       3            3             4   \n",
       "...                   ...   ...     ...          ...           ...   \n",
       "pub.1155896423          4     4       2            2             4   \n",
       "pub.1155904804          6     6       4            4             6   \n",
       "pub.1156298472          6     6       4            4             4   \n",
       "pub.1156298670          5     5       4            4             5   \n",
       "pub.1157339777          6     6       6            6             6   \n",
       "\n",
       "                income_class_num  \n",
       "pub_id                            \n",
       "pub.1001792778                 3  \n",
       "pub.1002353037                10  \n",
       "pub.1003040860                 1  \n",
       "pub.1006639384                 3  \n",
       "pub.1007449969                 4  \n",
       "...                          ...  \n",
       "pub.1155896423                 4  \n",
       "pub.1155904804                 6  \n",
       "pub.1156298472                 4  \n",
       "pub.1156298670                 5  \n",
       "pub.1157339777                 6  \n",
       "\n",
       "[1672 rows x 18 columns]"
      ]
     },
     "execution_count": 157,
     "metadata": {},
     "output_type": "execute_result"
    }
   ],
   "source": [
    "df_affils_compare.groupby(\"pub_id\").count()"
   ]
  },
  {
   "cell_type": "code",
   "execution_count": null,
   "metadata": {},
   "outputs": [],
   "source": [
    "# Load data\n",
    "import pandas as pd  \n",
    "Control_pubs =  pd.read_csv(\"./Data/MIMIC_Files/control_group_pubs.csv\")\n",
    "MIMIC_pubs = pd.read_csv(\"./Data/MIMIC_Files/mimic_pubs.csv\")\n",
    "\n",
    "MIMIC_author = pd.read_csv(\"./Data/MIMIC_Files/mimic_auths.csv\")\n",
    "Control_author = pd.read_csv(\"./Data/MIMIC_Files/control_group_auths.csv\")\n",
    "\n",
    "MIMIC_affli = pd.read_csv(\"./Data/MIMIC_Files/mimic_affils.csv\")\n",
    "Control_affli = pd.read_csv(\"./Data/MIMIC_Files/control_group_affils.csv\")\n"
   ]
  },
  {
   "cell_type": "code",
   "execution_count": null,
   "metadata": {},
   "outputs": [],
   "source": [
    "\n",
    "# Create a boolean column indicating if a paper has a missing affiliation for any author\n",
    "MIMIC_affli['missing_affiliation'] = MIMIC_affli['aff_country'].isna() | MIMIC_affli['aff_country_code'].isna()\n"
   ]
  },
  {
   "cell_type": "code",
   "execution_count": null,
   "metadata": {},
   "outputs": [
    {
     "data": {
      "text/plain": [
       "aff_name\n",
       "These authors contributed equally to this work.                                                                                                                                                                                                                                                                                                                                                                                                                                                                                                                                                                                                                                                                                                                                       30\n",
       "Institute of Nephrology, Renal Department, Southeast University                                                                                                                                                                                                                                                                                                                                                                                                                                                                                                                                                                                                                                                                                                                       22\n",
       "affiliation not provided to SSRN                                                                                                                                                                                                                                                                                                                                                                                                                                                                                                                                                                                                                                                                                                                                                      16\n",
       "Shanghai General Hospital of Shanghai Jiaotong University                                                                                                                                                                                                                                                                                                                                                                                                                                                                                                                                                                                                                                                                                                                             12\n",
       "Department of Diagnostic Imaging, National University Hospital, 5 Lower Kent Ridge Rd, Singapore 119074 (Y.L.T., D.N., J.T.P.D.H., P.J., S.Y.S., V.T.Y.T., S.T.Q.); Saw Swee Hock School of Public Health, School of Computer Science, and Yong Loo Lin School of Medicine, National University of Singapore, Singapore (D.N., M.F.); Department of Diagnostic Radiology, Alexandra Hospital, Singapore (J.T.P.D.H.); Department of Diagnostic Radiology, Tan Tock Seng Hospital, Singapore (C.H.T., Y.H.T.); Lee Kong Chian School of Medicine, Nanyang Technological University, Singapore (C.H.T.); Department of Diagnostic Radiology, Ng Teng Fong General Hospital, Singapore (P.L.K.); and Department of Diagnostic Radiology, Khoo Teck Puat Hospital, Singapore (G.G.P.).    12\n",
       "                                                                                                                                                                                                                                                                                                                                                                                                                                                                                                                                                                                                                                                                                                                                                                                      ..\n",
       "Inspira Health                                                                                                                                                                                                                                                                                                                                                                                                                                                                                                                                                                                                                                                                                                                                                                         1\n",
       "Department of Rehabilitation Medicine, the First Affiliated Hospital of Chongqing Medical University                                                                                                                                                                                                                                                                                                                                                                                                                                                                                                                                                                                                                                                                                   1\n",
       "HaEmek Medical Center                                                                                                                                                                                                                                                                                                                                                                                                                                                                                                                                                                                                                                                                                                                                                                  1\n",
       "Lishui Central Hospital, the Fifth Affiliated Hospital of Wenzhou Medical College                                                                                                                                                                                                                                                                                                                                                                                                                                                                                                                                                                                                                                                                                                      1\n",
       "School of Molecular and Biomedical Science, and                                                                                                                                                                                                                                                                                                                                                                                                                                                                                                                                                                                                                                                                                                                                        1\n",
       "Name: count, Length: 251, dtype: int64"
      ]
     },
     "execution_count": 161,
     "metadata": {},
     "output_type": "execute_result"
    }
   ],
   "source": [
    "no_missing=MIMIC_affli[MIMIC_affli['aff_country'].isna() | MIMIC_affli['aff_country_code'].isna()]\n",
    "no_missing.aff_name.value_counts()"
   ]
  },
  {
   "cell_type": "code",
   "execution_count": null,
   "metadata": {},
   "outputs": [
    {
     "data": {
      "text/plain": [
       "2307"
      ]
     },
     "execution_count": 162,
     "metadata": {},
     "output_type": "execute_result"
    }
   ],
   "source": [
    "MIMIC_pubs.id.count()"
   ]
  },
  {
   "cell_type": "code",
   "execution_count": null,
   "metadata": {},
   "outputs": [
    {
     "data": {
      "text/plain": [
       "0                                                       []\n",
       "1                                                       []\n",
       "2                                                       []\n",
       "3                                                       []\n",
       "4                                                       []\n",
       "                               ...                        \n",
       "13874    ['Department of Pediatrics, Duke University Sc...\n",
       "13875    ['Department of Dermatology, Salford Royal Hos...\n",
       "13876    ['Human Genetics, Human Genetics Unit, Divisio...\n",
       "13877    ['Alan Lyell Centre for Dermatology, Southern ...\n",
       "13878    ['Division of Structural Biochemistry, Departm...\n",
       "Name: raw_affiliation, Length: 13879, dtype: object"
      ]
     },
     "execution_count": 163,
     "metadata": {},
     "output_type": "execute_result"
    }
   ],
   "source": [
    "MIMIC_author.raw_affiliation"
   ]
  },
  {
   "cell_type": "code",
   "execution_count": null,
   "metadata": {},
   "outputs": [],
   "source": []
  },
  {
   "cell_type": "code",
   "execution_count": null,
   "metadata": {},
   "outputs": [
    {
     "data": {
      "text/html": [
       "<div>\n",
       "<style scoped>\n",
       "    .dataframe tbody tr th:only-of-type {\n",
       "        vertical-align: middle;\n",
       "    }\n",
       "\n",
       "    .dataframe tbody tr th {\n",
       "        vertical-align: top;\n",
       "    }\n",
       "\n",
       "    .dataframe thead th {\n",
       "        text-align: right;\n",
       "    }\n",
       "</style>\n",
       "<table border=\"1\" class=\"dataframe\">\n",
       "  <thead>\n",
       "    <tr style=\"text-align: right;\">\n",
       "      <th></th>\n",
       "      <th>Unnamed: 0</th>\n",
       "      <th>aff_city</th>\n",
       "      <th>aff_city_id</th>\n",
       "      <th>aff_country</th>\n",
       "      <th>aff_country_code</th>\n",
       "      <th>aff_id</th>\n",
       "      <th>aff_name</th>\n",
       "      <th>aff_raw_affiliation</th>\n",
       "      <th>aff_state</th>\n",
       "      <th>aff_state_code</th>\n",
       "      <th>researcher_id</th>\n",
       "      <th>first_name</th>\n",
       "      <th>last_name</th>\n",
       "      <th>year</th>\n",
       "      <th>gender</th>\n",
       "      <th>gender_ints</th>\n",
       "      <th>income_class</th>\n",
       "      <th>income_class_num</th>\n",
       "      <th>missing_affiliation</th>\n",
       "    </tr>\n",
       "    <tr>\n",
       "      <th>pub_id</th>\n",
       "      <th></th>\n",
       "      <th></th>\n",
       "      <th></th>\n",
       "      <th></th>\n",
       "      <th></th>\n",
       "      <th></th>\n",
       "      <th></th>\n",
       "      <th></th>\n",
       "      <th></th>\n",
       "      <th></th>\n",
       "      <th></th>\n",
       "      <th></th>\n",
       "      <th></th>\n",
       "      <th></th>\n",
       "      <th></th>\n",
       "      <th></th>\n",
       "      <th></th>\n",
       "      <th></th>\n",
       "      <th></th>\n",
       "    </tr>\n",
       "  </thead>\n",
       "  <tbody>\n",
       "    <tr>\n",
       "      <th>pub.1001792778</th>\n",
       "      <td>3</td>\n",
       "      <td>3</td>\n",
       "      <td>3</td>\n",
       "      <td>3</td>\n",
       "      <td>3</td>\n",
       "      <td>3</td>\n",
       "      <td>3</td>\n",
       "      <td>3</td>\n",
       "      <td>3</td>\n",
       "      <td>3</td>\n",
       "      <td>2</td>\n",
       "      <td>3</td>\n",
       "      <td>3</td>\n",
       "      <td>3</td>\n",
       "      <td>3</td>\n",
       "      <td>3</td>\n",
       "      <td>3</td>\n",
       "      <td>3</td>\n",
       "      <td>3</td>\n",
       "    </tr>\n",
       "    <tr>\n",
       "      <th>pub.1002353037</th>\n",
       "      <td>10</td>\n",
       "      <td>10</td>\n",
       "      <td>10</td>\n",
       "      <td>10</td>\n",
       "      <td>10</td>\n",
       "      <td>9</td>\n",
       "      <td>10</td>\n",
       "      <td>10</td>\n",
       "      <td>9</td>\n",
       "      <td>8</td>\n",
       "      <td>10</td>\n",
       "      <td>10</td>\n",
       "      <td>10</td>\n",
       "      <td>10</td>\n",
       "      <td>0</td>\n",
       "      <td>0</td>\n",
       "      <td>10</td>\n",
       "      <td>10</td>\n",
       "      <td>10</td>\n",
       "    </tr>\n",
       "    <tr>\n",
       "      <th>pub.1003040860</th>\n",
       "      <td>1</td>\n",
       "      <td>1</td>\n",
       "      <td>1</td>\n",
       "      <td>1</td>\n",
       "      <td>1</td>\n",
       "      <td>1</td>\n",
       "      <td>1</td>\n",
       "      <td>1</td>\n",
       "      <td>1</td>\n",
       "      <td>1</td>\n",
       "      <td>1</td>\n",
       "      <td>1</td>\n",
       "      <td>1</td>\n",
       "      <td>1</td>\n",
       "      <td>1</td>\n",
       "      <td>1</td>\n",
       "      <td>1</td>\n",
       "      <td>1</td>\n",
       "      <td>1</td>\n",
       "    </tr>\n",
       "    <tr>\n",
       "      <th>pub.1006639384</th>\n",
       "      <td>3</td>\n",
       "      <td>3</td>\n",
       "      <td>3</td>\n",
       "      <td>3</td>\n",
       "      <td>3</td>\n",
       "      <td>3</td>\n",
       "      <td>3</td>\n",
       "      <td>3</td>\n",
       "      <td>3</td>\n",
       "      <td>3</td>\n",
       "      <td>3</td>\n",
       "      <td>3</td>\n",
       "      <td>3</td>\n",
       "      <td>3</td>\n",
       "      <td>3</td>\n",
       "      <td>3</td>\n",
       "      <td>3</td>\n",
       "      <td>3</td>\n",
       "      <td>3</td>\n",
       "    </tr>\n",
       "    <tr>\n",
       "      <th>pub.1007449969</th>\n",
       "      <td>4</td>\n",
       "      <td>4</td>\n",
       "      <td>4</td>\n",
       "      <td>4</td>\n",
       "      <td>4</td>\n",
       "      <td>4</td>\n",
       "      <td>4</td>\n",
       "      <td>4</td>\n",
       "      <td>0</td>\n",
       "      <td>0</td>\n",
       "      <td>4</td>\n",
       "      <td>4</td>\n",
       "      <td>4</td>\n",
       "      <td>4</td>\n",
       "      <td>3</td>\n",
       "      <td>3</td>\n",
       "      <td>4</td>\n",
       "      <td>4</td>\n",
       "      <td>4</td>\n",
       "    </tr>\n",
       "    <tr>\n",
       "      <th>...</th>\n",
       "      <td>...</td>\n",
       "      <td>...</td>\n",
       "      <td>...</td>\n",
       "      <td>...</td>\n",
       "      <td>...</td>\n",
       "      <td>...</td>\n",
       "      <td>...</td>\n",
       "      <td>...</td>\n",
       "      <td>...</td>\n",
       "      <td>...</td>\n",
       "      <td>...</td>\n",
       "      <td>...</td>\n",
       "      <td>...</td>\n",
       "      <td>...</td>\n",
       "      <td>...</td>\n",
       "      <td>...</td>\n",
       "      <td>...</td>\n",
       "      <td>...</td>\n",
       "      <td>...</td>\n",
       "    </tr>\n",
       "    <tr>\n",
       "      <th>pub.1155896423</th>\n",
       "      <td>4</td>\n",
       "      <td>4</td>\n",
       "      <td>4</td>\n",
       "      <td>4</td>\n",
       "      <td>4</td>\n",
       "      <td>0</td>\n",
       "      <td>4</td>\n",
       "      <td>4</td>\n",
       "      <td>4</td>\n",
       "      <td>0</td>\n",
       "      <td>2</td>\n",
       "      <td>4</td>\n",
       "      <td>4</td>\n",
       "      <td>4</td>\n",
       "      <td>2</td>\n",
       "      <td>2</td>\n",
       "      <td>4</td>\n",
       "      <td>4</td>\n",
       "      <td>4</td>\n",
       "    </tr>\n",
       "    <tr>\n",
       "      <th>pub.1155904804</th>\n",
       "      <td>6</td>\n",
       "      <td>6</td>\n",
       "      <td>6</td>\n",
       "      <td>6</td>\n",
       "      <td>6</td>\n",
       "      <td>6</td>\n",
       "      <td>6</td>\n",
       "      <td>6</td>\n",
       "      <td>0</td>\n",
       "      <td>0</td>\n",
       "      <td>2</td>\n",
       "      <td>6</td>\n",
       "      <td>6</td>\n",
       "      <td>6</td>\n",
       "      <td>4</td>\n",
       "      <td>4</td>\n",
       "      <td>6</td>\n",
       "      <td>6</td>\n",
       "      <td>6</td>\n",
       "    </tr>\n",
       "    <tr>\n",
       "      <th>pub.1156298472</th>\n",
       "      <td>6</td>\n",
       "      <td>4</td>\n",
       "      <td>4</td>\n",
       "      <td>4</td>\n",
       "      <td>4</td>\n",
       "      <td>4</td>\n",
       "      <td>6</td>\n",
       "      <td>6</td>\n",
       "      <td>0</td>\n",
       "      <td>0</td>\n",
       "      <td>1</td>\n",
       "      <td>6</td>\n",
       "      <td>6</td>\n",
       "      <td>6</td>\n",
       "      <td>4</td>\n",
       "      <td>4</td>\n",
       "      <td>4</td>\n",
       "      <td>4</td>\n",
       "      <td>6</td>\n",
       "    </tr>\n",
       "    <tr>\n",
       "      <th>pub.1156298670</th>\n",
       "      <td>5</td>\n",
       "      <td>5</td>\n",
       "      <td>5</td>\n",
       "      <td>5</td>\n",
       "      <td>5</td>\n",
       "      <td>5</td>\n",
       "      <td>5</td>\n",
       "      <td>5</td>\n",
       "      <td>0</td>\n",
       "      <td>0</td>\n",
       "      <td>3</td>\n",
       "      <td>5</td>\n",
       "      <td>5</td>\n",
       "      <td>5</td>\n",
       "      <td>4</td>\n",
       "      <td>4</td>\n",
       "      <td>5</td>\n",
       "      <td>5</td>\n",
       "      <td>5</td>\n",
       "    </tr>\n",
       "    <tr>\n",
       "      <th>pub.1157339777</th>\n",
       "      <td>6</td>\n",
       "      <td>6</td>\n",
       "      <td>6</td>\n",
       "      <td>6</td>\n",
       "      <td>6</td>\n",
       "      <td>6</td>\n",
       "      <td>6</td>\n",
       "      <td>6</td>\n",
       "      <td>0</td>\n",
       "      <td>0</td>\n",
       "      <td>6</td>\n",
       "      <td>6</td>\n",
       "      <td>6</td>\n",
       "      <td>6</td>\n",
       "      <td>6</td>\n",
       "      <td>6</td>\n",
       "      <td>6</td>\n",
       "      <td>6</td>\n",
       "      <td>6</td>\n",
       "    </tr>\n",
       "  </tbody>\n",
       "</table>\n",
       "<p>1672 rows × 19 columns</p>\n",
       "</div>"
      ],
      "text/plain": [
       "                Unnamed: 0  aff_city  aff_city_id  aff_country  \\\n",
       "pub_id                                                           \n",
       "pub.1001792778           3         3            3            3   \n",
       "pub.1002353037          10        10           10           10   \n",
       "pub.1003040860           1         1            1            1   \n",
       "pub.1006639384           3         3            3            3   \n",
       "pub.1007449969           4         4            4            4   \n",
       "...                    ...       ...          ...          ...   \n",
       "pub.1155896423           4         4            4            4   \n",
       "pub.1155904804           6         6            6            6   \n",
       "pub.1156298472           6         4            4            4   \n",
       "pub.1156298670           5         5            5            5   \n",
       "pub.1157339777           6         6            6            6   \n",
       "\n",
       "                aff_country_code  aff_id  aff_name  aff_raw_affiliation  \\\n",
       "pub_id                                                                    \n",
       "pub.1001792778                 3       3         3                    3   \n",
       "pub.1002353037                10       9        10                   10   \n",
       "pub.1003040860                 1       1         1                    1   \n",
       "pub.1006639384                 3       3         3                    3   \n",
       "pub.1007449969                 4       4         4                    4   \n",
       "...                          ...     ...       ...                  ...   \n",
       "pub.1155896423                 4       0         4                    4   \n",
       "pub.1155904804                 6       6         6                    6   \n",
       "pub.1156298472                 4       4         6                    6   \n",
       "pub.1156298670                 5       5         5                    5   \n",
       "pub.1157339777                 6       6         6                    6   \n",
       "\n",
       "                aff_state  aff_state_code  researcher_id  first_name  \\\n",
       "pub_id                                                                 \n",
       "pub.1001792778          3               3              2           3   \n",
       "pub.1002353037          9               8             10          10   \n",
       "pub.1003040860          1               1              1           1   \n",
       "pub.1006639384          3               3              3           3   \n",
       "pub.1007449969          0               0              4           4   \n",
       "...                   ...             ...            ...         ...   \n",
       "pub.1155896423          4               0              2           4   \n",
       "pub.1155904804          0               0              2           6   \n",
       "pub.1156298472          0               0              1           6   \n",
       "pub.1156298670          0               0              3           5   \n",
       "pub.1157339777          0               0              6           6   \n",
       "\n",
       "                last_name  year  gender  gender_ints  income_class  \\\n",
       "pub_id                                                               \n",
       "pub.1001792778          3     3       3            3             3   \n",
       "pub.1002353037         10    10       0            0            10   \n",
       "pub.1003040860          1     1       1            1             1   \n",
       "pub.1006639384          3     3       3            3             3   \n",
       "pub.1007449969          4     4       3            3             4   \n",
       "...                   ...   ...     ...          ...           ...   \n",
       "pub.1155896423          4     4       2            2             4   \n",
       "pub.1155904804          6     6       4            4             6   \n",
       "pub.1156298472          6     6       4            4             4   \n",
       "pub.1156298670          5     5       4            4             5   \n",
       "pub.1157339777          6     6       6            6             6   \n",
       "\n",
       "                income_class_num  missing_affiliation  \n",
       "pub_id                                                 \n",
       "pub.1001792778                 3                    3  \n",
       "pub.1002353037                10                   10  \n",
       "pub.1003040860                 1                    1  \n",
       "pub.1006639384                 3                    3  \n",
       "pub.1007449969                 4                    4  \n",
       "...                          ...                  ...  \n",
       "pub.1155896423                 4                    4  \n",
       "pub.1155904804                 6                    6  \n",
       "pub.1156298472                 4                    6  \n",
       "pub.1156298670                 5                    5  \n",
       "pub.1157339777                 6                    6  \n",
       "\n",
       "[1672 rows x 19 columns]"
      ]
     },
     "execution_count": 85,
     "metadata": {},
     "output_type": "execute_result"
    }
   ],
   "source": [
    "MIMIC_affli.groupby('pub_id').count()"
   ]
  },
  {
   "cell_type": "code",
   "execution_count": null,
   "metadata": {},
   "outputs": [
    {
     "data": {
      "text/html": [
       "<div>\n",
       "<style scoped>\n",
       "    .dataframe tbody tr th:only-of-type {\n",
       "        vertical-align: middle;\n",
       "    }\n",
       "\n",
       "    .dataframe tbody tr th {\n",
       "        vertical-align: top;\n",
       "    }\n",
       "\n",
       "    .dataframe thead th {\n",
       "        text-align: right;\n",
       "    }\n",
       "</style>\n",
       "<table border=\"1\" class=\"dataframe\">\n",
       "  <thead>\n",
       "    <tr style=\"text-align: right;\">\n",
       "      <th></th>\n",
       "      <th>Unnamed: 0</th>\n",
       "      <th>affiliations</th>\n",
       "      <th>corresponding</th>\n",
       "      <th>current_organization_id</th>\n",
       "      <th>first_name</th>\n",
       "      <th>last_name</th>\n",
       "      <th>orcid</th>\n",
       "      <th>raw_affiliation</th>\n",
       "      <th>researcher_id</th>\n",
       "      <th>year</th>\n",
       "      <th>gender</th>\n",
       "      <th>gender_ints</th>\n",
       "    </tr>\n",
       "    <tr>\n",
       "      <th>pub_id</th>\n",
       "      <th></th>\n",
       "      <th></th>\n",
       "      <th></th>\n",
       "      <th></th>\n",
       "      <th></th>\n",
       "      <th></th>\n",
       "      <th></th>\n",
       "      <th></th>\n",
       "      <th></th>\n",
       "      <th></th>\n",
       "      <th></th>\n",
       "      <th></th>\n",
       "    </tr>\n",
       "  </thead>\n",
       "  <tbody>\n",
       "    <tr>\n",
       "      <th>pub.1001792778</th>\n",
       "      <td>3</td>\n",
       "      <td>3</td>\n",
       "      <td>1</td>\n",
       "      <td>2</td>\n",
       "      <td>3</td>\n",
       "      <td>3</td>\n",
       "      <td>3</td>\n",
       "      <td>3</td>\n",
       "      <td>2</td>\n",
       "      <td>3</td>\n",
       "      <td>3</td>\n",
       "      <td>3</td>\n",
       "    </tr>\n",
       "    <tr>\n",
       "      <th>pub.1002353037</th>\n",
       "      <td>10</td>\n",
       "      <td>10</td>\n",
       "      <td>1</td>\n",
       "      <td>8</td>\n",
       "      <td>10</td>\n",
       "      <td>10</td>\n",
       "      <td>3</td>\n",
       "      <td>10</td>\n",
       "      <td>10</td>\n",
       "      <td>10</td>\n",
       "      <td>0</td>\n",
       "      <td>0</td>\n",
       "    </tr>\n",
       "    <tr>\n",
       "      <th>pub.1003040860</th>\n",
       "      <td>1</td>\n",
       "      <td>1</td>\n",
       "      <td>1</td>\n",
       "      <td>0</td>\n",
       "      <td>1</td>\n",
       "      <td>1</td>\n",
       "      <td>0</td>\n",
       "      <td>1</td>\n",
       "      <td>1</td>\n",
       "      <td>1</td>\n",
       "      <td>1</td>\n",
       "      <td>1</td>\n",
       "    </tr>\n",
       "    <tr>\n",
       "      <th>pub.1005815647</th>\n",
       "      <td>5</td>\n",
       "      <td>5</td>\n",
       "      <td>0</td>\n",
       "      <td>5</td>\n",
       "      <td>5</td>\n",
       "      <td>5</td>\n",
       "      <td>2</td>\n",
       "      <td>5</td>\n",
       "      <td>5</td>\n",
       "      <td>5</td>\n",
       "      <td>4</td>\n",
       "      <td>4</td>\n",
       "    </tr>\n",
       "    <tr>\n",
       "      <th>pub.1006639384</th>\n",
       "      <td>3</td>\n",
       "      <td>3</td>\n",
       "      <td>1</td>\n",
       "      <td>3</td>\n",
       "      <td>3</td>\n",
       "      <td>3</td>\n",
       "      <td>0</td>\n",
       "      <td>3</td>\n",
       "      <td>3</td>\n",
       "      <td>3</td>\n",
       "      <td>3</td>\n",
       "      <td>3</td>\n",
       "    </tr>\n",
       "    <tr>\n",
       "      <th>...</th>\n",
       "      <td>...</td>\n",
       "      <td>...</td>\n",
       "      <td>...</td>\n",
       "      <td>...</td>\n",
       "      <td>...</td>\n",
       "      <td>...</td>\n",
       "      <td>...</td>\n",
       "      <td>...</td>\n",
       "      <td>...</td>\n",
       "      <td>...</td>\n",
       "      <td>...</td>\n",
       "      <td>...</td>\n",
       "    </tr>\n",
       "    <tr>\n",
       "      <th>pub.1155896423</th>\n",
       "      <td>4</td>\n",
       "      <td>4</td>\n",
       "      <td>1</td>\n",
       "      <td>0</td>\n",
       "      <td>4</td>\n",
       "      <td>4</td>\n",
       "      <td>3</td>\n",
       "      <td>4</td>\n",
       "      <td>2</td>\n",
       "      <td>4</td>\n",
       "      <td>2</td>\n",
       "      <td>2</td>\n",
       "    </tr>\n",
       "    <tr>\n",
       "      <th>pub.1155904804</th>\n",
       "      <td>6</td>\n",
       "      <td>6</td>\n",
       "      <td>2</td>\n",
       "      <td>2</td>\n",
       "      <td>6</td>\n",
       "      <td>6</td>\n",
       "      <td>6</td>\n",
       "      <td>6</td>\n",
       "      <td>2</td>\n",
       "      <td>6</td>\n",
       "      <td>4</td>\n",
       "      <td>4</td>\n",
       "    </tr>\n",
       "    <tr>\n",
       "      <th>pub.1156298472</th>\n",
       "      <td>6</td>\n",
       "      <td>6</td>\n",
       "      <td>1</td>\n",
       "      <td>1</td>\n",
       "      <td>6</td>\n",
       "      <td>6</td>\n",
       "      <td>5</td>\n",
       "      <td>6</td>\n",
       "      <td>1</td>\n",
       "      <td>6</td>\n",
       "      <td>4</td>\n",
       "      <td>4</td>\n",
       "    </tr>\n",
       "    <tr>\n",
       "      <th>pub.1156298670</th>\n",
       "      <td>5</td>\n",
       "      <td>5</td>\n",
       "      <td>0</td>\n",
       "      <td>3</td>\n",
       "      <td>5</td>\n",
       "      <td>5</td>\n",
       "      <td>2</td>\n",
       "      <td>5</td>\n",
       "      <td>3</td>\n",
       "      <td>5</td>\n",
       "      <td>4</td>\n",
       "      <td>4</td>\n",
       "    </tr>\n",
       "    <tr>\n",
       "      <th>pub.1157339777</th>\n",
       "      <td>6</td>\n",
       "      <td>6</td>\n",
       "      <td>1</td>\n",
       "      <td>6</td>\n",
       "      <td>6</td>\n",
       "      <td>6</td>\n",
       "      <td>0</td>\n",
       "      <td>6</td>\n",
       "      <td>6</td>\n",
       "      <td>6</td>\n",
       "      <td>6</td>\n",
       "      <td>6</td>\n",
       "    </tr>\n",
       "  </tbody>\n",
       "</table>\n",
       "<p>2197 rows × 12 columns</p>\n",
       "</div>"
      ],
      "text/plain": [
       "                Unnamed: 0  affiliations  corresponding  \\\n",
       "pub_id                                                    \n",
       "pub.1001792778           3             3              1   \n",
       "pub.1002353037          10            10              1   \n",
       "pub.1003040860           1             1              1   \n",
       "pub.1005815647           5             5              0   \n",
       "pub.1006639384           3             3              1   \n",
       "...                    ...           ...            ...   \n",
       "pub.1155896423           4             4              1   \n",
       "pub.1155904804           6             6              2   \n",
       "pub.1156298472           6             6              1   \n",
       "pub.1156298670           5             5              0   \n",
       "pub.1157339777           6             6              1   \n",
       "\n",
       "                current_organization_id  first_name  last_name  orcid  \\\n",
       "pub_id                                                                  \n",
       "pub.1001792778                        2           3          3      3   \n",
       "pub.1002353037                        8          10         10      3   \n",
       "pub.1003040860                        0           1          1      0   \n",
       "pub.1005815647                        5           5          5      2   \n",
       "pub.1006639384                        3           3          3      0   \n",
       "...                                 ...         ...        ...    ...   \n",
       "pub.1155896423                        0           4          4      3   \n",
       "pub.1155904804                        2           6          6      6   \n",
       "pub.1156298472                        1           6          6      5   \n",
       "pub.1156298670                        3           5          5      2   \n",
       "pub.1157339777                        6           6          6      0   \n",
       "\n",
       "                raw_affiliation  researcher_id  year  gender  gender_ints  \n",
       "pub_id                                                                     \n",
       "pub.1001792778                3              2     3       3            3  \n",
       "pub.1002353037               10             10    10       0            0  \n",
       "pub.1003040860                1              1     1       1            1  \n",
       "pub.1005815647                5              5     5       4            4  \n",
       "pub.1006639384                3              3     3       3            3  \n",
       "...                         ...            ...   ...     ...          ...  \n",
       "pub.1155896423                4              2     4       2            2  \n",
       "pub.1155904804                6              2     6       4            4  \n",
       "pub.1156298472                6              1     6       4            4  \n",
       "pub.1156298670                5              3     5       4            4  \n",
       "pub.1157339777                6              6     6       6            6  \n",
       "\n",
       "[2197 rows x 12 columns]"
      ]
     },
     "execution_count": 86,
     "metadata": {},
     "output_type": "execute_result"
    }
   ],
   "source": [
    " MIMIC_author.groupby('pub_id').count()"
   ]
  },
  {
   "cell_type": "code",
   "execution_count": null,
   "metadata": {},
   "outputs": [
    {
     "data": {
      "text/html": [
       "<div>\n",
       "<style scoped>\n",
       "    .dataframe tbody tr th:only-of-type {\n",
       "        vertical-align: middle;\n",
       "    }\n",
       "\n",
       "    .dataframe tbody tr th {\n",
       "        vertical-align: top;\n",
       "    }\n",
       "\n",
       "    .dataframe thead th {\n",
       "        text-align: right;\n",
       "    }\n",
       "</style>\n",
       "<table border=\"1\" class=\"dataframe\">\n",
       "  <thead>\n",
       "    <tr style=\"text-align: right;\">\n",
       "      <th></th>\n",
       "      <th>Unnamed: 0</th>\n",
       "      <th>aff_city</th>\n",
       "      <th>aff_city_id</th>\n",
       "      <th>aff_country</th>\n",
       "      <th>aff_country_code</th>\n",
       "      <th>aff_id</th>\n",
       "      <th>aff_name</th>\n",
       "      <th>aff_raw_affiliation</th>\n",
       "      <th>aff_state</th>\n",
       "      <th>aff_state_code</th>\n",
       "      <th>pub_id</th>\n",
       "      <th>first_name</th>\n",
       "      <th>last_name</th>\n",
       "      <th>year</th>\n",
       "      <th>gender</th>\n",
       "      <th>gender_ints</th>\n",
       "      <th>income_class</th>\n",
       "      <th>income_class_num</th>\n",
       "      <th>missing_affiliation</th>\n",
       "    </tr>\n",
       "    <tr>\n",
       "      <th>researcher_id</th>\n",
       "      <th></th>\n",
       "      <th></th>\n",
       "      <th></th>\n",
       "      <th></th>\n",
       "      <th></th>\n",
       "      <th></th>\n",
       "      <th></th>\n",
       "      <th></th>\n",
       "      <th></th>\n",
       "      <th></th>\n",
       "      <th></th>\n",
       "      <th></th>\n",
       "      <th></th>\n",
       "      <th></th>\n",
       "      <th></th>\n",
       "      <th></th>\n",
       "      <th></th>\n",
       "      <th></th>\n",
       "      <th></th>\n",
       "    </tr>\n",
       "  </thead>\n",
       "  <tbody>\n",
       "    <tr>\n",
       "      <th>ur.010000175557.24</th>\n",
       "      <td>1</td>\n",
       "      <td>1</td>\n",
       "      <td>1</td>\n",
       "      <td>1</td>\n",
       "      <td>1</td>\n",
       "      <td>1</td>\n",
       "      <td>1</td>\n",
       "      <td>1</td>\n",
       "      <td>0</td>\n",
       "      <td>0</td>\n",
       "      <td>1</td>\n",
       "      <td>1</td>\n",
       "      <td>1</td>\n",
       "      <td>1</td>\n",
       "      <td>1</td>\n",
       "      <td>1</td>\n",
       "      <td>1</td>\n",
       "      <td>1</td>\n",
       "      <td>1</td>\n",
       "    </tr>\n",
       "    <tr>\n",
       "      <th>ur.01000033157.19</th>\n",
       "      <td>2</td>\n",
       "      <td>2</td>\n",
       "      <td>2</td>\n",
       "      <td>2</td>\n",
       "      <td>2</td>\n",
       "      <td>2</td>\n",
       "      <td>2</td>\n",
       "      <td>2</td>\n",
       "      <td>2</td>\n",
       "      <td>2</td>\n",
       "      <td>2</td>\n",
       "      <td>2</td>\n",
       "      <td>2</td>\n",
       "      <td>2</td>\n",
       "      <td>2</td>\n",
       "      <td>2</td>\n",
       "      <td>2</td>\n",
       "      <td>2</td>\n",
       "      <td>2</td>\n",
       "    </tr>\n",
       "    <tr>\n",
       "      <th>ur.010001074003.41</th>\n",
       "      <td>2</td>\n",
       "      <td>2</td>\n",
       "      <td>2</td>\n",
       "      <td>2</td>\n",
       "      <td>2</td>\n",
       "      <td>1</td>\n",
       "      <td>2</td>\n",
       "      <td>2</td>\n",
       "      <td>1</td>\n",
       "      <td>0</td>\n",
       "      <td>2</td>\n",
       "      <td>2</td>\n",
       "      <td>2</td>\n",
       "      <td>2</td>\n",
       "      <td>2</td>\n",
       "      <td>2</td>\n",
       "      <td>2</td>\n",
       "      <td>2</td>\n",
       "      <td>2</td>\n",
       "    </tr>\n",
       "    <tr>\n",
       "      <th>ur.01000237255.78</th>\n",
       "      <td>1</td>\n",
       "      <td>1</td>\n",
       "      <td>1</td>\n",
       "      <td>1</td>\n",
       "      <td>1</td>\n",
       "      <td>1</td>\n",
       "      <td>1</td>\n",
       "      <td>1</td>\n",
       "      <td>0</td>\n",
       "      <td>0</td>\n",
       "      <td>1</td>\n",
       "      <td>1</td>\n",
       "      <td>1</td>\n",
       "      <td>1</td>\n",
       "      <td>1</td>\n",
       "      <td>1</td>\n",
       "      <td>1</td>\n",
       "      <td>1</td>\n",
       "      <td>1</td>\n",
       "    </tr>\n",
       "    <tr>\n",
       "      <th>ur.010003255432.24</th>\n",
       "      <td>2</td>\n",
       "      <td>2</td>\n",
       "      <td>2</td>\n",
       "      <td>2</td>\n",
       "      <td>2</td>\n",
       "      <td>2</td>\n",
       "      <td>2</td>\n",
       "      <td>2</td>\n",
       "      <td>2</td>\n",
       "      <td>2</td>\n",
       "      <td>2</td>\n",
       "      <td>2</td>\n",
       "      <td>2</td>\n",
       "      <td>2</td>\n",
       "      <td>2</td>\n",
       "      <td>2</td>\n",
       "      <td>2</td>\n",
       "      <td>2</td>\n",
       "      <td>2</td>\n",
       "    </tr>\n",
       "    <tr>\n",
       "      <th>...</th>\n",
       "      <td>...</td>\n",
       "      <td>...</td>\n",
       "      <td>...</td>\n",
       "      <td>...</td>\n",
       "      <td>...</td>\n",
       "      <td>...</td>\n",
       "      <td>...</td>\n",
       "      <td>...</td>\n",
       "      <td>...</td>\n",
       "      <td>...</td>\n",
       "      <td>...</td>\n",
       "      <td>...</td>\n",
       "      <td>...</td>\n",
       "      <td>...</td>\n",
       "      <td>...</td>\n",
       "      <td>...</td>\n",
       "      <td>...</td>\n",
       "      <td>...</td>\n",
       "      <td>...</td>\n",
       "    </tr>\n",
       "    <tr>\n",
       "      <th>ur.07773541147.46</th>\n",
       "      <td>2</td>\n",
       "      <td>1</td>\n",
       "      <td>1</td>\n",
       "      <td>1</td>\n",
       "      <td>1</td>\n",
       "      <td>1</td>\n",
       "      <td>2</td>\n",
       "      <td>2</td>\n",
       "      <td>0</td>\n",
       "      <td>0</td>\n",
       "      <td>2</td>\n",
       "      <td>2</td>\n",
       "      <td>2</td>\n",
       "      <td>2</td>\n",
       "      <td>2</td>\n",
       "      <td>2</td>\n",
       "      <td>1</td>\n",
       "      <td>1</td>\n",
       "      <td>2</td>\n",
       "    </tr>\n",
       "    <tr>\n",
       "      <th>ur.0777570426.04</th>\n",
       "      <td>3</td>\n",
       "      <td>2</td>\n",
       "      <td>2</td>\n",
       "      <td>2</td>\n",
       "      <td>2</td>\n",
       "      <td>2</td>\n",
       "      <td>3</td>\n",
       "      <td>3</td>\n",
       "      <td>0</td>\n",
       "      <td>0</td>\n",
       "      <td>3</td>\n",
       "      <td>3</td>\n",
       "      <td>3</td>\n",
       "      <td>3</td>\n",
       "      <td>3</td>\n",
       "      <td>3</td>\n",
       "      <td>2</td>\n",
       "      <td>2</td>\n",
       "      <td>3</td>\n",
       "    </tr>\n",
       "    <tr>\n",
       "      <th>ur.07777072365.15</th>\n",
       "      <td>1</td>\n",
       "      <td>1</td>\n",
       "      <td>1</td>\n",
       "      <td>1</td>\n",
       "      <td>1</td>\n",
       "      <td>1</td>\n",
       "      <td>1</td>\n",
       "      <td>1</td>\n",
       "      <td>1</td>\n",
       "      <td>1</td>\n",
       "      <td>1</td>\n",
       "      <td>1</td>\n",
       "      <td>1</td>\n",
       "      <td>1</td>\n",
       "      <td>1</td>\n",
       "      <td>1</td>\n",
       "      <td>1</td>\n",
       "      <td>1</td>\n",
       "      <td>1</td>\n",
       "    </tr>\n",
       "    <tr>\n",
       "      <th>ur.07777171420.56</th>\n",
       "      <td>3</td>\n",
       "      <td>3</td>\n",
       "      <td>3</td>\n",
       "      <td>3</td>\n",
       "      <td>3</td>\n",
       "      <td>3</td>\n",
       "      <td>3</td>\n",
       "      <td>3</td>\n",
       "      <td>0</td>\n",
       "      <td>0</td>\n",
       "      <td>3</td>\n",
       "      <td>3</td>\n",
       "      <td>3</td>\n",
       "      <td>3</td>\n",
       "      <td>3</td>\n",
       "      <td>3</td>\n",
       "      <td>3</td>\n",
       "      <td>3</td>\n",
       "      <td>3</td>\n",
       "    </tr>\n",
       "    <tr>\n",
       "      <th>ur.0777762725.94</th>\n",
       "      <td>3</td>\n",
       "      <td>3</td>\n",
       "      <td>3</td>\n",
       "      <td>3</td>\n",
       "      <td>3</td>\n",
       "      <td>3</td>\n",
       "      <td>3</td>\n",
       "      <td>3</td>\n",
       "      <td>0</td>\n",
       "      <td>0</td>\n",
       "      <td>3</td>\n",
       "      <td>3</td>\n",
       "      <td>3</td>\n",
       "      <td>3</td>\n",
       "      <td>3</td>\n",
       "      <td>3</td>\n",
       "      <td>3</td>\n",
       "      <td>3</td>\n",
       "      <td>3</td>\n",
       "    </tr>\n",
       "  </tbody>\n",
       "</table>\n",
       "<p>5999 rows × 19 columns</p>\n",
       "</div>"
      ],
      "text/plain": [
       "                    Unnamed: 0  aff_city  aff_city_id  aff_country  \\\n",
       "researcher_id                                                        \n",
       "ur.010000175557.24           1         1            1            1   \n",
       "ur.01000033157.19            2         2            2            2   \n",
       "ur.010001074003.41           2         2            2            2   \n",
       "ur.01000237255.78            1         1            1            1   \n",
       "ur.010003255432.24           2         2            2            2   \n",
       "...                        ...       ...          ...          ...   \n",
       "ur.07773541147.46            2         1            1            1   \n",
       "ur.0777570426.04             3         2            2            2   \n",
       "ur.07777072365.15            1         1            1            1   \n",
       "ur.07777171420.56            3         3            3            3   \n",
       "ur.0777762725.94             3         3            3            3   \n",
       "\n",
       "                    aff_country_code  aff_id  aff_name  aff_raw_affiliation  \\\n",
       "researcher_id                                                                 \n",
       "ur.010000175557.24                 1       1         1                    1   \n",
       "ur.01000033157.19                  2       2         2                    2   \n",
       "ur.010001074003.41                 2       1         2                    2   \n",
       "ur.01000237255.78                  1       1         1                    1   \n",
       "ur.010003255432.24                 2       2         2                    2   \n",
       "...                              ...     ...       ...                  ...   \n",
       "ur.07773541147.46                  1       1         2                    2   \n",
       "ur.0777570426.04                   2       2         3                    3   \n",
       "ur.07777072365.15                  1       1         1                    1   \n",
       "ur.07777171420.56                  3       3         3                    3   \n",
       "ur.0777762725.94                   3       3         3                    3   \n",
       "\n",
       "                    aff_state  aff_state_code  pub_id  first_name  last_name  \\\n",
       "researcher_id                                                                  \n",
       "ur.010000175557.24          0               0       1           1          1   \n",
       "ur.01000033157.19           2               2       2           2          2   \n",
       "ur.010001074003.41          1               0       2           2          2   \n",
       "ur.01000237255.78           0               0       1           1          1   \n",
       "ur.010003255432.24          2               2       2           2          2   \n",
       "...                       ...             ...     ...         ...        ...   \n",
       "ur.07773541147.46           0               0       2           2          2   \n",
       "ur.0777570426.04            0               0       3           3          3   \n",
       "ur.07777072365.15           1               1       1           1          1   \n",
       "ur.07777171420.56           0               0       3           3          3   \n",
       "ur.0777762725.94            0               0       3           3          3   \n",
       "\n",
       "                    year  gender  gender_ints  income_class  income_class_num  \\\n",
       "researcher_id                                                                   \n",
       "ur.010000175557.24     1       1            1             1                 1   \n",
       "ur.01000033157.19      2       2            2             2                 2   \n",
       "ur.010001074003.41     2       2            2             2                 2   \n",
       "ur.01000237255.78      1       1            1             1                 1   \n",
       "ur.010003255432.24     2       2            2             2                 2   \n",
       "...                  ...     ...          ...           ...               ...   \n",
       "ur.07773541147.46      2       2            2             1                 1   \n",
       "ur.0777570426.04       3       3            3             2                 2   \n",
       "ur.07777072365.15      1       1            1             1                 1   \n",
       "ur.07777171420.56      3       3            3             3                 3   \n",
       "ur.0777762725.94       3       3            3             3                 3   \n",
       "\n",
       "                    missing_affiliation  \n",
       "researcher_id                            \n",
       "ur.010000175557.24                    1  \n",
       "ur.01000033157.19                     2  \n",
       "ur.010001074003.41                    2  \n",
       "ur.01000237255.78                     1  \n",
       "ur.010003255432.24                    2  \n",
       "...                                 ...  \n",
       "ur.07773541147.46                     2  \n",
       "ur.0777570426.04                      3  \n",
       "ur.07777072365.15                     1  \n",
       "ur.07777171420.56                     3  \n",
       "ur.0777762725.94                      3  \n",
       "\n",
       "[5999 rows x 19 columns]"
      ]
     },
     "execution_count": 87,
     "metadata": {},
     "output_type": "execute_result"
    }
   ],
   "source": [
    "MIMIC_affli.groupby('researcher_id').count()"
   ]
  },
  {
   "cell_type": "code",
   "execution_count": null,
   "metadata": {},
   "outputs": [
    {
     "name": "stdout",
     "output_type": "stream",
     "text": [
      "Total number of papers: 2307\n",
      "Number of papers with missing affiliations: 0\n",
      "Number of papers without missing affiliations: 2307\n",
      "Out of 2307 papers with non-missing affiliations, 0 from the MIMIC group and 0 from the control group had at least one author with a missing affiliation.\n",
      "This implies 100.00% of the MIMIC group and 100.00% of the control group had complete affiliation data.\n"
     ]
    }
   ],
   "source": [
    "# All unique paper IDs from MIMIC_pubs\n",
    "all_paper_ids = set(MIMIC_pubs['id'])\n",
    "print(f\"Total number of papers: {len(all_paper_ids)}\")\n",
    "# Paper IDs with missing affiliations from MIMIC_affli\n",
    "missing_affiliation_ids_mimic = set(MIMIC_affli[MIMIC_affli['aff_name'].isna()]['pub_id'])\n",
    "print(f\"Number of papers with missing affiliations: {len(missing_affiliation_ids_mimic)}\")\n",
    "# Paper IDs without missing affiliations\n",
    "papers_without_missing_affiliation_mimic = all_paper_ids - missing_affiliation_ids_mimic\n",
    "print(f\"Number of papers without missing affiliations: {len(papers_without_missing_affiliation_mimic)}\")\n",
    "# The same for Control_affli, if applicable\n",
    "missing_affiliation_ids_control = set(Control_affli[Control_affli['aff_name'].isna()]['pub_id'])\n",
    "papers_without_missing_affiliation_control = all_paper_ids - missing_affiliation_ids_control\n",
    "\n",
    "# Percentage calculations\n",
    "percentage_without_missing_mimic = (len(papers_without_missing_affiliation_mimic) / len(all_paper_ids)) * 100\n",
    "percentage_without_missing_control = (len(papers_without_missing_affiliation_control) / len(all_paper_ids)) * 100\n",
    "\n",
    "print(f\"Out of {len(all_paper_ids)} papers with non-missing affiliations, {len(all_paper_ids) - len(papers_without_missing_affiliation_mimic)} from the MIMIC group and {len(all_paper_ids) - len(papers_without_missing_affiliation_control)} from the control group had at least one author with a missing affiliation.\")\n",
    "print(f\"This implies {percentage_without_missing_mimic:.2f}% of the MIMIC group and {percentage_without_missing_control:.2f}% of the control group had complete affiliation data.\")\n"
   ]
  },
  {
   "cell_type": "code",
   "execution_count": null,
   "metadata": {},
   "outputs": [
    {
     "name": "stdout",
     "output_type": "stream",
     "text": [
      "       Unnamed: 0 aff_city  aff_city_id aff_country aff_country_code aff_id  \\\n",
      "20             20      NaN          NaN         NaN              NaN    NaN   \n",
      "21             21      NaN          NaN         NaN              NaN    NaN   \n",
      "22             22      NaN          NaN         NaN              NaN    NaN   \n",
      "23             23      NaN          NaN         NaN              NaN    NaN   \n",
      "24             24      NaN          NaN         NaN              NaN    NaN   \n",
      "...           ...      ...          ...         ...              ...    ...   \n",
      "12620       12620      NaN          NaN         NaN              NaN    NaN   \n",
      "12873       12873      NaN          NaN         NaN              NaN    NaN   \n",
      "12874       12874      NaN          NaN         NaN              NaN    NaN   \n",
      "12875       12875      NaN          NaN         NaN              NaN    NaN   \n",
      "13339       13339      NaN          NaN         NaN              NaN    NaN   \n",
      "\n",
      "                                                aff_name  \\\n",
      "20     1. Department of Pulmonary and Critical Care M...   \n",
      "21     1. Department of Pulmonary and Critical Care M...   \n",
      "22     1. Department of Pulmonary and Critical Care M...   \n",
      "23     1. Department of Pulmonary and Critical Care M...   \n",
      "24     1. Department of Pulmonary and Critical Care M...   \n",
      "...                                                  ...   \n",
      "12620  Regenstrief Center for Healthcare Engineering,...   \n",
      "12873  Fen bilimleri Enstit&#x00FC;s&#x00FC;, Elektri...   \n",
      "12874  Bilgisayar M&#x00FC;hendisli&#x011F;i, D&#x00F...   \n",
      "12875  Elektronik ve Bilgisayar M&#x00FC;hendisli&#x0...   \n",
      "13339    School of Molecular and Biomedical Science, and   \n",
      "\n",
      "                                     aff_raw_affiliation aff_state  \\\n",
      "20     1. Department of Pulmonary and Critical Care M...       NaN   \n",
      "21     1. Department of Pulmonary and Critical Care M...       NaN   \n",
      "22     1. Department of Pulmonary and Critical Care M...       NaN   \n",
      "23     1. Department of Pulmonary and Critical Care M...       NaN   \n",
      "24     1. Department of Pulmonary and Critical Care M...       NaN   \n",
      "...                                                  ...       ...   \n",
      "12620  Regenstrief Center for Healthcare Engineering,...       NaN   \n",
      "12873  Fen bilimleri Enstit&#x00FC;s&#x00FC;, Elektri...       NaN   \n",
      "12874  Bilgisayar M&#x00FC;hendisli&#x011F;i, D&#x00F...       NaN   \n",
      "12875  Elektronik ve Bilgisayar M&#x00FC;hendisli&#x0...       NaN   \n",
      "13339    School of Molecular and Biomedical Science, and       NaN   \n",
      "\n",
      "      aff_state_code          pub_id       researcher_id first_name last_name  \\\n",
      "20               NaN  pub.1154068641                 NaN       Yuhe      WANG   \n",
      "21               NaN  pub.1154068641                 NaN       Shan       GAO   \n",
      "22               NaN  pub.1154068641                 NaN        Lei      HONG   \n",
      "23               NaN  pub.1154068641                 NaN   Tingting       HOU   \n",
      "24               NaN  pub.1154068641                 NaN     Huihui       LIU   \n",
      "...              ...             ...                 ...        ...       ...   \n",
      "12620            NaN  pub.1120983075  ur.016327230707.27    Munirul     Haque   \n",
      "12873            NaN  pub.1105439073  ur.015030132300.04       Umit   Senturk   \n",
      "12874            NaN  pub.1105439073  ur.011541544733.95    Ibrahim   Yucedag   \n",
      "12875            NaN  pub.1105439073   ur.01235014755.99      Kemal     Polat   \n",
      "13339            NaN  pub.1015163956    ur.0726406307.09       Anna    Tsykin   \n",
      "\n",
      "       year  gender  gender_ints income_class  income_class_num  \\\n",
      "20     2022     NaN          NaN          NaN               NaN   \n",
      "21     2022    male          0.0          NaN               NaN   \n",
      "22     2022    male          0.0          NaN               NaN   \n",
      "23     2022  female          1.0          NaN               NaN   \n",
      "24     2022  female          1.0          NaN               NaN   \n",
      "...     ...     ...          ...          ...               ...   \n",
      "12620  2019    male          0.0          NaN               NaN   \n",
      "12873  2018    male          0.0          NaN               NaN   \n",
      "12874  2018    male          0.0          NaN               NaN   \n",
      "12875  2018    male          0.0          NaN               NaN   \n",
      "13339  2013  female          1.0          NaN               NaN   \n",
      "\n",
      "       missing_affiliation  \n",
      "20                    True  \n",
      "21                    True  \n",
      "22                    True  \n",
      "23                    True  \n",
      "24                    True  \n",
      "...                    ...  \n",
      "12620                 True  \n",
      "12873                 True  \n",
      "12874                 True  \n",
      "12875                 True  \n",
      "13339                 True  \n",
      "\n",
      "[721 rows x 20 columns]\n"
     ]
    }
   ],
   "source": [
    "MIMIC_affli[['aff_name','aff_country']].sort_values('aff_country')\n",
    "print(MIMIC_affli[MIMIC_affli.aff_country.isna()])"
   ]
  },
  {
   "cell_type": "code",
   "execution_count": null,
   "metadata": {},
   "outputs": [
    {
     "data": {
      "text/plain": [
       "Index(['Unnamed: 0', 'aff_city', 'aff_city_id', 'aff_country',\n",
       "       'aff_country_code', 'aff_id', 'aff_name', 'aff_raw_affiliation',\n",
       "       'aff_state', 'aff_state_code', 'pub_id', 'researcher_id', 'first_name',\n",
       "       'last_name', 'year', 'gender', 'gender_ints', 'income_class',\n",
       "       'income_class_num'],\n",
       "      dtype='object')"
      ]
     },
     "execution_count": 91,
     "metadata": {},
     "output_type": "execute_result"
    }
   ],
   "source": [
    "Control_affli.columns"
   ]
  },
  {
   "cell_type": "code",
   "execution_count": null,
   "metadata": {},
   "outputs": [
    {
     "name": "stdout",
     "output_type": "stream",
     "text": [
      "2307\n",
      "2912\n",
      "13879\n",
      "20539\n",
      "13967\n",
      "25676\n"
     ]
    }
   ],
   "source": [
    "print(len(MIMIC_pubs))\n",
    "print(len(Control_pubs))\n",
    "print(len(MIMIC_author))\n",
    "print(len(Control_author))\n",
    "print(len(MIMIC_affli))\n",
    "print(len(Control_affli))"
   ]
  },
  {
   "cell_type": "markdown",
   "metadata": {},
   "source": [
    "## 2.1 add LMIC match "
   ]
  },
  {
   "cell_type": "code",
   "execution_count": null,
   "metadata": {},
   "outputs": [],
   "source": [
    "def is_lmic(income_class):\n",
    "    if income_class in ['Lower middle income', 'Low income']:\n",
    "        return 'Yes'\n",
    "    else:\n",
    "        return 'No'\n",
    "MIMIC_affli['LMIC'] = MIMIC_affli['income_class'].apply(is_lmic)\n",
    "# Biobank_affli['LMIC'] =Biobank_affli['income_class'].apply(is_lmic)\n",
    "Control_affli['LMIC'] = Control_affli['income_class'].apply(is_lmic)"
   ]
  },
  {
   "cell_type": "code",
   "execution_count": null,
   "metadata": {},
   "outputs": [
    {
     "data": {
      "text/plain": [
       "LMIC\n",
       "No     13312\n",
       "Yes      655\n",
       "Name: count, dtype: int64"
      ]
     },
     "execution_count": 168,
     "metadata": {},
     "output_type": "execute_result"
    }
   ],
   "source": [
    "MIMIC_affli['LMIC'].value_counts()"
   ]
  },
  {
   "cell_type": "code",
   "execution_count": null,
   "metadata": {},
   "outputs": [
    {
     "data": {
      "text/plain": [
       "Index(['Unnamed: 0', 'aff_city', 'aff_city_id', 'aff_country',\n",
       "       'aff_country_code', 'aff_id', 'aff_name', 'aff_raw_affiliation',\n",
       "       'aff_state', 'aff_state_code', 'pub_id', 'researcher_id', 'first_name',\n",
       "       'last_name', 'year', 'gender', 'gender_ints', 'income_class',\n",
       "       'income_class_num', 'missing_affiliation', 'LMIC'],\n",
       "      dtype='object')"
      ]
     },
     "execution_count": 169,
     "metadata": {},
     "output_type": "execute_result"
    }
   ],
   "source": [
    "MIMIC_affli.columns"
   ]
  },
  {
   "cell_type": "code",
   "execution_count": null,
   "metadata": {},
   "outputs": [
    {
     "data": {
      "text/plain": [
       "Series([], Name: researcher_id, dtype: object)"
      ]
     },
     "execution_count": 170,
     "metadata": {},
     "output_type": "execute_result"
    }
   ],
   "source": [
    "MIMIC_affli[MIMIC_affli.researcher_id=='NaN'].researcher_id"
   ]
  },
  {
   "cell_type": "code",
   "execution_count": null,
   "metadata": {},
   "outputs": [],
   "source": [
    "# Filter the DataFrame to show only non-duplicated records based on 'first_name' and 'last_name'.\n",
    "non_duplicated_authors_MIMIC = MIMIC_affli[~MIMIC_affli[['first_name', 'last_name','researcher_id']].duplicated()]\n",
    "non_duplicated_authors_Control =Control_affli[~Control_affli[['first_name', 'last_name','researcher_id']].duplicated()]\n"
   ]
  },
  {
   "cell_type": "code",
   "execution_count": null,
   "metadata": {},
   "outputs": [
    {
     "name": "stdout",
     "output_type": "stream",
     "text": [
      "Compare distinct author names with gender not none  8210\n",
      "Control distinct author names with gender not none  16743\n",
      "Compare distinct author names with gender not none from LMIC  547\n",
      "Control distinct author names with gender not none from LMIC 590\n",
      "0.06662606577344701\n",
      "0.035238607179119634\n"
     ]
    }
   ],
   "source": [
    "print(\"Compare distinct author names with gender not none \",len(non_duplicated_authors_MIMIC[non_duplicated_authors_MIMIC.LMIC.notna()]))\n",
    "print(\"Control distinct author names with gender not none \",len(non_duplicated_authors_Control[non_duplicated_authors_Control.LMIC.notna()]))\n",
    "print(\"Compare distinct author names with gender not none from LMIC \",len(non_duplicated_authors_MIMIC[non_duplicated_authors_MIMIC.LMIC=='Yes']))\n",
    "print(\"Control distinct author names with gender not none from LMIC\",len(non_duplicated_authors_Control[non_duplicated_authors_Control.LMIC=='Yes']))\n",
    "print(547/8210)\n",
    "print(590/16743)\n"
   ]
  },
  {
   "cell_type": "code",
   "execution_count": null,
   "metadata": {},
   "outputs": [
    {
     "name": "stdout",
     "output_type": "stream",
     "text": [
      "Compare distinct author names with gender not none  13879\n",
      "Compare distinct author names with gender not none  20539\n",
      "Compare distinct author names with gender not none  0\n"
     ]
    },
    {
     "name": "stderr",
     "output_type": "stream",
     "text": [
      "/var/folders/v0/r16j2f9545n7rrq_rvqlxn180000gn/T/ipykernel_17664/1123658821.py:1: UserWarning: Boolean Series key will be reindexed to match DataFrame index.\n",
      "  print(\"Compare distinct author names with gender not none \",len(MIMIC_author[(MIMIC_affli.LMIC!='NaN')]))\n",
      "/var/folders/v0/r16j2f9545n7rrq_rvqlxn180000gn/T/ipykernel_17664/1123658821.py:2: UserWarning: Boolean Series key will be reindexed to match DataFrame index.\n",
      "  print(\"Compare distinct author names with gender not none \",len(Control_author[(Control_affli.LMIC!='NaN')]))\n"
     ]
    }
   ],
   "source": [
    "print(\"Compare distinct author names with gender not none \",len(MIMIC_author[(MIMIC_affli.LMIC!='NaN')]))\n",
    "print(\"Compare distinct author names with gender not none \",len(Control_author[(Control_affli.LMIC!='NaN')]))\n",
    "print(\"Compare distinct author names with gender not none \",len(MIMIC_affli[(MIMIC_affli.LMIC=='Yes')&(MIMIC_affli.researcher_id.duplicated()=='False')]))\n",
    "# print(\"Compare distinct author names with gender not none \",len(Control_affli[(Control_affli.LMIC=='Yes')]&(Control_affli.researcher_id.duplicated()=='False')])\n"
   ]
  },
  {
   "cell_type": "markdown",
   "metadata": {},
   "source": [
    "### Add First/Last Author"
   ]
  },
  {
   "cell_type": "code",
   "execution_count": null,
   "metadata": {},
   "outputs": [],
   "source": [
    "# Initialize the 'Author_Order' column with 'Middle'\n",
    "MIMIC_affli['Author_Order'] = 'Middle'\n",
    "\n",
    "# Get the researcher_id for the first author for each publication\n",
    "first_author_ids = MIMIC_affli.groupby('pub_id').first()['researcher_id']\n",
    "\n",
    "# Get the researcher_id for the last author for each publication\n",
    "last_author_ids = MIMIC_affli.groupby('pub_id').last()['researcher_id']\n",
    "\n",
    "# Mark the first authors in MIMIC_affli based on their researcher_id\n",
    "MIMIC_affli.loc[MIMIC_affli['researcher_id'].isin(first_author_ids), 'Author_Order'] = 'First'\n",
    "\n",
    "# Mark the last authors in MIMIC_affli based on their researcher_id\n",
    "MIMIC_affli.loc[MIMIC_affli['researcher_id'].isin(last_author_ids), 'Author_Order'] = 'Last'\n",
    "\n",
    "# Initialize the 'Author_Order' column with 'Middle'\n",
    "Control_affli['Author_Order'] = 'Middle'\n",
    "\n",
    "# Get the researcher_id for the first author for each publication\n",
    "first_author_ids = Control_affli.groupby('pub_id').first()['researcher_id']\n",
    "\n",
    "# Get the researcher_id for the last author for each publication\n",
    "last_author_ids = Control_affli.groupby('pub_id').last()['researcher_id']\n",
    "\n",
    "# Mark the first authors in Control_affli based on their researcher_id\n",
    "Control_affli.loc[Control_affli['researcher_id'].isin(first_author_ids), 'Author_Order'] = 'First'\n",
    "\n",
    "# Mark the last authors in Control_affli based on their researcher_id\n",
    "Control_affli.loc[Control_affli['researcher_id'].isin(last_author_ids), 'Author_Order'] = 'Last'\n"
   ]
  },
  {
   "cell_type": "code",
   "execution_count": null,
   "metadata": {},
   "outputs": [],
   "source": [
    "# Initialize the 'Author_Order' column with 'Middle'\n",
    "MIMIC_affli['Author_Order'] = 'Middle'\n",
    "\n",
    "# Get the researcher_id for the first author for each publication\n",
    "first_author_ids = MIMIC_affli.groupby('pub_id').first()['researcher_id']\n",
    "\n",
    "# Get the researcher_id for the last author for each publication\n",
    "last_author_ids = MIMIC_affli.groupby('pub_id').last()['researcher_id']\n",
    "\n",
    "# Mark the first authors in MIMIC_affli based on their researcher_id\n",
    "MIMIC_affli.loc[MIMIC_affli['researcher_id'].isin(first_author_ids), 'Author_Order'] = 'First'\n",
    "\n",
    "# Mark the last authors in MIMIC_affli based on their researcher_id\n",
    "MIMIC_affli.loc[MIMIC_affli['researcher_id'].isin(last_author_ids), 'Author_Order'] = 'Last'\n",
    "\n",
    "# Initialize the 'Author_Order' column with 'Middle'\n",
    "Control_affli['Author_Order'] = 'Middle'\n",
    "\n",
    "# Get the researcher_id for the first author for each publication\n",
    "first_author_ids = Control_affli.groupby('pub_id').first()['researcher_id']\n",
    "\n",
    "# Get the researcher_id for the last author for each publication\n",
    "last_author_ids = Control_affli.groupby('pub_id').last()['researcher_id']\n",
    "\n",
    "# Mark the first authors in Control_affli based on their researcher_id\n",
    "Control_affli.loc[Control_affli['researcher_id'].isin(first_author_ids), 'Author_Order'] = 'First'\n",
    "\n",
    "# Mark the last authors in Control_affli based on their researcher_id\n",
    "Control_affli.loc[Control_affli['researcher_id'].isin(last_author_ids), 'Author_Order'] = 'Last'\n"
   ]
  },
  {
   "cell_type": "code",
   "execution_count": null,
   "metadata": {},
   "outputs": [
    {
     "data": {
      "text/html": [
       "<div>\n",
       "<style scoped>\n",
       "    .dataframe tbody tr th:only-of-type {\n",
       "        vertical-align: middle;\n",
       "    }\n",
       "\n",
       "    .dataframe tbody tr th {\n",
       "        vertical-align: top;\n",
       "    }\n",
       "\n",
       "    .dataframe thead th {\n",
       "        text-align: right;\n",
       "    }\n",
       "</style>\n",
       "<table border=\"1\" class=\"dataframe\">\n",
       "  <thead>\n",
       "    <tr style=\"text-align: right;\">\n",
       "      <th></th>\n",
       "      <th>aff_id</th>\n",
       "      <th>aff_name</th>\n",
       "      <th>pub_id</th>\n",
       "      <th>researcher_id</th>\n",
       "      <th>Author_Order</th>\n",
       "    </tr>\n",
       "  </thead>\n",
       "  <tbody>\n",
       "    <tr>\n",
       "      <th>0</th>\n",
       "      <td>grid.412601.0</td>\n",
       "      <td>First Affiliated Hospital of Jinan University</td>\n",
       "      <td>pub.1154144039</td>\n",
       "      <td>ur.014116573320.23</td>\n",
       "      <td>First</td>\n",
       "    </tr>\n",
       "    <tr>\n",
       "      <th>1</th>\n",
       "      <td>grid.412601.0</td>\n",
       "      <td>First Affiliated Hospital of Jinan University</td>\n",
       "      <td>pub.1154144039</td>\n",
       "      <td>ur.016241001520.36</td>\n",
       "      <td>Middle</td>\n",
       "    </tr>\n",
       "    <tr>\n",
       "      <th>2</th>\n",
       "      <td>grid.412601.0</td>\n",
       "      <td>First Affiliated Hospital of Jinan University</td>\n",
       "      <td>pub.1154144039</td>\n",
       "      <td>ur.013553641416.27</td>\n",
       "      <td>Middle</td>\n",
       "    </tr>\n",
       "    <tr>\n",
       "      <th>3</th>\n",
       "      <td>grid.412601.0</td>\n",
       "      <td>First Affiliated Hospital of Jinan University</td>\n",
       "      <td>pub.1154144039</td>\n",
       "      <td>ur.014351222016.81</td>\n",
       "      <td>Middle</td>\n",
       "    </tr>\n",
       "    <tr>\n",
       "      <th>4</th>\n",
       "      <td>grid.412601.0</td>\n",
       "      <td>First Affiliated Hospital of Jinan University</td>\n",
       "      <td>pub.1154144039</td>\n",
       "      <td>ur.014227217615.79</td>\n",
       "      <td>First</td>\n",
       "    </tr>\n",
       "    <tr>\n",
       "      <th>5</th>\n",
       "      <td>grid.258164.c</td>\n",
       "      <td>Jinan University</td>\n",
       "      <td>pub.1154144039</td>\n",
       "      <td>ur.012755055514.47</td>\n",
       "      <td>Middle</td>\n",
       "    </tr>\n",
       "    <tr>\n",
       "      <th>6</th>\n",
       "      <td>grid.412601.0</td>\n",
       "      <td>First Affiliated Hospital of Jinan University</td>\n",
       "      <td>pub.1154144039</td>\n",
       "      <td>ur.012157101103.38</td>\n",
       "      <td>Last</td>\n",
       "    </tr>\n",
       "    <tr>\n",
       "      <th>7</th>\n",
       "      <td>grid.419653.c</td>\n",
       "      <td>National Institute of Technology Tiruchirappalli</td>\n",
       "      <td>pub.1154120926</td>\n",
       "      <td>ur.012301174053.60</td>\n",
       "      <td>First</td>\n",
       "    </tr>\n",
       "    <tr>\n",
       "      <th>8</th>\n",
       "      <td>grid.419653.c</td>\n",
       "      <td>National Institute of Technology Tiruchirappalli</td>\n",
       "      <td>pub.1154120926</td>\n",
       "      <td>ur.016340733111.17</td>\n",
       "      <td>Last</td>\n",
       "    </tr>\n",
       "    <tr>\n",
       "      <th>9</th>\n",
       "      <td>grid.43555.32</td>\n",
       "      <td>Beijing Institute of Technology</td>\n",
       "      <td>pub.1154113975</td>\n",
       "      <td>ur.011344015515.23</td>\n",
       "      <td>First</td>\n",
       "    </tr>\n",
       "  </tbody>\n",
       "</table>\n",
       "</div>"
      ],
      "text/plain": [
       "          aff_id                                          aff_name  \\\n",
       "0  grid.412601.0     First Affiliated Hospital of Jinan University   \n",
       "1  grid.412601.0     First Affiliated Hospital of Jinan University   \n",
       "2  grid.412601.0     First Affiliated Hospital of Jinan University   \n",
       "3  grid.412601.0     First Affiliated Hospital of Jinan University   \n",
       "4  grid.412601.0     First Affiliated Hospital of Jinan University   \n",
       "5  grid.258164.c                                  Jinan University   \n",
       "6  grid.412601.0     First Affiliated Hospital of Jinan University   \n",
       "7  grid.419653.c  National Institute of Technology Tiruchirappalli   \n",
       "8  grid.419653.c  National Institute of Technology Tiruchirappalli   \n",
       "9  grid.43555.32                   Beijing Institute of Technology   \n",
       "\n",
       "           pub_id       researcher_id Author_Order  \n",
       "0  pub.1154144039  ur.014116573320.23        First  \n",
       "1  pub.1154144039  ur.016241001520.36       Middle  \n",
       "2  pub.1154144039  ur.013553641416.27       Middle  \n",
       "3  pub.1154144039  ur.014351222016.81       Middle  \n",
       "4  pub.1154144039  ur.014227217615.79        First  \n",
       "5  pub.1154144039  ur.012755055514.47       Middle  \n",
       "6  pub.1154144039  ur.012157101103.38         Last  \n",
       "7  pub.1154120926  ur.012301174053.60        First  \n",
       "8  pub.1154120926  ur.016340733111.17         Last  \n",
       "9  pub.1154113975  ur.011344015515.23        First  "
      ]
     },
     "execution_count": 176,
     "metadata": {},
     "output_type": "execute_result"
    }
   ],
   "source": [
    "# MIMIC_affli.head(5)\n",
    "# Create a new 'full_name' column that combines the 'first_name' and 'last_name' columns\n",
    "Control_affli['full_name'] = Control_affli['first_name'] + ' ' + Control_affli['last_name']\n",
    "MIMIC_affli['full_name'] = MIMIC_affli['first_name'] + ' ' + MIMIC_affli['last_name']\n",
    "MIMIC_affli[['aff_id', 'aff_name','pub_id', 'researcher_id','Author_Order' ]].head(10)"
   ]
  },
  {
   "cell_type": "code",
   "execution_count": 246,
   "metadata": {},
   "outputs": [
    {
     "data": {
      "text/plain": [
       "LMIC\n",
       "No     11692\n",
       "Yes      640\n",
       "Name: count, dtype: int64"
      ]
     },
     "execution_count": 246,
     "metadata": {},
     "output_type": "execute_result"
    }
   ],
   "source": [
    "MIMIC_affli.LMIC.value_counts()"
   ]
  },
  {
   "cell_type": "code",
   "execution_count": null,
   "metadata": {},
   "outputs": [
    {
     "name": "stdout",
     "output_type": "stream",
     "text": [
      "Total number of affiliation information: 13967\n",
      "Number of authors from an LMIC: 655\n",
      "Proportion of authors from an LMIC: 4.69%\n",
      "Total number of affiliation information: 25676\n",
      "Number of authors from an LMIC: 756\n",
      "Proportion of authors from an LMIC: 2.94%\n"
     ]
    }
   ],
   "source": [
    "# Count the total number of rows in the dataframe\n",
    "total_rows = len(MIMIC_affli)\n",
    "\n",
    "# Count the number of rows where the author is from an LMIC\n",
    "rows_with_lmic_author = len(MIMIC_affli[MIMIC_affli['LMIC'] == \"Yes\"])\n",
    "\n",
    "# Calculate the proportion\n",
    "proportion_with_lmic_author = (rows_with_lmic_author / total_rows) * 100\n",
    "\n",
    "print(f\"Total number of affiliation information: {total_rows}\")\n",
    "print(f\"Number of authors from an LMIC: {rows_with_lmic_author}\")\n",
    "print(f\"Proportion of authors from an LMIC: {proportion_with_lmic_author:.2f}%\")\n",
    "\n",
    "# Count the total number of rows in the dataframe\n",
    "total_rows = len(Control_affli)\n",
    "\n",
    "# Count the number of rows where the author is from an LMIC\n",
    "rows_with_lmic_author = len(Control_affli[Control_affli['LMIC'] == \"Yes\"])\n",
    "\n",
    "# Calculate the proportion\n",
    "proportion_with_lmic_author = (rows_with_lmic_author / total_rows) * 100\n",
    "\n",
    "print(f\"Total number of affiliation information: {total_rows}\")\n",
    "print(f\"Number of authors from an LMIC: {rows_with_lmic_author}\")\n",
    "print(f\"Proportion of authors from an LMIC: {proportion_with_lmic_author:.2f}%\")\n"
   ]
  },
  {
   "cell_type": "code",
   "execution_count": null,
   "metadata": {},
   "outputs": [
    {
     "name": "stdout",
     "output_type": "stream",
     "text": [
      "MIMIC: Number of first authors from an LMIC: 124\n",
      "MIMIC: Total number of first authors: 2204\n",
      "MIMIC:  Proportion of first authors from an LMIC: 5.63%\n",
      "Control ： Number of first authors from an LMIC: 147\n",
      "Control: Total number of first authors: 3646\n",
      "Control：  Proportion of first authors from an LMIC: 4.03%\n"
     ]
    }
   ],
   "source": [
    "# Filter the rows where 'Author_Order' is 'First'\n",
    "first_authors_df = MIMIC_affli[MIMIC_affli['Author_Order'] == 'First']\n",
    "# Count the total number of first authors\n",
    "total_first_authors = len(first_authors_df)\n",
    "# Count the number of first authors from an LMIC\n",
    "first_authors_from_lmic = len(first_authors_df[first_authors_df['LMIC'] == 'Yes'])\n",
    "# Calculate the proportion of first authors from LMIC\n",
    "proportion_first_authors_from_lmic = (first_authors_from_lmic / total_first_authors) * 100\n",
    "print(f\"MIMIC: Number of first authors from an LMIC: {first_authors_from_lmic}\")\n",
    "print(f\"MIMIC: Total number of first authors: {total_first_authors }\")\n",
    "print(f\"MIMIC:  Proportion of first authors from an LMIC: {proportion_first_authors_from_lmic:.2f}%\")\n",
    "\n",
    "# Filter the rows where 'Author_Order' is 'First'\n",
    "first_authors_df = Control_affli[Control_affli['Author_Order'] == 'First']\n",
    "# Count the total number of first authors\n",
    "total_first_authors = len(first_authors_df)\n",
    "# Count the number of first authors from an LMIC\n",
    "first_authors_from_lmic = len(first_authors_df[first_authors_df['LMIC'] == 'Yes'])\n",
    "# Calculate the proportion of first authors from LMIC\n",
    "proportion_first_authors_from_lmic = (first_authors_from_lmic / total_first_authors) * 100\n",
    "print(f\"Control ： Number of first authors from an LMIC: {first_authors_from_lmic}\")\n",
    "print(f\"Control: Total number of first authors: {total_first_authors }\")\n",
    "print(f\"Control：  Proportion of first authors from an LMIC: {proportion_first_authors_from_lmic:.2f}%\")\n"
   ]
  },
  {
   "cell_type": "code",
   "execution_count": null,
   "metadata": {},
   "outputs": [
    {
     "name": "stdout",
     "output_type": "stream",
     "text": [
      "MIMIC ： Number of Last authors from an LMIC: 142\n",
      "MIMIC: Total number of last authors: 3007\n",
      "MIMIC：  Proportion of Last authors from an LMIC: 4.72%\n",
      "Control ： Number of Last authors from an LMIC: 158\n",
      "Control: Total number of first authors: 5193\n",
      "Control：  Proportion of Last authors from an LMIC: 3.04%\n"
     ]
    }
   ],
   "source": [
    "# Filter the rows where 'Author_Order' is 'Last'\n",
    "Last_authors_df = MIMIC_affli[MIMIC_affli['Author_Order'] == 'Last']\n",
    "# Count the total number of Last authors\n",
    "total_Last_authors = len(Last_authors_df)\n",
    "# Count the number of Last authors from an LMIC\n",
    "Last_authors_from_lmic = len(Last_authors_df[Last_authors_df['LMIC'] == 'Yes'])\n",
    "# Calculate the proportion of Last authors from LMIC\n",
    "proportion_Last_authors_from_lmic = (Last_authors_from_lmic / total_Last_authors) * 100\n",
    "print(f\"MIMIC ： Number of Last authors from an LMIC: {Last_authors_from_lmic}\")\n",
    "print(f\"MIMIC: Total number of last authors: {total_Last_authors }\")\n",
    "print(f\"MIMIC：  Proportion of Last authors from an LMIC: {proportion_Last_authors_from_lmic:.2f}%\")\n",
    "\n",
    "# Filter the rows where 'Author_Order' is 'Last'\n",
    "Last_authors_df = Control_affli[Control_affli['Author_Order'] == 'Last']\n",
    "# Count the total number of Last authors\n",
    "total_Last_authors = len(Last_authors_df)\n",
    "# Count the number of Last authors from an LMIC\n",
    "Last_authors_from_lmic = len(Last_authors_df[Last_authors_df['LMIC'] == 'Yes'])\n",
    "# Calculate the proportion of Last authors from LMIC\n",
    "proportion_Last_authors_from_lmic = (Last_authors_from_lmic / total_Last_authors) * 100\n",
    "print(f\"Control ： Number of Last authors from an LMIC: {Last_authors_from_lmic}\")\n",
    "print(f\"Control: Total number of first authors: {total_Last_authors }\")\n",
    "print(f\"Control：  Proportion of Last authors from an LMIC: {proportion_Last_authors_from_lmic:.2f}%\")\n"
   ]
  },
  {
   "cell_type": "code",
   "execution_count": null,
   "metadata": {},
   "outputs": [
    {
     "name": "stdout",
     "output_type": "stream",
     "text": [
      "13879\n",
      "There are 6766 unique authors in the MIMIC_author dataframe.\n",
      "There are 3518 missing researcher_ids in the MIMIC_author dataframe.\n",
      "There are 10361 records can be mapped \n"
     ]
    }
   ],
   "source": [
    "print(len(MIMIC_author))\n",
    "MIMIC_unique_authors = MIMIC_author['researcher_id'].nunique()\n",
    "print(f\"There are {MIMIC_unique_authors} unique authors in the MIMIC_author dataframe.\")\n",
    "MIMIC_missing_researcher_ids = MIMIC_author['researcher_id'].isna().sum()\n",
    "print(f\"There are {MIMIC_missing_researcher_ids} missing researcher_ids in the MIMIC_author dataframe.\")\n",
    "print(f\"There are {len(MIMIC_author)-MIMIC_missing_researcher_ids} records can be mapped \")"
   ]
  },
  {
   "cell_type": "code",
   "execution_count": null,
   "metadata": {},
   "outputs": [
    {
     "name": "stdout",
     "output_type": "stream",
     "text": [
      "20539\n",
      "There are 14821 unique authors in the Control_author dataframe.\n",
      "There are 2797 missing researcher_ids in the Control_author dataframe.\n",
      "There are 17742 records can be mapped in Control  \n"
     ]
    }
   ],
   "source": [
    "print(len(Control_author))\n",
    "Control_unique_authors = Control_author['researcher_id'].nunique()\n",
    "print(f\"There are {Control_unique_authors} unique authors in the Control_author dataframe.\")\n",
    "Control_missing_researcher_ids = Control_author['researcher_id'].isna().sum()\n",
    "print(f\"There are {Control_missing_researcher_ids} missing researcher_ids in the Control_author dataframe.\")\n",
    "print(f\"There are {len(Control_author)-Control_missing_researcher_ids} records can be mapped in Control  \")"
   ]
  },
  {
   "cell_type": "code",
   "execution_count": null,
   "metadata": {},
   "outputs": [
    {
     "name": "stdout",
     "output_type": "stream",
     "text": [
      "34418\n",
      "21587\n",
      "28103\n",
      "0.8165204253588239\n"
     ]
    }
   ],
   "source": [
    "print(13879+20539)\n",
    "print(6766+14821)\n",
    "print(10361+17742)\n",
    "print(28103/34418)"
   ]
  },
  {
   "cell_type": "code",
   "execution_count": null,
   "metadata": {},
   "outputs": [
    {
     "data": {
      "text/plain": [
       "False"
      ]
     },
     "execution_count": 184,
     "metadata": {},
     "output_type": "execute_result"
    }
   ],
   "source": [
    "# set(MIMIC_affli.pub_id) in set(Control_pubs.id)\n",
    "set(Control_pubs.id) in set(MIMIC_affli.pub_id)"
   ]
  },
  {
   "cell_type": "code",
   "execution_count": null,
   "metadata": {},
   "outputs": [
    {
     "name": "stdout",
     "output_type": "stream",
     "text": [
      "MIMIC unique pub_id 1672\n"
     ]
    }
   ],
   "source": [
    "# Get unique pub_id in MIMIC_affli\n",
    "unique_pub_id_in_MIMIC_affli = set(MIMIC_affli['pub_id'].dropna().unique())\n",
    "\n",
    "# Get unique pub_id in MIMIC_author\n",
    "unique_pub_id_in_MIMIC_pubs = set(MIMIC_pubs['id'].dropna().unique())\n",
    "\n",
    "# Get intersection of unique pub_id in both MIMIC_affli and MIMIC_author\n",
    "MIMIC_intersection_ids = unique_pub_id_in_MIMIC_affli.intersection(unique_pub_id_in_MIMIC_pubs)\n",
    "print(\"MIMIC unique pub_id\",len(MIMIC_intersection_ids))"
   ]
  },
  {
   "cell_type": "code",
   "execution_count": null,
   "metadata": {},
   "outputs": [
    {
     "name": "stdout",
     "output_type": "stream",
     "text": [
      "Control unique pub_id 2877\n"
     ]
    }
   ],
   "source": [
    "# Get unique pub_id in Control_affli\n",
    "unique_pub_id_in_Control_affli = set(Control_affli['pub_id'].dropna().unique())\n",
    "\n",
    "# Get unique pub_id in Control_author\n",
    "unique_pub_id_in_Control_pubs = set(Control_pubs['id'].dropna().unique())\n",
    "\n",
    "# Get intersection of unique pub_id in both Control_affli and Control_author\n",
    "Control_intersection_ids = unique_pub_id_in_Control_affli.intersection(unique_pub_id_in_Control_pubs)\n",
    "print(\"Control unique pub_id\",len(Control_intersection_ids))"
   ]
  },
  {
   "cell_type": "code",
   "execution_count": null,
   "metadata": {},
   "outputs": [
    {
     "name": "stdout",
     "output_type": "stream",
     "text": [
      "The number of researchers in both MIMIC and Control datasets is:  562\n"
     ]
    }
   ],
   "source": [
    "# Get unique researcher_id in MIMIC_affli\n",
    "unique_researcher_id_in_MIMIC_affli = set(MIMIC_affli['researcher_id'].dropna().unique())\n",
    "\n",
    "# Get unique researcher_id in MIMIC_author\n",
    "unique_researcher_id_in_MIMIC_author = set(MIMIC_author['researcher_id'].dropna().unique())\n",
    "\n",
    "# Get intersection of unique researcher_id in both MIMIC_affli and MIMIC_author\n",
    "MIMIC_intersection_ids = unique_researcher_id_in_MIMIC_affli.intersection(unique_researcher_id_in_MIMIC_author)\n",
    "\n",
    "# Print number of intersection researcher_id\n",
    "# print(f\"The number of unique researcher_id present in both MIMIC_affli and MIMIC_author is: {len(MIMIC_intersection_ids)}\")\n",
    "# Get unique researcher_id in Control_affli\n",
    "unique_researcher_id_in_Control_affli = set(Control_affli['researcher_id'].dropna().unique())\n",
    "\n",
    "# Get unique researcher_id in Control_author\n",
    "unique_researcher_id_in_Control_author = set(Control_author['researcher_id'].dropna().unique())\n",
    "\n",
    "# Get intersection of unique researcher_id in both Control_affli and Control_author\n",
    "Control_intersection_ids = unique_researcher_id_in_Control_affli.intersection(unique_researcher_id_in_Control_author)\n",
    "\n",
    "# Print number of intersection researcher_id\n",
    "# print(f\"The number of unique researcher_id present in both Control_affli and Control_author is: {len(Control_intersection_ids)}\")\n",
    "print(\"The number of researchers in both MIMIC and Control datasets is: \",len(MIMIC_intersection_ids.intersection(Control_intersection_ids)))"
   ]
  },
  {
   "cell_type": "code",
   "execution_count": null,
   "metadata": {},
   "outputs": [
    {
     "name": "stdout",
     "output_type": "stream",
     "text": [
      "MIMIC Top 10 journals by the number of publications:\n",
      "journal.title\n",
      "arXiv                                          475\n",
      "Research Square                                148\n",
      "medRxiv                                         53\n",
      "Frontiers in Medicine                           42\n",
      "Scientific Reports                              31\n",
      "Critical Care Medicine                          29\n",
      "SSRN Electronic Journal                         25\n",
      "Frontiers in Cardiovascular Medicine            24\n",
      "PLOS ONE                                        24\n",
      "BMC Medical Informatics and Decision Making     22\n",
      "dtype: int64\n",
      "Top3 count: 676 Top 3 journal % 0.2930212397052449 MIMIC totle pubs 2307\n"
     ]
    },
    {
     "data": {
      "image/png": "[encoded data removed]",
      "text/plain": [
       "<Figure size 1000x600 with 1 Axes>"
      ]
     },
     "metadata": {},
     "output_type": "display_data"
    }
   ],
   "source": [
    "# Assuming the MIMIC_pubs dataframe is named 'MIMIC_pubs'\n",
    "# Group the dataframe by 'journal.title' and count the number of publications for each journal\n",
    "journal_counts = MIMIC_pubs.groupby('journal.title').size()\n",
    "\n",
    "# Sort the journals by the number of publications in descending order\n",
    "sorted_journal_counts = journal_counts.sort_values(ascending=False)\n",
    "\n",
    "# Get the top 10 journals\n",
    "top_10_journals = sorted_journal_counts.head(10)\n",
    "\n",
    "print(\"MIMIC Top 10 journals by the number of publications:\")\n",
    "print(top_10_journals)\n",
    "\n",
    "import pandas as pd\n",
    "import matplotlib.pyplot as plt\n",
    "# Group the dataframe by 'journal.title' and count the number of publications for each journal\n",
    "journal_counts = MIMIC_pubs.groupby('journal.title').size()\n",
    "\n",
    "# Sort the journals by the number of publications in descending order\n",
    "sorted_journal_counts = journal_counts.sort_values(ascending=False)\n",
    "\n",
    "# Get the top 10 journals\n",
    "top_10_journals = sorted_journal_counts.head(10)\n",
    "print(\"Top3 count:\",475+148+53,\"Top 3 journal %\",(475+148+53)/len(MIMIC_pubs), \"MIMIC totle pubs\", len(MIMIC_pubs))\n",
    "# Create a bar plot of the top 10 journals\n",
    "fig, ax = plt.subplots(figsize=(10, 6))\n",
    "top_10_journals.plot(kind='bar', ax=ax)\n",
    "ax.set_ylabel('Number of Publications')\n",
    "ax.set_xlabel('Journal Title')\n",
    "ax.set_title('Top 10 Journals by Number of Publications')\n",
    "plt.xticks(rotation=45, ha='right')\n",
    "\n",
    "# Show the plot\n",
    "plt.show()\n"
   ]
  },
  {
   "cell_type": "code",
   "execution_count": null,
   "metadata": {},
   "outputs": [
    {
     "data": {
      "text/plain": [
       "Index(['Unnamed: 0', 'id', 'title', 'abstract', 'authors', 'authors_count',\n",
       "       'category_for', 'category_rcdc', 'category_sdg', 'category_uoa',\n",
       "       'concepts_scores', 'doi', 'funder_countries', 'funders', 'issue',\n",
       "       'mesh_terms', 'open_access', 'pages', 'pmid', 'publisher',\n",
       "       'research_org_cities', 'research_org_countries',\n",
       "       'research_org_country_names', 'research_org_names', 'research_orgs',\n",
       "       'researchers', 'supporting_grant_ids', 'times_cited', 'type', 'volume',\n",
       "       'year', 'journal.id', 'journal.title', 'category_hra',\n",
       "       'category_hrcs_hc', 'category_hrcs_rac', 'research_org_state_names',\n",
       "       'category_bra', 'research_org_state_codes', 'editors',\n",
       "       'category_icrp_cso', 'category_icrp_ct', 'field_citation_ratio',\n",
       "       'relative_citation_ratio', 'author_count_categories', 'first_names',\n",
       "       'genders', 'num_female', 'num_male', 'num_na', 'pct_female_real',\n",
       "       'female_first', 'female_last', 'pct_female_pessimistic',\n",
       "       'pct_female_optimistic', 'female_first_pessimistic',\n",
       "       'female_first_optimistic', 'female_last_pessimistic',\n",
       "       'female_last_optimistic'],\n",
       "      dtype='object')"
      ]
     },
     "execution_count": 118,
     "metadata": {},
     "output_type": "execute_result"
    }
   ],
   "source": [
    "# # Load data \n",
    "# Control_pubs =  pd.read_csv(\"./Data/MIMIC_Files/control_group_pubs.csv\")\n",
    "# MIMIC_pubs = pd.read_csv(\"./Data/MIMIC_Files/mimic_pubs.csv\")\n",
    "\n",
    "# MIMIC_author = pd.read_csv(\"./Data/MIMIC_Files/mimic_auths.csv\")\n",
    "# Control_author = pd.read_csv(\"./Data/MIMIC_Files/control_group_auths.csv\")\n",
    "\n",
    "# MIMIC_affli = pd.read_csv(\"./Data/MIMIC_Files/mimic_affils.csv\")\n",
    "# Control_affli = pd.read_csv(\"./Data/MIMIC_Files/control_group_affils.csv\")\n",
    "\n",
    "# Control_pubs.columns"
   ]
  },
  {
   "cell_type": "code",
   "execution_count": null,
   "metadata": {},
   "outputs": [
    {
     "name": "stdout",
     "output_type": "stream",
     "text": [
      "Control Top 10 journals by the number of publications:\n",
      "journal.title\n",
      "EMBC                                            99\n",
      "PLOS ONE                                        71\n",
      "Critical Care Medicine                          68\n",
      "Scientific Reports                              68\n",
      "Journal of Clinical Monitoring and Computing    44\n",
      "Computers in Biology and Medicine               35\n",
      "Computer Methods and Programs in Biomedicine    32\n",
      "Sensors                                         32\n",
      "Critical Care                                   32\n",
      "BMC Medical Informatics and Decision Making     30\n",
      "dtype: int64\n",
      "Top3 count: 238 Top 3 journal % 0.08173076923076923 MIMIC totle pubs 2912\n",
      "journal.title\n",
      "EMBC                                            99\n",
      "PLOS ONE                                        71\n",
      "Critical Care Medicine                          68\n",
      "Scientific Reports                              68\n",
      "Journal of Clinical Monitoring and Computing    44\n",
      "Computers in Biology and Medicine               35\n",
      "Computer Methods and Programs in Biomedicine    32\n",
      "Sensors                                         32\n",
      "Critical Care                                   32\n",
      "BMC Medical Informatics and Decision Making     30\n",
      "dtype: int64\n"
     ]
    },
    {
     "data": {
      "image/png": "[encoded data removed]",
      "text/plain": [
       "<Figure size 1000x600 with 1 Axes>"
      ]
     },
     "metadata": {},
     "output_type": "display_data"
    }
   ],
   "source": [
    "\n",
    "# Group the dataframe by 'journal.title' and count the number of publications for each journal\n",
    "Control_pubs['journal.title'] = Control_pubs['journal.title'].replace(\"Annual International Conference of the IEEE Engineering in Medicine and Biology Society (EMBC)\",\"EMBC\")\n",
    "journal_counts = Control_pubs.groupby('journal.title').size()\n",
    "\n",
    "# Sort the journals by the number of publications in descending order\n",
    "sorted_journal_counts = journal_counts.sort_values(ascending=False)\n",
    "\n",
    "# Get the top 10 journals\n",
    "top_10_journals = sorted_journal_counts.head(10)\n",
    "\n",
    "print(\"Control Top 10 journals by the number of publications:\")\n",
    "print(top_10_journals)\n",
    "print(\"Top3 count:\",99+71+68,\"Top 3 journal %\",(99+71+68)/len(Control_pubs), \"MIMIC totle pubs\", len(Control_pubs))\n",
    "\n",
    "# Group the dataframe by 'journal.title' and count the number of publications for each journal\n",
    "\n",
    "journal_counts = Control_pubs.groupby('journal.title').size()\n",
    "\n",
    "# Sort the journals by the number of publications in descending order\n",
    "sorted_journal_counts = journal_counts.sort_values(ascending=False)\n",
    "\n",
    "# Get the top 10 journals\n",
    "top_10_journals = sorted_journal_counts.head(10)\n",
    "\n",
    "# top_10_journals =top_10_journals.title.replace(\"Annual International Conference of the IEEE Engineering in Medicine and Biology Society (EMBC)\",\"EMBC\")\n",
    "print(top_10_journals)\n",
    "# Create a bar plot of the top 10 journals\n",
    "fig, ax = plt.subplots(figsize=(10, 6))\n",
    "top_10_journals.plot(kind='bar', ax=ax)\n",
    "ax.set_ylabel('Number of Publications')\n",
    "ax.set_xlabel('Journal Title')\n",
    "ax.set_title('Top 10 Journals by Number of Publications')\n",
    "plt.xticks(rotation=45, ha='right')\n",
    "\n",
    "# Show the plot\n",
    "plt.show()"
   ]
  },
  {
   "cell_type": "code",
   "execution_count": null,
   "metadata": {},
   "outputs": [
    {
     "name": "stdout",
     "output_type": "stream",
     "text": [
      "MIMIC paper count 1672\n",
      "MIMIC Number of papers with non-missing country information: 1487\n",
      "MIMIC Number of paper with missing country information 185\n",
      "11.06% of papers had at least one author with a missing country information.\n"
     ]
    }
   ],
   "source": [
    "\n",
    "# Create a boolean column indicating if a paper has a missing affiliation for any author\n",
    "MIMIC_affli['missing_affiliation'] = MIMIC_affli['aff_country'].isna() | MIMIC_affli['aff_country_code'].isna()\n",
    "\n",
    "# Group by publication and aggregate the 'missing_affiliation' column with 'any' function\n",
    "grouped_affiliations = MIMIC_affli.groupby('pub_id')['missing_affiliation'].agg('any').reset_index(name='any_missing_affiliation')\n",
    "\n",
    "# Filter the papers with non-missing affiliations\n",
    "MIMIC_papers_with_non_missing_affiliations = grouped_affiliations[grouped_affiliations['any_missing_affiliation'] == False]\n",
    "MIMIC_non_missing_pubid =MIMIC_papers_with_non_missing_affiliations.pub_id \n",
    "# print(MIMIC_papers_with_non_missing_affiliations.pub_id)\n",
    "# Calculate the percentage of papers with at least one author with a missing affiliation\n",
    "num_papers = len(grouped_affiliations)\n",
    "num_papers_with_missing_affiliation = grouped_affiliations['any_missing_affiliation'].sum()\n",
    "percentage_papers_with_missing_affiliation = (num_papers_with_missing_affiliation / num_papers) * 100\n",
    "print(f\"MIMIC paper count {num_papers}\")\n",
    "print(f\"MIMIC Number of papers with non-missing country information: {len(MIMIC_papers_with_non_missing_affiliations)}\")\n",
    "print(f\"MIMIC Number of paper with missing country information {num_papers_with_missing_affiliation}\")\n",
    "print(f\"{percentage_papers_with_missing_affiliation:.2f}% of papers had at least one author with a missing country information.\")\n"
   ]
  },
  {
   "cell_type": "code",
   "execution_count": null,
   "metadata": {},
   "outputs": [
    {
     "name": "stdout",
     "output_type": "stream",
     "text": [
      "368 0.08089690041767421\n",
      "185 0.11064593301435406\n",
      "183 0.06360792492179354\n"
     ]
    }
   ],
   "source": [
    "print((185+183), (185+183)/(1672+2877))\n",
    "print(185, 185/1672)\n",
    "print(183, 183/2877)"
   ]
  },
  {
   "cell_type": "code",
   "execution_count": null,
   "metadata": {},
   "outputs": [
    {
     "name": "stdout",
     "output_type": "stream",
     "text": [
      "Control total papers 2877\n",
      "Control number of papers with missing country 183\n",
      "Control Number of papers with non-missing country information: 2694\n",
      "6.36% of papers had at least one author with a missing country information.\n"
     ]
    }
   ],
   "source": [
    "\n",
    "# Create a boolean column indicating if a paper has a missing affiliation for any author\n",
    "Control_affli['missing_affiliation'] = Control_affli['aff_country'].isna() | Control_affli['aff_country_code'].isna()\n",
    "\n",
    "# Group by publication and aggregate the 'missing_affiliation' column with 'any' function\n",
    "grouped_affiliations = Control_affli.groupby('pub_id')['missing_affiliation'].agg('any').reset_index(name='any_missing_affiliation')\n",
    "\n",
    "# Filter the papers with non-missing affiliations\n",
    "Control_papers_with_non_missing_affiliations = grouped_affiliations[grouped_affiliations['any_missing_affiliation'] == False]\n",
    "Control_non_missing_pubid =Control_papers_with_non_missing_affiliations.pub_id \n",
    "# print(Control_papers_with_non_missing_affiliations.pub_id)\n",
    "# Calculate the percentage of papers with at least one author with a missing affiliation\n",
    "num_papers = len(grouped_affiliations)\n",
    "num_papers_with_missing_affiliation = grouped_affiliations['any_missing_affiliation'].sum()\n",
    "percentage_papers_with_missing_affiliation = (num_papers_with_missing_affiliation / num_papers) * 100\n",
    "print(f\"Control total papers {num_papers}\")\n",
    "print(f\"Control number of papers with missing country {num_papers_with_missing_affiliation}\")\n",
    "print(f\"Control Number of papers with non-missing country information: {len(Control_papers_with_non_missing_affiliations)}\")\n",
    "print(f\"{percentage_papers_with_missing_affiliation:.2f}% of papers had at least one author with a missing country information.\")\n"
   ]
  },
  {
   "cell_type": "code",
   "execution_count": null,
   "metadata": {},
   "outputs": [
    {
     "name": "stdout",
     "output_type": "stream",
     "text": [
      "MIMIC Number of papers with only one author: 104\n"
     ]
    }
   ],
   "source": [
    "MIMIC_affli.pub_id.value_counts()\n",
    "\n",
    "MIMIC_author_counts = MIMIC_affli.groupby('pub_id')['researcher_id'].nunique()\n",
    "\n",
    "# Filter the results to get the number of papers with only one author\n",
    "MIMIC_single_author_papers = MIMIC_author_counts[MIMIC_author_counts == 1].count()\n",
    "\n",
    "print(f\"MIMIC Number of papers with only one author: {MIMIC_single_author_papers}\")"
   ]
  },
  {
   "cell_type": "code",
   "execution_count": null,
   "metadata": {},
   "outputs": [
    {
     "name": "stdout",
     "output_type": "stream",
     "text": [
      "Control Number of papers with only one author: 178\n"
     ]
    }
   ],
   "source": [
    "Control_affli.pub_id.value_counts()\n",
    "\n",
    "\n",
    "# Assuming 'df' is your DataFrame with 'pub_id' and 'researcher_id' columns\n",
    "# Group by 'pub_id' and count the number of unique authors for each publication\n",
    "Control_author_counts = Control_affli.groupby('pub_id')['researcher_id'].nunique()\n",
    "\n",
    "# Filter the results to get the number of papers with only one author\n",
    "Control_single_author_papers = Control_author_counts[Control_author_counts == 1].count()\n",
    "\n",
    "print(f\"Control Number of papers with only one author: {Control_single_author_papers}\")"
   ]
  },
  {
   "cell_type": "code",
   "execution_count": null,
   "metadata": {},
   "outputs": [
    {
     "data": {
      "text/plain": [
       "income_class\n",
       "High income            19798\n",
       "Upper middle income     4278\n",
       "Lower middle income      742\n",
       "Low income                14\n",
       "Name: count, dtype: int64"
      ]
     },
     "execution_count": 233,
     "metadata": {},
     "output_type": "execute_result"
    }
   ],
   "source": [
    "Control_affli.income_class.value_counts()"
   ]
  },
  {
   "cell_type": "markdown",
   "metadata": {},
   "source": [
    "### Any LMIC count"
   ]
  },
  {
   "cell_type": "code",
   "execution_count": null,
   "metadata": {},
   "outputs": [],
   "source": [
    "#### Pleae note  here I've changed the MIMIC_affli, and Control_affli with non missing affiliations pubids \n",
    "MIMIC_affiliation_original = MIMIC_affli\n",
    "Control_affilation_original = Control_affli\n",
    "MIMIC_affli = MIMIC_affli[MIMIC_affli.pub_id.isin(MIMIC_non_missing_pubid)]\n",
    "Control_affli = Control_affli[Control_affli.pub_id.isin(Control_non_missing_pubid)]"
   ]
  },
  {
   "cell_type": "code",
   "execution_count": 262,
   "metadata": {},
   "outputs": [
    {
     "name": "stderr",
     "output_type": "stream",
     "text": [
      "/var/folders/v0/r16j2f9545n7rrq_rvqlxn180000gn/T/ipykernel_17664/1288947939.py:3: SettingWithCopyWarning: \n",
      "A value is trying to be set on a copy of a slice from a DataFrame.\n",
      "Try using .loc[row_indexer,col_indexer] = value instead\n",
      "\n",
      "See the caveats in the documentation: https://pandas.pydata.org/pandas-docs/stable/user_guide/indexing.html#returning-a-view-versus-a-copy\n",
      "  MIMIC_affli['LMIC'] = MIMIC_affli['LMIC'].map({'Yes': 1, 'No': 0}) # Note this line should be only use one time\n",
      "/var/folders/v0/r16j2f9545n7rrq_rvqlxn180000gn/T/ipykernel_17664/1288947939.py:5: SettingWithCopyWarning: \n",
      "A value is trying to be set on a copy of a slice from a DataFrame.\n",
      "Try using .loc[row_indexer,col_indexer] = value instead\n",
      "\n",
      "See the caveats in the documentation: https://pandas.pydata.org/pandas-docs/stable/user_guide/indexing.html#returning-a-view-versus-a-copy\n",
      "  Control_affli['LMIC'] = Control_affli['LMIC'].map({'Yes': 1, 'No': 0})\n"
     ]
    }
   ],
   "source": [
    "# # Please only run this cell once \n",
    "# # Convert 'Yes' and 'No' in 'LMIC' column to 1 and 0\n",
    "# MIMIC_affli['LMIC'] = MIMIC_affli['LMIC'].map({'Yes': 1, 'No': 0}) # Note this line should be only use one time\n",
    "# # Convert 'Yes' and 'No' in 'LMIC' column to 1 and 0\n",
    "# Control_affli['LMIC'] = Control_affli['LMIC'].map({'Yes': 1, 'No': 0})\n"
   ]
  },
  {
   "cell_type": "code",
   "execution_count": 266,
   "metadata": {},
   "outputs": [
    {
     "name": "stdout",
     "output_type": "stream",
     "text": [
      "LMIC count for all papers \n",
      "Control\n",
      "LMIC>0 168\n",
      "MIMIC\n",
      "LMIC>0 150\n",
      "all papers 4181\n",
      "0.07605835924419996\n"
     ]
    }
   ],
   "source": [
    "\n",
    "print(\"LMIC count for all papers \")\n",
    "print(\"Control\")\n",
    "Control_lmic_count = Control_affli[Control_affli['LMIC'] == 1].groupby('pub_id').agg({'LMIC': 'count'}).reset_index()\n",
    "print(\"LMIC>0\",len(Control_lmic_count[Control_lmic_count.LMIC>0]))\n",
    "print(\"MIMIC\")\n",
    "MIMIC_lmic_count = MIMIC_affli[MIMIC_affli['LMIC'] == 1].groupby('pub_id').agg({'LMIC': 'count'}).reset_index()\n",
    "print(\"LMIC>0\",len(MIMIC_lmic_count[MIMIC_lmic_count.LMIC>0]))\n",
    "print(\"all papers\",Control_affli.pub_id.nunique()+MIMIC_affli.pub_id.nunique())\n",
    "print((168+150)/4181)"
   ]
  },
  {
   "cell_type": "code",
   "execution_count": 267,
   "metadata": {},
   "outputs": [],
   "source": [
    "IncomeByPub = MIMIC_affli[['pub_id','income_class_num']].groupby(['pub_id']).agg([ 'count','mean']).reset_index()"
   ]
  },
  {
   "cell_type": "code",
   "execution_count": 268,
   "metadata": {},
   "outputs": [
    {
     "name": "stdout",
     "output_type": "stream",
     "text": [
      "for all papers \n",
      "Overall,150/1487( 10.09% )of MIMIC articles in the considered set had at least one LMIC author.\n",
      "Overall,168/2694( 6.24% ) of Control articles in the considered set had at least one LMIC author.\n",
      "Overall, 318/4181( 7.61% ) of articles in the combined set had at least one LMIC author.\n"
     ]
    }
   ],
   "source": [
    "print(\"for all papers \")\n",
    "# Determine unique 'pub_id's with at least one LMIC author\n",
    "lmic_pubs = MIMIC_affli[MIMIC_affli['LMIC'] == 1]['pub_id'].nunique()\n",
    "\n",
    "# Calculate the total number of unique 'pub_id's\n",
    "total_pubs = MIMIC_affli['pub_id'].nunique()\n",
    "\n",
    "# Calculate the percentage\n",
    "percentage_lmic = (lmic_pubs / total_pubs) * 100\n",
    "\n",
    "print(f\"Overall,{lmic_pubs}/{total_pubs}( {percentage_lmic:.2f}% )of MIMIC articles in the considered set had at least one LMIC author.\")\n",
    "\n",
    "# Repeat the same for Control dataset\n",
    "\n",
    "lmic_pubs_control = Control_affli[Control_affli['LMIC'] == 1]['pub_id'].nunique()\n",
    "total_pubs_control = Control_affli['pub_id'].nunique()\n",
    "percentage_lmic_control = (lmic_pubs_control / total_pubs_control) * 100\n",
    "\n",
    "print(f\"Overall,{lmic_pubs_control}/{total_pubs_control}( {percentage_lmic_control:.2f}% ) of Control articles in the considered set had at least one LMIC author.\")\n",
    "\n",
    "# Concatenate the two DataFrames\n",
    "combined_affli = pd.concat([MIMIC_affli, Control_affli])\n",
    "\n",
    "# Determine unique 'pub_id's with at least one LMIC author\n",
    "lmic_pubs_combined = combined_affli[combined_affli['LMIC'] == 1]['pub_id'].nunique()\n",
    "\n",
    "# Calculate the total number of unique 'pub_id's\n",
    "total_pubs_combined = combined_affli['pub_id'].nunique()\n",
    "\n",
    "# Calculate the percentage\n",
    "percentage_lmic_combined = (lmic_pubs_combined / total_pubs_combined) * 100\n",
    "\n",
    "print(f\"Overall, {lmic_pubs_combined}/{total_pubs_combined}( {percentage_lmic_combined:.2f}% ) of articles in the combined set had at least one LMIC author.\")\n"
   ]
  },
  {
   "cell_type": "code",
   "execution_count": 269,
   "metadata": {},
   "outputs": [
    {
     "name": "stdout",
     "output_type": "stream",
     "text": [
      "Z-score: 4.494579099552951\n",
      "p-value: 6.970768869463129e-06\n"
     ]
    }
   ],
   "source": [
    "from scipy.stats import norm\n",
    "\n",
    "# Given data\n",
    "p1 = 10.09 / 100  # MIMIC/eICU proportion (8.32%)\n",
    "p2 = 6.24 / 100  # Control proportion (5.51%)\n",
    "n1 = 1487       # MIMIC/eICU sample size\n",
    "n2 = 2694       # Control sample size\n",
    "\n",
    "# Calculating the pooled proportion\n",
    "x1 = p1 * n1  # Number of successes in MIMIC/eICU\n",
    "x2 = p2 * n2  # Number of successes in Control\n",
    "pooled_p = (x1 + x2) / (n1 + n2)\n",
    "\n",
    "# Calculating the Z-score\n",
    "z_score = (p1 - p2) / ((pooled_p * (1 - pooled_p) * (1/n1 + 1/n2)) ** 0.5)\n",
    "\n",
    "# Calculating the p-value\n",
    "p_value = 2 * (1 - norm.cdf(abs(z_score)))  # Two-tailed test\n",
    "\n",
    "print(\"Z-score:\", z_score)\n",
    "print(\"p-value:\", p_value)"
   ]
  },
  {
   "cell_type": "code",
   "execution_count": 260,
   "metadata": {},
   "outputs": [
    {
     "data": {
      "text/plain": [
       "12309"
      ]
     },
     "execution_count": 260,
     "metadata": {},
     "output_type": "execute_result"
    }
   ],
   "source": [
    "len(MIMIC_affli.groupby('pub_id').filter(lambda x: len(x) >= 2))"
   ]
  },
  {
   "cell_type": "code",
   "execution_count": 270,
   "metadata": {},
   "outputs": [
    {
     "name": "stdout",
     "output_type": "stream",
     "text": [
      "MIMIC\n",
      "papers with two or more authors,author list 12309\n",
      "papers count  1487\n",
      "papers with two or more authors, paper count  1464\n",
      "papers with lmic authors count 148\n",
      "first_authors 115\n",
      "last_authors: 114\n",
      "Among articles with two authors or more,133 ( 9.08%) had multiple LMIC authors.\n",
      "Additionally, the first author was affiliated with a LMIC country in 115 (7.86)% of papers with two or more authors.\n",
      "the last author was affiliated with a LMIC country in 114 (7.79)% of papers with two or more authors.\n"
     ]
    }
   ],
   "source": [
    "print(\"MIMIC\")\n",
    "MIMIC_papers_with_two_or_more_authors = MIMIC_affli.groupby('pub_id').filter(lambda x: len(x) >= 2)\n",
    "print(\"papers with two or more authors,author list\",len(MIMIC_papers_with_two_or_more_authors))\n",
    "print(\"papers count \", len(MIMIC_affli.groupby('pub_id')))\n",
    "print(\"papers with two or more authors, paper count \", len(MIMIC_papers_with_two_or_more_authors.groupby('pub_id')))\n",
    "\n",
    "# Group papers by publication id and count the number of LMIC authors per paper\n",
    "MIMIC_lmic_counts = MIMIC_papers_with_two_or_more_authors[MIMIC_papers_with_two_or_more_authors['LMIC'] == 1].groupby('pub_id')['LMIC'].count()\n",
    "print(\"papers with lmic authors count\", len(MIMIC_lmic_counts))\n",
    "\n",
    "# Calculate the percentage of papers with multiple LMIC authors\n",
    "MIMIC_papers_with_multiple_lmic_authors = MIMIC_lmic_counts[MIMIC_lmic_counts >= 2].index\n",
    "MIMIC_percentage_multiple_lmic_authors = (len(MIMIC_papers_with_multiple_lmic_authors) / len(MIMIC_papers_with_two_or_more_authors['pub_id'].unique())) * 100\n",
    "\n",
    "# Determine papers where the first author is affiliated with a LMIC country\n",
    "MIMIC_first_authors = MIMIC_papers_with_two_or_more_authors.groupby('pub_id').first()\n",
    "MIMIC_last_authors = MIMIC_papers_with_two_or_more_authors.groupby(\"pub_id\").last()\n",
    "\n",
    "MIMIC_papers_with_first_author_lmic = MIMIC_first_authors[MIMIC_first_authors['LMIC'] == 1].index\n",
    "MIMIC_papers_with_last_author_lmic = MIMIC_last_authors[MIMIC_last_authors['LMIC'] == 1].index\n",
    "print(\"first_authors\",len(MIMIC_papers_with_first_author_lmic))\n",
    "print(\"last_authors:\",len(MIMIC_papers_with_last_author_lmic) )\n",
    "# Calculate the percentage of papers where the first author is affiliated with a LMIC country\n",
    "MIMIC_percentage_first_author_lmic = (len(MIMIC_papers_with_first_author_lmic) / len(MIMIC_papers_with_two_or_more_authors['pub_id'].unique())) * 100\n",
    "MIMIC_percentage_last_author_lmic = (len(MIMIC_papers_with_last_author_lmic) / len(MIMIC_papers_with_two_or_more_authors['pub_id'].unique())) * 100\n",
    "\n",
    "print(f\"Among articles with two authors or more,{len(MIMIC_papers_with_multiple_lmic_authors )} ( {MIMIC_percentage_multiple_lmic_authors:.2f}%) had multiple LMIC authors.\")\n",
    "print(f\"Additionally, the first author was affiliated with a LMIC country in {len(MIMIC_papers_with_first_author_lmic)} ({MIMIC_percentage_first_author_lmic:.2f})% of papers with two or more authors.\")\n",
    "print(f\"the last author was affiliated with a LMIC country in {len(MIMIC_papers_with_last_author_lmic)} ({MIMIC_percentage_last_author_lmic:.2f})% of papers with two or more authors.\")"
   ]
  },
  {
   "cell_type": "code",
   "execution_count": 271,
   "metadata": {},
   "outputs": [
    {
     "name": "stdout",
     "output_type": "stream",
     "text": [
      "Control\n",
      "papers with two or more authors,author list 23127\n",
      "papers count  2694\n",
      "papers with two or more authors, paper count  2564\n",
      "papers with lmic authors count 161\n",
      "first_authors 123\n",
      "last_authors: 116\n",
      "Among articles with two authors or more,141 ( 5.50%) had multiple LMIC authors.\n",
      "Additionally, the first author was affiliated with a LMIC country in 123 (4.80)% of papers with two or more authors.\n",
      "the last author was affiliated with a LMIC country in 116 (4.52)% of papers with two or more authors.\n"
     ]
    }
   ],
   "source": [
    "print(\"Control\")\n",
    "Control_papers_with_two_or_more_authors = Control_affli.groupby('pub_id').filter(lambda x: len(x) >= 2)\n",
    "print(\"papers with two or more authors,author list\",len(Control_papers_with_two_or_more_authors))\n",
    "print(\"papers count \", len(Control_affli.groupby('pub_id')))\n",
    "print(\"papers with two or more authors, paper count \", len(Control_papers_with_two_or_more_authors.groupby('pub_id')))\n",
    "\n",
    "# Group papers by publication id and count the number of LMIC authors per paper\n",
    "Control_lmic_counts = Control_papers_with_two_or_more_authors[Control_papers_with_two_or_more_authors['LMIC'] == 1].groupby('pub_id')['LMIC'].count()\n",
    "print(\"papers with lmic authors count\", len(Control_lmic_counts))\n",
    "\n",
    "# Calculate the percentage of papers with multiple LMIC authors\n",
    "Control_papers_with_multiple_lmic_authors = Control_lmic_counts[Control_lmic_counts >= 2].index\n",
    "Control_percentage_multiple_lmic_authors = (len(Control_papers_with_multiple_lmic_authors) / len(Control_papers_with_two_or_more_authors['pub_id'].unique())) * 100\n",
    "\n",
    "# Determine papers where the first author is affiliated with a LMIC country\n",
    "Control_first_authors = Control_papers_with_two_or_more_authors.groupby('pub_id').first()\n",
    "Control_last_authors = Control_papers_with_two_or_more_authors.groupby(\"pub_id\").last()\n",
    "\n",
    "Control_papers_with_first_author_lmic = Control_first_authors[Control_first_authors['LMIC'] == 1].index\n",
    "Control_papers_with_last_author_lmic = Control_last_authors[Control_last_authors['LMIC'] == 1].index\n",
    "print(\"first_authors\",len(Control_papers_with_first_author_lmic))\n",
    "print(\"last_authors:\",len(Control_papers_with_last_author_lmic) )\n",
    "# Calculate the percentage of papers where the first author is affiliated with a LMIC country\n",
    "Control_percentage_first_author_lmic = (len(Control_papers_with_first_author_lmic) / len(Control_papers_with_two_or_more_authors['pub_id'].unique())) * 100\n",
    "Control_percentage_last_author_lmic = (len(Control_papers_with_last_author_lmic) / len(Control_papers_with_two_or_more_authors['pub_id'].unique())) * 100\n",
    "\n",
    "print(f\"Among articles with two authors or more,{len(Control_papers_with_multiple_lmic_authors )} ( {Control_percentage_multiple_lmic_authors:.2f}%) had multiple LMIC authors.\")\n",
    "print(f\"Additionally, the first author was affiliated with a LMIC country in {len(Control_papers_with_first_author_lmic)} ({Control_percentage_first_author_lmic:.2f})% of papers with two or more authors.\")\n",
    "print(f\"the last author was affiliated with a LMIC country in {len(Control_papers_with_last_author_lmic)} ({Control_percentage_last_author_lmic:.2f})% of papers with two or more authors.\")"
   ]
  },
  {
   "cell_type": "code",
   "execution_count": 272,
   "metadata": {},
   "outputs": [
    {
     "name": "stdout",
     "output_type": "stream",
     "text": [
      "Z-score: 3.960644813615911\n",
      "p-value: 7.474764598436323e-05\n"
     ]
    }
   ],
   "source": [
    "\n",
    "# Given data\n",
    "p1 = 7.86 / 100  # MIMIC/eICU proportion (8.32%)\n",
    "p2 = 4.80 / 100  # Control proportion (5.51%)\n",
    "n1 = 1464       # MIMIC/eICU sample size\n",
    "n2 = 2564       # Control sample size\n",
    "\n",
    "# Calculating the pooled proportion\n",
    "x1 = p1 * n1  # Number of successes in MIMIC/eICU\n",
    "x2 = p2 * n2  # Number of successes in Control\n",
    "pooled_p = (x1 + x2) / (n1 + n2)\n",
    "\n",
    "# Calculating the Z-score\n",
    "z_score = (p1 - p2) / ((pooled_p * (1 - pooled_p) * (1/n1 + 1/n2)) ** 0.5)\n",
    "\n",
    "# Calculating the p-value\n",
    "p_value = 2 * (1 - norm.cdf(abs(z_score)))  # Two-tailed test\n",
    "\n",
    "print(\"Z-score:\", z_score)\n",
    "print(\"p-value:\", p_value)"
   ]
  },
  {
   "cell_type": "code",
   "execution_count": null,
   "metadata": {},
   "outputs": [
    {
     "name": "stdout",
     "output_type": "stream",
     "text": [
      "Z-score: 4.302642649100796\n",
      "p-value: 1.687729399124649e-05\n"
     ]
    }
   ],
   "source": [
    "\n",
    "# Given data\n",
    "p1 = 7.79 / 100  # MIMIC/eICU proportion (8.32%)\n",
    "p2 = 4.52 / 100  # Control proportion (5.51%)\n",
    "n1 = 1464       # MIMIC/eICU sample size\n",
    "n2 = 2564       # Control sample size\n",
    "\n",
    "# Calculating the pooled proportion\n",
    "x1 = p1 * n1  # Number of successes in MIMIC/eICU\n",
    "x2 = p2 * n2  # Number of successes in Control\n",
    "pooled_p = (x1 + x2) / (n1 + n2)\n",
    "\n",
    "# Calculating the Z-score\n",
    "z_score = (p1 - p2) / ((pooled_p * (1 - pooled_p) * (1/n1 + 1/n2)) ** 0.5)\n",
    "\n",
    "# Calculating the p-value\n",
    "p_value = 2 * (1 - norm.cdf(abs(z_score)))  # Two-tailed test\n",
    "\n",
    "print(\"Z-score:\", z_score)\n",
    "print(\"p-value:\", p_value)"
   ]
  },
  {
   "cell_type": "code",
   "execution_count": 273,
   "metadata": {},
   "outputs": [
    {
     "name": "stdout",
     "output_type": "stream",
     "text": [
      "t-statistic: 3.7189926093958356\n",
      "p-value: 0.00020242966788798516\n"
     ]
    }
   ],
   "source": [
    "import numpy as np\n",
    "from scipy.stats import ttest_ind\n",
    "\n",
    "# Sample sizes and proportions\n",
    "n1 = 1672  # MIMIC/eICU sample size\n",
    "n2 = 2877  # Control sample size\n",
    "p1 = 8.32 / 100  # MIMIC/eICU proportion (8.32%)\n",
    "p2 = 5.51 / 100  # Control proportion (5.51%)\n",
    "\n",
    "# Create arrays representing successes and failures\n",
    "data1 = np.array([1] * int(p1 * n1) + [0] * (n1 - int(p1 * n1)))  # MIMIC/eICU data\n",
    "data2 = np.array([1] * int(p2 * n2) + [0] * (n2 - int(p2 * n2)))  # Control data\n",
    "\n",
    "# Perform the t-test\n",
    "t_stat, p_value = ttest_ind(data1, data2)\n",
    "\n",
    "print(\"t-statistic:\", t_stat)\n",
    "print(\"p-value:\", p_value)\n"
   ]
  },
  {
   "cell_type": "code",
   "execution_count": 274,
   "metadata": {},
   "outputs": [
    {
     "name": "stdout",
     "output_type": "stream",
     "text": [
      "t-statistic: 3.6063577533772753\n",
      "p-value: 0.0003138582477199251\n"
     ]
    }
   ],
   "source": [
    "import numpy as np\n",
    "from scipy.stats import ttest_ind\n",
    "\n",
    "# Sample sizes and proportions\n",
    "n1 = 1672  # MIMIC/eICU sample size\n",
    "n2 = 2877  # Control sample size\n",
    "p1 = 7.14 / 100  # MIMIC/eICU proportion (8.32%)\n",
    "p2 = 4.59 / 100  # Control proportion (5.51%)\n",
    "\n",
    "# Create arrays representing successes and failures\n",
    "data1 = np.array([1] * int(p1 * n1) + [0] * (n1 - int(p1 * n1)))  # MIMIC/eICU data\n",
    "data2 = np.array([1] * int(p2 * n2) + [0] * (n2 - int(p2 * n2)))  # Control data\n",
    "\n",
    "# Perform the t-test\n",
    "t_stat, p_value = ttest_ind(data1, data2)\n",
    "\n",
    "print(\"t-statistic:\", t_stat)\n",
    "print(\"p-value:\", p_value)\n"
   ]
  },
  {
   "cell_type": "markdown",
   "metadata": {},
   "source": [
    "## Statistics for LMIC analyses"
   ]
  },
  {
   "cell_type": "code",
   "execution_count": 275,
   "metadata": {},
   "outputs": [
    {
     "name": "stdout",
     "output_type": "stream",
     "text": [
      "MIMIC Number of publications with any author from LMIC: 150(10.087424344317418%)\n",
      "MIMIC Number of first authors from LMIC: 117 (7.868190988567586%)\n",
      "MIMIC Number of last authors from LMIC: 116 (7.800941492938803%)\n",
      "MIMIC Number of papers with only one author: 104(6.99394754539341%)\n"
     ]
    }
   ],
   "source": [
    "MIMIC_paper_count = len(MIMIC_affli.groupby('pub_id'))\n",
    "MIMIC_first_authors = MIMIC_affli.groupby('pub_id').first().reset_index()\n",
    "MIMIC_last_authors = MIMIC_affli.groupby('pub_id').last().reset_index()\n",
    "MIMIC_first_author_lmic_count = MIMIC_first_authors[MIMIC_first_authors['LMIC'] == 1].shape[0]\n",
    "MIMIC_last_author_lmic_count = MIMIC_last_authors[MIMIC_last_authors['LMIC'] == 1].shape[0]\n",
    "\n",
    "MIMIC_lmic_authors = MIMIC_affli[MIMIC_affli['LMIC'] == 1]\n",
    "\n",
    "# Drop duplicate 'pub_id' values to count unique publications\n",
    "MIMIC_unique_lmic_papers = MIMIC_lmic_authors.drop_duplicates(subset='pub_id')\n",
    "\n",
    "# Count the number of unique publications with at least one LMIC author\n",
    "MIMIC_num_lmic_papers = len(MIMIC_unique_lmic_papers)\n",
    "\n",
    "print(f\"MIMIC Number of publications with any author from LMIC: {MIMIC_num_lmic_papers}({MIMIC_num_lmic_papers/MIMIC_paper_count*100}%)\")\n",
    "print(f\"MIMIC Number of first authors from LMIC: {MIMIC_first_author_lmic_count} ({MIMIC_first_author_lmic_count/MIMIC_paper_count*100}%)\")\n",
    "print(f\"MIMIC Number of last authors from LMIC: {MIMIC_last_author_lmic_count} ({MIMIC_last_author_lmic_count/MIMIC_paper_count*100}%)\")\n",
    "print(f\"MIMIC Number of papers with only one author: {MIMIC_single_author_papers}({MIMIC_single_author_papers/MIMIC_paper_count*100}%)\")"
   ]
  },
  {
   "cell_type": "code",
   "execution_count": 276,
   "metadata": {},
   "outputs": [
    {
     "name": "stdout",
     "output_type": "stream",
     "text": [
      "Control Number of publications with any author from LMIC: 168(6.23608017817372%)\n",
      "Control Number of first authors from LMIC: 130 (4.825538233110616%)\n",
      "Control Number of last authors from LMIC: 123 (4.565701559020044%)\n",
      "Control Number of papers with only one author: 178(6.607275426874535%)\n"
     ]
    }
   ],
   "source": [
    "Control_paper_count = len(Control_affli.groupby('pub_id'))\n",
    "Control_first_authors = Control_affli.groupby('pub_id').first().reset_index()\n",
    "Control_last_authors = Control_affli.groupby('pub_id').last().reset_index()\n",
    "Control_first_author_lmic_count = Control_first_authors[Control_first_authors['LMIC'] == 1].shape[0]\n",
    "Control_last_author_lmic_count = Control_last_authors[Control_last_authors['LMIC'] == 1].shape[0]\n",
    "\n",
    "Control_lmic_authors = Control_affli[Control_affli['LMIC'] == 1]\n",
    "\n",
    "# Drop duplicate 'pub_id' values to count unique publications\n",
    "Control_unique_lmic_papers = Control_lmic_authors.drop_duplicates(subset='pub_id')\n",
    "\n",
    "# Count the number of unique publications with at least one LMIC author\n",
    "Control_num_lmic_papers = len(Control_unique_lmic_papers)\n",
    "\n",
    "print(f\"Control Number of publications with any author from LMIC: {Control_num_lmic_papers}({Control_num_lmic_papers/Control_paper_count*100}%)\")\n",
    "print(f\"Control Number of first authors from LMIC: {Control_first_author_lmic_count} ({Control_first_author_lmic_count/Control_paper_count*100}%)\")\n",
    "print(f\"Control Number of last authors from LMIC: {Control_last_author_lmic_count} ({Control_last_author_lmic_count/Control_paper_count*100}%)\")\n",
    "print(f\"Control Number of papers with only one author: {Control_single_author_papers}({Control_single_author_papers/Control_paper_count*100}%)\")"
   ]
  },
  {
   "cell_type": "code",
   "execution_count": 277,
   "metadata": {},
   "outputs": [
    {
     "name": "stdout",
     "output_type": "stream",
     "text": [
      "Z-stat: 3.7249\n",
      "P-value: 0.0001\n"
     ]
    }
   ],
   "source": [
    "import numpy as np\n",
    "from statsmodels.stats.proportion import proportions_ztest\n",
    "# Number of successes (LMIC authors) in each group\n",
    "counts = np.array([156, 182])\n",
    "\n",
    "# Total number of observations in each group\n",
    "nobs = np.array([1672, 2877])\n",
    "\n",
    "# Perform the Z-test with the alternative hypothesis stating that the proportion in the MIMIC/eICU group is greater than the control group\n",
    "z_stat, p_value = proportions_ztest(counts, nobs, alternative='larger')\n",
    "\n",
    "print(f\"Z-stat: {z_stat:.4f}\")\n",
    "print(f\"P-value: {p_value:.4f}\")"
   ]
  },
  {
   "cell_type": "code",
   "execution_count": 278,
   "metadata": {},
   "outputs": [
    {
     "name": "stdout",
     "output_type": "stream",
     "text": [
      "T-stat: 3.5594\n",
      "P-value: 0.0002\n"
     ]
    }
   ],
   "source": [
    "import numpy as np\n",
    "from scipy.stats import ttest_ind\n",
    "\n",
    "# Number of successes (LMIC authors) in each group\n",
    "counts = np.array([156, 182])\n",
    "\n",
    "# Total number of observations in each group\n",
    "nobs = np.array([1672, 2877])\n",
    "\n",
    "# Creating arrays that represent successes and failures for each group\n",
    "group1 = np.array([1]*counts[0] + [0]*(nobs[0] - counts[0]))\n",
    "group2 = np.array([1]*counts[1] + [0]*(nobs[1] - counts[1]))\n",
    "\n",
    "# Perform the two-sample t-test for independent samples\n",
    "t_stat, p_value = ttest_ind(group1, group2, equal_var=False, alternative='greater')\n",
    "\n",
    "print(f\"T-stat: {t_stat:.4f}\")\n",
    "print(f\"P-value: {p_value:.4f}\")\n"
   ]
  },
  {
   "cell_type": "code",
   "execution_count": 279,
   "metadata": {},
   "outputs": [
    {
     "name": "stdout",
     "output_type": "stream",
     "text": [
      "Overall, 7.61% of articles in the combined set had at least one LMIC author.\n",
      "combined Among the 3884 papers with non-missing gender and LMIC status information, 5.12% had at least one woman and one LMIC-based researcher among the authors.\n"
     ]
    }
   ],
   "source": [
    "# Concatenate the two DataFrames\n",
    "combined_affli = pd.concat([MIMIC_affli, Control_affli])\n",
    "\n",
    "# Determine unique 'pub_id's with at least one LMIC author\n",
    "lmic_pubs_combined = combined_affli[combined_affli['LMIC'] == 1]['pub_id'].nunique()\n",
    "\n",
    "# Calculate the total number of unique 'pub_id's\n",
    "total_pubs_combined = combined_affli['pub_id'].nunique()\n",
    "\n",
    "# Calculate the percentage\n",
    "percentage_lmic_combined = (lmic_pubs_combined / total_pubs_combined) * 100\n",
    "\n",
    "print(f\"Overall, {percentage_lmic_combined:.2f}% of articles in the combined set had at least one LMIC author.\")\n",
    "# Gender intersection\n",
    "\n",
    "# Filter the dataframe to keep only those papers with non-missing gender and LMIC status information\n",
    "combined_affli_filtered = combined_affli.dropna(subset=['gender', 'LMIC'])\n",
    "\n",
    "# Group the dataframe by 'pub_id' and check if there is at least one woman author and at least one LMIC-based author for each paper\n",
    "papers_with_woman_and_lmic_authors = combined_affli_filtered.groupby('pub_id').apply(lambda x: (x['gender'].str.lower() == 'female').any() and (x['LMIC']==1).any())\n",
    "\n",
    "# Calculate the number of papers with at least one woman and one LMIC-based researcher among the authors\n",
    "papers_count = papers_with_woman_and_lmic_authors.sum()\n",
    "\n",
    "# Calculate the total number of papers with non-missing gender and LMIC status information\n",
    "total_papers = len(papers_with_woman_and_lmic_authors)\n",
    "\n",
    "# Calculate the percentage\n",
    "percentage_woman_and_lmic_authors = (papers_count / total_papers) * 100\n",
    "\n",
    "print(f\"combined Among the {total_papers} papers with non-missing gender and LMIC status information, {percentage_woman_and_lmic_authors:.2f}% had at least one woman and one LMIC-based researcher among the authors.\")"
   ]
  },
  {
   "cell_type": "code",
   "execution_count": 280,
   "metadata": {},
   "outputs": [
    {
     "name": "stdout",
     "output_type": "stream",
     "text": [
      "Combined Percentage of papers with two or more authors having the first author from LMIC: 5.69%\n",
      "Combined Percentage of papers with two or more authors having the last author from LMIC: 5.50%\n"
     ]
    }
   ],
   "source": [
    "# Combine MIMIC and Control datasets\n",
    "combined_affli = pd.concat([MIMIC_affli, Control_affli])\n",
    "\n",
    "# Group by 'pub_id' and count the total number of authors for each publication\n",
    "total_author_counts = combined_affli.groupby('pub_id').size()\n",
    "\n",
    "# Filter the results to get the number of papers with two or more authors\n",
    "two_or_more_authors_papers = total_author_counts[total_author_counts >= 2].index\n",
    "\n",
    "# Get a new DataFrame with only papers with two or more authors\n",
    "two_or_more_authors_df = combined_affli[combined_affli['pub_id'].isin(two_or_more_authors_papers)]\n",
    "\n",
    "# Get the first and last author for each publication\n",
    "first_authors = two_or_more_authors_df.groupby('pub_id').first()\n",
    "last_authors = two_or_more_authors_df.groupby('pub_id').last()\n",
    "\n",
    "# Filter the DataFrame to get rows with LMIC first authors and last authors\n",
    "lmic_first_authors = first_authors[first_authors['LMIC'] == 1]\n",
    "lmic_last_authors = last_authors[last_authors['LMIC'] == 1]\n",
    "\n",
    "# Count the number of papers with the first author and the last author from LMIC\n",
    "num_lmic_first_authors = lmic_first_authors['LMIC'].count()\n",
    "num_lmic_last_authors = lmic_last_authors['LMIC'].count()\n",
    "\n",
    "# Calculate the percentage of papers with the first author and the last author from LMIC among those with two or more authors\n",
    "percentage_lmic_first_authors = (num_lmic_first_authors / total_author_counts.count()) * 100\n",
    "percentage_lmic_last_authors = (num_lmic_last_authors / total_author_counts.count()) * 100\n",
    "\n",
    "print(f\"Combined Percentage of papers with two or more authors having the first author from LMIC: {percentage_lmic_first_authors:.2f}%\")\n",
    "print(f\"Combined Percentage of papers with two or more authors having the last author from LMIC: {percentage_lmic_last_authors:.2f}%\")\n"
   ]
  },
  {
   "cell_type": "code",
   "execution_count": 281,
   "metadata": {},
   "outputs": [
    {
     "data": {
      "text/plain": [
       "gender\n",
       "male      8006\n",
       "female    2873\n",
       "Name: count, dtype: int64"
      ]
     },
     "execution_count": 281,
     "metadata": {},
     "output_type": "execute_result"
    }
   ],
   "source": [
    "MIMIC_affli['gender'].value_counts()"
   ]
  },
  {
   "cell_type": "markdown",
   "metadata": {},
   "source": [
    "### LMIC & Gender intersection "
   ]
  },
  {
   "cell_type": "markdown",
   "metadata": {},
   "source": [
    "#### based on none-missing affiliation "
   ]
  },
  {
   "cell_type": "code",
   "execution_count": 282,
   "metadata": {},
   "outputs": [
    {
     "name": "stdout",
     "output_type": "stream",
     "text": [
      "MIMIC Among the 945 papers with non-missing gender and LMIC status information, 59 (6.24)% had at least one female LMIC-based researcher among the authors.\n",
      "Control Among the 1698 papers with non-missing gender and LMIC status information,64( 3.77 %)  had at least one female LMIC-based researcher among the authors.\n"
     ]
    }
   ],
   "source": [
    "\n",
    "\n",
    "# Filter the dataframe to keep only those papers with non-missing gender and LMIC status information\n",
    "\n",
    "MIMIC_affli_filtered = MIMIC_affli.dropna(subset=['gender', 'LMIC'])\n",
    "MIMIC_affli_filtered =MIMIC_affli_filtered[MIMIC_affli_filtered.pub_id.isin(df_affils_compare_processed.pub_id)] \n",
    "# Group the dataframe by 'pub_id' and check if there is at least one woman author and at least one LMIC-based author for each paper\n",
    "papers_with_woman_and_lmic_authors = MIMIC_affli_filtered.groupby('pub_id').apply(lambda x: (x['gender'].str.lower() == 'female').any() and (x['LMIC']==1).any())\n",
    "\n",
    "# Calculate the number of papers with at least one woman and one LMIC-based researcher among the authors\n",
    "papers_count = papers_with_woman_and_lmic_authors.sum()\n",
    "\n",
    "# Calculate the total number of papers with non-missing gender and LMIC status information\n",
    "total_papers = len(papers_with_woman_and_lmic_authors)\n",
    "\n",
    "# Calculate the percentage\n",
    "percentage_woman_and_lmic_authors = (papers_count / total_papers) * 100\n",
    "\n",
    "print(f\"MIMIC Among the {total_papers} papers with non-missing gender and LMIC status information, {papers_count} ({percentage_woman_and_lmic_authors:.2f})% had at least one female LMIC-based researcher among the authors.\")\n",
    "\n",
    "# Filter the dataframe to keep only those papers with non-missing gender and LMIC status information\n",
    "Control_affli_filtered = Control_affli.dropna(subset=['gender', 'LMIC'])\n",
    "Control_affli_filtered = Control_affli_filtered[Control_affli_filtered.pub_id.isin(df_affils_control_processed.pub_id)]\n",
    "# Group the dataframe by 'pub_id' and check if there is at least one woman author and at least one LMIC-based author for each paper\n",
    "papers_with_woman_and_lmic_authors = Control_affli_filtered.groupby('pub_id').apply(lambda x: (x['gender'].str.lower() == 'female').any() and (x['LMIC']==1).any())\n",
    "\n",
    "# Calculate the number of papers with at least one woman and one LMIC-based researcher among the authors\n",
    "papers_count = papers_with_woman_and_lmic_authors.sum()\n",
    "\n",
    "# Calculate the total number of papers with non-missing gender and LMIC status information\n",
    "total_papers = len(papers_with_woman_and_lmic_authors)\n",
    "\n",
    "# Calculate the percentage\n",
    "percentage_woman_and_lmic_authors = (papers_count / total_papers) * 100\n",
    "\n",
    "print(f\"Control Among the {total_papers} papers with non-missing gender and LMIC status information,{papers_count }( {percentage_woman_and_lmic_authors:.2f} %)  had at least one female LMIC-based researcher among the authors.\")"
   ]
  },
  {
   "cell_type": "markdown",
   "metadata": {},
   "source": [
    "##### based on non-missing gender& affiliation "
   ]
  },
  {
   "cell_type": "code",
   "execution_count": 283,
   "metadata": {},
   "outputs": [
    {
     "data": {
      "text/plain": [
       "7377"
      ]
     },
     "execution_count": 283,
     "metadata": {},
     "output_type": "execute_result"
    }
   ],
   "source": [
    "df_affils_compare_processed.pub_id.count()\n"
   ]
  },
  {
   "cell_type": "code",
   "execution_count": 284,
   "metadata": {},
   "outputs": [
    {
     "name": "stdout",
     "output_type": "stream",
     "text": [
      "MIMIC papers with women and lmic, count 59\n",
      "MIMIC Among the 945 papers with non-missing gender and LMIC status information, 6.24% had at least one woman and one LMIC-based researcher among the authors.\n",
      "Control papers with women and lmic, count 64\n",
      "Control Among the 1698 papers with non-missing gender and LMIC status information, 3.77% had at least one woman and one LMIC-based researcher among the authors.\n"
     ]
    }
   ],
   "source": [
    "\n",
    "\n",
    "# Filter the dataframe to keep only those papers with non-missing gender and LMIC status information\n",
    "MIMIC_affli_filter_missing_gender = MIMIC_affli[MIMIC_affli.pub_id.isin(df_affils_compare_processed.pub_id)]\n",
    "MIMIC_affli_filtered = MIMIC_affli_filter_missing_gender.dropna(subset=['gender', 'LMIC'])\n",
    "\n",
    "# Group the dataframe by 'pub_id' and check if there is at least one woman author and at least one LMIC-based author for each paper\n",
    "papers_with_woman_and_lmic_authors = MIMIC_affli_filtered.groupby('pub_id').apply(lambda x: (x['gender'].str.lower() == 'female').any() and (x['LMIC']==1).any())\n",
    "\n",
    "# Calculate the number of papers with at least one woman and one LMIC-based researcher among the authors\n",
    "papers_count = papers_with_woman_and_lmic_authors.sum()\n",
    "print(\"MIMIC papers with women and lmic, count\", papers_count)\n",
    "# Calculate the total number of papers with non-missing gender and LMIC status information\n",
    "total_papers = len(papers_with_woman_and_lmic_authors)\n",
    "\n",
    "# Calculate the percentage\n",
    "percentage_woman_and_lmic_authors = (papers_count / total_papers) * 100\n",
    "\n",
    "print(f\"MIMIC Among the {total_papers} papers with non-missing gender and LMIC status information, {percentage_woman_and_lmic_authors:.2f}% had at least one woman and one LMIC-based researcher among the authors.\")\n",
    "# Filter the dataframe to keep only those papers with non-missing gender and LMIC status information\n",
    "Control_affli_filter_missing_gender = Control_affli[Control_affli.pub_id.isin(df_affils_control_processed.pub_id)]\n",
    "Control_affli_filtered = Control_affli_filter_missing_gender.dropna(subset=['gender', 'LMIC'])\n",
    "\n",
    "# Group the dataframe by 'pub_id' and check if there is at least one woman author and at least one LMIC-based author for each paper\n",
    "papers_with_woman_and_lmic_authors = Control_affli_filtered.groupby('pub_id').apply(lambda x: (x['gender'].str.lower() == 'female').any() and (x['LMIC']==1).any())\n",
    "\n",
    "# Calculate the number of papers with at least one woman and one LMIC-based researcher among the authors\n",
    "papers_count = papers_with_woman_and_lmic_authors.sum()\n",
    "print(\"Control papers with women and lmic, count\", papers_count)\n",
    "# Calculate the total number of papers with non-missing gender and LMIC status information\n",
    "total_papers = len(papers_with_woman_and_lmic_authors)\n",
    "\n",
    "# Calculate the percentage\n",
    "percentage_woman_and_lmic_authors = (papers_count / total_papers) * 100\n",
    "\n",
    "print(f\"Control Among the {total_papers} papers with non-missing gender and LMIC status information, {percentage_woman_and_lmic_authors:.2f}% had at least one woman and one LMIC-based researcher among the authors.\")"
   ]
  },
  {
   "cell_type": "code",
   "execution_count": null,
   "metadata": {},
   "outputs": [
    {
     "data": {
      "text/plain": [
       "2643"
      ]
     },
     "execution_count": 432,
     "metadata": {},
     "output_type": "execute_result"
    }
   ],
   "source": [
    "1698+945"
   ]
  },
  {
   "cell_type": "code",
   "execution_count": 285,
   "metadata": {},
   "outputs": [
    {
     "name": "stdout",
     "output_type": "stream",
     "text": [
      "one-sided Two-proportion Z-test:2.781165322109097 p-value = 0.0027\n"
     ]
    }
   ],
   "source": [
    "\n",
    "# Proportions provided\n",
    "mimic_proportion = 6.24 / 100\n",
    "control_proportion = 3.77 / 100\n",
    "\n",
    "# Total number of papers with non-missing gender and LMIC status information\n",
    "mimic_total_papers = 945\n",
    "control_total_papers = 1698\n",
    "\n",
    "# Calculate the number of papers with at least one woman and one LMIC-based researcher among the authors\n",
    "mimic_papers_count = int(mimic_total_papers * mimic_proportion)\n",
    "control_papers_count = int(control_total_papers * control_proportion)\n",
    "\n",
    "# Perform the two-proportion Z-test\n",
    "z_stat, p_value = proportions_ztest([mimic_papers_count, control_papers_count],\n",
    "                                    [mimic_total_papers, control_total_papers],\n",
    "                                    alternative='larger')\n",
    "\n",
    "print(f\"one-sided Two-proportion Z-test:{z_stat} p-value = {p_value:.4f}\")"
   ]
  },
  {
   "cell_type": "code",
   "execution_count": null,
   "metadata": {},
   "outputs": [
    {
     "data": {
      "text/html": [
       "<div>\n",
       "<style scoped>\n",
       "    .dataframe tbody tr th:only-of-type {\n",
       "        vertical-align: middle;\n",
       "    }\n",
       "\n",
       "    .dataframe tbody tr th {\n",
       "        vertical-align: top;\n",
       "    }\n",
       "\n",
       "    .dataframe thead th {\n",
       "        text-align: right;\n",
       "    }\n",
       "</style>\n",
       "<table border=\"1\" class=\"dataframe\">\n",
       "  <thead>\n",
       "    <tr style=\"text-align: right;\">\n",
       "      <th></th>\n",
       "      <th>pub_id</th>\n",
       "      <th>researcher_id</th>\n",
       "    </tr>\n",
       "  </thead>\n",
       "  <tbody>\n",
       "  </tbody>\n",
       "</table>\n",
       "</div>"
      ],
      "text/plain": [
       "Empty DataFrame\n",
       "Columns: [pub_id, researcher_id]\n",
       "Index: []"
      ]
     },
     "execution_count": 237,
     "metadata": {},
     "output_type": "execute_result"
    }
   ],
   "source": [
    "MIMIC_affli[(MIMIC_affli['gender']=='female')&( MIMIC_affli['LMIC']==1)].groupby('pub_id').agg({'researcher_id':'count'}).reset_index()"
   ]
  },
  {
   "cell_type": "code",
   "execution_count": 287,
   "metadata": {},
   "outputs": [],
   "source": [
    "# # Assuming MIMIC_affli is the DataFrame you're working with\n",
    "# MIMIC_none_missing_affli_gender_count = len(MIMIC_affli_filter_missing_gender.pub_id.unique())\n",
    "# Control_none_missing_affli_gender_count = len(Control_affli_filter_missing_gender.pub_id.unique())\n",
    "                            \n",
    "# MIMIC_num_papers, MIMIC_percent = get_papers_with_woman_and_lmic(MIMIC_affli_filter_missing_gender,MIMIC_none_missing_affli_gender_count )\n",
    "# Control_num_papers, Control_percent = get_papers_with_woman_and_lmic(Control_affli_filter_missing_gender,Control_none_missing_affli_gender_count )\n",
    "# print(f\"In the treatment group comprising {MIMIC_none_missing_affli_gender_count} papers, {MIMIC_num_papers} ({MIMIC_percent:.2f}%) featured at least one woman and at least one LMIC-based researcher among the authors.\")\n",
    "# print(f\"In the control group comprising {Control_none_missing_affli_gender_count} papers, {Control_num_papers} ({Control_percent:.2f}%) featured at least one woman and at least one LMIC-based researcher among the authors.\")\n"
   ]
  },
  {
   "cell_type": "code",
   "execution_count": 289,
   "metadata": {},
   "outputs": [
    {
     "name": "stdout",
     "output_type": "stream",
     "text": [
      "The difference between the two groups is 2.47 percentage points.\n"
     ]
    }
   ],
   "source": [
    "# Calculate the difference between the two groups\n",
    "percentage_difference = (mimic_proportion - control_proportion) * 100\n",
    "\n",
    "print(f\"The difference between the two groups is {percentage_difference:.2f} percentage points.\")\n"
   ]
  },
  {
   "cell_type": "markdown",
   "metadata": {},
   "source": [
    "### Sensitivity Analyses"
   ]
  },
  {
   "cell_type": "code",
   "execution_count": 290,
   "metadata": {},
   "outputs": [],
   "source": [
    "from statsmodels.stats.proportion import proportions_ztest\n",
    "def sensitivity_analysis(total_treatment_papers, known_treatment_papers, treatment_counts, control_counts, num_scenarios=10):\n",
    "    # Calculate the proportion of LMIC authors in the known data for each group\n",
    "    treatment_proportion = treatment_counts[0] / sum(treatment_counts)\n",
    "    control_proportion = control_counts[0] / sum(control_counts)\n",
    "    print(\"total treatment \",total_treatment_papers, \"total control\", total_control_papers )\n",
    " \n",
    "    # Calculate the number of papers with missing author information for each group\n",
    "    missing_treatment_papers = total_treatment_papers - known_treatment_papers\n",
    "    missing_control_papers = total_control_papers - known_control_papers\n",
    "    missing_papers = missing_treatment_papers + missing_control_papers\n",
    "\n",
    "    p_values = []\n",
    "\n",
    "    for i in range(num_scenarios + 1):\n",
    "        # Vary the proportion of LMIC authors in the missing data\n",
    "        treatment_missing = int(missing_papers * treatment_proportion * i / num_scenarios)\n",
    "        control_missing = int(missing_papers * control_proportion * i / num_scenarios)\n",
    "\n",
    "        # Calculate the adjusted counts of LMIC authors for each group\n",
    "        adjusted_treatment_counts = treatment_counts[0] + treatment_missing\n",
    "        adjusted_control_counts = control_counts[0] + control_missing\n",
    "\n",
    "        # Perform the one-sided Z-test with the alternative hypothesis stating that the proportion in the MIMIC/eICU group is greater than the control group\n",
    "        z_stat, p_value = proportions_ztest([adjusted_treatment_counts, adjusted_control_counts],\n",
    "                                            [known_treatment_papers + missing_treatment_papers, known_control_papers + missing_control_papers],\n",
    "                                            alternative='larger')\n",
    "\n",
    "        p_values.append(p_value)\n",
    "\n",
    "    return p_values\n"
   ]
  },
  {
   "cell_type": "code",
   "execution_count": 291,
   "metadata": {},
   "outputs": [
    {
     "data": {
      "text/plain": [
       "1487"
      ]
     },
     "execution_count": 291,
     "metadata": {},
     "output_type": "execute_result"
    }
   ],
   "source": [
    "MIMIC_affli.pub_id.nunique()\n",
    "# Control_pubs.id.nunique()"
   ]
  },
  {
   "cell_type": "code",
   "execution_count": 292,
   "metadata": {},
   "outputs": [
    {
     "data": {
      "text/html": [
       "<div>\n",
       "<style scoped>\n",
       "    .dataframe tbody tr th:only-of-type {\n",
       "        vertical-align: middle;\n",
       "    }\n",
       "\n",
       "    .dataframe tbody tr th {\n",
       "        vertical-align: top;\n",
       "    }\n",
       "\n",
       "    .dataframe thead th {\n",
       "        text-align: right;\n",
       "    }\n",
       "</style>\n",
       "<table border=\"1\" class=\"dataframe\">\n",
       "  <thead>\n",
       "    <tr style=\"text-align: right;\">\n",
       "      <th></th>\n",
       "      <th>pub_id</th>\n",
       "      <th>LMIC</th>\n",
       "    </tr>\n",
       "  </thead>\n",
       "  <tbody>\n",
       "    <tr>\n",
       "      <th>0</th>\n",
       "      <td>pub.1019691504</td>\n",
       "      <td>27</td>\n",
       "    </tr>\n",
       "    <tr>\n",
       "      <th>1</th>\n",
       "      <td>pub.1074224378</td>\n",
       "      <td>4</td>\n",
       "    </tr>\n",
       "    <tr>\n",
       "      <th>2</th>\n",
       "      <td>pub.1092251980</td>\n",
       "      <td>1</td>\n",
       "    </tr>\n",
       "    <tr>\n",
       "      <th>3</th>\n",
       "      <td>pub.1095222159</td>\n",
       "      <td>2</td>\n",
       "    </tr>\n",
       "    <tr>\n",
       "      <th>4</th>\n",
       "      <td>pub.1101317185</td>\n",
       "      <td>4</td>\n",
       "    </tr>\n",
       "    <tr>\n",
       "      <th>...</th>\n",
       "      <td>...</td>\n",
       "      <td>...</td>\n",
       "    </tr>\n",
       "    <tr>\n",
       "      <th>145</th>\n",
       "      <td>pub.1154711620</td>\n",
       "      <td>2</td>\n",
       "    </tr>\n",
       "    <tr>\n",
       "      <th>146</th>\n",
       "      <td>pub.1154887220</td>\n",
       "      <td>4</td>\n",
       "    </tr>\n",
       "    <tr>\n",
       "      <th>147</th>\n",
       "      <td>pub.1154941178</td>\n",
       "      <td>2</td>\n",
       "    </tr>\n",
       "    <tr>\n",
       "      <th>148</th>\n",
       "      <td>pub.1155896423</td>\n",
       "      <td>4</td>\n",
       "    </tr>\n",
       "    <tr>\n",
       "      <th>149</th>\n",
       "      <td>pub.1156298670</td>\n",
       "      <td>1</td>\n",
       "    </tr>\n",
       "  </tbody>\n",
       "</table>\n",
       "<p>150 rows × 2 columns</p>\n",
       "</div>"
      ],
      "text/plain": [
       "             pub_id  LMIC\n",
       "0    pub.1019691504    27\n",
       "1    pub.1074224378     4\n",
       "2    pub.1092251980     1\n",
       "3    pub.1095222159     2\n",
       "4    pub.1101317185     4\n",
       "..              ...   ...\n",
       "145  pub.1154711620     2\n",
       "146  pub.1154887220     4\n",
       "147  pub.1154941178     2\n",
       "148  pub.1155896423     4\n",
       "149  pub.1156298670     1\n",
       "\n",
       "[150 rows x 2 columns]"
      ]
     },
     "execution_count": 292,
     "metadata": {},
     "output_type": "execute_result"
    }
   ],
   "source": [
    "MIMIC_lmic_count"
   ]
  },
  {
   "cell_type": "code",
   "execution_count": 293,
   "metadata": {},
   "outputs": [
    {
     "name": "stdout",
     "output_type": "stream",
     "text": [
      "total treatment  2307 total control 2912\n",
      "Scenario 0: p-value = 0.1359\n",
      "Scenario 1: p-value = 0.1255\n",
      "Scenario 2: p-value = 0.1261\n",
      "Scenario 3: p-value = 0.1147\n",
      "Scenario 4: p-value = 0.1061\n",
      "Scenario 5: p-value = 0.0966\n",
      "Scenario 6: p-value = 0.0970\n",
      "Scenario 7: p-value = 0.0883\n",
      "Scenario 8: p-value = 0.0818\n",
      "Scenario 9: p-value = 0.0745\n",
      "Scenario 10: p-value = 0.0747\n"
     ]
    }
   ],
   "source": [
    "total_treatment_papers = MIMIC_pubs.id.nunique()\n",
    "total_control_papers = Control_pubs.id.nunique()\n",
    "known_treatment_papers = MIMIC_affli.pub_id.nunique()\n",
    "known_control_papers = Control_affli.pub_id.nunique()\n",
    "n_MIMIC_lmic = len(MIMIC_lmic_count)\n",
    "n_Control_lmic = len(Control_lmic_count)\n",
    "treatment_counts = (n_MIMIC_lmic, known_treatment_papers - n_MIMIC_lmic)\n",
    "control_counts = (n_Control_lmic, known_treatment_papers - n_Control_lmic)\n",
    "\n",
    "p_values = sensitivity_analysis(total_treatment_papers, known_treatment_papers,\n",
    "                                treatment_counts, control_counts)\n",
    "\n",
    "for i, p_value in enumerate(p_values):\n",
    "    print(f\"Scenario {i}: p-value = {p_value:.4f}\")\n"
   ]
  },
  {
   "cell_type": "code",
   "execution_count": 309,
   "metadata": {},
   "outputs": [],
   "source": [
    "num_MIMIC_lmic_first_authors = MIMIC_affli[(MIMIC_affli.LMIC==1)&(MIMIC_affli.Author_Order=='First')].pub_id.nunique()\n",
    "num_MIMIC_lmic_last_authors = MIMIC_affli[(MIMIC_affli.LMIC==1)&(MIMIC_affli.Author_Order=='Last')].pub_id.nunique()\n",
    "num_Control_lmic_first_authors = Control_affli[(Control_affli.LMIC==1)&(Control_affli.Author_Order=='First')].pub_id.nunique()\n",
    "num_Control_lmic_last_authors = Control_affli[(Control_affli.LMIC==1)&(Control_affli.Author_Order=='Last')].pub_id.nunique()"
   ]
  },
  {
   "cell_type": "code",
   "execution_count": 313,
   "metadata": {},
   "outputs": [],
   "source": [
    "#  Set data\n",
    "# Replace these values with your data\n",
    "total_treatment_papers = len(MIMIC_pubs.id.unique())\n",
    "total_control_papers = len(Control_pubs.id.unique())\n",
    "known_treatment_papers = MIMIC_affli.pub_id.nunique()\n",
    "known_control_papers = Control_affli.pub_id.nunique()\n",
    "first_control_counts = (num_Control_lmic_first_authors, known_control_papers - num_Control_lmic_first_authors)\n",
    "first_treatment_counts = (num_MIMIC_lmic_first_authors, known_treatment_papers - num_MIMIC_lmic_first_authors)\n",
    "last_treatment_counts = (num_MIMIC_lmic_last_authors, known_treatment_papers - num_MIMIC_lmic_last_authors)\n",
    "last_control_counts = (num_Control_lmic_last_authors , known_control_papers - num_Control_lmic_last_authors)\n",
    "n_MIMIC_lmic = len(MIMIC_lmic_count)\n",
    "n_Control_lmic = len(Control_lmic_count)\n",
    "treatment_counts = (n_MIMIC_lmic, known_treatment_papers - n_MIMIC_lmic)\n",
    "control_counts = (n_Control_lmic, known_treatment_papers - n_Control_lmic)\n"
   ]
  },
  {
   "cell_type": "code",
   "execution_count": 314,
   "metadata": {},
   "outputs": [
    {
     "name": "stdout",
     "output_type": "stream",
     "text": [
      "total treatment  2307 total control 2912\n",
      "adjusted treatment  count :  970\n",
      "adjusted treatment proportion %:  42.04594711746857\n",
      "adjusted control count % : 386\n",
      "adjusted control proportion:  16.731686172518422\n",
      "total treatment  2307 total control 2912\n",
      "adjusted treatment  count :  921\n",
      "adjusted treatment proportion %:  39.92197659297789\n",
      "adjusted control count % : 343\n",
      "adjusted control proportion:  14.867793671434764\n",
      "total treatment  2307 total control 2912\n",
      "adjusted treatment  count :  936\n",
      "adjusted treatment proportion %:  40.572171651495445\n",
      "adjusted control count % : 344\n",
      "adjusted control proportion:  14.91114000866927\n",
      "overall All missing authors from LMIC sensitivity analysis: overall_z23.554, p-value = 0.0000000000\n",
      "first author All missing authors from LMIC sensitivity analysis: first_z:23.569, p-value = 0.0000000000\n",
      "last author All missing authors from LMIC sensitivity analysis:last_z:23.982, p-value = 0.0000000000\n"
     ]
    }
   ],
   "source": [
    "# from statsmodels.stats.proportion import proportions_ztest\n",
    "\n",
    "def sensitivity_analysis_all_missing_lmic(total_treatment_papers, known_treatment_papers, treatment_counts, control_counts):\n",
    "    # Calculate the number of papers with missing author information for each group\n",
    "    missing_treatment_papers = total_treatment_papers - known_treatment_papers\n",
    "    missing_control_papers = total_control_papers - known_control_papers\n",
    "    print(\"total treatment \",total_treatment_papers, \"total control\", total_control_papers )\n",
    "    # Assume all the missing authors are from LMIC and add them to the known LMIC author counts\n",
    "    adjusted_treatment_counts = treatment_counts[0] + missing_treatment_papers\n",
    "    adjusted_control_counts = control_counts[0] + missing_control_papers\n",
    "    print(\"adjusted treatment  count : \",adjusted_treatment_counts)\n",
    "    print(\"adjusted treatment proportion %: \", adjusted_treatment_counts/total_treatment_papers*100)\n",
    "    print(\"adjusted control count % :\", adjusted_control_counts)\n",
    "    print(\"adjusted control proportion: \", adjusted_control_counts/total_treatment_papers*100)\n",
    "    # Perform the one-sided Z-test with the alternative hypothesis stating that the proportion in the treatment group is greater than the control group\n",
    "    z_stat, p_value = proportions_ztest([adjusted_treatment_counts, adjusted_control_counts],\n",
    "                                        [total_treatment_papers, total_control_papers],\n",
    "                                        alternative='larger')\n",
    "\n",
    "    return p_value, z_stat\n",
    "\n",
    "overall_p_value,overall_z_stat = sensitivity_analysis_all_missing_lmic(total_treatment_papers, known_treatment_papers,\n",
    "                                                treatment_counts, control_counts)\n",
    "\n",
    "first_p_value , first_z_stat= sensitivity_analysis_all_missing_lmic(total_treatment_papers, known_treatment_papers,\n",
    "                                                first_treatment_counts, first_control_counts)\n",
    "last_p_value, last_z_stat = sensitivity_analysis_all_missing_lmic(total_treatment_papers, known_treatment_papers,\n",
    "                                                last_treatment_counts, last_control_counts)\n",
    "\n",
    "print(f\"overall All missing authors from LMIC sensitivity analysis: overall_z{overall_z_stat:.3f}, p-value = {overall_p_value:.10f}\")\n",
    "print(f\"first author All missing authors from LMIC sensitivity analysis: first_z:{first_z_stat:.3f}, p-value = {first_p_value:.10f}\")\n",
    "print(f\"last author All missing authors from LMIC sensitivity analysis:last_z:{last_z_stat:.3f}, p-value = {last_p_value:.10f}\")\n"
   ]
  },
  {
   "cell_type": "code",
   "execution_count": 315,
   "metadata": {},
   "outputs": [
    {
     "name": "stdout",
     "output_type": "stream",
     "text": [
      "total treatment  2307 total control 2912\n",
      "adjusted treatment  count :  970\n",
      "adjusted treatment proportion %:  42.04594711746857\n",
      "adjusted control count % : 386\n",
      "adjusted control proportion:  16.731686172518422\n",
      "total treatment  2307 total control 2912\n",
      "adjusted treatment  count :  921\n",
      "adjusted treatment proportion %:  39.92197659297789\n",
      "adjusted control count % : 343\n",
      "adjusted control proportion:  14.867793671434764\n",
      "total treatment  2307 total control 2912\n",
      "adjusted treatment  count :  936\n",
      "adjusted treatment proportion %:  40.572171651495445\n",
      "adjusted control count % : 344\n",
      "adjusted control proportion:  14.91114000866927\n",
      "overall All missing authors from LMIC sensitivity analysis: t_stat23.554,p-value = 0.000\n",
      "first author All missing authors from LMIC sensitivity analysis: p-value = 0.000\n",
      "last author All missing authors from LMIC sensitivity analysis: p-value = 0.000\n",
      "overall_4: 23.554257828886602\n",
      "first_4: 23.568869606303842\n",
      "last_4: 23.98218272470322\n"
     ]
    }
   ],
   "source": [
    "import numpy as np\n",
    "from scipy.stats import ttest_ind\n",
    "\n",
    "def sensitivity_analysis_all_missing_lmic_ttest(total_treatment_papers, known_treatment_papers, treatment_counts, control_counts):\n",
    "    # Calculate the number of papers with missing author information for each group\n",
    "    missing_treatment_papers = total_treatment_papers - known_treatment_papers\n",
    "    missing_control_papers = total_control_papers - known_control_papers\n",
    "    print(\"total treatment \",total_treatment_papers, \"total control\", total_control_papers )\n",
    " \n",
    "\n",
    "    # Assume all the missing authors are from LMIC and add them to the known LMIC author counts\n",
    "    adjusted_treatment_counts = treatment_counts[0] + missing_treatment_papers\n",
    "    adjusted_control_counts = control_counts[0] + missing_control_papers\n",
    "\n",
    "    # Create arrays representing 'successes' and 'failures'\n",
    "    treatment_data = np.array([1] * adjusted_treatment_counts + [0] * (total_treatment_papers - adjusted_treatment_counts))\n",
    "    control_data = np.array([1] * adjusted_control_counts + [0] * (total_control_papers - adjusted_control_counts))\n",
    "\n",
    "    # Perform the t-test\n",
    "    t_stat, p_value = ttest_ind(treatment_data, control_data)\n",
    "\n",
    "    return p_value, t_stat\n",
    "\n",
    "\n",
    "overall_p_value,overall_t_stat = sensitivity_analysis_all_missing_lmic(total_treatment_papers, known_treatment_papers,\n",
    "                                                treatment_counts, control_counts)\n",
    "\n",
    "first_p_value , first_t_stat= sensitivity_analysis_all_missing_lmic(total_treatment_papers, known_treatment_papers,\n",
    "                                                first_treatment_counts, first_control_counts)\n",
    "last_p_value, last_t_stat = sensitivity_analysis_all_missing_lmic(total_treatment_papers, known_treatment_papers,\n",
    "                                                last_treatment_counts, last_control_counts)\n",
    "\n",
    "print(f\"overall All missing authors from LMIC sensitivity analysis: t_stat{overall_t_stat:.3f},p-value = {overall_p_value:.3f}\")\n",
    "print(f\"first author All missing authors from LMIC sensitivity analysis: p-value = {first_p_value:.3f}\")\n",
    "print(f\"last author All missing authors from LMIC sensitivity analysis: p-value = {last_p_value:.3f}\")\n",
    "print(\"overall_4:\", overall_t_stat)\n",
    "print(\"first_4:\", first_t_stat)\n",
    "print(\"last_4:\", last_t_stat)                                                             \n"
   ]
  },
  {
   "cell_type": "code",
   "execution_count": 316,
   "metadata": {},
   "outputs": [
    {
     "name": "stdout",
     "output_type": "stream",
     "text": [
      "adjusted treatment  count :  232\n",
      "adjusted treatment proportion %:  10.056350238404853\n",
      "adjusted control count % : 192\n",
      "adjusted control proportion:  8.322496749024708\n",
      "adjusted treatment  count :  156\n",
      "adjusted treatment proportion %:  6.762028608582575\n",
      "adjusted control count % : 135\n",
      "adjusted control proportion:  5.851755526657997\n",
      "adjusted treatment  count :  179\n",
      "adjusted treatment proportion %:  7.75899436497616\n",
      "adjusted control count % : 136\n",
      "adjusted control proportion:  5.895101863892501\n",
      "impute missing from distribution of auhtors from LMIC sensitivity analysis: z_stat4.548,p-value = 0.00000\n",
      "first author impute missing from distribution of auhtors from LMIC sensitivity analysis: z_stat:3.324, p-value = 0.00044\n",
      "last author impute missing from distribution of auhtors from LMIC sensitivity analysis: z_stat:4.653, p-value = 0.00000\n"
     ]
    }
   ],
   "source": [
    "def sensitivity_analysis_impute(total_treatment_papers, known_treatment_papers, treatment_counts, control_counts):\n",
    "    # Calculate the proportion of LMIC authors in the known data for each group\n",
    "    treatment_proportion = treatment_counts[0] / sum(treatment_counts)\n",
    "    control_proportion = control_counts[0] / sum(control_counts)\n",
    "\n",
    "    # Calculate the number of papers with missing author information for each group\n",
    "    missing_treatment_papers = total_treatment_papers - known_treatment_papers\n",
    "    missing_control_papers = total_control_papers - known_control_papers\n",
    "\n",
    "    # Impute the missing data by distributing the LMIC and non-LMIC authors based on the known proportions for both groups\n",
    "    imputed_treatment_counts = int(missing_treatment_papers * treatment_proportion)\n",
    "    imputed_control_counts = int(missing_control_papers * control_proportion)\n",
    "\n",
    "    # Calculate the adjusted counts of LMIC authors for each group\n",
    "    adjusted_treatment_counts = treatment_counts[0] + imputed_treatment_counts\n",
    "    adjusted_control_counts = control_counts[0] + imputed_control_counts\n",
    "    print(\"adjusted treatment  count : \",adjusted_treatment_counts)\n",
    "    print(\"adjusted treatment proportion %: \", adjusted_treatment_counts/total_treatment_papers*100)\n",
    "    print(\"adjusted control count % :\", adjusted_control_counts)\n",
    "    print(\"adjusted control proportion: \", adjusted_control_counts/total_treatment_papers*100)\n",
    "    # Perform the one-sided Z-test with the alternative hypothesis stating that the proportion in the treatment group is greater than the control group\n",
    "    z_stat, p_value = proportions_ztest([adjusted_treatment_counts, adjusted_control_counts],\n",
    "                                        [total_treatment_papers, total_control_papers],\n",
    "                                        alternative='larger')\n",
    "\n",
    "    return z_stat, p_value\n",
    "\n",
    "overall_z_stat,overall_p_value = sensitivity_analysis_impute(total_treatment_papers, known_treatment_papers,\n",
    "                                                treatment_counts, control_counts)\n",
    "first_z_stat, first_p_value = sensitivity_analysis_impute(total_treatment_papers, known_treatment_papers,\n",
    "                                                first_treatment_counts, first_control_counts)\n",
    "last_z_stat, last_p_value = sensitivity_analysis_impute(total_treatment_papers, known_treatment_papers,\n",
    "                                                last_treatment_counts, last_control_counts)\n",
    "\n",
    "print(f\"impute missing from distribution of auhtors from LMIC sensitivity analysis: z_stat{overall_z_stat:.3f},p-value = {overall_p_value:.5f}\")\n",
    "print(f\"first author impute missing from distribution of auhtors from LMIC sensitivity analysis: z_stat:{first_z_stat:.3f}, p-value = {first_p_value:.5f}\")\n",
    "print(f\"last author impute missing from distribution of auhtors from LMIC sensitivity analysis: z_stat:{last_z_stat:.3f}, p-value = {last_p_value:.5f}\")\n",
    "\n"
   ]
  },
  {
   "cell_type": "code",
   "execution_count": 317,
   "metadata": {},
   "outputs": [
    {
     "name": "stdout",
     "output_type": "stream",
     "text": [
      "adjusted treatment  count :  232\n",
      "adjusted treatment proportion %:  10.056350238404853\n",
      "adjusted control count % : 192\n",
      "adjusted control proportion:  8.322496749024708\n",
      "adjusted treatment  count :  156\n",
      "adjusted treatment proportion %:  6.762028608582575\n",
      "adjusted control count % : 135\n",
      "adjusted control proportion:  5.851755526657997\n",
      "adjusted treatment  count :  179\n",
      "adjusted treatment proportion %:  7.75899436497616\n",
      "adjusted control count % : 136\n",
      "adjusted control proportion:  5.895101863892501\n",
      "impute missing from distribution of auhtors from LMIC sensitivity analysis: t_stat4.55575,p-value = 0.00001\n",
      "first author impute missing from distribution of auhtors from LMIC sensitivity analysis: t_stat3.32721,p-value = 0.00088\n",
      "last author impute missing from distribution of auhtors from LMIC sensitivity analysis: t_stat4.66201, p-value = 0.00000\n"
     ]
    }
   ],
   "source": [
    "import numpy as np\n",
    "from scipy.stats import ttest_ind\n",
    "\n",
    "def sensitivity_analysis_impute_ttest(total_treatment_papers, known_treatment_papers, treatment_counts, control_counts):\n",
    "    # Calculate the proportion of LMIC authors in the known data for each group\n",
    "    treatment_proportion = treatment_counts[0] / sum(treatment_counts)\n",
    "    control_proportion = control_counts[0] / sum(control_counts)\n",
    "\n",
    "    # Calculate the number of papers with missing author information for each group\n",
    "    missing_treatment_papers = total_treatment_papers - known_treatment_papers\n",
    "    missing_control_papers = total_control_papers - known_control_papers\n",
    "\n",
    "    # Impute the missing data by distributing the LMIC and non-LMIC authors based on the known proportions for both groups\n",
    "    imputed_treatment_counts = int(missing_treatment_papers * treatment_proportion)\n",
    "    imputed_control_counts = int(missing_control_papers * control_proportion)\n",
    "\n",
    "    # Calculate the adjusted counts of LMIC authors for each group\n",
    "    adjusted_treatment_counts = treatment_counts[0] + imputed_treatment_counts\n",
    "    adjusted_control_counts = control_counts[0] + imputed_control_counts\n",
    "\n",
    "    # Create arrays representing the imputed 'successes' and 'failures'\n",
    "    treatment_data = np.array([1] * adjusted_treatment_counts + [0] * (total_treatment_papers - adjusted_treatment_counts))\n",
    "    control_data = np.array([1] * adjusted_control_counts + [0] * (total_control_papers - adjusted_control_counts))\n",
    "    print(\"adjusted treatment  count : \",adjusted_treatment_counts)\n",
    "    print(\"adjusted treatment proportion %: \", adjusted_treatment_counts/total_treatment_papers*100)\n",
    "    print(\"adjusted control count % :\", adjusted_control_counts)\n",
    "    print(\"adjusted control proportion: \", adjusted_control_counts/total_treatment_papers*100)\n",
    "    # Perform the t-test\n",
    "    t_stat, p_value = ttest_ind(treatment_data, control_data)\n",
    "\n",
    "    return  p_value,t_stat,\n",
    "\n",
    "overall_p_value,overall_t_stat = sensitivity_analysis_impute_ttest(total_treatment_papers, known_treatment_papers,\n",
    "                                                treatment_counts, control_counts)\n",
    "first_p_value , first_t_stat = sensitivity_analysis_impute_ttest(total_treatment_papers, known_treatment_papers,\n",
    "                                                first_treatment_counts, first_control_counts)\n",
    "last_p_value , last_t_stat= sensitivity_analysis_impute_ttest(total_treatment_papers, known_treatment_papers,\n",
    "                                                last_treatment_counts, last_control_counts)\n",
    "\n",
    "print(f\"impute missing from distribution of auhtors from LMIC sensitivity analysis: t_stat{overall_t_stat:.5f},p-value = {overall_p_value:.5f}\")\n",
    "print(f\"first author impute missing from distribution of auhtors from LMIC sensitivity analysis: t_stat{first_t_stat:.5f},p-value = {first_p_value:.5f}\")\n",
    "print(f\"last author impute missing from distribution of auhtors from LMIC sensitivity analysis: t_stat{last_t_stat:.5f}, p-value = {last_p_value:.5f}\")\n",
    "\n",
    "\n"
   ]
  },
  {
   "cell_type": "code",
   "execution_count": null,
   "metadata": {},
   "outputs": [
    {
     "name": "stdout",
     "output_type": "stream",
     "text": [
      "adjusted treatment  count :  232\n",
      "adjusted treatment proportion %:  10.056350238404853\n",
      "adjusted control count % : 192\n",
      "adjusted control proportion:  8.322496749024708\n"
     ]
    }
   ],
   "source": [
    "# Example usage, expecting only p-value\n",
    "overall_p_value = sensitivity_analysis_impute(total_treatment_papers, known_treatment_papers,\n",
    "                                              treatment_counts, control_counts)\n",
    "# ... additional code for first_p_value, last_p_value ...\n"
   ]
  },
  {
   "cell_type": "code",
   "execution_count": 318,
   "metadata": {},
   "outputs": [
    {
     "name": "stdout",
     "output_type": "stream",
     "text": [
      "adjusted treatment  count :  150\n",
      "adjusted treatment proportion %:  6.501950585175553\n",
      "adjusted control count % : 168\n",
      "adjusted control proportion:  7.282184655396619\n",
      "adjusted treatment  count :  101\n",
      "adjusted treatment proportion %:  4.377980060684872\n",
      "adjusted control count % : 125\n",
      "adjusted control proportion:  5.418292154312961\n",
      "adjusted treatment  count :  116\n",
      "adjusted treatment proportion %:  5.028175119202427\n",
      "adjusted control count % : 126\n",
      "adjusted control proportion:  5.461638491547465\n",
      "overall All missing authors not from LMIC sensitivity analysis: z_stat:1.099, p-value = 0.13589\n",
      "first author All missing authors not from LMIC sensitivity analysis: z_stat:0.151, p-value = 0.44017\n",
      "last author All missing authors not from LMIC sensitivity analysis: z_stat:1.196, p-value = 0.11576\n"
     ]
    }
   ],
   "source": [
    "\n",
    "def sensitivity_analysis_all_missing_not_lmic(total_treatment_papers, known_treatment_papers, treatment_counts, control_counts):\n",
    "    # Since all missing authors are assumed to be not from LMIC, use the known LMIC author counts as they are\n",
    "    adjusted_treatment_counts = treatment_counts[0]\n",
    "    adjusted_control_counts = control_counts[0]\n",
    "    print(\"adjusted treatment  count : \",adjusted_treatment_counts)\n",
    "    print(\"adjusted treatment proportion %: \", adjusted_treatment_counts/total_treatment_papers*100)\n",
    "    print(\"adjusted control count % :\", adjusted_control_counts)\n",
    "    print(\"adjusted control proportion: \", adjusted_control_counts/total_treatment_papers*100)\n",
    "    # Perform the one-sided Z-test with the alternative hypothesis stating that the proportion in the treatment group is greater than the control group\n",
    "    z_stat, p_value = proportions_ztest([adjusted_treatment_counts, adjusted_control_counts],\n",
    "                                        [total_treatment_papers, total_control_papers],\n",
    "                                        alternative='larger')\n",
    "\n",
    "    return z_stat,p_value\n",
    "\n",
    "overall_z_stat, overall_p_value = sensitivity_analysis_all_missing_not_lmic(total_treatment_papers, known_treatment_papers,\n",
    "                                                treatment_counts, control_counts)\n",
    "first_z_stat, first_p_value = sensitivity_analysis_all_missing_not_lmic(total_treatment_papers, known_treatment_papers,\n",
    "                                                first_treatment_counts, first_control_counts)\n",
    "last_z_stat, last_p_value = sensitivity_analysis_all_missing_not_lmic(total_treatment_papers, known_treatment_papers,\n",
    "                                                last_treatment_counts, last_control_counts)\n",
    "\n",
    "print(f\"overall All missing authors not from LMIC sensitivity analysis: z_stat:{overall_z_stat:.3f}, p-value = {overall_p_value:.5f}\")\n",
    "print(f\"first author All missing authors not from LMIC sensitivity analysis: z_stat:{first_z_stat:.3f}, p-value = {first_p_value:.5f}\")\n",
    "print(f\"last author All missing authors not from LMIC sensitivity analysis: z_stat:{last_z_stat:.3f}, p-value = {last_p_value:.5f}\")"
   ]
  },
  {
   "cell_type": "code",
   "execution_count": 320,
   "metadata": {},
   "outputs": [
    {
     "name": "stdout",
     "output_type": "stream",
     "text": [
      "adjusted treatment count:  150\n",
      "adjusted treatment proportion %:  6.501950585175553\n",
      "adjusted control count:  168\n",
      "adjusted control proportion:  7.282184655396619\n",
      "adjusted treatment count:  101\n",
      "adjusted treatment proportion %:  4.377980060684872\n",
      "adjusted control count:  125\n",
      "adjusted control proportion:  5.418292154312961\n",
      "adjusted treatment count:  116\n",
      "adjusted treatment proportion %:  5.028175119202427\n",
      "adjusted control count:  126\n",
      "adjusted control proportion:  5.461638491547465\n",
      "overall all missing authors not from lmic sensitivity analysis: T = 3.56,p-value = 0.00000\n",
      "first author all missing authors not from lmic sensitivity analysis: T = 3.56, p-value = 0.00000\n",
      "last author all missing authors not from lmic sensitivity analysis: T = 3.56, p-value = 0.00000\n"
     ]
    },
    {
     "name": "stderr",
     "output_type": "stream",
     "text": [
      "/Users/chenyuli/anaconda3/envs/py311/lib/python3.11/site-packages/scipy/stats/_axis_nan_policy.py:531: RuntimeWarning: Precision loss occurred in moment calculation due to catastrophic cancellation. This occurs when the data are nearly identical. Results may be unreliable.\n",
      "  res = hypotest_fun_out(*samples, **kwds)\n"
     ]
    }
   ],
   "source": [
    "from scipy.stats import ttest_ind\n",
    "import numpy as np\n",
    "\n",
    "def sensitivity_analysis_all_missing_not_lmic(total_treatment_papers, known_treatment_papers, treatment_counts, control_counts):\n",
    "    # since all missing authors are assumed to be not from lmic, use the known lmic author counts as they are\n",
    "    adjusted_treatment_counts = treatment_counts[0]\n",
    "    adjusted_control_counts = control_counts[0]\n",
    "    print(\"adjusted treatment count: \", adjusted_treatment_counts)\n",
    "    print(\"adjusted treatment proportion %: \", adjusted_treatment_counts / total_treatment_papers * 100)\n",
    "    print(\"adjusted control count: \", adjusted_control_counts)\n",
    "    print(\"adjusted control proportion: \", adjusted_control_counts / total_treatment_papers * 100)\n",
    "    \n",
    "    # create arrays representing the counts for each group\n",
    "    treatment_array = np.full(total_treatment_papers, adjusted_treatment_counts / total_treatment_papers)\n",
    "    control_array = np.full(total_treatment_papers, adjusted_control_counts / total_treatment_papers)\n",
    "\n",
    "    # perform the two-sided t-test\n",
    "    t_stat, p_value = ttest_ind(treatment_array, control_array, equal_var=False)  # assuming unequal variance\n",
    "\n",
    "    return t_stat,p_value\n",
    "\n",
    "# example usage\n",
    "overall_t,overall_p_value = sensitivity_analysis_all_missing_not_lmic(total_treatment_papers, known_treatment_papers, treatment_counts, control_counts)\n",
    "first_t,first_p_value = sensitivity_analysis_all_missing_not_lmic(total_treatment_papers, known_treatment_papers, first_treatment_counts, first_control_counts)\n",
    "last_t,last_p_value = sensitivity_analysis_all_missing_not_lmic(total_treatment_papers, known_treatment_papers, last_treatment_counts, last_control_counts)\n",
    "\n",
    "print(f\"overall all missing authors not from lmic sensitivity analysis: T = {t_stat:.2f},p-value = {overall_p_value:.5f}\")\n",
    "print(f\"first author all missing authors not from lmic sensitivity analysis: T = {t_stat:.2f}, p-value = {first_p_value:.5f}\")\n",
    "print(f\"last author all missing authors not from lmic sensitivity analysis: T = {t_stat:.2f}, p-value = {last_p_value:.5f}\")\n"
   ]
  },
  {
   "cell_type": "code",
   "execution_count": 321,
   "metadata": {},
   "outputs": [
    {
     "name": "stdout",
     "output_type": "stream",
     "text": [
      "adjusted treatment count:  150\n",
      "adjusted treatment proportion %:  6.501950585175553\n",
      "adjusted control count:  168\n",
      "adjusted control proportion:  7.282184655396619\n",
      "adjusted treatment count:  101\n",
      "adjusted treatment proportion %:  4.377980060684872\n",
      "adjusted control count:  125\n",
      "adjusted control proportion:  5.418292154312961\n",
      "adjusted treatment count:  116\n",
      "adjusted treatment proportion %:  5.028175119202427\n",
      "adjusted control count:  126\n",
      "adjusted control proportion:  5.461638491547465\n",
      "overall All missing authors not from LMIC sensitivity analysis:t-stat=-1.04598,p-value = 0.85219\n",
      "first author All missing authors not from LMIC sensitivity analysis: t-stat=-1.63717,p-value = 0.94917\n",
      "last author All missing authors not from LMIC sensitivity analysis: t-stat = -0.66026,p-value = 0.74544\n"
     ]
    }
   ],
   "source": [
    "import numpy as np\n",
    "from scipy.stats import ttest_ind\n",
    "\n",
    "def sensitivity_analysis_all_missing_not_lmic(total_treatment_papers, known_treatment_papers, treatment_counts, control_counts):\n",
    "    # Since all missing authors are assumed to be not from LMIC, use the known LMIC author counts as they are\n",
    "    adjusted_treatment_counts = treatment_counts[0]\n",
    "    adjusted_control_counts = control_counts[0]\n",
    "    print(\"adjusted treatment count: \", adjusted_treatment_counts)\n",
    "    print(\"adjusted treatment proportion %: \", adjusted_treatment_counts / total_treatment_papers * 100)\n",
    "    print(\"adjusted control count: \", adjusted_control_counts)\n",
    "    print(\"adjusted control proportion: \", adjusted_control_counts / total_treatment_papers * 100)\n",
    "\n",
    "    # Creating arrays that represent successes and failures for each group\n",
    "    treatment_group = np.array([1] * adjusted_treatment_counts + [0] * (total_treatment_papers - adjusted_treatment_counts))\n",
    "    control_group = np.array([1] * adjusted_control_counts + [0] * (total_treatment_papers - adjusted_control_counts))\n",
    "\n",
    "    # Perform the one-sided T-test with the alternative hypothesis stating that the mean in the treatment group is greater than the control group\n",
    "    t_stat, p_value = ttest_ind(treatment_group, control_group, equal_var=False, alternative='greater')\n",
    "\n",
    "    return t_stat,p_value\n",
    "\n",
    "# Example usage of the function (You'll need to define the variables used here)\n",
    "overall_t,overall_p_value = sensitivity_analysis_all_missing_not_lmic(total_treatment_papers, known_treatment_papers,\n",
    "                                                treatment_counts, control_counts)\n",
    "first_t,first_p_value = sensitivity_analysis_all_missing_not_lmic(total_treatment_papers, known_treatment_papers,\n",
    "                                                first_treatment_counts, first_control_counts)\n",
    "last_t,last_p_value = sensitivity_analysis_all_missing_not_lmic(total_treatment_papers, known_treatment_papers,\n",
    "                                                last_treatment_counts, last_control_counts)\n",
    "\n",
    "print(f\"overall All missing authors not from LMIC sensitivity analysis:t-stat={overall_t:.5f},p-value = {overall_p_value:.5f}\")\n",
    "print(f\"first author All missing authors not from LMIC sensitivity analysis: t-stat={first_t:.5f},p-value = {first_p_value:.5f}\")\n",
    "print(f\"last author All missing authors not from LMIC sensitivity analysis: t-stat = {last_t:.5f},p-value = {last_p_value:.5f}\")\n"
   ]
  },
  {
   "cell_type": "code",
   "execution_count": null,
   "metadata": {},
   "outputs": [
    {
     "data": {
      "text/plain": [
       "2307"
      ]
     },
     "execution_count": 284,
     "metadata": {},
     "output_type": "execute_result"
    }
   ],
   "source": []
  },
  {
   "cell_type": "markdown",
   "metadata": {},
   "source": [
    "### Intersection of Gender and LMIC "
   ]
  },
  {
   "cell_type": "code",
   "execution_count": null,
   "metadata": {},
   "outputs": [
    {
     "name": "stdout",
     "output_type": "stream",
     "text": [
      "Percentage of MIMIC/eICU papers with at least one woman and one LMIC-based researcher among the authors: 3.09%\n"
     ]
    }
   ],
   "source": [
    "\n",
    "# Merge the DataFrames\n",
    "merged_df = pd.merge(MIMIC_affli, MIMIC_pubs, left_on='pub_id', right_on='id', how='left')\n",
    "\n",
    "# Filter the dataset\n",
    "filtered_df = merged_df.dropna(subset=['pct_female_real', 'LMIC'])\n",
    "\n",
    "# Count papers with at least one woman (using pct_female_real >= 0.5) and one LMIC-based researcher among the authors\n",
    "grouped = filtered_df.groupby('pub_id').agg({'pct_female_real': lambda x: (x >= 0.5).any(), 'LMIC': lambda x: (x == 1).any()})\n",
    "papers_with_woman_and_lmic = grouped[(grouped['pct_female_real']) & (grouped['LMIC'])].shape[0]\n",
    "\n",
    "# Calculate the percentage\n",
    "total_papers = filtered_df['pub_id'].nunique()\n",
    "percentage = (papers_with_woman_and_lmic / total_papers) * 100\n",
    "\n",
    "print(f\"Percentage of MIMIC/eICU papers with at least one woman and one LMIC-based researcher among the authors: {percentage:.2f}%\")\n"
   ]
  },
  {
   "cell_type": "code",
   "execution_count": null,
   "metadata": {},
   "outputs": [
    {
     "name": "stdout",
     "output_type": "stream",
     "text": [
      "Percentage of MIMIC/eICU papers with at least one woman and one LMIC-based researcher among the authors: 6.67%\n"
     ]
    }
   ],
   "source": [
    "# Merge the DataFrames\n",
    "merged_df = pd.merge(MIMIC_affli, MIMIC_pubs, left_on='pub_id', right_on='id', how='left')\n",
    "\n",
    "# Filter the dataset\n",
    "filtered_df = merged_df.dropna(subset=['gender', 'LMIC'])\n",
    "\n",
    "# Count papers with at least one woman (using gender == 'F') and one LMIC-based researcher among the authors\n",
    "grouped = filtered_df.groupby('pub_id').agg({'gender': lambda x: (x == 'female').any(), 'LMIC': lambda x: (x == 1).any()})\n",
    "papers_with_woman_and_lmic = grouped[(grouped['gender']) & (grouped['LMIC'])].shape[0]\n",
    "\n",
    "# Calculate the percentage\n",
    "total_papers = filtered_df['pub_id'].nunique()\n",
    "percentage = (papers_with_woman_and_lmic / total_papers) * 100\n",
    "\n",
    "print(f\"Percentage of MIMIC/eICU papers with at least one woman and one LMIC-based researcher among the authors: {percentage:.2f}%\")\n"
   ]
  },
  {
   "cell_type": "markdown",
   "metadata": {},
   "source": [
    "# 3. MSI analyses"
   ]
  },
  {
   "cell_type": "markdown",
   "metadata": {},
   "source": [
    "## Minority Serving Institutions Present in Affiliation Data\n",
    "\n",
    "* The fuzzy matching pipeline below was developed to discern the associations between authors and specific Minority Serving Institutions (MSIs)."
   ]
  },
  {
   "cell_type": "code",
   "execution_count": null,
   "metadata": {},
   "outputs": [],
   "source": [
    "# author affiliation data for the compare and control datasets\n",
    "# controlData = pd.read_csv(\"GuruData/control_group_affils(7).csv\", encoding='utf-8')\n",
    "# compareData = pd.read_csv(\"GuruData/mimic_affils(7).csv\", encoding='utf-8') # checked the shape \n",
    "controlData = Control_affli.copy()\n",
    "compareData = MIMIC_affli.copy()\n",
    "# below are the datasets containing Minority Serving Institutions for the year 2020 and 2022\n",
    "minorityList2020 = pd.read_csv(\"GuruData/2020_Minority_Serving_Institutions-1.csv\")\n",
    "minorityList2022 = pd.read_csv(\"GuruData/2022 CMSI Eligibility Matrix .csv\")"
   ]
  },
  {
   "cell_type": "code",
   "execution_count": null,
   "metadata": {},
   "outputs": [
    {
     "data": {
      "text/plain": [
       "0              Aaniiih Nakoda College\n",
       "1              Adams State University\n",
       "2                  Adelphi University\n",
       "3             AdventHealth University\n",
       "4            Alabama A & M University\n",
       "                    ...              \n",
       "858        Woodland Community College\n",
       "859          World Mission University\n",
       "860          World Mission University\n",
       "861    Xavier University of Louisiana\n",
       "862             Yakima Valley College\n",
       "Name: Institution Name, Length: 863, dtype: object"
      ]
     },
     "execution_count": 111,
     "metadata": {},
     "output_type": "execute_result"
    }
   ],
   "source": [
    "# dropping all the NA values\n",
    "minorityList2022['Institution Name'].dropna()"
   ]
  },
  {
   "cell_type": "code",
   "execution_count": null,
   "metadata": {},
   "outputs": [],
   "source": [
    "def isfloat(num):\n",
    "    try:\n",
    "        float(num)\n",
    "        return True\n",
    "    except ValueError:\n",
    "        return False"
   ]
  },
  {
   "cell_type": "code",
   "execution_count": null,
   "metadata": {},
   "outputs": [],
   "source": [
    "msi = []\n",
    "\n",
    "# compiling MSI type information for the 2022 list\n",
    "for i in range(865):\n",
    "        if(isfloat(minorityList2022.loc[i]['ANNH']) == False and minorityList2022.loc[i]['ANNH'] == 'Yes'):\n",
    "            msi.append('ANNH')\n",
    "        elif(isfloat(minorityList2022.loc[i]['AANAPISI']) == False and minorityList2022.loc[i]['AANAPISI'] == 'Yes'):\n",
    "            msi.append('AANAPISI')\n",
    "        elif(isfloat(minorityList2022.loc[i]['HSI']) == False and minorityList2022.loc[i]['HSI'] == 'Yes'):\n",
    "            msi.append('HSI')\n",
    "        elif(isfloat(minorityList2022.loc[i]['NASNTI']) == False and minorityList2022.loc[i]['NASNTI'] == 'Yes'):\n",
    "            msi.append('NASNTI')\n",
    "        elif(isfloat(minorityList2022.loc[i]['PBI']) == False and minorityList2022.loc[i]['PBI'] == 'Yes'):\n",
    "            msi.append('PBI')\n",
    "        elif(isfloat(minorityList2022.loc[i]['HBCU']) == False and minorityList2022.loc[i]['HBCU'] == 'Yes'):\n",
    "            msi.append('HBCU')\n",
    "        elif(isfloat(minorityList2022.loc[i]['TCU']) == False and minorityList2022.loc[i]['TCU'] == 'Yes'):\n",
    "            msi.append('TCU')\n",
    "        else:\n",
    "            msi.append('No MSI Type')\n",
    "    "
   ]
  },
  {
   "cell_type": "code",
   "execution_count": null,
   "metadata": {},
   "outputs": [
    {
     "name": "stdout",
     "output_type": "stream",
     "text": [
      "{'Redlands Community College', 'CUNY LaGuardia Community College', 'J. F. Drake State Community and Technical College', 'Faulkner University', 'Albany Technical College', 'Woodbury University', 'San Diego City College', 'Beulah Heights University', 'College of Menominee Nation', 'North Carolina Wesleyan College', 'Monterey Peninsula College', 'Wilberforce University', 'Georgia Gwinnett College', 'Bloomfield College', 'American Samoa Community College', 'Voorhees College', 'University of Alaska Fairbanks', 'Florida International University', 'College of the Sequoias', \"Saint Peter's University\", 'Ventura College', 'Tougaloo College', 'Humboldt State University', 'Western New Mexico University', 'Community College of Philadelphia', 'Kean University', 'Grambling State University', 'Saint Augustine College', 'Presbyterian Theological Seminary in America', 'Edward Waters College', 'Brazosport College', 'Norfolk State University', 'Arkansas State University Mid-South', 'Texas State Technical College', 'Concordia University Texas', 'Universidad Politecnica de Puerto Rico', 'Seattle Central College', 'Homestead Schools', 'Dominican College of Blauvelt', 'Trinity Washington University', 'Wenatchee Valley College', 'Adams State University', 'Miles College', 'Palomar College', 'SUNY College at Old Westbury', 'Southwestern Christian College', 'CUNY York College', 'Xavier University of Louisiana', 'Fort Valley State University', 'Lake Tahoe Community College', 'Taft College', 'Rust College', 'South Florida State College', 'Central Georgia Technical College', 'CUNY Brooklyn College', 'University of the Pacific', 'Savannah Technical College', 'Merritt College', 'Bennett College', 'El Paso Community College', 'Clovis Community College', 'Marymount California University', 'Saddleback College', 'Seminole State College of Florida', 'East Mississippi Community College', 'Los Angeles Pierce College', 'University of La Verne', 'Central New Mexico Community College', 'Portland State University', 'Turtle Mountain Community College', 'University of the Southwest', 'Haskell Indian Nations University', 'Yakima Valley College', 'Alaska Christian College', 'Resurrection University', 'Nova Southeastern University', 'Oakwood University', 'Jackson State University', 'McMurry University', 'Livingstone College', 'Hillsborough Community College', 'College of Mount Saint Vincent', 'Georgia State University', 'Waubonsee Community College', 'Spelman College', 'CUNY Hunter College', 'Delgado Community College', 'Alverno College', 'Morris College', 'New York Institute of Technology', 'GateWay Community College', 'Cambridge College', 'Lone Star College System', 'Nueta Hidatsa Sahnish College', 'Navajo Technical University', 'Stevens-Henager College', 'Johnson C Smith University', 'Andrews University', 'Virginia State University', 'Houston Community College', 'Texas Southern University', 'East Los Angeles College', 'Laney College', 'Saginaw Chippewa Tribal College', 'Community College of Aurora', 'Morehouse College', 'Mission College', 'Nyack College', 'Oklahoma Panhandle State University', 'Colegio Universitario de San Juan', 'Garden City Community College', 'Clark Atlanta University', 'Butte College', 'Vanguard University of Southern California', 'Shelton State Community College', 'Pasadena City College', 'New York College of Health Professions', 'Texas Wesleyan University', 'Porterville College', 'San Antonio College', 'Morgan State University', 'Peirce College', 'Holmes Community College', 'CUNY Queens College', 'Cabrillo College', 'La Sierra University', 'Chaminade University of Honolulu', 'Santa Ana College', 'Holy Names University', 'Folsom Lake College', 'Notre Dame de Namur University', 'Windward Community College', 'Aurora University', 'Seminole State College', 'Broward College', 'Pueblo Community College', 'Lincoln College', 'Halifax Community College', 'Frank Phillips College', 'Leech Lake Tribal College', 'South Georgia Technical College', 'Georgia Military College', 'Fresno City College', 'Shaw University', 'East Georgia State College', 'Paine College', 'National University', 'San Bernardino Valley College', 'Valencia College', 'CUNY John Jay College of Criminal Justice', 'Pacific Union College', 'Wharton County Junior College', 'Southwestern Adventist University', \"Mount Saint Mary's University\", 'Northwest Indian College', 'Southeast Arkansas College', 'Fort Lewis College', \"Saint Mary's College of California\", 'Bowie State University', 'Sacramento City College', 'Oglala Lakota College', 'Lee College', 'Gateway Community College', 'Roosevelt University', 'Vernon College', 'Mendocino College', 'Savannah State University', 'Shorter College', 'Sitting Bull College', 'Southeastern Oklahoma State University', 'College of Lake County', 'West Virginia State University', 'Robeson Community College', 'Florida Memorial University', 'Bunker Hill Community College', 'South Texas College', 'Morgan Community College', 'Felician University', 'Montclair State University', 'Morton College', 'Coastal Bend College', 'Atlanta Metropolitan State College', 'Central Carolina Technical College', 'Columbia Basin College', 'Lane College', 'Fresno Pacific University', 'Sampson Community College', 'Santiago Canyon College', 'San Francisco State University', 'American River College', 'Southwest Texas Junior College', 'Los Angeles City College', 'Sul Ross State University', 'Universidad Central de Bayamon', 'Adelphi University', 'Calumet College of Saint Joseph', 'Western Texas College', 'Norco College', 'Angelina College', 'McLennan Community College', 'San Joaquin Delta College', 'Langston University', 'Coastline Community College', 'Kauai Community College', 'Reading Area Community College', 'Cosumnes River College', 'Ilisagvik College', 'Dodge City Community College', 'Montgomery College', 'Benedict College', 'College of the Canyons', 'Gavilan College', 'Union County College', 'College of the Mainland', 'Little Big Horn College', 'Solano Community College', 'Metropolitan State University of Denver', 'Central State University', 'Arizona Western College', 'University of Guam', 'Chief Dull Knife College', 'Reedley College', 'Gadsden State Community College', 'Tarrant County College District', 'Santa Monica College', 'Fisk University', 'Sinte Gleska University', 'Pacific Rim Christian University', 'Elizabeth City State University', 'Georgia Piedmont Technical College', 'Treasure Valley Community College', 'Benjamin Franklin Institute of Technology', 'Odessa College', 'Dine College', 'Cypress College', 'Wiley College', 'Fort Peck Community College', 'Dillard University', 'Northeastern State University', 'Stillman College', 'Moreno Valley College', 'Northwest Vista College', 'College of Southern Nevada', 'Texas Southmost College', 'Lake Washington Institute of Technology', 'Western Nevada College', 'Chemeketa Community College', 'Pacific Islands University', 'Long Beach City College', 'University of Central Florida', \"Texas Woman's University\", 'Los Angeles Mission College', 'Augusta Technical College', 'Virginia Union University', 'Hudson County Community College', 'Las Positas College', 'Metropolitan State University', 'Sisseton Wahpeton College', 'Philander Smith College', 'Northern Essex Community College', 'Bay Mills Community College', 'Bluefield State College', 'Cuyamaca College', 'Belhaven University', \"Tohono O'odham Community College\", 'Mercy College', 'California Lutheran University', 'Alvin Community College', 'Grossmont College', 'Albany State University', 'Kapiolani Community College', 'Green River College', 'Modesto Junior College', \"St. Mary's University\", 'Florida Atlantic University', 'Whittier College', 'University of Hawaii at Hilo', 'Springfield Technical Community College', 'Norwalk Community College', 'San Jose City College', 'Salish Kootenai College', 'Essex County College', 'Amarillo College', 'California College San Diego', 'Schreiner University', 'Tuskegee University', 'American University of Puerto Rico', 'Lincoln University', 'Oxnard College', 'United Tribes Technical College', 'Del Mar College', 'University of West Alabama', 'Cheyney University of Pennsylvania', 'Moorpark College', 'Lamar Community College', 'Chowan University', 'Allen University', 'University of Baltimore', 'Winston-Salem State University', 'Santa Rosa Junior College', 'University of Hawaii at Manoa', 'White Earth Tribal and Community College', 'Miami Dade College', 'Napa Valley College', 'Southern Crescent Technical College', 'Alaska Pacific University', 'Antelope Valley College', 'Trinity College of Puerto Rico', 'Irvine Valley College', 'Hope International University', 'University of North Carolina at Pembroke', 'Mesa Community College', 'Imperial Valley College', 'Barry University', 'Texas State University', 'Palo Alto University', 'San Diego Christian College', 'Arkansas Baptist College', 'SUNY Westchester Community College', 'Bakersfield College', 'Northern Oklahoma College', 'Los Angeles Harbor College', 'Hawaii Community College', 'Dalton State College', 'Mississippi Valley State University', \"Saint Augustine's University\", 'Bergen Community College', 'University of the Incarnate Word', 'Galveston College', 'Blackfeet Community College', 'South Plains College', 'College of the Muscogee Nation', 'Chabot College', 'University of Arkansas at Pine Bluff', 'CUNY Lehman College', 'Cossatot Community College of the University of Arkansas', 'Community College of Denver', 'Oconee Fall Line Technical College', 'Virginia University of Lynchburg', 'Cerro Coso Community College', 'Heritage University', 'Central Arizona College', 'University of the Virgin Islands', 'Passaic County Community College', 'Coppin State University', 'San Juan College', 'Pacific University', 'Skyline College', 'Chattahoochee Valley Community College', 'Holyoke Community College', 'Claflin University', 'Woodland Community College', 'Middlesex Community College', 'Atenas College', 'Denmark Technical College', 'Houston Baptist University', 'San Jose State University', 'Northern Virginia Community College', 'University of the District of Columbia', 'Santa Barbara City College', 'Vaughn College of Aeronautics and Technology', 'Alcorn State University', 'Contra Costa College', 'Metropolitan College of New York', 'Orange Coast College', 'Grace Mission University', 'Temple College', 'Texas Lutheran University', 'Northern New Mexico College', 'Bacone College', 'Leeward Community College', 'Fayetteville State University', 'Rogers State University', 'North Carolina Central University', 'Santa Fe Community College', 'College of Alameda', 'Allan Hancock College', 'California Baptist University', 'Carl Albert State College', 'Warner Pacific University', 'Riverside City College', 'William Paterson University of New Jersey', 'Victoria College', 'Keweenaw Bay Ojibwa Community College', 'North Hennepin Community College', 'Chicago State University', 'Kentucky State University', 'Lawson State Community College', 'Glendale Community College', 'Rockland Community College', 'CUNY Bronx Community College', 'Hampton University', 'Humacao Community College', 'Cuesta College', 'Angelo State University', 'Phoenix College', 'Northland Pioneer College', 'University of Alaska Southeast', 'College of San Mateo', 'San Diego State University', 'Boricua College', 'Meridian Community College', 'Universal Technology College of Puerto Rico', 'Paul Quinn College', 'Mississippi Delta Community College', 'Big Bend Community College', 'Union Institute & University', 'Long Island University', 'Donnelly College', \"Saint Martin's University\", 'Honolulu Community College', 'Nevada State College', 'Azusa Pacific University', 'New Jersey City University', 'Blue Mountain Community College', 'Evergreen Valley College', 'CUNY Medgar Evers College', 'Talladega College', 'Northeast Texas Community College', 'Berkeley City College', 'Wayne County Community College District', 'Delaware State University', 'Texas Tech University', 'Hallmark University', 'Trinidad State Junior College', 'San Diego Mesa College', 'Capital Community College', 'Orange County Community College', 'South Louisiana Community College', 'Connors State College', 'Laredo College', 'University of North Texas at Dallas', 'Remington College-North Houston Campus', 'Atlanta Technical College', 'West Los Angeles College', 'Triton College', 'Golden West College', 'Stone Child College', 'Sonoma State University', 'Atlantic University College', 'National Louis University', 'Southwest Mississippi Community College', 'Edgecombe Community College', 'Saint Xavier University', 'Hodges University', 'Southwestern Indian Polytechnic Institute', 'Texas College', 'South Carolina State University', 'South Mountain Community College', 'Columbus Technical College', 'Dominican University', 'Northeastern Illinois University', 'Canada College', 'Bishop State Community College', 'Little Priest Tribal College', 'Baton Rouge Community College', 'Hinds Community College', 'Bladen Community College', 'San Juan Bautista School of Medicine', 'Nebraska Indian Community College', 'Northeastern Technical College', 'Oakton Community College', 'Seward County Community College', 'Southern University at New Orleans', 'Simmons College of Kentucky', 'Southwest Tennessee Community College', 'Shoreline Community College', 'Tennessee State University', 'Hawaii Pacific University', \"Prince George's Community College\", 'Coahoma Community College', 'Jarvis Christian College', 'New Mexico Highlands University', 'Estrella Mountain Community College', 'Century College', 'Cisco College', 'City College of San Francisco', 'Aaniiih Nakoda College', 'Alabama State University', 'Northern Marianas College', 'CUNY Borough of Manhattan Community College', 'Perry Technical Institute', 'Palm Beach State College', 'Pillar College', 'Palo Alto College', 'University of Houston', 'Howard University', 'Los Angeles Valley College', 'Clinton College', 'University of Hawaii Maui College'}\n"
     ]
    },
    {
     "data": {
      "text/plain": [
       "Institution Name\n",
       "True     496\n",
       "False    369\n",
       "Name: count, dtype: int64"
      ]
     },
     "execution_count": 444,
     "metadata": {},
     "output_type": "execute_result"
    }
   ],
   "source": [
    "#appending the MSI type information to the 2022 file\n",
    "minorityList2022['MSI Type'] = msi\n",
    "#understanding the number of unique institutions (non-exact matches) in each respective file\n",
    "uniqueInstitutions = set(minorityList2020['Institution']).intersection(set(minorityList2022['Institution Name']))\n",
    "print(uniqueInstitutions)\n",
    "# print(minorityList2020['Institution'].isin(minorityList2022['Institution Name']).value_counts())\n",
    "minorityList2022['Institution Name'].isin(minorityList2020['Institution']).value_counts()"
   ]
  },
  {
   "cell_type": "markdown",
   "metadata": {},
   "source": [
    "### MSI List Similiarity Analysis (2020 vs 2022):\n",
    "* A total of 496 institutions were shared by the two sources (exact matches)\n",
    "    * Some more institutions are shared but their institution name is formatted differently"
   ]
  },
  {
   "cell_type": "markdown",
   "metadata": {},
   "source": [
    "#### Using fuzzy match (threshold value of 97) percent to guage a more accurate approximation"
   ]
  },
  {
   "cell_type": "code",
   "execution_count": null,
   "metadata": {},
   "outputs": [],
   "source": [
    "def matchMSIFuzzy(x):\n",
    "    for i in range(862):\n",
    "        if(isfloat(x) == False and fuzz.partial_ratio(minorityList2022.loc[i]['Institution Name'], x) > 97):\n",
    "            return \"Yes\"\n",
    "    return \"No\""
   ]
  },
  {
   "cell_type": "code",
   "execution_count": null,
   "metadata": {},
   "outputs": [],
   "source": [
    "minorityList2020['isIn2022'] = minorityList2020['Institution'].apply(matchMSIFuzzy)"
   ]
  },
  {
   "cell_type": "markdown",
   "metadata": {},
   "source": [
    "### MSI List Similiarity Analysis w/ Fuzzy Match (2020 vs 2022):\n",
    "* A total of 566 institutions were shared by the two sources"
   ]
  },
  {
   "cell_type": "code",
   "execution_count": null,
   "metadata": {},
   "outputs": [
    {
     "data": {
      "text/plain": [
       "6        United States\n",
       "38       United States\n",
       "39       United States\n",
       "40       United States\n",
       "41       United States\n",
       "             ...      \n",
       "25660    United States\n",
       "25661    United States\n",
       "25662    United States\n",
       "25663    United States\n",
       "25664    United States\n",
       "Name: aff_country, Length: 7654, dtype: object"
      ]
     },
     "execution_count": 19,
     "metadata": {},
     "output_type": "execute_result"
    }
   ],
   "source": [
    "# dropping all the affiliation data that doesn't originate within the United States or has no country affilation\n",
    "comparI = compareData[compareData['aff_country'] != 'United States'].index\n",
    "compareData = compareData.drop(comparI)\n",
    "controlI = controlData[controlData['aff_country'] != 'United States'].index\n",
    "controlData = controlData.drop(controlI)\n",
    "compareData['aff_country'].dropna()\n",
    "controlData['aff_country'].dropna()"
   ]
  },
  {
   "cell_type": "markdown",
   "metadata": {},
   "source": [
    "#### Fuzzy Matching Affiliation Data for Compare and Control Groups with MSI Lists"
   ]
  },
  {
   "cell_type": "code",
   "execution_count": null,
   "metadata": {},
   "outputs": [],
   "source": [
    "# fuzzy matching methods for both 2020 and 2022 lists\n",
    "\n",
    "def fuzzTest(x):\n",
    "    for i in range(774):\n",
    "        if(isfloat(x) == False and fuzz.partial_ratio(minorityList2020.loc[i]['Institution'], x) > 97):\n",
    "            return minorityList2020.loc[i]['Institution']\n",
    "    return \"Not Minority\"\n",
    "\n",
    "def fuzzTest2(x):\n",
    "    for i in range(862):\n",
    "        if(isfloat(x) == False and fuzz.partial_ratio(minorityList2022.loc[i]['Institution Name'], x) > 97):\n",
    "            return minorityList2022.loc[i]['Institution Name']\n",
    "    return \"Not Minority\"\n",
    "\n"
   ]
  },
  {
   "cell_type": "code",
   "execution_count": null,
   "metadata": {},
   "outputs": [
    {
     "ename": "NameError",
     "evalue": "name 'fuzzTest' is not defined",
     "output_type": "error",
     "traceback": [
      "\u001b[0;31m---------------------------------------------------------------------------\u001b[0m",
      "\u001b[0;31mNameError\u001b[0m                                 Traceback (most recent call last)",
      "Cell \u001b[0;32mIn[112], line 3\u001b[0m\n\u001b[1;32m      1\u001b[0m \u001b[38;5;66;03m# applying the method to the affiliation name column\u001b[39;00m\n\u001b[1;32m      2\u001b[0m \u001b[38;5;66;03m# takes a while to run \u001b[39;00m\n\u001b[0;32m----> 3\u001b[0m compareData[\u001b[38;5;124m'\u001b[39m\u001b[38;5;124misMinority_2020\u001b[39m\u001b[38;5;124m'\u001b[39m] \u001b[38;5;241m=\u001b[39m compareData[\u001b[38;5;124m'\u001b[39m\u001b[38;5;124maff_name\u001b[39m\u001b[38;5;124m'\u001b[39m]\u001b[38;5;241m.\u001b[39mapply(\u001b[43mfuzzTest\u001b[49m)\n\u001b[1;32m      4\u001b[0m controlData[\u001b[38;5;124m'\u001b[39m\u001b[38;5;124misMinority_2020\u001b[39m\u001b[38;5;124m'\u001b[39m] \u001b[38;5;241m=\u001b[39m controlData[\u001b[38;5;124m'\u001b[39m\u001b[38;5;124maff_name\u001b[39m\u001b[38;5;124m'\u001b[39m]\u001b[38;5;241m.\u001b[39mapply(fuzzTest)\n\u001b[1;32m      5\u001b[0m compareData[\u001b[38;5;124m'\u001b[39m\u001b[38;5;124misMinority_2022\u001b[39m\u001b[38;5;124m'\u001b[39m] \u001b[38;5;241m=\u001b[39m compareData[\u001b[38;5;124m'\u001b[39m\u001b[38;5;124maff_name\u001b[39m\u001b[38;5;124m'\u001b[39m]\u001b[38;5;241m.\u001b[39mapply(fuzzTest2)\n",
      "\u001b[0;31mNameError\u001b[0m: name 'fuzzTest' is not defined"
     ]
    }
   ],
   "source": [
    "# applying the method to the affiliation name column\n",
    "# takes a while to run \n",
    "compareData['isMinority_2020'] = compareData['aff_name'].apply(fuzzTest)\n",
    "controlData['isMinority_2020'] = controlData['aff_name'].apply(fuzzTest)\n",
    "compareData['isMinority_2022'] = compareData['aff_name'].apply(fuzzTest2)\n",
    "controlData['isMinority_2022'] = controlData['aff_name'].apply(fuzzTest2)"
   ]
  },
  {
   "cell_type": "markdown",
   "metadata": {},
   "source": [
    "#### Understand the distribution "
   ]
  },
  {
   "cell_type": "code",
   "execution_count": null,
   "metadata": {},
   "outputs": [],
   "source": [
    "\n",
    "compareMinorityValues2020 = compareData['isMinority_2020'].value_counts().to_frame()\n",
    "controlMinorityValues2020 = controlData['isMinority_2020'].value_counts().to_frame()\n",
    "compareMinorityValues2022 = compareData['isMinority_2022'].value_counts().to_frame()\n",
    "controlMinorityValues2022 = controlData['isMinority_2022'].value_counts().to_frame()"
   ]
  },
  {
   "cell_type": "code",
   "execution_count": null,
   "metadata": {},
   "outputs": [
    {
     "name": "stdout",
     "output_type": "stream",
     "text": [
      "isMinority_2020\n",
      "Not Minority                                                              24849\n",
      "National University                                                         200\n",
      "Cheyney University of Pennsylvania                                          173\n",
      "Vanguard University of Southern California                                   87\n",
      "University of Washington - Seattle                                           77\n",
      "University of Minnesota - Twin Cities                                        40\n",
      "University of Arizona (The)                                                  39\n",
      "University of California, Davis                                              34\n",
      "University of California, Irvine                                             28\n",
      "University of Texas Health Science Center at San Antonio                     27\n",
      "University of Connecticut - Hartford Campus                                  14\n",
      "Rutgers, the State University of New Jersey                                  13\n",
      "University of Illinois at Chicago                                            13\n",
      "Pennsylvania State University - Penn State Abington                          11\n",
      "Georgia State University                                                     10\n",
      "Texas Tech University                                                         9\n",
      "University of Central Florida                                                 6\n",
      "Texas A&M University - Corpus Christi                                         6\n",
      "San Diego State University                                                    5\n",
      "University of New Mexico                                                      5\n",
      "University of Houston                                                         5\n",
      "University of Texas at San Antonio                                            4\n",
      "Arizona State University                                                      4\n",
      "University of Texas at Arlington                                              3\n",
      "Tennessee State University                                                    2\n",
      "Colorado State University - Pueblo                                            2\n",
      "Florida Atlantic University                                                   2\n",
      "University of California, Riverside                                           2\n",
      "City College                                                                  1\n",
      "Florida International University                                              1\n",
      "California State University, San Bernardino                                   1\n",
      "New York City College of Technology of the City University of New York        1\n",
      "University of California, Santa Barbara                                       1\n",
      "CUNY Hunter College                                                           1\n",
      "Name: count, dtype: int64\n"
     ]
    },
    {
     "ename": "KeyError",
     "evalue": "'isMinority_2022'",
     "output_type": "error",
     "traceback": [
      "\u001b[0;31m---------------------------------------------------------------------------\u001b[0m",
      "\u001b[0;31mKeyError\u001b[0m                                  Traceback (most recent call last)",
      "File \u001b[0;32m~/anaconda3/envs/py3/lib/python3.11/site-packages/pandas/core/indexes/base.py:3790\u001b[0m, in \u001b[0;36mIndex.get_loc\u001b[0;34m(self, key)\u001b[0m\n\u001b[1;32m   3789\u001b[0m \u001b[38;5;28;01mtry\u001b[39;00m:\n\u001b[0;32m-> 3790\u001b[0m     \u001b[38;5;28;01mreturn\u001b[39;00m \u001b[38;5;28;43mself\u001b[39;49m\u001b[38;5;241;43m.\u001b[39;49m\u001b[43m_engine\u001b[49m\u001b[38;5;241;43m.\u001b[39;49m\u001b[43mget_loc\u001b[49m\u001b[43m(\u001b[49m\u001b[43mcasted_key\u001b[49m\u001b[43m)\u001b[49m\n\u001b[1;32m   3791\u001b[0m \u001b[38;5;28;01mexcept\u001b[39;00m \u001b[38;5;167;01mKeyError\u001b[39;00m \u001b[38;5;28;01mas\u001b[39;00m err:\n",
      "File \u001b[0;32mindex.pyx:152\u001b[0m, in \u001b[0;36mpandas._libs.index.IndexEngine.get_loc\u001b[0;34m()\u001b[0m\n",
      "File \u001b[0;32mindex.pyx:181\u001b[0m, in \u001b[0;36mpandas._libs.index.IndexEngine.get_loc\u001b[0;34m()\u001b[0m\n",
      "File \u001b[0;32mpandas/_libs/hashtable_class_helper.pxi:7080\u001b[0m, in \u001b[0;36mpandas._libs.hashtable.PyObjectHashTable.get_item\u001b[0;34m()\u001b[0m\n",
      "File \u001b[0;32mpandas/_libs/hashtable_class_helper.pxi:7088\u001b[0m, in \u001b[0;36mpandas._libs.hashtable.PyObjectHashTable.get_item\u001b[0;34m()\u001b[0m\n",
      "\u001b[0;31mKeyError\u001b[0m: 'isMinority_2022'",
      "\nThe above exception was the direct cause of the following exception:\n",
      "\u001b[0;31mKeyError\u001b[0m                                  Traceback (most recent call last)",
      "Cell \u001b[0;32mIn[55], line 2\u001b[0m\n\u001b[1;32m      1\u001b[0m \u001b[38;5;28mprint\u001b[39m(controlData[\u001b[38;5;124m'\u001b[39m\u001b[38;5;124misMinority_2020\u001b[39m\u001b[38;5;124m'\u001b[39m]\u001b[38;5;241m.\u001b[39mvalue_counts())\n\u001b[0;32m----> 2\u001b[0m \u001b[38;5;28mprint\u001b[39m(\u001b[43mcompareData\u001b[49m\u001b[43m[\u001b[49m\u001b[38;5;124;43m'\u001b[39;49m\u001b[38;5;124;43misMinority_2022\u001b[39;49m\u001b[38;5;124;43m'\u001b[39;49m\u001b[43m]\u001b[49m\u001b[38;5;241m.\u001b[39mvalue_counts())\n",
      "File \u001b[0;32m~/anaconda3/envs/py3/lib/python3.11/site-packages/pandas/core/frame.py:3896\u001b[0m, in \u001b[0;36mDataFrame.__getitem__\u001b[0;34m(self, key)\u001b[0m\n\u001b[1;32m   3894\u001b[0m \u001b[38;5;28;01mif\u001b[39;00m \u001b[38;5;28mself\u001b[39m\u001b[38;5;241m.\u001b[39mcolumns\u001b[38;5;241m.\u001b[39mnlevels \u001b[38;5;241m>\u001b[39m \u001b[38;5;241m1\u001b[39m:\n\u001b[1;32m   3895\u001b[0m     \u001b[38;5;28;01mreturn\u001b[39;00m \u001b[38;5;28mself\u001b[39m\u001b[38;5;241m.\u001b[39m_getitem_multilevel(key)\n\u001b[0;32m-> 3896\u001b[0m indexer \u001b[38;5;241m=\u001b[39m \u001b[38;5;28;43mself\u001b[39;49m\u001b[38;5;241;43m.\u001b[39;49m\u001b[43mcolumns\u001b[49m\u001b[38;5;241;43m.\u001b[39;49m\u001b[43mget_loc\u001b[49m\u001b[43m(\u001b[49m\u001b[43mkey\u001b[49m\u001b[43m)\u001b[49m\n\u001b[1;32m   3897\u001b[0m \u001b[38;5;28;01mif\u001b[39;00m is_integer(indexer):\n\u001b[1;32m   3898\u001b[0m     indexer \u001b[38;5;241m=\u001b[39m [indexer]\n",
      "File \u001b[0;32m~/anaconda3/envs/py3/lib/python3.11/site-packages/pandas/core/indexes/base.py:3797\u001b[0m, in \u001b[0;36mIndex.get_loc\u001b[0;34m(self, key)\u001b[0m\n\u001b[1;32m   3792\u001b[0m     \u001b[38;5;28;01mif\u001b[39;00m \u001b[38;5;28misinstance\u001b[39m(casted_key, \u001b[38;5;28mslice\u001b[39m) \u001b[38;5;129;01mor\u001b[39;00m (\n\u001b[1;32m   3793\u001b[0m         \u001b[38;5;28misinstance\u001b[39m(casted_key, abc\u001b[38;5;241m.\u001b[39mIterable)\n\u001b[1;32m   3794\u001b[0m         \u001b[38;5;129;01mand\u001b[39;00m \u001b[38;5;28many\u001b[39m(\u001b[38;5;28misinstance\u001b[39m(x, \u001b[38;5;28mslice\u001b[39m) \u001b[38;5;28;01mfor\u001b[39;00m x \u001b[38;5;129;01min\u001b[39;00m casted_key)\n\u001b[1;32m   3795\u001b[0m     ):\n\u001b[1;32m   3796\u001b[0m         \u001b[38;5;28;01mraise\u001b[39;00m InvalidIndexError(key)\n\u001b[0;32m-> 3797\u001b[0m     \u001b[38;5;28;01mraise\u001b[39;00m \u001b[38;5;167;01mKeyError\u001b[39;00m(key) \u001b[38;5;28;01mfrom\u001b[39;00m \u001b[38;5;21;01merr\u001b[39;00m\n\u001b[1;32m   3798\u001b[0m \u001b[38;5;28;01mexcept\u001b[39;00m \u001b[38;5;167;01mTypeError\u001b[39;00m:\n\u001b[1;32m   3799\u001b[0m     \u001b[38;5;66;03m# If we have a listlike key, _check_indexing_error will raise\u001b[39;00m\n\u001b[1;32m   3800\u001b[0m     \u001b[38;5;66;03m#  InvalidIndexError. Otherwise we fall through and re-raise\u001b[39;00m\n\u001b[1;32m   3801\u001b[0m     \u001b[38;5;66;03m#  the TypeError.\u001b[39;00m\n\u001b[1;32m   3802\u001b[0m     \u001b[38;5;28mself\u001b[39m\u001b[38;5;241m.\u001b[39m_check_indexing_error(key)\n",
      "\u001b[0;31mKeyError\u001b[0m: 'isMinority_2022'"
     ]
    }
   ],
   "source": [
    "print(controlData['isMinority_2020'].value_counts())\n",
    "print(compareData['isMinority_2022'].value_counts())"
   ]
  },
  {
   "cell_type": "markdown",
   "metadata": {},
   "source": [
    "### Understanding MSI types \n",
    "* The OIC supports colleges and universities designated as minority serving institutions:\n",
    "\n",
    "    * Asian American Native American Pacific Islander-Serving Institutions (ANNAPISIs)\n",
    "    * Alaska Native and Native Hawaiian Serving Institutions (ANNHs)\n",
    "    * Historically Black Colleges & Universities (HBCUs)\n",
    "    * Hispanic Serving institutions (HSIs)\n",
    "    * Native American-Serving Non-Tribal Institutions (NASNTIs)\n",
    "    * Predominantly Black Institutions (PBIs)\n",
    "    * Tribal Colleges and Universities (TCUs)\n"
   ]
  },
  {
   "cell_type": "code",
   "execution_count": null,
   "metadata": {},
   "outputs": [],
   "source": [
    "# Type\n",
    "def typeInfo(x):\n",
    "    if (x != 'Not Minority'):\n",
    "        indexArray = minorityList2020[minorityList2020['Institution']== x].index.values\n",
    "        index = indexArray[0]\n",
    "        return minorityList2020.loc[index]['Type']\n",
    "    return 'Not Minority'\n",
    "def typeInfo2(x):\n",
    "    if (x != 'Not Minority'):\n",
    "        indexArray = minorityList2022[minorityList2022['Institution Name']== x].index.values\n",
    "        index = indexArray[0]\n",
    "        return minorityList2022.loc[index]['Type']\n",
    "    return 'Not Minority'"
   ]
  },
  {
   "cell_type": "code",
   "execution_count": null,
   "metadata": {},
   "outputs": [
    {
     "ename": "KeyError",
     "evalue": "'isMinority_2022'",
     "output_type": "error",
     "traceback": [
      "\u001b[0;31m---------------------------------------------------------------------------\u001b[0m",
      "\u001b[0;31mKeyError\u001b[0m                                  Traceback (most recent call last)",
      "File \u001b[0;32m~/anaconda3/envs/py3/lib/python3.11/site-packages/pandas/core/indexes/base.py:3790\u001b[0m, in \u001b[0;36mIndex.get_loc\u001b[0;34m(self, key)\u001b[0m\n\u001b[1;32m   3789\u001b[0m \u001b[38;5;28;01mtry\u001b[39;00m:\n\u001b[0;32m-> 3790\u001b[0m     \u001b[38;5;28;01mreturn\u001b[39;00m \u001b[38;5;28;43mself\u001b[39;49m\u001b[38;5;241;43m.\u001b[39;49m\u001b[43m_engine\u001b[49m\u001b[38;5;241;43m.\u001b[39;49m\u001b[43mget_loc\u001b[49m\u001b[43m(\u001b[49m\u001b[43mcasted_key\u001b[49m\u001b[43m)\u001b[49m\n\u001b[1;32m   3791\u001b[0m \u001b[38;5;28;01mexcept\u001b[39;00m \u001b[38;5;167;01mKeyError\u001b[39;00m \u001b[38;5;28;01mas\u001b[39;00m err:\n",
      "File \u001b[0;32mindex.pyx:152\u001b[0m, in \u001b[0;36mpandas._libs.index.IndexEngine.get_loc\u001b[0;34m()\u001b[0m\n",
      "File \u001b[0;32mindex.pyx:181\u001b[0m, in \u001b[0;36mpandas._libs.index.IndexEngine.get_loc\u001b[0;34m()\u001b[0m\n",
      "File \u001b[0;32mpandas/_libs/hashtable_class_helper.pxi:7080\u001b[0m, in \u001b[0;36mpandas._libs.hashtable.PyObjectHashTable.get_item\u001b[0;34m()\u001b[0m\n",
      "File \u001b[0;32mpandas/_libs/hashtable_class_helper.pxi:7088\u001b[0m, in \u001b[0;36mpandas._libs.hashtable.PyObjectHashTable.get_item\u001b[0;34m()\u001b[0m\n",
      "\u001b[0;31mKeyError\u001b[0m: 'isMinority_2022'",
      "\nThe above exception was the direct cause of the following exception:\n",
      "\u001b[0;31mKeyError\u001b[0m                                  Traceback (most recent call last)",
      "Cell \u001b[0;32mIn[57], line 3\u001b[0m\n\u001b[1;32m      1\u001b[0m compareData[\u001b[38;5;124m'\u001b[39m\u001b[38;5;124mType2020\u001b[39m\u001b[38;5;124m'\u001b[39m] \u001b[38;5;241m=\u001b[39m compareData[\u001b[38;5;124m'\u001b[39m\u001b[38;5;124misMinority_2020\u001b[39m\u001b[38;5;124m'\u001b[39m]\u001b[38;5;241m.\u001b[39mapply(typeInfo)\n\u001b[1;32m      2\u001b[0m controlData[\u001b[38;5;124m'\u001b[39m\u001b[38;5;124mType2020\u001b[39m\u001b[38;5;124m'\u001b[39m] \u001b[38;5;241m=\u001b[39m controlData[\u001b[38;5;124m'\u001b[39m\u001b[38;5;124misMinority_2020\u001b[39m\u001b[38;5;124m'\u001b[39m]\u001b[38;5;241m.\u001b[39mapply(typeInfo)\n\u001b[0;32m----> 3\u001b[0m compareData[\u001b[38;5;124m'\u001b[39m\u001b[38;5;124mType2022\u001b[39m\u001b[38;5;124m'\u001b[39m] \u001b[38;5;241m=\u001b[39m \u001b[43mcompareData\u001b[49m\u001b[43m[\u001b[49m\u001b[38;5;124;43m'\u001b[39;49m\u001b[38;5;124;43misMinority_2022\u001b[39;49m\u001b[38;5;124;43m'\u001b[39;49m\u001b[43m]\u001b[49m\u001b[38;5;241m.\u001b[39mapply(typeInfo2)\n\u001b[1;32m      4\u001b[0m controlData[\u001b[38;5;124m'\u001b[39m\u001b[38;5;124mType2022\u001b[39m\u001b[38;5;124m'\u001b[39m] \u001b[38;5;241m=\u001b[39m controlData[\u001b[38;5;124m'\u001b[39m\u001b[38;5;124misMinority_2022\u001b[39m\u001b[38;5;124m'\u001b[39m]\u001b[38;5;241m.\u001b[39mapply(typeInfo2)\n",
      "File \u001b[0;32m~/anaconda3/envs/py3/lib/python3.11/site-packages/pandas/core/frame.py:3896\u001b[0m, in \u001b[0;36mDataFrame.__getitem__\u001b[0;34m(self, key)\u001b[0m\n\u001b[1;32m   3894\u001b[0m \u001b[38;5;28;01mif\u001b[39;00m \u001b[38;5;28mself\u001b[39m\u001b[38;5;241m.\u001b[39mcolumns\u001b[38;5;241m.\u001b[39mnlevels \u001b[38;5;241m>\u001b[39m \u001b[38;5;241m1\u001b[39m:\n\u001b[1;32m   3895\u001b[0m     \u001b[38;5;28;01mreturn\u001b[39;00m \u001b[38;5;28mself\u001b[39m\u001b[38;5;241m.\u001b[39m_getitem_multilevel(key)\n\u001b[0;32m-> 3896\u001b[0m indexer \u001b[38;5;241m=\u001b[39m \u001b[38;5;28;43mself\u001b[39;49m\u001b[38;5;241;43m.\u001b[39;49m\u001b[43mcolumns\u001b[49m\u001b[38;5;241;43m.\u001b[39;49m\u001b[43mget_loc\u001b[49m\u001b[43m(\u001b[49m\u001b[43mkey\u001b[49m\u001b[43m)\u001b[49m\n\u001b[1;32m   3897\u001b[0m \u001b[38;5;28;01mif\u001b[39;00m is_integer(indexer):\n\u001b[1;32m   3898\u001b[0m     indexer \u001b[38;5;241m=\u001b[39m [indexer]\n",
      "File \u001b[0;32m~/anaconda3/envs/py3/lib/python3.11/site-packages/pandas/core/indexes/base.py:3797\u001b[0m, in \u001b[0;36mIndex.get_loc\u001b[0;34m(self, key)\u001b[0m\n\u001b[1;32m   3792\u001b[0m     \u001b[38;5;28;01mif\u001b[39;00m \u001b[38;5;28misinstance\u001b[39m(casted_key, \u001b[38;5;28mslice\u001b[39m) \u001b[38;5;129;01mor\u001b[39;00m (\n\u001b[1;32m   3793\u001b[0m         \u001b[38;5;28misinstance\u001b[39m(casted_key, abc\u001b[38;5;241m.\u001b[39mIterable)\n\u001b[1;32m   3794\u001b[0m         \u001b[38;5;129;01mand\u001b[39;00m \u001b[38;5;28many\u001b[39m(\u001b[38;5;28misinstance\u001b[39m(x, \u001b[38;5;28mslice\u001b[39m) \u001b[38;5;28;01mfor\u001b[39;00m x \u001b[38;5;129;01min\u001b[39;00m casted_key)\n\u001b[1;32m   3795\u001b[0m     ):\n\u001b[1;32m   3796\u001b[0m         \u001b[38;5;28;01mraise\u001b[39;00m InvalidIndexError(key)\n\u001b[0;32m-> 3797\u001b[0m     \u001b[38;5;28;01mraise\u001b[39;00m \u001b[38;5;167;01mKeyError\u001b[39;00m(key) \u001b[38;5;28;01mfrom\u001b[39;00m \u001b[38;5;21;01merr\u001b[39;00m\n\u001b[1;32m   3798\u001b[0m \u001b[38;5;28;01mexcept\u001b[39;00m \u001b[38;5;167;01mTypeError\u001b[39;00m:\n\u001b[1;32m   3799\u001b[0m     \u001b[38;5;66;03m# If we have a listlike key, _check_indexing_error will raise\u001b[39;00m\n\u001b[1;32m   3800\u001b[0m     \u001b[38;5;66;03m#  InvalidIndexError. Otherwise we fall through and re-raise\u001b[39;00m\n\u001b[1;32m   3801\u001b[0m     \u001b[38;5;66;03m#  the TypeError.\u001b[39;00m\n\u001b[1;32m   3802\u001b[0m     \u001b[38;5;28mself\u001b[39m\u001b[38;5;241m.\u001b[39m_check_indexing_error(key)\n",
      "\u001b[0;31mKeyError\u001b[0m: 'isMinority_2022'"
     ]
    }
   ],
   "source": [
    "compareData['Type2020'] = compareData['isMinority_2020'].apply(typeInfo)\n",
    "controlData['Type2020'] = controlData['isMinority_2020'].apply(typeInfo)\n",
    "compareData['Type2022'] = compareData['isMinority_2022'].apply(typeInfo2)\n",
    "controlData['Type2022'] = controlData['isMinority_2022'].apply(typeInfo2)\n"
   ]
  },
  {
   "cell_type": "code",
   "execution_count": null,
   "metadata": {},
   "outputs": [],
   "source": [
    "# MSI Type\n",
    "def msiInfo(x):\n",
    "    if (x != 'Not Minority'):\n",
    "        indexArray = minorityList2020[minorityList2020['Institution'] == x].index.values\n",
    "        index = indexArray[0]\n",
    "        return minorityList2020.loc[index]['MSI Type']\n",
    "    return 'Not Minority'\n",
    "def msiInfo2(x):\n",
    "    if (x != 'Not Minority'):\n",
    "        indexArray = minorityList2022[minorityList2022['Institution Name'] == x].index.values\n",
    "        index = indexArray[0]\n",
    "        return minorityList2022.loc[index]['MSI Type']\n",
    "    return 'Not Minority'"
   ]
  },
  {
   "cell_type": "code",
   "execution_count": null,
   "metadata": {},
   "outputs": [],
   "source": [
    "compareData['MSI Type2020'] = compareData['isMinority_2020'].apply(msiInfo)\n",
    "controlData['MSI Type2020'] = controlData['isMinority_2020'].apply(msiInfo)\n",
    "compareData['MSI Type2022'] = compareData['isMinority_2022'].apply(msiInfo2)\n",
    "controlData['MSI Type2022'] = controlData['isMinority_2022'].apply(msiInfo2)"
   ]
  },
  {
   "cell_type": "markdown",
   "metadata": {},
   "source": [
    "### Cleaning Process\n",
    "* To confirm the accuracy of the mapping between institutional affiliations and their potential MSI status, we performed manual verification on a subset of the results yielded by the aforementioned fuzzy-matching process. In cases when an author’s institutional affiliation was incorrectly mapped to an MSI, we rectified the mistake manually. Verification was limited to reducing false positives, i.e., we only determined institutional affiliations that were erroneously linked with MSIs.\n",
    "* This allowed us to understand which MSIs appeared in the datasets \n",
    "    * Used this information in gender and first vs last author pipelines"
   ]
  },
  {
   "cell_type": "markdown",
   "metadata": {},
   "source": [
    "## Gender Distributions of Authors Affiliated w/ MSIs"
   ]
  },
  {
   "cell_type": "code",
   "execution_count": null,
   "metadata": {},
   "outputs": [],
   "source": [
    "remControl = pd.read_csv(\"./GuruData/controlUnionType.csv\")\n",
    "remMIMIC= pd.read_csv(\"./GuruData/mimicUnionType.csv\")\n",
    "mimic20 = pd.read_csv(\"./GuruData/minorityMimiccorrectx(d).csv\")\n",
    "mimic22 = pd.read_csv(\"./GuruData/minorityMimiccorrectx(d).csv\")\n",
    "control20 = pd.read_csv(\"./GuruData/minoritycontolcorrectx(d).csv\")\n",
    "control22 = pd.read_csv(\"./GuruData/minoritycontolcorrectx(d).csv\")\n",
    "# mimicaffils = pd.read_csv(\"./GuruData/mimic_affils(7).csv\") # checked\n",
    "mimicaffils = MIMIC_affli.copy()\n",
    "# controlaffils = pd.read_csv(\"./GuruData/control_group_affils(7).csv\") # checked with Control_affli\n",
    "# controlGender = pd.read_csv(\"./GuruData/control_group_affils_v2.csv\") #  wasn't used in later analysis "
   ]
  },
  {
   "cell_type": "markdown",
   "metadata": {},
   "source": [
    "#### Data Cleaning "
   ]
  },
  {
   "cell_type": "code",
   "execution_count": null,
   "metadata": {},
   "outputs": [],
   "source": [
    "def filter_rows_by_values(df, col, values):\n",
    "    return df[~df[col].isin(values)]"
   ]
  },
  {
   "cell_type": "code",
   "execution_count": null,
   "metadata": {},
   "outputs": [
    {
     "data": {
      "text/html": [
       "<div>\n",
       "<style scoped>\n",
       "    .dataframe tbody tr th:only-of-type {\n",
       "        vertical-align: middle;\n",
       "    }\n",
       "\n",
       "    .dataframe tbody tr th {\n",
       "        vertical-align: top;\n",
       "    }\n",
       "\n",
       "    .dataframe thead th {\n",
       "        text-align: right;\n",
       "    }\n",
       "</style>\n",
       "<table border=\"1\" class=\"dataframe\">\n",
       "  <thead>\n",
       "    <tr style=\"text-align: right;\">\n",
       "      <th></th>\n",
       "      <th>controlUnion</th>\n",
       "      <th>Unnamed: 1</th>\n",
       "      <th>Unnamed: 2</th>\n",
       "      <th>Unnamed: 3</th>\n",
       "    </tr>\n",
       "  </thead>\n",
       "  <tbody>\n",
       "    <tr>\n",
       "      <th>0</th>\n",
       "      <td>NaN</td>\n",
       "      <td>Institution</td>\n",
       "      <td>isMinority_Union</td>\n",
       "      <td>MSI_Type</td>\n",
       "    </tr>\n",
       "    <tr>\n",
       "      <th>1</th>\n",
       "      <td>0.0</td>\n",
       "      <td>Not Minority</td>\n",
       "      <td>7750</td>\n",
       "      <td>No MSI Type</td>\n",
       "    </tr>\n",
       "    <tr>\n",
       "      <th>2</th>\n",
       "      <td>1.0</td>\n",
       "      <td>University of Washington - Seattle</td>\n",
       "      <td>66</td>\n",
       "      <td>AANAPISI</td>\n",
       "    </tr>\n",
       "    <tr>\n",
       "      <th>3</th>\n",
       "      <td>2.0</td>\n",
       "      <td>University of Minnesota - Twin Cities</td>\n",
       "      <td>48</td>\n",
       "      <td>AANAPISI</td>\n",
       "    </tr>\n",
       "    <tr>\n",
       "      <th>4</th>\n",
       "      <td>3.0</td>\n",
       "      <td>The University of Texas at Austin</td>\n",
       "      <td>35</td>\n",
       "      <td>AANAPISI</td>\n",
       "    </tr>\n",
       "  </tbody>\n",
       "</table>\n",
       "</div>"
      ],
      "text/plain": [
       "   controlUnion                             Unnamed: 1        Unnamed: 2  \\\n",
       "0           NaN                            Institution  isMinority_Union   \n",
       "1           0.0                           Not Minority              7750   \n",
       "2           1.0     University of Washington - Seattle                66   \n",
       "3           2.0  University of Minnesota - Twin Cities                48   \n",
       "4           3.0      The University of Texas at Austin                35   \n",
       "\n",
       "    Unnamed: 3  \n",
       "0     MSI_Type  \n",
       "1  No MSI Type  \n",
       "2     AANAPISI  \n",
       "3     AANAPISI  \n",
       "4     AANAPISI  "
      ]
     },
     "execution_count": 115,
     "metadata": {},
     "output_type": "execute_result"
    }
   ],
   "source": [
    "remControl.head()"
   ]
  },
  {
   "cell_type": "code",
   "execution_count": null,
   "metadata": {},
   "outputs": [],
   "source": [
    "remMIMIC = remMIMIC.iloc[: , 1:]\n",
    "remMIMIC = remMIMIC.rename(columns=remMIMIC.iloc[0])\n",
    "remControl = remControl.iloc[: , 1:]\n",
    "remControl = remControl.rename(columns=remControl.iloc[0])\n",
    "remMIMIC = remMIMIC.iloc[1: , :]\n",
    "remControl = remControl.iloc[1: , :]\n",
    "remMIMIC = remMIMIC.iloc[1: , :]\n",
    "remControl = remControl.iloc[1: , :]"
   ]
  },
  {
   "cell_type": "markdown",
   "metadata": {},
   "source": [
    "#### below is MSI value counts for the control and compare datasets (union of 2020 and 2022) after manual cleaning process"
   ]
  },
  {
   "cell_type": "code",
   "execution_count": null,
   "metadata": {},
   "outputs": [
    {
     "name": "stdout",
     "output_type": "stream",
     "text": [
      "compare group not duplicate  2245\n",
      "control group not duplicated 4930\n",
      "3670\n",
      "7654\n"
     ]
    }
   ],
   "source": [
    "# Filter the DataFrame to show only non-duplicated records based on 'first_name' and 'last_name'.\n",
    "non_duplicated_compareData = mimic22[~mimic22[['first_name', 'last_name','researcher_id']].duplicated()]\n",
    "non_duplicated_controlData = control22[~control22[['first_name', 'last_name','researcher_id']].duplicated()]\n",
    "# print(\"Compare distinct author names with gender not none \",len(non_duplicated_authors_MIMIC[non_duplicated_authors_MIMIC.LMIC.notna()]))\n",
    "# print(\"Control distinct author names with gender not none \",len(non_duplicated_authors_Control[non_duplicated_authors_Control.LMIC.notna()]))\n",
    "# print(\"Compare distinct author names with gender not none \",len(non_duplicated_authors_MIMIC[non_duplicated_authors_MIMIC.LMIC=='Yes']))\n",
    "# print(\"Control distinct author names with gender not none \",len(non_duplicated_authors_Control[non_duplicated_authors_Control.LMIC=='Yes']))\n",
    "# print(547/8210)\n",
    "# print(590/16743)\n",
    "print(\"compare group not duplicate \",len(non_duplicated_compareData))\n",
    "print(\"control group not duplicated\", len(non_duplicated_controlData))\n",
    "print(len(mimic22[mimic22['MSI Type2022'].notna()]))\n",
    "print(len(control22[control22['MSI Type2022'].notna()]))"
   ]
  },
  {
   "cell_type": "code",
   "execution_count": null,
   "metadata": {},
   "outputs": [],
   "source": [
    "#removing the authors and their corresoponding data if they are not affiliated with a MSI\n",
    "#the following datasets are outputs of the previous MSI identification pipline\n",
    "mimic20 = mimic20[mimic20.Type2020 != \"Not Minority\"]\n",
    "mimic22 = mimic22[mimic22.Type2022 != \"Not Minority\"]\n",
    "control20 = control20[control20.Type2020 != \"Not Minority\"]\n",
    "control22 = control22[control22.Type2022 != \"Not Minority\"]"
   ]
  },
  {
   "cell_type": "markdown",
   "metadata": {},
   "source": [
    "#### the following is used to find which insititutions are affiliated MSIs (after cleaning)"
   ]
  },
  {
   "cell_type": "code",
   "execution_count": null,
   "metadata": {},
   "outputs": [],
   "source": [
    "mimicList = remMIMIC.Institution.values.tolist()\n",
    "controlList = remControl.Institution.values.tolist()\n",
    "mimInsti = mimic20.loc[mimic20['isMinority_2020'].isin(mimicList)]\n",
    "mimInsti2 = mimic22.loc[mimic22['isMinority_2022'].isin(mimicList)]\n",
    "controlInsti = control20.loc[control20['isMinority_2020'].isin(controlList)]\n",
    "controlInsti2 = control22.loc[control22['isMinority_2022'].isin(controlList)]"
   ]
  },
  {
   "cell_type": "code",
   "execution_count": null,
   "metadata": {},
   "outputs": [
    {
     "name": "stdout",
     "output_type": "stream",
     "text": [
      "Number of unique MSI inst in mimic 198\n",
      "MIMIC percentage 0.08971454463072044\n",
      "Number of unique MSI inst in control 288\n",
      "Control percentage  0.05860805860805861\n"
     ]
    }
   ],
   "source": [
    "print(\"Number of unique MSI inst in mimic\",len(mimInsti ))\n",
    "print(\"MIMIC percentage\",198 / 2207)\n",
    "print(\"Number of unique MSI inst in control\",len(controlInsti))\n",
    "print(\"Control percentage \", 288 / 4914)"
   ]
  },
  {
   "cell_type": "code",
   "execution_count": null,
   "metadata": {},
   "outputs": [],
   "source": [
    "# concatenating the 2020 and 2022 lists for control and compare\n",
    "controlMaster = pd.concat([controlInsti, controlInsti2], ignore_index = True)\n",
    "mimicMaster = pd.concat([mimInsti, mimInsti2], ignore_index = True)"
   ]
  },
  {
   "cell_type": "code",
   "execution_count": null,
   "metadata": {},
   "outputs": [],
   "source": [
    "mimicMaster['full_name'] = mimicMaster[['first_name', 'last_name']].apply(lambda x: ' '.join(x), axis=1)\n",
    "controlMaster['full_name'] = controlMaster[['first_name', 'last_name']].astype(str).apply(lambda x: ' '.join(x), axis=1)"
   ]
  },
  {
   "cell_type": "code",
   "execution_count": null,
   "metadata": {},
   "outputs": [],
   "source": [
    "#dropping duplicates to find distinct authors affiliated with MSIs\n",
    "controlMaster = controlMaster.drop_duplicates(subset = 'full_name', keep = 'first')\n",
    "mimicMaster = mimicMaster.drop_duplicates(subset = 'full_name', keep = 'first')"
   ]
  },
  {
   "cell_type": "code",
   "execution_count": null,
   "metadata": {},
   "outputs": [
    {
     "data": {
      "text/plain": [
       "gender\n",
       "male      135\n",
       "female     35\n",
       "Name: count, dtype: int64"
      ]
     },
     "execution_count": 124,
     "metadata": {},
     "output_type": "execute_result"
    }
   ],
   "source": [
    "mimicMaster['gender'].value_counts()"
   ]
  },
  {
   "cell_type": "code",
   "execution_count": null,
   "metadata": {},
   "outputs": [
    {
     "data": {
      "text/plain": [
       "gender\n",
       "male      163\n",
       "female     86\n",
       "Name: count, dtype: int64"
      ]
     },
     "execution_count": 125,
     "metadata": {},
     "output_type": "execute_result"
    }
   ],
   "source": [
    "controlMaster['gender'].value_counts()"
   ]
  },
  {
   "cell_type": "code",
   "execution_count": null,
   "metadata": {},
   "outputs": [],
   "source": [
    "controlMaster.to_csv('./GuruData/controlAuthors(d).csv')\n",
    "mimicMaster.to_csv('./GuruData/mimicAuthors(d).csv')"
   ]
  },
  {
   "cell_type": "code",
   "execution_count": null,
   "metadata": {},
   "outputs": [],
   "source": [
    "MIMIC_MSI = pd.read_csv('./GuruData/mimicAuthors(d).csv')\n",
    "Control_MSI = pd.read_csv('./GuruData/controlAuthors(d).csv')"
   ]
  },
  {
   "cell_type": "code",
   "execution_count": null,
   "metadata": {},
   "outputs": [
    {
     "name": "stdout",
     "output_type": "stream",
     "text": [
      "MSI Type2022\n",
      "AANAPISI        88\n",
      "Not Minority    47\n",
      "NASNTI          31\n",
      "HSI             21\n",
      "HBCU             3\n",
      "Name: count, dtype: int64\n",
      "190\n",
      "MSI Type2022\n",
      "AANAPISI        104\n",
      "Not Minority     91\n",
      "HSI              48\n",
      "NASNTI           34\n",
      "Name: count, dtype: int64\n",
      "277\n"
     ]
    }
   ],
   "source": [
    "\n",
    "print(MIMIC_MSI['MSI Type2022'].value_counts())\n",
    "print(len(MIMIC_MSI))\n",
    "print(Control_MSI['MSI Type2022'].value_counts())\n",
    "print(len(Control_MSI))"
   ]
  },
  {
   "cell_type": "code",
   "execution_count": null,
   "metadata": {},
   "outputs": [],
   "source": [
    "def isfloat(num):\n",
    "    try:\n",
    "        float(num)\n",
    "        return True\n",
    "    except ValueError:\n",
    "        return False\n",
    "\n",
    "def genderFind (x):\n",
    "    try:\n",
    "        gender = controlGender.loc[controlGender['full_name'] == x, 'gender'].iloc[0]\n",
    "    except IndexError:\n",
    "        gender = 'None'\n",
    "    return gender"
   ]
  },
  {
   "cell_type": "code",
   "execution_count": null,
   "metadata": {},
   "outputs": [],
   "source": [
    "# controlGender['full_name'] = controlGender[['first_name', 'last_name']].astype(str).apply(lambda x: ' '.join(x), axis=1)\n",
    "# controlGender['gender'].dropna()\n",
    "# controlMaster['gender'] = controlMaster['full_name'].apply(genderFind)"
   ]
  },
  {
   "cell_type": "code",
   "execution_count": null,
   "metadata": {},
   "outputs": [
    {
     "data": {
      "text/plain": [
       "gender\n",
       "male      163\n",
       "female     86\n",
       "Name: count, dtype: int64"
      ]
     },
     "execution_count": 74,
     "metadata": {},
     "output_type": "execute_result"
    }
   ],
   "source": [
    "# the control affil dataset I originially used didn't have genders so I used another dataset \n",
    "# which had the genders of the authors\n",
    "\n",
    "controlMaster['gender'].value_counts()"
   ]
  },
  {
   "cell_type": "markdown",
   "metadata": {},
   "source": [
    "## 3.2 First vs Last Authors Affiliated w/ MSIs"
   ]
  },
  {
   "cell_type": "code",
   "execution_count": null,
   "metadata": {},
   "outputs": [],
   "source": [
    "#list of authors affiliated with MSIs (after manual verification)\n",
    "mimic = pd.read_csv(\"./GuruData/mimicauthors(d).csv\")\n",
    "control = pd.read_csv(\"./GuruData/controlauthors(d).csv\")\n",
    "\n",
    "#these lists are used to find the author sequence (by research paper) \n",
    "# conAuth = pd.read_csv(\"./GuruData/control_group_auths_v2.csv\")\n",
    "# mimAuth = pd.read_csv(\"./GuruData/mimic_auths_v2.csv\")\n",
    "conAuth = Control_author.copy()\n",
    "mimAuth = MIMIC_author.copy()"
   ]
  },
  {
   "cell_type": "code",
   "execution_count": null,
   "metadata": {},
   "outputs": [],
   "source": [
    "mimAuth['authorSeq'] = 'Any'\n",
    "conAuth['authorSeq'] = 'Any'\n",
    "#adding sequence of authors for control\n",
    "# for i in range(21364): edited to length\n",
    "for i in range(len(conAuth)):\n",
    "    if i == 0:\n",
    "        conAuth.loc[0, 'authorSeq'] = 'First' \n",
    "    elif i == len(conAuth)-1:\n",
    "        conAuth.loc[len(conAuth), 'authorSeq'] = 'Last'\n",
    "    else:\n",
    "        if(conAuth.loc[i - 1, 'pub_id'] != conAuth.loc[i, 'pub_id']):\n",
    "            conAuth.loc[i, 'authorSeq'] = 'First'\n",
    "        elif(conAuth.loc[i + 1, 'pub_id'] != conAuth.loc[i, 'pub_id']):\n",
    "            conAuth.loc[i, 'authorSeq'] = 'Last'"
   ]
  },
  {
   "cell_type": "code",
   "execution_count": null,
   "metadata": {},
   "outputs": [],
   "source": [
    "#adding sequence of authors for compare\n",
    "# for i in range(13838): # edited to length\n",
    "for i in range(len(mimAuth)):\n",
    "    if i == 0:\n",
    "        mimAuth.loc[0, 'authorSeq'] = 'First' \n",
    "    elif i == len(mimAuth)-1:\n",
    "        mimAuth.loc[len(mimAuth), 'authorSeq'] = 'First'\n",
    "    else:\n",
    "        if(mimAuth.loc[i - 1, 'pub_id'] != mimAuth.loc[i, 'pub_id']):\n",
    "            mimAuth.loc[i, 'authorSeq'] = 'First'\n",
    "        elif(mimAuth.loc[i + 1, 'pub_id'] != mimAuth.loc[i, 'pub_id']):\n",
    "            mimAuth.loc[i, 'authorSeq'] = 'Last'\n"
   ]
  },
  {
   "cell_type": "code",
   "execution_count": null,
   "metadata": {},
   "outputs": [],
   "source": [
    "#adding rows for full names\n",
    "#some authors don't have a unique research id associated with them so this allows for a more accurate mapping\n",
    "conAuth['full_name'] = conAuth[['first_name', 'last_name']].astype(str).apply(lambda x: ' '.join(x), axis=1)\n",
    "mimAuth['full_name'] = mimAuth[['first_name', 'last_name']].astype(str).apply(lambda x: ' '.join(x), axis=1)"
   ]
  },
  {
   "cell_type": "code",
   "execution_count": null,
   "metadata": {},
   "outputs": [],
   "source": [
    "#function for mapping MSI affiliated authors with their correct position\n",
    "def authFindC (x):\n",
    "    try:\n",
    "        seq = conAuth.loc[conAuth['full_name'] == x, 'authorSeq'].iloc[0]\n",
    "    except IndexError:\n",
    "        seq = 'Any'\n",
    "    return seq\n",
    "\n",
    "def authFindM (x):\n",
    "    try:\n",
    "        seq = mimAuth.loc[mimAuth['full_name'] == x, 'authorSeq'].iloc[0]\n",
    "    except IndexError:\n",
    "        seq = 'Any'\n",
    "    return seq"
   ]
  },
  {
   "cell_type": "markdown",
   "metadata": {},
   "source": [
    "## 3.3  Results"
   ]
  },
  {
   "cell_type": "code",
   "execution_count": null,
   "metadata": {},
   "outputs": [],
   "source": [
    "import pandas as pd \n",
    "Control_affli = pd.read_csv(\"/Users/chenyuli/OpenScience/Code/OpenVsPrivateDatasets/MIMIC_Files/control_group_affils.csv\")\n",
    "MIMIC_affli = pd.read_csv(\"/Users/chenyuli/OpenScience/Code/OpenVsPrivateDatasets/MIMIC_Files/mimic_affils.csv\")\n",
    "controlT = Control_affli.copy()\n",
    "mimicT = MIMIC_affli.copy()\n",
    "mimic = pd.read_csv(\"./GuruData/mimicAuthors(d).csv\")\n",
    "control = pd.read_csv(\"./GuruData/controlAuthors(d).csv\")"
   ]
  },
  {
   "cell_type": "code",
   "execution_count": null,
   "metadata": {},
   "outputs": [
    {
     "data": {
      "text/plain": [
       "249"
      ]
     },
     "execution_count": 3,
     "metadata": {},
     "output_type": "execute_result"
    }
   ],
   "source": [
    "len(control[control['gender'].notna()])"
   ]
  },
  {
   "cell_type": "code",
   "execution_count": null,
   "metadata": {},
   "outputs": [
    {
     "name": "stdout",
     "output_type": "stream",
     "text": [
      "control group affiliated with an MSI: 277\n",
      "control group MSI with none missing gender: 249\n",
      "gender\n",
      "male      163\n",
      "female     86\n",
      "Name: count, dtype: int64\n",
      "percentage of female in control group MSI with non missing gender  0.3453815261044177\n",
      "compare group affiliated with an MSI: 190\n",
      "compare group MSI with none missing gener: 170\n",
      "gender\n",
      "male      135\n",
      "female     35\n",
      "Name: count, dtype: int64\n",
      "percentage of female in compare group MSI with non missing gender  0.20588235294117646\n"
     ]
    }
   ],
   "source": [
    "print(\"control group affiliated with an MSI:\",len(control))\n",
    "print(\"control group MSI with none missing gender:\",len(control[control['gender'].notna()]))\n",
    "print(control['gender'].value_counts())\n",
    "print(\"percentage of female in control group MSI with non missing gender \",86/249)\n",
    "print(\"compare group affiliated with an MSI:\",len(mimic))\n",
    "print(\"compare group MSI with none missing gener:\",len(mimic[mimic['gender'].notna()]))\n",
    "print(mimic['gender'].value_counts())\n",
    "print(\"percentage of female in compare group MSI with non missing gender \",35/170)"
   ]
  },
  {
   "cell_type": "code",
   "execution_count": null,
   "metadata": {},
   "outputs": [
    {
     "name": "stdout",
     "output_type": "stream",
     "text": [
      "t-statistic: 3.122347485376335\n",
      "p-value: 0.0019191384581570793\n"
     ]
    }
   ],
   "source": [
    "# Control group data\n",
    "control_total = 249\n",
    "control_females = 86\n",
    "\n",
    "# Compare (treatment) group data\n",
    "compare_total = 170\n",
    "compare_females = 35\n",
    "\n",
    "# Create arrays for the control and compare groups\n",
    "control_data = np.array([1] * control_females + [0] * (control_total - control_females))\n",
    "compare_data = np.array([1] * compare_females + [0] * (compare_total - compare_females))\n",
    "\n",
    "# Perform the t-test\n",
    "t_stat, p_value = ttest_ind(control_data, compare_data)\n",
    "\n",
    "print(\"t-statistic:\", t_stat)\n",
    "print(\"p-value:\", p_value)"
   ]
  },
  {
   "cell_type": "code",
   "execution_count": null,
   "metadata": {},
   "outputs": [],
   "source": [
    "\n",
    "# Proportions provided\n",
    "mimic_proportion = 6.24 / 100\n",
    "control_proportion = 3.77 / 100\n",
    "\n",
    "# Total number of papers with non-missing gender and LMIC status information\n",
    "mimic_total_papers = 945\n",
    "control_total_papers = 1698\n",
    "\n",
    "# Calculate the number of papers with at least one woman and one LMIC-based researcher among the authors\n",
    "mimic_papers_count = int(mimic_total_papers * mimic_proportion)\n",
    "control_papers_count = int(control_total_papers * control_proportion)\n",
    "\n",
    "# Perform the two-proportion Z-test\n",
    "z_stat, p_value = proportions_ztest([mimic_papers_count, control_papers_count],\n",
    "                                    [mimic_total_papers, control_total_papers],\n",
    "                                    alternative='larger')\n",
    "\n",
    "print(f\"one-sided Two-proportion Z-test:{z_stat} p-value = {p_value:.4f}\")"
   ]
  },
  {
   "cell_type": "code",
   "execution_count": null,
   "metadata": {},
   "outputs": [
    {
     "ename": "NameError",
     "evalue": "name 'conAuth' is not defined",
     "output_type": "error",
     "traceback": [
      "\u001b[0;31m---------------------------------------------------------------------------\u001b[0m",
      "\u001b[0;31mNameError\u001b[0m                                 Traceback (most recent call last)",
      "Cell \u001b[0;32mIn[8], line 1\u001b[0m\n\u001b[0;32m----> 1\u001b[0m control[\u001b[38;5;124m'\u001b[39m\u001b[38;5;124mauthorSeq\u001b[39m\u001b[38;5;124m'\u001b[39m] \u001b[38;5;241m=\u001b[39m \u001b[43mcontrol\u001b[49m\u001b[43m[\u001b[49m\u001b[38;5;124;43m'\u001b[39;49m\u001b[38;5;124;43mfull_name\u001b[39;49m\u001b[38;5;124;43m'\u001b[39;49m\u001b[43m]\u001b[49m\u001b[38;5;241;43m.\u001b[39;49m\u001b[43mapply\u001b[49m\u001b[43m(\u001b[49m\u001b[43mauthFindC\u001b[49m\u001b[43m)\u001b[49m\n\u001b[1;32m      2\u001b[0m control[\u001b[38;5;124m'\u001b[39m\u001b[38;5;124mauthorSeq\u001b[39m\u001b[38;5;124m'\u001b[39m]\u001b[38;5;241m.\u001b[39mvalue_counts()\n",
      "File \u001b[0;32m~/anaconda3/envs/py3/lib/python3.11/site-packages/pandas/core/series.py:4760\u001b[0m, in \u001b[0;36mSeries.apply\u001b[0;34m(self, func, convert_dtype, args, by_row, **kwargs)\u001b[0m\n\u001b[1;32m   4625\u001b[0m \u001b[38;5;28;01mdef\u001b[39;00m \u001b[38;5;21mapply\u001b[39m(\n\u001b[1;32m   4626\u001b[0m     \u001b[38;5;28mself\u001b[39m,\n\u001b[1;32m   4627\u001b[0m     func: AggFuncType,\n\u001b[0;32m   (...)\u001b[0m\n\u001b[1;32m   4632\u001b[0m     \u001b[38;5;241m*\u001b[39m\u001b[38;5;241m*\u001b[39mkwargs,\n\u001b[1;32m   4633\u001b[0m ) \u001b[38;5;241m-\u001b[39m\u001b[38;5;241m>\u001b[39m DataFrame \u001b[38;5;241m|\u001b[39m Series:\n\u001b[1;32m   4634\u001b[0m \u001b[38;5;250m    \u001b[39m\u001b[38;5;124;03m\"\"\"\u001b[39;00m\n\u001b[1;32m   4635\u001b[0m \u001b[38;5;124;03m    Invoke function on values of Series.\u001b[39;00m\n\u001b[1;32m   4636\u001b[0m \n\u001b[0;32m   (...)\u001b[0m\n\u001b[1;32m   4751\u001b[0m \u001b[38;5;124;03m    dtype: float64\u001b[39;00m\n\u001b[1;32m   4752\u001b[0m \u001b[38;5;124;03m    \"\"\"\u001b[39;00m\n\u001b[1;32m   4753\u001b[0m     \u001b[38;5;28;01mreturn\u001b[39;00m \u001b[43mSeriesApply\u001b[49m\u001b[43m(\u001b[49m\n\u001b[1;32m   4754\u001b[0m \u001b[43m        \u001b[49m\u001b[38;5;28;43mself\u001b[39;49m\u001b[43m,\u001b[49m\n\u001b[1;32m   4755\u001b[0m \u001b[43m        \u001b[49m\u001b[43mfunc\u001b[49m\u001b[43m,\u001b[49m\n\u001b[1;32m   4756\u001b[0m \u001b[43m        \u001b[49m\u001b[43mconvert_dtype\u001b[49m\u001b[38;5;241;43m=\u001b[39;49m\u001b[43mconvert_dtype\u001b[49m\u001b[43m,\u001b[49m\n\u001b[1;32m   4757\u001b[0m \u001b[43m        \u001b[49m\u001b[43mby_row\u001b[49m\u001b[38;5;241;43m=\u001b[39;49m\u001b[43mby_row\u001b[49m\u001b[43m,\u001b[49m\n\u001b[1;32m   4758\u001b[0m \u001b[43m        \u001b[49m\u001b[43margs\u001b[49m\u001b[38;5;241;43m=\u001b[39;49m\u001b[43margs\u001b[49m\u001b[43m,\u001b[49m\n\u001b[1;32m   4759\u001b[0m \u001b[43m        \u001b[49m\u001b[43mkwargs\u001b[49m\u001b[38;5;241;43m=\u001b[39;49m\u001b[43mkwargs\u001b[49m\u001b[43m,\u001b[49m\n\u001b[0;32m-> 4760\u001b[0m \u001b[43m    \u001b[49m\u001b[43m)\u001b[49m\u001b[38;5;241;43m.\u001b[39;49m\u001b[43mapply\u001b[49m\u001b[43m(\u001b[49m\u001b[43m)\u001b[49m\n",
      "File \u001b[0;32m~/anaconda3/envs/py3/lib/python3.11/site-packages/pandas/core/apply.py:1207\u001b[0m, in \u001b[0;36mSeriesApply.apply\u001b[0;34m(self)\u001b[0m\n\u001b[1;32m   1204\u001b[0m     \u001b[38;5;28;01mreturn\u001b[39;00m \u001b[38;5;28mself\u001b[39m\u001b[38;5;241m.\u001b[39mapply_compat()\n\u001b[1;32m   1206\u001b[0m \u001b[38;5;66;03m# self.func is Callable\u001b[39;00m\n\u001b[0;32m-> 1207\u001b[0m \u001b[38;5;28;01mreturn\u001b[39;00m \u001b[38;5;28;43mself\u001b[39;49m\u001b[38;5;241;43m.\u001b[39;49m\u001b[43mapply_standard\u001b[49m\u001b[43m(\u001b[49m\u001b[43m)\u001b[49m\n",
      "File \u001b[0;32m~/anaconda3/envs/py3/lib/python3.11/site-packages/pandas/core/apply.py:1287\u001b[0m, in \u001b[0;36mSeriesApply.apply_standard\u001b[0;34m(self)\u001b[0m\n\u001b[1;32m   1281\u001b[0m \u001b[38;5;66;03m# row-wise access\u001b[39;00m\n\u001b[1;32m   1282\u001b[0m \u001b[38;5;66;03m# apply doesn't have a `na_action` keyword and for backward compat reasons\u001b[39;00m\n\u001b[1;32m   1283\u001b[0m \u001b[38;5;66;03m# we need to give `na_action=\"ignore\"` for categorical data.\u001b[39;00m\n\u001b[1;32m   1284\u001b[0m \u001b[38;5;66;03m# TODO: remove the `na_action=\"ignore\"` when that default has been changed in\u001b[39;00m\n\u001b[1;32m   1285\u001b[0m \u001b[38;5;66;03m#  Categorical (GH51645).\u001b[39;00m\n\u001b[1;32m   1286\u001b[0m action \u001b[38;5;241m=\u001b[39m \u001b[38;5;124m\"\u001b[39m\u001b[38;5;124mignore\u001b[39m\u001b[38;5;124m\"\u001b[39m \u001b[38;5;28;01mif\u001b[39;00m \u001b[38;5;28misinstance\u001b[39m(obj\u001b[38;5;241m.\u001b[39mdtype, CategoricalDtype) \u001b[38;5;28;01melse\u001b[39;00m \u001b[38;5;28;01mNone\u001b[39;00m\n\u001b[0;32m-> 1287\u001b[0m mapped \u001b[38;5;241m=\u001b[39m \u001b[43mobj\u001b[49m\u001b[38;5;241;43m.\u001b[39;49m\u001b[43m_map_values\u001b[49m\u001b[43m(\u001b[49m\n\u001b[1;32m   1288\u001b[0m \u001b[43m    \u001b[49m\u001b[43mmapper\u001b[49m\u001b[38;5;241;43m=\u001b[39;49m\u001b[43mcurried\u001b[49m\u001b[43m,\u001b[49m\u001b[43m \u001b[49m\u001b[43mna_action\u001b[49m\u001b[38;5;241;43m=\u001b[39;49m\u001b[43maction\u001b[49m\u001b[43m,\u001b[49m\u001b[43m \u001b[49m\u001b[43mconvert\u001b[49m\u001b[38;5;241;43m=\u001b[39;49m\u001b[38;5;28;43mself\u001b[39;49m\u001b[38;5;241;43m.\u001b[39;49m\u001b[43mconvert_dtype\u001b[49m\n\u001b[1;32m   1289\u001b[0m \u001b[43m\u001b[49m\u001b[43m)\u001b[49m\n\u001b[1;32m   1291\u001b[0m \u001b[38;5;28;01mif\u001b[39;00m \u001b[38;5;28mlen\u001b[39m(mapped) \u001b[38;5;129;01mand\u001b[39;00m \u001b[38;5;28misinstance\u001b[39m(mapped[\u001b[38;5;241m0\u001b[39m], ABCSeries):\n\u001b[1;32m   1292\u001b[0m     \u001b[38;5;66;03m# GH#43986 Need to do list(mapped) in order to get treated as nested\u001b[39;00m\n\u001b[1;32m   1293\u001b[0m     \u001b[38;5;66;03m#  See also GH#25959 regarding EA support\u001b[39;00m\n\u001b[1;32m   1294\u001b[0m     \u001b[38;5;28;01mreturn\u001b[39;00m obj\u001b[38;5;241m.\u001b[39m_constructor_expanddim(\u001b[38;5;28mlist\u001b[39m(mapped), index\u001b[38;5;241m=\u001b[39mobj\u001b[38;5;241m.\u001b[39mindex)\n",
      "File \u001b[0;32m~/anaconda3/envs/py3/lib/python3.11/site-packages/pandas/core/base.py:921\u001b[0m, in \u001b[0;36mIndexOpsMixin._map_values\u001b[0;34m(self, mapper, na_action, convert)\u001b[0m\n\u001b[1;32m    918\u001b[0m \u001b[38;5;28;01mif\u001b[39;00m \u001b[38;5;28misinstance\u001b[39m(arr, ExtensionArray):\n\u001b[1;32m    919\u001b[0m     \u001b[38;5;28;01mreturn\u001b[39;00m arr\u001b[38;5;241m.\u001b[39mmap(mapper, na_action\u001b[38;5;241m=\u001b[39mna_action)\n\u001b[0;32m--> 921\u001b[0m \u001b[38;5;28;01mreturn\u001b[39;00m \u001b[43malgorithms\u001b[49m\u001b[38;5;241;43m.\u001b[39;49m\u001b[43mmap_array\u001b[49m\u001b[43m(\u001b[49m\u001b[43marr\u001b[49m\u001b[43m,\u001b[49m\u001b[43m \u001b[49m\u001b[43mmapper\u001b[49m\u001b[43m,\u001b[49m\u001b[43m \u001b[49m\u001b[43mna_action\u001b[49m\u001b[38;5;241;43m=\u001b[39;49m\u001b[43mna_action\u001b[49m\u001b[43m,\u001b[49m\u001b[43m \u001b[49m\u001b[43mconvert\u001b[49m\u001b[38;5;241;43m=\u001b[39;49m\u001b[43mconvert\u001b[49m\u001b[43m)\u001b[49m\n",
      "File \u001b[0;32m~/anaconda3/envs/py3/lib/python3.11/site-packages/pandas/core/algorithms.py:1814\u001b[0m, in \u001b[0;36mmap_array\u001b[0;34m(arr, mapper, na_action, convert)\u001b[0m\n\u001b[1;32m   1812\u001b[0m values \u001b[38;5;241m=\u001b[39m arr\u001b[38;5;241m.\u001b[39mastype(\u001b[38;5;28mobject\u001b[39m, copy\u001b[38;5;241m=\u001b[39m\u001b[38;5;28;01mFalse\u001b[39;00m)\n\u001b[1;32m   1813\u001b[0m \u001b[38;5;28;01mif\u001b[39;00m na_action \u001b[38;5;129;01mis\u001b[39;00m \u001b[38;5;28;01mNone\u001b[39;00m:\n\u001b[0;32m-> 1814\u001b[0m     \u001b[38;5;28;01mreturn\u001b[39;00m \u001b[43mlib\u001b[49m\u001b[38;5;241;43m.\u001b[39;49m\u001b[43mmap_infer\u001b[49m\u001b[43m(\u001b[49m\u001b[43mvalues\u001b[49m\u001b[43m,\u001b[49m\u001b[43m \u001b[49m\u001b[43mmapper\u001b[49m\u001b[43m,\u001b[49m\u001b[43m \u001b[49m\u001b[43mconvert\u001b[49m\u001b[38;5;241;43m=\u001b[39;49m\u001b[43mconvert\u001b[49m\u001b[43m)\u001b[49m\n\u001b[1;32m   1815\u001b[0m \u001b[38;5;28;01melse\u001b[39;00m:\n\u001b[1;32m   1816\u001b[0m     \u001b[38;5;28;01mreturn\u001b[39;00m lib\u001b[38;5;241m.\u001b[39mmap_infer_mask(\n\u001b[1;32m   1817\u001b[0m         values, mapper, mask\u001b[38;5;241m=\u001b[39misna(values)\u001b[38;5;241m.\u001b[39mview(np\u001b[38;5;241m.\u001b[39muint8), convert\u001b[38;5;241m=\u001b[39mconvert\n\u001b[1;32m   1818\u001b[0m     )\n",
      "File \u001b[0;32mlib.pyx:2917\u001b[0m, in \u001b[0;36mpandas._libs.lib.map_infer\u001b[0;34m()\u001b[0m\n",
      "Cell \u001b[0;32mIn[7], line 4\u001b[0m, in \u001b[0;36mauthFindC\u001b[0;34m(x)\u001b[0m\n\u001b[1;32m      2\u001b[0m \u001b[38;5;28;01mdef\u001b[39;00m \u001b[38;5;21mauthFindC\u001b[39m (x):\n\u001b[1;32m      3\u001b[0m     \u001b[38;5;28;01mtry\u001b[39;00m:\n\u001b[0;32m----> 4\u001b[0m         seq \u001b[38;5;241m=\u001b[39m \u001b[43mconAuth\u001b[49m\u001b[38;5;241m.\u001b[39mloc[conAuth[\u001b[38;5;124m'\u001b[39m\u001b[38;5;124mfull_name\u001b[39m\u001b[38;5;124m'\u001b[39m] \u001b[38;5;241m==\u001b[39m x, \u001b[38;5;124m'\u001b[39m\u001b[38;5;124mauthorSeq\u001b[39m\u001b[38;5;124m'\u001b[39m]\u001b[38;5;241m.\u001b[39miloc[\u001b[38;5;241m0\u001b[39m]\n\u001b[1;32m      5\u001b[0m     \u001b[38;5;28;01mexcept\u001b[39;00m \u001b[38;5;167;01mIndexError\u001b[39;00m:\n\u001b[1;32m      6\u001b[0m         seq \u001b[38;5;241m=\u001b[39m \u001b[38;5;124m'\u001b[39m\u001b[38;5;124mAny\u001b[39m\u001b[38;5;124m'\u001b[39m\n",
      "\u001b[0;31mNameError\u001b[0m: name 'conAuth' is not defined"
     ]
    }
   ],
   "source": [
    "\n",
    "control['authorSeq'] = control['full_name'].apply(authFindC)\n",
    "control['authorSeq'].value_counts()"
   ]
  },
  {
   "cell_type": "code",
   "execution_count": null,
   "metadata": {},
   "outputs": [
    {
     "name": "stdout",
     "output_type": "stream",
     "text": [
      "t-statistic: -0.8130477582573143\n",
      "p-value: 0.4162884280401543\n"
     ]
    }
   ],
   "source": [
    "\n",
    "# Sample size and proportions\n",
    "Control_total_papers = 991\n",
    "Control_first_author_msi = 47\n",
    "Control_last_author_msi = 55\n",
    "\n",
    "# Create arrays representing 'successes' (MSI affiliation) and 'failures'\n",
    "Control_first_author_data = np.array([1] * Control_first_author_msi + [0] * (Control_total_papers - Control_first_author_msi))\n",
    "Control_last_author_data = np.array([1] * Control_last_author_msi + [0] * (Control_total_papers - Control_last_author_msi))\n",
    "\n",
    "# Perform the t-test\n",
    "t_stat, p_value = ttest_ind(Control_first_author_data, Control_last_author_data)\n",
    "\n",
    "print(\"t-statistic:\", t_stat)\n",
    "print(\"p-value:\", p_value)\n"
   ]
  },
  {
   "cell_type": "code",
   "execution_count": null,
   "metadata": {},
   "outputs": [
    {
     "data": {
      "text/plain": [
       "authorSeq\n",
       "Any      126\n",
       "First     36\n",
       "Last      28\n",
       "Name: count, dtype: int64"
      ]
     },
     "execution_count": 84,
     "metadata": {},
     "output_type": "execute_result"
    }
   ],
   "source": [
    "mimic['authorSeq'] = mimic['full_name'].apply(authFindM)\n",
    "mimic['authorSeq'].value_counts()"
   ]
  },
  {
   "cell_type": "code",
   "execution_count": null,
   "metadata": {},
   "outputs": [
    {
     "name": "stdout",
     "output_type": "stream",
     "text": [
      "t-statistic: 1.0365231137264892\n",
      "p-value: 0.30023351206795956\n"
     ]
    }
   ],
   "source": [
    "\n",
    "# Sample size and proportions\n",
    "MIMIC_total_papers = 456\n",
    "MIMIC_first_author_msi = 36\n",
    "MIMIC_last_author_msi = 28\n",
    "\n",
    "# Create arrays representing 'successes' (MSI affiliation) and 'failures'\n",
    "MIMIC_first_author_data = np.array([1] * MIMIC_first_author_msi + [0] * (MIMIC_total_papers - MIMIC_first_author_msi))\n",
    "MIMIC_last_author_data = np.array([1] * MIMIC_last_author_msi + [0] * (MIMIC_total_papers - MIMIC_last_author_msi))\n",
    "\n",
    "# Perform the t-test\n",
    "t_stat, p_value = ttest_ind(MIMIC_first_author_data, MIMIC_last_author_data)\n",
    "\n",
    "print(\"t-statistic:\", t_stat)\n",
    "print(\"p-value:\", p_value)\n"
   ]
  },
  {
   "cell_type": "code",
   "execution_count": null,
   "metadata": {},
   "outputs": [
    {
     "name": "stdout",
     "output_type": "stream",
     "text": [
      "0.055499495459132187\n",
      "0.06140350877192982\n",
      "First Authors - t-statistic: 2.3986301459415027 p-value: 0.016582631184694652\n",
      "Last Authors - t-statistic: 0.44841949376150836 p-value: 0.6539177052404528\n"
     ]
    }
   ],
   "source": [
    "\n",
    "# MIMIC group data for first and last authors\n",
    "MIMIC_total_papers = 456\n",
    "MIMIC_first_author_msi = 36\n",
    "MIMIC_last_author_msi = 28\n",
    "\n",
    "# Control group data for first and last authors\n",
    "Control_total_papers = 991\n",
    "Control_first_author_msi = 47\n",
    "Control_last_author_msi = 55\n",
    "\n",
    "# Create arrays for first authors\n",
    "MIMIC_first_author_data = np.array([1] * MIMIC_first_author_msi + [0] * (MIMIC_total_papers - MIMIC_first_author_msi))\n",
    "Control_first_author_data = np.array([1] * Control_first_author_msi + [0] * (Control_total_papers - Control_first_author_msi))\n",
    "\n",
    "# Create arrays for last authors\n",
    "MIMIC_last_author_data = np.array([1] * MIMIC_last_author_msi + [0] * (MIMIC_total_papers - MIMIC_last_author_msi))\n",
    "Control_last_author_data = np.array([1] * Control_last_author_msi + [0] * (Control_total_papers - Control_last_author_msi))\n",
    "print(Control_last_author_msi/Control_total_papers)\n",
    "print(MIMIC_last_author_msi/MIMIC_total_papers)\n",
    "# Perform the t-tests\n",
    "t_stat_first, p_value_first = ttest_ind(MIMIC_first_author_data, Control_first_author_data)\n",
    "t_stat_last, p_value_last = ttest_ind(MIMIC_last_author_data, Control_last_author_data)\n",
    "\n",
    "print(\"First Authors - t-statistic:\", t_stat_first, \"p-value:\", p_value_first)\n",
    "print(\"Last Authors - t-statistic:\", t_stat_last, \"p-value:\", p_value_last)\n"
   ]
  },
  {
   "cell_type": "code",
   "execution_count": null,
   "metadata": {},
   "outputs": [],
   "source": [
    "control['full_name'] = control[['first_name', 'last_name']].astype(str).apply(lambda x: ' '.join(x), axis=1)\n",
    "mimic['full_name'] = mimic[['first_name', 'last_name']].astype(str).apply(lambda x: ' '.join(x), axis=1)"
   ]
  },
  {
   "cell_type": "code",
   "execution_count": null,
   "metadata": {},
   "outputs": [],
   "source": [
    "controlList = control.full_name.values.tolist()\n",
    "mimicList = mimic.full_name.values.tolist()"
   ]
  },
  {
   "cell_type": "code",
   "execution_count": null,
   "metadata": {},
   "outputs": [],
   "source": [
    "controlT['full_name'] = controlT[['first_name', 'last_name']].astype(str).apply(lambda x: ' '.join(x), axis=1)\n",
    "mimicT['full_name'] = mimicT[['first_name', 'last_name']].astype(str).apply(lambda x: ' '.join(x), axis=1)"
   ]
  },
  {
   "cell_type": "code",
   "execution_count": null,
   "metadata": {},
   "outputs": [],
   "source": [
    "#mapping the list of authors affiliated with MSIs to the overall datasets in order to do t-tests on the entire author population\n",
    "def isMinCon (x):\n",
    "    if x in controlList:\n",
    "        return 1\n",
    "    else:\n",
    "        return 0\n",
    "def isMinMim (x):\n",
    "    if x in mimicList:\n",
    "        return 1\n",
    "    else:\n",
    "        return 0"
   ]
  },
  {
   "cell_type": "code",
   "execution_count": null,
   "metadata": {},
   "outputs": [],
   "source": [
    "controlT['minority'] = controlT['full_name'].apply(isMinCon)\n",
    "mimicT['minority'] = mimicT['full_name'].apply(isMinMim)"
   ]
  },
  {
   "cell_type": "markdown",
   "metadata": {},
   "source": [
    "### T-Test for First vs Last Author Distribution"
   ]
  },
  {
   "cell_type": "code",
   "execution_count": null,
   "metadata": {},
   "outputs": [],
   "source": [
    "controlT['authorSeq'] = 'Any'\n",
    "mimicT['authorSeq'] = 'Any'"
   ]
  },
  {
   "cell_type": "code",
   "execution_count": null,
   "metadata": {},
   "outputs": [],
   "source": [
    "#adding author sequence to overall datastes\n",
    "for i in range(mimicT.shape[0]):\n",
    "    if i == 0:\n",
    "        mimicT.loc[0, 'authorSeq'] = 'First' \n",
    "    elif i == mimicT.shape[0] - 1:\n",
    "        mimicT.loc[mimicT.shape[0] - 1, 'authorSeq'] = 'First'\n",
    "    else:\n",
    "        if(mimicT.loc[i - 1, 'pub_id'] != mimicT.loc[i, 'pub_id']):\n",
    "            mimicT.loc[i, 'authorSeq'] = 'First'\n",
    "        elif(mimicT.loc[i + 1, 'pub_id'] != mimicT.loc[i, 'pub_id']):\n",
    "            mimicT.loc[i, 'authorSeq'] = 'Last'\n",
    "\n",
    "for i in range(controlT.shape[0]):\n",
    "    if i == 0:\n",
    "        controlT.loc[0, 'authorSeq'] = 'First' \n",
    "    elif i == controlT.shape[0] - 1:\n",
    "        controlT.loc[controlT.shape[0] - 1, 'authorSeq'] = 'First'\n",
    "    else:\n",
    "        if(controlT.loc[i - 1, 'pub_id'] != controlT.loc[i, 'pub_id']):\n",
    "            controlT.loc[i, 'authorSeq'] = 'First'\n",
    "        elif(controlT.loc[i + 1, 'pub_id'] != controlT.loc[i, 'pub_id']):\n",
    "            controlT.loc[i, 'authorSeq'] = 'Last'\n",
    "\n",
    "        "
   ]
  },
  {
   "cell_type": "code",
   "execution_count": null,
   "metadata": {},
   "outputs": [],
   "source": [
    "mimicT['firstSeq'] = (mimicT['minority'] == 1) & (mimicT['authorSeq'] == 'First')\n",
    "mimicT['firstSeq'] = mimicT['firstSeq'].astype(int)\n",
    "controlT['firstSeq'] = (controlT['minority'] == 1) & (controlT['authorSeq'] == 'First')\n",
    "controlT['firstSeq'] = controlT['firstSeq'].astype(int)"
   ]
  },
  {
   "cell_type": "code",
   "execution_count": null,
   "metadata": {},
   "outputs": [],
   "source": [
    "mimicT['lastSeq'] = (mimicT['minority'] == 1) & (mimicT['authorSeq'] == 'Last')\n",
    "controlT['lastSeq'] = (controlT['minority'] == 1) & (controlT['authorSeq'] == 'Last')\n",
    "mimicT['lastSeq'] = mimicT['lastSeq'].astype(int)\n",
    "controlT['lastSeq'] = controlT['lastSeq'].astype(int)"
   ]
  },
  {
   "cell_type": "code",
   "execution_count": null,
   "metadata": {},
   "outputs": [
    {
     "name": "stdout",
     "output_type": "stream",
     "text": [
      "proportion MIMIC 0.27631578947368424\n",
      "proportion control 0.17658930373360243\n",
      "Any author Z-test: any MSI - Z statistic: 4.3420, p-value: 0.0000\n",
      "proportion MIMIC 0.07894736842105263\n",
      "proportion control 0.04742684157416751\n",
      "First author Z-test: MSI-first - Z statistic: 2.3955, p-value: 0.0083\n",
      "proportion MIMIC 0.06140350877192982\n",
      "proportion control 0.055499495459132187\n",
      "Last author Z-test: MSI-last - Z statistic: 0.4487, p-value: 0.3268\n",
      "First-Last author Z-test for Control: Z statistic: -0.8133, p-value: 0.2080\n",
      "First-Last author Z-test for Compare: Z statistic: 1.0370, p-value: 0.1499\n",
      "control compare MSI-gender differences: -3.0939, p-value: 0.9990\n"
     ]
    }
   ],
   "source": [
    "from statsmodels.stats.proportion import proportions_ztest\n",
    "len_all_MSI_mimic  = 456\n",
    "len_all_MSI_control = 991\n",
    "\n",
    "count_compare = 126\n",
    "count_control = 175\n",
    "print(\"proportion MIMIC\", count_compare/len_all_MSI_mimic)\n",
    "print(\"proportion control\", count_control/len_all_MSI_control)\n",
    "\n",
    "z_stat, p_value = proportions_ztest([count_compare, count_control], [len_all_MSI_mimic, len_all_MSI_control ], alternative='larger')\n",
    "print(f\"Any author Z-test: any MSI - Z statistic: {z_stat:.4f}, p-value: {p_value:.4f}\")\n",
    "\n",
    "count_compare = 36\n",
    "count_control = 47\n",
    "print(\"proportion MIMIC\", count_compare/len_all_MSI_mimic)\n",
    "print(\"proportion control\", count_control/len_all_MSI_control)\n",
    "\n",
    "z_stat, p_value = proportions_ztest([count_compare, count_control], [len_all_MSI_mimic, len_all_MSI_control ], alternative='larger')\n",
    "print(f\"First author Z-test: MSI-first - Z statistic: {z_stat:.4f}, p-value: {p_value:.4f}\")\n",
    "\n",
    "count_compare = 28\n",
    "count_control = 55\n",
    "print(\"proportion MIMIC\", count_compare/len_all_MSI_mimic)\n",
    "print(\"proportion control\", count_control/len_all_MSI_control)\n",
    "\n",
    "z_stat, p_value = proportions_ztest([count_compare, count_control], [len_all_MSI_mimic, len_all_MSI_control ], alternative='larger')\n",
    "print(f\"Last author Z-test: MSI-last - Z statistic: {z_stat:.4f}, p-value: {p_value:.4f}\")\n",
    "\n",
    "### test first vs last for control  \n",
    "any_first = 47\n",
    "any_last = 55\n",
    "z_stat, p_value = proportions_ztest([any_first, any_last], [len_all_MSI_control, len_all_MSI_control ], alternative='smaller')\n",
    "print(f\"First-Last author Z-test for Control: Z statistic: {z_stat:.4f}, p-value: {p_value:.4f}\")\n",
    "### test first vs last for Compare  \n",
    "any_first = 36\n",
    "any_last = 28\n",
    "z_stat, p_value = proportions_ztest([any_first, any_last], [len_all_MSI_mimic, len_all_MSI_mimic ], alternative='larger')\n",
    "print(f\"First-Last author Z-test for Compare: Z statistic: {z_stat:.4f}, p-value: {p_value:.4f}\")\n",
    "\n",
    "compare_female = 35\n",
    "compare_gender_nomissing = 170\n",
    "control_female = 86\n",
    "control_gender_nomissing = 249\n",
    "\n",
    "z_stat, p_value = proportions_ztest([compare_female, control_female], [compare_gender_nomissing, control_gender_nomissing ], alternative='larger')\n",
    "print(f\"control compare MSI-gender differences: {z_stat:.4f}, p-value: {p_value:.4f}\")\n"
   ]
  },
  {
   "cell_type": "code",
   "execution_count": null,
   "metadata": {},
   "outputs": [
    {
     "name": "stdout",
     "output_type": "stream",
     "text": [
      "mimic [0.27631578947368424, 0.07894736842105263, 0.06140350877192982]\n",
      "control [0.17658930373360243, 0.04742684157416751, 0.055499495459132187]\n",
      "Comparison 1 - t statistic: 94.6679, p-value: 0.0000\n",
      "Comparison 2 - t statistic: 50.1084, p-value: 0.0000\n",
      "Comparison 3 - t statistic: 10.2691, p-value: 0.0000\n"
     ]
    }
   ],
   "source": [
    "import scipy.stats as stats\n",
    "\n",
    "# Sample sizes and counts\n",
    "len_all_MSI_mimic = 456\n",
    "len_all_MSI_control = 991\n",
    "count_compare = [126, 36, 28]  # Different counts for different comparisons\n",
    "count_control = [175, 47, 55]\n",
    "\n",
    "# Proportions for both groups\n",
    "proportion_mimic = [count / len_all_MSI_mimic for count in count_compare]\n",
    "print(\"mimic\",proportion_mimic)\n",
    "proportion_control = [count / len_all_MSI_control for count in count_control]\n",
    "print('control',proportion_control)\n",
    "\n",
    "# Standard errors for both groups\n",
    "std_error_mimic = [(prop * (1 - prop) / len_all_MSI_mimic)**0.5 for prop in proportion_mimic]\n",
    "std_error_control = [(prop * (1 - prop) / len_all_MSI_control)**0.5 for prop in proportion_control]\n",
    "\n",
    "# Conduct t-tests\n",
    "for i in range(len(count_compare)):\n",
    "    t_stat, p_value = stats.ttest_ind_from_stats(\n",
    "        mean1=proportion_mimic[i], std1=std_error_mimic[i], nobs1=len_all_MSI_mimic,\n",
    "        mean2=proportion_control[i], std2=std_error_control[i], nobs2=len_all_MSI_control,\n",
    "        equal_var=False  # Assuming unequal variances\n",
    "    )\n",
    "    print(f\"Comparison {i+1} - t statistic: {t_stat:.4f}, p-value: {p_value:.4f}\")\n",
    "\n",
    "# You can adapt the above loop for other comparisons like 'first vs last for control' etc.\n"
   ]
  },
  {
   "cell_type": "code",
   "execution_count": null,
   "metadata": {},
   "outputs": [
    {
     "data": {
      "text/plain": [
       "0.17658930373360243"
      ]
     },
     "execution_count": 321,
     "metadata": {},
     "output_type": "execute_result"
    }
   ],
   "source": [
    "175/991"
   ]
  },
  {
   "cell_type": "code",
   "execution_count": null,
   "metadata": {},
   "outputs": [
    {
     "name": "stdout",
     "output_type": "stream",
     "text": [
      "0.34445603058741747\n",
      "0.2727272727272727\n",
      "0.17658930373360243\n",
      "0.27631578947368424\n"
     ]
    }
   ],
   "source": [
    "print(991/2877)\n",
    "print(456/1672)\n",
    "print(175/991)\n",
    "print(126/456)"
   ]
  },
  {
   "cell_type": "code",
   "execution_count": null,
   "metadata": {},
   "outputs": [
    {
     "data": {
      "text/plain": [
       "pandas.core.series.Series"
      ]
     },
     "execution_count": 83,
     "metadata": {},
     "output_type": "execute_result"
    }
   ],
   "source": [
    "# Test Ztest\n",
    "type(mimicT[['pub_id','minority','firstSeq','lastSeq']].groupby(['pub_id']).minority.any())"
   ]
  },
  {
   "cell_type": "code",
   "execution_count": null,
   "metadata": {},
   "outputs": [
    {
     "name": "stdout",
     "output_type": "stream",
     "text": [
      "pub_id\n",
      "pub.1001792778     3\n",
      "pub.1002353037    10\n",
      "pub.1003040860     1\n",
      "pub.1006639384     3\n",
      "pub.1007449969     4\n",
      "                  ..\n",
      "pub.1155896423     4\n",
      "pub.1155904804     6\n",
      "pub.1156298472     6\n",
      "pub.1156298670     5\n",
      "pub.1157339777     6\n",
      "Name: minority, Length: 1672, dtype: int64\n",
      "pub_id\n",
      "pub.1000003099     2\n",
      "pub.1000014492     2\n",
      "pub.1000030383     5\n",
      "pub.1000030696     3\n",
      "pub.1000065329     6\n",
      "                  ..\n",
      "pub.1154058524    11\n",
      "pub.1154091236     6\n",
      "pub.1154105023    10\n",
      "pub.1154599396    33\n",
      "pub.1155066768    17\n",
      "Name: minority, Length: 2877, dtype: int64\n",
      "Z-test: minority, Z-statistic: 2.5817395692048124, P-value: 0.004915186802182418\n"
     ]
    }
   ],
   "source": [
    "from statsmodels.stats.weightstats import ztest\n",
    "\n",
    "def get_ztest_any(df):\n",
    "    # print(df.groupby(\"pub_id\").minority!=0)\n",
    "    print(df.groupby(\"pub_id\").minority.count())\n",
    "    proportion = df.groupby(\"pub_id\").minority.any()/df.groupby(\"pub_id\").minority.count()\n",
    "    # print(proportion)\n",
    "    return proportion\n",
    "\n",
    "z_stat, p_value = ztest(get_ztest_any(mimicT), get_ztest_any(controlT), alternative='larger')\n",
    "\n",
    "print(f\"Z-test: minority, Z-statistic: {z_stat}, P-value: {p_value}\")"
   ]
  },
  {
   "cell_type": "code",
   "execution_count": null,
   "metadata": {},
   "outputs": [
    {
     "name": "stdout",
     "output_type": "stream",
     "text": [
      "Z-test: minority, Z-statistic: 1.8171649984815597, P-value: 0.034595926314173624\n"
     ]
    }
   ],
   "source": [
    "#first authors\n",
    "def get_ztest_any2(df):\n",
    "    proportion = df.groupby(\"pub_id\").firstSeq.any()/df.groupby(\"pub_id\").firstSeq.count()\n",
    "    return proportion\n",
    "\n",
    "z_stat, p_value = ztest(get_ztest_any2(mimicT), get_ztest_any2(controlT), alternative='larger')\n",
    "print(f\"Z-test: minority, Z-statistic: {z_stat}, P-value: {p_value}\")"
   ]
  },
  {
   "cell_type": "code",
   "execution_count": null,
   "metadata": {},
   "outputs": [
    {
     "name": "stdout",
     "output_type": "stream",
     "text": [
      "Z-test: minority, Z-statistic: -0.21800115396298034, P-value: 0.5862858938414642\n"
     ]
    }
   ],
   "source": [
    "#last authors\n",
    "def get_ztest_any3(df):\n",
    "    proportion = df.groupby(\"pub_id\").lastSeq.any()/df.groupby(\"pub_id\").lastSeq.count()\n",
    "    return proportion\n",
    "\n",
    "z_stat, p_value = ztest(get_ztest_any3(mimicT), get_ztest_any3(controlT), alternative='larger')\n",
    "print(f\"Z-test: minority, Z-statistic: {z_stat}, P-value: {p_value}\")"
   ]
  },
  {
   "cell_type": "markdown",
   "metadata": {},
   "source": [
    "# 4. More plots"
   ]
  },
  {
   "cell_type": "code",
   "execution_count": null,
   "metadata": {},
   "outputs": [
    {
     "data": {
      "text/html": [
       "<div>\n",
       "<style scoped>\n",
       "    .dataframe tbody tr th:only-of-type {\n",
       "        vertical-align: middle;\n",
       "    }\n",
       "\n",
       "    .dataframe tbody tr th {\n",
       "        vertical-align: top;\n",
       "    }\n",
       "\n",
       "    .dataframe thead th {\n",
       "        text-align: right;\n",
       "    }\n",
       "</style>\n",
       "<table border=\"1\" class=\"dataframe\">\n",
       "  <thead>\n",
       "    <tr style=\"text-align: right;\">\n",
       "      <th></th>\n",
       "      <th>Unnamed: 0</th>\n",
       "      <th>affiliations</th>\n",
       "      <th>corresponding</th>\n",
       "      <th>current_organization_id</th>\n",
       "      <th>first_name</th>\n",
       "      <th>last_name</th>\n",
       "      <th>orcid</th>\n",
       "      <th>raw_affiliation</th>\n",
       "      <th>researcher_id</th>\n",
       "      <th>pub_id</th>\n",
       "      <th>year</th>\n",
       "      <th>gender_ints</th>\n",
       "    </tr>\n",
       "    <tr>\n",
       "      <th>gender</th>\n",
       "      <th></th>\n",
       "      <th></th>\n",
       "      <th></th>\n",
       "      <th></th>\n",
       "      <th></th>\n",
       "      <th></th>\n",
       "      <th></th>\n",
       "      <th></th>\n",
       "      <th></th>\n",
       "      <th></th>\n",
       "      <th></th>\n",
       "      <th></th>\n",
       "    </tr>\n",
       "  </thead>\n",
       "  <tbody>\n",
       "    <tr>\n",
       "      <th>female</th>\n",
       "      <td>3319</td>\n",
       "      <td>3319</td>\n",
       "      <td>385</td>\n",
       "      <td>2239</td>\n",
       "      <td>3319</td>\n",
       "      <td>3319</td>\n",
       "      <td>1845</td>\n",
       "      <td>3319</td>\n",
       "      <td>2384</td>\n",
       "      <td>3319</td>\n",
       "      <td>3319</td>\n",
       "      <td>3319</td>\n",
       "    </tr>\n",
       "    <tr>\n",
       "      <th>male</th>\n",
       "      <td>9004</td>\n",
       "      <td>9004</td>\n",
       "      <td>1113</td>\n",
       "      <td>6373</td>\n",
       "      <td>9004</td>\n",
       "      <td>9004</td>\n",
       "      <td>5471</td>\n",
       "      <td>9004</td>\n",
       "      <td>6814</td>\n",
       "      <td>9004</td>\n",
       "      <td>9004</td>\n",
       "      <td>9004</td>\n",
       "    </tr>\n",
       "  </tbody>\n",
       "</table>\n",
       "</div>"
      ],
      "text/plain": [
       "        Unnamed: 0  affiliations  corresponding  current_organization_id  \\\n",
       "gender                                                                     \n",
       "female        3319          3319            385                     2239   \n",
       "male          9004          9004           1113                     6373   \n",
       "\n",
       "        first_name  last_name  orcid  raw_affiliation  researcher_id  pub_id  \\\n",
       "gender                                                                         \n",
       "female        3319       3319   1845             3319           2384    3319   \n",
       "male          9004       9004   5471             9004           6814    9004   \n",
       "\n",
       "        year  gender_ints  \n",
       "gender                     \n",
       "female  3319         3319  \n",
       "male    9004         9004  "
      ]
     },
     "execution_count": 86,
     "metadata": {},
     "output_type": "execute_result"
    }
   ],
   "source": [
    "MIMIC_author.groupby('gender').count()"
   ]
  },
  {
   "cell_type": "code",
   "execution_count": null,
   "metadata": {},
   "outputs": [
    {
     "data": {
      "image/png": "[encoded data removed]",
      "text/plain": [
       "<Figure size 1200x600 with 1 Axes>"
      ]
     },
     "metadata": {},
     "output_type": "display_data"
    }
   ],
   "source": [
    "\n",
    "# Create a 'has_woman' column indicating if a paper has at least one female author\n",
    "MIMIC_affli['has_woman'] = (MIMIC_affli['gender'] == 'female').astype(int)\n",
    "\n",
    "# Create a 'has_LMIC' column indicating if a paper has at least one LMIC author\n",
    "MIMIC_affli['has_LMIC'] = (MIMIC_affli['LMIC'] == 'Yes').astype(int)  # Assuming 'Yes' and 'No' values for LMIC\n",
    "\n",
    "# Group by year and paper_id\n",
    "grouped_df = MIMIC_affli.groupby(['year', 'pub_id'])\n",
    "\n",
    "# Calculate the metric for each paper: \n",
    "# If at least one author is a woman or from LMIC for a given paper\n",
    "papers_diversity = grouped_df[['has_woman', 'has_LMIC']].max()\n",
    "papers_diversity = papers_diversity.reset_index()\n",
    "\n",
    "# Calculate the yearly average for each metric\n",
    "yearly_woman_metric = papers_diversity.groupby('year')['has_woman'].mean()\n",
    "yearly_LMIC_metric = papers_diversity.groupby('year')['has_LMIC'].mean()\n",
    "\n",
    "# Plotting\n",
    "plt.figure(figsize=(12,6))\n",
    "yearly_woman_metric.plot(label='Papers with at least one woman author')\n",
    "yearly_LMIC_metric.plot(label='Papers with at least one LMIC-based author')\n",
    "plt.title('Diversity Over Time')\n",
    "plt.xlabel('Year')\n",
    "plt.ylabel('Proportion of Papers')\n",
    "plt.legend()\n",
    "plt.grid(True)\n",
    "plt.show()\n"
   ]
  },
  {
   "cell_type": "code",
   "execution_count": null,
   "metadata": {},
   "outputs": [
    {
     "name": "stdout",
     "output_type": "stream",
     "text": [
      "Proportion of papers in 2011 with at least one female author: 1.00\n",
      "\n",
      "Number of papers in 2011: 3\n",
      "Number of papers with at least one female author: 3\n"
     ]
    }
   ],
   "source": [
    "# Filter for the year 2011\n",
    "df_2011 = MIMIC_affli[MIMIC_affli['year'] == 2011]\n",
    "\n",
    "# Group by paper_id and check for female authors\n",
    "grouped_2011 = df_2011.groupby('pub_id')['gender'].apply(lambda x: (x == 'female').any())\n",
    "\n",
    "# Check the proportion of papers in 2011 with at least one female author\n",
    "proportion_female_authors_2011 = grouped_2011.mean()\n",
    "\n",
    "print(f\"Proportion of papers in 2011 with at least one female author: {proportion_female_authors_2011:.2f}\")\n",
    "print(\"\\nNumber of papers in 2011:\", grouped_2011.size)\n",
    "print(\"Number of papers with at least one female author:\", grouped_2011.sum())\n"
   ]
  },
  {
   "cell_type": "code",
   "execution_count": null,
   "metadata": {},
   "outputs": [
    {
     "data": {
      "image/png": "[encoded data removed]",
      "text/plain": [
       "<Figure size 1200x600 with 1 Axes>"
      ]
     },
     "metadata": {},
     "output_type": "display_data"
    }
   ],
   "source": [
    "\n",
    "# Create a 'has_woman' column indicating if a paper has at least one female author\n",
    "Control_affli['has_woman'] = (Control_affli['gender'] == 'female').astype(int)\n",
    "\n",
    "# Create a 'has_LMIC' column indicating if a paper has at least one LMIC author\n",
    "Control_affli['has_LMIC'] = (Control_affli['LMIC'] == 'Yes').astype(int)  # Assuming 'Yes' and 'No' values for LMIC\n",
    "\n",
    "# Group by year and paper_id, then calculate the diversity metric\n",
    "grouped_df = Control_affli.groupby(['year', 'pub_id'])\n",
    "diversity_metric = grouped_df[['has_woman', 'has_LMIC']].max()  # max function will ensure if at least one is present\n",
    "diversity_metric = diversity_metric.reset_index()\n",
    "\n",
    "# Now group by year and calculate the average metric\n",
    "yearly_metric = diversity_metric.groupby('year').apply(lambda x: (x['has_woman'] & x['has_LMIC']).mean())\n",
    "\n",
    "# Plotting\n",
    "plt.figure(figsize=(12,6))\n",
    "yearly_metric.plot()\n",
    "plt.title('Control Diversity Metric Over Time')\n",
    "plt.xlabel('Year')\n",
    "plt.ylabel('Proportion of Papers with Diversity')\n",
    "plt.grid(True)\n",
    "plt.show()\n"
   ]
  }
 ],
 "metadata": {
  "kernelspec": {
   "display_name": "py3",
   "language": "python",
   "name": "python3"
  },
  "language_info": {
   "codemirror_mode": {
    "name": "ipython",
    "version": 3
   },
   "file_extension": ".py",
   "mimetype": "text/x-python",
   "name": "python",
   "nbconvert_exporter": "python",
   "pygments_lexer": "ipython3",
   "version": "3.11.7"
  },
  "orig_nbformat": 4
 },
 "nbformat": 4,
 "nbformat_minor": 2
}
