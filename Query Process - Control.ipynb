{
 "cells": [
  {
   "cell_type": "code",
   "execution_count": 12,
   "id": "9d07d6df-8e3b-4838-b114-b52f729704c7",
   "metadata": {},
   "outputs": [],
   "source": [
    "import dimcli\n",
    "import pandas as pd\n",
    "import numpy as np"
   ]
  },
  {
   "cell_type": "code",
   "execution_count": 9,
   "id": "658d632b-bd3a-47cc-9f4c-77e0c26a97f0",
   "metadata": {},
   "outputs": [],
   "source": [
    "control = pd.read_csv(\"pubmed_icu_articles_total.csv\")\n",
    "biobank = pd.read_csv(\"pubmed_biobank_articles.csv\")"
   ]
  },
  {
   "cell_type": "code",
   "execution_count": 50,
   "id": "392b7923-ef59-4f9f-9071-79948e3a5113",
   "metadata": {},
   "outputs": [],
   "source": [
    "query_ai = fr'''(\\\"machine learning\\\"\\[Majr\\] OR (\\\"machine\\\"\\[ti\\] AND \\\"learning\\\"\\[ti\\]) \n",
    "    OR \\\"machine learning\\\"\\[ti\\] OR \\\"AI\\\"\\[ti\\] OR \\\"Artificial Intelligence\\\"\\[ti\\] \n",
    "    OR \\\"artificially intelligent\\\"\\[ti\\] OR \\\"Artificial Intelligence\\\"\\[MeSH\\] \n",
    "    OR \\\"Algorithms\\\"\\[MeSH\\] OR \\\"algorithm*\\\"\\[ti\\] OR \\\"deep learning\\\"\\[ti\\] \n",
    "    OR \\\"computer vision\\\"\\[ti\\] OR \\\"natural language processing\\\"\\[ti\\] \n",
    "    OR \\\"neural network*\\\"\\[ti\\] OR \\\"neural networks, computer\\\"\\[MeSH\\] \n",
    "    OR \\\"intelligent machine*\\\"\\[ti\\])'''\n",
    "\n",
    "query_icu = fr'''(\\\"Intensive Care Units\\\" OR \\\"Critical Care\\\")\n",
    "                    OR (ICU OR IC OR ((intensive OR critical) AND \n",
    "                    (care OR therapy OR unit* OR patient* OR department*)))'''\n"
   ]
  },
  {
   "cell_type": "code",
   "execution_count": 23,
   "id": "9a616f76-e3c2-4b11-9831-83f676406e5f",
   "metadata": {},
   "outputs": [
    {
     "name": "stdout",
     "output_type": "stream",
     "text": [
      "\u001b[2mDimcli - Dimensions API Client (v0.9.9.1)\u001b[0m\n",
      "\u001b[2mConnected to: <https://app.dimensions.ai/api/dsl> - DSL v2.5\u001b[0m\n",
      "\u001b[2mMethod: manual login\u001b[0m\n"
     ]
    }
   ],
   "source": [
    "dimcli.login(\n",
    "    key=\"\", endpoint=\"https://app.dimensions.ai\"\n",
    ")\n",
    "dsl = dimcli.Dsl()"
   ]
  },
  {
   "cell_type": "code",
   "execution_count": 53,
   "id": "258f77e6-ebdd-4815-ada0-01b8cca8035c",
   "metadata": {},
   "outputs": [
    {
     "name": "stdout",
     "output_type": "stream",
     "text": [
      "Returned Publications: 20 (total = 144775)\n",
      "\u001b[2mTime: 2.14s\u001b[0m\n",
      "WARNINGS [1]\n",
      "Field current_organization_id of the authors field is deprecated and will be removed in the next major release.\n"
     ]
    },
    {
     "data": {
      "application/json": {
       "_copyright": "© 2023 Digital Science & Research Solutions Inc. All rights reserved. Please refer to our Copyright Notice https://terms.dsrsi.com/public/DimensionsCopyrightNotice for further information.",
       "_stats": {
        "total_count": 144775
       },
       "_version": {
        "release": "2.5",
        "version": "2.5.0"
       },
       "_warnings": [
        "Field current_organization_id of the authors field is deprecated and will be removed in the next major release."
       ],
       "publications": [
        {
         "id": "pub.1154680882",
         "title": "Techniques d’optimisation Tome 1, Optimisation continue",
         "type": "book",
         "year": 2022
        },
        {
         "authors": [
          {
           "affiliations": [
            {
             "city": "Delft",
             "city_id": 2757345,
             "country": "Netherlands",
             "country_code": "NL",
             "id": "grid.4858.1",
             "name": "Netherlands Organisation for Applied Scientific Research",
             "raw_affiliation": "TNO-Netherlands Organisation for Applied Scientific Research, 2597 The Hague, The Netherlands",
             "state": null,
             "state_code": null
            }
           ],
           "corresponding": true,
           "current_organization_id": "grid.4858.1",
           "first_name": "Henri",
           "last_name": "Bouma",
           "orcid": [
            "0000-0002-9363-6870"
           ],
           "raw_affiliation": [
            "TNO-Netherlands Organisation for Applied Scientific Research, 2597 The Hague, The Netherlands"
           ],
           "researcher_id": "ur.012156540414.54"
          },
          {
           "affiliations": [
            {
             "city": "Rome",
             "city_id": 3169070,
             "country": "Italy",
             "country_code": "IT",
             "id": "grid.5196.b",
             "name": "National Agency for New Technologies, Energy and Sustainable Economic Development",
             "raw_affiliation": "ENEA-Italian National Agency for New Technologies, Energy and Sustainable Economic Development, 00123 Rome, Italy",
             "state": null,
             "state_code": null
            }
           ],
           "corresponding": "",
           "current_organization_id": "grid.5196.b",
           "first_name": "Maria Luisa",
           "last_name": "Villani",
           "orcid": [
            "0000-0002-7582-806X"
           ],
           "raw_affiliation": [
            "ENEA-Italian National Agency for New Technologies, Energy and Sustainable Economic Development, 00123 Rome, Italy"
           ],
           "researcher_id": "ur.016675107367.47"
          },
          {
           "affiliations": [
            {
             "city": "Delft",
             "city_id": 2757345,
             "country": "Netherlands",
             "country_code": "NL",
             "id": "grid.4858.1",
             "name": "Netherlands Organisation for Applied Scientific Research",
             "raw_affiliation": "TNO-Netherlands Organisation for Applied Scientific Research, 2597 The Hague, The Netherlands",
             "state": null,
             "state_code": null
            }
           ],
           "corresponding": "",
           "current_organization_id": "grid.4858.1",
           "first_name": "Arthur",
           "last_name": "van Rooijen",
           "orcid": null,
           "raw_affiliation": [
            "TNO-Netherlands Organisation for Applied Scientific Research, 2597 The Hague, The Netherlands"
           ],
           "researcher_id": "ur.07440302261.88"
          },
          {
           "affiliations": [
            {
             "city": "Espoo",
             "city_id": 660158,
             "country": "Finland",
             "country_code": "FI",
             "id": "grid.6324.3",
             "name": "VTT Technical Research Centre of Finland",
             "raw_affiliation": "VTT-Technical Research Centre of Finland, 33101 Tampere, Finland",
             "state": null,
             "state_code": null
            }
           ],
           "corresponding": "",
           "current_organization_id": "grid.6324.3",
           "first_name": "Pauli",
           "last_name": "Räsänen",
           "orcid": null,
           "raw_affiliation": [
            "VTT-Technical Research Centre of Finland, 33101 Tampere, Finland"
           ],
           "researcher_id": "ur.014105572207.90"
          },
          {
           "affiliations": [
            {
             "city": "Espoo",
             "city_id": 660158,
             "country": "Finland",
             "country_code": "FI",
             "id": "grid.6324.3",
             "name": "VTT Technical Research Centre of Finland",
             "raw_affiliation": "VTT-Technical Research Centre of Finland, 33101 Tampere, Finland",
             "state": null,
             "state_code": null
            }
           ],
           "corresponding": "",
           "current_organization_id": "grid.6324.3",
           "first_name": "Johannes",
           "last_name": "Peltola",
           "orcid": null,
           "raw_affiliation": [
            "VTT-Technical Research Centre of Finland, 33101 Tampere, Finland"
           ],
           "researcher_id": "ur.015104317607.25"
          },
          {
           "affiliations": [
            {
             "city": "Espoo",
             "city_id": 660158,
             "country": "Finland",
             "country_code": "FI",
             "id": "grid.6324.3",
             "name": "VTT Technical Research Centre of Finland",
             "raw_affiliation": "VTT-Technical Research Centre of Finland, 33101 Tampere, Finland",
             "state": null,
             "state_code": null
            }
           ],
           "corresponding": "",
           "current_organization_id": "grid.6324.3",
           "first_name": "Sirra",
           "last_name": "Toivonen",
           "orcid": null,
           "raw_affiliation": [
            "VTT-Technical Research Centre of Finland, 33101 Tampere, Finland"
           ],
           "researcher_id": "ur.015162540425.06"
          },
          {
           "affiliations": [
            {
             "city": "Rome",
             "city_id": 3169070,
             "country": "Italy",
             "country_code": "IT",
             "id": "grid.5196.b",
             "name": "National Agency for New Technologies, Energy and Sustainable Economic Development",
             "raw_affiliation": "ENEA-Italian National Agency for New Technologies, Energy and Sustainable Economic Development, 00123 Rome, Italy",
             "state": null,
             "state_code": null
            }
           ],
           "corresponding": "",
           "current_organization_id": "grid.5196.b",
           "first_name": "Antonio",
           "last_name": "De Nicola",
           "orcid": [
            "0000-0002-1045-0510"
           ],
           "raw_affiliation": [
            "ENEA-Italian National Agency for New Technologies, Energy and Sustainable Economic Development, 00123 Rome, Italy"
           ],
           "researcher_id": "ur.013426106001.38"
          },
          {
           "affiliations": [
            {
             "city": "Rome",
             "city_id": 3169070,
             "country": "Italy",
             "country_code": "IT",
             "id": "grid.5196.b",
             "name": "National Agency for New Technologies, Energy and Sustainable Economic Development",
             "raw_affiliation": "ENEA-Italian National Agency for New Technologies, Energy and Sustainable Economic Development, 00123 Rome, Italy",
             "state": null,
             "state_code": null
            }
           ],
           "corresponding": "",
           "current_organization_id": "grid.5196.b",
           "first_name": "Massimiliano",
           "last_name": "Guarneri",
           "orcid": [
            "0000-0001-8041-4067"
           ],
           "raw_affiliation": [
            "ENEA-Italian National Agency for New Technologies, Energy and Sustainable Economic Development, 00123 Rome, Italy"
           ],
           "researcher_id": "ur.014577752364.98"
          },
          {
           "affiliations": [
            {
             "city": "Rome",
             "city_id": 3169070,
             "country": "Italy",
             "country_code": "IT",
             "id": "grid.423775.0",
             "name": "Agenzia dei Trasporti Autoferrotranviari del Comune",
             "raw_affiliation": "ATAC-Azienda per la Mobilità di Roma Capitale S.p.A, 00176 Rome, Italy",
             "state": null,
             "state_code": null
            }
           ],
           "corresponding": "",
           "current_organization_id": null,
           "first_name": "Cristiano",
           "last_name": "Stifini",
           "orcid": null,
           "raw_affiliation": [
            "ATAC-Azienda per la Mobilità di Roma Capitale S.p.A, 00176 Rome, Italy"
           ],
           "researcher_id": "ur.012702744067.89"
          },
          {
           "affiliations": [
            {
             "city": "Rome",
             "city_id": 3169070,
             "country": "Italy",
             "country_code": "IT",
             "id": "grid.5196.b",
             "name": "National Agency for New Technologies, Energy and Sustainable Economic Development",
             "raw_affiliation": "ENEA-Italian National Agency for New Technologies, Energy and Sustainable Economic Development, 00123 Rome, Italy",
             "state": null,
             "state_code": null
            }
           ],
           "corresponding": "",
           "current_organization_id": "grid.5196.b",
           "first_name": "Luigi",
           "last_name": "De Dominicis",
           "orcid": [
            "0000-0002-7358-9624"
           ],
           "raw_affiliation": [
            "ENEA-Italian National Agency for New Technologies, Energy and Sustainable Economic Development, 00123 Rome, Italy"
           ],
           "researcher_id": "ur.012562752607.84"
          }
         ],
         "id": "pub.1154189055",
         "issue": "1",
         "journal": {
          "id": "jour.1033312",
          "title": "Sensors"
         },
         "pages": "440",
         "title": "An Integrated Fusion Engine for Early Threat Detection Demonstrated in Public-Space Trials",
         "type": "article",
         "volume": "23",
         "year": 2022
        },
        {
         "authors": [
          {
           "affiliations": [
            {
             "city": "Sharjah city",
             "city_id": 292672,
             "country": "United Arab Emirates",
             "country_code": "AE",
             "id": "grid.411365.4",
             "name": "American University of Sharjah",
             "raw_affiliation": "Mechanical Engineering Department, American University of Sharjah, Sharjah P.O. Box 26666, United Arab Emirates.",
             "state": null,
             "state_code": null
            }
           ],
           "corresponding": "",
           "current_organization_id": "",
           "first_name": "Ali A",
           "last_name": "Barakat",
           "orcid": [],
           "raw_affiliation": [
            "Mechanical Engineering Department, American University of Sharjah, Sharjah P.O. Box 26666, United Arab Emirates."
           ],
           "researcher_id": null
          },
          {
           "affiliations": [
            {
             "city": "Sharjah city",
             "city_id": 292672,
             "country": "United Arab Emirates",
             "country_code": "AE",
             "id": "grid.411365.4",
             "name": "American University of Sharjah",
             "raw_affiliation": "Mechanical Engineering Department, American University of Sharjah, Sharjah P.O. Box 26666, United Arab Emirates.",
             "state": null,
             "state_code": null
            }
           ],
           "corresponding": true,
           "current_organization_id": "grid.411365.4",
           "first_name": "Basil M",
           "last_name": "Darras",
           "orcid": [
            "0000-0001-5097-6034"
           ],
           "raw_affiliation": [
            "Mechanical Engineering Department, American University of Sharjah, Sharjah P.O. Box 26666, United Arab Emirates."
           ],
           "researcher_id": "ur.012012336665.49"
          },
          {
           "affiliations": [
            {
             "city": "Sharjah city",
             "city_id": 292672,
             "country": "United Arab Emirates",
             "country_code": "AE",
             "id": "grid.411365.4",
             "name": "American University of Sharjah",
             "raw_affiliation": "Mechanical Engineering Department, American University of Sharjah, Sharjah P.O. Box 26666, United Arab Emirates.",
             "state": null,
             "state_code": null
            }
           ],
           "corresponding": "",
           "current_organization_id": "grid.411365.4",
           "first_name": "Mohammad A",
           "last_name": "Nazzal",
           "orcid": [
            "0000-0002-0475-0752"
           ],
           "raw_affiliation": [
            "Mechanical Engineering Department, American University of Sharjah, Sharjah P.O. Box 26666, United Arab Emirates."
           ],
           "researcher_id": "ur.013775342163.00"
          },
          {
           "affiliations": [
            {
             "city": "Sharjah city",
             "city_id": 292672,
             "country": "United Arab Emirates",
             "country_code": "AE",
             "id": "grid.411365.4",
             "name": "American University of Sharjah",
             "raw_affiliation": "Mechanical Engineering Department, American University of Sharjah, Sharjah P.O. Box 26666, United Arab Emirates.",
             "state": null,
             "state_code": null
            }
           ],
           "corresponding": "",
           "current_organization_id": "grid.411365.4",
           "first_name": "Aser Alaa",
           "last_name": "Ahmed",
           "orcid": null,
           "raw_affiliation": [
            "Mechanical Engineering Department, American University of Sharjah, Sharjah P.O. Box 26666, United Arab Emirates."
           ],
           "researcher_id": "ur.011261064050.34"
          }
         ],
         "id": "pub.1154188893",
         "issue": "1",
         "journal": {
          "id": "jour.1044360",
          "title": "Polymers"
         },
         "pages": "220",
         "title": "A Comprehensive Technical Review of the Friction Stir Welding of Metal-to-Polymer Hybrid Structures",
         "type": "article",
         "volume": "15",
         "year": 2022
        },
        {
         "authors": [
          {
           "affiliations": [
            {
             "city": "Campina Grande",
             "city_id": 3403642,
             "country": "Brazil",
             "country_code": "BR",
             "id": "grid.411182.f",
             "name": "Federal University of Campina Grande",
             "raw_affiliation": "Northeastern Laboratory for Evaluation and Development of Biomaterials (CERTBIO), Department of Materials Engineering, Federal University of Campina Grande, Campina Grande 58429-900, PB, Brazil.",
             "state": null,
             "state_code": null
            }
           ],
           "corresponding": "",
           "current_organization_id": "grid.411182.f",
           "first_name": "Maria E V",
           "last_name": "Barreto",
           "orcid": [
            "0000-0003-2319-7371"
           ],
           "raw_affiliation": [
            "Northeastern Laboratory for Evaluation and Development of Biomaterials (CERTBIO), Department of Materials Engineering, Federal University of Campina Grande, Campina Grande 58429-900, PB, Brazil."
           ],
           "researcher_id": "ur.010623624604.67"
          },
          {
           "affiliations": [
            {
             "city": "Campina Grande",
             "city_id": 3403642,
             "country": "Brazil",
             "country_code": "BR",
             "id": "grid.411182.f",
             "name": "Federal University of Campina Grande",
             "raw_affiliation": "Northeastern Laboratory for Evaluation and Development of Biomaterials (CERTBIO), Department of Materials Engineering, Federal University of Campina Grande, Campina Grande 58429-900, PB, Brazil.",
             "state": null,
             "state_code": null
            }
           ],
           "corresponding": "",
           "current_organization_id": null,
           "first_name": "Rebeca P",
           "last_name": "Medeiros",
           "orcid": [
            "0000-0002-4526-5956"
           ],
           "raw_affiliation": [
            "Northeastern Laboratory for Evaluation and Development of Biomaterials (CERTBIO), Department of Materials Engineering, Federal University of Campina Grande, Campina Grande 58429-900, PB, Brazil."
           ],
           "researcher_id": "ur.014303220000.95"
          },
          {
           "affiliations": [
            {
             "city": "State College",
             "city_id": 5213681,
             "country": "United States",
             "country_code": "US",
             "id": "grid.29857.31",
             "name": "Pennsylvania State University",
             "raw_affiliation": "Department of Materials Science and Engineering, The Pennsylvania State University, State College, PA 16802, USA.",
             "state": "Pennsylvania",
             "state_code": "US-PA"
            }
           ],
           "corresponding": "",
           "current_organization_id": null,
           "first_name": "Adam",
           "last_name": "Shearer",
           "orcid": [
            "0000-0002-4208-333X"
           ],
           "raw_affiliation": [
            "Department of Materials Science and Engineering, The Pennsylvania State University, State College, PA 16802, USA."
           ],
           "researcher_id": "ur.015607114100.66"
          },
          {
           "affiliations": [
            {
             "city": "Campina Grande",
             "city_id": 3403642,
             "country": "Brazil",
             "country_code": "BR",
             "id": "grid.411182.f",
             "name": "Federal University of Campina Grande",
             "raw_affiliation": "Northeastern Laboratory for Evaluation and Development of Biomaterials (CERTBIO), Department of Materials Engineering, Federal University of Campina Grande, Campina Grande 58429-900, PB, Brazil.",
             "state": null,
             "state_code": null
            }
           ],
           "corresponding": "",
           "current_organization_id": "grid.411182.f",
           "first_name": "Marcus V L",
           "last_name": "Fook",
           "orcid": null,
           "raw_affiliation": [
            "Northeastern Laboratory for Evaluation and Development of Biomaterials (CERTBIO), Department of Materials Engineering, Federal University of Campina Grande, Campina Grande 58429-900, PB, Brazil."
           ],
           "researcher_id": "ur.016363532517.62"
          },
          {
           "affiliations": [
            {
             "city": "Campina Grande",
             "city_id": 3403642,
             "country": "Brazil",
             "country_code": "BR",
             "id": "grid.411182.f",
             "name": "Federal University of Campina Grande",
             "raw_affiliation": "Northeastern Laboratory for Evaluation and Development of Biomaterials (CERTBIO), Department of Materials Engineering, Federal University of Campina Grande, Campina Grande 58429-900, PB, Brazil.",
             "state": null,
             "state_code": null
            }
           ],
           "corresponding": true,
           "current_organization_id": "grid.411182.f",
           "first_name": "Maziar",
           "last_name": "Montazerian",
           "orcid": [
            "0000-0002-1409-9182"
           ],
           "raw_affiliation": [
            "Northeastern Laboratory for Evaluation and Development of Biomaterials (CERTBIO), Department of Materials Engineering, Federal University of Campina Grande, Campina Grande 58429-900, PB, Brazil."
           ],
           "researcher_id": "ur.011560411141.81"
          },
          {
           "affiliations": [
            {
             "city": "State College",
             "city_id": 5213681,
             "country": "United States",
             "country_code": "US",
             "id": "grid.29857.31",
             "name": "Pennsylvania State University",
             "raw_affiliation": "Department of Materials Science and Engineering, The Pennsylvania State University, State College, PA 16802, USA.",
             "state": "Pennsylvania",
             "state_code": "US-PA"
            }
           ],
           "corresponding": true,
           "current_organization_id": "grid.29857.31",
           "first_name": "John C",
           "last_name": "Mauro",
           "orcid": [
            "0000-0002-4319-3530"
           ],
           "raw_affiliation": [
            "Department of Materials Science and Engineering, The Pennsylvania State University, State College, PA 16802, USA."
           ],
           "researcher_id": "ur.0642232572.37"
          }
         ],
         "id": "pub.1154188224",
         "issue": "1",
         "journal": {
          "id": "jour.1045788",
          "title": "Journal of Functional Biomaterials"
         },
         "pages": "23",
         "title": "Gelatin and Bioactive Glass Composites for Tissue Engineering: A Review",
         "type": "article",
         "volume": "14",
         "year": 2022
        },
        {
         "authors": [
          {
           "affiliations": [
            {
             "city": "Changsha",
             "city_id": 1815577,
             "country": "China",
             "country_code": "CN",
             "id": "grid.67293.39",
             "name": "Hunan University",
             "raw_affiliation": "The First Hospital of Hunan University of Chinese Medicine, 410007, Changsha, Hunan, People’s Republic of China",
             "state": null,
             "state_code": null
            }
           ],
           "corresponding": "",
           "current_organization_id": "",
           "first_name": "Liu-Xia",
           "last_name": "Zhang",
           "orcid": [],
           "raw_affiliation": [
            "The First Hospital of Hunan University of Chinese Medicine, 410007, Changsha, Hunan, People’s Republic of China"
           ],
           "researcher_id": null
          },
          {
           "affiliations": [
            {
             "city": "Changsha",
             "city_id": 1815577,
             "country": "China",
             "country_code": "CN",
             "id": "grid.216417.7",
             "name": "Central South University",
             "raw_affiliation": "Xiangya School of Pharmaceutical Sciences, Central South University, 410013, Changsha, Hunan, People’s Republic of China",
             "state": null,
             "state_code": null
            }
           ],
           "corresponding": "",
           "current_organization_id": "",
           "first_name": "Jie",
           "last_name": "Dong",
           "orcid": [],
           "raw_affiliation": [
            "Xiangya School of Pharmaceutical Sciences, Central South University, 410013, Changsha, Hunan, People’s Republic of China"
           ],
           "researcher_id": null
          },
          {
           "affiliations": [
            {
             "city": "Changsha",
             "city_id": 1815577,
             "country": "China",
             "country_code": "CN",
             "id": "grid.216417.7",
             "name": "Central South University",
             "raw_affiliation": "Xiangya School of Pharmaceutical Sciences, Central South University, 410013, Changsha, Hunan, People’s Republic of China",
             "state": null,
             "state_code": null
            }
           ],
           "corresponding": "",
           "current_organization_id": "",
           "first_name": "Hui",
           "last_name": "Wei",
           "orcid": [],
           "raw_affiliation": [
            "Xiangya School of Pharmaceutical Sciences, Central South University, 410013, Changsha, Hunan, People’s Republic of China"
           ],
           "researcher_id": null
          },
          {
           "affiliations": [
            {
             "city": "Changsha",
             "city_id": 1815577,
             "country": "China",
             "country_code": "CN",
             "id": "grid.216417.7",
             "name": "Central South University",
             "raw_affiliation": "Xiangya School of Pharmaceutical Sciences, Central South University, 410013, Changsha, Hunan, People’s Republic of China",
             "state": null,
             "state_code": null
            },
            {
             "city": "Hong Kong",
             "city_id": 1819729,
             "country": "China",
             "country_code": "CN",
             "id": "grid.221309.b",
             "name": "Hong Kong Baptist University",
             "raw_affiliation": "Advancing Translational Medicine in Bone and Joint Diseases, School of Chinese Medicine, Hong Kong Baptist University, Hong Kong SAR, People’s Republic of China",
             "state": null,
             "state_code": null
            }
           ],
           "corresponding": "",
           "current_organization_id": "grid.221309.b",
           "first_name": "Shao-Hua",
           "last_name": "Shi",
           "orcid": null,
           "raw_affiliation": [
            "Xiangya School of Pharmaceutical Sciences, Central South University, 410013, Changsha, Hunan, People’s Republic of China",
            "Advancing Translational Medicine in Bone and Joint Diseases, School of Chinese Medicine, Hong Kong Baptist University, Hong Kong SAR, People’s Republic of China"
           ],
           "researcher_id": "ur.011231524264.56"
          },
          {
           "affiliations": [
            {
             "city": "Hong Kong",
             "city_id": 1819729,
             "country": "China",
             "country_code": "CN",
             "id": "grid.221309.b",
             "name": "Hong Kong Baptist University",
             "raw_affiliation": "Advancing Translational Medicine in Bone and Joint Diseases, School of Chinese Medicine, Hong Kong Baptist University, Hong Kong SAR, People’s Republic of China",
             "state": null,
             "state_code": null
            }
           ],
           "corresponding": true,
           "current_organization_id": "grid.221309.b",
           "first_name": "Ai-Ping",
           "last_name": "Lu",
           "orcid": null,
           "raw_affiliation": [
            "Advancing Translational Medicine in Bone and Joint Diseases, School of Chinese Medicine, Hong Kong Baptist University, Hong Kong SAR, People’s Republic of China"
           ],
           "researcher_id": "ur.012624465264.66"
          },
          {
           "affiliations": [
            {
             "city": "Changsha",
             "city_id": 1815577,
             "country": "China",
             "country_code": "CN",
             "id": "grid.67293.39",
             "name": "Hunan University",
             "raw_affiliation": "The First Hospital of Hunan University of Chinese Medicine, 410007, Changsha, Hunan, People’s Republic of China",
             "state": null,
             "state_code": null
            }
           ],
           "corresponding": true,
           "current_organization_id": "",
           "first_name": "Gui-Ming",
           "last_name": "Deng",
           "orcid": [],
           "raw_affiliation": [
            "The First Hospital of Hunan University of Chinese Medicine, 410007, Changsha, Hunan, People’s Republic of China"
           ],
           "researcher_id": null
          },
          {
           "affiliations": [
            {
             "city": "Changsha",
             "city_id": 1815577,
             "country": "China",
             "country_code": "CN",
             "id": "grid.216417.7",
             "name": "Central South University",
             "raw_affiliation": "Xiangya School of Pharmaceutical Sciences, Central South University, 410013, Changsha, Hunan, People’s Republic of China",
             "state": null,
             "state_code": null
            },
            {
             "city": "Hong Kong",
             "city_id": 1819729,
             "country": "China",
             "country_code": "CN",
             "id": "grid.221309.b",
             "name": "Hong Kong Baptist University",
             "raw_affiliation": "Advancing Translational Medicine in Bone and Joint Diseases, School of Chinese Medicine, Hong Kong Baptist University, Hong Kong SAR, People’s Republic of China",
             "state": null,
             "state_code": null
            }
           ],
           "corresponding": true,
           "current_organization_id": "grid.216417.7",
           "first_name": "Dong-Sheng",
           "last_name": "Cao",
           "orcid": null,
           "raw_affiliation": [
            "Xiangya School of Pharmaceutical Sciences, Central South University, 410013, Changsha, Hunan, People’s Republic of China",
            "Advancing Translational Medicine in Bone and Joint Diseases, School of Chinese Medicine, Hong Kong Baptist University, Hong Kong SAR, People’s Republic of China"
           ],
           "researcher_id": "ur.0703125012.75"
          }
         ],
         "id": "pub.1154121220",
         "issue": "1",
         "journal": {
          "id": "jour.1042252",
          "title": "Journal of Cheminformatics"
         },
         "pages": "89",
         "title": "TCMSID: a simplified integrated database for drug discovery from traditional chinese medicine",
         "type": "article",
         "volume": "14",
         "year": 2022
        },
        {
         "authors": [
          {
           "affiliations": [
            {
             "city": "Cambridge",
             "city_id": 4931972,
             "country": "United States",
             "country_code": "US",
             "id": "grid.38142.3c",
             "name": "Harvard University",
             "raw_affiliation": "Departments of Medicine (Cardiovascular Division) and Radiology, Beth Israel Deaconess Medical Center, Harvard Medical School and JCMR Editorial Office, 02215, Boston, MA, USA",
             "state": "Massachusetts",
             "state_code": "US-MA"
            },
            {
             "city": "Boston",
             "city_id": 4930956,
             "country": "United States",
             "country_code": "US",
             "id": "grid.239395.7",
             "name": "Beth Israel Deaconess Medical Center",
             "raw_affiliation": "Departments of Medicine (Cardiovascular Division) and Radiology, Beth Israel Deaconess Medical Center, Harvard Medical School and JCMR Editorial Office, 02215, Boston, MA, USA",
             "state": "Massachusetts",
             "state_code": "US-MA"
            }
           ],
           "corresponding": true,
           "current_organization_id": "grid.239395.7",
           "first_name": "Warren J.",
           "last_name": "Manning",
           "orcid": null,
           "raw_affiliation": [
            "Departments of Medicine (Cardiovascular Division) and Radiology, Beth Israel Deaconess Medical Center, Harvard Medical School and JCMR Editorial Office, 02215, Boston, MA, USA"
           ],
           "researcher_id": "ur.010761430512.56"
          }
         ],
         "id": "pub.1154121207",
         "issue": "1",
         "journal": {
          "id": "jour.1030439",
          "title": "Journal of Cardiovascular Magnetic Resonance"
         },
         "pages": "75",
         "title": "2021–2022 state of our JCMR",
         "type": "article",
         "volume": "24",
         "year": 2022
        },
        {
         "authors": [
          {
           "affiliations": [
            {
             "city": "Toronto",
             "city_id": 6167865,
             "country": "Canada",
             "country_code": "CA",
             "id": "grid.17063.33",
             "name": "University of Toronto",
             "raw_affiliation": "Donnelly Centre for Cellular and Biomolecular Research, University of Toronto, Toronto, Canada",
             "state": "Ontario",
             "state_code": "CA-ON"
            },
            {
             "city": "Toronto",
             "city_id": 6167865,
             "country": "Canada",
             "country_code": "CA",
             "id": "grid.17063.33",
             "name": "University of Toronto",
             "raw_affiliation": "Department of Biochemistry, University of Toronto, Toronto, Canada",
             "state": "Ontario",
             "state_code": "CA-ON"
            }
           ],
           "corresponding": true,
           "current_organization_id": "grid.17063.33",
           "first_name": "Raphael",
           "last_name": "Loll-Krippleber",
           "orcid": [
            "0000-0002-7845-178X"
           ],
           "raw_affiliation": [
            "Donnelly Centre for Cellular and Biomolecular Research, University of Toronto, Toronto, Canada",
            "Department of Biochemistry, University of Toronto, Toronto, Canada"
           ],
           "researcher_id": "ur.01362374476.41"
          },
          {
           "affiliations": [
            {
             "city": "Toronto",
             "city_id": 6167865,
             "country": "Canada",
             "country_code": "CA",
             "id": "grid.17063.33",
             "name": "University of Toronto",
             "raw_affiliation": "Donnelly Centre for Cellular and Biomolecular Research, University of Toronto, Toronto, Canada",
             "state": "Ontario",
             "state_code": "CA-ON"
            },
            {
             "city": "Marburg",
             "city_id": 2873759,
             "country": "Germany",
             "country_code": "DE",
             "id": "grid.419554.8",
             "name": "Max Planck Institute for Terrestrial Microbiology",
             "raw_affiliation": "Max Planck Institute for Terrestrial Microbiology, Marburg, Germany",
             "state": null,
             "state_code": null
            }
           ],
           "corresponding": "",
           "current_organization_id": "",
           "first_name": "Victoria A.",
           "last_name": "Sajtovich",
           "orcid": [],
           "raw_affiliation": [
            "Donnelly Centre for Cellular and Biomolecular Research, University of Toronto, Toronto, Canada",
            "Max Planck Institute for Terrestrial Microbiology, Marburg, Germany"
           ],
           "researcher_id": null
          },
          {
           "affiliations": [
            {
             "city": "Toronto",
             "city_id": 6167865,
             "country": "Canada",
             "country_code": "CA",
             "id": "grid.17063.33",
             "name": "University of Toronto",
             "raw_affiliation": "Donnelly Centre for Cellular and Biomolecular Research, University of Toronto, Toronto, Canada",
             "state": "Ontario",
             "state_code": "CA-ON"
            },
            {
             "city": "Toronto",
             "city_id": 6167865,
             "country": "Canada",
             "country_code": "CA",
             "id": "grid.17063.33",
             "name": "University of Toronto",
             "raw_affiliation": "Department of Biochemistry, University of Toronto, Toronto, Canada",
             "state": "Ontario",
             "state_code": "CA-ON"
            }
           ],
           "corresponding": "",
           "current_organization_id": "grid.17063.33",
           "first_name": "Michael W.",
           "last_name": "Ferguson",
           "orcid": [
            "0000-0001-5163-9689"
           ],
           "raw_affiliation": [
            "Donnelly Centre for Cellular and Biomolecular Research, University of Toronto, Toronto, Canada",
            "Department of Biochemistry, University of Toronto, Toronto, Canada"
           ],
           "researcher_id": "ur.011645571363.56"
          },
          {
           "affiliations": [
            {
             "city": "Toronto",
             "city_id": 6167865,
             "country": "Canada",
             "country_code": "CA",
             "id": "grid.17063.33",
             "name": "University of Toronto",
             "raw_affiliation": "Donnelly Centre for Cellular and Biomolecular Research, University of Toronto, Toronto, Canada",
             "state": "Ontario",
             "state_code": "CA-ON"
            },
            {
             "city": "Toronto",
             "city_id": 6167865,
             "country": "Canada",
             "country_code": "CA",
             "id": "grid.17063.33",
             "name": "University of Toronto",
             "raw_affiliation": "Department of Biochemistry, University of Toronto, Toronto, Canada",
             "state": "Ontario",
             "state_code": "CA-ON"
            }
           ],
           "corresponding": "",
           "current_organization_id": "grid.17063.33",
           "first_name": "Brandon",
           "last_name": "Ho",
           "orcid": null,
           "raw_affiliation": [
            "Donnelly Centre for Cellular and Biomolecular Research, University of Toronto, Toronto, Canada",
            "Department of Biochemistry, University of Toronto, Toronto, Canada"
           ],
           "researcher_id": "ur.01041140367.05"
          },
          {
           "affiliations": [
            {
             "city": "Toronto",
             "city_id": 6167865,
             "country": "Canada",
             "country_code": "CA",
             "id": "grid.17063.33",
             "name": "University of Toronto",
             "raw_affiliation": "Donnelly Centre for Cellular and Biomolecular Research, University of Toronto, Toronto, Canada",
             "state": "Ontario",
             "state_code": "CA-ON"
            },
            {
             "city": "Toronto",
             "city_id": 6167865,
             "country": "Canada",
             "country_code": "CA",
             "id": "grid.17063.33",
             "name": "University of Toronto",
             "raw_affiliation": "Department of Molecular Genetics, University of Toronto, Toronto, Canada",
             "state": "Ontario",
             "state_code": "CA-ON"
            }
           ],
           "corresponding": "",
           "current_organization_id": "",
           "first_name": "Andrew R.",
           "last_name": "Burns",
           "orcid": [],
           "raw_affiliation": [
            "Donnelly Centre for Cellular and Biomolecular Research, University of Toronto, Toronto, Canada",
            "Department of Molecular Genetics, University of Toronto, Toronto, Canada"
           ],
           "researcher_id": null
          },
          {
           "affiliations": [
            {
             "city": "Toronto",
             "city_id": 6167865,
             "country": "Canada",
             "country_code": "CA",
             "id": "grid.17063.33",
             "name": "University of Toronto",
             "raw_affiliation": "Department of Biochemistry, University of Toronto, Toronto, Canada",
             "state": "Ontario",
             "state_code": "CA-ON"
            }
           ],
           "corresponding": "",
           "current_organization_id": "grid.17063.33",
           "first_name": "Brandon J.",
           "last_name": "Payliss",
           "orcid": [
            "0000-0003-1929-1365"
           ],
           "raw_affiliation": [
            "Department of Biochemistry, University of Toronto, Toronto, Canada"
           ],
           "researcher_id": "ur.01110455373.28"
          },
          {
           "affiliations": [
            {
             "city": "Toronto",
             "city_id": 6167865,
             "country": "Canada",
             "country_code": "CA",
             "id": "grid.17063.33",
             "name": "University of Toronto",
             "raw_affiliation": "Donnelly Centre for Cellular and Biomolecular Research, University of Toronto, Toronto, Canada",
             "state": "Ontario",
             "state_code": "CA-ON"
            },
            {
             "city": "Toronto",
             "city_id": 6167865,
             "country": "Canada",
             "country_code": "CA",
             "id": "grid.17063.33",
             "name": "University of Toronto",
             "raw_affiliation": "Department of Biochemistry, University of Toronto, Toronto, Canada",
             "state": "Ontario",
             "state_code": "CA-ON"
            }
           ],
           "corresponding": "",
           "current_organization_id": "grid.17063.33",
           "first_name": "Joseph",
           "last_name": "Bellissimo",
           "orcid": null,
           "raw_affiliation": [
            "Donnelly Centre for Cellular and Biomolecular Research, University of Toronto, Toronto, Canada",
            "Department of Biochemistry, University of Toronto, Toronto, Canada"
           ],
           "researcher_id": "ur.013201460324.84"
          },
          {
           "affiliations": [
            {
             "city": "Toronto",
             "city_id": 6167865,
             "country": "Canada",
             "country_code": "CA",
             "id": "grid.17063.33",
             "name": "University of Toronto",
             "raw_affiliation": "Donnelly Centre for Cellular and Biomolecular Research, University of Toronto, Toronto, Canada",
             "state": "Ontario",
             "state_code": "CA-ON"
            },
            {
             "city": "Toronto",
             "city_id": 6167865,
             "country": "Canada",
             "country_code": "CA",
             "id": "grid.17063.33",
             "name": "University of Toronto",
             "raw_affiliation": "Department of Biochemistry, University of Toronto, Toronto, Canada",
             "state": "Ontario",
             "state_code": "CA-ON"
            }
           ],
           "corresponding": "",
           "current_organization_id": "grid.17063.33",
           "first_name": "Sydney",
           "last_name": "Peters",
           "orcid": null,
           "raw_affiliation": [
            "Donnelly Centre for Cellular and Biomolecular Research, University of Toronto, Toronto, Canada",
            "Department of Biochemistry, University of Toronto, Toronto, Canada"
           ],
           "researcher_id": "ur.013777040724.42"
          },
          {
           "affiliations": [
            {
             "city": "Toronto",
             "city_id": 6167865,
             "country": "Canada",
             "country_code": "CA",
             "id": "grid.17063.33",
             "name": "University of Toronto",
             "raw_affiliation": "Donnelly Centre for Cellular and Biomolecular Research, University of Toronto, Toronto, Canada",
             "state": "Ontario",
             "state_code": "CA-ON"
            },
            {
             "city": "Toronto",
             "city_id": 6167865,
             "country": "Canada",
             "country_code": "CA",
             "id": "grid.17063.33",
             "name": "University of Toronto",
             "raw_affiliation": "Department of Molecular Genetics, University of Toronto, Toronto, Canada",
             "state": "Ontario",
             "state_code": "CA-ON"
            },
            {
             "city": "Toronto",
             "city_id": 6167865,
             "country": "Canada",
             "country_code": "CA",
             "id": "grid.17063.33",
             "name": "University of Toronto",
             "raw_affiliation": "Department of Pharmacology and Toxicology, University of Toronto, Toronto, Canada",
             "state": "Ontario",
             "state_code": "CA-ON"
            }
           ],
           "corresponding": "",
           "current_organization_id": "",
           "first_name": "Peter J.",
           "last_name": "Roy",
           "orcid": [],
           "raw_affiliation": [
            "Donnelly Centre for Cellular and Biomolecular Research, University of Toronto, Toronto, Canada",
            "Department of Molecular Genetics, University of Toronto, Toronto, Canada",
            "Department of Pharmacology and Toxicology, University of Toronto, Toronto, Canada"
           ],
           "researcher_id": null
          },
          {
           "affiliations": [
            {
             "city": "Toronto",
             "city_id": 6167865,
             "country": "Canada",
             "country_code": "CA",
             "id": "grid.17063.33",
             "name": "University of Toronto",
             "raw_affiliation": "Department of Biochemistry, University of Toronto, Toronto, Canada",
             "state": "Ontario",
             "state_code": "CA-ON"
            }
           ],
           "corresponding": "",
           "current_organization_id": "grid.17063.33",
           "first_name": "Haley D. M.",
           "last_name": "Wyatt",
           "orcid": [
            "0000-0001-9995-1057"
           ],
           "raw_affiliation": [
            "Department of Biochemistry, University of Toronto, Toronto, Canada"
           ],
           "researcher_id": "ur.0763405377.20"
          },
          {
           "affiliations": [
            {
             "city": "Toronto",
             "city_id": 6167865,
             "country": "Canada",
             "country_code": "CA",
             "id": "grid.17063.33",
             "name": "University of Toronto",
             "raw_affiliation": "Donnelly Centre for Cellular and Biomolecular Research, University of Toronto, Toronto, Canada",
             "state": "Ontario",
             "state_code": "CA-ON"
            },
            {
             "city": "Toronto",
             "city_id": 6167865,
             "country": "Canada",
             "country_code": "CA",
             "id": "grid.17063.33",
             "name": "University of Toronto",
             "raw_affiliation": "Department of Biochemistry, University of Toronto, Toronto, Canada",
             "state": "Ontario",
             "state_code": "CA-ON"
            }
           ],
           "corresponding": true,
           "current_organization_id": "grid.17063.33",
           "first_name": "Grant W.",
           "last_name": "Brown",
           "orcid": [
            "0000-0002-9002-5003"
           ],
           "raw_affiliation": [
            "Donnelly Centre for Cellular and Biomolecular Research, University of Toronto, Toronto, Canada",
            "Department of Biochemistry, University of Toronto, Toronto, Canada"
           ],
           "researcher_id": "ur.01334540240.16"
          }
         ],
         "id": "pub.1154121202",
         "issue": "1",
         "journal": {
          "id": "jour.1030599",
          "title": "Microbial Cell Factories"
         },
         "pages": "280",
         "title": "Development of a yeast whole-cell biocatalyst for MHET conversion into terephthalic acid and ethylene glycol",
         "type": "article",
         "volume": "21",
         "year": 2022
        },
        {
         "authors": [
          {
           "affiliations": [
            {
             "city": "Wuhan",
             "city_id": 1791247,
             "country": "China",
             "country_code": "CN",
             "id": "grid.412969.1",
             "name": "Wuhan Polytechnic University",
             "raw_affiliation": "College of Mechanical Engineering, Wuhan Polytechnic University, Wuhan, China, whpu.edu.cn",
             "state": null,
             "state_code": null
            },
            {
             "city": "Wuhan",
             "city_id": 1791247,
             "country": "China",
             "country_code": "CN",
             "id": null,
             "name": "Equipment Engineering Technology Research Center for Aquatic Products Processing in Hubei Province, Wuhan, China",
             "raw_affiliation": "Equipment Engineering Technology Research Center for Aquatic Products Processing in Hubei Province, Wuhan, China",
             "state": "Hubei",
             "state_code": null
            }
           ],
           "corresponding": "",
           "current_organization_id": "",
           "first_name": "Yajun",
           "last_name": "Jiang",
           "orcid": [],
           "raw_affiliation": [
            "College of Mechanical Engineering, Wuhan Polytechnic University, Wuhan, China, whpu.edu.cn",
            "Equipment Engineering Technology Research Center for Aquatic Products Processing in Hubei Province, Wuhan, China"
           ],
           "researcher_id": null
          },
          {
           "affiliations": [
            {
             "city": "Wuhan",
             "city_id": 1791247,
             "country": "China",
             "country_code": "CN",
             "id": "grid.412969.1",
             "name": "Wuhan Polytechnic University",
             "raw_affiliation": "College of Mechanical Engineering, Wuhan Polytechnic University, Wuhan, China, whpu.edu.cn",
             "state": null,
             "state_code": null
            },
            {
             "city": "Wuhan",
             "city_id": 1791247,
             "country": "China",
             "country_code": "CN",
             "id": null,
             "name": "Equipment Engineering Technology Research Center for Aquatic Products Processing in Hubei Province, Wuhan, China",
             "raw_affiliation": "Equipment Engineering Technology Research Center for Aquatic Products Processing in Hubei Province, Wuhan, China",
             "state": "Hubei",
             "state_code": null
            }
           ],
           "corresponding": true,
           "current_organization_id": "grid.412969.1",
           "first_name": "Dandan",
           "last_name": "Fu",
           "orcid": [
            "0000-0002-7538-4219"
           ],
           "raw_affiliation": [
            "College of Mechanical Engineering, Wuhan Polytechnic University, Wuhan, China, whpu.edu.cn",
            "Equipment Engineering Technology Research Center for Aquatic Products Processing in Hubei Province, Wuhan, China"
           ],
           "researcher_id": "ur.013601223323.16"
          },
          {
           "affiliations": [
            {
             "city": "Wuhan",
             "city_id": 1791247,
             "country": "China",
             "country_code": "CN",
             "id": "grid.412969.1",
             "name": "Wuhan Polytechnic University",
             "raw_affiliation": "College of Mechanical Engineering, Wuhan Polytechnic University, Wuhan, China, whpu.edu.cn",
             "state": null,
             "state_code": null
            },
            {
             "city": "Wuhan",
             "city_id": 1791247,
             "country": "China",
             "country_code": "CN",
             "id": null,
             "name": "Equipment Engineering Technology Research Center for Aquatic Products Processing in Hubei Province, Wuhan, China",
             "raw_affiliation": "Equipment Engineering Technology Research Center for Aquatic Products Processing in Hubei Province, Wuhan, China",
             "state": "Hubei",
             "state_code": null
            }
           ],
           "corresponding": "",
           "current_organization_id": "grid.412969.1",
           "first_name": "Ming",
           "last_name": "Ma",
           "orcid": [
            "0000-0003-2511-1498"
           ],
           "raw_affiliation": [
            "College of Mechanical Engineering, Wuhan Polytechnic University, Wuhan, China, whpu.edu.cn",
            "Equipment Engineering Technology Research Center for Aquatic Products Processing in Hubei Province, Wuhan, China"
           ],
           "researcher_id": "ur.014016110510.25"
          }
         ],
         "id": "pub.1154121150",
         "journal": {
          "id": "jour.1087087",
          "title": "Journal of Food Quality"
         },
         "pages": "1-8",
         "title": "Egg Freshness Indexes Correlations with Ovomucin Concentration during Storage",
         "type": "article",
         "volume": "2022",
         "year": 2022
        },
        {
         "authors": [
          {
           "affiliations": [
            {
             "city": "Kunming",
             "city_id": 1804651,
             "country": "China",
             "country_code": "CN",
             "id": "grid.410696.c",
             "name": "Yunnan Agricultural University",
             "raw_affiliation": "Yunnan Agricultural University, Kunming 650051, China, ynau.edu.cn",
             "state": null,
             "state_code": null
            }
           ],
           "corresponding": "",
           "current_organization_id": "",
           "first_name": "Junming",
           "last_name": "Han",
           "orcid": [],
           "raw_affiliation": [
            "Yunnan Agricultural University, Kunming 650051, China, ynau.edu.cn"
           ],
           "researcher_id": null
          },
          {
           "affiliations": [
            {
             "city": "Kunming",
             "city_id": 1804651,
             "country": "China",
             "country_code": "CN",
             "id": "grid.410696.c",
             "name": "Yunnan Agricultural University",
             "raw_affiliation": "Yunnan Agricultural University, Kunming 650051, China, ynau.edu.cn",
             "state": null,
             "state_code": null
            }
           ],
           "corresponding": true,
           "current_organization_id": "grid.410696.c",
           "first_name": "Tong",
           "last_name": "Li",
           "orcid": [
            "0000-0002-3257-213X"
           ],
           "raw_affiliation": [
            "Yunnan Agricultural University, Kunming 650051, China, ynau.edu.cn"
           ],
           "researcher_id": "ur.011765777231.64"
          },
          {
           "affiliations": [
            {
             "city": "Kunming",
             "city_id": 1804651,
             "country": "China",
             "country_code": "CN",
             "id": "grid.410696.c",
             "name": "Yunnan Agricultural University",
             "raw_affiliation": "Yunnan Agricultural University, Kunming 650051, China, ynau.edu.cn",
             "state": null,
             "state_code": null
            },
            {
             "city": "Kunming",
             "city_id": 1804651,
             "country": "China",
             "country_code": "CN",
             "id": "grid.410696.c",
             "name": "Yunnan Agricultural University",
             "raw_affiliation": "College of Big Data, Yunnan Agricultural University, Kunming 650051, China, ynau.edu.cn",
             "state": null,
             "state_code": null
            }
           ],
           "corresponding": "",
           "current_organization_id": "",
           "first_name": "Yun",
           "last_name": "He",
           "orcid": [],
           "raw_affiliation": [
            "Yunnan Agricultural University, Kunming 650051, China, ynau.edu.cn",
            "College of Big Data, Yunnan Agricultural University, Kunming 650051, China, ynau.edu.cn"
           ],
           "researcher_id": null
          },
          {
           "affiliations": [
            {
             "city": "Kunming",
             "city_id": 1804651,
             "country": "China",
             "country_code": "CN",
             "id": "grid.410696.c",
             "name": "Yunnan Agricultural University",
             "raw_affiliation": "Yunnan Agricultural University, Kunming 650051, China, ynau.edu.cn",
             "state": null,
             "state_code": null
            },
            {
             "city": "Kunming",
             "city_id": 1804651,
             "country": "China",
             "country_code": "CN",
             "id": "grid.410696.c",
             "name": "Yunnan Agricultural University",
             "raw_affiliation": "College of Big Data, Yunnan Agricultural University, Kunming 650051, China, ynau.edu.cn",
             "state": null,
             "state_code": null
            }
           ],
           "corresponding": "",
           "current_organization_id": "",
           "first_name": "Quan",
           "last_name": "Gao",
           "orcid": [],
           "raw_affiliation": [
            "Yunnan Agricultural University, Kunming 650051, China, ynau.edu.cn",
            "College of Big Data, Yunnan Agricultural University, Kunming 650051, China, ynau.edu.cn"
           ],
           "researcher_id": null
          }
         ],
         "id": "pub.1154121135",
         "journal": {
          "id": "jour.1136980",
          "title": "Mathematical Problems in Engineering"
         },
         "pages": "1-9",
         "title": "Using Machine Learning Approaches for Food Quality Detection",
         "type": "article",
         "volume": "2022",
         "year": 2022
        },
        {
         "id": "pub.1154120277",
         "issue": "1",
         "journal": {
          "id": "jour.1136051",
          "title": "International Journal of Metalcasting"
         },
         "pages": "580-588",
         "title": "Metalcasting Industry Research",
         "type": "article",
         "volume": "17",
         "year": 2022
        },
        {
         "authors": [
          {
           "affiliations": [
            {
             "city": "Bergamo",
             "city_id": 3182164,
             "country": "Italy",
             "country_code": "IT",
             "id": "grid.33236.37",
             "name": "University of Bergamo",
             "raw_affiliation": "Department of Literature, Philosophy, Communication Studies, University of Bergamo, Bergamo, Italy",
             "state": null,
             "state_code": null
            }
           ],
           "corresponding": "",
           "current_organization_id": "grid.33236.37",
           "first_name": "Mohammad Mehdi",
           "last_name": "Hosseinzadeh",
           "orcid": [
            "0000-0003-3275-6286"
           ],
           "raw_affiliation": [
            "Department of Literature, Philosophy, Communication Studies, University of Bergamo, Bergamo, Italy"
           ],
           "researcher_id": "ur.016567247211.41"
          },
          {
           "affiliations": [
            {
             "city": "Catanzaro",
             "city_id": 2525059,
             "country": "Italy",
             "country_code": "IT",
             "id": "grid.411489.1",
             "name": "Magna Graecia University",
             "raw_affiliation": "Department of Surgical and Medical Sciences and Data Analytics Research Center, University Magna Graecia of Catanzaro, Catanzaro, Italy",
             "state": null,
             "state_code": null
            }
           ],
           "corresponding": "",
           "current_organization_id": "grid.411489.1",
           "first_name": "Mario",
           "last_name": "Cannataro",
           "orcid": [
            "0000-0003-1502-2387"
           ],
           "raw_affiliation": [
            "Department of Surgical and Medical Sciences and Data Analytics Research Center, University Magna Graecia of Catanzaro, Catanzaro, Italy"
           ],
           "researcher_id": "ur.01252122770.83"
          },
          {
           "affiliations": [
            {
             "city": "Catanzaro",
             "city_id": 2525059,
             "country": "Italy",
             "country_code": "IT",
             "id": "grid.411489.1",
             "name": "Magna Graecia University",
             "raw_affiliation": "Department of Surgical and Medical Sciences and Data Analytics Research Center, University Magna Graecia of Catanzaro, Catanzaro, Italy",
             "state": null,
             "state_code": null
            }
           ],
           "corresponding": true,
           "current_organization_id": "grid.411489.1",
           "first_name": "Pietro Hiram",
           "last_name": "Guzzi",
           "orcid": [
            "0000-0001-5542-2997"
           ],
           "raw_affiliation": [
            "Department of Surgical and Medical Sciences and Data Analytics Research Center, University Magna Graecia of Catanzaro, Catanzaro, Italy"
           ],
           "researcher_id": "ur.011204130505.68"
          },
          {
           "affiliations": [
            {
             "city": "Bergamo",
             "city_id": 3182164,
             "country": "Italy",
             "country_code": "IT",
             "id": "grid.33236.37",
             "name": "University of Bergamo",
             "raw_affiliation": "Department of Literature, Philosophy, Communication Studies, University of Bergamo, Bergamo, Italy",
             "state": null,
             "state_code": null
            }
           ],
           "corresponding": "",
           "current_organization_id": "grid.33236.37",
           "first_name": "Riccardo",
           "last_name": "Dondi",
           "orcid": null,
           "raw_affiliation": [
            "Department of Literature, Philosophy, Communication Studies, University of Bergamo, Bergamo, Italy"
           ],
           "researcher_id": "ur.013111453243.48"
          }
         ],
         "id": "pub.1154120254",
         "issue": "1",
         "journal": {
          "id": "jour.1047663",
          "title": "Network Modeling Analysis in Health Informatics and Bioinformatics"
         },
         "pages": "10",
         "title": "Temporal networks in biology and medicine: a survey on models, algorithms, and tools",
         "type": "article",
         "volume": "12",
         "year": 2022
        },
        {
         "authors": [
          {
           "affiliations": [
            {
             "city": "León",
             "city_id": 3118532,
             "country": "Spain",
             "country_code": "ES",
             "id": "grid.4807.b",
             "name": "University of Leon",
             "raw_affiliation": "Department of Mathematics, Universidad de León, Campus de Vegazana, 24071, León, Spain",
             "state": null,
             "state_code": null
            }
           ],
           "corresponding": true,
           "current_organization_id": "grid.4807.b",
           "first_name": "Noemí",
           "last_name": "DeCastro-García",
           "orcid": [
            "0000-0002-5610-0153"
           ],
           "raw_affiliation": [
            "Department of Mathematics, Universidad de León, Campus de Vegazana, 24071, León, Spain"
           ],
           "researcher_id": "ur.014042645401.47"
          },
          {
           "affiliations": [
            {
             "city": "León",
             "city_id": 3118532,
             "country": "Spain",
             "country_code": "ES",
             "id": "grid.4807.b",
             "name": "University of Leon",
             "raw_affiliation": "RIASC, Universidad de León, Campus de Vegazana, 24071, León, Spain",
             "state": null,
             "state_code": null
            }
           ],
           "corresponding": "",
           "current_organization_id": "grid.4807.b",
           "first_name": "David",
           "last_name": "Escudero García",
           "orcid": [
            "0000-0002-3776-3920"
           ],
           "raw_affiliation": [
            "RIASC, Universidad de León, Campus de Vegazana, 24071, León, Spain"
           ],
           "researcher_id": "ur.014574607067.94"
          },
          {
           "affiliations": [
            {
             "city": "León",
             "city_id": 3118532,
             "country": "Spain",
             "country_code": "ES",
             "id": "grid.4807.b",
             "name": "University of Leon",
             "raw_affiliation": "Department of Mathematics, Universidad de León, Campus de Vegazana, 24071, León, Spain",
             "state": null,
             "state_code": null
            }
           ],
           "corresponding": "",
           "current_organization_id": "grid.4807.b",
           "first_name": "Miguel V.",
           "last_name": "Carriegos",
           "orcid": [
            "0000-0002-6850-0277"
           ],
           "raw_affiliation": [
            "Department of Mathematics, Universidad de León, Campus de Vegazana, 24071, León, Spain"
           ],
           "researcher_id": "ur.014432353021.75"
          }
         ],
         "id": "pub.1154120148",
         "journal": {
          "id": "jour.1327893",
          "title": "Wireless Networks"
         },
         "pages": "1-16",
         "title": "A mathematical analysis about the geo-temporal characterization of the multi-class maliciousness of an IP address",
         "type": "article",
         "year": 2022
        },
        {
         "authors": [
          {
           "affiliations": [
            {
             "city": "Topi",
             "city_id": 1163224,
             "country": "Pakistan",
             "country_code": "PK",
             "id": "grid.442860.c",
             "name": "Ghulam Ishaq Khan Institute of Engineering Sciences and Technology",
             "raw_affiliation": "The Machine Intelligence Research Group (MInG), Faculty of Computer Science and Engineering, Ghulam Ishaq Khan Institute of Engineering Sciences and Technology, Topi, Pakistan",
             "state": null,
             "state_code": null
            },
            {
             "city": "Regina",
             "city_id": 6119109,
             "country": "Canada",
             "country_code": "CA",
             "id": "grid.57926.3f",
             "name": "University of Regina",
             "raw_affiliation": "Faculty of Engineering and Applied Science, University of Regina, Regina, Canada",
             "state": "Saskatchewan",
             "state_code": "CA-SK"
            }
           ],
           "corresponding": "",
           "current_organization_id": "grid.57926.3f",
           "first_name": "Nisar",
           "last_name": "Ali",
           "orcid": null,
           "raw_affiliation": [
            "The Machine Intelligence Research Group (MInG), Faculty of Computer Science and Engineering, Ghulam Ishaq Khan Institute of Engineering Sciences and Technology, Topi, Pakistan",
            "Faculty of Engineering and Applied Science, University of Regina, Regina, Canada"
           ],
           "researcher_id": "ur.016230216416.08"
          },
          {
           "affiliations": [
            {
             "city": "Topi",
             "city_id": 1163224,
             "country": "Pakistan",
             "country_code": "PK",
             "id": "grid.442860.c",
             "name": "Ghulam Ishaq Khan Institute of Engineering Sciences and Technology",
             "raw_affiliation": "The Machine Intelligence Research Group (MInG), Faculty of Computer Science and Engineering, Ghulam Ishaq Khan Institute of Engineering Sciences and Technology, Topi, Pakistan",
             "state": null,
             "state_code": null
            }
           ],
           "corresponding": true,
           "current_organization_id": "grid.442860.c",
           "first_name": "Zahid",
           "last_name": "Halim",
           "orcid": [
            "0000-0003-3094-3483"
           ],
           "raw_affiliation": [
            "The Machine Intelligence Research Group (MInG), Faculty of Computer Science and Engineering, Ghulam Ishaq Khan Institute of Engineering Sciences and Technology, Topi, Pakistan"
           ],
           "researcher_id": "ur.011020731477.21"
          },
          {
           "affiliations": [
            {
             "city": "Birmingham",
             "city_id": 2655603,
             "country": "United Kingdom",
             "country_code": "GB",
             "id": "grid.6572.6",
             "name": "University of Birmingham",
             "raw_affiliation": "School of Computer Science, University of Birmingham, Birmingham, UK",
             "state": null,
             "state_code": null
            }
           ],
           "corresponding": "",
           "current_organization_id": "grid.442860.c",
           "first_name": "Syed Fawad",
           "last_name": "Hussain",
           "orcid": [
            "0000-0001-9122-6029"
           ],
           "raw_affiliation": [
            "School of Computer Science, University of Birmingham, Birmingham, UK"
           ],
           "researcher_id": "ur.014535217612.20"
          }
         ],
         "id": "pub.1154120138",
         "journal": {
          "id": "jour.1089056",
          "title": "Scientometrics"
         },
         "pages": "1-33",
         "title": "An artificial intelligence-based framework for data-driven categorization of computer scientists: a case study of world’s Top 10 computing departments",
         "type": "article",
         "year": 2022
        },
        {
         "authors": [
          {
           "affiliations": [
            {
             "city": "Shanghai",
             "city_id": 1796236,
             "country": "China",
             "country_code": "CN",
             "id": "grid.412542.4",
             "name": "Shanghai University of Engineering Sciences",
             "raw_affiliation": "School of Materials Science and Engineering, Shanghai University of Engineering Science, 201620, Shanghai, China",
             "state": null,
             "state_code": null
            }
           ],
           "corresponding": "",
           "current_organization_id": "grid.412542.4",
           "first_name": "Pengyu",
           "last_name": "Zhang",
           "orcid": null,
           "raw_affiliation": [
            "School of Materials Science and Engineering, Shanghai University of Engineering Science, 201620, Shanghai, China"
           ],
           "researcher_id": "ur.013303220476.28"
          },
          {
           "affiliations": [
            {
             "city": "Shanghai",
             "city_id": 1796236,
             "country": "China",
             "country_code": "CN",
             "id": "grid.412542.4",
             "name": "Shanghai University of Engineering Sciences",
             "raw_affiliation": "School of Materials Science and Engineering, Shanghai University of Engineering Science, 201620, Shanghai, China",
             "state": null,
             "state_code": null
            }
           ],
           "corresponding": "",
           "current_organization_id": "",
           "first_name": "Ji",
           "last_name": "Wang",
           "orcid": [],
           "raw_affiliation": [
            "School of Materials Science and Engineering, Shanghai University of Engineering Science, 201620, Shanghai, China"
           ],
           "researcher_id": null
          },
          {
           "affiliations": [
            {
             "city": "Shanghai",
             "city_id": 1796236,
             "country": "China",
             "country_code": "CN",
             "id": "grid.412542.4",
             "name": "Shanghai University of Engineering Sciences",
             "raw_affiliation": "School of Materials Science and Engineering, Shanghai University of Engineering Science, 201620, Shanghai, China",
             "state": null,
             "state_code": null
            }
           ],
           "corresponding": "",
           "current_organization_id": "",
           "first_name": "Feng",
           "last_name": "Zhang",
           "orcid": [],
           "raw_affiliation": [
            "School of Materials Science and Engineering, Shanghai University of Engineering Science, 201620, Shanghai, China"
           ],
           "researcher_id": null
          },
          {
           "affiliations": [
            {
             "city": "Shanghai",
             "city_id": 1796236,
             "country": "China",
             "country_code": "CN",
             "id": "grid.412542.4",
             "name": "Shanghai University of Engineering Sciences",
             "raw_affiliation": "School of Materials Science and Engineering, Shanghai University of Engineering Science, 201620, Shanghai, China",
             "state": null,
             "state_code": null
            }
           ],
           "corresponding": true,
           "current_organization_id": "grid.412542.4",
           "first_name": "Peiquan",
           "last_name": "Xu",
           "orcid": [
            "0000-0002-7711-4431"
           ],
           "raw_affiliation": [
            "School of Materials Science and Engineering, Shanghai University of Engineering Science, 201620, Shanghai, China"
           ],
           "researcher_id": "ur.07531746635.29"
          },
          {
           "affiliations": [
            {
             "city": "Edmonton",
             "city_id": 5946768,
             "country": "Canada",
             "country_code": "CA",
             "id": "grid.17089.37",
             "name": "University of Alberta",
             "raw_affiliation": "Department of Chemical and Materials Engineering, University of Alberta, T6G 1H9, Edmonton, Canada",
             "state": "Alberta",
             "state_code": "CA-AB"
            }
           ],
           "corresponding": true,
           "current_organization_id": "",
           "first_name": "Leijun",
           "last_name": "Li",
           "orcid": [],
           "raw_affiliation": [
            "Department of Chemical and Materials Engineering, University of Alberta, T6G 1H9, Edmonton, Canada"
           ],
           "researcher_id": null
          },
          {
           "affiliations": [
            {
             "city": "Shanghai",
             "city_id": 1796236,
             "country": "China",
             "country_code": "CN",
             "id": null,
             "name": "Yanfeng Visteon Electronic Technology (Shanghai) Co., Ltd, 200235, Shanghai, China",
             "raw_affiliation": "Yanfeng Visteon Electronic Technology (Shanghai) Co., Ltd, 200235, Shanghai, China",
             "state": "Shanghai",
             "state_code": null
            }
           ],
           "corresponding": "",
           "current_organization_id": "",
           "first_name": "Baoming",
           "last_name": "Li",
           "orcid": [],
           "raw_affiliation": [
            "Yanfeng Visteon Electronic Technology (Shanghai) Co., Ltd, 200235, Shanghai, China"
           ],
           "researcher_id": null
          }
         ],
         "id": "pub.1154113876",
         "issue": "1",
         "journal": {
          "id": "jour.1045337",
          "title": "Scientific Reports"
         },
         "pages": "22651",
         "title": "Design and analysis of welding inspection robot",
         "type": "article",
         "volume": "12",
         "year": 2022
        },
        {
         "id": "pub.1154095471",
         "issue": "Suppl 4",
         "journal": {
          "id": "jour.1043606",
          "title": "Insights into Imaging"
         },
         "pages": "205",
         "title": "ECR 2022 Book of Abstracts",
         "type": "article",
         "volume": "13",
         "year": 2022
        },
        {
         "authors": [
          {
           "affiliations": [],
           "corresponding": true,
           "current_organization_id": null,
           "first_name": "SVETLANA",
           "last_name": "BRYZGALOVA",
           "orcid": null,
           "raw_affiliation": [],
           "researcher_id": "ur.010326253537.37"
          },
          {
           "affiliations": [],
           "corresponding": "",
           "current_organization_id": null,
           "first_name": "JIANTAO",
           "last_name": "HUANG",
           "orcid": null,
           "raw_affiliation": [],
           "researcher_id": "ur.011123634137.06"
          },
          {
           "affiliations": [],
           "corresponding": "",
           "current_organization_id": "grid.13063.37",
           "first_name": "CHRISTIAN",
           "last_name": "JULLIARD",
           "orcid": null,
           "raw_affiliation": [],
           "researcher_id": "ur.01327342060.06"
          }
         ],
         "id": "pub.1153526584",
         "issue": "1",
         "journal": {
          "id": "jour.1041970",
          "title": "The Journal of Finance"
         },
         "pages": "487-557",
         "title": "Bayesian Solutions for the Factor Zoo: We Just Ran Two Quadrillion Models",
         "type": "article",
         "volume": "78",
         "year": 2022
        },
        {
         "authors": [
          {
           "affiliations": [
            {
             "city": "Kyiv",
             "city_id": 703448,
             "country": "Ukraine",
             "country_code": "UA",
             "id": "grid.440544.5",
             "name": "National Technical University of Ukraine “Igor Sikorsky Kyiv Polytechnic Institute”",
             "raw_affiliation": "Національний технічний університет України «Київський політехнічний інститут імені Ігоря Сікорського»",
             "state": null,
             "state_code": null
            }
           ],
           "corresponding": "",
           "current_organization_id": "",
           "first_name": "Л.О.",
           "last_name": "Левчик",
           "orcid": [],
           "raw_affiliation": [
            "Національний технічний університет України «Київський політехнічний інститут імені Ігоря Сікорського»"
           ],
           "researcher_id": null
          },
          {
           "affiliations": [
            {
             "city": "Kyiv",
             "city_id": 703448,
             "country": "Ukraine",
             "country_code": "UA",
             "id": "grid.440544.5",
             "name": "National Technical University of Ukraine “Igor Sikorsky Kyiv Polytechnic Institute”",
             "raw_affiliation": "Національний технічний університет України «Київський політехнічний інститут імені Ігоря Сікорського»",
             "state": null,
             "state_code": null
            }
           ],
           "corresponding": "",
           "current_organization_id": "grid.440544.5",
           "first_name": "В.О.",
           "last_name": "Бабенко",
           "orcid": [
            "0000-0002-8433-3878"
           ],
           "raw_affiliation": [
            "Національний технічний університет України «Київський політехнічний інститут імені Ігоря Сікорського»"
           ],
           "researcher_id": "ur.013767104153.13"
          },
          {
           "affiliations": [
            {
             "city": "Kyiv",
             "city_id": 703448,
             "country": "Ukraine",
             "country_code": "UA",
             "id": "grid.440544.5",
             "name": "National Technical University of Ukraine “Igor Sikorsky Kyiv Polytechnic Institute”",
             "raw_affiliation": "Національний технічний університет України «Київський політехнічний інститут імені Ігоря Сікорського»",
             "state": null,
             "state_code": null
            }
           ],
           "corresponding": "",
           "current_organization_id": "grid.440544.5",
           "first_name": "К.С.",
           "last_name": "Бовсуновська",
           "orcid": null,
           "raw_affiliation": [
            "Національний технічний університет України «Київський політехнічний інститут імені Ігоря Сікорського»"
           ],
           "researcher_id": "ur.014200443232.66"
          },
          {
           "affiliations": [
            {
             "city": "Kyiv",
             "city_id": 703448,
             "country": "Ukraine",
             "country_code": "UA",
             "id": "grid.440544.5",
             "name": "National Technical University of Ukraine “Igor Sikorsky Kyiv Polytechnic Institute”",
             "raw_affiliation": "Національний технічний університет України «Київський політехнічний інститут імені Ігоря Сікорського»",
             "state": null,
             "state_code": null
            }
           ],
           "corresponding": "",
           "current_organization_id": "",
           "first_name": "В.А.",
           "last_name": "Павлов",
           "orcid": [],
           "raw_affiliation": [
            "Національний технічний університет України «Київський політехнічний інститут імені Ігоря Сікорського»"
           ],
           "researcher_id": null
          },
          {
           "affiliations": [
            {
             "city": "Kyiv",
             "city_id": 703448,
             "country": "Ukraine",
             "country_code": "UA",
             "id": "grid.440544.5",
             "name": "National Technical University of Ukraine “Igor Sikorsky Kyiv Polytechnic Institute”",
             "raw_affiliation": "Національний технічний університет України «Київський політехнічний інститут імені Ігоря Сікорського»",
             "state": null,
             "state_code": null
            }
           ],
           "corresponding": "",
           "current_organization_id": "",
           "first_name": "Є.А.",
           "last_name": "Настенко",
           "orcid": [],
           "raw_affiliation": [
            "Національний технічний університет України «Київський політехнічний інститут імені Ігоря Сікорського»"
           ],
           "researcher_id": null
          }
         ],
         "id": "pub.1154802638",
         "issue": "8",
         "journal": {
          "id": "jour.1385444",
          "title": "Біомедична інженерія і технологія"
         },
         "pages": "64-76",
         "title": "ДІАГНОСТИЧНІ АЛГОРИТМИ ВИЗНАЧЕННЯ ГЕНЕТИЧНИХ МУТАЦІЙ РАКУ ЗА ДОПОМОГОЮ АНАЛІЗУ МЕДИЧНИХ ТЕКСТІВ",
         "type": "article",
         "year": 2022
        },
        {
         "authors": [
          {
           "affiliations": [],
           "corresponding": "",
           "current_organization_id": "grid.449836.4",
           "first_name": "Qigan",
           "last_name": "Shao",
           "orcid": null,
           "raw_affiliation": [],
           "researcher_id": "ur.07645623176.47"
          },
          {
           "affiliations": [],
           "corresponding": "",
           "current_organization_id": "grid.411218.f",
           "first_name": "Huai-Wei",
           "last_name": "Lo",
           "orcid": [
            "0000-0002-8281-8740"
           ],
           "raw_affiliation": [],
           "researcher_id": "ur.010261453122.04"
          },
          {
           "affiliations": [],
           "corresponding": true,
           "current_organization_id": "grid.412087.8",
           "first_name": "James J.H.",
           "last_name": "Liou",
           "orcid": [
            "0000-0002-6918-6048"
           ],
           "raw_affiliation": [],
           "researcher_id": "ur.012573153203.48"
          },
          {
           "affiliations": [],
           "corresponding": "",
           "current_organization_id": "grid.469086.5",
           "first_name": "Gwo-Hshiung",
           "last_name": "Tzeng",
           "orcid": [
            "0000-0003-1856-7497"
           ],
           "raw_affiliation": [],
           "researcher_id": "ur.013453226127.40"
          }
         ],
         "id": "pub.1154198426",
         "journal": {
          "id": "jour.1042569",
          "title": "International Journal of Information Technology & Decision Making"
         },
         "title": "A data-driven model to construct the influential factors of online product satisfaction",
         "type": "article",
         "year": 2022
        },
        {
         "authors": [
          {
           "affiliations": [
            {
             "city": "Poznań",
             "city_id": 3088171,
             "country": "Poland",
             "country_code": "PL",
             "id": "grid.6963.a",
             "name": "Poznań University of Technology",
             "raw_affiliation": "Institute of Chemical Technology and Engineering, Faculty of Chemical Technology, Poznan University of Technology, ul. Berdychowo 4, 60-965 Poznan, Poland",
             "state": null,
             "state_code": null
            }
           ],
           "corresponding": "",
           "current_organization_id": "grid.6963.a",
           "first_name": "Katarzyna",
           "last_name": "Staszak",
           "orcid": [
            "0000-0003-1335-4791"
           ],
           "raw_affiliation": [
            "Institute of Chemical Technology and Engineering, Faculty of Chemical Technology, Poznan University of Technology, ul. Berdychowo 4, 60-965 Poznan, Poland"
           ],
           "researcher_id": "ur.01270646046.41"
          },
          {
           "affiliations": [
            {
             "city": "Poznań",
             "city_id": 3088171,
             "country": "Poland",
             "country_code": "PL",
             "id": "grid.6963.a",
             "name": "Poznań University of Technology",
             "raw_affiliation": "Department of Water Supply and Bioeconomy, Faculty of Environmental Engineering and Energy, Poznan University of Technology, ul. Berdychowo 4, 60-965 Poznan, Poland",
             "state": null,
             "state_code": null
            }
           ],
           "corresponding": "",
           "current_organization_id": "grid.6963.a",
           "first_name": "Izabela",
           "last_name": "Kruszelnicka",
           "orcid": [
            "0000-0003-4400-2553"
           ],
           "raw_affiliation": [
            "Department of Water Supply and Bioeconomy, Faculty of Environmental Engineering and Energy, Poznan University of Technology, ul. Berdychowo 4, 60-965 Poznan, Poland"
           ],
           "researcher_id": "ur.015401141303.47"
          },
          {
           "affiliations": [
            {
             "city": "Poznań",
             "city_id": 3088171,
             "country": "Poland",
             "country_code": "PL",
             "id": "grid.6963.a",
             "name": "Poznań University of Technology",
             "raw_affiliation": "Department of Water Supply and Bioeconomy, Faculty of Environmental Engineering and Energy, Poznan University of Technology, ul. Berdychowo 4, 60-965 Poznan, Poland",
             "state": null,
             "state_code": null
            }
           ],
           "corresponding": "",
           "current_organization_id": "grid.6963.a",
           "first_name": "Dobrochna",
           "last_name": "Ginter-Kramarczyk",
           "orcid": [
            "0000-0001-6588-4546"
           ],
           "raw_affiliation": [
            "Department of Water Supply and Bioeconomy, Faculty of Environmental Engineering and Energy, Poznan University of Technology, ul. Berdychowo 4, 60-965 Poznan, Poland"
           ],
           "researcher_id": "ur.0770166254.08"
          },
          {
           "affiliations": [
            {
             "city": "Poznań",
             "city_id": 3088171,
             "country": "Poland",
             "country_code": "PL",
             "id": "grid.6963.a",
             "name": "Poznań University of Technology",
             "raw_affiliation": "Department of Water Supply and Bioeconomy, Faculty of Environmental Engineering and Energy, Poznan University of Technology, ul. Berdychowo 4, 60-965 Poznan, Poland",
             "state": null,
             "state_code": null
            }
           ],
           "corresponding": "",
           "current_organization_id": "grid.6963.a",
           "first_name": "Wojciech",
           "last_name": "Góra",
           "orcid": [
            "0000-0002-7131-1311"
           ],
           "raw_affiliation": [
            "Department of Water Supply and Bioeconomy, Faculty of Environmental Engineering and Energy, Poznan University of Technology, ul. Berdychowo 4, 60-965 Poznan, Poland"
           ],
           "researcher_id": "ur.011233122116.32"
          },
          {
           "affiliations": [
            {
             "city": "Poznań",
             "city_id": 3088171,
             "country": "Poland",
             "country_code": "PL",
             "id": "grid.6963.a",
             "name": "Poznań University of Technology",
             "raw_affiliation": "Institute of Chemistry and Technical Electrochemistry, Faculty of Chemical Technology, Poznan University of Technology, ul. Berdychowo 4, 60-965 Poznan, Poland",
             "state": null,
             "state_code": null
            }
           ],
           "corresponding": "",
           "current_organization_id": "grid.6963.a",
           "first_name": "Marek",
           "last_name": "Baraniak",
           "orcid": [
            "0000-0002-6418-2443"
           ],
           "raw_affiliation": [
            "Institute of Chemistry and Technical Electrochemistry, Faculty of Chemical Technology, Poznan University of Technology, ul. Berdychowo 4, 60-965 Poznan, Poland"
           ],
           "researcher_id": "ur.01262041661.31"
          },
          {
           "affiliations": [
            {
             "city": "Poznań",
             "city_id": 3088171,
             "country": "Poland",
             "country_code": "PL",
             "id": "grid.6963.a",
             "name": "Poznań University of Technology",
             "raw_affiliation": "Institute of Chemistry and Technical Electrochemistry, Faculty of Chemical Technology, Poznan University of Technology, ul. Berdychowo 4, 60-965 Poznan, Poland",
             "state": null,
             "state_code": null
            }
           ],
           "corresponding": "",
           "current_organization_id": "grid.6963.a",
           "first_name": "Grzegorz",
           "last_name": "Lota",
           "orcid": [
            "0000-0002-4329-9423"
           ],
           "raw_affiliation": [
            "Institute of Chemistry and Technical Electrochemistry, Faculty of Chemical Technology, Poznan University of Technology, ul. Berdychowo 4, 60-965 Poznan, Poland"
           ],
           "researcher_id": "ur.013161505703.25"
          },
          {
           "affiliations": [
            {
             "city": "Poznań",
             "city_id": 3088171,
             "country": "Poland",
             "country_code": "PL",
             "id": "grid.6963.a",
             "name": "Poznań University of Technology",
             "raw_affiliation": "Institute of Chemical Technology and Engineering, Faculty of Chemical Technology, Poznan University of Technology, ul. Berdychowo 4, 60-965 Poznan, Poland",
             "state": null,
             "state_code": null
            }
           ],
           "corresponding": true,
           "current_organization_id": "grid.6963.a",
           "first_name": "Magdalena",
           "last_name": "Regel-Rosocka",
           "orcid": [
            "0000-0002-4610-760X"
           ],
           "raw_affiliation": [
            "Institute of Chemical Technology and Engineering, Faculty of Chemical Technology, Poznan University of Technology, ul. Berdychowo 4, 60-965 Poznan, Poland"
           ],
           "researcher_id": "ur.01262135357.06"
          }
         ],
         "id": "pub.1154188362",
         "issue": "1",
         "journal": {
          "id": "jour.1044868",
          "title": "Materials"
         },
         "pages": "378",
         "title": "Advances in the Removal of Cr(III) from Spent Industrial Effluents—A Review",
         "type": "article",
         "volume": "16",
         "year": 2022
        },
        {
         "authors": [
          {
           "affiliations": [
            {
             "city": "Krakow",
             "city_id": 3094802,
             "country": "Poland",
             "country_code": "PL",
             "id": "grid.9922.0",
             "name": "AGH University of Science and Technology",
             "raw_affiliation": "Faculty of Non-Ferrous Metals, AGH University of Science and Technology, Al. Mickiewicza 30, 30-059 Krakow, Poland",
             "state": null,
             "state_code": null
            }
           ],
           "corresponding": true,
           "current_organization_id": "grid.9922.0",
           "first_name": "Krzysztof",
           "last_name": "Żaba",
           "orcid": [
            "0000-0002-6541-885X"
           ],
           "raw_affiliation": [
            "Faculty of Non-Ferrous Metals, AGH University of Science and Technology, Al. Mickiewicza 30, 30-059 Krakow, Poland"
           ],
           "researcher_id": "ur.013503346417.91"
          },
          {
           "affiliations": [
            {
             "city": "Krakow",
             "city_id": 3094802,
             "country": "Poland",
             "country_code": "PL",
             "id": "grid.9922.0",
             "name": "AGH University of Science and Technology",
             "raw_affiliation": "Faculty of Non-Ferrous Metals, AGH University of Science and Technology, Al. Mickiewicza 30, 30-059 Krakow, Poland",
             "state": null,
             "state_code": null
            }
           ],
           "corresponding": "",
           "current_organization_id": "grid.9922.0",
           "first_name": "Sandra",
           "last_name": "Puchlerska",
           "orcid": [
            "0000-0001-7009-0716"
           ],
           "raw_affiliation": [
            "Faculty of Non-Ferrous Metals, AGH University of Science and Technology, Al. Mickiewicza 30, 30-059 Krakow, Poland"
           ],
           "researcher_id": "ur.016005336543.76"
          },
          {
           "affiliations": [
            {
             "city": "Krakow",
             "city_id": 3094802,
             "country": "Poland",
             "country_code": "PL",
             "id": "grid.9922.0",
             "name": "AGH University of Science and Technology",
             "raw_affiliation": "Faculty of Non-Ferrous Metals, AGH University of Science and Technology, Al. Mickiewicza 30, 30-059 Krakow, Poland",
             "state": null,
             "state_code": null
            }
           ],
           "corresponding": "",
           "current_organization_id": null,
           "first_name": "Łukasz",
           "last_name": "Kuczek",
           "orcid": null,
           "raw_affiliation": [
            "Faculty of Non-Ferrous Metals, AGH University of Science and Technology, Al. Mickiewicza 30, 30-059 Krakow, Poland"
           ],
           "researcher_id": "ur.010527335231.25"
          },
          {
           "affiliations": [
            {
             "city": "Rzeszów",
             "city_id": 759734,
             "country": "Poland",
             "country_code": "PL",
             "id": "grid.412309.d",
             "name": "Rzeszów University of Technology",
             "raw_affiliation": "Department of Manufacturing and Production Engineering, Faculty of Mechanical Engineering and Aeronautics, Rzeszow University of Technology, Al. Powst. Warszawy 8, 35-959 Rzeszów, Poland",
             "state": null,
             "state_code": null
            }
           ],
           "corresponding": "",
           "current_organization_id": "grid.412309.d",
           "first_name": "Tomasz",
           "last_name": "Trzepieciński",
           "orcid": [
            "0000-0002-4366-0135"
           ],
           "raw_affiliation": [
            "Department of Manufacturing and Production Engineering, Faculty of Mechanical Engineering and Aeronautics, Rzeszow University of Technology, Al. Powst. Warszawy 8, 35-959 Rzeszów, Poland"
           ],
           "researcher_id": "ur.013374715743.91"
          },
          {
           "affiliations": [
            {
             "city": "Warsaw",
             "city_id": 756135,
             "country": "Poland",
             "country_code": "PL",
             "id": "grid.1035.7",
             "name": "Warsaw University of Technology",
             "raw_affiliation": "Faculty of Materials Science and Engineering, Warsaw University of Technology, Woloska 141, 02-507 Warsaw, Poland",
             "state": null,
             "state_code": null
            }
           ],
           "corresponding": "",
           "current_organization_id": "",
           "first_name": "Piotr",
           "last_name": "Maj",
           "orcid": [],
           "raw_affiliation": [
            "Faculty of Materials Science and Engineering, Warsaw University of Technology, Woloska 141, 02-507 Warsaw, Poland"
           ],
           "researcher_id": null
          }
         ],
         "id": "pub.1154188352",
         "issue": "1",
         "journal": {
          "id": "jour.1044868",
          "title": "Materials"
         },
         "pages": "367",
         "title": "Effect of Step Size on the Formability of Al/Cu Bimetallic Sheets in Single Point Incremental Sheet Forming",
         "type": "article",
         "volume": "16",
         "year": 2022
        }
       ]
      },
      "text/plain": [
       "<dimcli.DslDataset object #140167466463136. Records: 20/144775>"
      ]
     },
     "execution_count": 53,
     "metadata": {
      "application/json": {
       "expanded": false,
       "root": "root"
      }
     },
     "output_type": "execute_result"
    }
   ],
   "source": [
    "dsl.query(fr'''search publications where year in [2010:2022] \n",
    "          for \"({query_icu}) AND ({query_ai})\" return publications''')"
   ]
  },
  {
   "cell_type": "code",
   "execution_count": null,
   "id": "17a57ae5-ca82-43ee-bb8e-f9f5eaa976eb",
   "metadata": {},
   "outputs": [],
   "source": []
  }
 ],
 "metadata": {
  "kernelspec": {
   "display_name": "Python 3 (ipykernel)",
   "language": "python",
   "name": "python3"
  },
  "language_info": {
   "codemirror_mode": {
    "name": "ipython",
    "version": 3
   },
   "file_extension": ".py",
   "mimetype": "text/x-python",
   "name": "python",
   "nbconvert_exporter": "python",
   "pygments_lexer": "ipython3",
   "version": "3.9.12"
  }
 },
 "nbformat": 4,
 "nbformat_minor": 5
}
